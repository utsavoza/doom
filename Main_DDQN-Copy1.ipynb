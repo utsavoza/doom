{
 "cells": [
  {
   "cell_type": "code",
   "execution_count": 2,
   "id": "7422d8cd",
   "metadata": {},
   "outputs": [
    {
     "name": "stdout",
     "output_type": "stream",
     "text": [
      "Creating game environment ...\n",
      "Game environment initialized ...\n",
      "Using device=cuda ...\n",
      "Initializing New Model\n",
      "\n",
      "Epoch #1\n"
     ]
    },
    {
     "name": "stderr",
     "output_type": "stream",
     "text": [
      "100%|██████████████████████████████████████████████████████████████████████████████| 2000/2000 [05:18<00:00,  6.28it/s]\n"
     ]
    },
    {
     "name": "stdout",
     "output_type": "stream",
     "text": [
      "Results (Train): mean: -46.2 +/- 115.9, min: -370.0, max: 66.0,\n",
      "\n",
      "Testing...\n"
     ]
    },
    {
     "name": "stderr",
     "output_type": "stream",
     "text": [
      "                                                                                                                       \r"
     ]
    },
    {
     "name": "stdout",
     "output_type": "stream",
     "text": [
      "Results (Test): mean: 62.4 +/- 7.7, min: 42.0 max: 66.0\n",
      "Saving the network weights to: checkpoints/Doom_DoubleDQN.pth\n",
      "Total elapsed time: 5.37 minutes\n",
      "\n",
      "Epoch #2\n"
     ]
    },
    {
     "name": "stderr",
     "output_type": "stream",
     "text": [
      "100%|██████████████████████████████████████████████████████████████████████████████| 2000/2000 [05:32<00:00,  6.01it/s]\n"
     ]
    },
    {
     "name": "stdout",
     "output_type": "stream",
     "text": [
      "Results (Train): mean: 18.4 +/- 72.7, min: -360.0, max: 66.0,\n",
      "\n",
      "Testing...\n"
     ]
    },
    {
     "name": "stderr",
     "output_type": "stream",
     "text": [
      "                                                                                                                       \r"
     ]
    },
    {
     "name": "stdout",
     "output_type": "stream",
     "text": [
      "Results (Test): mean: 18.7 +/- 81.1, min: -187.0 max: 66.0\n",
      "Saving the network weights to: checkpoints/Doom_DoubleDQN.pth\n",
      "Total elapsed time: 11.03 minutes\n",
      "\n",
      "Epoch #3\n"
     ]
    },
    {
     "name": "stderr",
     "output_type": "stream",
     "text": [
      "100%|██████████████████████████████████████████████████████████████████████████████| 2000/2000 [05:40<00:00,  5.88it/s]\n"
     ]
    },
    {
     "name": "stdout",
     "output_type": "stream",
     "text": [
      "Results (Train): mean: 9.0 +/- 71.6, min: -365.0, max: 66.0,\n",
      "\n",
      "Testing...\n"
     ]
    },
    {
     "name": "stderr",
     "output_type": "stream",
     "text": [
      "                                                                                                                       \r"
     ]
    },
    {
     "name": "stdout",
     "output_type": "stream",
     "text": [
      "Results (Test): mean: 14.9 +/- 21.0, min: -7.0 max: 42.0\n",
      "Saving the network weights to: checkpoints/Doom_DoubleDQN.pth\n",
      "Total elapsed time: 16.83 minutes\n",
      "\n",
      "Epoch #4\n"
     ]
    },
    {
     "name": "stderr",
     "output_type": "stream",
     "text": [
      "100%|██████████████████████████████████████████████████████████████████████████████| 2000/2000 [05:35<00:00,  5.95it/s]\n"
     ]
    },
    {
     "name": "stdout",
     "output_type": "stream",
     "text": [
      "Results (Train): mean: 10.6 +/- 67.7, min: -355.0, max: 66.0,\n",
      "\n",
      "Testing...\n"
     ]
    },
    {
     "name": "stderr",
     "output_type": "stream",
     "text": [
      "                                                                                                                       \r"
     ]
    },
    {
     "name": "stdout",
     "output_type": "stream",
     "text": [
      "Results (Test): mean: 12.1 +/- 36.8, min: -70.0 max: 42.0\n",
      "Saving the network weights to: checkpoints/Doom_DoubleDQN.pth\n",
      "Total elapsed time: 22.56 minutes\n",
      "\n",
      "Epoch #5\n"
     ]
    },
    {
     "name": "stderr",
     "output_type": "stream",
     "text": [
      "100%|██████████████████████████████████████████████████████████████████████████████| 2000/2000 [05:34<00:00,  5.98it/s]\n"
     ]
    },
    {
     "name": "stdout",
     "output_type": "stream",
     "text": [
      "Results (Train): mean: 19.0 +/- 54.7, min: -360.0, max: 66.0,\n",
      "\n",
      "Testing...\n"
     ]
    },
    {
     "name": "stderr",
     "output_type": "stream",
     "text": [
      "                                                                                                                       \r"
     ]
    },
    {
     "name": "stdout",
     "output_type": "stream",
     "text": [
      "Results (Test): mean: 26.2 +/- 33.4, min: -46.0 max: 66.0\n",
      "Saving the network weights to: checkpoints/Doom_DoubleDQN.pth\n",
      "Total elapsed time: 28.25 minutes\n",
      "\n",
      "Epoch #6\n"
     ]
    },
    {
     "name": "stderr",
     "output_type": "stream",
     "text": [
      "100%|██████████████████████████████████████████████████████████████████████████████| 2000/2000 [05:44<00:00,  5.81it/s]\n"
     ]
    },
    {
     "name": "stdout",
     "output_type": "stream",
     "text": [
      "Results (Train): mean: 14.4 +/- 65.4, min: -355.0, max: 66.0,\n",
      "\n",
      "Testing...\n"
     ]
    },
    {
     "name": "stderr",
     "output_type": "stream",
     "text": [
      "                                                                                                                       \r"
     ]
    },
    {
     "name": "stdout",
     "output_type": "stream",
     "text": [
      "Results (Test): mean: -10.6 +/- 80.2, min: -177.0 max: 42.0\n",
      "Saving the network weights to: checkpoints/Doom_DoubleDQN.pth\n",
      "Total elapsed time: 34.14 minutes\n",
      "\n",
      "Epoch #7\n"
     ]
    },
    {
     "name": "stderr",
     "output_type": "stream",
     "text": [
      "100%|██████████████████████████████████████████████████████████████████████████████| 2000/2000 [05:40<00:00,  5.87it/s]\n"
     ]
    },
    {
     "name": "stdout",
     "output_type": "stream",
     "text": [
      "Results (Train): mean: 15.1 +/- 74.8, min: -360.0, max: 66.0,\n",
      "\n",
      "Testing...\n"
     ]
    },
    {
     "name": "stderr",
     "output_type": "stream",
     "text": [
      "                                                                                                                       \r"
     ]
    },
    {
     "name": "stdout",
     "output_type": "stream",
     "text": [
      "Results (Test): mean: 20.4 +/- 46.2, min: -108.0 max: 66.0\n",
      "Saving the network weights to: checkpoints/Doom_DoubleDQN.pth\n",
      "Total elapsed time: 39.95 minutes\n",
      "\n",
      "Epoch #8\n"
     ]
    },
    {
     "name": "stderr",
     "output_type": "stream",
     "text": [
      "100%|██████████████████████████████████████████████████████████████████████████████| 2000/2000 [05:52<00:00,  5.68it/s]\n"
     ]
    },
    {
     "name": "stdout",
     "output_type": "stream",
     "text": [
      "Results (Train): mean: 25.5 +/- 65.9, min: -370.0, max: 66.0,\n",
      "\n",
      "Testing...\n"
     ]
    },
    {
     "name": "stderr",
     "output_type": "stream",
     "text": [
      "                                                                                                                       \r"
     ]
    },
    {
     "name": "stdout",
     "output_type": "stream",
     "text": [
      "Results (Test): mean: 43.2 +/- 12.7, min: 25.0 max: 66.0\n",
      "Saving the network weights to: checkpoints/Doom_DoubleDQN.pth\n",
      "Total elapsed time: 45.92 minutes\n",
      "\n",
      "Epoch #9\n"
     ]
    },
    {
     "name": "stderr",
     "output_type": "stream",
     "text": [
      "100%|██████████████████████████████████████████████████████████████████████████████| 2000/2000 [05:48<00:00,  5.74it/s]\n"
     ]
    },
    {
     "name": "stdout",
     "output_type": "stream",
     "text": [
      "Results (Train): mean: 23.9 +/- 72.1, min: -365.0, max: 66.0,\n",
      "\n",
      "Testing...\n"
     ]
    },
    {
     "name": "stderr",
     "output_type": "stream",
     "text": [
      "                                                                                                                       \r"
     ]
    },
    {
     "name": "stdout",
     "output_type": "stream",
     "text": [
      "Results (Test): mean: 43.6 +/- 24.3, min: 5.0 max: 66.0\n",
      "Saving the network weights to: checkpoints/Doom_DoubleDQN.pth\n",
      "Total elapsed time: 51.83 minutes\n",
      "\n",
      "Epoch #10\n"
     ]
    },
    {
     "name": "stderr",
     "output_type": "stream",
     "text": [
      "100%|██████████████████████████████████████████████████████████████████████████████| 2000/2000 [05:19<00:00,  6.26it/s]\n"
     ]
    },
    {
     "name": "stdout",
     "output_type": "stream",
     "text": [
      "Results (Train): mean: 22.7 +/- 69.8, min: -365.0, max: 66.0,\n",
      "\n",
      "Testing...\n"
     ]
    },
    {
     "name": "stderr",
     "output_type": "stream",
     "text": [
      "                                                                                                                       \r"
     ]
    },
    {
     "name": "stdout",
     "output_type": "stream",
     "text": [
      "Results (Test): mean: 33.8 +/- 53.8, min: -119.0 max: 66.0\n",
      "Saving the network weights to: checkpoints/Doom_DoubleDQN.pth\n",
      "Total elapsed time: 57.24 minutes\n",
      "\n",
      "Epoch #11\n"
     ]
    },
    {
     "name": "stderr",
     "output_type": "stream",
     "text": [
      "100%|██████████████████████████████████████████████████████████████████████████████| 2000/2000 [05:20<00:00,  6.25it/s]\n"
     ]
    },
    {
     "name": "stdout",
     "output_type": "stream",
     "text": [
      "Results (Train): mean: 28.3 +/- 61.5, min: -365.0, max: 66.0,\n",
      "\n",
      "Testing...\n"
     ]
    },
    {
     "name": "stderr",
     "output_type": "stream",
     "text": [
      "                                                                                                                       \r"
     ]
    },
    {
     "name": "stdout",
     "output_type": "stream",
     "text": [
      "Results (Test): mean: 44.1 +/- 31.8, min: -32.0 max: 66.0\n",
      "Saving the network weights to: checkpoints/Doom_DoubleDQN.pth\n",
      "Total elapsed time: 62.67 minutes\n",
      "\n",
      "Epoch #12\n"
     ]
    },
    {
     "name": "stderr",
     "output_type": "stream",
     "text": [
      "100%|██████████████████████████████████████████████████████████████████████████████| 2000/2000 [05:36<00:00,  5.95it/s]\n"
     ]
    },
    {
     "name": "stdout",
     "output_type": "stream",
     "text": [
      "Results (Train): mean: 30.9 +/- 63.5, min: -360.0, max: 66.0,\n",
      "\n",
      "Testing...\n"
     ]
    },
    {
     "name": "stderr",
     "output_type": "stream",
     "text": [
      "                                                                                                                       \r"
     ]
    },
    {
     "name": "stdout",
     "output_type": "stream",
     "text": [
      "Results (Test): mean: 43.3 +/- 37.5, min: -40.0 max: 66.0\n",
      "Saving the network weights to: checkpoints/Doom_DoubleDQN.pth\n",
      "Total elapsed time: 68.35 minutes\n",
      "\n",
      "Epoch #13\n"
     ]
    },
    {
     "name": "stderr",
     "output_type": "stream",
     "text": [
      "100%|██████████████████████████████████████████████████████████████████████████████| 2000/2000 [05:18<00:00,  6.29it/s]\n"
     ]
    },
    {
     "name": "stdout",
     "output_type": "stream",
     "text": [
      "Results (Train): mean: 24.8 +/- 58.9, min: -340.0, max: 66.0,\n",
      "\n",
      "Testing...\n"
     ]
    },
    {
     "name": "stderr",
     "output_type": "stream",
     "text": [
      "                                                                                                                       \r"
     ]
    },
    {
     "name": "stdout",
     "output_type": "stream",
     "text": [
      "Results (Test): mean: 27.5 +/- 12.9, min: 18.0 max: 54.0\n",
      "Saving the network weights to: checkpoints/Doom_DoubleDQN.pth\n",
      "Total elapsed time: 73.76 minutes\n",
      "\n",
      "Epoch #14\n"
     ]
    },
    {
     "name": "stderr",
     "output_type": "stream",
     "text": [
      "100%|██████████████████████████████████████████████████████████████████████████████| 2000/2000 [05:26<00:00,  6.13it/s]\n"
     ]
    },
    {
     "name": "stdout",
     "output_type": "stream",
     "text": [
      "Results (Train): mean: 11.7 +/- 64.7, min: -350.0, max: 66.0,\n",
      "\n",
      "Testing...\n"
     ]
    },
    {
     "name": "stderr",
     "output_type": "stream",
     "text": [
      "                                                                                                                       \r"
     ]
    },
    {
     "name": "stdout",
     "output_type": "stream",
     "text": [
      "Results (Test): mean: 31.4 +/- 22.3, min: -9.0 max: 66.0\n",
      "Saving the network weights to: checkpoints/Doom_DoubleDQN.pth\n",
      "Total elapsed time: 79.30 minutes\n",
      "\n",
      "Epoch #15\n"
     ]
    },
    {
     "name": "stderr",
     "output_type": "stream",
     "text": [
      "100%|██████████████████████████████████████████████████████████████████████████████| 2000/2000 [05:23<00:00,  6.18it/s]\n"
     ]
    },
    {
     "name": "stdout",
     "output_type": "stream",
     "text": [
      "Results (Train): mean: 16.1 +/- 75.7, min: -360.0, max: 66.0,\n",
      "\n",
      "Testing...\n"
     ]
    },
    {
     "name": "stderr",
     "output_type": "stream",
     "text": [
      "                                                                                                                       \r"
     ]
    },
    {
     "name": "stdout",
     "output_type": "stream",
     "text": [
      "Results (Test): mean: 49.2 +/- 17.1, min: 6.0 max: 66.0\n",
      "Saving the network weights to: checkpoints/Doom_DoubleDQN.pth\n",
      "Total elapsed time: 84.78 minutes\n",
      "\n",
      "Epoch #16\n"
     ]
    },
    {
     "name": "stderr",
     "output_type": "stream",
     "text": [
      "100%|██████████████████████████████████████████████████████████████████████████████| 2000/2000 [05:34<00:00,  5.98it/s]\n"
     ]
    },
    {
     "name": "stdout",
     "output_type": "stream",
     "text": [
      "Results (Train): mean: 17.9 +/- 79.6, min: -355.0, max: 66.0,\n",
      "\n",
      "Testing...\n"
     ]
    },
    {
     "name": "stderr",
     "output_type": "stream",
     "text": [
      "                                                                                                                       \r"
     ]
    },
    {
     "name": "stdout",
     "output_type": "stream",
     "text": [
      "Results (Test): mean: 25.6 +/- 32.0, min: -42.0 max: 66.0\n",
      "Saving the network weights to: checkpoints/Doom_DoubleDQN.pth\n",
      "Total elapsed time: 90.45 minutes\n",
      "\n",
      "Epoch #17\n"
     ]
    },
    {
     "name": "stderr",
     "output_type": "stream",
     "text": [
      "100%|██████████████████████████████████████████████████████████████████████████████| 2000/2000 [05:31<00:00,  6.03it/s]\n"
     ]
    },
    {
     "name": "stdout",
     "output_type": "stream",
     "text": [
      "Results (Train): mean: 12.6 +/- 87.6, min: -365.0, max: 66.0,\n",
      "\n",
      "Testing...\n"
     ]
    },
    {
     "name": "stderr",
     "output_type": "stream",
     "text": [
      "                                                                                                                       \r"
     ]
    },
    {
     "name": "stdout",
     "output_type": "stream",
     "text": [
      "Results (Test): mean: 18.6 +/- 32.4, min: -11.0 max: 66.0\n",
      "Saving the network weights to: checkpoints/Doom_DoubleDQN.pth\n",
      "Total elapsed time: 96.10 minutes\n",
      "\n",
      "Epoch #18\n"
     ]
    },
    {
     "name": "stderr",
     "output_type": "stream",
     "text": [
      "100%|██████████████████████████████████████████████████████████████████████████████| 2000/2000 [05:25<00:00,  6.15it/s]\n"
     ]
    },
    {
     "name": "stdout",
     "output_type": "stream",
     "text": [
      "Results (Train): mean: 23.3 +/- 61.8, min: -355.0, max: 66.0,\n",
      "\n",
      "Testing...\n"
     ]
    },
    {
     "name": "stderr",
     "output_type": "stream",
     "text": [
      "                                                                                                                       \r"
     ]
    },
    {
     "name": "stdout",
     "output_type": "stream",
     "text": [
      "Results (Test): mean: -33.5 +/- 117.8, min: -355.0 max: 66.0\n",
      "Saving the network weights to: checkpoints/Doom_DoubleDQN.pth\n",
      "Total elapsed time: 101.66 minutes\n",
      "\n",
      "Epoch #19\n"
     ]
    },
    {
     "name": "stderr",
     "output_type": "stream",
     "text": [
      "100%|██████████████████████████████████████████████████████████████████████████████| 2000/2000 [05:23<00:00,  6.18it/s]\n"
     ]
    },
    {
     "name": "stdout",
     "output_type": "stream",
     "text": [
      "Results (Train): mean: 9.5 +/- 68.8, min: -365.0, max: 66.0,\n",
      "\n",
      "Testing...\n"
     ]
    },
    {
     "name": "stderr",
     "output_type": "stream",
     "text": [
      "                                                                                                                       \r"
     ]
    },
    {
     "name": "stdout",
     "output_type": "stream",
     "text": [
      "Results (Test): mean: 22.3 +/- 33.6, min: -30.0 max: 66.0\n",
      "Saving the network weights to: checkpoints/Doom_DoubleDQN.pth\n",
      "Total elapsed time: 107.16 minutes\n",
      "\n",
      "Epoch #20\n"
     ]
    },
    {
     "name": "stderr",
     "output_type": "stream",
     "text": [
      "100%|██████████████████████████████████████████████████████████████████████████████| 2000/2000 [05:43<00:00,  5.83it/s]\n"
     ]
    },
    {
     "name": "stdout",
     "output_type": "stream",
     "text": [
      "Results (Train): mean: 4.7 +/- 81.1, min: -365.0, max: 66.0,\n",
      "\n",
      "Testing...\n"
     ]
    },
    {
     "name": "stderr",
     "output_type": "stream",
     "text": [
      "                                                                                                                       \r"
     ]
    },
    {
     "name": "stdout",
     "output_type": "stream",
     "text": [
      "Results (Test): mean: -15.5 +/- 115.0, min: -350.0 max: 54.0\n",
      "Saving the network weights to: checkpoints/Doom_DoubleDQN.pth\n",
      "Total elapsed time: 113.03 minutes\n",
      "\n",
      "Epoch #21\n"
     ]
    },
    {
     "name": "stderr",
     "output_type": "stream",
     "text": [
      "100%|██████████████████████████████████████████████████████████████████████████████| 2000/2000 [05:44<00:00,  5.81it/s]\n"
     ]
    },
    {
     "name": "stdout",
     "output_type": "stream",
     "text": [
      "Results (Train): mean: 20.4 +/- 64.2, min: -350.0, max: 66.0,\n",
      "\n",
      "Testing...\n"
     ]
    },
    {
     "name": "stderr",
     "output_type": "stream",
     "text": [
      "                                                                                                                       \r"
     ]
    },
    {
     "name": "stdout",
     "output_type": "stream",
     "text": [
      "Results (Test): mean: 44.4 +/- 27.8, min: -18.0 max: 66.0\n",
      "Saving the network weights to: checkpoints/Doom_DoubleDQN.pth\n",
      "Total elapsed time: 118.84 minutes\n",
      "\n",
      "Epoch #22\n"
     ]
    },
    {
     "name": "stderr",
     "output_type": "stream",
     "text": [
      "100%|██████████████████████████████████████████████████████████████████████████████| 2000/2000 [05:19<00:00,  6.26it/s]\n"
     ]
    },
    {
     "name": "stdout",
     "output_type": "stream",
     "text": [
      "Results (Train): mean: 5.3 +/- 78.4, min: -360.0, max: 66.0,\n",
      "\n",
      "Testing...\n"
     ]
    },
    {
     "name": "stderr",
     "output_type": "stream",
     "text": [
      "                                                                                                                       \r"
     ]
    },
    {
     "name": "stdout",
     "output_type": "stream",
     "text": [
      "Results (Test): mean: -4.5 +/- 57.3, min: -153.0 max: 54.0\n",
      "Saving the network weights to: checkpoints/Doom_DoubleDQN.pth\n",
      "Total elapsed time: 124.30 minutes\n",
      "\n",
      "Epoch #23\n"
     ]
    },
    {
     "name": "stderr",
     "output_type": "stream",
     "text": [
      "100%|██████████████████████████████████████████████████████████████████████████████| 2000/2000 [05:16<00:00,  6.32it/s]\n"
     ]
    },
    {
     "name": "stdout",
     "output_type": "stream",
     "text": [
      "Results (Train): mean: -2.6 +/- 64.3, min: -360.0, max: 66.0,\n",
      "\n",
      "Testing...\n"
     ]
    },
    {
     "name": "stderr",
     "output_type": "stream",
     "text": [
      "                                                                                                                       \r"
     ]
    },
    {
     "name": "stdout",
     "output_type": "stream",
     "text": [
      "Results (Test): mean: 1.8 +/- 48.6, min: -74.0 max: 66.0\n",
      "Saving the network weights to: checkpoints/Doom_DoubleDQN.pth\n",
      "Total elapsed time: 129.70 minutes\n",
      "\n",
      "Epoch #24\n"
     ]
    },
    {
     "name": "stderr",
     "output_type": "stream",
     "text": [
      "100%|██████████████████████████████████████████████████████████████████████████████| 2000/2000 [05:27<00:00,  6.10it/s]\n"
     ]
    },
    {
     "name": "stdout",
     "output_type": "stream",
     "text": [
      "Results (Train): mean: 6.3 +/- 60.7, min: -325.0, max: 66.0,\n",
      "\n",
      "Testing...\n"
     ]
    },
    {
     "name": "stderr",
     "output_type": "stream",
     "text": [
      "                                                                                                                       \r"
     ]
    },
    {
     "name": "stdout",
     "output_type": "stream",
     "text": [
      "Results (Test): mean: 2.8 +/- 43.1, min: -98.0 max: 66.0\n",
      "Saving the network weights to: checkpoints/Doom_DoubleDQN.pth\n",
      "Total elapsed time: 135.29 minutes\n",
      "\n",
      "Epoch #25\n"
     ]
    },
    {
     "name": "stderr",
     "output_type": "stream",
     "text": [
      "100%|██████████████████████████████████████████████████████████████████████████████| 2000/2000 [05:38<00:00,  5.90it/s]\n"
     ]
    },
    {
     "name": "stdout",
     "output_type": "stream",
     "text": [
      "Results (Train): mean: -11.4 +/- 81.3, min: -360.0, max: 66.0,\n",
      "\n",
      "Testing...\n"
     ]
    },
    {
     "name": "stderr",
     "output_type": "stream",
     "text": [
      "                                                                                                                       \r"
     ]
    },
    {
     "name": "stdout",
     "output_type": "stream",
     "text": [
      "Results (Test): mean: -21.5 +/- 75.5, min: -148.0 max: 66.0\n",
      "Saving the network weights to: checkpoints/Doom_DoubleDQN.pth\n",
      "Total elapsed time: 141.10 minutes\n",
      "\n",
      "Epoch #26\n"
     ]
    },
    {
     "name": "stderr",
     "output_type": "stream",
     "text": [
      "100%|██████████████████████████████████████████████████████████████████████████████| 2000/2000 [05:22<00:00,  6.21it/s]\n"
     ]
    },
    {
     "name": "stdout",
     "output_type": "stream",
     "text": [
      "Results (Train): mean: -16.1 +/- 86.6, min: -350.0, max: 66.0,\n",
      "\n",
      "Testing...\n"
     ]
    },
    {
     "name": "stderr",
     "output_type": "stream",
     "text": [
      "                                                                                                                       \r"
     ]
    },
    {
     "name": "stdout",
     "output_type": "stream",
     "text": [
      "Results (Test): mean: 2.1 +/- 41.7, min: -98.0 max: 66.0\n",
      "Saving the network weights to: checkpoints/Doom_DoubleDQN.pth\n",
      "Total elapsed time: 146.60 minutes\n",
      "\n",
      "Epoch #27\n"
     ]
    },
    {
     "name": "stderr",
     "output_type": "stream",
     "text": [
      "100%|██████████████████████████████████████████████████████████████████████████████| 2000/2000 [05:29<00:00,  6.07it/s]\n"
     ]
    },
    {
     "name": "stdout",
     "output_type": "stream",
     "text": [
      "Results (Train): mean: 8.3 +/- 79.0, min: -365.0, max: 66.0,\n",
      "\n",
      "Testing...\n"
     ]
    },
    {
     "name": "stderr",
     "output_type": "stream",
     "text": [
      "                                                                                                                       \r"
     ]
    },
    {
     "name": "stdout",
     "output_type": "stream",
     "text": [
      "Results (Test): mean: 37.2 +/- 34.2, min: -53.0 max: 66.0\n",
      "Saving the network weights to: checkpoints/Doom_DoubleDQN.pth\n",
      "Total elapsed time: 152.18 minutes\n",
      "\n",
      "Epoch #28\n"
     ]
    },
    {
     "name": "stderr",
     "output_type": "stream",
     "text": [
      "100%|██████████████████████████████████████████████████████████████████████████████| 2000/2000 [05:41<00:00,  5.85it/s]\n"
     ]
    },
    {
     "name": "stdout",
     "output_type": "stream",
     "text": [
      "Results (Train): mean: 16.5 +/- 61.3, min: -350.0, max: 66.0,\n",
      "\n",
      "Testing...\n"
     ]
    },
    {
     "name": "stderr",
     "output_type": "stream",
     "text": [
      "                                                                                                                       \r"
     ]
    },
    {
     "name": "stdout",
     "output_type": "stream",
     "text": [
      "Results (Test): mean: 58.3 +/- 16.0, min: 18.0 max: 66.0\n",
      "Saving the network weights to: checkpoints/Doom_DoubleDQN.pth\n",
      "Total elapsed time: 157.94 minutes\n",
      "\n",
      "Epoch #29\n"
     ]
    },
    {
     "name": "stderr",
     "output_type": "stream",
     "text": [
      "100%|██████████████████████████████████████████████████████████████████████████████| 2000/2000 [05:42<00:00,  5.84it/s]\n"
     ]
    },
    {
     "name": "stdout",
     "output_type": "stream",
     "text": [
      "Results (Train): mean: 23.8 +/- 48.3, min: -310.0, max: 66.0,\n",
      "\n",
      "Testing...\n"
     ]
    },
    {
     "name": "stderr",
     "output_type": "stream",
     "text": [
      "                                                                                                                       \r"
     ]
    },
    {
     "name": "stdout",
     "output_type": "stream",
     "text": [
      "Results (Test): mean: 13.8 +/- 32.1, min: -59.0 max: 54.0\n",
      "Saving the network weights to: checkpoints/Doom_DoubleDQN.pth\n",
      "Total elapsed time: 163.77 minutes\n",
      "\n",
      "Epoch #30\n"
     ]
    },
    {
     "name": "stderr",
     "output_type": "stream",
     "text": [
      "100%|██████████████████████████████████████████████████████████████████████████████| 2000/2000 [05:52<00:00,  5.67it/s]\n"
     ]
    },
    {
     "name": "stdout",
     "output_type": "stream",
     "text": [
      "Results (Train): mean: 9.3 +/- 93.1, min: -365.0, max: 66.0,\n",
      "\n",
      "Testing...\n"
     ]
    },
    {
     "name": "stderr",
     "output_type": "stream",
     "text": [
      "                                                                                                                       \r"
     ]
    },
    {
     "name": "stdout",
     "output_type": "stream",
     "text": [
      "Results (Test): mean: -2.9 +/- 42.4, min: -86.0 max: 42.0\n",
      "Saving the network weights to: checkpoints/Doom_DoubleDQN.pth\n",
      "Total elapsed time: 169.81 minutes\n",
      "\n",
      "Epoch #31\n"
     ]
    },
    {
     "name": "stderr",
     "output_type": "stream",
     "text": [
      "100%|██████████████████████████████████████████████████████████████████████████████| 2000/2000 [05:55<00:00,  5.62it/s]\n"
     ]
    },
    {
     "name": "stdout",
     "output_type": "stream",
     "text": [
      "Results (Train): mean: 7.6 +/- 77.8, min: -365.0, max: 66.0,\n",
      "\n",
      "Testing...\n"
     ]
    },
    {
     "name": "stderr",
     "output_type": "stream",
     "text": [
      "                                                                                                                       \r"
     ]
    },
    {
     "name": "stdout",
     "output_type": "stream",
     "text": [
      "Results (Test): mean: 18.9 +/- 30.1, min: -47.0 max: 66.0\n",
      "Saving the network weights to: checkpoints/Doom_DoubleDQN.pth\n",
      "Total elapsed time: 175.89 minutes\n",
      "\n",
      "Epoch #32\n"
     ]
    },
    {
     "name": "stderr",
     "output_type": "stream",
     "text": [
      "100%|██████████████████████████████████████████████████████████████████████████████| 2000/2000 [05:46<00:00,  5.77it/s]\n"
     ]
    },
    {
     "name": "stdout",
     "output_type": "stream",
     "text": [
      "Results (Train): mean: 15.4 +/- 62.0, min: -360.0, max: 66.0,\n",
      "\n",
      "Testing...\n"
     ]
    },
    {
     "name": "stderr",
     "output_type": "stream",
     "text": [
      "                                                                                                                       \r"
     ]
    },
    {
     "name": "stdout",
     "output_type": "stream",
     "text": [
      "Results (Test): mean: 16.9 +/- 46.7, min: -64.0 max: 66.0\n",
      "Saving the network weights to: checkpoints/Doom_DoubleDQN.pth\n",
      "Total elapsed time: 181.78 minutes\n",
      "\n",
      "Epoch #33\n"
     ]
    },
    {
     "name": "stderr",
     "output_type": "stream",
     "text": [
      "100%|██████████████████████████████████████████████████████████████████████████████| 2000/2000 [03:49<00:00,  8.71it/s]\n"
     ]
    },
    {
     "name": "stdout",
     "output_type": "stream",
     "text": [
      "Results (Train): mean: 15.4 +/- 64.2, min: -345.0, max: 66.0,\n",
      "\n",
      "Testing...\n"
     ]
    },
    {
     "name": "stderr",
     "output_type": "stream",
     "text": [
      "                                                                                                                       \r"
     ]
    },
    {
     "name": "stdout",
     "output_type": "stream",
     "text": [
      "Results (Test): mean: 27.2 +/- 18.0, min: 5.0 max: 54.0\n",
      "Saving the network weights to: checkpoints/Doom_DoubleDQN.pth\n",
      "Total elapsed time: 185.73 minutes\n",
      "\n",
      "Epoch #34\n"
     ]
    },
    {
     "name": "stderr",
     "output_type": "stream",
     "text": [
      "100%|██████████████████████████████████████████████████████████████████████████████| 2000/2000 [04:58<00:00,  6.69it/s]\n"
     ]
    },
    {
     "name": "stdout",
     "output_type": "stream",
     "text": [
      "Results (Train): mean: 1.9 +/- 73.1, min: -365.0, max: 66.0,\n",
      "\n",
      "Testing...\n"
     ]
    },
    {
     "name": "stderr",
     "output_type": "stream",
     "text": [
      "                                                                                                                       \r"
     ]
    },
    {
     "name": "stdout",
     "output_type": "stream",
     "text": [
      "Results (Test): mean: -10.1 +/- 50.8, min: -138.0 max: 54.0\n",
      "Saving the network weights to: checkpoints/Doom_DoubleDQN.pth\n",
      "Total elapsed time: 190.86 minutes\n",
      "\n",
      "Epoch #35\n"
     ]
    },
    {
     "name": "stderr",
     "output_type": "stream",
     "text": [
      "100%|██████████████████████████████████████████████████████████████████████████████| 2000/2000 [05:31<00:00,  6.03it/s]\n"
     ]
    },
    {
     "name": "stdout",
     "output_type": "stream",
     "text": [
      "Results (Train): mean: -3.0 +/- 81.7, min: -355.0, max: 66.0,\n",
      "\n",
      "Testing...\n"
     ]
    },
    {
     "name": "stderr",
     "output_type": "stream",
     "text": [
      "                                                                                                                       \r"
     ]
    },
    {
     "name": "stdout",
     "output_type": "stream",
     "text": [
      "Results (Test): mean: -79.6 +/- 101.2, min: -300.0 max: 54.0\n",
      "Saving the network weights to: checkpoints/Doom_DoubleDQN.pth\n",
      "Total elapsed time: 196.63 minutes\n",
      "\n",
      "Epoch #36\n"
     ]
    },
    {
     "name": "stderr",
     "output_type": "stream",
     "text": [
      "100%|██████████████████████████████████████████████████████████████████████████████| 2000/2000 [05:12<00:00,  6.40it/s]\n"
     ]
    },
    {
     "name": "stdout",
     "output_type": "stream",
     "text": [
      "Results (Train): mean: -17.0 +/- 88.2, min: -335.0, max: 66.0,\n",
      "\n",
      "Testing...\n"
     ]
    },
    {
     "name": "stderr",
     "output_type": "stream",
     "text": [
      "                                                                                                                       \r"
     ]
    },
    {
     "name": "stdout",
     "output_type": "stream",
     "text": [
      "Results (Test): mean: -152.1 +/- 150.2, min: -340.0 max: 42.0\n",
      "Saving the network weights to: checkpoints/Doom_DoubleDQN.pth\n",
      "Total elapsed time: 202.10 minutes\n",
      "\n",
      "Epoch #37\n"
     ]
    },
    {
     "name": "stderr",
     "output_type": "stream",
     "text": [
      "100%|██████████████████████████████████████████████████████████████████████████████| 2000/2000 [05:15<00:00,  6.34it/s]\n"
     ]
    },
    {
     "name": "stdout",
     "output_type": "stream",
     "text": [
      "Results (Train): mean: -52.3 +/- 123.0, min: -350.0, max: 66.0,\n",
      "\n",
      "Testing...\n"
     ]
    },
    {
     "name": "stderr",
     "output_type": "stream",
     "text": [
      "                                                                                                                       \r"
     ]
    },
    {
     "name": "stdout",
     "output_type": "stream",
     "text": [
      "Results (Test): mean: -15.3 +/- 92.2, min: -206.0 max: 66.0\n",
      "Saving the network weights to: checkpoints/Doom_DoubleDQN.pth\n",
      "Total elapsed time: 207.53 minutes\n",
      "\n",
      "Epoch #38\n"
     ]
    },
    {
     "name": "stderr",
     "output_type": "stream",
     "text": [
      "100%|██████████████████████████████████████████████████████████████████████████████| 2000/2000 [05:14<00:00,  6.37it/s]\n"
     ]
    },
    {
     "name": "stdout",
     "output_type": "stream",
     "text": [
      "Results (Train): mean: -6.8 +/- 98.6, min: -345.0, max: 66.0,\n",
      "\n",
      "Testing...\n"
     ]
    },
    {
     "name": "stderr",
     "output_type": "stream",
     "text": [
      "                                                                                                                       \r"
     ]
    },
    {
     "name": "stdout",
     "output_type": "stream",
     "text": [
      "Results (Test): mean: 16.6 +/- 25.6, min: -19.0 max: 66.0\n",
      "Saving the network weights to: checkpoints/Doom_DoubleDQN.pth\n",
      "Total elapsed time: 212.88 minutes\n",
      "\n",
      "Epoch #39\n"
     ]
    },
    {
     "name": "stderr",
     "output_type": "stream",
     "text": [
      "100%|██████████████████████████████████████████████████████████████████████████████| 2000/2000 [05:08<00:00,  6.48it/s]\n"
     ]
    },
    {
     "name": "stdout",
     "output_type": "stream",
     "text": [
      "Results (Train): mean: 2.4 +/- 89.5, min: -340.0, max: 66.0,\n",
      "\n",
      "Testing...\n"
     ]
    },
    {
     "name": "stderr",
     "output_type": "stream",
     "text": [
      "                                                                                                                       \r"
     ]
    },
    {
     "name": "stdout",
     "output_type": "stream",
     "text": [
      "Results (Test): mean: -152.2 +/- 130.9, min: -310.0 max: 25.0\n",
      "Saving the network weights to: checkpoints/Doom_DoubleDQN.pth\n",
      "Total elapsed time: 218.28 minutes\n",
      "\n",
      "Epoch #40\n"
     ]
    },
    {
     "name": "stderr",
     "output_type": "stream",
     "text": [
      "100%|██████████████████████████████████████████████████████████████████████████████| 2000/2000 [04:59<00:00,  6.67it/s]\n"
     ]
    },
    {
     "name": "stdout",
     "output_type": "stream",
     "text": [
      "Results (Train): mean: -14.4 +/- 104.7, min: -345.0, max: 66.0,\n",
      "\n",
      "Testing...\n"
     ]
    },
    {
     "name": "stderr",
     "output_type": "stream",
     "text": [
      "                                                                                                                       \r"
     ]
    },
    {
     "name": "stdout",
     "output_type": "stream",
     "text": [
      "Results (Test): mean: -12.6 +/- 110.8, min: -300.0 max: 66.0\n",
      "Saving the network weights to: checkpoints/Doom_DoubleDQN.pth\n",
      "Total elapsed time: 223.40 minutes\n",
      "\n",
      "Epoch #41\n"
     ]
    },
    {
     "name": "stderr",
     "output_type": "stream",
     "text": [
      "100%|██████████████████████████████████████████████████████████████████████████████| 2000/2000 [05:07<00:00,  6.51it/s]\n"
     ]
    },
    {
     "name": "stdout",
     "output_type": "stream",
     "text": [
      "Results (Train): mean: -1.8 +/- 93.3, min: -330.0, max: 66.0,\n",
      "\n",
      "Testing...\n"
     ]
    },
    {
     "name": "stderr",
     "output_type": "stream",
     "text": [
      "                                                                                                                       \r"
     ]
    },
    {
     "name": "stdout",
     "output_type": "stream",
     "text": [
      "Results (Test): mean: -126.7 +/- 133.7, min: -305.0 max: 42.0\n",
      "Saving the network weights to: checkpoints/Doom_DoubleDQN.pth\n",
      "Total elapsed time: 228.75 minutes\n",
      "\n",
      "Epoch #42\n"
     ]
    },
    {
     "name": "stderr",
     "output_type": "stream",
     "text": [
      "100%|██████████████████████████████████████████████████████████████████████████████| 2000/2000 [05:03<00:00,  6.58it/s]\n"
     ]
    },
    {
     "name": "stdout",
     "output_type": "stream",
     "text": [
      "Results (Train): mean: -24.1 +/- 113.4, min: -335.0, max: 66.0,\n",
      "\n",
      "Testing...\n"
     ]
    },
    {
     "name": "stderr",
     "output_type": "stream",
     "text": [
      "                                                                                                                       \r"
     ]
    },
    {
     "name": "stdout",
     "output_type": "stream",
     "text": [
      "Results (Test): mean: -170.1 +/- 169.2, min: -325.0 max: 66.0\n",
      "Saving the network weights to: checkpoints/Doom_DoubleDQN.pth\n",
      "Total elapsed time: 234.06 minutes\n",
      "\n",
      "Epoch #43\n"
     ]
    },
    {
     "name": "stderr",
     "output_type": "stream",
     "text": [
      "100%|██████████████████████████████████████████████████████████████████████████████| 2000/2000 [04:48<00:00,  6.93it/s]\n"
     ]
    },
    {
     "name": "stdout",
     "output_type": "stream",
     "text": [
      "Results (Train): mean: -46.4 +/- 142.3, min: -350.0, max: 66.0,\n",
      "\n",
      "Testing...\n"
     ]
    },
    {
     "name": "stderr",
     "output_type": "stream",
     "text": [
      "                                                                                                                       \r"
     ]
    },
    {
     "name": "stdout",
     "output_type": "stream",
     "text": [
      "Results (Test): mean: -142.1 +/- 176.4, min: -325.0 max: 66.0\n",
      "Saving the network weights to: checkpoints/Doom_DoubleDQN.pth\n",
      "Total elapsed time: 239.09 minutes\n",
      "\n",
      "Epoch #44\n"
     ]
    },
    {
     "name": "stderr",
     "output_type": "stream",
     "text": [
      "100%|██████████████████████████████████████████████████████████████████████████████| 2000/2000 [05:00<00:00,  6.66it/s]\n"
     ]
    },
    {
     "name": "stdout",
     "output_type": "stream",
     "text": [
      "Results (Train): mean: -38.8 +/- 132.7, min: -345.0, max: 66.0,\n",
      "\n",
      "Testing...\n"
     ]
    },
    {
     "name": "stderr",
     "output_type": "stream",
     "text": [
      "                                                                                                                       \r"
     ]
    },
    {
     "name": "stdout",
     "output_type": "stream",
     "text": [
      "Results (Test): mean: 3.2 +/- 104.7, min: -305.0 max: 66.0\n",
      "Saving the network weights to: checkpoints/Doom_DoubleDQN.pth\n",
      "Total elapsed time: 244.21 minutes\n",
      "\n",
      "Epoch #45\n"
     ]
    },
    {
     "name": "stderr",
     "output_type": "stream",
     "text": [
      "100%|██████████████████████████████████████████████████████████████████████████████| 2000/2000 [04:52<00:00,  6.84it/s]\n"
     ]
    },
    {
     "name": "stdout",
     "output_type": "stream",
     "text": [
      "Results (Train): mean: -28.9 +/- 124.6, min: -345.0, max: 66.0,\n",
      "\n",
      "Testing...\n"
     ]
    },
    {
     "name": "stderr",
     "output_type": "stream",
     "text": [
      "                                                                                                                       \r"
     ]
    },
    {
     "name": "stdout",
     "output_type": "stream",
     "text": [
      "Results (Test): mean: 1.6 +/- 30.2, min: -64.0 max: 66.0\n",
      "Saving the network weights to: checkpoints/Doom_DoubleDQN.pth\n",
      "Total elapsed time: 249.19 minutes\n",
      "\n",
      "Epoch #46\n"
     ]
    },
    {
     "name": "stderr",
     "output_type": "stream",
     "text": [
      "100%|██████████████████████████████████████████████████████████████████████████████| 2000/2000 [04:56<00:00,  6.76it/s]\n"
     ]
    },
    {
     "name": "stdout",
     "output_type": "stream",
     "text": [
      "Results (Train): mean: -20.8 +/- 111.9, min: -345.0, max: 66.0,\n",
      "\n",
      "Testing...\n"
     ]
    },
    {
     "name": "stderr",
     "output_type": "stream",
     "text": [
      "                                                                                                                       \r"
     ]
    },
    {
     "name": "stdout",
     "output_type": "stream",
     "text": [
      "Results (Test): mean: -93.8 +/- 157.3, min: -305.0 max: 54.0\n",
      "Saving the network weights to: checkpoints/Doom_DoubleDQN.pth\n",
      "Total elapsed time: 254.31 minutes\n",
      "\n",
      "Epoch #47\n"
     ]
    },
    {
     "name": "stderr",
     "output_type": "stream",
     "text": [
      "100%|██████████████████████████████████████████████████████████████████████████████| 2000/2000 [04:50<00:00,  6.88it/s]\n"
     ]
    },
    {
     "name": "stdout",
     "output_type": "stream",
     "text": [
      "Results (Train): mean: -7.1 +/- 109.9, min: -355.0, max: 66.0,\n",
      "\n",
      "Testing...\n"
     ]
    },
    {
     "name": "stderr",
     "output_type": "stream",
     "text": [
      "                                                                                                                       \r"
     ]
    },
    {
     "name": "stdout",
     "output_type": "stream",
     "text": [
      "Results (Test): mean: -77.6 +/- 153.8, min: -315.0 max: 66.0\n",
      "Saving the network weights to: checkpoints/Doom_DoubleDQN.pth\n",
      "Total elapsed time: 259.34 minutes\n",
      "\n",
      "Epoch #48\n"
     ]
    },
    {
     "name": "stderr",
     "output_type": "stream",
     "text": [
      "100%|██████████████████████████████████████████████████████████████████████████████| 2000/2000 [04:36<00:00,  7.23it/s]\n"
     ]
    },
    {
     "name": "stdout",
     "output_type": "stream",
     "text": [
      "Results (Train): mean: -45.4 +/- 135.9, min: -335.0, max: 66.0,\n",
      "\n",
      "Testing...\n"
     ]
    },
    {
     "name": "stderr",
     "output_type": "stream",
     "text": [
      "                                                                                                                       \r"
     ]
    },
    {
     "name": "stdout",
     "output_type": "stream",
     "text": [
      "Results (Test): mean: -170.9 +/- 138.3, min: -325.0 max: 1.0\n",
      "Saving the network weights to: checkpoints/Doom_DoubleDQN.pth\n",
      "Total elapsed time: 264.24 minutes\n",
      "\n",
      "Epoch #49\n"
     ]
    },
    {
     "name": "stderr",
     "output_type": "stream",
     "text": [
      "100%|██████████████████████████████████████████████████████████████████████████████| 2000/2000 [03:50<00:00,  8.66it/s]\n"
     ]
    },
    {
     "name": "stdout",
     "output_type": "stream",
     "text": [
      "Results (Train): mean: -84.7 +/- 141.4, min: -355.0, max: 66.0,\n",
      "\n",
      "Testing...\n"
     ]
    },
    {
     "name": "stderr",
     "output_type": "stream",
     "text": [
      "                                                                                                                       \r"
     ]
    },
    {
     "name": "stdout",
     "output_type": "stream",
     "text": [
      "Results (Test): mean: -203.7 +/- 120.3, min: -335.0 max: 54.0\n",
      "Saving the network weights to: checkpoints/Doom_DoubleDQN.pth\n",
      "Total elapsed time: 268.45 minutes\n",
      "\n",
      "Epoch #50\n"
     ]
    },
    {
     "name": "stderr",
     "output_type": "stream",
     "text": [
      "100%|██████████████████████████████████████████████████████████████████████████████| 2000/2000 [03:51<00:00,  8.63it/s]\n"
     ]
    },
    {
     "name": "stdout",
     "output_type": "stream",
     "text": [
      "Results (Train): mean: -66.7 +/- 136.2, min: -335.0, max: 66.0,\n",
      "\n",
      "Testing...\n"
     ]
    },
    {
     "name": "stderr",
     "output_type": "stream",
     "text": [
      "                                                                                                                       \r"
     ]
    },
    {
     "name": "stdout",
     "output_type": "stream",
     "text": [
      "Results (Test): mean: -146.9 +/- 162.1, min: -310.0 max: 66.0\n",
      "Saving the network weights to: checkpoints/Doom_DoubleDQN.pth\n",
      "Total elapsed time: 272.61 minutes\n"
     ]
    },
    {
     "data": {
      "image/png": "[encoded data removed]",
      "text/plain": [
       "<Figure size 640x480 with 1 Axes>"
      ]
     },
     "metadata": {},
     "output_type": "display_data"
    },
    {
     "data": {
      "image/png": "[encoded data removed]",
      "text/plain": [
       "<Figure size 640x480 with 1 Axes>"
      ]
     },
     "metadata": {},
     "output_type": "display_data"
    },
    {
     "name": "stdout",
     "output_type": "stream",
     "text": [
      "======================================\n",
      "Training finished. It's time to watch!\n",
      "Total score:  25.0\n",
      "Total score:  77.0\n",
      "Total score:  42.0\n",
      "Total score:  14.0\n",
      "Total score:  25.0\n",
      "Total score:  24.0\n",
      "Total score:  -11.0\n",
      "Total score:  29.0\n",
      "Total score:  -9.0\n",
      "Total score:  25.0\n"
     ]
    }
   ],
   "source": [
    "import itertools as it\n",
    "import os\n",
    "from time import time, sleep\n",
    "\n",
    "import torch\n",
    "import vizdoom as vzd\n",
    "import skimage\n",
    "import numpy as np\n",
    "from tqdm import trange\n",
    "import matplotlib.pyplot as plt\n",
    "\n",
    "from DoubleDQNAgent import DoubleDQNAgent\n",
    "\n",
    "def plot(x, y, title, x_axis_name, y_axis_name):\n",
    "    plt.plot(x, y)\n",
    "    plt.title(title)\n",
    "    plt.xlabel(x_axis_name)\n",
    "    plt.ylabel(y_axis_name)\n",
    "    plt.show()\n",
    "\n",
    "def preprocess(img):\n",
    "    \"\"\"Down samples image to resolution\"\"\"\n",
    "    img = skimage.transform.resize(img, (30, 45))\n",
    "    img = img.astype(np.float32)\n",
    "    img = np.expand_dims(img, axis=0)\n",
    "    return img\n",
    "\n",
    "\n",
    "def create_game_environment(config_file_path):\n",
    "    print(\"Creating game environment ...\")\n",
    "    game = vzd.DoomGame()\n",
    "    game.load_config(config_file_path)\n",
    "    game.set_window_visible(False)\n",
    "    game.set_mode(vzd.Mode.PLAYER)\n",
    "    game.set_screen_format(vzd.ScreenFormat.GRAY8)\n",
    "    game.set_screen_resolution(vzd.ScreenResolution.RES_640X480)\n",
    "    game.init()\n",
    "    print(\"Game environment initialized ...\")\n",
    "    return game\n",
    "\n",
    "\n",
    "def test_agent(game, agent, actions, frame_repeat, test_episodes_per_epoch=10):\n",
    "    \"\"\"Runs a test_episodes_per_epoch episodes and prints the result\"\"\"\n",
    "    print(\"\\nTesting...\")\n",
    "    test_scores = []\n",
    "    for _ in trange(test_episodes_per_epoch, leave=False):\n",
    "        game.new_episode()\n",
    "        while not game.is_episode_finished():\n",
    "            state = preprocess(game.get_state().screen_buffer)\n",
    "            best_action_index = agent.get_action(state)\n",
    "            game.make_action(actions[best_action_index], frame_repeat)\n",
    "        reward = game.get_total_reward()\n",
    "        test_scores.append(reward)\n",
    "\n",
    "    test_scores = np.array(test_scores)\n",
    "    return test_scores\n",
    "\n",
    "\n",
    "def train_agent(game, agent, actions, num_epochs, frame_repeat, steps_per_epoch, save_model, model_path):\n",
    "    \"\"\"\n",
    "    Trains the DQN Agent by running num_epochs of training episodes.\n",
    "    Skip frame_repeat number of frames after each action.\n",
    "    \"\"\"\n",
    "\n",
    "    start_time = time()\n",
    "    train_scores_m =[]\n",
    "    test_scores_m =[]\n",
    "\n",
    "    for epoch in range(num_epochs):\n",
    "        game.new_episode()\n",
    "        train_scores = []\n",
    "        global_step = 0\n",
    "\n",
    "        print(\"\\nEpoch #\" + str(epoch + 1))\n",
    "\n",
    "        for _ in trange(steps_per_epoch):\n",
    "            state = preprocess(game.get_state().screen_buffer)\n",
    "            action = agent.get_action(state)\n",
    "            reward = game.make_action(actions[action], frame_repeat)\n",
    "            done = game.is_episode_finished()\n",
    "\n",
    "            if not done:\n",
    "                next_state = preprocess(game.get_state().screen_buffer)\n",
    "            else:\n",
    "                next_state = np.zeros((1, 30, 45)).astype(np.float32)\n",
    "\n",
    "            agent.append_memory(state, action, reward, next_state, done)\n",
    "\n",
    "            if global_step > agent.batch_size:\n",
    "                agent.train()\n",
    "\n",
    "            if done:\n",
    "                train_scores.append(game.get_total_reward())\n",
    "                game.new_episode()\n",
    "\n",
    "            global_step += 1\n",
    "\n",
    "        train_scores = np.array(train_scores)\n",
    "        print(\n",
    "            \"Results (Train): mean: {:.1f} +/- {:.1f},\".format(\n",
    "                train_scores.mean(), train_scores.std()\n",
    "            ),\n",
    "            \"min: %.1f,\" % train_scores.min(),\n",
    "            \"max: %.1f,\" % train_scores.max(),\n",
    "        )\n",
    "\n",
    "        test_scores = test_agent(game, agent, actions, frame_repeat)\n",
    "        train_scores_m.append(train_scores.mean())\n",
    "        test_scores_m.append(test_scores.mean())\n",
    "        print(\n",
    "            \"Results (Test): mean: {:.1f} +/- {:.1f},\".format(\n",
    "                test_scores.mean(), test_scores.std()\n",
    "            ),\n",
    "            \"min: %.1f\" % test_scores.min(),\n",
    "            \"max: %.1f\" % test_scores.max(),\n",
    "        )\n",
    "\n",
    "        if save_model:\n",
    "            print(\"Saving the network weights to:\", model_path)\n",
    "            torch.save(agent.q_net, model_path)\n",
    "        print(\"Total elapsed time: %.2f minutes\" %\n",
    "              ((time() - start_time) / 60.0))\n",
    "    epochs =[i for i in range(0, num_epochs)]\n",
    "    plot(epochs, train_scores_m, \"Train Score v/s Epochs\", \"Epochs\", \"Train Score\")\n",
    "    plot(epochs, test_scores_m, \"Test Score v/s Epochs\", \"Epochs\", \"Test Score\")\n",
    "\n",
    "    game.close()\n",
    "    return agent, game\n",
    "\n",
    "\n",
    "if __name__ == \"__main__\":\n",
    "    config_file_path = os.path.join(vzd.scenarios_path, \"rocket_basic.cfg\")\n",
    "    game = create_game_environment(config_file_path)\n",
    "    n = game.get_available_buttons_size()\n",
    "    actions = [list(a) for a in it.product([0, 1], repeat=n)]\n",
    "    \n",
    "      \n",
    "\n",
    "    # Set the hyperparameters\n",
    "    batch_size = 128\n",
    "    lr = 0.006491568748327548\n",
    "    discount_factor = 0.8876233928106229\n",
    "    memory_size = 10000\n",
    "    frame_repeat = 12\n",
    "    steps_per_epoch = 2000\n",
    "    epsilon_decay = 0.995655176912701\n",
    "\n",
    "    # Use GPU if available\n",
    "    if torch.cuda.is_available():\n",
    "        device = torch.device(\"cuda\")\n",
    "        torch.backends.cudnn.benchmark = True\n",
    "    else:\n",
    "        device = torch.device(\"cpu\")\n",
    "    print(f\"Using device={device} ...\")\n",
    "\n",
    "    # Initialize our agent with the set parameters\n",
    "    agent = DoubleDQNAgent(\n",
    "        action_size=len(actions),\n",
    "        lr=lr,\n",
    "        batch_size=batch_size,\n",
    "        memory_size=memory_size,\n",
    "        discount_factor=discount_factor,\n",
    "        device=device,\n",
    "        load_model=False,\n",
    "        optimizer = \"Adam\",\n",
    "        epsilon_decay=epsilon_decay\n",
    "        \n",
    "    )\n",
    "\n",
    "    # Run the training for the set number of epochs\n",
    "    skip_learning = False\n",
    "    if not skip_learning:\n",
    "        agent, game = train_agent(\n",
    "            game,\n",
    "            agent,\n",
    "            actions,\n",
    "            num_epochs=50,\n",
    "            frame_repeat=frame_repeat,\n",
    "            steps_per_epoch=steps_per_epoch,\n",
    "            save_model=True,\n",
    "            model_path=\"checkpoints/Doom_DoubleDQN.pth\"\n",
    "        )\n",
    "\n",
    "        print(\"======================================\")\n",
    "        print(\"Training finished. It's time to watch!\")\n",
    "\n",
    "    # Reinitialize the game with window visible\n",
    "    game.close()\n",
    "    game.set_window_visible(True)\n",
    "    game.set_mode(vzd.Mode.ASYNC_PLAYER)\n",
    "    game.init()\n",
    "\n",
    "    for _ in range(10):\n",
    "        game.new_episode()\n",
    "        while not game.is_episode_finished():\n",
    "            state = preprocess(game.get_state().screen_buffer)\n",
    "            best_action_index = agent.get_action(state)\n",
    "\n",
    "            # Instead of make_action(a, frame_repeat) in order to make the animation smooth\n",
    "            game.set_action(actions[best_action_index])\n",
    "            for _ in range(12):\n",
    "                game.advance_action()\n",
    "\n",
    "        # Sleep between episodes\n",
    "        sleep(1.0)\n",
    "        score = game.get_total_reward()\n",
    "        print(\"Total score: \", score)\n"
   ]
  },
  {
   "cell_type": "code",
   "execution_count": null,
   "id": "373ac34d",
   "metadata": {},
   "outputs": [],
   "source": []
  }
 ],
 "metadata": {
  "kernelspec": {
   "display_name": "Python 3 (ipykernel)",
   "language": "python",
   "name": "python3"
  },
  "language_info": {
   "codemirror_mode": {
    "name": "ipython",
    "version": 3
   },
   "file_extension": ".py",
   "mimetype": "text/x-python",
   "name": "python",
   "nbconvert_exporter": "python",
   "pygments_lexer": "ipython3",
   "version": "3.9.16"
  }
 },
 "nbformat": 4,
 "nbformat_minor": 5
}
