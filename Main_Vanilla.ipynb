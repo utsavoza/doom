{
 "cells": [
  {
   "cell_type": "code",
   "execution_count": 7,
   "id": "9f5905bf",
   "metadata": {},
   "outputs": [
    {
     "name": "stdout",
     "output_type": "stream",
     "text": [
      "Creating game environment ...\n",
      "Game environment initialized ...\n",
      "Using device=cuda ...\n",
      "Initializing New Model\n",
      "\n",
      "Epoch #1\n"
     ]
    },
    {
     "name": "stderr",
     "output_type": "stream",
     "text": [
      "100%|██████████████████████████████████████████████████████████████████████████████| 2000/2000 [02:36<00:00, 12.77it/s]\n"
     ]
    },
    {
     "name": "stdout",
     "output_type": "stream",
     "text": [
      "Results (Train): mean: -84.7 +/- 146.2, min: -365.0, max: 62.0,\n",
      "\n",
      "Testing...\n"
     ]
    },
    {
     "name": "stderr",
     "output_type": "stream",
     "text": [
      "                                                                                                                       \r"
     ]
    },
    {
     "name": "stdout",
     "output_type": "stream",
     "text": [
      "Results (Test): mean: -32.7 +/- 121.3, min: -325.0 max: 62.0\n",
      "Saving the network weights to: checkpoints/Doom_Vanilla.pth\n",
      "Total elapsed time: 2.66 minutes\n",
      "\n",
      "Epoch #2\n"
     ]
    },
    {
     "name": "stderr",
     "output_type": "stream",
     "text": [
      "100%|██████████████████████████████████████████████████████████████████████████████| 2000/2000 [02:34<00:00, 12.94it/s]\n"
     ]
    },
    {
     "name": "stdout",
     "output_type": "stream",
     "text": [
      "Results (Train): mean: -27.3 +/- 101.8, min: -355.0, max: 62.0,\n",
      "\n",
      "Testing...\n"
     ]
    },
    {
     "name": "stderr",
     "output_type": "stream",
     "text": [
      "                                                                                                                       \r"
     ]
    },
    {
     "name": "stdout",
     "output_type": "stream",
     "text": [
      "Results (Test): mean: -132.5 +/- 124.3, min: -305.0 max: 30.0\n",
      "Saving the network weights to: checkpoints/Doom_Vanilla.pth\n",
      "Total elapsed time: 5.31 minutes\n",
      "\n",
      "Epoch #3\n"
     ]
    },
    {
     "name": "stderr",
     "output_type": "stream",
     "text": [
      "100%|██████████████████████████████████████████████████████████████████████████████| 2000/2000 [02:39<00:00, 12.53it/s]\n"
     ]
    },
    {
     "name": "stdout",
     "output_type": "stream",
     "text": [
      "Results (Train): mean: -143.5 +/- 141.7, min: -360.0, max: 62.0,\n",
      "\n",
      "Testing...\n"
     ]
    },
    {
     "name": "stderr",
     "output_type": "stream",
     "text": [
      "                                                                                                                       \r"
     ]
    },
    {
     "name": "stdout",
     "output_type": "stream",
     "text": [
      "Results (Test): mean: -81.7 +/- 169.5, min: -350.0 max: 37.0\n",
      "Saving the network weights to: checkpoints/Doom_Vanilla.pth\n",
      "Total elapsed time: 8.02 minutes\n",
      "\n",
      "Epoch #4\n"
     ]
    },
    {
     "name": "stderr",
     "output_type": "stream",
     "text": [
      "100%|██████████████████████████████████████████████████████████████████████████████| 2000/2000 [02:32<00:00, 13.15it/s]\n"
     ]
    },
    {
     "name": "stdout",
     "output_type": "stream",
     "text": [
      "Results (Train): mean: -179.5 +/- 153.0, min: -365.0, max: 62.0,\n",
      "\n",
      "Testing...\n"
     ]
    },
    {
     "name": "stderr",
     "output_type": "stream",
     "text": [
      "                                                                                                                       \r"
     ]
    },
    {
     "name": "stdout",
     "output_type": "stream",
     "text": [
      "Results (Test): mean: -276.5 +/- 69.6, min: -325.0 max: -96.0\n",
      "Saving the network weights to: checkpoints/Doom_Vanilla.pth\n",
      "Total elapsed time: 10.66 minutes\n",
      "\n",
      "Epoch #5\n"
     ]
    },
    {
     "name": "stderr",
     "output_type": "stream",
     "text": [
      "100%|██████████████████████████████████████████████████████████████████████████████| 2000/2000 [02:35<00:00, 12.84it/s]\n"
     ]
    },
    {
     "name": "stdout",
     "output_type": "stream",
     "text": [
      "Results (Train): mean: -229.7 +/- 138.2, min: -355.0, max: 62.0,\n",
      "\n",
      "Testing...\n"
     ]
    },
    {
     "name": "stderr",
     "output_type": "stream",
     "text": [
      "                                                                                                                       \r"
     ]
    },
    {
     "name": "stdout",
     "output_type": "stream",
     "text": [
      "Results (Test): mean: -207.8 +/- 182.0, min: -370.0 max: 62.0\n",
      "Saving the network weights to: checkpoints/Doom_Vanilla.pth\n",
      "Total elapsed time: 13.33 minutes\n",
      "\n",
      "Epoch #6\n"
     ]
    },
    {
     "name": "stderr",
     "output_type": "stream",
     "text": [
      "100%|██████████████████████████████████████████████████████████████████████████████| 2000/2000 [02:37<00:00, 12.69it/s]\n"
     ]
    },
    {
     "name": "stdout",
     "output_type": "stream",
     "text": [
      "Results (Train): mean: -227.6 +/- 135.7, min: -365.0, max: 62.0,\n",
      "\n",
      "Testing...\n"
     ]
    },
    {
     "name": "stderr",
     "output_type": "stream",
     "text": [
      "                                                                                                                       \r"
     ]
    },
    {
     "name": "stdout",
     "output_type": "stream",
     "text": [
      "Results (Test): mean: -209.6 +/- 149.1, min: -325.0 max: 62.0\n",
      "Saving the network weights to: checkpoints/Doom_Vanilla.pth\n",
      "Total elapsed time: 16.04 minutes\n",
      "\n",
      "Epoch #7\n"
     ]
    },
    {
     "name": "stderr",
     "output_type": "stream",
     "text": [
      "100%|██████████████████████████████████████████████████████████████████████████████| 2000/2000 [02:30<00:00, 13.29it/s]\n"
     ]
    },
    {
     "name": "stdout",
     "output_type": "stream",
     "text": [
      "Results (Train): mean: -172.5 +/- 145.3, min: -370.0, max: 62.0,\n",
      "\n",
      "Testing...\n"
     ]
    },
    {
     "name": "stderr",
     "output_type": "stream",
     "text": [
      "                                                                                                                       \r"
     ]
    },
    {
     "name": "stdout",
     "output_type": "stream",
     "text": [
      "Results (Test): mean: -277.0 +/- 94.2, min: -320.0 max: 5.0\n",
      "Saving the network weights to: checkpoints/Doom_Vanilla.pth\n",
      "Total elapsed time: 18.64 minutes\n",
      "\n",
      "Epoch #8\n"
     ]
    },
    {
     "name": "stderr",
     "output_type": "stream",
     "text": [
      "100%|██████████████████████████████████████████████████████████████████████████████| 2000/2000 [02:35<00:00, 12.83it/s]\n"
     ]
    },
    {
     "name": "stdout",
     "output_type": "stream",
     "text": [
      "Results (Train): mean: -170.3 +/- 150.1, min: -345.0, max: 62.0,\n",
      "\n",
      "Testing...\n"
     ]
    },
    {
     "name": "stderr",
     "output_type": "stream",
     "text": [
      "                                                                                                                       \r"
     ]
    },
    {
     "name": "stdout",
     "output_type": "stream",
     "text": [
      "Results (Test): mean: -159.4 +/- 93.3, min: -300.0 max: 46.0\n",
      "Saving the network weights to: checkpoints/Doom_Vanilla.pth\n",
      "Total elapsed time: 21.33 minutes\n",
      "\n",
      "Epoch #9\n"
     ]
    },
    {
     "name": "stderr",
     "output_type": "stream",
     "text": [
      "100%|██████████████████████████████████████████████████████████████████████████████| 2000/2000 [02:35<00:00, 12.82it/s]\n"
     ]
    },
    {
     "name": "stdout",
     "output_type": "stream",
     "text": [
      "Results (Train): mean: -167.6 +/- 147.7, min: -365.0, max: 62.0,\n",
      "\n",
      "Testing...\n"
     ]
    },
    {
     "name": "stderr",
     "output_type": "stream",
     "text": [
      "                                                                                                                       \r"
     ]
    },
    {
     "name": "stdout",
     "output_type": "stream",
     "text": [
      "Results (Test): mean: -179.0 +/- 132.1, min: -340.0 max: 46.0\n",
      "Saving the network weights to: checkpoints/Doom_Vanilla.pth\n",
      "Total elapsed time: 24.00 minutes\n",
      "\n",
      "Epoch #10\n"
     ]
    },
    {
     "name": "stderr",
     "output_type": "stream",
     "text": [
      "100%|██████████████████████████████████████████████████████████████████████████████| 2000/2000 [02:37<00:00, 12.74it/s]\n"
     ]
    },
    {
     "name": "stdout",
     "output_type": "stream",
     "text": [
      "Results (Train): mean: -196.5 +/- 147.5, min: -360.0, max: 62.0,\n",
      "\n",
      "Testing...\n"
     ]
    },
    {
     "name": "stderr",
     "output_type": "stream",
     "text": [
      "                                                                                                                       \r"
     ]
    },
    {
     "name": "stdout",
     "output_type": "stream",
     "text": [
      "Results (Test): mean: -220.1 +/- 148.6, min: -360.0 max: 62.0\n",
      "Saving the network weights to: checkpoints/Doom_Vanilla.pth\n",
      "Total elapsed time: 26.71 minutes\n",
      "\n",
      "Epoch #11\n"
     ]
    },
    {
     "name": "stderr",
     "output_type": "stream",
     "text": [
      "100%|██████████████████████████████████████████████████████████████████████████████| 2000/2000 [02:31<00:00, 13.22it/s]\n"
     ]
    },
    {
     "name": "stdout",
     "output_type": "stream",
     "text": [
      "Results (Train): mean: -229.3 +/- 153.2, min: -365.0, max: 62.0,\n",
      "\n",
      "Testing...\n"
     ]
    },
    {
     "name": "stderr",
     "output_type": "stream",
     "text": [
      "                                                                                                                       \r"
     ]
    },
    {
     "name": "stdout",
     "output_type": "stream",
     "text": [
      "Results (Test): mean: -330.6 +/- 33.3, min: -345.0 max: -231.0\n",
      "Saving the network weights to: checkpoints/Doom_Vanilla.pth\n",
      "Total elapsed time: 29.37 minutes\n",
      "\n",
      "Epoch #12\n"
     ]
    },
    {
     "name": "stderr",
     "output_type": "stream",
     "text": [
      "100%|██████████████████████████████████████████████████████████████████████████████| 2000/2000 [02:33<00:00, 13.01it/s]\n"
     ]
    },
    {
     "name": "stdout",
     "output_type": "stream",
     "text": [
      "Results (Train): mean: -288.4 +/- 99.8, min: -365.0, max: 62.0,\n",
      "\n",
      "Testing...\n"
     ]
    },
    {
     "name": "stderr",
     "output_type": "stream",
     "text": [
      "                                                                                                                       \r"
     ]
    },
    {
     "name": "stdout",
     "output_type": "stream",
     "text": [
      "Results (Test): mean: -266.8 +/- 121.0, min: -365.0 max: 62.0\n",
      "Saving the network weights to: checkpoints/Doom_Vanilla.pth\n",
      "Total elapsed time: 32.03 minutes\n",
      "\n",
      "Epoch #13\n"
     ]
    },
    {
     "name": "stderr",
     "output_type": "stream",
     "text": [
      "100%|██████████████████████████████████████████████████████████████████████████████| 2000/2000 [02:36<00:00, 12.81it/s]\n"
     ]
    },
    {
     "name": "stdout",
     "output_type": "stream",
     "text": [
      "Results (Train): mean: -231.5 +/- 131.5, min: -355.0, max: 62.0,\n",
      "\n",
      "Testing...\n"
     ]
    },
    {
     "name": "stderr",
     "output_type": "stream",
     "text": [
      "                                                                                                                       \r"
     ]
    },
    {
     "name": "stdout",
     "output_type": "stream",
     "text": [
      "Results (Test): mean: -276.7 +/- 83.5, min: -320.0 max: -27.0\n",
      "Saving the network weights to: checkpoints/Doom_Vanilla.pth\n",
      "Total elapsed time: 34.73 minutes\n",
      "\n",
      "Epoch #14\n"
     ]
    },
    {
     "name": "stderr",
     "output_type": "stream",
     "text": [
      "100%|██████████████████████████████████████████████████████████████████████████████| 2000/2000 [02:32<00:00, 13.16it/s]\n"
     ]
    },
    {
     "name": "stdout",
     "output_type": "stream",
     "text": [
      "Results (Train): mean: -160.9 +/- 153.5, min: -365.0, max: 62.0,\n",
      "\n",
      "Testing...\n"
     ]
    },
    {
     "name": "stderr",
     "output_type": "stream",
     "text": [
      "                                                                                                                       \r"
     ]
    },
    {
     "name": "stdout",
     "output_type": "stream",
     "text": [
      "Results (Test): mean: -261.4 +/- 125.8, min: -350.0 max: 21.0\n",
      "Saving the network weights to: checkpoints/Doom_Vanilla.pth\n",
      "Total elapsed time: 37.36 minutes\n",
      "\n",
      "Epoch #15\n"
     ]
    },
    {
     "name": "stderr",
     "output_type": "stream",
     "text": [
      "100%|██████████████████████████████████████████████████████████████████████████████| 2000/2000 [02:36<00:00, 12.76it/s]\n"
     ]
    },
    {
     "name": "stdout",
     "output_type": "stream",
     "text": [
      "Results (Train): mean: -137.4 +/- 148.6, min: -370.0, max: 62.0,\n",
      "\n",
      "Testing...\n"
     ]
    },
    {
     "name": "stderr",
     "output_type": "stream",
     "text": [
      "                                                                                                                       \r"
     ]
    },
    {
     "name": "stdout",
     "output_type": "stream",
     "text": [
      "Results (Test): mean: -225.4 +/- 160.9, min: -365.0 max: 37.0\n",
      "Saving the network weights to: checkpoints/Doom_Vanilla.pth\n",
      "Total elapsed time: 40.06 minutes\n",
      "\n",
      "Epoch #16\n"
     ]
    },
    {
     "name": "stderr",
     "output_type": "stream",
     "text": [
      "100%|██████████████████████████████████████████████████████████████████████████████| 2000/2000 [02:37<00:00, 12.70it/s]\n"
     ]
    },
    {
     "name": "stdout",
     "output_type": "stream",
     "text": [
      "Results (Train): mean: -143.9 +/- 149.5, min: -365.0, max: 62.0,\n",
      "\n",
      "Testing...\n"
     ]
    },
    {
     "name": "stderr",
     "output_type": "stream",
     "text": [
      "                                                                                                                       \r"
     ]
    },
    {
     "name": "stdout",
     "output_type": "stream",
     "text": [
      "Results (Test): mean: -136.6 +/- 122.3, min: -325.0 max: 62.0\n",
      "Saving the network weights to: checkpoints/Doom_Vanilla.pth\n",
      "Total elapsed time: 42.76 minutes\n",
      "\n",
      "Epoch #17\n"
     ]
    },
    {
     "name": "stderr",
     "output_type": "stream",
     "text": [
      "100%|██████████████████████████████████████████████████████████████████████████████| 2000/2000 [02:29<00:00, 13.39it/s]\n"
     ]
    },
    {
     "name": "stdout",
     "output_type": "stream",
     "text": [
      "Results (Train): mean: -79.9 +/- 111.9, min: -365.0, max: 62.0,\n",
      "\n",
      "Testing...\n"
     ]
    },
    {
     "name": "stderr",
     "output_type": "stream",
     "text": [
      "                                                                                                                       \r"
     ]
    },
    {
     "name": "stdout",
     "output_type": "stream",
     "text": [
      "Results (Test): mean: -51.1 +/- 68.5, min: -192.0 max: 62.0\n",
      "Saving the network weights to: checkpoints/Doom_Vanilla.pth\n",
      "Total elapsed time: 45.30 minutes\n",
      "\n",
      "Epoch #18\n"
     ]
    },
    {
     "name": "stderr",
     "output_type": "stream",
     "text": [
      "100%|██████████████████████████████████████████████████████████████████████████████| 2000/2000 [02:30<00:00, 13.31it/s]\n"
     ]
    },
    {
     "name": "stdout",
     "output_type": "stream",
     "text": [
      "Results (Train): mean: -94.9 +/- 129.2, min: -355.0, max: 62.0,\n",
      "\n",
      "Testing...\n"
     ]
    },
    {
     "name": "stderr",
     "output_type": "stream",
     "text": [
      "                                                                                                                       \r"
     ]
    },
    {
     "name": "stdout",
     "output_type": "stream",
     "text": [
      "Results (Test): mean: -208.0 +/- 101.9, min: -345.0 max: -4.0\n",
      "Saving the network weights to: checkpoints/Doom_Vanilla.pth\n",
      "Total elapsed time: 47.89 minutes\n",
      "\n",
      "Epoch #19\n"
     ]
    },
    {
     "name": "stderr",
     "output_type": "stream",
     "text": [
      "100%|██████████████████████████████████████████████████████████████████████████████| 2000/2000 [02:34<00:00, 12.92it/s]\n"
     ]
    },
    {
     "name": "stdout",
     "output_type": "stream",
     "text": [
      "Results (Train): mean: -175.1 +/- 142.3, min: -355.0, max: 62.0,\n",
      "\n",
      "Testing...\n"
     ]
    },
    {
     "name": "stderr",
     "output_type": "stream",
     "text": [
      "                                                                                                                       \r"
     ]
    },
    {
     "name": "stdout",
     "output_type": "stream",
     "text": [
      "Results (Test): mean: -142.0 +/- 152.2, min: -345.0 max: -2.0\n",
      "Saving the network weights to: checkpoints/Doom_Vanilla.pth\n",
      "Total elapsed time: 50.54 minutes\n",
      "\n",
      "Epoch #20\n"
     ]
    },
    {
     "name": "stderr",
     "output_type": "stream",
     "text": [
      "100%|██████████████████████████████████████████████████████████████████████████████| 2000/2000 [02:29<00:00, 13.36it/s]\n"
     ]
    },
    {
     "name": "stdout",
     "output_type": "stream",
     "text": [
      "Results (Train): mean: -176.8 +/- 147.3, min: -355.0, max: 62.0,\n",
      "\n",
      "Testing...\n"
     ]
    },
    {
     "name": "stderr",
     "output_type": "stream",
     "text": [
      "                                                                                                                       \r"
     ]
    },
    {
     "name": "stdout",
     "output_type": "stream",
     "text": [
      "Results (Test): mean: -280.3 +/- 86.0, min: -320.0 max: -23.0\n",
      "Saving the network weights to: checkpoints/Doom_Vanilla.pth\n",
      "Total elapsed time: 53.13 minutes\n",
      "\n",
      "Epoch #21\n"
     ]
    },
    {
     "name": "stderr",
     "output_type": "stream",
     "text": [
      "100%|██████████████████████████████████████████████████████████████████████████████| 2000/2000 [02:32<00:00, 13.14it/s]\n"
     ]
    },
    {
     "name": "stdout",
     "output_type": "stream",
     "text": [
      "Results (Train): mean: -148.2 +/- 159.1, min: -360.0, max: 62.0,\n",
      "\n",
      "Testing...\n"
     ]
    },
    {
     "name": "stderr",
     "output_type": "stream",
     "text": [
      "                                                                                                                       \r"
     ]
    },
    {
     "name": "stdout",
     "output_type": "stream",
     "text": [
      "Results (Test): mean: -122.8 +/- 168.3, min: -345.0 max: 62.0\n",
      "Saving the network weights to: checkpoints/Doom_Vanilla.pth\n",
      "Total elapsed time: 55.74 minutes\n",
      "\n",
      "Epoch #22\n"
     ]
    },
    {
     "name": "stderr",
     "output_type": "stream",
     "text": [
      "100%|██████████████████████████████████████████████████████████████████████████████| 2000/2000 [02:31<00:00, 13.23it/s]\n"
     ]
    },
    {
     "name": "stdout",
     "output_type": "stream",
     "text": [
      "Results (Train): mean: -180.9 +/- 155.3, min: -350.0, max: 62.0,\n",
      "\n",
      "Testing...\n"
     ]
    },
    {
     "name": "stderr",
     "output_type": "stream",
     "text": [
      "                                                                                                                       \r"
     ]
    },
    {
     "name": "stdout",
     "output_type": "stream",
     "text": [
      "Results (Test): mean: -257.3 +/- 104.4, min: -325.0 max: -43.0\n",
      "Saving the network weights to: checkpoints/Doom_Vanilla.pth\n",
      "Total elapsed time: 58.35 minutes\n",
      "\n",
      "Epoch #23\n"
     ]
    },
    {
     "name": "stderr",
     "output_type": "stream",
     "text": [
      "100%|██████████████████████████████████████████████████████████████████████████████| 2000/2000 [02:31<00:00, 13.21it/s]\n"
     ]
    },
    {
     "name": "stdout",
     "output_type": "stream",
     "text": [
      "Results (Train): mean: -186.5 +/- 144.9, min: -350.0, max: 62.0,\n",
      "\n",
      "Testing...\n"
     ]
    },
    {
     "name": "stderr",
     "output_type": "stream",
     "text": [
      "                                                                                                                       \r"
     ]
    },
    {
     "name": "stdout",
     "output_type": "stream",
     "text": [
      "Results (Test): mean: -255.9 +/- 100.4, min: -330.0 max: -33.0\n",
      "Saving the network weights to: checkpoints/Doom_Vanilla.pth\n",
      "Total elapsed time: 60.97 minutes\n",
      "\n",
      "Epoch #24\n"
     ]
    },
    {
     "name": "stderr",
     "output_type": "stream",
     "text": [
      "100%|██████████████████████████████████████████████████████████████████████████████| 2000/2000 [02:37<00:00, 12.70it/s]\n"
     ]
    },
    {
     "name": "stdout",
     "output_type": "stream",
     "text": [
      "Results (Train): mean: -212.7 +/- 134.2, min: -360.0, max: 62.0,\n",
      "\n",
      "Testing...\n"
     ]
    },
    {
     "name": "stderr",
     "output_type": "stream",
     "text": [
      "                                                                                                                       \r"
     ]
    },
    {
     "name": "stdout",
     "output_type": "stream",
     "text": [
      "Results (Test): mean: -105.6 +/- 139.2, min: -310.0 max: 62.0\n",
      "Saving the network weights to: checkpoints/Doom_Vanilla.pth\n",
      "Total elapsed time: 63.67 minutes\n",
      "\n",
      "Epoch #25\n"
     ]
    },
    {
     "name": "stderr",
     "output_type": "stream",
     "text": [
      "100%|██████████████████████████████████████████████████████████████████████████████| 2000/2000 [02:40<00:00, 12.46it/s]\n"
     ]
    },
    {
     "name": "stdout",
     "output_type": "stream",
     "text": [
      "Results (Train): mean: -202.0 +/- 130.9, min: -350.0, max: 62.0,\n",
      "\n",
      "Testing...\n"
     ]
    },
    {
     "name": "stderr",
     "output_type": "stream",
     "text": [
      "                                                                                                                       \r"
     ]
    },
    {
     "name": "stdout",
     "output_type": "stream",
     "text": [
      "Results (Test): mean: -162.0 +/- 161.6, min: -355.0 max: 62.0\n",
      "Saving the network weights to: checkpoints/Doom_Vanilla.pth\n",
      "Total elapsed time: 66.43 minutes\n",
      "\n",
      "Epoch #26\n"
     ]
    },
    {
     "name": "stderr",
     "output_type": "stream",
     "text": [
      "100%|██████████████████████████████████████████████████████████████████████████████| 2000/2000 [02:39<00:00, 12.52it/s]\n"
     ]
    },
    {
     "name": "stdout",
     "output_type": "stream",
     "text": [
      "Results (Train): mean: -143.1 +/- 135.9, min: -350.0, max: 62.0,\n",
      "\n",
      "Testing...\n"
     ]
    },
    {
     "name": "stderr",
     "output_type": "stream",
     "text": [
      "                                                                                                                       \r"
     ]
    },
    {
     "name": "stdout",
     "output_type": "stream",
     "text": [
      "Results (Test): mean: -65.2 +/- 126.5, min: -345.0 max: 62.0\n",
      "Saving the network weights to: checkpoints/Doom_Vanilla.pth\n",
      "Total elapsed time: 69.16 minutes\n",
      "\n",
      "Epoch #27\n"
     ]
    },
    {
     "name": "stderr",
     "output_type": "stream",
     "text": [
      "100%|██████████████████████████████████████████████████████████████████████████████| 2000/2000 [02:08<00:00, 15.57it/s]\n"
     ]
    },
    {
     "name": "stdout",
     "output_type": "stream",
     "text": [
      "Results (Train): mean: -126.8 +/- 138.4, min: -355.0, max: 62.0,\n",
      "\n",
      "Testing...\n"
     ]
    },
    {
     "name": "stderr",
     "output_type": "stream",
     "text": [
      "                                                                                                                       \r"
     ]
    },
    {
     "name": "stdout",
     "output_type": "stream",
     "text": [
      "Results (Test): mean: -42.9 +/- 106.1, min: -300.0 max: 62.0\n",
      "Saving the network weights to: checkpoints/Doom_Vanilla.pth\n",
      "Total elapsed time: 71.34 minutes\n",
      "\n",
      "Epoch #28\n"
     ]
    },
    {
     "name": "stderr",
     "output_type": "stream",
     "text": [
      "100%|██████████████████████████████████████████████████████████████████████████████| 2000/2000 [02:09<00:00, 15.41it/s]\n"
     ]
    },
    {
     "name": "stdout",
     "output_type": "stream",
     "text": [
      "Results (Train): mean: -121.4 +/- 142.6, min: -360.0, max: 62.0,\n",
      "\n",
      "Testing...\n"
     ]
    },
    {
     "name": "stderr",
     "output_type": "stream",
     "text": [
      "                                                                                                                       \r"
     ]
    },
    {
     "name": "stdout",
     "output_type": "stream",
     "text": [
      "Results (Test): mean: -65.0 +/- 133.1, min: -325.0 max: 62.0\n",
      "Saving the network weights to: checkpoints/Doom_Vanilla.pth\n",
      "Total elapsed time: 73.55 minutes\n",
      "\n",
      "Epoch #29\n"
     ]
    },
    {
     "name": "stderr",
     "output_type": "stream",
     "text": [
      "100%|██████████████████████████████████████████████████████████████████████████████| 2000/2000 [02:09<00:00, 15.45it/s]\n"
     ]
    },
    {
     "name": "stdout",
     "output_type": "stream",
     "text": [
      "Results (Train): mean: -82.9 +/- 135.6, min: -365.0, max: 62.0,\n",
      "\n",
      "Testing...\n"
     ]
    },
    {
     "name": "stderr",
     "output_type": "stream",
     "text": [
      "                                                                                                                       \r"
     ]
    },
    {
     "name": "stdout",
     "output_type": "stream",
     "text": [
      "Results (Test): mean: -118.2 +/- 120.3, min: -325.0 max: 46.0\n",
      "Saving the network weights to: checkpoints/Doom_Vanilla.pth\n",
      "Total elapsed time: 75.77 minutes\n",
      "\n",
      "Epoch #30\n"
     ]
    },
    {
     "name": "stderr",
     "output_type": "stream",
     "text": [
      "100%|██████████████████████████████████████████████████████████████████████████████| 2000/2000 [02:05<00:00, 15.92it/s]\n"
     ]
    },
    {
     "name": "stdout",
     "output_type": "stream",
     "text": [
      "Results (Train): mean: -81.8 +/- 125.4, min: -355.0, max: 62.0,\n",
      "\n",
      "Testing...\n"
     ]
    },
    {
     "name": "stderr",
     "output_type": "stream",
     "text": [
      "                                                                                                                       \r"
     ]
    },
    {
     "name": "stdout",
     "output_type": "stream",
     "text": [
      "Results (Test): mean: -129.7 +/- 146.4, min: -335.0 max: 46.0\n",
      "Saving the network weights to: checkpoints/Doom_Vanilla.pth\n",
      "Total elapsed time: 77.93 minutes\n",
      "\n",
      "Epoch #31\n"
     ]
    },
    {
     "name": "stderr",
     "output_type": "stream",
     "text": [
      "100%|██████████████████████████████████████████████████████████████████████████████| 2000/2000 [02:10<00:00, 15.37it/s]\n"
     ]
    },
    {
     "name": "stdout",
     "output_type": "stream",
     "text": [
      "Results (Train): mean: -71.6 +/- 123.3, min: -335.0, max: 62.0,\n",
      "\n",
      "Testing...\n"
     ]
    },
    {
     "name": "stderr",
     "output_type": "stream",
     "text": [
      "                                                                                                                       \r"
     ]
    },
    {
     "name": "stdout",
     "output_type": "stream",
     "text": [
      "Results (Test): mean: -124.9 +/- 159.4, min: -350.0 max: 62.0\n",
      "Saving the network weights to: checkpoints/Doom_Vanilla.pth\n",
      "Total elapsed time: 80.16 minutes\n",
      "\n",
      "Epoch #32\n"
     ]
    },
    {
     "name": "stderr",
     "output_type": "stream",
     "text": [
      "100%|██████████████████████████████████████████████████████████████████████████████| 2000/2000 [02:04<00:00, 16.01it/s]\n"
     ]
    },
    {
     "name": "stdout",
     "output_type": "stream",
     "text": [
      "Results (Train): mean: -138.3 +/- 134.5, min: -365.0, max: 62.0,\n",
      "\n",
      "Testing...\n"
     ]
    },
    {
     "name": "stderr",
     "output_type": "stream",
     "text": [
      "                                                                                                                       \r"
     ]
    },
    {
     "name": "stdout",
     "output_type": "stream",
     "text": [
      "Results (Test): mean: -167.9 +/- 130.8, min: -350.0 max: -36.0\n",
      "Saving the network weights to: checkpoints/Doom_Vanilla.pth\n",
      "Total elapsed time: 82.31 minutes\n",
      "\n",
      "Epoch #33\n"
     ]
    },
    {
     "name": "stderr",
     "output_type": "stream",
     "text": [
      "100%|██████████████████████████████████████████████████████████████████████████████| 2000/2000 [02:06<00:00, 15.81it/s]\n"
     ]
    },
    {
     "name": "stdout",
     "output_type": "stream",
     "text": [
      "Results (Train): mean: -95.1 +/- 123.8, min: -360.0, max: 62.0,\n",
      "\n",
      "Testing...\n"
     ]
    },
    {
     "name": "stderr",
     "output_type": "stream",
     "text": [
      "                                                                                                                       \r"
     ]
    },
    {
     "name": "stdout",
     "output_type": "stream",
     "text": [
      "Results (Test): mean: -25.0 +/- 120.5, min: -315.0 max: 62.0\n",
      "Saving the network weights to: checkpoints/Doom_Vanilla.pth\n",
      "Total elapsed time: 84.46 minutes\n",
      "\n",
      "Epoch #34\n"
     ]
    },
    {
     "name": "stderr",
     "output_type": "stream",
     "text": [
      "100%|██████████████████████████████████████████████████████████████████████████████| 2000/2000 [02:07<00:00, 15.68it/s]\n"
     ]
    },
    {
     "name": "stdout",
     "output_type": "stream",
     "text": [
      "Results (Train): mean: -41.4 +/- 108.0, min: -360.0, max: 62.0,\n",
      "\n",
      "Testing...\n"
     ]
    },
    {
     "name": "stderr",
     "output_type": "stream",
     "text": [
      "                                                                                                                       \r"
     ]
    },
    {
     "name": "stdout",
     "output_type": "stream",
     "text": [
      "Results (Test): mean: -57.8 +/- 126.0, min: -355.0 max: 62.0\n",
      "Saving the network weights to: checkpoints/Doom_Vanilla.pth\n",
      "Total elapsed time: 86.63 minutes\n",
      "\n",
      "Epoch #35\n"
     ]
    },
    {
     "name": "stderr",
     "output_type": "stream",
     "text": [
      "100%|██████████████████████████████████████████████████████████████████████████████| 2000/2000 [02:07<00:00, 15.70it/s]\n"
     ]
    },
    {
     "name": "stdout",
     "output_type": "stream",
     "text": [
      "Results (Train): mean: -26.6 +/- 108.6, min: -360.0, max: 62.0,\n",
      "\n",
      "Testing...\n"
     ]
    },
    {
     "name": "stderr",
     "output_type": "stream",
     "text": [
      "                                                                                                                       \r"
     ]
    },
    {
     "name": "stdout",
     "output_type": "stream",
     "text": [
      "Results (Test): mean: -56.4 +/- 130.4, min: -315.0 max: 37.0\n",
      "Saving the network weights to: checkpoints/Doom_Vanilla.pth\n",
      "Total elapsed time: 88.80 minutes\n",
      "\n",
      "Epoch #36\n"
     ]
    },
    {
     "name": "stderr",
     "output_type": "stream",
     "text": [
      "100%|██████████████████████████████████████████████████████████████████████████████| 2000/2000 [02:05<00:00, 15.97it/s]\n"
     ]
    },
    {
     "name": "stdout",
     "output_type": "stream",
     "text": [
      "Results (Train): mean: -50.5 +/- 122.7, min: -365.0, max: 62.0,\n",
      "\n",
      "Testing...\n"
     ]
    },
    {
     "name": "stderr",
     "output_type": "stream",
     "text": [
      "                                                                                                                       \r"
     ]
    },
    {
     "name": "stdout",
     "output_type": "stream",
     "text": [
      "Results (Test): mean: -173.4 +/- 132.0, min: -345.0 max: 37.0\n",
      "Saving the network weights to: checkpoints/Doom_Vanilla.pth\n",
      "Total elapsed time: 90.96 minutes\n",
      "\n",
      "Epoch #37\n"
     ]
    },
    {
     "name": "stderr",
     "output_type": "stream",
     "text": [
      "100%|██████████████████████████████████████████████████████████████████████████████| 2000/2000 [02:06<00:00, 15.75it/s]\n"
     ]
    },
    {
     "name": "stdout",
     "output_type": "stream",
     "text": [
      "Results (Train): mean: -84.8 +/- 108.1, min: -350.0, max: 62.0,\n",
      "\n",
      "Testing...\n"
     ]
    },
    {
     "name": "stderr",
     "output_type": "stream",
     "text": [
      "                                                                                                                       \r"
     ]
    },
    {
     "name": "stdout",
     "output_type": "stream",
     "text": [
      "Results (Test): mean: -115.7 +/- 118.2, min: -340.0 max: 21.0\n",
      "Saving the network weights to: checkpoints/Doom_Vanilla.pth\n",
      "Total elapsed time: 93.14 minutes\n",
      "\n",
      "Epoch #38\n"
     ]
    },
    {
     "name": "stderr",
     "output_type": "stream",
     "text": [
      "100%|██████████████████████████████████████████████████████████████████████████████| 2000/2000 [02:08<00:00, 15.58it/s]\n"
     ]
    },
    {
     "name": "stdout",
     "output_type": "stream",
     "text": [
      "Results (Train): mean: -82.3 +/- 121.3, min: -355.0, max: 62.0,\n",
      "\n",
      "Testing...\n"
     ]
    },
    {
     "name": "stderr",
     "output_type": "stream",
     "text": [
      "                                                                                                                       \r"
     ]
    },
    {
     "name": "stdout",
     "output_type": "stream",
     "text": [
      "Results (Test): mean: -35.5 +/- 109.1, min: -340.0 max: 62.0\n",
      "Saving the network weights to: checkpoints/Doom_Vanilla.pth\n",
      "Total elapsed time: 95.32 minutes\n",
      "\n",
      "Epoch #39\n"
     ]
    },
    {
     "name": "stderr",
     "output_type": "stream",
     "text": [
      "100%|██████████████████████████████████████████████████████████████████████████████| 2000/2000 [02:07<00:00, 15.74it/s]\n"
     ]
    },
    {
     "name": "stdout",
     "output_type": "stream",
     "text": [
      "Results (Train): mean: -82.9 +/- 113.1, min: -350.0, max: 62.0,\n",
      "\n",
      "Testing...\n"
     ]
    },
    {
     "name": "stderr",
     "output_type": "stream",
     "text": [
      "                                                                                                                       \r"
     ]
    },
    {
     "name": "stdout",
     "output_type": "stream",
     "text": [
      "Results (Test): mean: -69.5 +/- 126.9, min: -325.0 max: 46.0\n",
      "Saving the network weights to: checkpoints/Doom_Vanilla.pth\n",
      "Total elapsed time: 97.49 minutes\n",
      "\n",
      "Epoch #40\n"
     ]
    },
    {
     "name": "stderr",
     "output_type": "stream",
     "text": [
      "100%|██████████████████████████████████████████████████████████████████████████████| 2000/2000 [02:07<00:00, 15.74it/s]\n"
     ]
    },
    {
     "name": "stdout",
     "output_type": "stream",
     "text": [
      "Results (Train): mean: -114.4 +/- 135.6, min: -360.0, max: 62.0,\n",
      "\n",
      "Testing...\n"
     ]
    },
    {
     "name": "stderr",
     "output_type": "stream",
     "text": [
      "                                                                                                                       \r"
     ]
    },
    {
     "name": "stdout",
     "output_type": "stream",
     "text": [
      "Results (Test): mean: -116.6 +/- 116.9, min: -345.0 max: 14.0\n",
      "Saving the network weights to: checkpoints/Doom_Vanilla.pth\n",
      "Total elapsed time: 99.67 minutes\n",
      "\n",
      "Epoch #41\n"
     ]
    },
    {
     "name": "stderr",
     "output_type": "stream",
     "text": [
      "100%|██████████████████████████████████████████████████████████████████████████████| 2000/2000 [02:07<00:00, 15.69it/s]\n"
     ]
    },
    {
     "name": "stdout",
     "output_type": "stream",
     "text": [
      "Results (Train): mean: -100.2 +/- 124.8, min: -350.0, max: 62.0,\n",
      "\n",
      "Testing...\n"
     ]
    },
    {
     "name": "stderr",
     "output_type": "stream",
     "text": [
      "                                                                                                                       \r"
     ]
    },
    {
     "name": "stdout",
     "output_type": "stream",
     "text": [
      "Results (Test): mean: -32.3 +/- 110.6, min: -345.0 max: 62.0\n",
      "Saving the network weights to: checkpoints/Doom_Vanilla.pth\n",
      "Total elapsed time: 101.83 minutes\n",
      "\n",
      "Epoch #42\n"
     ]
    },
    {
     "name": "stderr",
     "output_type": "stream",
     "text": [
      "100%|██████████████████████████████████████████████████████████████████████████████| 2000/2000 [02:07<00:00, 15.72it/s]\n"
     ]
    },
    {
     "name": "stdout",
     "output_type": "stream",
     "text": [
      "Results (Train): mean: -47.0 +/- 86.0, min: -365.0, max: 62.0,\n",
      "\n",
      "Testing...\n"
     ]
    },
    {
     "name": "stderr",
     "output_type": "stream",
     "text": [
      "                                                                                                                       \r"
     ]
    },
    {
     "name": "stdout",
     "output_type": "stream",
     "text": [
      "Results (Test): mean: -3.5 +/- 35.9, min: -49.0 max: 62.0\n",
      "Saving the network weights to: checkpoints/Doom_Vanilla.pth\n",
      "Total elapsed time: 103.99 minutes\n",
      "\n",
      "Epoch #43\n"
     ]
    },
    {
     "name": "stderr",
     "output_type": "stream",
     "text": [
      "100%|██████████████████████████████████████████████████████████████████████████████| 2000/2000 [02:08<00:00, 15.56it/s]\n"
     ]
    },
    {
     "name": "stdout",
     "output_type": "stream",
     "text": [
      "Results (Train): mean: -35.0 +/- 81.1, min: -345.0, max: 62.0,\n",
      "\n",
      "Testing...\n"
     ]
    },
    {
     "name": "stderr",
     "output_type": "stream",
     "text": [
      "                                                                                                                       \r"
     ]
    },
    {
     "name": "stdout",
     "output_type": "stream",
     "text": [
      "Results (Test): mean: -3.7 +/- 28.9, min: -44.0 max: 62.0\n",
      "Saving the network weights to: checkpoints/Doom_Vanilla.pth\n",
      "Total elapsed time: 106.17 minutes\n",
      "\n",
      "Epoch #44\n"
     ]
    },
    {
     "name": "stderr",
     "output_type": "stream",
     "text": [
      "100%|██████████████████████████████████████████████████████████████████████████████| 2000/2000 [02:03<00:00, 16.21it/s]\n"
     ]
    },
    {
     "name": "stdout",
     "output_type": "stream",
     "text": [
      "Results (Train): mean: -23.1 +/- 81.9, min: -365.0, max: 62.0,\n",
      "\n",
      "Testing...\n"
     ]
    },
    {
     "name": "stderr",
     "output_type": "stream",
     "text": [
      "                                                                                                                       \r"
     ]
    },
    {
     "name": "stdout",
     "output_type": "stream",
     "text": [
      "Results (Test): mean: -17.3 +/- 33.4, min: -52.0 max: 62.0\n",
      "Saving the network weights to: checkpoints/Doom_Vanilla.pth\n",
      "Total elapsed time: 108.26 minutes\n",
      "\n",
      "Epoch #45\n"
     ]
    },
    {
     "name": "stderr",
     "output_type": "stream",
     "text": [
      "100%|██████████████████████████████████████████████████████████████████████████████| 2000/2000 [02:07<00:00, 15.71it/s]\n"
     ]
    },
    {
     "name": "stdout",
     "output_type": "stream",
     "text": [
      "Results (Train): mean: -22.8 +/- 76.7, min: -345.0, max: 62.0,\n",
      "\n",
      "Testing...\n"
     ]
    },
    {
     "name": "stderr",
     "output_type": "stream",
     "text": [
      "                                                                                                                       \r"
     ]
    },
    {
     "name": "stdout",
     "output_type": "stream",
     "text": [
      "Results (Test): mean: -46.3 +/- 33.2, min: -107.0 max: 5.0\n",
      "Saving the network weights to: checkpoints/Doom_Vanilla.pth\n",
      "Total elapsed time: 110.43 minutes\n",
      "\n",
      "Epoch #46\n"
     ]
    },
    {
     "name": "stderr",
     "output_type": "stream",
     "text": [
      "100%|██████████████████████████████████████████████████████████████████████████████| 2000/2000 [02:03<00:00, 16.24it/s]\n"
     ]
    },
    {
     "name": "stdout",
     "output_type": "stream",
     "text": [
      "Results (Train): mean: -31.9 +/- 87.6, min: -360.0, max: 62.0,\n",
      "\n",
      "Testing...\n"
     ]
    },
    {
     "name": "stderr",
     "output_type": "stream",
     "text": [
      "                                                                                                                       \r"
     ]
    },
    {
     "name": "stdout",
     "output_type": "stream",
     "text": [
      "Results (Test): mean: -51.7 +/- 99.9, min: -300.0 max: 62.0\n",
      "Saving the network weights to: checkpoints/Doom_Vanilla.pth\n",
      "Total elapsed time: 112.53 minutes\n",
      "\n",
      "Epoch #47\n"
     ]
    },
    {
     "name": "stderr",
     "output_type": "stream",
     "text": [
      "100%|██████████████████████████████████████████████████████████████████████████████| 2000/2000 [02:07<00:00, 15.70it/s]\n"
     ]
    },
    {
     "name": "stdout",
     "output_type": "stream",
     "text": [
      "Results (Train): mean: -37.2 +/- 95.2, min: -365.0, max: 62.0,\n",
      "\n",
      "Testing...\n"
     ]
    },
    {
     "name": "stderr",
     "output_type": "stream",
     "text": [
      "                                                                                                                       \r"
     ]
    },
    {
     "name": "stdout",
     "output_type": "stream",
     "text": [
      "Results (Test): mean: -91.3 +/- 138.2, min: -350.0 max: 62.0\n",
      "Saving the network weights to: checkpoints/Doom_Vanilla.pth\n",
      "Total elapsed time: 114.71 minutes\n",
      "\n",
      "Epoch #48\n"
     ]
    },
    {
     "name": "stderr",
     "output_type": "stream",
     "text": [
      "100%|██████████████████████████████████████████████████████████████████████████████| 2000/2000 [02:08<00:00, 15.55it/s]\n"
     ]
    },
    {
     "name": "stdout",
     "output_type": "stream",
     "text": [
      "Results (Train): mean: -45.5 +/- 104.6, min: -365.0, max: 62.0,\n",
      "\n",
      "Testing...\n"
     ]
    },
    {
     "name": "stderr",
     "output_type": "stream",
     "text": [
      "                                                                                                                       \r"
     ]
    },
    {
     "name": "stdout",
     "output_type": "stream",
     "text": [
      "Results (Test): mean: -7.5 +/- 104.0, min: -300.0 max: 62.0\n",
      "Saving the network weights to: checkpoints/Doom_Vanilla.pth\n",
      "Total elapsed time: 116.89 minutes\n",
      "\n",
      "Epoch #49\n"
     ]
    },
    {
     "name": "stderr",
     "output_type": "stream",
     "text": [
      "100%|██████████████████████████████████████████████████████████████████████████████| 2000/2000 [02:08<00:00, 15.60it/s]\n"
     ]
    },
    {
     "name": "stdout",
     "output_type": "stream",
     "text": [
      "Results (Train): mean: -45.4 +/- 107.7, min: -360.0, max: 62.0,\n",
      "\n",
      "Testing...\n"
     ]
    },
    {
     "name": "stderr",
     "output_type": "stream",
     "text": [
      "                                                                                                                       \r"
     ]
    },
    {
     "name": "stdout",
     "output_type": "stream",
     "text": [
      "Results (Test): mean: -82.1 +/- 128.9, min: -305.0 max: 62.0\n",
      "Saving the network weights to: checkpoints/Doom_Vanilla.pth\n",
      "Total elapsed time: 119.09 minutes\n",
      "\n",
      "Epoch #50\n"
     ]
    },
    {
     "name": "stderr",
     "output_type": "stream",
     "text": [
      "100%|██████████████████████████████████████████████████████████████████████████████| 2000/2000 [02:41<00:00, 12.40it/s]\n"
     ]
    },
    {
     "name": "stdout",
     "output_type": "stream",
     "text": [
      "Results (Train): mean: -28.3 +/- 91.3, min: -350.0, max: 62.0,\n",
      "\n",
      "Testing...\n"
     ]
    },
    {
     "name": "stderr",
     "output_type": "stream",
     "text": [
      "                                                                                                                       \r"
     ]
    },
    {
     "name": "stdout",
     "output_type": "stream",
     "text": [
      "Results (Test): mean: -23.5 +/- 54.0, min: -168.0 max: 14.0\n",
      "Saving the network weights to: checkpoints/Doom_Vanilla.pth\n",
      "Total elapsed time: 121.85 minutes\n",
      "======================================\n",
      "Training finished. It's time to watch!\n"
     ]
    },
    {
     "ename": "ViZDoomUnexpectedExitException",
     "evalue": "Controlled ViZDoom instance exited unexpectedly.",
     "output_type": "error",
     "traceback": [
      "\u001b[1;31m---------------------------------------------------------------------------\u001b[0m",
      "\u001b[1;31mViZDoomUnexpectedExitException\u001b[0m            Traceback (most recent call last)",
      "Cell \u001b[1;32mIn[7], line 188\u001b[0m\n\u001b[0;32m    186\u001b[0m     game\u001b[38;5;241m.\u001b[39mset_action(actions[best_action_index])\n\u001b[0;32m    187\u001b[0m     \u001b[38;5;28;01mfor\u001b[39;00m _ \u001b[38;5;129;01min\u001b[39;00m \u001b[38;5;28mrange\u001b[39m(\u001b[38;5;241m12\u001b[39m):\n\u001b[1;32m--> 188\u001b[0m         \u001b[43mgame\u001b[49m\u001b[38;5;241;43m.\u001b[39;49m\u001b[43madvance_action\u001b[49m\u001b[43m(\u001b[49m\u001b[43m)\u001b[49m\n\u001b[0;32m    190\u001b[0m \u001b[38;5;66;03m# Sleep between episodes\u001b[39;00m\n\u001b[0;32m    191\u001b[0m sleep(\u001b[38;5;241m1.0\u001b[39m)\n",
      "\u001b[1;31mViZDoomUnexpectedExitException\u001b[0m: Controlled ViZDoom instance exited unexpectedly."
     ]
    }
   ],
   "source": [
    "import itertools as it\n",
    "import os\n",
    "from time import time, sleep\n",
    "\n",
    "import torch\n",
    "import vizdoom as vzd\n",
    "import skimage\n",
    "import numpy as np\n",
    "from tqdm import trange\n",
    "\n",
    "from VanillaDQNAgent import VanillaAgent\n",
    "\n",
    "\n",
    "def preprocess(img):\n",
    "    \"\"\"Down samples image to resolution\"\"\"\n",
    "    img = skimage.transform.resize(img, (30, 45))\n",
    "    img = img.astype(np.float32)\n",
    "    img = np.expand_dims(img, axis=0)\n",
    "    return img\n",
    "\n",
    "\n",
    "def create_game_environment(config_file_path):\n",
    "    print(\"Creating game environment ...\")\n",
    "    game = vzd.DoomGame()\n",
    "    game.load_config(config_file_path)\n",
    "    game.set_window_visible(False)\n",
    "    game.set_mode(vzd.Mode.PLAYER)\n",
    "    game.set_screen_format(vzd.ScreenFormat.GRAY8)\n",
    "    game.set_screen_resolution(vzd.ScreenResolution.RES_640X480)\n",
    "    game.init()\n",
    "    print(\"Game environment initialized ...\")\n",
    "    return game\n",
    "\n",
    "\n",
    "def test_agent(game, agent, actions, frame_repeat, test_episodes_per_epoch=10):\n",
    "    \"\"\"Runs a test_episodes_per_epoch episodes and prints the result\"\"\"\n",
    "    print(\"\\nTesting...\")\n",
    "    test_scores = []\n",
    "    for _ in trange(test_episodes_per_epoch, leave=False):\n",
    "        game.new_episode()\n",
    "        while not game.is_episode_finished():\n",
    "            state = preprocess(game.get_state().screen_buffer)\n",
    "            best_action_index = agent.get_action(state)\n",
    "            game.make_action(actions[best_action_index], frame_repeat)\n",
    "        reward = game.get_total_reward()\n",
    "        test_scores.append(reward)\n",
    "\n",
    "    test_scores = np.array(test_scores)\n",
    "    return test_scores\n",
    "\n",
    "\n",
    "def train_agent(game, agent, actions, num_epochs, frame_repeat, steps_per_epoch, save_model, model_path):\n",
    "    \"\"\"\n",
    "    Trains the DQN Agent by running num_epochs of training episodes.\n",
    "    Skip frame_repeat number of frames after each action.\n",
    "    \"\"\"\n",
    "\n",
    "    start_time = time()\n",
    "\n",
    "    for epoch in range(num_epochs):\n",
    "        game.new_episode()\n",
    "        train_scores = []\n",
    "        global_step = 0\n",
    "\n",
    "        print(\"\\nEpoch #\" + str(epoch + 1))\n",
    "\n",
    "        for _ in trange(steps_per_epoch):\n",
    "            state = preprocess(game.get_state().screen_buffer)\n",
    "            action = agent.get_action(state)\n",
    "            reward = game.make_action(actions[action], frame_repeat)\n",
    "            done = game.is_episode_finished()\n",
    "\n",
    "            if not done:\n",
    "                next_state = preprocess(game.get_state().screen_buffer)\n",
    "            else:\n",
    "                next_state = np.zeros((1, 30, 45)).astype(np.float32)\n",
    "\n",
    "            agent.append_memory(state, action, reward, next_state, done)\n",
    "\n",
    "            if global_step > agent.batch_size:\n",
    "                agent.train()\n",
    "\n",
    "            if done:\n",
    "                train_scores.append(game.get_total_reward())\n",
    "                game.new_episode()\n",
    "\n",
    "            global_step += 1\n",
    "\n",
    "        train_scores = np.array(train_scores)\n",
    "        print(\n",
    "            \"Results (Train): mean: {:.1f} +/- {:.1f},\".format(\n",
    "                train_scores.mean(), train_scores.std()\n",
    "            ),\n",
    "            \"min: %.1f,\" % train_scores.min(),\n",
    "            \"max: %.1f,\" % train_scores.max(),\n",
    "        )\n",
    "\n",
    "        test_scores = test_agent(game, agent, actions, frame_repeat)\n",
    "        print(\n",
    "            \"Results (Test): mean: {:.1f} +/- {:.1f},\".format(\n",
    "                test_scores.mean(), test_scores.std()\n",
    "            ),\n",
    "            \"min: %.1f\" % test_scores.min(),\n",
    "            \"max: %.1f\" % test_scores.max(),\n",
    "        )\n",
    "\n",
    "        if save_model:\n",
    "            print(\"Saving the network weights to:\", model_path)\n",
    "            torch.save(agent.q_net, model_path)\n",
    "        print(\"Total elapsed time: %.2f minutes\" %\n",
    "              ((time() - start_time) / 60.0))\n",
    "\n",
    "    game.close()\n",
    "    return agent, game\n",
    "\n",
    "\n",
    "if __name__ == \"__main__\":\n",
    "    config_file_path = os.path.join(vzd.scenarios_path, \"rocket_basic.cfg\")\n",
    "    game = create_game_environment(config_file_path)\n",
    "    n = game.get_available_buttons_size()\n",
    "    actions = [list(a) for a in it.product([0, 1], repeat=n)]\n",
    "    \n",
    "      \n",
    "\n",
    "    # Set the hyperparameters\n",
    "    batch_size = 32\n",
    "    lr = 0.0021736400029288543\n",
    "    discount_factor = 0.9107590426615555\n",
    "    memory_size = 10000\n",
    "    frame_repeat = 16\n",
    "    steps_per_epoch = 2000\n",
    "    epsilon_decay = 0.9945794627225366\n",
    "\n",
    "    # Use GPU if available\n",
    "    if torch.cuda.is_available():\n",
    "        device = torch.device(\"cuda\")\n",
    "        torch.backends.cudnn.benchmark = True\n",
    "    else:\n",
    "        device = torch.device(\"cpu\")\n",
    "    print(f\"Using device={device} ...\")\n",
    "\n",
    "    # Initialize our agent with the set parameters\n",
    "    agent = VanillaAgent(\n",
    "        action_size=len(actions),\n",
    "        lr=lr,\n",
    "        batch_size=batch_size,\n",
    "        memory_size=memory_size,\n",
    "        discount_factor=discount_factor,\n",
    "        load_model=False,\n",
    "        device=device,\n",
    "        optimizer = \"Adam\",\n",
    "        epsilon_decay=epsilon_decay\n",
    "        \n",
    "    )\n",
    "\n",
    "    # Run the training for the set number of epochs\n",
    "    skip_learning = False\n",
    "    if not skip_learning:\n",
    "        agent, game = train_agent(\n",
    "            game,\n",
    "            agent,\n",
    "            actions,\n",
    "            num_epochs=50,\n",
    "            frame_repeat=frame_repeat,\n",
    "            steps_per_epoch=steps_per_epoch,\n",
    "            save_model=True,\n",
    "            model_path=\"checkpoints/Doom_Vanilla.pth\"\n",
    "        )\n",
    "\n",
    "        print(\"======================================\")\n",
    "        print(\"Training finished. It's time to watch!\")\n",
    "\n",
    "    # Reinitialize the game with window visible\n",
    "    game.close()\n",
    "    game.set_window_visible(True)\n",
    "    game.set_mode(vzd.Mode.ASYNC_PLAYER)\n",
    "    game.init()\n",
    "\n",
    "    for _ in range(10):\n",
    "        game.new_episode()\n",
    "        while not game.is_episode_finished():\n",
    "            state = preprocess(game.get_state().screen_buffer)\n",
    "            best_action_index = agent.get_action(state)\n",
    "\n",
    "            # Instead of make_action(a, frame_repeat) in order to make the animation smooth\n",
    "            game.set_action(actions[best_action_index])\n",
    "            for _ in range(12):\n",
    "                game.advance_action()\n",
    "\n",
    "        # Sleep between episodes\n",
    "        sleep(1.0)\n",
    "        score = game.get_total_reward()\n",
    "        print(\"Total score: \", score)\n"
   ]
  },
  {
   "cell_type": "code",
   "execution_count": null,
   "id": "ecbdbaca",
   "metadata": {},
   "outputs": [],
   "source": []
  },
  {
   "cell_type": "code",
   "execution_count": null,
   "id": "c46a7495",
   "metadata": {},
   "outputs": [],
   "source": []
  }
 ],
 "metadata": {
  "kernelspec": {
   "display_name": "Python 3 (ipykernel)",
   "language": "python",
   "name": "python3"
  },
  "language_info": {
   "codemirror_mode": {
    "name": "ipython",
    "version": 3
   },
   "file_extension": ".py",
   "mimetype": "text/x-python",
   "name": "python",
   "nbconvert_exporter": "python",
   "pygments_lexer": "ipython3",
   "version": "3.9.16"
  }
 },
 "nbformat": 4,
 "nbformat_minor": 5
}
