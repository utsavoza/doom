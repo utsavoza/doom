{
 "cells": [
  {
   "cell_type": "code",
   "execution_count": 1,
   "id": "d234f0a8",
   "metadata": {},
   "outputs": [],
   "source": [
    "#!/usr/bin/env python3\n",
    "\n",
    "# E. Culurciello, L. Mueller, Z. Boztoprak\n",
    "# December 2020\n",
    "\n",
    "import itertools as it\n",
    "import os\n",
    "import random\n",
    "from collections import deque\n",
    "from time import sleep, time\n",
    "\n",
    "import numpy as np\n",
    "import skimage.transform\n",
    "import torch\n",
    "import torch.nn as nn\n",
    "import torch.optim as optim\n",
    "from tqdm import trange\n",
    "import matplotlib.pyplot as plt\n",
    "\n",
    "import vizdoom as vzd\n",
    "\n",
    "\n",
    "# Q-learning settings\n",
    "learning_rate = 0.006491568748327548\n",
    "discount_factor = 0.8876233928106229\n",
    "train_epochs = 50\n",
    "learning_steps_per_epoch = 2000\n",
    "replay_memory_size = 10000\n",
    "\n",
    "# NN learning settings\n",
    "batch_size = 128\n",
    "\n",
    "# Training regime\n",
    "test_episodes_per_epoch = 10\n",
    "\n",
    "# Other parameters\n",
    "frame_repeat = 12\n",
    "resolution = (30, 45)\n",
    "episodes_to_watch = 10\n",
    "\n",
    "model_savefile = \"./model_Repo-doom.pth\"\n",
    "save_model = True\n",
    "load_model = False\n",
    "skip_learning = False\n",
    "\n",
    "# Configuration file path\n",
    "#config_file_path = os.path.join(vzd.scenarios_path, \"simpler_basic.cfg\")\n",
    "config_file_path = os.path.join(vzd.scenarios_path, \"rocket_basic.cfg\")\n",
    "#config_file_path = os.path.join(vzd.scenarios_path, \"basic.cfg\")\n",
    "\n",
    "# Uses GPU if available\n",
    "if torch.cuda.is_available():\n",
    "    DEVICE = torch.device(\"cuda\")\n",
    "    torch.backends.cudnn.benchmark = True\n",
    "else:\n",
    "    DEVICE = torch.device(\"cpu\")\n",
    "\n",
    "\n",
    "def preprocess(img):\n",
    "    \"\"\"Down samples image to resolution\"\"\"\n",
    "    img = skimage.transform.resize(img, resolution)\n",
    "    img = img.astype(np.float32)\n",
    "    img = np.expand_dims(img, axis=0)\n",
    "    return img\n",
    "\n",
    "\n",
    "def create_simple_game():\n",
    "    print(\"Initializing doom...\")\n",
    "    game = vzd.DoomGame()\n",
    "    game.load_config(config_file_path)\n",
    "    game.set_window_visible(False)\n",
    "    game.set_mode(vzd.Mode.PLAYER)\n",
    "    game.set_screen_format(vzd.ScreenFormat.GRAY8)\n",
    "    game.set_screen_resolution(vzd.ScreenResolution.RES_640X480)\n",
    "    game.init()\n",
    "    print(\"Doom initialized.\")\n",
    "\n",
    "    return game\n",
    "\n",
    "\n",
    "def test(game, agent):\n",
    "    \"\"\"Runs a test_episodes_per_epoch episodes and prints the result\"\"\"\n",
    "    print(\"\\nTesting...\")\n",
    "    test_scores = []\n",
    "    for test_episode in trange(test_episodes_per_epoch, leave=False):\n",
    "        game.new_episode()\n",
    "        while not game.is_episode_finished():\n",
    "            state = preprocess(game.get_state().screen_buffer)\n",
    "            best_action_index = agent.get_action(state)\n",
    "\n",
    "            game.make_action(actions[best_action_index], frame_repeat)\n",
    "        r = game.get_total_reward()\n",
    "        test_scores.append(r)\n",
    "\n",
    "    test_scores = np.array(test_scores)\n",
    "    print(\n",
    "        \"Results: mean: {:.1f} +/- {:.1f},\".format(\n",
    "            test_scores.mean(), test_scores.std()\n",
    "        ),\n",
    "        \"min: %.1f\" % test_scores.min(),\n",
    "        \"max: %.1f\" % test_scores.max(),\n",
    "    )\n",
    "    return test_scores\n",
    "\n",
    "def plot(x, y, title, x_axis_name, y_axis_name):\n",
    "    plt.plot(x, y)\n",
    "    plt.title(title)\n",
    "    plt.xlabel(x_axis_name)\n",
    "    plt.ylabel(y_axis_name)\n",
    "    plt.show()\n",
    "\n",
    "def run(game, agent, actions, num_epochs, frame_repeat, steps_per_epoch=2000):\n",
    "    \"\"\"\n",
    "    Run num epochs of training episodes.\n",
    "    Skip frame_repeat number of frames after each action.\n",
    "    \"\"\"\n",
    "\n",
    "    start_time = time()\n",
    "    train_scores_m =[]\n",
    "    test_scores_m =[]\n",
    "\n",
    "    for epoch in range(num_epochs):\n",
    "        game.new_episode()\n",
    "        train_scores = []\n",
    "        global_step = 0\n",
    "        print(\"\\nEpoch #\" + str(epoch + 1))\n",
    "\n",
    "        for _ in trange(steps_per_epoch, leave=False):\n",
    "            state = preprocess(game.get_state().screen_buffer)\n",
    "            action = agent.get_action(state)\n",
    "            reward = game.make_action(actions[action], frame_repeat)\n",
    "            done = game.is_episode_finished()\n",
    "\n",
    "            if not done:\n",
    "                next_state = preprocess(game.get_state().screen_buffer)\n",
    "            else:\n",
    "                next_state = np.zeros((1, 30, 45)).astype(np.float32)\n",
    "\n",
    "            agent.append_memory(state, action, reward, next_state, done)\n",
    "\n",
    "            if global_step > agent.batch_size:\n",
    "                agent.train()\n",
    "\n",
    "            if done:\n",
    "                train_scores.append(game.get_total_reward())\n",
    "                game.new_episode()\n",
    "\n",
    "            global_step += 1\n",
    "\n",
    "        agent.update_target_net()\n",
    "        train_scores = np.array(train_scores)\n",
    "\n",
    "        print(\n",
    "            \"Results: mean: {:.1f} +/- {:.1f},\".format(\n",
    "                train_scores.mean(), train_scores.std()\n",
    "            ),\n",
    "            \"min: %.1f,\" % train_scores.min(),\n",
    "            \"max: %.1f,\" % train_scores.max(),\n",
    "        )\n",
    "\n",
    "        test_scores= test(game, agent)\n",
    "        train_scores_m.append(train_scores.mean())\n",
    "        test_scores_m.append(test_scores.mean())\n",
    "        if save_model:\n",
    "            print(\"Saving the network weights to:\", model_savefile)\n",
    "            torch.save(agent.q_net, model_savefile)\n",
    "        print(\"Total elapsed time: %.2f minutes\" % ((time() - start_time) / 60.0))\n",
    "       \n",
    "    epochs =[i for i in range(0, num_epochs)]\n",
    "    plot(epochs, train_scores_m, \"Train Score v/s Epochs\", \"Epochs\", \"Train Score\")\n",
    "    plot(epochs, test_scores_m, \"Test Score v/s Epochs\", \"Epochs\", \"Test Score\")\n",
    "    game.close()\n",
    "    return agent, game\n",
    "\n",
    "\n",
    "\n",
    "\n",
    "\n",
    "class DuelQNet(nn.Module):\n",
    "    \"\"\"\n",
    "    This is Duel DQN architecture.\n",
    "    see https://arxiv.org/abs/1511.06581 for more information.\n",
    "    \"\"\"\n",
    "\n",
    "    def __init__(self, available_actions_count):\n",
    "        super().__init__()\n",
    "        self.conv1 = nn.Sequential(\n",
    "            nn.Conv2d(1, 8, kernel_size=3, stride=2, bias=False),\n",
    "            nn.BatchNorm2d(8),\n",
    "            nn.ReLU(),\n",
    "        )\n",
    "\n",
    "        self.conv2 = nn.Sequential(\n",
    "            nn.Conv2d(8, 8, kernel_size=3, stride=2, bias=False),\n",
    "            nn.BatchNorm2d(8),\n",
    "            nn.ReLU(),\n",
    "        )\n",
    "\n",
    "        self.conv3 = nn.Sequential(\n",
    "            nn.Conv2d(8, 8, kernel_size=3, stride=1, bias=False),\n",
    "            nn.BatchNorm2d(8),\n",
    "            nn.ReLU(),\n",
    "        )\n",
    "\n",
    "        self.conv4 = nn.Sequential(\n",
    "            nn.Conv2d(8, 16, kernel_size=3, stride=1, bias=False),\n",
    "            nn.BatchNorm2d(16),\n",
    "            nn.ReLU(),\n",
    "        )\n",
    "\n",
    "        self.state_fc = nn.Sequential(nn.Linear(96, 64), nn.ReLU(), nn.Linear(64, 1))\n",
    "\n",
    "        self.advantage_fc = nn.Sequential(\n",
    "            nn.Linear(96, 64), nn.ReLU(), nn.Linear(64, available_actions_count)\n",
    "        )\n",
    "\n",
    "    def forward(self, x):\n",
    "        x = self.conv1(x)\n",
    "        x = self.conv2(x)\n",
    "        x = self.conv3(x)\n",
    "        x = self.conv4(x)\n",
    "        x = x.view(-1, 192)\n",
    "        x1 = x[:, :96]  # input for the net to calculate the state value\n",
    "        x2 = x[:, 96:]  # relative advantage of actions in the state\n",
    "        state_value = self.state_fc(x1).reshape(-1, 1)\n",
    "        advantage_values = self.advantage_fc(x2)\n",
    "        x = state_value + (\n",
    "            advantage_values - advantage_values.mean(dim=1).reshape(-1, 1)\n",
    "        )\n",
    "\n",
    "        return x\n",
    "\n",
    "\n",
    "class DQNAgent:\n",
    "    def __init__(\n",
    "        self,\n",
    "        action_size,\n",
    "        memory_size,\n",
    "        batch_size,\n",
    "        discount_factor,\n",
    "        lr,\n",
    "        load_model,\n",
    "        epsilon=1,\n",
    "        epsilon_decay=0.995655176912701,\n",
    "        epsilon_min=0.1,\n",
    "    ):\n",
    "        self.action_size = action_size\n",
    "        self.epsilon = epsilon\n",
    "        self.epsilon_decay = epsilon_decay\n",
    "        self.epsilon_min = epsilon_min\n",
    "        self.batch_size = batch_size\n",
    "        self.discount = discount_factor\n",
    "        self.lr = lr\n",
    "        self.memory = deque(maxlen=memory_size)\n",
    "        self.criterion = nn.MSELoss()\n",
    "\n",
    "        if load_model:\n",
    "            print(\"Loading model from: \", model_savefile)\n",
    "            self.q_net = torch.load(model_savefile)\n",
    "            self.target_net = torch.load(model_savefile)\n",
    "            self.epsilon = self.epsilon_min\n",
    "\n",
    "        else:\n",
    "            print(\"Initializing new model\")\n",
    "            self.q_net = DuelQNet(action_size).to(DEVICE)\n",
    "            self.target_net = DuelQNet(action_size).to(DEVICE)\n",
    "\n",
    "        self.opt = optim.Adam(self.q_net.parameters(), lr=self.lr)\n",
    "\n",
    "    def get_action(self, state):\n",
    "        if np.random.uniform() < self.epsilon:\n",
    "            return random.choice(range(self.action_size))\n",
    "        else:\n",
    "            state = np.expand_dims(state, axis=0)\n",
    "            state = torch.from_numpy(state).float().to(DEVICE)\n",
    "            action = torch.argmax(self.q_net(state)).item()\n",
    "            return action\n",
    "\n",
    "    def update_target_net(self):\n",
    "        self.target_net.load_state_dict(self.q_net.state_dict())\n",
    "\n",
    "    def append_memory(self, state, action, reward, next_state, done):\n",
    "        self.memory.append((state, action, reward, next_state, done))\n",
    "\n",
    "    def train(self):\n",
    "        batch = random.sample(self.memory, self.batch_size)\n",
    "        batch = np.array(batch, dtype=object)\n",
    "\n",
    "        states = np.stack(batch[:, 0]).astype(float)\n",
    "        actions = batch[:, 1].astype(int)\n",
    "        rewards = batch[:, 2].astype(float)\n",
    "        next_states = np.stack(batch[:, 3]).astype(float)\n",
    "        dones = batch[:, 4].astype(bool)\n",
    "        not_dones = ~dones\n",
    "\n",
    "        row_idx = np.arange(self.batch_size)  # used for indexing the batch\n",
    "\n",
    "        # value of the next states with double q learning\n",
    "        # see https://arxiv.org/abs/1509.06461 for more information on double q learning\n",
    "        with torch.no_grad():\n",
    "            next_states = torch.from_numpy(next_states).float().to(DEVICE)\n",
    "            idx = row_idx, np.argmax(self.q_net(next_states).cpu().data.numpy(), 1)\n",
    "            next_state_values = self.target_net(next_states).cpu().data.numpy()[idx]\n",
    "            next_state_values = next_state_values[not_dones]\n",
    "\n",
    "        # this defines y = r + discount * max_a q(s', a)\n",
    "        q_targets = rewards.copy()\n",
    "        q_targets[not_dones] += self.discount * next_state_values\n",
    "        q_targets = torch.from_numpy(q_targets).float().to(DEVICE)\n",
    "\n",
    "        # this selects only the q values of the actions taken\n",
    "        idx = row_idx, actions\n",
    "        states = torch.from_numpy(states).float().to(DEVICE)\n",
    "        action_values = self.q_net(states)[idx].float().to(DEVICE)\n",
    "\n",
    "        self.opt.zero_grad()\n",
    "        td_error = self.criterion(q_targets, action_values)\n",
    "        td_error.backward()\n",
    "        self.opt.step()\n",
    "\n",
    "        if self.epsilon > self.epsilon_min:\n",
    "            self.epsilon *= self.epsilon_decay\n",
    "        else:\n",
    "            self.epsilon = self.epsilon_min"
   ]
  },
  {
   "cell_type": "code",
   "execution_count": 1,
   "id": "0d6b35e8",
   "metadata": {},
   "outputs": [
    {
     "name": "stdout",
     "output_type": "stream",
     "text": [
      "Initializing doom...\n",
      "Doom initialized.\n",
      "Initializing new model\n",
      "\n",
      "Epoch #1\n"
     ]
    },
    {
     "name": "stderr",
     "output_type": "stream",
     "text": [
      "                                                                                                                       \r"
     ]
    },
    {
     "name": "stdout",
     "output_type": "stream",
     "text": [
      "Results: mean: -216.6 +/- 140.3, min: -355.0, max: 66.0,\n",
      "\n",
      "Testing...\n"
     ]
    },
    {
     "name": "stderr",
     "output_type": "stream",
     "text": [
      "                                                                                                                       \r"
     ]
    },
    {
     "name": "stdout",
     "output_type": "stream",
     "text": [
      "Results: mean: -204.3 +/- 134.6, min: -305.0 max: 66.0\n",
      "Saving the network weights to: ./model_Repo-doom.pth\n",
      "Total elapsed time: 5.53 minutes\n",
      "\n",
      "Epoch #2\n"
     ]
    },
    {
     "name": "stderr",
     "output_type": "stream",
     "text": [
      "                                                                                                                       \r"
     ]
    },
    {
     "name": "stdout",
     "output_type": "stream",
     "text": [
      "Results: mean: -131.9 +/- 166.4, min: -350.0, max: 66.0,\n",
      "\n",
      "Testing...\n"
     ]
    },
    {
     "name": "stderr",
     "output_type": "stream",
     "text": [
      "                                                                                                                       \r"
     ]
    },
    {
     "name": "stdout",
     "output_type": "stream",
     "text": [
      "Results: mean: -112.5 +/- 133.4, min: -315.0 max: 18.0\n",
      "Saving the network weights to: ./model_Repo-doom.pth\n",
      "Total elapsed time: 11.32 minutes\n",
      "\n",
      "Epoch #3\n"
     ]
    },
    {
     "name": "stderr",
     "output_type": "stream",
     "text": [
      "                                                                                                                       \r"
     ]
    },
    {
     "name": "stdout",
     "output_type": "stream",
     "text": [
      "Results: mean: -26.1 +/- 132.1, min: -355.0, max: 66.0,\n",
      "\n",
      "Testing...\n"
     ]
    },
    {
     "name": "stderr",
     "output_type": "stream",
     "text": [
      "                                                                                                                       \r"
     ]
    },
    {
     "name": "stdout",
     "output_type": "stream",
     "text": [
      "Results: mean: -47.4 +/- 142.2, min: -350.0 max: 66.0\n",
      "Saving the network weights to: ./model_Repo-doom.pth\n",
      "Total elapsed time: 16.65 minutes\n",
      "\n",
      "Epoch #4\n"
     ]
    },
    {
     "name": "stderr",
     "output_type": "stream",
     "text": [
      "                                                                                                                       \r"
     ]
    },
    {
     "name": "stdout",
     "output_type": "stream",
     "text": [
      "Results: mean: -15.9 +/- 98.9, min: -370.0, max: 66.0,\n",
      "\n",
      "Testing...\n"
     ]
    },
    {
     "name": "stderr",
     "output_type": "stream",
     "text": [
      "                                                                                                                       \r"
     ]
    },
    {
     "name": "stdout",
     "output_type": "stream",
     "text": [
      "Results: mean: 10.7 +/- 18.9, min: -19.0 max: 54.0\n",
      "Saving the network weights to: ./model_Repo-doom.pth\n",
      "Total elapsed time: 22.30 minutes\n",
      "\n",
      "Epoch #5\n"
     ]
    },
    {
     "name": "stderr",
     "output_type": "stream",
     "text": [
      "                                                                                                                       \r"
     ]
    },
    {
     "name": "stdout",
     "output_type": "stream",
     "text": [
      "Results: mean: 9.5 +/- 75.3, min: -355.0, max: 66.0,\n",
      "\n",
      "Testing...\n"
     ]
    },
    {
     "name": "stderr",
     "output_type": "stream",
     "text": [
      "                                                                                                                       \r"
     ]
    },
    {
     "name": "stdout",
     "output_type": "stream",
     "text": [
      "Results: mean: -53.0 +/- 138.2, min: -325.0 max: 54.0\n",
      "Saving the network weights to: ./model_Repo-doom.pth\n",
      "Total elapsed time: 26.94 minutes\n",
      "\n",
      "Epoch #6\n"
     ]
    },
    {
     "name": "stderr",
     "output_type": "stream",
     "text": [
      "                                                                                                                       \r"
     ]
    },
    {
     "name": "stdout",
     "output_type": "stream",
     "text": [
      "Results: mean: 11.2 +/- 71.0, min: -355.0, max: 66.0,\n",
      "\n",
      "Testing...\n"
     ]
    },
    {
     "name": "stderr",
     "output_type": "stream",
     "text": [
      "                                                                                                                       \r"
     ]
    },
    {
     "name": "stdout",
     "output_type": "stream",
     "text": [
      "Results: mean: 11.5 +/- 44.3, min: -102.0 max: 66.0\n",
      "Saving the network weights to: ./model_Repo-doom.pth\n",
      "Total elapsed time: 31.60 minutes\n",
      "\n",
      "Epoch #7\n"
     ]
    },
    {
     "name": "stderr",
     "output_type": "stream",
     "text": [
      "                                                                                                                       \r"
     ]
    },
    {
     "name": "stdout",
     "output_type": "stream",
     "text": [
      "Results: mean: 3.2 +/- 61.0, min: -360.0, max: 66.0,\n",
      "\n",
      "Testing...\n"
     ]
    },
    {
     "name": "stderr",
     "output_type": "stream",
     "text": [
      "                                                                                                                       \r"
     ]
    },
    {
     "name": "stdout",
     "output_type": "stream",
     "text": [
      "Results: mean: -20.0 +/- 104.9, min: -320.0 max: 54.0\n",
      "Saving the network weights to: ./model_Repo-doom.pth\n",
      "Total elapsed time: 36.08 minutes\n",
      "\n",
      "Epoch #8\n"
     ]
    },
    {
     "name": "stderr",
     "output_type": "stream",
     "text": [
      "                                                                                                                       \r"
     ]
    },
    {
     "name": "stdout",
     "output_type": "stream",
     "text": [
      "Results: mean: 0.3 +/- 72.5, min: -350.0, max: 66.0,\n",
      "\n",
      "Testing...\n"
     ]
    },
    {
     "name": "stderr",
     "output_type": "stream",
     "text": [
      "                                                                                                                       \r"
     ]
    },
    {
     "name": "stdout",
     "output_type": "stream",
     "text": [
      "Results: mean: 14.5 +/- 38.5, min: -44.0 max: 66.0\n",
      "Saving the network weights to: ./model_Repo-doom.pth\n",
      "Total elapsed time: 40.85 minutes\n",
      "\n",
      "Epoch #9\n"
     ]
    },
    {
     "name": "stderr",
     "output_type": "stream",
     "text": [
      "                                                                                                                       \r"
     ]
    },
    {
     "name": "stdout",
     "output_type": "stream",
     "text": [
      "Results: mean: 1.3 +/- 70.9, min: -355.0, max: 66.0,\n",
      "\n",
      "Testing...\n"
     ]
    },
    {
     "name": "stderr",
     "output_type": "stream",
     "text": [
      "                                                                                                                       \r"
     ]
    },
    {
     "name": "stdout",
     "output_type": "stream",
     "text": [
      "Results: mean: -13.8 +/- 54.0, min: -141.0 max: 66.0\n",
      "Saving the network weights to: ./model_Repo-doom.pth\n",
      "Total elapsed time: 45.38 minutes\n",
      "\n",
      "Epoch #10\n"
     ]
    },
    {
     "name": "stderr",
     "output_type": "stream",
     "text": [
      "                                                                                                                       \r"
     ]
    },
    {
     "name": "stdout",
     "output_type": "stream",
     "text": [
      "Results: mean: -7.3 +/- 83.6, min: -355.0, max: 66.0,\n",
      "\n",
      "Testing...\n"
     ]
    },
    {
     "name": "stderr",
     "output_type": "stream",
     "text": [
      "                                                                                                                       \r"
     ]
    },
    {
     "name": "stdout",
     "output_type": "stream",
     "text": [
      "Results: mean: 9.6 +/- 74.2, min: -163.0 max: 66.0\n",
      "Saving the network weights to: ./model_Repo-doom.pth\n",
      "Total elapsed time: 50.10 minutes\n",
      "\n",
      "Epoch #11\n"
     ]
    },
    {
     "name": "stderr",
     "output_type": "stream",
     "text": [
      "                                                                                                                       \r"
     ]
    },
    {
     "name": "stdout",
     "output_type": "stream",
     "text": [
      "Results: mean: 18.9 +/- 65.1, min: -350.0, max: 66.0,\n",
      "\n",
      "Testing...\n"
     ]
    },
    {
     "name": "stderr",
     "output_type": "stream",
     "text": [
      "                                                                                                                       \r"
     ]
    },
    {
     "name": "stdout",
     "output_type": "stream",
     "text": [
      "Results: mean: -8.0 +/- 107.2, min: -310.0 max: 66.0\n",
      "Saving the network weights to: ./model_Repo-doom.pth\n",
      "Total elapsed time: 54.98 minutes\n",
      "\n",
      "Epoch #12\n"
     ]
    },
    {
     "name": "stderr",
     "output_type": "stream",
     "text": [
      "                                                                                                                       \r"
     ]
    },
    {
     "name": "stdout",
     "output_type": "stream",
     "text": [
      "Results: mean: 2.6 +/- 69.9, min: -350.0, max: 66.0,\n",
      "\n",
      "Testing...\n"
     ]
    },
    {
     "name": "stderr",
     "output_type": "stream",
     "text": [
      "                                                                                                                       \r"
     ]
    },
    {
     "name": "stdout",
     "output_type": "stream",
     "text": [
      "Results: mean: -26.8 +/- 96.6, min: -305.0 max: 54.0\n",
      "Saving the network weights to: ./model_Repo-doom.pth\n",
      "Total elapsed time: 59.65 minutes\n",
      "\n",
      "Epoch #13\n"
     ]
    },
    {
     "name": "stderr",
     "output_type": "stream",
     "text": [
      "                                                                                                                       \r"
     ]
    },
    {
     "name": "stdout",
     "output_type": "stream",
     "text": [
      "Results: mean: 33.5 +/- 59.7, min: -335.0, max: 66.0,\n",
      "\n",
      "Testing...\n"
     ]
    },
    {
     "name": "stderr",
     "output_type": "stream",
     "text": [
      "                                                                                                                       \r"
     ]
    },
    {
     "name": "stdout",
     "output_type": "stream",
     "text": [
      "Results: mean: -1.6 +/- 105.1, min: -300.0 max: 66.0\n",
      "Saving the network weights to: ./model_Repo-doom.pth\n",
      "Total elapsed time: 64.70 minutes\n",
      "\n",
      "Epoch #14\n"
     ]
    },
    {
     "name": "stderr",
     "output_type": "stream",
     "text": [
      "                                                                                                                       \r"
     ]
    },
    {
     "name": "stdout",
     "output_type": "stream",
     "text": [
      "Results: mean: 18.5 +/- 74.6, min: -360.0, max: 66.0,\n",
      "\n",
      "Testing...\n"
     ]
    },
    {
     "name": "stderr",
     "output_type": "stream",
     "text": [
      "                                                                                                                       \r"
     ]
    },
    {
     "name": "stdout",
     "output_type": "stream",
     "text": [
      "Results: mean: 37.6 +/- 25.2, min: 6.0 max: 66.0\n",
      "Saving the network weights to: ./model_Repo-doom.pth\n",
      "Total elapsed time: 69.60 minutes\n",
      "\n",
      "Epoch #15\n"
     ]
    },
    {
     "name": "stderr",
     "output_type": "stream",
     "text": [
      "                                                                                                                       \r"
     ]
    },
    {
     "name": "stdout",
     "output_type": "stream",
     "text": [
      "Results: mean: 30.3 +/- 62.6, min: -335.0, max: 66.0,\n",
      "\n",
      "Testing...\n"
     ]
    },
    {
     "name": "stderr",
     "output_type": "stream",
     "text": [
      "                                                                                                                       \r"
     ]
    },
    {
     "name": "stdout",
     "output_type": "stream",
     "text": [
      "Results: mean: 46.9 +/- 57.3, min: -125.0 max: 66.0\n",
      "Saving the network weights to: ./model_Repo-doom.pth\n",
      "Total elapsed time: 74.61 minutes\n",
      "\n",
      "Epoch #16\n"
     ]
    },
    {
     "name": "stderr",
     "output_type": "stream",
     "text": [
      "                                                                                                                       \r"
     ]
    },
    {
     "name": "stdout",
     "output_type": "stream",
     "text": [
      "Results: mean: 37.6 +/- 58.1, min: -355.0, max: 66.0,\n",
      "\n",
      "Testing...\n"
     ]
    },
    {
     "name": "stderr",
     "output_type": "stream",
     "text": [
      "                                                                                                                       \r"
     ]
    },
    {
     "name": "stdout",
     "output_type": "stream",
     "text": [
      "Results: mean: 49.7 +/- 14.1, min: 25.0 max: 66.0\n",
      "Saving the network weights to: ./model_Repo-doom.pth\n",
      "Total elapsed time: 79.53 minutes\n",
      "\n",
      "Epoch #17\n"
     ]
    },
    {
     "name": "stderr",
     "output_type": "stream",
     "text": [
      "                                                                                                                       \r"
     ]
    },
    {
     "name": "stdout",
     "output_type": "stream",
     "text": [
      "Results: mean: 32.2 +/- 51.3, min: -234.0, max: 66.0,\n",
      "\n",
      "Testing...\n"
     ]
    },
    {
     "name": "stderr",
     "output_type": "stream",
     "text": [
      "                                                                                                                       \r"
     ]
    },
    {
     "name": "stdout",
     "output_type": "stream",
     "text": [
      "Results: mean: 48.7 +/- 29.2, min: -23.0 max: 66.0\n",
      "Saving the network weights to: ./model_Repo-doom.pth\n",
      "Total elapsed time: 84.54 minutes\n",
      "\n",
      "Epoch #18\n"
     ]
    },
    {
     "name": "stderr",
     "output_type": "stream",
     "text": [
      "                                                                                                                       \r"
     ]
    },
    {
     "name": "stdout",
     "output_type": "stream",
     "text": [
      "Results: mean: 36.5 +/- 50.6, min: -355.0, max: 66.0,\n",
      "\n",
      "Testing...\n"
     ]
    },
    {
     "name": "stderr",
     "output_type": "stream",
     "text": [
      "                                                                                                                       \r"
     ]
    },
    {
     "name": "stdout",
     "output_type": "stream",
     "text": [
      "Results: mean: 52.3 +/- 22.1, min: -6.0 max: 66.0\n",
      "Saving the network weights to: ./model_Repo-doom.pth\n",
      "Total elapsed time: 89.75 minutes\n",
      "\n",
      "Epoch #19\n"
     ]
    },
    {
     "name": "stderr",
     "output_type": "stream",
     "text": [
      "                                                                                                                       \r"
     ]
    },
    {
     "name": "stdout",
     "output_type": "stream",
     "text": [
      "Results: mean: 39.3 +/- 52.5, min: -350.0, max: 66.0,\n",
      "\n",
      "Testing...\n"
     ]
    },
    {
     "name": "stderr",
     "output_type": "stream",
     "text": [
      "                                                                                                                       \r"
     ]
    },
    {
     "name": "stdout",
     "output_type": "stream",
     "text": [
      "Results: mean: 56.4 +/- 11.8, min: 30.0 max: 66.0\n",
      "Saving the network weights to: ./model_Repo-doom.pth\n",
      "Total elapsed time: 94.87 minutes\n",
      "\n",
      "Epoch #20\n"
     ]
    },
    {
     "name": "stderr",
     "output_type": "stream",
     "text": [
      "                                                                                                                       \r"
     ]
    },
    {
     "name": "stdout",
     "output_type": "stream",
     "text": [
      "Results: mean: 37.8 +/- 55.3, min: -355.0, max: 66.0,\n",
      "\n",
      "Testing...\n"
     ]
    },
    {
     "name": "stderr",
     "output_type": "stream",
     "text": [
      "                                                                                                                       \r"
     ]
    },
    {
     "name": "stdout",
     "output_type": "stream",
     "text": [
      "Results: mean: 43.9 +/- 28.0, min: -6.0 max: 66.0\n",
      "Saving the network weights to: ./model_Repo-doom.pth\n",
      "Total elapsed time: 99.87 minutes\n",
      "\n",
      "Epoch #21\n"
     ]
    },
    {
     "name": "stderr",
     "output_type": "stream",
     "text": [
      "                                                                                                                       \r"
     ]
    },
    {
     "name": "stdout",
     "output_type": "stream",
     "text": [
      "Results: mean: 27.3 +/- 78.5, min: -345.0, max: 66.0,\n",
      "\n",
      "Testing...\n"
     ]
    },
    {
     "name": "stderr",
     "output_type": "stream",
     "text": [
      "                                                                                                                       \r"
     ]
    },
    {
     "name": "stdout",
     "output_type": "stream",
     "text": [
      "Results: mean: 57.0 +/- 18.4, min: 13.0 max: 66.0\n",
      "Saving the network weights to: ./model_Repo-doom.pth\n",
      "Total elapsed time: 104.91 minutes\n",
      "\n",
      "Epoch #22\n"
     ]
    },
    {
     "name": "stderr",
     "output_type": "stream",
     "text": [
      "                                                                                                                       \r"
     ]
    },
    {
     "name": "stdout",
     "output_type": "stream",
     "text": [
      "Results: mean: 21.7 +/- 84.9, min: -350.0, max: 66.0,\n",
      "\n",
      "Testing...\n"
     ]
    },
    {
     "name": "stderr",
     "output_type": "stream",
     "text": [
      "                                                                                                                       \r"
     ]
    },
    {
     "name": "stdout",
     "output_type": "stream",
     "text": [
      "Results: mean: 40.3 +/- 33.8, min: -30.0 max: 66.0\n",
      "Saving the network weights to: ./model_Repo-doom.pth\n",
      "Total elapsed time: 109.87 minutes\n",
      "\n",
      "Epoch #23\n"
     ]
    },
    {
     "name": "stderr",
     "output_type": "stream",
     "text": [
      "                                                                                                                       \r"
     ]
    },
    {
     "name": "stdout",
     "output_type": "stream",
     "text": [
      "Results: mean: 26.3 +/- 74.3, min: -340.0, max: 66.0,\n",
      "\n",
      "Testing...\n"
     ]
    },
    {
     "name": "stderr",
     "output_type": "stream",
     "text": [
      "                                                                                                                       \r"
     ]
    },
    {
     "name": "stdout",
     "output_type": "stream",
     "text": [
      "Results: mean: 11.0 +/- 49.1, min: -85.0 max: 66.0\n",
      "Saving the network weights to: ./model_Repo-doom.pth\n",
      "Total elapsed time: 114.72 minutes\n",
      "\n",
      "Epoch #24\n"
     ]
    },
    {
     "name": "stderr",
     "output_type": "stream",
     "text": [
      "                                                                                                                       \r"
     ]
    },
    {
     "name": "stdout",
     "output_type": "stream",
     "text": [
      "Results: mean: 26.6 +/- 75.7, min: -355.0, max: 66.0,\n",
      "\n",
      "Testing...\n"
     ]
    },
    {
     "name": "stderr",
     "output_type": "stream",
     "text": [
      "                                                                                                                       \r"
     ]
    },
    {
     "name": "stdout",
     "output_type": "stream",
     "text": [
      "Results: mean: 50.3 +/- 24.3, min: -7.0 max: 66.0\n",
      "Saving the network weights to: ./model_Repo-doom.pth\n",
      "Total elapsed time: 119.79 minutes\n",
      "\n",
      "Epoch #25\n"
     ]
    },
    {
     "name": "stderr",
     "output_type": "stream",
     "text": [
      "                                                                                                                       \r"
     ]
    },
    {
     "name": "stdout",
     "output_type": "stream",
     "text": [
      "Results: mean: 29.8 +/- 65.5, min: -350.0, max: 66.0,\n",
      "\n",
      "Testing...\n"
     ]
    },
    {
     "name": "stderr",
     "output_type": "stream",
     "text": [
      "                                                                                                                       \r"
     ]
    },
    {
     "name": "stdout",
     "output_type": "stream",
     "text": [
      "Results: mean: 43.1 +/- 35.5, min: -28.0 max: 66.0\n",
      "Saving the network weights to: ./model_Repo-doom.pth\n",
      "Total elapsed time: 124.69 minutes\n",
      "\n",
      "Epoch #26\n"
     ]
    },
    {
     "name": "stderr",
     "output_type": "stream",
     "text": [
      "                                                                                                                       \r"
     ]
    },
    {
     "name": "stdout",
     "output_type": "stream",
     "text": [
      "Results: mean: 38.8 +/- 51.7, min: -325.0, max: 66.0,\n",
      "\n",
      "Testing...\n"
     ]
    },
    {
     "name": "stderr",
     "output_type": "stream",
     "text": [
      "                                                                                                                       \r"
     ]
    },
    {
     "name": "stdout",
     "output_type": "stream",
     "text": [
      "Results: mean: 63.6 +/- 7.2, min: 42.0 max: 66.0\n",
      "Saving the network weights to: ./model_Repo-doom.pth\n",
      "Total elapsed time: 130.10 minutes\n",
      "\n",
      "Epoch #27\n"
     ]
    },
    {
     "name": "stderr",
     "output_type": "stream",
     "text": [
      "                                                                                                                       \r"
     ]
    },
    {
     "name": "stdout",
     "output_type": "stream",
     "text": [
      "Results: mean: 34.5 +/- 62.0, min: -340.0, max: 66.0,\n",
      "\n",
      "Testing...\n"
     ]
    },
    {
     "name": "stderr",
     "output_type": "stream",
     "text": [
      "                                                                                                                       \r"
     ]
    },
    {
     "name": "stdout",
     "output_type": "stream",
     "text": [
      "Results: mean: -17.7 +/- 111.0, min: -300.0 max: 66.0\n",
      "Saving the network weights to: ./model_Repo-doom.pth\n",
      "Total elapsed time: 135.20 minutes\n",
      "\n",
      "Epoch #28\n"
     ]
    },
    {
     "name": "stderr",
     "output_type": "stream",
     "text": [
      "                                                                                                                       \r"
     ]
    },
    {
     "name": "stdout",
     "output_type": "stream",
     "text": [
      "Results: mean: 25.4 +/- 78.1, min: -350.0, max: 66.0,\n",
      "\n",
      "Testing...\n"
     ]
    },
    {
     "name": "stderr",
     "output_type": "stream",
     "text": [
      "                                                                                                                       \r"
     ]
    },
    {
     "name": "stdout",
     "output_type": "stream",
     "text": [
      "Results: mean: -47.2 +/- 125.5, min: -340.0 max: 66.0\n",
      "Saving the network weights to: ./model_Repo-doom.pth\n",
      "Total elapsed time: 140.23 minutes\n",
      "\n",
      "Epoch #29\n"
     ]
    },
    {
     "name": "stderr",
     "output_type": "stream",
     "text": [
      "                                                                                                                       \r"
     ]
    },
    {
     "name": "stdout",
     "output_type": "stream",
     "text": [
      "Results: mean: 17.5 +/- 87.4, min: -345.0, max: 66.0,\n",
      "\n",
      "Testing...\n"
     ]
    },
    {
     "name": "stderr",
     "output_type": "stream",
     "text": [
      "                                                                                                                       \r"
     ]
    },
    {
     "name": "stdout",
     "output_type": "stream",
     "text": [
      "Results: mean: -45.2 +/- 139.8, min: -305.0 max: 66.0\n",
      "Saving the network weights to: ./model_Repo-doom.pth\n",
      "Total elapsed time: 145.25 minutes\n",
      "\n",
      "Epoch #30\n"
     ]
    },
    {
     "name": "stderr",
     "output_type": "stream",
     "text": [
      "                                                                                                                       \r"
     ]
    },
    {
     "name": "stdout",
     "output_type": "stream",
     "text": [
      "Results: mean: 6.6 +/- 103.9, min: -350.0, max: 66.0,\n",
      "\n",
      "Testing...\n"
     ]
    },
    {
     "name": "stderr",
     "output_type": "stream",
     "text": [
      "                                                                                                                       \r"
     ]
    },
    {
     "name": "stdout",
     "output_type": "stream",
     "text": [
      "Results: mean: -33.1 +/- 142.3, min: -315.0 max: 66.0\n",
      "Saving the network weights to: ./model_Repo-doom.pth\n",
      "Total elapsed time: 150.13 minutes\n",
      "\n",
      "Epoch #31\n"
     ]
    },
    {
     "name": "stderr",
     "output_type": "stream",
     "text": [
      "                                                                                                                       \r"
     ]
    },
    {
     "name": "stdout",
     "output_type": "stream",
     "text": [
      "Results: mean: 23.2 +/- 79.1, min: -320.0, max: 66.0,\n",
      "\n",
      "Testing...\n"
     ]
    },
    {
     "name": "stderr",
     "output_type": "stream",
     "text": [
      "                                                                                                                       \r"
     ]
    },
    {
     "name": "stdout",
     "output_type": "stream",
     "text": [
      "Results: mean: 14.7 +/- 107.4, min: -305.0 max: 66.0\n",
      "Saving the network weights to: ./model_Repo-doom.pth\n",
      "Total elapsed time: 154.83 minutes\n",
      "\n",
      "Epoch #32\n"
     ]
    },
    {
     "name": "stderr",
     "output_type": "stream",
     "text": [
      "                                                                                                                       \r"
     ]
    },
    {
     "name": "stdout",
     "output_type": "stream",
     "text": [
      "Results: mean: 30.7 +/- 71.4, min: -340.0, max: 66.0,\n",
      "\n",
      "Testing...\n"
     ]
    },
    {
     "name": "stderr",
     "output_type": "stream",
     "text": [
      "                                                                                                                       \r"
     ]
    },
    {
     "name": "stdout",
     "output_type": "stream",
     "text": [
      "Results: mean: 45.4 +/- 25.3, min: -18.0 max: 66.0\n",
      "Saving the network weights to: ./model_Repo-doom.pth\n",
      "Total elapsed time: 159.61 minutes\n",
      "\n",
      "Epoch #33\n"
     ]
    },
    {
     "name": "stderr",
     "output_type": "stream",
     "text": [
      "                                                                                                                       \r"
     ]
    },
    {
     "name": "stdout",
     "output_type": "stream",
     "text": [
      "Results: mean: 36.1 +/- 60.9, min: -355.0, max: 66.0,\n",
      "\n",
      "Testing...\n"
     ]
    },
    {
     "name": "stderr",
     "output_type": "stream",
     "text": [
      "                                                                                                                       \r"
     ]
    },
    {
     "name": "stdout",
     "output_type": "stream",
     "text": [
      "Results: mean: 63.6 +/- 4.8, min: 54.0 max: 66.0\n",
      "Saving the network weights to: ./model_Repo-doom.pth\n",
      "Total elapsed time: 164.61 minutes\n",
      "\n",
      "Epoch #34\n"
     ]
    },
    {
     "name": "stderr",
     "output_type": "stream",
     "text": [
      "                                                                                                                       \r"
     ]
    },
    {
     "name": "stdout",
     "output_type": "stream",
     "text": [
      "Results: mean: 38.2 +/- 48.4, min: -315.0, max: 66.0,\n",
      "\n",
      "Testing...\n"
     ]
    },
    {
     "name": "stderr",
     "output_type": "stream",
     "text": [
      "                                                                                                                       \r"
     ]
    },
    {
     "name": "stdout",
     "output_type": "stream",
     "text": [
      "Results: mean: 46.8 +/- 21.6, min: 6.0 max: 66.0\n",
      "Saving the network weights to: ./model_Repo-doom.pth\n",
      "Total elapsed time: 169.72 minutes\n",
      "\n",
      "Epoch #35\n"
     ]
    },
    {
     "name": "stderr",
     "output_type": "stream",
     "text": [
      "                                                                                                                       \r"
     ]
    },
    {
     "name": "stdout",
     "output_type": "stream",
     "text": [
      "Results: mean: 44.3 +/- 48.8, min: -335.0, max: 66.0,\n",
      "\n",
      "Testing...\n"
     ]
    },
    {
     "name": "stderr",
     "output_type": "stream",
     "text": [
      "                                                                                                                       \r"
     ]
    },
    {
     "name": "stdout",
     "output_type": "stream",
     "text": [
      "Results: mean: 47.0 +/- 19.1, min: 18.0 max: 66.0\n",
      "Saving the network weights to: ./model_Repo-doom.pth\n",
      "Total elapsed time: 174.72 minutes\n",
      "\n",
      "Epoch #36\n"
     ]
    },
    {
     "name": "stderr",
     "output_type": "stream",
     "text": [
      "                                                                                                                       \r"
     ]
    },
    {
     "name": "stdout",
     "output_type": "stream",
     "text": [
      "Results: mean: 37.7 +/- 57.8, min: -335.0, max: 66.0,\n",
      "\n",
      "Testing...\n"
     ]
    },
    {
     "name": "stderr",
     "output_type": "stream",
     "text": [
      "                                                                                                                       \r"
     ]
    },
    {
     "name": "stdout",
     "output_type": "stream",
     "text": [
      "Results: mean: 12.8 +/- 74.0, min: -170.0 max: 66.0\n",
      "Saving the network weights to: ./model_Repo-doom.pth\n",
      "Total elapsed time: 179.94 minutes\n",
      "\n",
      "Epoch #37\n"
     ]
    },
    {
     "name": "stderr",
     "output_type": "stream",
     "text": [
      "                                                                                                                       \r"
     ]
    },
    {
     "name": "stdout",
     "output_type": "stream",
     "text": [
      "Results: mean: 38.9 +/- 44.5, min: -335.0, max: 66.0,\n",
      "\n",
      "Testing...\n"
     ]
    },
    {
     "name": "stderr",
     "output_type": "stream",
     "text": [
      "                                                                                                                       \r"
     ]
    },
    {
     "name": "stdout",
     "output_type": "stream",
     "text": [
      "Results: mean: 28.0 +/- 58.5, min: -135.0 max: 66.0\n",
      "Saving the network weights to: ./model_Repo-doom.pth\n",
      "Total elapsed time: 184.92 minutes\n",
      "\n",
      "Epoch #38\n"
     ]
    },
    {
     "name": "stderr",
     "output_type": "stream",
     "text": [
      "                                                                                                                       \r"
     ]
    },
    {
     "name": "stdout",
     "output_type": "stream",
     "text": [
      "Results: mean: 34.9 +/- 63.6, min: -360.0, max: 66.0,\n",
      "\n",
      "Testing...\n"
     ]
    },
    {
     "name": "stderr",
     "output_type": "stream",
     "text": [
      "                                                                                                                       \r"
     ]
    },
    {
     "name": "stdout",
     "output_type": "stream",
     "text": [
      "Results: mean: 35.9 +/- 28.0, min: -18.0 max: 66.0\n",
      "Saving the network weights to: ./model_Repo-doom.pth\n",
      "Total elapsed time: 189.76 minutes\n",
      "\n",
      "Epoch #39\n"
     ]
    },
    {
     "name": "stderr",
     "output_type": "stream",
     "text": [
      "                                                                                                                       \r"
     ]
    },
    {
     "name": "stdout",
     "output_type": "stream",
     "text": [
      "Results: mean: 29.3 +/- 78.0, min: -350.0, max: 66.0,\n",
      "\n",
      "Testing...\n"
     ]
    },
    {
     "name": "stderr",
     "output_type": "stream",
     "text": [
      "                                                                                                                       \r"
     ]
    },
    {
     "name": "stdout",
     "output_type": "stream",
     "text": [
      "Results: mean: 47.7 +/- 47.1, min: -93.0 max: 66.0\n",
      "Saving the network weights to: ./model_Repo-doom.pth\n",
      "Total elapsed time: 194.77 minutes\n",
      "\n",
      "Epoch #40\n"
     ]
    },
    {
     "name": "stderr",
     "output_type": "stream",
     "text": [
      "                                                                                                                       \r"
     ]
    },
    {
     "name": "stdout",
     "output_type": "stream",
     "text": [
      "Results: mean: 10.1 +/- 77.5, min: -355.0, max: 66.0,\n",
      "\n",
      "Testing...\n"
     ]
    },
    {
     "name": "stderr",
     "output_type": "stream",
     "text": [
      "                                                                                                                       \r"
     ]
    },
    {
     "name": "stdout",
     "output_type": "stream",
     "text": [
      "Results: mean: 30.2 +/- 37.3, min: -54.0 max: 66.0\n",
      "Saving the network weights to: ./model_Repo-doom.pth\n",
      "Total elapsed time: 199.58 minutes\n",
      "\n",
      "Epoch #41\n"
     ]
    },
    {
     "name": "stderr",
     "output_type": "stream",
     "text": [
      "                                                                                                                       \r"
     ]
    },
    {
     "name": "stdout",
     "output_type": "stream",
     "text": [
      "Results: mean: 8.3 +/- 63.3, min: -345.0, max: 66.0,\n",
      "\n",
      "Testing...\n"
     ]
    },
    {
     "name": "stderr",
     "output_type": "stream",
     "text": [
      "                                                                                                                       \r"
     ]
    },
    {
     "name": "stdout",
     "output_type": "stream",
     "text": [
      "Results: mean: -37.8 +/- 107.9, min: -350.0 max: 54.0\n",
      "Saving the network weights to: ./model_Repo-doom.pth\n",
      "Total elapsed time: 204.83 minutes\n",
      "\n",
      "Epoch #42\n"
     ]
    },
    {
     "name": "stderr",
     "output_type": "stream",
     "text": [
      "                                                                                                                       \r"
     ]
    },
    {
     "name": "stdout",
     "output_type": "stream",
     "text": [
      "Results: mean: -17.2 +/- 78.0, min: -355.0, max: 66.0,\n",
      "\n",
      "Testing...\n"
     ]
    },
    {
     "name": "stderr",
     "output_type": "stream",
     "text": [
      "                                                                                                                       \r"
     ]
    },
    {
     "name": "stdout",
     "output_type": "stream",
     "text": [
      "Results: mean: -43.7 +/- 98.6, min: -300.0 max: 54.0\n",
      "Saving the network weights to: ./model_Repo-doom.pth\n",
      "Total elapsed time: 209.54 minutes\n",
      "\n",
      "Epoch #43\n"
     ]
    },
    {
     "name": "stderr",
     "output_type": "stream",
     "text": [
      "                                                                                                                       \r"
     ]
    },
    {
     "name": "stdout",
     "output_type": "stream",
     "text": [
      "Results: mean: -4.7 +/- 75.9, min: -360.0, max: 66.0,\n",
      "\n",
      "Testing...\n"
     ]
    },
    {
     "name": "stderr",
     "output_type": "stream",
     "text": [
      "                                                                                                                       \r"
     ]
    },
    {
     "name": "stdout",
     "output_type": "stream",
     "text": [
      "Results: mean: 7.9 +/- 23.0, min: -11.0 max: 54.0\n",
      "Saving the network weights to: ./model_Repo-doom.pth\n",
      "Total elapsed time: 214.69 minutes\n",
      "\n",
      "Epoch #44\n"
     ]
    },
    {
     "name": "stderr",
     "output_type": "stream",
     "text": [
      "                                                                                                                       \r"
     ]
    },
    {
     "name": "stdout",
     "output_type": "stream",
     "text": [
      "Results: mean: 9.7 +/- 62.1, min: -340.0, max: 66.0,\n",
      "\n",
      "Testing...\n"
     ]
    },
    {
     "name": "stderr",
     "output_type": "stream",
     "text": [
      "                                                                                                                       \r"
     ]
    },
    {
     "name": "stdout",
     "output_type": "stream",
     "text": [
      "Results: mean: 44.5 +/- 15.1, min: 18.0 max: 66.0\n",
      "Saving the network weights to: ./model_Repo-doom.pth\n",
      "Total elapsed time: 219.73 minutes\n",
      "\n",
      "Epoch #45\n"
     ]
    },
    {
     "name": "stderr",
     "output_type": "stream",
     "text": [
      "                                                                                                                       \r"
     ]
    },
    {
     "name": "stdout",
     "output_type": "stream",
     "text": [
      "Results: mean: 19.4 +/- 68.2, min: -355.0, max: 66.0,\n",
      "\n",
      "Testing...\n"
     ]
    },
    {
     "name": "stderr",
     "output_type": "stream",
     "text": [
      "                                                                                                                       \r"
     ]
    },
    {
     "name": "stdout",
     "output_type": "stream",
     "text": [
      "Results: mean: 23.7 +/- 45.2, min: -71.0 max: 66.0\n",
      "Saving the network weights to: ./model_Repo-doom.pth\n",
      "Total elapsed time: 224.80 minutes\n",
      "\n",
      "Epoch #46\n"
     ]
    },
    {
     "name": "stderr",
     "output_type": "stream",
     "text": [
      "                                                                                                                       \r"
     ]
    },
    {
     "name": "stdout",
     "output_type": "stream",
     "text": [
      "Results: mean: 31.7 +/- 45.7, min: -335.0, max: 66.0,\n",
      "\n",
      "Testing...\n"
     ]
    },
    {
     "name": "stderr",
     "output_type": "stream",
     "text": [
      "                                                                                                                       \r"
     ]
    },
    {
     "name": "stdout",
     "output_type": "stream",
     "text": [
      "Results: mean: 49.2 +/- 11.0, min: 18.0 max: 54.0\n",
      "Saving the network weights to: ./model_Repo-doom.pth\n",
      "Total elapsed time: 229.74 minutes\n",
      "\n",
      "Epoch #47\n"
     ]
    },
    {
     "name": "stderr",
     "output_type": "stream",
     "text": [
      "                                                                                                                       \r"
     ]
    },
    {
     "name": "stdout",
     "output_type": "stream",
     "text": [
      "Results: mean: 27.2 +/- 53.1, min: -335.0, max: 66.0,\n",
      "\n",
      "Testing...\n"
     ]
    },
    {
     "name": "stderr",
     "output_type": "stream",
     "text": [
      "                                                                                                                       \r"
     ]
    },
    {
     "name": "stdout",
     "output_type": "stream",
     "text": [
      "Results: mean: 46.1 +/- 17.3, min: 4.0 max: 66.0\n",
      "Saving the network weights to: ./model_Repo-doom.pth\n",
      "Total elapsed time: 234.53 minutes\n",
      "\n",
      "Epoch #48\n"
     ]
    },
    {
     "name": "stderr",
     "output_type": "stream",
     "text": [
      "                                                                                                                       \r"
     ]
    },
    {
     "name": "stdout",
     "output_type": "stream",
     "text": [
      "Results: mean: 24.2 +/- 62.8, min: -330.0, max: 66.0,\n",
      "\n",
      "Testing...\n"
     ]
    },
    {
     "name": "stderr",
     "output_type": "stream",
     "text": [
      "                                                                                                                       \r"
     ]
    },
    {
     "name": "stdout",
     "output_type": "stream",
     "text": [
      "Results: mean: 51.1 +/- 10.2, min: 25.0 max: 66.0\n",
      "Saving the network weights to: ./model_Repo-doom.pth\n",
      "Total elapsed time: 237.81 minutes\n",
      "\n",
      "Epoch #49\n"
     ]
    },
    {
     "name": "stderr",
     "output_type": "stream",
     "text": [
      "                                                                                                                       \r"
     ]
    },
    {
     "name": "stdout",
     "output_type": "stream",
     "text": [
      "Results: mean: -17.2 +/- 97.6, min: -325.0, max: 66.0,\n",
      "\n",
      "Testing...\n"
     ]
    },
    {
     "name": "stderr",
     "output_type": "stream",
     "text": [
      "                                                                                                                       \r"
     ]
    },
    {
     "name": "stdout",
     "output_type": "stream",
     "text": [
      "Results: mean: -26.6 +/- 111.6, min: -325.0 max: 66.0\n",
      "Saving the network weights to: ./model_Repo-doom.pth\n",
      "Total elapsed time: 241.16 minutes\n",
      "\n",
      "Epoch #50\n"
     ]
    },
    {
     "name": "stderr",
     "output_type": "stream",
     "text": [
      "                                                                                                                       \r"
     ]
    },
    {
     "name": "stdout",
     "output_type": "stream",
     "text": [
      "Results: mean: -20.5 +/- 109.6, min: -360.0, max: 66.0,\n",
      "\n",
      "Testing...\n"
     ]
    },
    {
     "name": "stderr",
     "output_type": "stream",
     "text": [
      "                                                                                                                       \r"
     ]
    },
    {
     "name": "stdout",
     "output_type": "stream",
     "text": [
      "Results: mean: -1.1 +/- 73.0, min: -208.0 max: 54.0\n",
      "Saving the network weights to: ./model_Repo-doom.pth\n",
      "Total elapsed time: 244.50 minutes\n"
     ]
    },
    {
     "data": {
      "image/png": "[encoded data removed]",
      "text/plain": [
       "<Figure size 640x480 with 1 Axes>"
      ]
     },
     "metadata": {},
     "output_type": "display_data"
    },
    {
     "data": {
      "image/png": "[encoded data removed]",
      "text/plain": [
       "<Figure size 640x480 with 1 Axes>"
      ]
     },
     "metadata": {},
     "output_type": "display_data"
    },
    {
     "name": "stdout",
     "output_type": "stream",
     "text": [
      "======================================\n",
      "Training finished. It's time to watch!\n",
      "Total score:  54.0\n",
      "Total score:  47.0\n",
      "Total score:  71.0\n",
      "Total score:  63.0\n",
      "Total score:  -47.0\n",
      "Total score:  -104.0\n",
      "Total score:  22.0\n",
      "Total score:  -2.0\n",
      "Total score:  82.0\n",
      "Total score:  -13.0\n"
     ]
    },
    {
     "data": {
      "image/png": "[encoded data removed]",
      "text/plain": [
       "<Figure size 640x480 with 1 Axes>"
      ]
     },
     "metadata": {},
     "output_type": "display_data"
    }
   ],
   "source": [
    "\n",
    "            \n",
    "\n",
    "\n",
    "\n",
    "if __name__ == \"__main__\":\n",
    "    # Initialize game and actions\n",
    "    game = create_simple_game()\n",
    "    n = game.get_available_buttons_size()\n",
    "    actions = [list(a) for a in it.product([0, 1], repeat=n)]\n",
    "\n",
    "    # Initialize our agent with the set parameters\n",
    "    agent = DQNAgent(\n",
    "        len(actions),\n",
    "        lr=learning_rate,\n",
    "        batch_size=batch_size,\n",
    "        memory_size=replay_memory_size,\n",
    "        discount_factor=discount_factor,\n",
    "        load_model=load_model,\n",
    "    )\n",
    "\n",
    "    # Run the training for the set number of epochs\n",
    "    if not skip_learning:\n",
    "        agent, game = run(\n",
    "            game,\n",
    "            agent,\n",
    "            actions,\n",
    "            num_epochs=train_epochs,\n",
    "            frame_repeat=frame_repeat,\n",
    "            steps_per_epoch=learning_steps_per_epoch,\n",
    "        )\n",
    "\n",
    "        print(\"======================================\")\n",
    "        print(\"Training finished. It's time to watch!\")\n",
    "\n",
    "    # Reinitialize the game with window visible\n",
    "    game.close()\n",
    "    game.set_window_visible(True)\n",
    "\n",
    "    game.set_mode(vzd.Mode.ASYNC_PLAYER)\n",
    "    game.init()\n",
    "    scores=[]\n",
    "    for _ in range(episodes_to_watch):\n",
    "        game.new_episode()\n",
    "        while not game.is_episode_finished():\n",
    "            state = preprocess(game.get_state().screen_buffer)\n",
    "            best_action_index = agent.get_action(state)\n",
    "\n",
    "            # Instead of make_action(a, frame_repeat) in order to make the animation smooth\n",
    "            game.set_action(actions[best_action_index])\n",
    "            for _ in range(frame_repeat):\n",
    "                game.advance_action()\n",
    "\n",
    "        # Sleep between episodes\n",
    "        sleep(1.0)\n",
    "        score = game.get_total_reward()\n",
    "        print(\"Total score: \", score)\n",
    "        scores.append(score)\n",
    "    plot([i for i in range(0, episodes_to_watch)],scores,\"Test Score v/s Episodes\", \"Episodes\", \"Test Score\")\n"
   ]
  },
  {
   "cell_type": "code",
   "execution_count": null,
   "id": "173605c9",
   "metadata": {},
   "outputs": [],
   "source": []
  }
 ],
 "metadata": {
  "kernelspec": {
   "display_name": "Python 3 (ipykernel)",
   "language": "python",
   "name": "python3"
  },
  "language_info": {
   "codemirror_mode": {
    "name": "ipython",
    "version": 3
   },
   "file_extension": ".py",
   "mimetype": "text/x-python",
   "name": "python",
   "nbconvert_exporter": "python",
   "pygments_lexer": "ipython3",
   "version": "3.9.16"
  }
 },
 "nbformat": 4,
 "nbformat_minor": 5
}
