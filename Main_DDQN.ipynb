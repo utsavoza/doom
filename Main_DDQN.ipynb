{
 "cells": [
  {
   "cell_type": "code",
   "execution_count": 1,
   "id": "7422d8cd",
   "metadata": {},
   "outputs": [
    {
     "name": "stdout",
     "output_type": "stream",
     "text": [
      "Creating game environment ...\n",
      "Game environment initialized ...\n",
      "Using device=cuda ...\n",
      "Initializing New Model\n",
      "\n",
      "Epoch #1\n"
     ]
    },
    {
     "name": "stderr",
     "output_type": "stream",
     "text": [
      "100%|██████████████████████████████████████████████████████████████████████████████| 2000/2000 [01:55<00:00, 17.28it/s]\n"
     ]
    },
    {
     "name": "stdout",
     "output_type": "stream",
     "text": [
      "Results (Train): mean: -45.6 +/- 149.1, min: -365.0, max: 66.0,\n",
      "\n",
      "Testing...\n"
     ]
    },
    {
     "name": "stderr",
     "output_type": "stream",
     "text": [
      "                                                                                                                       \r"
     ]
    },
    {
     "name": "stdout",
     "output_type": "stream",
     "text": [
      "Results (Test): mean: -59.5 +/- 156.0, min: -365.0 max: 66.0\n",
      "Saving the network weights to: checkpoints/Doom_DoubleDQN.pth\n",
      "Total elapsed time: 1.97 minutes\n",
      "\n",
      "Epoch #2\n"
     ]
    },
    {
     "name": "stderr",
     "output_type": "stream",
     "text": [
      "100%|██████████████████████████████████████████████████████████████████████████████| 2000/2000 [01:53<00:00, 17.58it/s]\n"
     ]
    },
    {
     "name": "stdout",
     "output_type": "stream",
     "text": [
      "Results (Train): mean: 10.8 +/- 95.6, min: -370.0, max: 66.0,\n",
      "\n",
      "Testing...\n"
     ]
    },
    {
     "name": "stderr",
     "output_type": "stream",
     "text": [
      "                                                                                                                       \r"
     ]
    },
    {
     "name": "stdout",
     "output_type": "stream",
     "text": [
      "Results (Test): mean: 33.1 +/- 32.0, min: -21.0 max: 66.0\n",
      "Saving the network weights to: checkpoints/Doom_DoubleDQN.pth\n",
      "Total elapsed time: 3.88 minutes\n",
      "\n",
      "Epoch #3\n"
     ]
    },
    {
     "name": "stderr",
     "output_type": "stream",
     "text": [
      "100%|██████████████████████████████████████████████████████████████████████████████| 2000/2000 [01:50<00:00, 18.15it/s]\n"
     ]
    },
    {
     "name": "stdout",
     "output_type": "stream",
     "text": [
      "Results (Train): mean: 17.2 +/- 85.4, min: -355.0, max: 66.0,\n",
      "\n",
      "Testing...\n"
     ]
    },
    {
     "name": "stderr",
     "output_type": "stream",
     "text": [
      "                                                                                                                       \r"
     ]
    },
    {
     "name": "stdout",
     "output_type": "stream",
     "text": [
      "Results (Test): mean: 18.3 +/- 108.4, min: -300.0 max: 66.0\n",
      "Saving the network weights to: checkpoints/Doom_DoubleDQN.pth\n",
      "Total elapsed time: 5.74 minutes\n",
      "\n",
      "Epoch #4\n"
     ]
    },
    {
     "name": "stderr",
     "output_type": "stream",
     "text": [
      "100%|██████████████████████████████████████████████████████████████████████████████| 2000/2000 [02:19<00:00, 14.36it/s]\n"
     ]
    },
    {
     "name": "stdout",
     "output_type": "stream",
     "text": [
      "Results (Train): mean: 12.2 +/- 87.3, min: -355.0, max: 66.0,\n",
      "\n",
      "Testing...\n"
     ]
    },
    {
     "name": "stderr",
     "output_type": "stream",
     "text": [
      "                                                                                                                       \r"
     ]
    },
    {
     "name": "stdout",
     "output_type": "stream",
     "text": [
      "Results (Test): mean: -44.5 +/- 151.0, min: -325.0 max: 66.0\n",
      "Saving the network weights to: checkpoints/Doom_DoubleDQN.pth\n",
      "Total elapsed time: 8.15 minutes\n",
      "\n",
      "Epoch #5\n"
     ]
    },
    {
     "name": "stderr",
     "output_type": "stream",
     "text": [
      "100%|██████████████████████████████████████████████████████████████████████████████| 2000/2000 [02:11<00:00, 15.23it/s]\n"
     ]
    },
    {
     "name": "stdout",
     "output_type": "stream",
     "text": [
      "Results (Train): mean: 11.0 +/- 86.4, min: -350.0, max: 66.0,\n",
      "\n",
      "Testing...\n"
     ]
    },
    {
     "name": "stderr",
     "output_type": "stream",
     "text": [
      "                                                                                                                       \r"
     ]
    },
    {
     "name": "stdout",
     "output_type": "stream",
     "text": [
      "Results (Test): mean: 28.3 +/- 17.7, min: 13.0 max: 66.0\n",
      "Saving the network weights to: checkpoints/Doom_DoubleDQN.pth\n",
      "Total elapsed time: 10.37 minutes\n",
      "\n",
      "Epoch #6\n"
     ]
    },
    {
     "name": "stderr",
     "output_type": "stream",
     "text": [
      "100%|██████████████████████████████████████████████████████████████████████████████| 2000/2000 [02:12<00:00, 15.06it/s]\n"
     ]
    },
    {
     "name": "stdout",
     "output_type": "stream",
     "text": [
      "Results (Train): mean: -22.4 +/- 104.3, min: -350.0, max: 66.0,\n",
      "\n",
      "Testing...\n"
     ]
    },
    {
     "name": "stderr",
     "output_type": "stream",
     "text": [
      "                                                                                                                       \r"
     ]
    },
    {
     "name": "stdout",
     "output_type": "stream",
     "text": [
      "Results (Test): mean: 43.8 +/- 41.8, min: -79.0 max: 66.0\n",
      "Saving the network weights to: checkpoints/Doom_DoubleDQN.pth\n",
      "Total elapsed time: 12.61 minutes\n",
      "\n",
      "Epoch #7\n"
     ]
    },
    {
     "name": "stderr",
     "output_type": "stream",
     "text": [
      "100%|██████████████████████████████████████████████████████████████████████████████| 2000/2000 [02:26<00:00, 13.61it/s]\n"
     ]
    },
    {
     "name": "stdout",
     "output_type": "stream",
     "text": [
      "Results (Train): mean: -11.9 +/- 95.1, min: -345.0, max: 66.0,\n",
      "\n",
      "Testing...\n"
     ]
    },
    {
     "name": "stderr",
     "output_type": "stream",
     "text": [
      "                                                                                                                       \r"
     ]
    },
    {
     "name": "stdout",
     "output_type": "stream",
     "text": [
      "Results (Test): mean: -34.8 +/- 120.1, min: -355.0 max: 66.0\n",
      "Saving the network weights to: checkpoints/Doom_DoubleDQN.pth\n",
      "Total elapsed time: 15.11 minutes\n",
      "\n",
      "Epoch #8\n"
     ]
    },
    {
     "name": "stderr",
     "output_type": "stream",
     "text": [
      "100%|██████████████████████████████████████████████████████████████████████████████| 2000/2000 [02:35<00:00, 12.82it/s]\n"
     ]
    },
    {
     "name": "stdout",
     "output_type": "stream",
     "text": [
      "Results (Train): mean: -8.7 +/- 79.2, min: -355.0, max: 66.0,\n",
      "\n",
      "Testing...\n"
     ]
    },
    {
     "name": "stderr",
     "output_type": "stream",
     "text": [
      "                                                                                                                       \r"
     ]
    },
    {
     "name": "stdout",
     "output_type": "stream",
     "text": [
      "Results (Test): mean: 30.4 +/- 74.3, min: -179.0 max: 66.0\n",
      "Saving the network weights to: checkpoints/Doom_DoubleDQN.pth\n",
      "Total elapsed time: 17.77 minutes\n",
      "\n",
      "Epoch #9\n"
     ]
    },
    {
     "name": "stderr",
     "output_type": "stream",
     "text": [
      "100%|██████████████████████████████████████████████████████████████████████████████| 2000/2000 [02:13<00:00, 14.95it/s]\n"
     ]
    },
    {
     "name": "stdout",
     "output_type": "stream",
     "text": [
      "Results (Train): mean: 2.6 +/- 77.0, min: -340.0, max: 66.0,\n",
      "\n",
      "Testing...\n"
     ]
    },
    {
     "name": "stderr",
     "output_type": "stream",
     "text": [
      "                                                                                                                       \r"
     ]
    },
    {
     "name": "stdout",
     "output_type": "stream",
     "text": [
      "Results (Test): mean: -14.5 +/- 102.5, min: -310.0 max: 66.0\n",
      "Saving the network weights to: checkpoints/Doom_DoubleDQN.pth\n",
      "Total elapsed time: 20.04 minutes\n",
      "\n",
      "Epoch #10\n"
     ]
    },
    {
     "name": "stderr",
     "output_type": "stream",
     "text": [
      "100%|██████████████████████████████████████████████████████████████████████████████| 2000/2000 [02:02<00:00, 16.36it/s]\n"
     ]
    },
    {
     "name": "stdout",
     "output_type": "stream",
     "text": [
      "Results (Train): mean: -34.1 +/- 128.0, min: -335.0, max: 66.0,\n",
      "\n",
      "Testing...\n"
     ]
    },
    {
     "name": "stderr",
     "output_type": "stream",
     "text": [
      "                                                                                                                       \r"
     ]
    },
    {
     "name": "stdout",
     "output_type": "stream",
     "text": [
      "Results (Test): mean: -1.2 +/- 112.0, min: -310.0 max: 66.0\n",
      "Saving the network weights to: checkpoints/Doom_DoubleDQN.pth\n",
      "Total elapsed time: 22.12 minutes\n",
      "\n",
      "Epoch #11\n"
     ]
    },
    {
     "name": "stderr",
     "output_type": "stream",
     "text": [
      "100%|██████████████████████████████████████████████████████████████████████████████| 2000/2000 [02:02<00:00, 16.36it/s]\n"
     ]
    },
    {
     "name": "stdout",
     "output_type": "stream",
     "text": [
      "Results (Train): mean: -32.9 +/- 125.0, min: -350.0, max: 66.0,\n",
      "\n",
      "Testing...\n"
     ]
    },
    {
     "name": "stderr",
     "output_type": "stream",
     "text": [
      "                                                                                                                       \r"
     ]
    },
    {
     "name": "stdout",
     "output_type": "stream",
     "text": [
      "Results (Test): mean: -57.5 +/- 91.9, min: -300.0 max: 66.0\n",
      "Saving the network weights to: checkpoints/Doom_DoubleDQN.pth\n",
      "Total elapsed time: 24.22 minutes\n",
      "\n",
      "Epoch #12\n"
     ]
    },
    {
     "name": "stderr",
     "output_type": "stream",
     "text": [
      "100%|██████████████████████████████████████████████████████████████████████████████| 2000/2000 [02:20<00:00, 14.20it/s]\n"
     ]
    },
    {
     "name": "stdout",
     "output_type": "stream",
     "text": [
      "Results (Train): mean: -33.6 +/- 118.9, min: -350.0, max: 66.0,\n",
      "\n",
      "Testing...\n"
     ]
    },
    {
     "name": "stderr",
     "output_type": "stream",
     "text": [
      "                                                                                                                       \r"
     ]
    },
    {
     "name": "stdout",
     "output_type": "stream",
     "text": [
      "Results (Test): mean: -33.9 +/- 111.8, min: -345.0 max: 54.0\n",
      "Saving the network weights to: checkpoints/Doom_DoubleDQN.pth\n",
      "Total elapsed time: 26.62 minutes\n",
      "\n",
      "Epoch #13\n"
     ]
    },
    {
     "name": "stderr",
     "output_type": "stream",
     "text": [
      "100%|██████████████████████████████████████████████████████████████████████████████| 2000/2000 [02:22<00:00, 14.00it/s]\n"
     ]
    },
    {
     "name": "stdout",
     "output_type": "stream",
     "text": [
      "Results (Train): mean: -23.5 +/- 113.0, min: -355.0, max: 66.0,\n",
      "\n",
      "Testing...\n"
     ]
    },
    {
     "name": "stderr",
     "output_type": "stream",
     "text": [
      "                                                                                                                       \r"
     ]
    },
    {
     "name": "stdout",
     "output_type": "stream",
     "text": [
      "Results (Test): mean: -37.8 +/- 102.0, min: -320.0 max: 18.0\n",
      "Saving the network weights to: checkpoints/Doom_DoubleDQN.pth\n",
      "Total elapsed time: 29.05 minutes\n",
      "\n",
      "Epoch #14\n"
     ]
    },
    {
     "name": "stderr",
     "output_type": "stream",
     "text": [
      "100%|██████████████████████████████████████████████████████████████████████████████| 2000/2000 [02:30<00:00, 13.31it/s]\n"
     ]
    },
    {
     "name": "stdout",
     "output_type": "stream",
     "text": [
      "Results (Train): mean: -26.5 +/- 115.6, min: -355.0, max: 66.0,\n",
      "\n",
      "Testing...\n"
     ]
    },
    {
     "name": "stderr",
     "output_type": "stream",
     "text": [
      "                                                                                                                       \r"
     ]
    },
    {
     "name": "stdout",
     "output_type": "stream",
     "text": [
      "Results (Test): mean: -101.8 +/- 133.0, min: -335.0 max: 30.0\n",
      "Saving the network weights to: checkpoints/Doom_DoubleDQN.pth\n",
      "Total elapsed time: 31.63 minutes\n",
      "\n",
      "Epoch #15\n"
     ]
    },
    {
     "name": "stderr",
     "output_type": "stream",
     "text": [
      "100%|██████████████████████████████████████████████████████████████████████████████| 2000/2000 [02:12<00:00, 15.05it/s]\n"
     ]
    },
    {
     "name": "stdout",
     "output_type": "stream",
     "text": [
      "Results (Train): mean: -21.4 +/- 111.1, min: -370.0, max: 66.0,\n",
      "\n",
      "Testing...\n"
     ]
    },
    {
     "name": "stderr",
     "output_type": "stream",
     "text": [
      "                                                                                                                       \r"
     ]
    },
    {
     "name": "stdout",
     "output_type": "stream",
     "text": [
      "Results (Test): mean: 3.1 +/- 49.6, min: -54.0 max: 66.0\n",
      "Saving the network weights to: checkpoints/Doom_DoubleDQN.pth\n",
      "Total elapsed time: 33.89 minutes\n",
      "\n",
      "Epoch #16\n"
     ]
    },
    {
     "name": "stderr",
     "output_type": "stream",
     "text": [
      "100%|██████████████████████████████████████████████████████████████████████████████| 2000/2000 [02:05<00:00, 15.90it/s]\n"
     ]
    },
    {
     "name": "stdout",
     "output_type": "stream",
     "text": [
      "Results (Train): mean: -32.9 +/- 117.7, min: -355.0, max: 66.0,\n",
      "\n",
      "Testing...\n"
     ]
    },
    {
     "name": "stderr",
     "output_type": "stream",
     "text": [
      "                                                                                                                       \r"
     ]
    },
    {
     "name": "stdout",
     "output_type": "stream",
     "text": [
      "Results (Test): mean: -49.0 +/- 146.5, min: -335.0 max: 66.0\n",
      "Saving the network weights to: checkpoints/Doom_DoubleDQN.pth\n",
      "Total elapsed time: 36.04 minutes\n",
      "\n",
      "Epoch #17\n"
     ]
    },
    {
     "name": "stderr",
     "output_type": "stream",
     "text": [
      "100%|██████████████████████████████████████████████████████████████████████████████| 2000/2000 [02:03<00:00, 16.26it/s]\n"
     ]
    },
    {
     "name": "stdout",
     "output_type": "stream",
     "text": [
      "Results (Train): mean: -13.9 +/- 111.6, min: -360.0, max: 66.0,\n",
      "\n",
      "Testing...\n"
     ]
    },
    {
     "name": "stderr",
     "output_type": "stream",
     "text": [
      "                                                                                                                       \r"
     ]
    },
    {
     "name": "stdout",
     "output_type": "stream",
     "text": [
      "Results (Test): mean: 20.5 +/- 30.8, min: -47.0 max: 54.0\n",
      "Saving the network weights to: checkpoints/Doom_DoubleDQN.pth\n",
      "Total elapsed time: 38.14 minutes\n",
      "\n",
      "Epoch #18\n"
     ]
    },
    {
     "name": "stderr",
     "output_type": "stream",
     "text": [
      "100%|██████████████████████████████████████████████████████████████████████████████| 2000/2000 [02:10<00:00, 15.37it/s]\n"
     ]
    },
    {
     "name": "stdout",
     "output_type": "stream",
     "text": [
      "Results (Train): mean: -38.1 +/- 133.1, min: -365.0, max: 66.0,\n",
      "\n",
      "Testing...\n"
     ]
    },
    {
     "name": "stderr",
     "output_type": "stream",
     "text": [
      "                                                                                                                       \r"
     ]
    },
    {
     "name": "stdout",
     "output_type": "stream",
     "text": [
      "Results (Test): mean: -41.8 +/- 139.2, min: -325.0 max: 66.0\n",
      "Saving the network weights to: checkpoints/Doom_DoubleDQN.pth\n",
      "Total elapsed time: 40.35 minutes\n",
      "\n",
      "Epoch #19\n"
     ]
    },
    {
     "name": "stderr",
     "output_type": "stream",
     "text": [
      "100%|██████████████████████████████████████████████████████████████████████████████| 2000/2000 [01:44<00:00, 19.20it/s]\n"
     ]
    },
    {
     "name": "stdout",
     "output_type": "stream",
     "text": [
      "Results (Train): mean: -18.2 +/- 115.2, min: -365.0, max: 66.0,\n",
      "\n",
      "Testing...\n"
     ]
    },
    {
     "name": "stderr",
     "output_type": "stream",
     "text": [
      "                                                                                                                       \r"
     ]
    },
    {
     "name": "stdout",
     "output_type": "stream",
     "text": [
      "Results (Test): mean: -21.7 +/- 108.2, min: -315.0 max: 66.0\n",
      "Saving the network weights to: checkpoints/Doom_DoubleDQN.pth\n",
      "Total elapsed time: 42.12 minutes\n",
      "\n",
      "Epoch #20\n"
     ]
    },
    {
     "name": "stderr",
     "output_type": "stream",
     "text": [
      "100%|██████████████████████████████████████████████████████████████████████████████| 2000/2000 [01:42<00:00, 19.46it/s]\n"
     ]
    },
    {
     "name": "stdout",
     "output_type": "stream",
     "text": [
      "Results (Train): mean: -40.8 +/- 141.6, min: -365.0, max: 66.0,\n",
      "\n",
      "Testing...\n"
     ]
    },
    {
     "name": "stderr",
     "output_type": "stream",
     "text": [
      "                                                                                                                       \r"
     ]
    },
    {
     "name": "stdout",
     "output_type": "stream",
     "text": [
      "Results (Test): mean: -46.9 +/- 146.0, min: -340.0 max: 54.0\n",
      "Saving the network weights to: checkpoints/Doom_DoubleDQN.pth\n",
      "Total elapsed time: 43.86 minutes\n",
      "\n",
      "Epoch #21\n"
     ]
    },
    {
     "name": "stderr",
     "output_type": "stream",
     "text": [
      "100%|██████████████████████████████████████████████████████████████████████████████| 2000/2000 [01:40<00:00, 19.90it/s]\n"
     ]
    },
    {
     "name": "stdout",
     "output_type": "stream",
     "text": [
      "Results (Train): mean: -51.3 +/- 143.3, min: -370.0, max: 66.0,\n",
      "\n",
      "Testing...\n"
     ]
    },
    {
     "name": "stderr",
     "output_type": "stream",
     "text": [
      "                                                                                                                       \r"
     ]
    },
    {
     "name": "stdout",
     "output_type": "stream",
     "text": [
      "Results (Test): mean: -6.4 +/- 103.8, min: -310.0 max: 66.0\n",
      "Saving the network weights to: checkpoints/Doom_DoubleDQN.pth\n",
      "Total elapsed time: 45.57 minutes\n",
      "\n",
      "Epoch #22\n"
     ]
    },
    {
     "name": "stderr",
     "output_type": "stream",
     "text": [
      "100%|██████████████████████████████████████████████████████████████████████████████| 2000/2000 [01:41<00:00, 19.75it/s]\n"
     ]
    },
    {
     "name": "stdout",
     "output_type": "stream",
     "text": [
      "Results (Train): mean: -36.8 +/- 126.1, min: -365.0, max: 66.0,\n",
      "\n",
      "Testing...\n"
     ]
    },
    {
     "name": "stderr",
     "output_type": "stream",
     "text": [
      "                                                                                                                       \r"
     ]
    },
    {
     "name": "stdout",
     "output_type": "stream",
     "text": [
      "Results (Test): mean: 10.7 +/- 47.1, min: -112.0 max: 66.0\n",
      "Saving the network weights to: checkpoints/Doom_DoubleDQN.pth\n",
      "Total elapsed time: 47.28 minutes\n",
      "\n",
      "Epoch #23\n"
     ]
    },
    {
     "name": "stderr",
     "output_type": "stream",
     "text": [
      "100%|██████████████████████████████████████████████████████████████████████████████| 2000/2000 [01:46<00:00, 18.82it/s]\n"
     ]
    },
    {
     "name": "stdout",
     "output_type": "stream",
     "text": [
      "Results (Train): mean: -6.8 +/- 91.9, min: -355.0, max: 66.0,\n",
      "\n",
      "Testing...\n"
     ]
    },
    {
     "name": "stderr",
     "output_type": "stream",
     "text": [
      "                                                                                                                       \r"
     ]
    },
    {
     "name": "stdout",
     "output_type": "stream",
     "text": [
      "Results (Test): mean: 20.1 +/- 43.0, min: -98.0 max: 66.0\n",
      "Saving the network weights to: checkpoints/Doom_DoubleDQN.pth\n",
      "Total elapsed time: 49.07 minutes\n",
      "\n",
      "Epoch #24\n"
     ]
    },
    {
     "name": "stderr",
     "output_type": "stream",
     "text": [
      "100%|██████████████████████████████████████████████████████████████████████████████| 2000/2000 [01:42<00:00, 19.50it/s]\n"
     ]
    },
    {
     "name": "stdout",
     "output_type": "stream",
     "text": [
      "Results (Train): mean: 4.1 +/- 73.7, min: -315.0, max: 66.0,\n",
      "\n",
      "Testing...\n"
     ]
    },
    {
     "name": "stderr",
     "output_type": "stream",
     "text": [
      "                                                                                                                       \r"
     ]
    },
    {
     "name": "stdout",
     "output_type": "stream",
     "text": [
      "Results (Test): mean: -65.7 +/- 136.1, min: -320.0 max: 66.0\n",
      "Saving the network weights to: checkpoints/Doom_DoubleDQN.pth\n",
      "Total elapsed time: 50.81 minutes\n",
      "\n",
      "Epoch #25\n"
     ]
    },
    {
     "name": "stderr",
     "output_type": "stream",
     "text": [
      "100%|██████████████████████████████████████████████████████████████████████████████| 2000/2000 [01:37<00:00, 20.51it/s]\n"
     ]
    },
    {
     "name": "stdout",
     "output_type": "stream",
     "text": [
      "Results (Train): mean: -33.6 +/- 111.3, min: -365.0, max: 66.0,\n",
      "\n",
      "Testing...\n"
     ]
    },
    {
     "name": "stderr",
     "output_type": "stream",
     "text": [
      "                                                                                                                       \r"
     ]
    },
    {
     "name": "stdout",
     "output_type": "stream",
     "text": [
      "Results (Test): mean: -39.7 +/- 101.5, min: -310.0 max: 30.0\n",
      "Saving the network weights to: checkpoints/Doom_DoubleDQN.pth\n",
      "Total elapsed time: 52.47 minutes\n",
      "\n",
      "Epoch #26\n"
     ]
    },
    {
     "name": "stderr",
     "output_type": "stream",
     "text": [
      "100%|██████████████████████████████████████████████████████████████████████████████| 2000/2000 [01:37<00:00, 20.42it/s]\n"
     ]
    },
    {
     "name": "stdout",
     "output_type": "stream",
     "text": [
      "Results (Train): mean: -100.3 +/- 150.8, min: -355.0, max: 66.0,\n",
      "\n",
      "Testing...\n"
     ]
    },
    {
     "name": "stderr",
     "output_type": "stream",
     "text": [
      "                                                                                                                       \r"
     ]
    },
    {
     "name": "stdout",
     "output_type": "stream",
     "text": [
      "Results (Test): mean: -12.1 +/- 116.8, min: -310.0 max: 66.0\n",
      "Saving the network weights to: checkpoints/Doom_DoubleDQN.pth\n",
      "Total elapsed time: 54.12 minutes\n",
      "\n",
      "Epoch #27\n"
     ]
    },
    {
     "name": "stderr",
     "output_type": "stream",
     "text": [
      "100%|██████████████████████████████████████████████████████████████████████████████| 2000/2000 [01:38<00:00, 20.31it/s]\n"
     ]
    },
    {
     "name": "stdout",
     "output_type": "stream",
     "text": [
      "Results (Train): mean: -110.1 +/- 167.9, min: -360.0, max: 66.0,\n",
      "\n",
      "Testing...\n"
     ]
    },
    {
     "name": "stderr",
     "output_type": "stream",
     "text": [
      "                                                                                                                       \r"
     ]
    },
    {
     "name": "stdout",
     "output_type": "stream",
     "text": [
      "Results (Test): mean: -229.7 +/- 120.5, min: -345.0 max: 5.0\n",
      "Saving the network weights to: checkpoints/Doom_DoubleDQN.pth\n",
      "Total elapsed time: 55.82 minutes\n",
      "\n",
      "Epoch #28\n"
     ]
    },
    {
     "name": "stderr",
     "output_type": "stream",
     "text": [
      "100%|██████████████████████████████████████████████████████████████████████████████| 2000/2000 [01:38<00:00, 20.34it/s]\n"
     ]
    },
    {
     "name": "stdout",
     "output_type": "stream",
     "text": [
      "Results (Train): mean: -48.0 +/- 127.9, min: -355.0, max: 66.0,\n",
      "\n",
      "Testing...\n"
     ]
    },
    {
     "name": "stderr",
     "output_type": "stream",
     "text": [
      "                                                                                                                       \r"
     ]
    },
    {
     "name": "stdout",
     "output_type": "stream",
     "text": [
      "Results (Test): mean: -22.9 +/- 123.3, min: -350.0 max: 66.0\n",
      "Saving the network weights to: checkpoints/Doom_DoubleDQN.pth\n",
      "Total elapsed time: 57.49 minutes\n",
      "\n",
      "Epoch #29\n"
     ]
    },
    {
     "name": "stderr",
     "output_type": "stream",
     "text": [
      "100%|██████████████████████████████████████████████████████████████████████████████| 2000/2000 [01:42<00:00, 19.45it/s]\n"
     ]
    },
    {
     "name": "stdout",
     "output_type": "stream",
     "text": [
      "Results (Train): mean: -20.6 +/- 103.7, min: -370.0, max: 66.0,\n",
      "\n",
      "Testing...\n"
     ]
    },
    {
     "name": "stderr",
     "output_type": "stream",
     "text": [
      "                                                                                                                       \r"
     ]
    },
    {
     "name": "stdout",
     "output_type": "stream",
     "text": [
      "Results (Test): mean: -45.3 +/- 103.1, min: -305.0 max: 66.0\n",
      "Saving the network weights to: checkpoints/Doom_DoubleDQN.pth\n",
      "Total elapsed time: 59.25 minutes\n",
      "\n",
      "Epoch #30\n"
     ]
    },
    {
     "name": "stderr",
     "output_type": "stream",
     "text": [
      "100%|██████████████████████████████████████████████████████████████████████████████| 2000/2000 [01:39<00:00, 20.17it/s]\n"
     ]
    },
    {
     "name": "stdout",
     "output_type": "stream",
     "text": [
      "Results (Train): mean: -14.5 +/- 95.0, min: -345.0, max: 66.0,\n",
      "\n",
      "Testing...\n"
     ]
    },
    {
     "name": "stderr",
     "output_type": "stream",
     "text": [
      "                                                                                                                       \r"
     ]
    },
    {
     "name": "stdout",
     "output_type": "stream",
     "text": [
      "Results (Test): mean: -29.0 +/- 109.5, min: -345.0 max: 42.0\n",
      "Saving the network weights to: checkpoints/Doom_DoubleDQN.pth\n",
      "Total elapsed time: 60.92 minutes\n",
      "\n",
      "Epoch #31\n"
     ]
    },
    {
     "name": "stderr",
     "output_type": "stream",
     "text": [
      "100%|██████████████████████████████████████████████████████████████████████████████| 2000/2000 [01:36<00:00, 20.83it/s]\n"
     ]
    },
    {
     "name": "stdout",
     "output_type": "stream",
     "text": [
      "Results (Train): mean: -53.4 +/- 133.7, min: -360.0, max: 66.0,\n",
      "\n",
      "Testing...\n"
     ]
    },
    {
     "name": "stderr",
     "output_type": "stream",
     "text": [
      "                                                                                                                       \r"
     ]
    },
    {
     "name": "stdout",
     "output_type": "stream",
     "text": [
      "Results (Test): mean: -123.4 +/- 175.6, min: -365.0 max: 66.0\n",
      "Saving the network weights to: checkpoints/Doom_DoubleDQN.pth\n",
      "Total elapsed time: 62.56 minutes\n",
      "\n",
      "Epoch #32\n"
     ]
    },
    {
     "name": "stderr",
     "output_type": "stream",
     "text": [
      "100%|██████████████████████████████████████████████████████████████████████████████| 2000/2000 [01:36<00:00, 20.74it/s]\n"
     ]
    },
    {
     "name": "stdout",
     "output_type": "stream",
     "text": [
      "Results (Train): mean: -65.0 +/- 137.7, min: -365.0, max: 66.0,\n",
      "\n",
      "Testing...\n"
     ]
    },
    {
     "name": "stderr",
     "output_type": "stream",
     "text": [
      "                                                                                                                       \r"
     ]
    },
    {
     "name": "stdout",
     "output_type": "stream",
     "text": [
      "Results (Test): mean: -25.2 +/- 107.6, min: -310.0 max: 66.0\n",
      "Saving the network weights to: checkpoints/Doom_DoubleDQN.pth\n",
      "Total elapsed time: 64.20 minutes\n",
      "\n",
      "Epoch #33\n"
     ]
    },
    {
     "name": "stderr",
     "output_type": "stream",
     "text": [
      "100%|██████████████████████████████████████████████████████████████████████████████| 2000/2000 [01:43<00:00, 19.30it/s]\n"
     ]
    },
    {
     "name": "stdout",
     "output_type": "stream",
     "text": [
      "Results (Train): mean: -111.0 +/- 155.3, min: -365.0, max: 66.0,\n",
      "\n",
      "Testing...\n"
     ]
    },
    {
     "name": "stderr",
     "output_type": "stream",
     "text": [
      "                                                                                                                       \r"
     ]
    },
    {
     "name": "stdout",
     "output_type": "stream",
     "text": [
      "Results (Test): mean: -32.2 +/- 68.2, min: -210.0 max: 54.0\n",
      "Saving the network weights to: checkpoints/Doom_DoubleDQN.pth\n",
      "Total elapsed time: 65.96 minutes\n",
      "\n",
      "Epoch #34\n"
     ]
    },
    {
     "name": "stderr",
     "output_type": "stream",
     "text": [
      "100%|██████████████████████████████████████████████████████████████████████████████| 2000/2000 [01:35<00:00, 20.94it/s]\n"
     ]
    },
    {
     "name": "stdout",
     "output_type": "stream",
     "text": [
      "Results (Train): mean: -92.2 +/- 145.2, min: -360.0, max: 66.0,\n",
      "\n",
      "Testing...\n"
     ]
    },
    {
     "name": "stderr",
     "output_type": "stream",
     "text": [
      "                                                                                                                       \r"
     ]
    },
    {
     "name": "stdout",
     "output_type": "stream",
     "text": [
      "Results (Test): mean: -39.1 +/- 118.0, min: -355.0 max: 30.0\n",
      "Saving the network weights to: checkpoints/Doom_DoubleDQN.pth\n",
      "Total elapsed time: 67.58 minutes\n",
      "\n",
      "Epoch #35\n"
     ]
    },
    {
     "name": "stderr",
     "output_type": "stream",
     "text": [
      "100%|██████████████████████████████████████████████████████████████████████████████| 2000/2000 [01:40<00:00, 19.84it/s]\n"
     ]
    },
    {
     "name": "stdout",
     "output_type": "stream",
     "text": [
      "Results (Train): mean: -102.5 +/- 164.7, min: -365.0, max: 66.0,\n",
      "\n",
      "Testing...\n"
     ]
    },
    {
     "name": "stderr",
     "output_type": "stream",
     "text": [
      "                                                                                                                       \r"
     ]
    },
    {
     "name": "stdout",
     "output_type": "stream",
     "text": [
      "Results (Test): mean: -103.4 +/- 155.0, min: -345.0 max: 29.0\n",
      "Saving the network weights to: checkpoints/Doom_DoubleDQN.pth\n",
      "Total elapsed time: 69.29 minutes\n",
      "\n",
      "Epoch #36\n"
     ]
    },
    {
     "name": "stderr",
     "output_type": "stream",
     "text": [
      "100%|██████████████████████████████████████████████████████████████████████████████| 2000/2000 [01:45<00:00, 18.91it/s]\n"
     ]
    },
    {
     "name": "stdout",
     "output_type": "stream",
     "text": [
      "Results (Train): mean: -84.1 +/- 157.4, min: -355.0, max: 66.0,\n",
      "\n",
      "Testing...\n"
     ]
    },
    {
     "name": "stderr",
     "output_type": "stream",
     "text": [
      "                                                                                                                       \r"
     ]
    },
    {
     "name": "stdout",
     "output_type": "stream",
     "text": [
      "Results (Test): mean: -100.4 +/- 151.4, min: -345.0 max: 30.0\n",
      "Saving the network weights to: checkpoints/Doom_DoubleDQN.pth\n",
      "Total elapsed time: 71.11 minutes\n",
      "\n",
      "Epoch #37\n"
     ]
    },
    {
     "name": "stderr",
     "output_type": "stream",
     "text": [
      "100%|██████████████████████████████████████████████████████████████████████████████| 2000/2000 [01:54<00:00, 17.47it/s]\n"
     ]
    },
    {
     "name": "stdout",
     "output_type": "stream",
     "text": [
      "Results (Train): mean: -43.6 +/- 137.3, min: -360.0, max: 66.0,\n",
      "\n",
      "Testing...\n"
     ]
    },
    {
     "name": "stderr",
     "output_type": "stream",
     "text": [
      "                                                                                                                       \r"
     ]
    },
    {
     "name": "stdout",
     "output_type": "stream",
     "text": [
      "Results (Test): mean: -38.4 +/- 152.5, min: -345.0 max: 66.0\n",
      "Saving the network weights to: checkpoints/Doom_DoubleDQN.pth\n",
      "Total elapsed time: 73.06 minutes\n",
      "\n",
      "Epoch #38\n"
     ]
    },
    {
     "name": "stderr",
     "output_type": "stream",
     "text": [
      "100%|██████████████████████████████████████████████████████████████████████████████| 2000/2000 [02:09<00:00, 15.49it/s]\n"
     ]
    },
    {
     "name": "stdout",
     "output_type": "stream",
     "text": [
      "Results (Train): mean: -6.0 +/- 101.0, min: -345.0, max: 66.0,\n",
      "\n",
      "Testing...\n"
     ]
    },
    {
     "name": "stderr",
     "output_type": "stream",
     "text": [
      "                                                                                                                       \r"
     ]
    },
    {
     "name": "stdout",
     "output_type": "stream",
     "text": [
      "Results (Test): mean: 25.1 +/- 29.5, min: -28.0 max: 66.0\n",
      "Saving the network weights to: checkpoints/Doom_DoubleDQN.pth\n",
      "Total elapsed time: 75.25 minutes\n",
      "\n",
      "Epoch #39\n"
     ]
    },
    {
     "name": "stderr",
     "output_type": "stream",
     "text": [
      "100%|██████████████████████████████████████████████████████████████████████████████| 2000/2000 [02:10<00:00, 15.38it/s]\n"
     ]
    },
    {
     "name": "stdout",
     "output_type": "stream",
     "text": [
      "Results (Train): mean: -14.7 +/- 117.5, min: -365.0, max: 66.0,\n",
      "\n",
      "Testing...\n"
     ]
    },
    {
     "name": "stderr",
     "output_type": "stream",
     "text": [
      "                                                                                                                       \r"
     ]
    },
    {
     "name": "stdout",
     "output_type": "stream",
     "text": [
      "Results (Test): mean: -59.9 +/- 142.4, min: -320.0 max: 66.0\n",
      "Saving the network weights to: checkpoints/Doom_DoubleDQN.pth\n",
      "Total elapsed time: 77.48 minutes\n",
      "\n",
      "Epoch #40\n"
     ]
    },
    {
     "name": "stderr",
     "output_type": "stream",
     "text": [
      "100%|██████████████████████████████████████████████████████████████████████████████| 2000/2000 [02:14<00:00, 14.85it/s]\n"
     ]
    },
    {
     "name": "stdout",
     "output_type": "stream",
     "text": [
      "Results (Train): mean: -14.6 +/- 123.0, min: -350.0, max: 66.0,\n",
      "\n",
      "Testing...\n"
     ]
    },
    {
     "name": "stderr",
     "output_type": "stream",
     "text": [
      "                                                                                                                       \r"
     ]
    },
    {
     "name": "stdout",
     "output_type": "stream",
     "text": [
      "Results (Test): mean: -68.9 +/- 138.4, min: -320.0 max: 66.0\n",
      "Saving the network weights to: checkpoints/Doom_DoubleDQN.pth\n",
      "Total elapsed time: 79.80 minutes\n",
      "\n",
      "Epoch #41\n"
     ]
    },
    {
     "name": "stderr",
     "output_type": "stream",
     "text": [
      "100%|██████████████████████████████████████████████████████████████████████████████| 2000/2000 [02:10<00:00, 15.35it/s]\n"
     ]
    },
    {
     "name": "stdout",
     "output_type": "stream",
     "text": [
      "Results (Train): mean: -59.6 +/- 150.0, min: -350.0, max: 66.0,\n",
      "\n",
      "Testing...\n"
     ]
    },
    {
     "name": "stderr",
     "output_type": "stream",
     "text": [
      "                                                                                                                       \r"
     ]
    },
    {
     "name": "stdout",
     "output_type": "stream",
     "text": [
      "Results (Test): mean: -9.2 +/- 109.8, min: -305.0 max: 66.0\n",
      "Saving the network weights to: checkpoints/Doom_DoubleDQN.pth\n",
      "Total elapsed time: 82.03 minutes\n",
      "\n",
      "Epoch #42\n"
     ]
    },
    {
     "name": "stderr",
     "output_type": "stream",
     "text": [
      "100%|██████████████████████████████████████████████████████████████████████████████| 2000/2000 [02:09<00:00, 15.50it/s]\n"
     ]
    },
    {
     "name": "stdout",
     "output_type": "stream",
     "text": [
      "Results (Train): mean: -32.0 +/- 134.3, min: -360.0, max: 66.0,\n",
      "\n",
      "Testing...\n"
     ]
    },
    {
     "name": "stderr",
     "output_type": "stream",
     "text": [
      "                                                                                                                       \r"
     ]
    },
    {
     "name": "stdout",
     "output_type": "stream",
     "text": [
      "Results (Test): mean: -129.2 +/- 158.3, min: -345.0 max: 41.0\n",
      "Saving the network weights to: checkpoints/Doom_DoubleDQN.pth\n",
      "Total elapsed time: 84.26 minutes\n",
      "\n",
      "Epoch #43\n"
     ]
    },
    {
     "name": "stderr",
     "output_type": "stream",
     "text": [
      "100%|██████████████████████████████████████████████████████████████████████████████| 2000/2000 [02:07<00:00, 15.66it/s]\n"
     ]
    },
    {
     "name": "stdout",
     "output_type": "stream",
     "text": [
      "Results (Train): mean: -72.1 +/- 153.1, min: -365.0, max: 66.0,\n",
      "\n",
      "Testing...\n"
     ]
    },
    {
     "name": "stderr",
     "output_type": "stream",
     "text": [
      "                                                                                                                       \r"
     ]
    },
    {
     "name": "stdout",
     "output_type": "stream",
     "text": [
      "Results (Test): mean: -5.1 +/- 104.5, min: -300.0 max: 66.0\n",
      "Saving the network weights to: checkpoints/Doom_DoubleDQN.pth\n",
      "Total elapsed time: 86.43 minutes\n",
      "\n",
      "Epoch #44\n"
     ]
    },
    {
     "name": "stderr",
     "output_type": "stream",
     "text": [
      "100%|██████████████████████████████████████████████████████████████████████████████| 2000/2000 [02:03<00:00, 16.13it/s]\n"
     ]
    },
    {
     "name": "stdout",
     "output_type": "stream",
     "text": [
      "Results (Train): mean: -50.4 +/- 139.8, min: -355.0, max: 66.0,\n",
      "\n",
      "Testing...\n"
     ]
    },
    {
     "name": "stderr",
     "output_type": "stream",
     "text": [
      "                                                                                                                       \r"
     ]
    },
    {
     "name": "stdout",
     "output_type": "stream",
     "text": [
      "Results (Test): mean: -12.4 +/- 153.8, min: -320.0 max: 66.0\n",
      "Saving the network weights to: checkpoints/Doom_DoubleDQN.pth\n",
      "Total elapsed time: 88.53 minutes\n",
      "\n",
      "Epoch #45\n"
     ]
    },
    {
     "name": "stderr",
     "output_type": "stream",
     "text": [
      "100%|██████████████████████████████████████████████████████████████████████████████| 2000/2000 [02:05<00:00, 15.98it/s]\n"
     ]
    },
    {
     "name": "stdout",
     "output_type": "stream",
     "text": [
      "Results (Train): mean: -39.7 +/- 138.5, min: -350.0, max: 66.0,\n",
      "\n",
      "Testing...\n"
     ]
    },
    {
     "name": "stderr",
     "output_type": "stream",
     "text": [
      "                                                                                                                       \r"
     ]
    },
    {
     "name": "stdout",
     "output_type": "stream",
     "text": [
      "Results (Test): mean: -146.8 +/- 146.3, min: -320.0 max: 42.0\n",
      "Saving the network weights to: checkpoints/Doom_DoubleDQN.pth\n",
      "Total elapsed time: 90.71 minutes\n",
      "\n",
      "Epoch #46\n"
     ]
    },
    {
     "name": "stderr",
     "output_type": "stream",
     "text": [
      "100%|██████████████████████████████████████████████████████████████████████████████| 2000/2000 [02:12<00:00, 15.10it/s]\n"
     ]
    },
    {
     "name": "stdout",
     "output_type": "stream",
     "text": [
      "Results (Train): mean: -66.4 +/- 159.6, min: -345.0, max: 66.0,\n",
      "\n",
      "Testing...\n"
     ]
    },
    {
     "name": "stderr",
     "output_type": "stream",
     "text": [
      "                                                                                                                       \r"
     ]
    },
    {
     "name": "stdout",
     "output_type": "stream",
     "text": [
      "Results (Test): mean: -9.0 +/- 117.6, min: -310.0 max: 66.0\n",
      "Saving the network weights to: checkpoints/Doom_DoubleDQN.pth\n",
      "Total elapsed time: 93.00 minutes\n",
      "\n",
      "Epoch #47\n"
     ]
    },
    {
     "name": "stderr",
     "output_type": "stream",
     "text": [
      "100%|██████████████████████████████████████████████████████████████████████████████| 2000/2000 [02:13<00:00, 14.99it/s]\n"
     ]
    },
    {
     "name": "stdout",
     "output_type": "stream",
     "text": [
      "Results (Train): mean: -140.8 +/- 170.3, min: -360.0, max: 66.0,\n",
      "\n",
      "Testing...\n"
     ]
    },
    {
     "name": "stderr",
     "output_type": "stream",
     "text": [
      "                                                                                                                       \r"
     ]
    },
    {
     "name": "stdout",
     "output_type": "stream",
     "text": [
      "Results (Test): mean: -27.1 +/- 112.2, min: -315.0 max: 42.0\n",
      "Saving the network weights to: checkpoints/Doom_DoubleDQN.pth\n",
      "Total elapsed time: 95.28 minutes\n",
      "\n",
      "Epoch #48\n"
     ]
    },
    {
     "name": "stderr",
     "output_type": "stream",
     "text": [
      "100%|██████████████████████████████████████████████████████████████████████████████| 2000/2000 [03:19<00:00, 10.03it/s]\n"
     ]
    },
    {
     "name": "stdout",
     "output_type": "stream",
     "text": [
      "Results (Train): mean: -63.8 +/- 156.8, min: -355.0, max: 66.0,\n",
      "\n",
      "Testing...\n"
     ]
    },
    {
     "name": "stderr",
     "output_type": "stream",
     "text": [
      "                                                                                                                       \r"
     ]
    },
    {
     "name": "stdout",
     "output_type": "stream",
     "text": [
      "Results (Test): mean: -148.3 +/- 161.2, min: -315.0 max: 66.0\n",
      "Saving the network weights to: checkpoints/Doom_DoubleDQN.pth\n",
      "Total elapsed time: 98.69 minutes\n",
      "\n",
      "Epoch #49\n"
     ]
    },
    {
     "name": "stderr",
     "output_type": "stream",
     "text": [
      "100%|██████████████████████████████████████████████████████████████████████████████| 2000/2000 [02:23<00:00, 13.91it/s]\n"
     ]
    },
    {
     "name": "stdout",
     "output_type": "stream",
     "text": [
      "Results (Train): mean: -64.4 +/- 164.4, min: -355.0, max: 66.0,\n",
      "\n",
      "Testing...\n"
     ]
    },
    {
     "name": "stderr",
     "output_type": "stream",
     "text": [
      "                                                                                                                       \r"
     ]
    },
    {
     "name": "stdout",
     "output_type": "stream",
     "text": [
      "Results (Test): mean: 20.7 +/- 111.0, min: -310.0 max: 66.0\n",
      "Saving the network weights to: checkpoints/Doom_DoubleDQN.pth\n",
      "Total elapsed time: 101.12 minutes\n",
      "\n",
      "Epoch #50\n"
     ]
    },
    {
     "name": "stderr",
     "output_type": "stream",
     "text": [
      "100%|██████████████████████████████████████████████████████████████████████████████| 2000/2000 [01:57<00:00, 16.99it/s]\n"
     ]
    },
    {
     "name": "stdout",
     "output_type": "stream",
     "text": [
      "Results (Train): mean: -159.2 +/- 175.0, min: -345.0, max: 66.0,\n",
      "\n",
      "Testing...\n"
     ]
    },
    {
     "name": "stderr",
     "output_type": "stream",
     "text": [
      "                                                                                                                       \r"
     ]
    },
    {
     "name": "stdout",
     "output_type": "stream",
     "text": [
      "Results (Test): mean: -116.1 +/- 152.4, min: -340.0 max: 66.0\n",
      "Saving the network weights to: checkpoints/Doom_DoubleDQN.pth\n",
      "Total elapsed time: 103.12 minutes\n",
      "======================================\n",
      "Training finished. It's time to watch!\n",
      "Total score:  77.0\n",
      "Total score:  66.0\n",
      "Total score:  -268.0\n",
      "Total score:  81.0\n",
      "Total score:  59.0\n",
      "Total score:  -262.0\n",
      "Total score:  69.0\n",
      "Total score:  39.0\n",
      "Total score:  -266.0\n",
      "Total score:  63.0\n"
     ]
    }
   ],
   "source": [
    "import itertools as it\n",
    "import os\n",
    "from time import time, sleep\n",
    "\n",
    "import torch\n",
    "import vizdoom as vzd\n",
    "import skimage\n",
    "import numpy as np\n",
    "from tqdm import trange\n",
    "\n",
    "from DoubleDQNAgent import DoubleDQNAgent\n",
    "\n",
    "\n",
    "def preprocess(img):\n",
    "    \"\"\"Down samples image to resolution\"\"\"\n",
    "    img = skimage.transform.resize(img, (30, 45))\n",
    "    img = img.astype(np.float32)\n",
    "    img = np.expand_dims(img, axis=0)\n",
    "    return img\n",
    "\n",
    "\n",
    "def create_game_environment(config_file_path):\n",
    "    print(\"Creating game environment ...\")\n",
    "    game = vzd.DoomGame()\n",
    "    game.load_config(config_file_path)\n",
    "    game.set_window_visible(False)\n",
    "    game.set_mode(vzd.Mode.PLAYER)\n",
    "    game.set_screen_format(vzd.ScreenFormat.GRAY8)\n",
    "    game.set_screen_resolution(vzd.ScreenResolution.RES_640X480)\n",
    "    game.init()\n",
    "    print(\"Game environment initialized ...\")\n",
    "    return game\n",
    "\n",
    "\n",
    "def test_agent(game, agent, actions, frame_repeat, test_episodes_per_epoch=10):\n",
    "    \"\"\"Runs a test_episodes_per_epoch episodes and prints the result\"\"\"\n",
    "    print(\"\\nTesting...\")\n",
    "    test_scores = []\n",
    "    for _ in trange(test_episodes_per_epoch, leave=False):\n",
    "        game.new_episode()\n",
    "        while not game.is_episode_finished():\n",
    "            state = preprocess(game.get_state().screen_buffer)\n",
    "            best_action_index = agent.get_action(state)\n",
    "            game.make_action(actions[best_action_index], frame_repeat)\n",
    "        reward = game.get_total_reward()\n",
    "        test_scores.append(reward)\n",
    "\n",
    "    test_scores = np.array(test_scores)\n",
    "    return test_scores\n",
    "\n",
    "\n",
    "def train_agent(game, agent, actions, num_epochs, frame_repeat, steps_per_epoch, save_model, model_path):\n",
    "    \"\"\"\n",
    "    Trains the DQN Agent by running num_epochs of training episodes.\n",
    "    Skip frame_repeat number of frames after each action.\n",
    "    \"\"\"\n",
    "\n",
    "    start_time = time()\n",
    "\n",
    "    for epoch in range(num_epochs):\n",
    "        game.new_episode()\n",
    "        train_scores = []\n",
    "        global_step = 0\n",
    "\n",
    "        print(\"\\nEpoch #\" + str(epoch + 1))\n",
    "\n",
    "        for _ in trange(steps_per_epoch):\n",
    "            state = preprocess(game.get_state().screen_buffer)\n",
    "            action = agent.get_action(state)\n",
    "            reward = game.make_action(actions[action], frame_repeat)\n",
    "            done = game.is_episode_finished()\n",
    "\n",
    "            if not done:\n",
    "                next_state = preprocess(game.get_state().screen_buffer)\n",
    "            else:\n",
    "                next_state = np.zeros((1, 30, 45)).astype(np.float32)\n",
    "\n",
    "            agent.append_memory(state, action, reward, next_state, done)\n",
    "\n",
    "            if global_step > agent.batch_size:\n",
    "                agent.train()\n",
    "\n",
    "            if done:\n",
    "                train_scores.append(game.get_total_reward())\n",
    "                game.new_episode()\n",
    "\n",
    "            global_step += 1\n",
    "\n",
    "        train_scores = np.array(train_scores)\n",
    "        print(\n",
    "            \"Results (Train): mean: {:.1f} +/- {:.1f},\".format(\n",
    "                train_scores.mean(), train_scores.std()\n",
    "            ),\n",
    "            \"min: %.1f,\" % train_scores.min(),\n",
    "            \"max: %.1f,\" % train_scores.max(),\n",
    "        )\n",
    "\n",
    "        test_scores = test_agent(game, agent, actions, frame_repeat)\n",
    "        print(\n",
    "            \"Results (Test): mean: {:.1f} +/- {:.1f},\".format(\n",
    "                test_scores.mean(), test_scores.std()\n",
    "            ),\n",
    "            \"min: %.1f\" % test_scores.min(),\n",
    "            \"max: %.1f\" % test_scores.max(),\n",
    "        )\n",
    "\n",
    "        if save_model:\n",
    "            print(\"Saving the network weights to:\", model_path)\n",
    "            torch.save(agent.q_net, model_path)\n",
    "        print(\"Total elapsed time: %.2f minutes\" %\n",
    "              ((time() - start_time) / 60.0))\n",
    "\n",
    "    game.close()\n",
    "    return agent, game\n",
    "\n",
    "\n",
    "if __name__ == \"__main__\":\n",
    "    config_file_path = os.path.join(vzd.scenarios_path, \"rocket_basic.cfg\")\n",
    "    game = create_game_environment(config_file_path)\n",
    "    n = game.get_available_buttons_size()\n",
    "    actions = [list(a) for a in it.product([0, 1], repeat=n)]\n",
    "    \n",
    "      \n",
    "\n",
    "    # Set the hyperparameters\n",
    "    batch_size = 128\n",
    "    lr = 0.006491568748327548\n",
    "    discount_factor = 0.8876233928106229\n",
    "    memory_size = 10000\n",
    "    frame_repeat = 12\n",
    "    steps_per_epoch = 2000\n",
    "    epsilon_decay = 0.995655176912701\n",
    "\n",
    "    # Use GPU if available\n",
    "    if torch.cuda.is_available():\n",
    "        device = torch.device(\"cuda\")\n",
    "        torch.backends.cudnn.benchmark = True\n",
    "    else:\n",
    "        device = torch.device(\"cpu\")\n",
    "    print(f\"Using device={device} ...\")\n",
    "\n",
    "    # Initialize our agent with the set parameters\n",
    "    agent = DoubleDQNAgent(\n",
    "        action_size=len(actions),\n",
    "        lr=lr,\n",
    "        batch_size=batch_size,\n",
    "        memory_size=memory_size,\n",
    "        discount_factor=discount_factor,\n",
    "        device=device,\n",
    "        load_model=False,\n",
    "        optimizer = \"Adam\",\n",
    "        epsilon_decay=epsilon_decay\n",
    "        \n",
    "    )\n",
    "\n",
    "    # Run the training for the set number of epochs\n",
    "    skip_learning = False\n",
    "    if not skip_learning:\n",
    "        agent, game = train_agent(\n",
    "            game,\n",
    "            agent,\n",
    "            actions,\n",
    "            num_epochs=50,\n",
    "            frame_repeat=frame_repeat,\n",
    "            steps_per_epoch=steps_per_epoch,\n",
    "            save_model=True,\n",
    "            model_path=\"checkpoints/Doom_DoubleDQN.pth\"\n",
    "        )\n",
    "\n",
    "        print(\"======================================\")\n",
    "        print(\"Training finished. It's time to watch!\")\n",
    "\n",
    "    # Reinitialize the game with window visible\n",
    "    game.close()\n",
    "    game.set_window_visible(True)\n",
    "    game.set_mode(vzd.Mode.ASYNC_PLAYER)\n",
    "    game.init()\n",
    "\n",
    "    for _ in range(10):\n",
    "        game.new_episode()\n",
    "        while not game.is_episode_finished():\n",
    "            state = preprocess(game.get_state().screen_buffer)\n",
    "            best_action_index = agent.get_action(state)\n",
    "\n",
    "            # Instead of make_action(a, frame_repeat) in order to make the animation smooth\n",
    "            game.set_action(actions[best_action_index])\n",
    "            for _ in range(12):\n",
    "                game.advance_action()\n",
    "\n",
    "        # Sleep between episodes\n",
    "        sleep(1.0)\n",
    "        score = game.get_total_reward()\n",
    "        print(\"Total score: \", score)\n"
   ]
  },
  {
   "cell_type": "code",
   "execution_count": null,
   "id": "373ac34d",
   "metadata": {},
   "outputs": [],
   "source": []
  }
 ],
 "metadata": {
  "kernelspec": {
   "display_name": "Python 3 (ipykernel)",
   "language": "python",
   "name": "python3"
  },
  "language_info": {
   "codemirror_mode": {
    "name": "ipython",
    "version": 3
   },
   "file_extension": ".py",
   "mimetype": "text/x-python",
   "name": "python",
   "nbconvert_exporter": "python",
   "pygments_lexer": "ipython3",
   "version": "3.9.16"
  }
 },
 "nbformat": 4,
 "nbformat_minor": 5
}
