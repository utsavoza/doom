{
 "cells": [
  {
   "cell_type": "code",
   "execution_count": 2,
   "id": "cfa1b643",
   "metadata": {},
   "outputs": [],
   "source": [
    "#pip install vizdoom"
   ]
  },
  {
   "cell_type": "code",
   "execution_count": 16,
   "id": "b3204ea9",
   "metadata": {},
   "outputs": [],
   "source": [
    "#!pip install optuna"
   ]
  },
  {
   "cell_type": "markdown",
   "id": "e897aa53",
   "metadata": {},
   "source": [
    "\n",
    "# Import Required Libraries"
   ]
  },
  {
   "cell_type": "code",
   "execution_count": 27,
   "id": "a3c92638",
   "metadata": {},
   "outputs": [],
   "source": [
    "import itertools as it\n",
    "import os\n",
    "import random\n",
    "from collections import deque\n",
    "from time import sleep, time\n",
    "import numpy as np\n",
    "import skimage.transform\n",
    "import torch\n",
    "import torch.nn as nn\n",
    "import torch.optim as optim\n",
    "from tqdm import trange\n",
    "import vizdoom as vzd\n",
    "import torchvision.models as models\n",
    "import optuna\n"
   ]
  },
  {
   "cell_type": "code",
   "execution_count": null,
   "id": "7abd471d",
   "metadata": {},
   "outputs": [
    {
     "name": "stderr",
     "output_type": "stream",
     "text": [
      "\u001b[32m[I 2023-05-03 23:21:35,206]\u001b[0m A new study created in memory with name: no-name-6cc88990-098d-4249-b069-ccbdbf0596c3\u001b[0m\n"
     ]
    },
    {
     "name": "stdout",
     "output_type": "stream",
     "text": [
      "\n",
      "Learning rate: 0.010820983255735073, Batch size: 128, Replay memory size: 8000,\n",
      "Discount factor: 0.5681421501464371, Frame repeat: 8, Optimizer: SGD, \n",
      "Epsilon decay: 0.9981163155136186\n",
      "\n",
      "Initializing doom...\n",
      "Doom initialized.\n",
      "Initializing New Model\n",
      "\n",
      "Epoch #1\n"
     ]
    },
    {
     "name": "stderr",
     "output_type": "stream",
     "text": [
      "                                                                                                                       \r"
     ]
    },
    {
     "name": "stdout",
     "output_type": "stream",
     "text": [
      "Results: mean: -146.5 +/- 174.5, min: -365.0, max: 70.0,\n",
      "\n",
      "Testing...\n"
     ]
    },
    {
     "name": "stderr",
     "output_type": "stream",
     "text": [
      "                                                                                                                       \r"
     ]
    },
    {
     "name": "stdout",
     "output_type": "stream",
     "text": [
      "Results: mean: -113.8 +/- 161.4, min: -360.0 max: 66.0\n",
      "Total elapsed time: 2.96 minutes\n",
      "\n",
      "Epoch #2\n"
     ]
    },
    {
     "name": "stderr",
     "output_type": "stream",
     "text": [
      "                                                                                                                       \r"
     ]
    },
    {
     "name": "stdout",
     "output_type": "stream",
     "text": [
      "Results: mean: -172.4 +/- 161.1, min: -345.0, max: 70.0,\n",
      "\n",
      "Testing...\n"
     ]
    },
    {
     "name": "stderr",
     "output_type": "stream",
     "text": [
      "                                                                                                                       \r"
     ]
    },
    {
     "name": "stdout",
     "output_type": "stream",
     "text": [
      "Results: mean: -244.0 +/- 120.7, min: -335.0 max: 66.0\n",
      "Total elapsed time: 6.59 minutes\n",
      "\n",
      "Epoch #3\n"
     ]
    },
    {
     "name": "stderr",
     "output_type": "stream",
     "text": [
      "                                                                                                                       \r"
     ]
    },
    {
     "name": "stdout",
     "output_type": "stream",
     "text": [
      "Results: mean: -182.8 +/- 162.1, min: -340.0, max: 70.0,\n",
      "\n",
      "Testing...\n"
     ]
    },
    {
     "name": "stderr",
     "output_type": "stream",
     "text": [
      "                                                                                                                       \r"
     ]
    },
    {
     "name": "stdout",
     "output_type": "stream",
     "text": [
      "Results: mean: -99.5 +/- 150.7, min: -345.0 max: 54.0\n",
      "Total elapsed time: 9.82 minutes\n",
      "\n",
      "Epoch #4\n"
     ]
    },
    {
     "name": "stderr",
     "output_type": "stream",
     "text": [
      "                                                                                                                       \r"
     ]
    },
    {
     "name": "stdout",
     "output_type": "stream",
     "text": [
      "Results: mean: -132.5 +/- 151.2, min: -325.0, max: 70.0,\n",
      "\n",
      "Testing...\n"
     ]
    },
    {
     "name": "stderr",
     "output_type": "stream",
     "text": [
      "                                                                                                                       \r"
     ]
    },
    {
     "name": "stdout",
     "output_type": "stream",
     "text": [
      "Results: mean: -156.6 +/- 140.8, min: -355.0 max: 54.0\n",
      "Total elapsed time: 13.24 minutes\n",
      "\n",
      "Epoch #5\n"
     ]
    },
    {
     "name": "stderr",
     "output_type": "stream",
     "text": [
      "                                                                                                                       \r"
     ]
    },
    {
     "name": "stdout",
     "output_type": "stream",
     "text": [
      "Results: mean: -104.0 +/- 160.2, min: -365.0, max: 70.0,\n",
      "\n",
      "Testing...\n"
     ]
    },
    {
     "name": "stderr",
     "output_type": "stream",
     "text": [
      "                                                                                                                       \r"
     ]
    },
    {
     "name": "stdout",
     "output_type": "stream",
     "text": [
      "Results: mean: -149.3 +/- 164.0, min: -330.0 max: 66.0\n",
      "Total elapsed time: 16.64 minutes\n",
      "\n",
      "Epoch #6\n"
     ]
    },
    {
     "name": "stderr",
     "output_type": "stream",
     "text": [
      "                                                                                                                       \r"
     ]
    },
    {
     "name": "stdout",
     "output_type": "stream",
     "text": [
      "Results: mean: -58.0 +/- 153.2, min: -340.0, max: 70.0,\n",
      "\n",
      "Testing...\n"
     ]
    },
    {
     "name": "stderr",
     "output_type": "stream",
     "text": [
      "                                                                                                                       \r"
     ]
    },
    {
     "name": "stdout",
     "output_type": "stream",
     "text": [
      "Results: mean: -33.0 +/- 120.3, min: -335.0 max: 66.0\n",
      "Total elapsed time: 19.66 minutes\n",
      "\n",
      "Epoch #7\n"
     ]
    },
    {
     "name": "stderr",
     "output_type": "stream",
     "text": [
      "                                                                                                                       \r"
     ]
    },
    {
     "name": "stdout",
     "output_type": "stream",
     "text": [
      "Results: mean: -72.6 +/- 139.9, min: -340.0, max: 70.0,\n",
      "\n",
      "Testing...\n"
     ]
    },
    {
     "name": "stderr",
     "output_type": "stream",
     "text": [
      "                                                                                                                       \r"
     ]
    },
    {
     "name": "stdout",
     "output_type": "stream",
     "text": [
      "Results: mean: -190.0 +/- 138.5, min: -340.0 max: 66.0\n",
      "Total elapsed time: 23.18 minutes\n",
      "\n",
      "Epoch #8\n"
     ]
    },
    {
     "name": "stderr",
     "output_type": "stream",
     "text": [
      "                                                                                                                       \r"
     ]
    },
    {
     "name": "stdout",
     "output_type": "stream",
     "text": [
      "Results: mean: -76.8 +/- 155.0, min: -360.0, max: 70.0,\n",
      "\n",
      "Testing...\n"
     ]
    },
    {
     "name": "stderr",
     "output_type": "stream",
     "text": [
      "                                                                                                                       \r"
     ]
    },
    {
     "name": "stdout",
     "output_type": "stream",
     "text": [
      "Results: mean: -215.1 +/- 158.6, min: -350.0 max: 66.0\n",
      "Total elapsed time: 26.68 minutes\n",
      "\n",
      "Epoch #9\n"
     ]
    },
    {
     "name": "stderr",
     "output_type": "stream",
     "text": [
      "                                                                                                                       \r"
     ]
    },
    {
     "name": "stdout",
     "output_type": "stream",
     "text": [
      "Results: mean: -131.2 +/- 174.5, min: -335.0, max: 70.0,\n",
      "\n",
      "Testing...\n"
     ]
    },
    {
     "name": "stderr",
     "output_type": "stream",
     "text": [
      "                                                                                                                       \r"
     ]
    },
    {
     "name": "stdout",
     "output_type": "stream",
     "text": [
      "Results: mean: -97.6 +/- 146.0, min: -330.0 max: 66.0\n",
      "Total elapsed time: 29.97 minutes\n",
      "\n",
      "Epoch #10\n"
     ]
    },
    {
     "name": "stderr",
     "output_type": "stream",
     "text": [
      "                                                                                                                       \r"
     ]
    },
    {
     "name": "stdout",
     "output_type": "stream",
     "text": [
      "Results: mean: -135.2 +/- 158.4, min: -350.0, max: 70.0,\n",
      "\n",
      "Testing...\n"
     ]
    },
    {
     "name": "stderr",
     "output_type": "stream",
     "text": [
      "\u001b[32m[I 2023-05-03 23:54:50,154]\u001b[0m Trial 0 finished with value: -101.15 and parameters: {'learning_rate': 0.010820983255735073, 'batch_size': 128, 'replay_memory_size': 8000, 'discount_factor': 0.5681421501464371, 'frame_repeat': 8, 'optimizer': 'SGD', 'epsilon_decay': 0.9981163155136186}. Best is trial 0 with value: -101.15.\u001b[0m\n"
     ]
    },
    {
     "name": "stdout",
     "output_type": "stream",
     "text": [
      "Results: mean: -101.2 +/- 129.3, min: -355.0 max: 66.0\n",
      "Total elapsed time: 33.24 minutes\n",
      "\n",
      "Learning rate: 0.0028328782690444664, Batch size: 128, Replay memory size: 9000,\n",
      "Discount factor: 0.7275912173879978, Frame repeat: 8, Optimizer: Adam, \n",
      "Epsilon decay: 0.996320370490337\n",
      "\n",
      "Initializing doom...\n",
      "Doom initialized.\n",
      "Initializing New Model\n",
      "\n",
      "Epoch #1\n"
     ]
    },
    {
     "name": "stderr",
     "output_type": "stream",
     "text": [
      "                                                                                                                       \r"
     ]
    },
    {
     "name": "stdout",
     "output_type": "stream",
     "text": [
      "Results: mean: -108.6 +/- 169.0, min: -370.0, max: 70.0,\n",
      "\n",
      "Testing...\n"
     ]
    },
    {
     "name": "stderr",
     "output_type": "stream",
     "text": [
      "                                                                                                                       \r"
     ]
    },
    {
     "name": "stdout",
     "output_type": "stream",
     "text": [
      "Results: mean: -158.9 +/- 151.2, min: -370.0 max: 66.0\n",
      "Total elapsed time: 3.46 minutes\n",
      "\n",
      "Epoch #2\n"
     ]
    },
    {
     "name": "stderr",
     "output_type": "stream",
     "text": [
      "                                                                                                                       \r"
     ]
    },
    {
     "name": "stdout",
     "output_type": "stream",
     "text": [
      "Results: mean: -236.6 +/- 124.6, min: -355.0, max: 62.0,\n",
      "\n",
      "Testing...\n"
     ]
    },
    {
     "name": "stderr",
     "output_type": "stream",
     "text": [
      "                                                                                                                       \r"
     ]
    },
    {
     "name": "stdout",
     "output_type": "stream",
     "text": [
      "Results: mean: -184.6 +/- 145.2, min: -325.0 max: 66.0\n",
      "Total elapsed time: 7.07 minutes\n",
      "\n",
      "Epoch #3\n"
     ]
    },
    {
     "name": "stderr",
     "output_type": "stream",
     "text": [
      "                                                                                                                       \r"
     ]
    },
    {
     "name": "stdout",
     "output_type": "stream",
     "text": [
      "Results: mean: -100.5 +/- 166.3, min: -340.0, max: 70.0,\n",
      "\n",
      "Testing...\n"
     ]
    },
    {
     "name": "stderr",
     "output_type": "stream",
     "text": [
      "                                                                                                                       \r"
     ]
    },
    {
     "name": "stdout",
     "output_type": "stream",
     "text": [
      "Results: mean: -96.7 +/- 148.8, min: -320.0 max: 66.0\n",
      "Total elapsed time: 10.47 minutes\n",
      "\n",
      "Epoch #4\n"
     ]
    },
    {
     "name": "stderr",
     "output_type": "stream",
     "text": [
      "                                                                                                                       \r"
     ]
    },
    {
     "name": "stdout",
     "output_type": "stream",
     "text": [
      "Results: mean: -58.1 +/- 155.9, min: -335.0, max: 70.0,\n",
      "\n",
      "Testing...\n"
     ]
    },
    {
     "name": "stderr",
     "output_type": "stream",
     "text": [
      "                                                                                                                       \r"
     ]
    },
    {
     "name": "stdout",
     "output_type": "stream",
     "text": [
      "Results: mean: -32.5 +/- 148.5, min: -345.0 max: 66.0\n",
      "Total elapsed time: 13.53 minutes\n",
      "\n",
      "Epoch #5\n"
     ]
    },
    {
     "name": "stderr",
     "output_type": "stream",
     "text": [
      "                                                                                                                       \r"
     ]
    },
    {
     "name": "stdout",
     "output_type": "stream",
     "text": [
      "Results: mean: -9.1 +/- 139.4, min: -345.0, max: 70.0,\n",
      "\n",
      "Testing...\n"
     ]
    },
    {
     "name": "stderr",
     "output_type": "stream",
     "text": [
      "                                                                                                                       \r"
     ]
    },
    {
     "name": "stdout",
     "output_type": "stream",
     "text": [
      "Results: mean: -33.1 +/- 150.5, min: -325.0 max: 66.0\n",
      "Total elapsed time: 16.63 minutes\n",
      "\n",
      "Epoch #6\n"
     ]
    },
    {
     "name": "stderr",
     "output_type": "stream",
     "text": [
      "                                                                                                                       \r"
     ]
    },
    {
     "name": "stdout",
     "output_type": "stream",
     "text": [
      "Results: mean: -39.9 +/- 151.7, min: -340.0, max: 70.0,\n",
      "\n",
      "Testing...\n"
     ]
    },
    {
     "name": "stderr",
     "output_type": "stream",
     "text": [
      "                                                                                                                       \r"
     ]
    },
    {
     "name": "stdout",
     "output_type": "stream",
     "text": [
      "Results: mean: -47.5 +/- 159.0, min: -340.0 max: 66.0\n",
      "Total elapsed time: 19.74 minutes\n",
      "\n",
      "Epoch #7\n"
     ]
    },
    {
     "name": "stderr",
     "output_type": "stream",
     "text": [
      "                                                                                                                       \r"
     ]
    },
    {
     "name": "stdout",
     "output_type": "stream",
     "text": [
      "Results: mean: 22.5 +/- 86.2, min: -335.0, max: 70.0,\n",
      "\n",
      "Testing...\n"
     ]
    },
    {
     "name": "stderr",
     "output_type": "stream",
     "text": [
      "                                                                                                                       \r"
     ]
    },
    {
     "name": "stdout",
     "output_type": "stream",
     "text": [
      "Results: mean: -45.0 +/- 125.0, min: -325.0 max: 66.0\n",
      "Total elapsed time: 22.88 minutes\n",
      "\n",
      "Epoch #8\n"
     ]
    },
    {
     "name": "stderr",
     "output_type": "stream",
     "text": [
      "                                                                                                                       \r"
     ]
    },
    {
     "name": "stdout",
     "output_type": "stream",
     "text": [
      "Results: mean: 13.3 +/- 92.2, min: -365.0, max: 70.0,\n",
      "\n",
      "Testing...\n"
     ]
    },
    {
     "name": "stderr",
     "output_type": "stream",
     "text": [
      "                                                                                                                       \r"
     ]
    },
    {
     "name": "stdout",
     "output_type": "stream",
     "text": [
      "Results: mean: -7.9 +/- 81.3, min: -320.0 max: 66.0\n",
      "Total elapsed time: 25.89 minutes\n",
      "\n",
      "Epoch #9\n"
     ]
    },
    {
     "name": "stderr",
     "output_type": "stream",
     "text": [
      "                                                                                                                       \r"
     ]
    },
    {
     "name": "stdout",
     "output_type": "stream",
     "text": [
      "Results: mean: 9.1 +/- 92.8, min: -370.0, max: 70.0,\n",
      "\n",
      "Testing...\n"
     ]
    },
    {
     "name": "stderr",
     "output_type": "stream",
     "text": [
      "                                                                                                                       \r"
     ]
    },
    {
     "name": "stdout",
     "output_type": "stream",
     "text": [
      "Results: mean: -2.8 +/- 121.4, min: -370.0 max: 66.0\n",
      "Total elapsed time: 28.89 minutes\n",
      "\n",
      "Epoch #10\n"
     ]
    },
    {
     "name": "stderr",
     "output_type": "stream",
     "text": [
      "                                                                                                                       \r"
     ]
    },
    {
     "name": "stdout",
     "output_type": "stream",
     "text": [
      "Results: mean: -10.5 +/- 123.9, min: -370.0, max: 70.0,\n",
      "\n",
      "Testing...\n"
     ]
    },
    {
     "name": "stderr",
     "output_type": "stream",
     "text": [
      "\u001b[32m[I 2023-05-04 00:26:52,731]\u001b[0m Trial 1 finished with value: -48.77 and parameters: {'learning_rate': 0.0028328782690444664, 'batch_size': 128, 'replay_memory_size': 9000, 'discount_factor': 0.7275912173879978, 'frame_repeat': 8, 'optimizer': 'Adam', 'epsilon_decay': 0.996320370490337}. Best is trial 1 with value: -48.77.\u001b[0m\n"
     ]
    },
    {
     "name": "stdout",
     "output_type": "stream",
     "text": [
      "Results: mean: -48.8 +/- 142.1, min: -355.0 max: 66.0\n",
      "Total elapsed time: 32.03 minutes\n",
      "\n",
      "Learning rate: 0.0011666801545018926, Batch size: 128, Replay memory size: 4000,\n",
      "Discount factor: 0.8758366445996738, Frame repeat: 4, Optimizer: SGD, \n",
      "Epsilon decay: 0.9965195342701723\n",
      "\n",
      "Initializing doom...\n",
      "Doom initialized.\n",
      "Initializing New Model\n",
      "\n",
      "Epoch #1\n"
     ]
    },
    {
     "name": "stderr",
     "output_type": "stream",
     "text": [
      "                                                                                                                       \r"
     ]
    },
    {
     "name": "stdout",
     "output_type": "stream",
     "text": [
      "Results: mean: -83.9 +/- 164.8, min: -365.0, max: 74.0,\n",
      "\n",
      "Testing...\n"
     ]
    },
    {
     "name": "stderr",
     "output_type": "stream",
     "text": [
      "                                                                                                                       \r"
     ]
    },
    {
     "name": "stdout",
     "output_type": "stream",
     "text": [
      "Results: mean: -216.8 +/- 145.9, min: -355.0 max: 42.0\n",
      "Total elapsed time: 3.49 minutes\n",
      "\n",
      "Epoch #2\n"
     ]
    },
    {
     "name": "stderr",
     "output_type": "stream",
     "text": [
      "                                                                                                                       \r"
     ]
    },
    {
     "name": "stdout",
     "output_type": "stream",
     "text": [
      "Results: mean: -111.7 +/- 183.5, min: -370.0, max: 74.0,\n",
      "\n",
      "Testing...\n"
     ]
    },
    {
     "name": "stderr",
     "output_type": "stream",
     "text": [
      "                                                                                                                       \r"
     ]
    },
    {
     "name": "stdout",
     "output_type": "stream",
     "text": [
      "Results: mean: -236.4 +/- 128.6, min: -325.0 max: 54.0\n",
      "Total elapsed time: 7.08 minutes\n",
      "\n",
      "Epoch #3\n"
     ]
    },
    {
     "name": "stderr",
     "output_type": "stream",
     "text": [
      "                                                                                                                       \r"
     ]
    },
    {
     "name": "stdout",
     "output_type": "stream",
     "text": [
      "Results: mean: -254.6 +/- 123.2, min: -335.0, max: 74.0,\n",
      "\n",
      "Testing...\n"
     ]
    },
    {
     "name": "stderr",
     "output_type": "stream",
     "text": [
      "                                                                                                                       \r"
     ]
    },
    {
     "name": "stdout",
     "output_type": "stream",
     "text": [
      "Results: mean: -275.6 +/- 89.1, min: -315.0 max: 66.0\n",
      "Total elapsed time: 10.78 minutes\n",
      "\n",
      "Epoch #4\n"
     ]
    },
    {
     "name": "stderr",
     "output_type": "stream",
     "text": [
      "                                                                                                                       \r"
     ]
    },
    {
     "name": "stdout",
     "output_type": "stream",
     "text": [
      "Results: mean: -247.9 +/- 133.8, min: -325.0, max: 74.0,\n",
      "\n",
      "Testing...\n"
     ]
    },
    {
     "name": "stderr",
     "output_type": "stream",
     "text": [
      "                                                                                                                       \r"
     ]
    },
    {
     "name": "stdout",
     "output_type": "stream",
     "text": [
      "Results: mean: -291.2 +/- 60.2, min: -320.0 max: 42.0\n",
      "Total elapsed time: 14.50 minutes\n",
      "\n",
      "Epoch #5\n"
     ]
    },
    {
     "name": "stderr",
     "output_type": "stream",
     "text": [
      "                                                                                                                       \r"
     ]
    },
    {
     "name": "stdout",
     "output_type": "stream",
     "text": [
      "Results: mean: -291.1 +/- 83.7, min: -330.0, max: 46.0,\n",
      "\n",
      "Testing...\n"
     ]
    },
    {
     "name": "stderr",
     "output_type": "stream",
     "text": [
      "                                                                                                                       \r"
     ]
    },
    {
     "name": "stdout",
     "output_type": "stream",
     "text": [
      "Results: mean: -293.7 +/- 61.7, min: -320.0 max: 54.0\n",
      "Total elapsed time: 18.23 minutes\n",
      "\n",
      "Epoch #6\n"
     ]
    },
    {
     "name": "stderr",
     "output_type": "stream",
     "text": [
      "                                                                                                                       \r"
     ]
    },
    {
     "name": "stdout",
     "output_type": "stream",
     "text": [
      "Results: mean: -248.3 +/- 132.8, min: -330.0, max: 74.0,\n",
      "\n",
      "Testing...\n"
     ]
    },
    {
     "name": "stderr",
     "output_type": "stream",
     "text": [
      "                                                                                                                       \r"
     ]
    },
    {
     "name": "stdout",
     "output_type": "stream",
     "text": [
      "Results: mean: -254.8 +/- 105.0, min: -325.0 max: 66.0\n",
      "Total elapsed time: 21.86 minutes\n",
      "\n",
      "Epoch #7\n"
     ]
    },
    {
     "name": "stderr",
     "output_type": "stream",
     "text": [
      "                                                                                                                       \r"
     ]
    },
    {
     "name": "stdout",
     "output_type": "stream",
     "text": [
      "Results: mean: -142.3 +/- 168.4, min: -350.0, max: 70.0,\n",
      "\n",
      "Testing...\n"
     ]
    },
    {
     "name": "stderr",
     "output_type": "stream",
     "text": [
      "                                                                                                                       \r"
     ]
    },
    {
     "name": "stdout",
     "output_type": "stream",
     "text": [
      "Results: mean: -144.0 +/- 146.4, min: -365.0 max: 66.0\n",
      "Total elapsed time: 24.84 minutes\n",
      "\n",
      "Epoch #8\n"
     ]
    },
    {
     "name": "stderr",
     "output_type": "stream",
     "text": [
      "                                                                                                                       \r"
     ]
    },
    {
     "name": "stdout",
     "output_type": "stream",
     "text": [
      "Results: mean: 20.0 +/- 112.1, min: -365.0, max: 74.0,\n",
      "\n",
      "Testing...\n"
     ]
    },
    {
     "name": "stderr",
     "output_type": "stream",
     "text": [
      "                                                                                                                       \r"
     ]
    },
    {
     "name": "stdout",
     "output_type": "stream",
     "text": [
      "Results: mean: -139.9 +/- 142.3, min: -365.0 max: 66.0\n",
      "Total elapsed time: 27.81 minutes\n",
      "\n",
      "Epoch #9\n"
     ]
    },
    {
     "name": "stderr",
     "output_type": "stream",
     "text": [
      "                                                                                                                       \r"
     ]
    },
    {
     "name": "stdout",
     "output_type": "stream",
     "text": [
      "Results: mean: -2.8 +/- 125.1, min: -365.0, max: 74.0,\n",
      "\n",
      "Testing...\n"
     ]
    },
    {
     "name": "stderr",
     "output_type": "stream",
     "text": [
      "                                                                                                                       \r"
     ]
    },
    {
     "name": "stdout",
     "output_type": "stream",
     "text": [
      "Results: mean: -8.7 +/- 115.5, min: -335.0 max: 66.0\n",
      "Total elapsed time: 30.34 minutes\n",
      "\n",
      "Epoch #10\n"
     ]
    },
    {
     "name": "stderr",
     "output_type": "stream",
     "text": [
      "                                                                                                                       \r"
     ]
    },
    {
     "name": "stdout",
     "output_type": "stream",
     "text": [
      "Results: mean: 16.5 +/- 118.4, min: -355.0, max: 74.0,\n",
      "\n",
      "Testing...\n"
     ]
    },
    {
     "name": "stderr",
     "output_type": "stream",
     "text": [
      "\u001b[32m[I 2023-05-04 00:59:56,409]\u001b[0m Trial 2 finished with value: -75.87 and parameters: {'learning_rate': 0.0011666801545018926, 'batch_size': 128, 'replay_memory_size': 4000, 'discount_factor': 0.8758366445996738, 'frame_repeat': 4, 'optimizer': 'SGD', 'epsilon_decay': 0.9965195342701723}. Best is trial 1 with value: -48.77.\u001b[0m\n"
     ]
    },
    {
     "name": "stdout",
     "output_type": "stream",
     "text": [
      "Results: mean: -75.9 +/- 156.3, min: -360.0 max: 66.0\n",
      "Total elapsed time: 33.05 minutes\n",
      "\n",
      "Learning rate: 0.001684112892852763, Batch size: 64, Replay memory size: 6000,\n",
      "Discount factor: 0.38055859736318365, Frame repeat: 16, Optimizer: SGD, \n",
      "Epsilon decay: 0.9914395778741067\n",
      "\n",
      "Initializing doom...\n",
      "Doom initialized.\n",
      "Initializing New Model\n",
      "\n",
      "Epoch #1\n"
     ]
    },
    {
     "name": "stderr",
     "output_type": "stream",
     "text": [
      "                                                                                                                       \r"
     ]
    },
    {
     "name": "stdout",
     "output_type": "stream",
     "text": [
      "Results: mean: -250.8 +/- 119.2, min: -360.0, max: 62.0,\n",
      "\n",
      "Testing...\n"
     ]
    },
    {
     "name": "stderr",
     "output_type": "stream",
     "text": [
      "                                                                                                                       \r"
     ]
    },
    {
     "name": "stdout",
     "output_type": "stream",
     "text": [
      "Results: mean: -274.0 +/- 95.0, min: -320.0 max: 66.0\n",
      "Total elapsed time: 3.44 minutes\n",
      "\n",
      "Epoch #2\n"
     ]
    },
    {
     "name": "stderr",
     "output_type": "stream",
     "text": [
      "                                                                                                                       \r"
     ]
    },
    {
     "name": "stdout",
     "output_type": "stream",
     "text": [
      "Results: mean: -241.1 +/- 120.8, min: -325.0, max: 46.0,\n",
      "\n",
      "Testing...\n"
     ]
    },
    {
     "name": "stderr",
     "output_type": "stream",
     "text": [
      "                                                                                                                       \r"
     ]
    },
    {
     "name": "stdout",
     "output_type": "stream",
     "text": [
      "Results: mean: -228.8 +/- 128.0, min: -315.0 max: 66.0\n",
      "Total elapsed time: 6.96 minutes\n",
      "\n",
      "Epoch #3\n"
     ]
    },
    {
     "name": "stderr",
     "output_type": "stream",
     "text": [
      "                                                                                                                       \r"
     ]
    },
    {
     "name": "stdout",
     "output_type": "stream",
     "text": [
      "Results: mean: -263.6 +/- 95.2, min: -315.0, max: 62.0,\n",
      "\n",
      "Testing...\n"
     ]
    },
    {
     "name": "stderr",
     "output_type": "stream",
     "text": [
      "                                                                                                                       \r"
     ]
    },
    {
     "name": "stdout",
     "output_type": "stream",
     "text": [
      "Results: mean: -229.0 +/- 131.9, min: -315.0 max: 66.0\n",
      "Total elapsed time: 10.53 minutes\n",
      "\n",
      "Epoch #4\n"
     ]
    },
    {
     "name": "stderr",
     "output_type": "stream",
     "text": [
      "                                                                                                                       \r"
     ]
    },
    {
     "name": "stdout",
     "output_type": "stream",
     "text": [
      "Results: mean: -269.4 +/- 90.9, min: -325.0, max: 62.0,\n",
      "\n",
      "Testing...\n"
     ]
    },
    {
     "name": "stderr",
     "output_type": "stream",
     "text": [
      "                                                                                                                       \r"
     ]
    },
    {
     "name": "stdout",
     "output_type": "stream",
     "text": [
      "Results: mean: -214.4 +/- 135.2, min: -315.0 max: 54.0\n",
      "Total elapsed time: 13.99 minutes\n",
      "\n",
      "Epoch #5\n"
     ]
    },
    {
     "name": "stderr",
     "output_type": "stream",
     "text": [
      "                                                                                                                       \r"
     ]
    },
    {
     "name": "stdout",
     "output_type": "stream",
     "text": [
      "Results: mean: -251.0 +/- 108.4, min: -315.0, max: 62.0,\n",
      "\n",
      "Testing...\n"
     ]
    },
    {
     "name": "stderr",
     "output_type": "stream",
     "text": [
      "                                                                                                                       \r"
     ]
    },
    {
     "name": "stdout",
     "output_type": "stream",
     "text": [
      "Results: mean: -231.1 +/- 122.2, min: -315.0 max: 66.0\n",
      "Total elapsed time: 17.48 minutes\n",
      "\n",
      "Epoch #6\n"
     ]
    },
    {
     "name": "stderr",
     "output_type": "stream",
     "text": [
      "                                                                                                                       \r"
     ]
    },
    {
     "name": "stdout",
     "output_type": "stream",
     "text": [
      "Results: mean: -272.7 +/- 83.7, min: -330.0, max: 30.0,\n",
      "\n",
      "Testing...\n"
     ]
    },
    {
     "name": "stderr",
     "output_type": "stream",
     "text": [
      "                                                                                                                       \r"
     ]
    },
    {
     "name": "stdout",
     "output_type": "stream",
     "text": [
      "Results: mean: -291.4 +/- 54.7, min: -330.0 max: 30.0\n",
      "Total elapsed time: 21.10 minutes\n",
      "\n",
      "Epoch #7\n"
     ]
    },
    {
     "name": "stderr",
     "output_type": "stream",
     "text": [
      "                                                                                                                       \r"
     ]
    },
    {
     "name": "stdout",
     "output_type": "stream",
     "text": [
      "Results: mean: -233.7 +/- 121.3, min: -315.0, max: 62.0,\n",
      "\n",
      "Testing...\n"
     ]
    },
    {
     "name": "stderr",
     "output_type": "stream",
     "text": [
      "                                                                                                                       \r"
     ]
    },
    {
     "name": "stdout",
     "output_type": "stream",
     "text": [
      "Results: mean: -237.3 +/- 121.2, min: -320.0 max: 66.0\n",
      "Total elapsed time: 24.60 minutes\n",
      "\n",
      "Epoch #8\n"
     ]
    },
    {
     "name": "stderr",
     "output_type": "stream",
     "text": [
      "                                                                                                                       \r"
     ]
    },
    {
     "name": "stdout",
     "output_type": "stream",
     "text": [
      "Results: mean: -281.6 +/- 72.7, min: -315.0, max: 62.0,\n",
      "\n",
      "Testing...\n"
     ]
    },
    {
     "name": "stderr",
     "output_type": "stream",
     "text": [
      "                                                                                                                       \r"
     ]
    },
    {
     "name": "stdout",
     "output_type": "stream",
     "text": [
      "Results: mean: -270.6 +/- 91.5, min: -325.0 max: 66.0\n",
      "Total elapsed time: 28.17 minutes\n",
      "\n",
      "Epoch #9\n"
     ]
    },
    {
     "name": "stderr",
     "output_type": "stream",
     "text": [
      "                                                                                                                       \r"
     ]
    },
    {
     "name": "stdout",
     "output_type": "stream",
     "text": [
      "Results: mean: -300.3 +/- 35.8, min: -320.0, max: 46.0,\n",
      "\n",
      "Testing...\n"
     ]
    },
    {
     "name": "stderr",
     "output_type": "stream",
     "text": [
      "                                                                                                                       \r"
     ]
    },
    {
     "name": "stdout",
     "output_type": "stream",
     "text": [
      "Results: mean: -253.2 +/- 106.8, min: -315.0 max: 66.0\n",
      "Total elapsed time: 31.70 minutes\n",
      "\n",
      "Epoch #10\n"
     ]
    },
    {
     "name": "stderr",
     "output_type": "stream",
     "text": [
      "                                                                                                                       \r"
     ]
    },
    {
     "name": "stdout",
     "output_type": "stream",
     "text": [
      "Results: mean: -295.4 +/- 52.2, min: -315.0, max: 37.0,\n",
      "\n",
      "Testing...\n"
     ]
    },
    {
     "name": "stderr",
     "output_type": "stream",
     "text": [
      "\u001b[32m[I 2023-05-04 01:35:10,014]\u001b[0m Trial 3 finished with value: -262.07 and parameters: {'learning_rate': 0.001684112892852763, 'batch_size': 64, 'replay_memory_size': 6000, 'discount_factor': 0.38055859736318365, 'frame_repeat': 16, 'optimizer': 'SGD', 'epsilon_decay': 0.9914395778741067}. Best is trial 1 with value: -48.77.\u001b[0m\n"
     ]
    },
    {
     "name": "stdout",
     "output_type": "stream",
     "text": [
      "Results: mean: -262.1 +/- 103.7, min: -325.0 max: 54.0\n",
      "Total elapsed time: 35.22 minutes\n",
      "\n",
      "Learning rate: 0.06316626321406929, Batch size: 64, Replay memory size: 5000,\n",
      "Discount factor: 0.22891482376886008, Frame repeat: 4, Optimizer: Adam, \n",
      "Epsilon decay: 0.9918902689496044\n",
      "\n",
      "Initializing doom...\n",
      "Doom initialized.\n",
      "Initializing New Model\n",
      "\n",
      "Epoch #1\n"
     ]
    },
    {
     "name": "stderr",
     "output_type": "stream",
     "text": [
      "                                                                                                                       \r"
     ]
    },
    {
     "name": "stdout",
     "output_type": "stream",
     "text": [
      "Results: mean: -183.5 +/- 174.1, min: -360.0, max: 74.0,\n",
      "\n",
      "Testing...\n"
     ]
    },
    {
     "name": "stderr",
     "output_type": "stream",
     "text": [
      "                                                                                                                       \r"
     ]
    },
    {
     "name": "stdout",
     "output_type": "stream",
     "text": [
      "Results: mean: -235.6 +/- 141.4, min: -370.0 max: 66.0\n",
      "Total elapsed time: 3.54 minutes\n",
      "\n",
      "Epoch #2\n"
     ]
    },
    {
     "name": "stderr",
     "output_type": "stream",
     "text": [
      "                                                                                                                       \r"
     ]
    },
    {
     "name": "stdout",
     "output_type": "stream",
     "text": [
      "Results: mean: -183.2 +/- 170.3, min: -345.0, max: 74.0,\n",
      "\n",
      "Testing...\n"
     ]
    },
    {
     "name": "stderr",
     "output_type": "stream",
     "text": [
      "                                                                                                                       \r"
     ]
    },
    {
     "name": "stdout",
     "output_type": "stream",
     "text": [
      "Results: mean: -301.2 +/- 101.1, min: -370.0 max: 66.0\n",
      "Total elapsed time: 7.25 minutes\n",
      "\n",
      "Epoch #3\n"
     ]
    },
    {
     "name": "stderr",
     "output_type": "stream",
     "text": [
      "                                                                                                                       \r"
     ]
    },
    {
     "name": "stdout",
     "output_type": "stream",
     "text": [
      "Results: mean: -241.7 +/- 157.8, min: -365.0, max: 74.0,\n",
      "\n",
      "Testing...\n"
     ]
    },
    {
     "name": "stderr",
     "output_type": "stream",
     "text": [
      "                                                                                                                       \r"
     ]
    },
    {
     "name": "stdout",
     "output_type": "stream",
     "text": [
      "Results: mean: -242.5 +/- 133.9, min: -370.0 max: 66.0\n",
      "Total elapsed time: 10.81 minutes\n",
      "\n",
      "Epoch #4\n"
     ]
    },
    {
     "name": "stderr",
     "output_type": "stream",
     "text": [
      "                                                                                                                       \r"
     ]
    },
    {
     "name": "stdout",
     "output_type": "stream",
     "text": [
      "Results: mean: -270.3 +/- 153.4, min: -375.0, max: 74.0,\n",
      "\n",
      "Testing...\n"
     ]
    },
    {
     "name": "stderr",
     "output_type": "stream",
     "text": [
      "                                                                                                                       \r"
     ]
    },
    {
     "name": "stdout",
     "output_type": "stream",
     "text": [
      "Results: mean: -327.9 +/- 26.8, min: -370.0 max: -300.0\n",
      "Total elapsed time: 14.56 minutes\n",
      "\n",
      "Epoch #5\n"
     ]
    },
    {
     "name": "stderr",
     "output_type": "stream",
     "text": [
      "                                                                                                                       \r"
     ]
    },
    {
     "name": "stdout",
     "output_type": "stream",
     "text": [
      "Results: mean: -234.4 +/- 153.1, min: -365.0, max: 70.0,\n",
      "\n",
      "Testing...\n"
     ]
    },
    {
     "name": "stderr",
     "output_type": "stream",
     "text": [
      "                                                                                                                       \r"
     ]
    },
    {
     "name": "stdout",
     "output_type": "stream",
     "text": [
      "Results: mean: -296.7 +/- 53.0, min: -320.0 max: 42.0\n",
      "Total elapsed time: 18.26 minutes\n",
      "\n",
      "Epoch #6\n"
     ]
    },
    {
     "name": "stderr",
     "output_type": "stream",
     "text": [
      "                                                                                                                       \r"
     ]
    },
    {
     "name": "stdout",
     "output_type": "stream",
     "text": [
      "Results: mean: -277.4 +/- 125.6, min: -370.0, max: 66.0,\n",
      "\n",
      "Testing...\n"
     ]
    },
    {
     "name": "stderr",
     "output_type": "stream",
     "text": [
      "                                                                                                                       \r"
     ]
    },
    {
     "name": "stdout",
     "output_type": "stream",
     "text": [
      "Results: mean: -316.4 +/- 82.8, min: -370.0 max: 66.0\n",
      "Total elapsed time: 22.04 minutes\n",
      "\n",
      "Epoch #7\n"
     ]
    },
    {
     "name": "stderr",
     "output_type": "stream",
     "text": [
      "                                                                                                                       \r"
     ]
    },
    {
     "name": "stdout",
     "output_type": "stream",
     "text": [
      "Results: mean: -284.2 +/- 140.1, min: -370.0, max: 74.0,\n",
      "\n",
      "Testing...\n"
     ]
    },
    {
     "name": "stderr",
     "output_type": "stream",
     "text": [
      "                                                                                                                       \r"
     ]
    },
    {
     "name": "stdout",
     "output_type": "stream",
     "text": [
      "Results: mean: -297.8 +/- 107.9, min: -370.0 max: 66.0\n",
      "Total elapsed time: 25.77 minutes\n",
      "\n",
      "Epoch #8\n"
     ]
    },
    {
     "name": "stderr",
     "output_type": "stream",
     "text": [
      "                                                                                                                       \r"
     ]
    },
    {
     "name": "stdout",
     "output_type": "stream",
     "text": [
      "Results: mean: -299.8 +/- 107.7, min: -370.0, max: 29.0,\n",
      "\n",
      "Testing...\n"
     ]
    },
    {
     "name": "stderr",
     "output_type": "stream",
     "text": [
      "                                                                                                                       \r"
     ]
    },
    {
     "name": "stdout",
     "output_type": "stream",
     "text": [
      "Results: mean: -301.8 +/- 94.8, min: -370.0 max: 66.0\n",
      "Total elapsed time: 29.60 minutes\n",
      "\n",
      "Epoch #9\n"
     ]
    },
    {
     "name": "stderr",
     "output_type": "stream",
     "text": [
      "                                                                                                                       \r"
     ]
    },
    {
     "name": "stdout",
     "output_type": "stream",
     "text": [
      "Results: mean: -273.7 +/- 154.2, min: -375.0, max: 74.0,\n",
      "\n",
      "Testing...\n"
     ]
    },
    {
     "name": "stderr",
     "output_type": "stream",
     "text": [
      "                                                                                                                       \r"
     ]
    },
    {
     "name": "stdout",
     "output_type": "stream",
     "text": [
      "Results: mean: -313.2 +/- 84.5, min: -370.0 max: 66.0\n",
      "Total elapsed time: 33.38 minutes\n",
      "\n",
      "Epoch #10\n"
     ]
    },
    {
     "name": "stderr",
     "output_type": "stream",
     "text": [
      "                                                                                                                       \r"
     ]
    },
    {
     "name": "stdout",
     "output_type": "stream",
     "text": [
      "Results: mean: -295.3 +/- 116.6, min: -370.0, max: 62.0,\n",
      "\n",
      "Testing...\n"
     ]
    },
    {
     "name": "stderr",
     "output_type": "stream",
     "text": [
      "\u001b[32m[I 2023-05-04 02:12:19,460]\u001b[0m Trial 4 finished with value: -292.07 and parameters: {'learning_rate': 0.06316626321406929, 'batch_size': 64, 'replay_memory_size': 5000, 'discount_factor': 0.22891482376886008, 'frame_repeat': 4, 'optimizer': 'Adam', 'epsilon_decay': 0.9918902689496044}. Best is trial 1 with value: -48.77.\u001b[0m\n"
     ]
    },
    {
     "name": "stdout",
     "output_type": "stream",
     "text": [
      "Results: mean: -292.1 +/- 56.8, min: -325.0 max: 54.0\n",
      "Total elapsed time: 37.15 minutes\n",
      "\n",
      "Learning rate: 0.00772486487651485, Batch size: 64, Replay memory size: 1000,\n",
      "Discount factor: 0.28751988852926513, Frame repeat: 12, Optimizer: Adam, \n",
      "Epsilon decay: 0.9923995225941087\n",
      "\n",
      "Initializing doom...\n",
      "Doom initialized.\n",
      "Initializing New Model\n",
      "\n",
      "Epoch #1\n"
     ]
    },
    {
     "name": "stderr",
     "output_type": "stream",
     "text": [
      "                                                                                                                       \r"
     ]
    },
    {
     "name": "stdout",
     "output_type": "stream",
     "text": [
      "Results: mean: -267.1 +/- 105.1, min: -350.0, max: 66.0,\n",
      "\n",
      "Testing...\n"
     ]
    },
    {
     "name": "stderr",
     "output_type": "stream",
     "text": [
      "                                                                                                                       \r"
     ]
    },
    {
     "name": "stdout",
     "output_type": "stream",
     "text": [
      "Results: mean: -302.5 +/- 29.6, min: -320.0 max: -66.0\n",
      "Total elapsed time: 3.86 minutes\n",
      "\n",
      "Epoch #2\n"
     ]
    },
    {
     "name": "stderr",
     "output_type": "stream",
     "text": [
      "                                                                                                                       \r"
     ]
    },
    {
     "name": "stdout",
     "output_type": "stream",
     "text": [
      "Results: mean: -231.6 +/- 135.6, min: -325.0, max: 66.0,\n",
      "\n",
      "Testing...\n"
     ]
    },
    {
     "name": "stderr",
     "output_type": "stream",
     "text": [
      "                                                                                                                       \r"
     ]
    },
    {
     "name": "stdout",
     "output_type": "stream",
     "text": [
      "Results: mean: -144.7 +/- 150.6, min: -320.0 max: 66.0\n",
      "Total elapsed time: 7.30 minutes\n",
      "\n",
      "Epoch #3\n"
     ]
    },
    {
     "name": "stderr",
     "output_type": "stream",
     "text": [
      "                                                                                                                       \r"
     ]
    },
    {
     "name": "stdout",
     "output_type": "stream",
     "text": [
      "Results: mean: -168.4 +/- 167.1, min: -360.0, max: 66.0,\n",
      "\n",
      "Testing...\n"
     ]
    },
    {
     "name": "stderr",
     "output_type": "stream",
     "text": [
      "                                                                                                                       \r"
     ]
    },
    {
     "name": "stdout",
     "output_type": "stream",
     "text": [
      "Results: mean: -248.7 +/- 125.8, min: -330.0 max: 54.0\n",
      "Total elapsed time: 11.01 minutes\n",
      "\n",
      "Epoch #4\n"
     ]
    },
    {
     "name": "stderr",
     "output_type": "stream",
     "text": [
      "                                                                                                                       \r"
     ]
    },
    {
     "name": "stdout",
     "output_type": "stream",
     "text": [
      "Results: mean: -211.4 +/- 151.0, min: -330.0, max: 66.0,\n",
      "\n",
      "Testing...\n"
     ]
    },
    {
     "name": "stderr",
     "output_type": "stream",
     "text": [
      "                                                                                                                       \r"
     ]
    },
    {
     "name": "stdout",
     "output_type": "stream",
     "text": [
      "Results: mean: -129.6 +/- 182.6, min: -320.0 max: 66.0\n",
      "Total elapsed time: 13.95 minutes\n",
      "\n",
      "Epoch #5\n"
     ]
    },
    {
     "name": "stderr",
     "output_type": "stream",
     "text": [
      "                                                                                                                       \r"
     ]
    },
    {
     "name": "stdout",
     "output_type": "stream",
     "text": [
      "Results: mean: -108.1 +/- 170.0, min: -355.0, max: 66.0,\n",
      "\n",
      "Testing...\n"
     ]
    },
    {
     "name": "stderr",
     "output_type": "stream",
     "text": [
      "                                                                                                                       \r"
     ]
    },
    {
     "name": "stdout",
     "output_type": "stream",
     "text": [
      "Results: mean: -81.1 +/- 173.0, min: -330.0 max: 66.0\n",
      "Total elapsed time: 16.85 minutes\n",
      "\n",
      "Epoch #6\n"
     ]
    },
    {
     "name": "stderr",
     "output_type": "stream",
     "text": [
      "                                                                                                                       \r"
     ]
    },
    {
     "name": "stdout",
     "output_type": "stream",
     "text": [
      "Results: mean: -144.6 +/- 171.5, min: -340.0, max: 66.0,\n",
      "\n",
      "Testing...\n"
     ]
    },
    {
     "name": "stderr",
     "output_type": "stream",
     "text": [
      "                                                                                                                       \r"
     ]
    },
    {
     "name": "stdout",
     "output_type": "stream",
     "text": [
      "Results: mean: -244.0 +/- 133.5, min: -340.0 max: 66.0\n",
      "Total elapsed time: 20.48 minutes\n",
      "\n",
      "Epoch #7\n"
     ]
    },
    {
     "name": "stderr",
     "output_type": "stream",
     "text": [
      "                                                                                                                       \r"
     ]
    },
    {
     "name": "stdout",
     "output_type": "stream",
     "text": [
      "Results: mean: -189.6 +/- 155.2, min: -345.0, max: 66.0,\n",
      "\n",
      "Testing...\n"
     ]
    },
    {
     "name": "stderr",
     "output_type": "stream",
     "text": [
      "                                                                                                                       \r"
     ]
    },
    {
     "name": "stdout",
     "output_type": "stream",
     "text": [
      "Results: mean: -217.7 +/- 149.6, min: -330.0 max: 66.0\n",
      "Total elapsed time: 24.04 minutes\n",
      "\n",
      "Epoch #8\n"
     ]
    },
    {
     "name": "stderr",
     "output_type": "stream",
     "text": [
      "                                                                                                                       \r"
     ]
    },
    {
     "name": "stdout",
     "output_type": "stream",
     "text": [
      "Results: mean: -124.7 +/- 166.6, min: -360.0, max: 66.0,\n",
      "\n",
      "Testing...\n"
     ]
    },
    {
     "name": "stderr",
     "output_type": "stream",
     "text": [
      "                                                                                                                       \r"
     ]
    },
    {
     "name": "stdout",
     "output_type": "stream",
     "text": [
      "Results: mean: -224.8 +/- 145.3, min: -355.0 max: 66.0\n",
      "Total elapsed time: 27.60 minutes\n",
      "\n",
      "Epoch #9\n"
     ]
    },
    {
     "name": "stderr",
     "output_type": "stream",
     "text": [
      "                                                                                                                       \r"
     ]
    },
    {
     "name": "stdout",
     "output_type": "stream",
     "text": [
      "Results: mean: -89.9 +/- 169.7, min: -345.0, max: 66.0,\n",
      "\n",
      "Testing...\n"
     ]
    },
    {
     "name": "stderr",
     "output_type": "stream",
     "text": [
      "                                                                                                                       \r"
     ]
    },
    {
     "name": "stdout",
     "output_type": "stream",
     "text": [
      "Results: mean: -34.7 +/- 149.2, min: -335.0 max: 66.0\n",
      "Total elapsed time: 30.61 minutes\n",
      "\n",
      "Epoch #10\n"
     ]
    },
    {
     "name": "stderr",
     "output_type": "stream",
     "text": [
      "                                                                                                                       \r"
     ]
    },
    {
     "name": "stdout",
     "output_type": "stream",
     "text": [
      "Results: mean: -115.6 +/- 177.7, min: -350.0, max: 66.0,\n",
      "\n",
      "Testing...\n"
     ]
    },
    {
     "name": "stderr",
     "output_type": "stream",
     "text": [
      "\u001b[32m[I 2023-05-04 02:46:34,259]\u001b[0m Trial 5 finished with value: -240.23 and parameters: {'learning_rate': 0.00772486487651485, 'batch_size': 64, 'replay_memory_size': 1000, 'discount_factor': 0.28751988852926513, 'frame_repeat': 12, 'optimizer': 'Adam', 'epsilon_decay': 0.9923995225941087}. Best is trial 1 with value: -48.77.\u001b[0m\n"
     ]
    },
    {
     "name": "stdout",
     "output_type": "stream",
     "text": [
      "Results: mean: -240.2 +/- 128.1, min: -325.0 max: 66.0\n",
      "Total elapsed time: 34.23 minutes\n",
      "\n",
      "Learning rate: 0.011090911953742587, Batch size: 64, Replay memory size: 4000,\n",
      "Discount factor: 0.28192963333835985, Frame repeat: 12, Optimizer: Adam, \n",
      "Epsilon decay: 0.9955830621162591\n",
      "\n",
      "Initializing doom...\n",
      "Doom initialized.\n",
      "Initializing New Model\n",
      "\n",
      "Epoch #1\n"
     ]
    },
    {
     "name": "stderr",
     "output_type": "stream",
     "text": [
      "                                                                                                                       \r"
     ]
    },
    {
     "name": "stdout",
     "output_type": "stream",
     "text": [
      "Results: mean: -224.7 +/- 139.8, min: -355.0, max: 66.0,\n",
      "\n",
      "Testing...\n"
     ]
    },
    {
     "name": "stderr",
     "output_type": "stream",
     "text": [
      "                                                                                                                       \r"
     ]
    },
    {
     "name": "stdout",
     "output_type": "stream",
     "text": [
      "Results: mean: -294.1 +/- 64.1, min: -325.0 max: 42.0\n",
      "Total elapsed time: 3.74 minutes\n",
      "\n",
      "Epoch #2\n"
     ]
    },
    {
     "name": "stderr",
     "output_type": "stream",
     "text": [
      "                                                                                                                       \r"
     ]
    },
    {
     "name": "stdout",
     "output_type": "stream",
     "text": [
      "Results: mean: -211.6 +/- 146.8, min: -345.0, max: 66.0,\n",
      "\n",
      "Testing...\n"
     ]
    },
    {
     "name": "stderr",
     "output_type": "stream",
     "text": [
      "                                                                                                                       \r"
     ]
    },
    {
     "name": "stdout",
     "output_type": "stream",
     "text": [
      "Results: mean: -61.9 +/- 161.1, min: -325.0 max: 66.0\n",
      "Total elapsed time: 6.76 minutes\n",
      "\n",
      "Epoch #3\n"
     ]
    },
    {
     "name": "stderr",
     "output_type": "stream",
     "text": [
      "                                                                                                                       \r"
     ]
    },
    {
     "name": "stdout",
     "output_type": "stream",
     "text": [
      "Results: mean: -138.6 +/- 156.0, min: -345.0, max: 66.0,\n",
      "\n",
      "Testing...\n"
     ]
    },
    {
     "name": "stderr",
     "output_type": "stream",
     "text": [
      "                                                                                                                       \r"
     ]
    },
    {
     "name": "stdout",
     "output_type": "stream",
     "text": [
      "Results: mean: -278.3 +/- 86.9, min: -340.0 max: 66.0\n",
      "Total elapsed time: 10.41 minutes\n",
      "\n",
      "Epoch #4\n"
     ]
    },
    {
     "name": "stderr",
     "output_type": "stream",
     "text": [
      "                                                                                                                       \r"
     ]
    },
    {
     "name": "stdout",
     "output_type": "stream",
     "text": [
      "Results: mean: -160.7 +/- 145.7, min: -325.0, max: 66.0,\n",
      "\n",
      "Testing...\n"
     ]
    },
    {
     "name": "stderr",
     "output_type": "stream",
     "text": [
      "                                                                                                                       \r"
     ]
    },
    {
     "name": "stdout",
     "output_type": "stream",
     "text": [
      "Results: mean: -217.8 +/- 131.4, min: -360.0 max: 66.0\n",
      "Total elapsed time: 13.88 minutes\n",
      "\n",
      "Epoch #5\n"
     ]
    },
    {
     "name": "stderr",
     "output_type": "stream",
     "text": [
      "                                                                                                                       \r"
     ]
    },
    {
     "name": "stdout",
     "output_type": "stream",
     "text": [
      "Results: mean: -141.9 +/- 150.5, min: -345.0, max: 66.0,\n",
      "\n",
      "Testing...\n"
     ]
    },
    {
     "name": "stderr",
     "output_type": "stream",
     "text": [
      "                                                                                                                       \r"
     ]
    },
    {
     "name": "stdout",
     "output_type": "stream",
     "text": [
      "Results: mean: -130.9 +/- 152.9, min: -320.0 max: 66.0\n",
      "Total elapsed time: 16.84 minutes\n",
      "\n",
      "Epoch #6\n"
     ]
    },
    {
     "name": "stderr",
     "output_type": "stream",
     "text": [
      "                                                                                                                       \r"
     ]
    },
    {
     "name": "stdout",
     "output_type": "stream",
     "text": [
      "Results: mean: -153.3 +/- 167.0, min: -370.0, max: 66.0,\n",
      "\n",
      "Testing...\n"
     ]
    },
    {
     "name": "stderr",
     "output_type": "stream",
     "text": [
      "                                                                                                                       \r"
     ]
    },
    {
     "name": "stdout",
     "output_type": "stream",
     "text": [
      "Results: mean: -247.8 +/- 127.7, min: -350.0 max: 66.0\n",
      "Total elapsed time: 20.11 minutes\n",
      "\n",
      "Epoch #7\n"
     ]
    },
    {
     "name": "stderr",
     "output_type": "stream",
     "text": [
      "                                                                                                                       \r"
     ]
    },
    {
     "name": "stdout",
     "output_type": "stream",
     "text": [
      "Results: mean: -88.9 +/- 164.8, min: -365.0, max: 66.0,\n",
      "\n",
      "Testing...\n"
     ]
    },
    {
     "name": "stderr",
     "output_type": "stream",
     "text": [
      "                                                                                                                       \r"
     ]
    },
    {
     "name": "stdout",
     "output_type": "stream",
     "text": [
      "Results: mean: -63.6 +/- 170.9, min: -360.0 max: 66.0\n",
      "Total elapsed time: 22.78 minutes\n",
      "\n",
      "Epoch #8\n"
     ]
    },
    {
     "name": "stderr",
     "output_type": "stream",
     "text": [
      "                                                                                                                       \r"
     ]
    },
    {
     "name": "stdout",
     "output_type": "stream",
     "text": [
      "Results: mean: -117.8 +/- 169.7, min: -325.0, max: 66.0,\n",
      "\n",
      "Testing...\n"
     ]
    },
    {
     "name": "stderr",
     "output_type": "stream",
     "text": [
      "                                                                                                                       \r"
     ]
    },
    {
     "name": "stdout",
     "output_type": "stream",
     "text": [
      "Results: mean: -129.0 +/- 159.8, min: -325.0 max: 54.0\n",
      "Total elapsed time: 25.71 minutes\n",
      "\n",
      "Epoch #9\n"
     ]
    },
    {
     "name": "stderr",
     "output_type": "stream",
     "text": [
      "                                                                                                                       \r"
     ]
    },
    {
     "name": "stdout",
     "output_type": "stream",
     "text": [
      "Results: mean: -150.8 +/- 157.2, min: -330.0, max: 66.0,\n",
      "\n",
      "Testing...\n"
     ]
    },
    {
     "name": "stderr",
     "output_type": "stream",
     "text": [
      "                                                                                                                       \r"
     ]
    },
    {
     "name": "stdout",
     "output_type": "stream",
     "text": [
      "Results: mean: -185.4 +/- 155.2, min: -335.0 max: 66.0\n",
      "Total elapsed time: 28.78 minutes\n",
      "\n",
      "Epoch #10\n"
     ]
    },
    {
     "name": "stderr",
     "output_type": "stream",
     "text": [
      "                                                                                                                       \r"
     ]
    },
    {
     "name": "stdout",
     "output_type": "stream",
     "text": [
      "Results: mean: -133.3 +/- 147.9, min: -330.0, max: 66.0,\n",
      "\n",
      "Testing...\n"
     ]
    },
    {
     "name": "stderr",
     "output_type": "stream",
     "text": [
      "\u001b[32m[I 2023-05-04 03:18:37,860]\u001b[0m Trial 6 finished with value: -228.52 and parameters: {'learning_rate': 0.011090911953742587, 'batch_size': 64, 'replay_memory_size': 4000, 'discount_factor': 0.28192963333835985, 'frame_repeat': 12, 'optimizer': 'Adam', 'epsilon_decay': 0.9955830621162591}. Best is trial 1 with value: -48.77.\u001b[0m\n"
     ]
    },
    {
     "name": "stdout",
     "output_type": "stream",
     "text": [
      "Results: mean: -228.5 +/- 133.2, min: -325.0 max: 66.0\n",
      "Total elapsed time: 32.05 minutes\n",
      "\n",
      "Learning rate: 0.04010114597404362, Batch size: 64, Replay memory size: 6000,\n",
      "Discount factor: 0.3261154423192152, Frame repeat: 12, Optimizer: Adam, \n",
      "Epsilon decay: 0.9962507741809546\n",
      "\n",
      "Initializing doom...\n",
      "Doom initialized.\n",
      "Initializing New Model\n",
      "\n",
      "Epoch #1\n"
     ]
    },
    {
     "name": "stderr",
     "output_type": "stream",
     "text": [
      "                                                                                                                       \r"
     ]
    },
    {
     "name": "stdout",
     "output_type": "stream",
     "text": [
      "Results: mean: -228.0 +/- 132.4, min: -355.0, max: 66.0,\n",
      "\n",
      "Testing...\n"
     ]
    },
    {
     "name": "stderr",
     "output_type": "stream",
     "text": [
      "                                                                                                                       \r"
     ]
    },
    {
     "name": "stdout",
     "output_type": "stream",
     "text": [
      "Results: mean: -294.8 +/- 62.6, min: -330.0 max: 54.0\n",
      "Total elapsed time: 3.48 minutes\n",
      "\n",
      "Epoch #2\n"
     ]
    },
    {
     "name": "stderr",
     "output_type": "stream",
     "text": [
      "                                                                                                                       \r"
     ]
    },
    {
     "name": "stdout",
     "output_type": "stream",
     "text": [
      "Results: mean: -268.1 +/- 109.5, min: -370.0, max: 66.0,\n",
      "\n",
      "Testing...\n"
     ]
    },
    {
     "name": "stderr",
     "output_type": "stream",
     "text": [
      "                                                                                                                       \r"
     ]
    },
    {
     "name": "stdout",
     "output_type": "stream",
     "text": [
      "Results: mean: -295.4 +/- 51.4, min: -325.0 max: 42.0\n",
      "Total elapsed time: 6.94 minutes\n",
      "\n",
      "Epoch #3\n"
     ]
    },
    {
     "name": "stderr",
     "output_type": "stream",
     "text": [
      "                                                                                                                       \r"
     ]
    },
    {
     "name": "stdout",
     "output_type": "stream",
     "text": [
      "Results: mean: -289.0 +/- 71.3, min: -360.0, max: 66.0,\n",
      "\n",
      "Testing...\n"
     ]
    },
    {
     "name": "stderr",
     "output_type": "stream",
     "text": [
      "                                                                                                                       \r"
     ]
    },
    {
     "name": "stdout",
     "output_type": "stream",
     "text": [
      "Results: mean: -294.3 +/- 68.4, min: -365.0 max: 54.0\n",
      "Total elapsed time: 10.39 minutes\n",
      "\n",
      "Epoch #4\n"
     ]
    },
    {
     "name": "stderr",
     "output_type": "stream",
     "text": [
      "                                                                                                                       \r"
     ]
    },
    {
     "name": "stdout",
     "output_type": "stream",
     "text": [
      "Results: mean: -287.8 +/- 68.1, min: -325.0, max: 54.0,\n",
      "\n",
      "Testing...\n"
     ]
    },
    {
     "name": "stderr",
     "output_type": "stream",
     "text": [
      "                                                                                                                       \r"
     ]
    },
    {
     "name": "stdout",
     "output_type": "stream",
     "text": [
      "Results: mean: -221.3 +/- 129.6, min: -320.0 max: 66.0\n",
      "Total elapsed time: 13.67 minutes\n",
      "\n",
      "Epoch #5\n"
     ]
    },
    {
     "name": "stderr",
     "output_type": "stream",
     "text": [
      "                                                                                                                       \r"
     ]
    },
    {
     "name": "stdout",
     "output_type": "stream",
     "text": [
      "Results: mean: -271.0 +/- 96.1, min: -325.0, max: 66.0,\n",
      "\n",
      "Testing...\n"
     ]
    },
    {
     "name": "stderr",
     "output_type": "stream",
     "text": [
      "                                                                                                                       \r"
     ]
    },
    {
     "name": "stdout",
     "output_type": "stream",
     "text": [
      "Results: mean: -297.4 +/- 46.5, min: -330.0 max: 30.0\n",
      "Total elapsed time: 17.13 minutes\n",
      "\n",
      "Epoch #6\n"
     ]
    },
    {
     "name": "stderr",
     "output_type": "stream",
     "text": [
      "                                                                                                                       \r"
     ]
    },
    {
     "name": "stdout",
     "output_type": "stream",
     "text": [
      "Results: mean: -271.5 +/- 95.5, min: -370.0, max: 66.0,\n",
      "\n",
      "Testing...\n"
     ]
    },
    {
     "name": "stderr",
     "output_type": "stream",
     "text": [
      "                                                                                                                       \r"
     ]
    },
    {
     "name": "stdout",
     "output_type": "stream",
     "text": [
      "Results: mean: -294.2 +/- 60.5, min: -320.0 max: 66.0\n",
      "Total elapsed time: 20.57 minutes\n",
      "\n",
      "Epoch #7\n"
     ]
    },
    {
     "name": "stderr",
     "output_type": "stream",
     "text": [
      "                                                                                                                       \r"
     ]
    },
    {
     "name": "stdout",
     "output_type": "stream",
     "text": [
      "Results: mean: -290.3 +/- 61.7, min: -320.0, max: 66.0,\n",
      "\n",
      "Testing...\n"
     ]
    },
    {
     "name": "stderr",
     "output_type": "stream",
     "text": [
      "                                                                                                                       \r"
     ]
    },
    {
     "name": "stdout",
     "output_type": "stream",
     "text": [
      "Results: mean: -300.8 +/- 40.6, min: -325.0 max: 66.0\n",
      "Total elapsed time: 24.02 minutes\n",
      "\n",
      "Epoch #8\n"
     ]
    },
    {
     "name": "stderr",
     "output_type": "stream",
     "text": [
      "                                                                                                                       \r"
     ]
    },
    {
     "name": "stdout",
     "output_type": "stream",
     "text": [
      "Results: mean: -287.7 +/- 70.7, min: -320.0, max: 66.0,\n",
      "\n",
      "Testing...\n"
     ]
    },
    {
     "name": "stderr",
     "output_type": "stream",
     "text": [
      "                                                                                                                       \r"
     ]
    },
    {
     "name": "stdout",
     "output_type": "stream",
     "text": [
      "Results: mean: -285.2 +/- 81.6, min: -320.0 max: 66.0\n",
      "Total elapsed time: 27.46 minutes\n",
      "\n",
      "Epoch #9\n"
     ]
    },
    {
     "name": "stderr",
     "output_type": "stream",
     "text": [
      "                                                                                                                       \r"
     ]
    },
    {
     "name": "stdout",
     "output_type": "stream",
     "text": [
      "Results: mean: -295.1 +/- 57.7, min: -315.0, max: 66.0,\n",
      "\n",
      "Testing...\n"
     ]
    },
    {
     "name": "stderr",
     "output_type": "stream",
     "text": [
      "                                                                                                                       \r"
     ]
    },
    {
     "name": "stdout",
     "output_type": "stream",
     "text": [
      "Results: mean: -306.1 +/- 5.4, min: -325.0 max: -300.0\n",
      "Total elapsed time: 30.95 minutes\n",
      "\n",
      "Epoch #10\n"
     ]
    },
    {
     "name": "stderr",
     "output_type": "stream",
     "text": [
      "                                                                                                                       \r"
     ]
    },
    {
     "name": "stdout",
     "output_type": "stream",
     "text": [
      "Results: mean: -292.6 +/- 57.8, min: -320.0, max: 30.0,\n",
      "\n",
      "Testing...\n"
     ]
    },
    {
     "name": "stderr",
     "output_type": "stream",
     "text": [
      "\u001b[32m[I 2023-05-04 03:53:02,249]\u001b[0m Trial 7 finished with value: -290.78 and parameters: {'learning_rate': 0.04010114597404362, 'batch_size': 64, 'replay_memory_size': 6000, 'discount_factor': 0.3261154423192152, 'frame_repeat': 12, 'optimizer': 'Adam', 'epsilon_decay': 0.9962507741809546}. Best is trial 1 with value: -48.77.\u001b[0m\n"
     ]
    },
    {
     "name": "stdout",
     "output_type": "stream",
     "text": [
      "Results: mean: -290.8 +/- 69.9, min: -320.0 max: 66.0\n",
      "Total elapsed time: 34.40 minutes\n",
      "\n",
      "Learning rate: 0.005200537930865214, Batch size: 32, Replay memory size: 3000,\n",
      "Discount factor: 0.9702570920651905, Frame repeat: 12, Optimizer: Adam, \n",
      "Epsilon decay: 0.9961195456679984\n",
      "\n",
      "Initializing doom...\n",
      "Doom initialized.\n",
      "Initializing New Model\n",
      "\n",
      "Epoch #1\n"
     ]
    },
    {
     "name": "stderr",
     "output_type": "stream",
     "text": [
      "                                                                                                                       \r"
     ]
    },
    {
     "name": "stdout",
     "output_type": "stream",
     "text": [
      "Results: mean: -220.6 +/- 134.7, min: -350.0, max: 66.0,\n",
      "\n",
      "Testing...\n"
     ]
    },
    {
     "name": "stderr",
     "output_type": "stream",
     "text": [
      "                                                                                                                       \r"
     ]
    },
    {
     "name": "stdout",
     "output_type": "stream",
     "text": [
      "Results: mean: -284.5 +/- 73.5, min: -320.0 max: 66.0\n",
      "Total elapsed time: 3.40 minutes\n",
      "\n",
      "Epoch #2\n"
     ]
    },
    {
     "name": "stderr",
     "output_type": "stream",
     "text": [
      "                                                                                                                       \r"
     ]
    },
    {
     "name": "stdout",
     "output_type": "stream",
     "text": [
      "Results: mean: -173.8 +/- 163.4, min: -365.0, max: 66.0,\n",
      "\n",
      "Testing...\n"
     ]
    },
    {
     "name": "stderr",
     "output_type": "stream",
     "text": [
      "                                                                                                                       \r"
     ]
    },
    {
     "name": "stdout",
     "output_type": "stream",
     "text": [
      "Results: mean: -104.0 +/- 176.8, min: -345.0 max: 66.0\n",
      "Total elapsed time: 6.21 minutes\n",
      "\n",
      "Epoch #3\n"
     ]
    },
    {
     "name": "stderr",
     "output_type": "stream",
     "text": [
      "                                                                                                                       \r"
     ]
    },
    {
     "name": "stdout",
     "output_type": "stream",
     "text": [
      "Results: mean: -109.9 +/- 168.7, min: -365.0, max: 66.0,\n",
      "\n",
      "Testing...\n"
     ]
    },
    {
     "name": "stderr",
     "output_type": "stream",
     "text": [
      "                                                                                                                       \r"
     ]
    },
    {
     "name": "stdout",
     "output_type": "stream",
     "text": [
      "Results: mean: -104.9 +/- 181.3, min: -365.0 max: 66.0\n",
      "Total elapsed time: 9.00 minutes\n",
      "\n",
      "Epoch #4\n"
     ]
    },
    {
     "name": "stderr",
     "output_type": "stream",
     "text": [
      "                                                                                                                       \r"
     ]
    },
    {
     "name": "stdout",
     "output_type": "stream",
     "text": [
      "Results: mean: -6.7 +/- 127.0, min: -370.0, max: 66.0,\n",
      "\n",
      "Testing...\n"
     ]
    },
    {
     "name": "stderr",
     "output_type": "stream",
     "text": [
      "                                                                                                                       \r"
     ]
    },
    {
     "name": "stdout",
     "output_type": "stream",
     "text": [
      "Results: mean: 0.9 +/- 118.1, min: -355.0 max: 66.0\n",
      "Total elapsed time: 11.48 minutes\n",
      "\n",
      "Epoch #5\n"
     ]
    },
    {
     "name": "stderr",
     "output_type": "stream",
     "text": [
      "                                                                                                                       \r"
     ]
    },
    {
     "name": "stdout",
     "output_type": "stream",
     "text": [
      "Results: mean: -1.2 +/- 95.8, min: -365.0, max: 66.0,\n",
      "\n",
      "Testing...\n"
     ]
    },
    {
     "name": "stderr",
     "output_type": "stream",
     "text": [
      "                                                                                                                       \r"
     ]
    },
    {
     "name": "stdout",
     "output_type": "stream",
     "text": [
      "Results: mean: 9.6 +/- 75.5, min: -350.0 max: 66.0\n",
      "Total elapsed time: 13.95 minutes\n",
      "\n",
      "Epoch #6\n"
     ]
    },
    {
     "name": "stderr",
     "output_type": "stream",
     "text": [
      "                                                                                                                       \r"
     ]
    },
    {
     "name": "stdout",
     "output_type": "stream",
     "text": [
      "Results: mean: 36.5 +/- 69.2, min: -350.0, max: 66.0,\n",
      "\n",
      "Testing...\n"
     ]
    },
    {
     "name": "stderr",
     "output_type": "stream",
     "text": [
      "                                                                                                                       \r"
     ]
    },
    {
     "name": "stdout",
     "output_type": "stream",
     "text": [
      "Results: mean: 24.8 +/- 85.1, min: -360.0 max: 66.0\n",
      "Total elapsed time: 16.35 minutes\n",
      "\n",
      "Epoch #7\n"
     ]
    },
    {
     "name": "stderr",
     "output_type": "stream",
     "text": [
      "                                                                                                                       \r"
     ]
    },
    {
     "name": "stdout",
     "output_type": "stream",
     "text": [
      "Results: mean: 24.5 +/- 82.5, min: -365.0, max: 66.0,\n",
      "\n",
      "Testing...\n"
     ]
    },
    {
     "name": "stderr",
     "output_type": "stream",
     "text": [
      "                                                                                                                       \r"
     ]
    },
    {
     "name": "stdout",
     "output_type": "stream",
     "text": [
      "Results: mean: 27.6 +/- 80.9, min: -355.0 max: 66.0\n",
      "Total elapsed time: 18.76 minutes\n",
      "\n",
      "Epoch #8\n"
     ]
    },
    {
     "name": "stderr",
     "output_type": "stream",
     "text": [
      "                                                                                                                       \r"
     ]
    },
    {
     "name": "stdout",
     "output_type": "stream",
     "text": [
      "Results: mean: 14.7 +/- 70.6, min: -360.0, max: 66.0,\n",
      "\n",
      "Testing...\n"
     ]
    },
    {
     "name": "stderr",
     "output_type": "stream",
     "text": [
      "                                                                                                                       \r"
     ]
    },
    {
     "name": "stdout",
     "output_type": "stream",
     "text": [
      "Results: mean: -2.3 +/- 68.0, min: -355.0 max: 66.0\n",
      "Total elapsed time: 21.29 minutes\n",
      "\n",
      "Epoch #9\n"
     ]
    },
    {
     "name": "stderr",
     "output_type": "stream",
     "text": [
      "                                                                                                                       \r"
     ]
    },
    {
     "name": "stdout",
     "output_type": "stream",
     "text": [
      "Results: mean: 30.9 +/- 59.4, min: -360.0, max: 66.0,\n",
      "\n",
      "Testing...\n"
     ]
    },
    {
     "name": "stderr",
     "output_type": "stream",
     "text": [
      "                                                                                                                       \r"
     ]
    },
    {
     "name": "stdout",
     "output_type": "stream",
     "text": [
      "Results: mean: 23.7 +/- 70.9, min: -335.0 max: 66.0\n",
      "Total elapsed time: 23.71 minutes\n",
      "\n",
      "Epoch #10\n"
     ]
    },
    {
     "name": "stderr",
     "output_type": "stream",
     "text": [
      "                                                                                                                       \r"
     ]
    },
    {
     "name": "stdout",
     "output_type": "stream",
     "text": [
      "Results: mean: 8.2 +/- 71.5, min: -365.0, max: 66.0,\n",
      "\n",
      "Testing...\n"
     ]
    },
    {
     "name": "stderr",
     "output_type": "stream",
     "text": [
      "\u001b[32m[I 2023-05-04 04:19:15,737]\u001b[0m Trial 8 finished with value: 6.7 and parameters: {'learning_rate': 0.005200537930865214, 'batch_size': 32, 'replay_memory_size': 3000, 'discount_factor': 0.9702570920651905, 'frame_repeat': 12, 'optimizer': 'Adam', 'epsilon_decay': 0.9961195456679984}. Best is trial 8 with value: 6.7.\u001b[0m\n"
     ]
    },
    {
     "name": "stdout",
     "output_type": "stream",
     "text": [
      "Results: mean: 6.7 +/- 67.4, min: -365.0 max: 66.0\n",
      "Total elapsed time: 26.21 minutes\n",
      "\n",
      "Learning rate: 0.061927527390219735, Batch size: 32, Replay memory size: 6000,\n",
      "Discount factor: 0.9368165976453899, Frame repeat: 8, Optimizer: SGD, \n",
      "Epsilon decay: 0.9973691565528957\n",
      "\n",
      "Initializing doom...\n",
      "Doom initialized.\n",
      "Initializing New Model\n",
      "\n",
      "Epoch #1\n"
     ]
    },
    {
     "name": "stderr",
     "output_type": "stream",
     "text": [
      "                                                                                                                       \r"
     ]
    },
    {
     "name": "stdout",
     "output_type": "stream",
     "text": [
      "Results: mean: -179.4 +/- 152.8, min: -345.0, max: 70.0,\n",
      "\n",
      "Testing...\n"
     ]
    },
    {
     "name": "stderr",
     "output_type": "stream",
     "text": [
      "                                                                                                                       \r"
     ]
    },
    {
     "name": "stdout",
     "output_type": "stream",
     "text": [
      "Results: mean: -240.3 +/- 122.9, min: -320.0 max: 66.0\n",
      "Total elapsed time: 3.12 minutes\n",
      "\n",
      "Epoch #2\n"
     ]
    },
    {
     "name": "stderr",
     "output_type": "stream",
     "text": [
      "                                                                                                                       \r"
     ]
    },
    {
     "name": "stdout",
     "output_type": "stream",
     "text": [
      "Results: mean: -213.1 +/- 138.7, min: -315.0, max: 70.0,\n",
      "\n",
      "Testing...\n"
     ]
    },
    {
     "name": "stderr",
     "output_type": "stream",
     "text": [
      "                                                                                                                       \r"
     ]
    },
    {
     "name": "stdout",
     "output_type": "stream",
     "text": [
      "Results: mean: -211.1 +/- 141.0, min: -320.0 max: 66.0\n",
      "Total elapsed time: 6.19 minutes\n",
      "\n",
      "Epoch #3\n"
     ]
    },
    {
     "name": "stderr",
     "output_type": "stream",
     "text": [
      "                                                                                                                       \r"
     ]
    },
    {
     "name": "stdout",
     "output_type": "stream",
     "text": [
      "Results: mean: -198.3 +/- 143.9, min: -320.0, max: 54.0,\n",
      "\n",
      "Testing...\n"
     ]
    },
    {
     "name": "stderr",
     "output_type": "stream",
     "text": [
      "                                                                                                                       \r"
     ]
    },
    {
     "name": "stdout",
     "output_type": "stream",
     "text": [
      "Results: mean: -251.4 +/- 109.7, min: -315.0 max: 54.0\n",
      "Total elapsed time: 9.35 minutes\n",
      "\n",
      "Epoch #4\n"
     ]
    },
    {
     "name": "stderr",
     "output_type": "stream",
     "text": [
      "                                                                                                                       \r"
     ]
    },
    {
     "name": "stdout",
     "output_type": "stream",
     "text": [
      "Results: mean: -237.2 +/- 124.3, min: -320.0, max: 70.0,\n",
      "\n",
      "Testing...\n"
     ]
    },
    {
     "name": "stderr",
     "output_type": "stream",
     "text": [
      "                                                                                                                       \r"
     ]
    },
    {
     "name": "stdout",
     "output_type": "stream",
     "text": [
      "Results: mean: -212.8 +/- 142.6, min: -320.0 max: 66.0\n",
      "Total elapsed time: 12.43 minutes\n",
      "\n",
      "Epoch #5\n"
     ]
    },
    {
     "name": "stderr",
     "output_type": "stream",
     "text": [
      "                                                                                                                       \r"
     ]
    },
    {
     "name": "stdout",
     "output_type": "stream",
     "text": [
      "Results: mean: -199.9 +/- 145.2, min: -325.0, max: 70.0,\n",
      "\n",
      "Testing...\n"
     ]
    },
    {
     "name": "stderr",
     "output_type": "stream",
     "text": [
      "                                                                                                                       \r"
     ]
    },
    {
     "name": "stdout",
     "output_type": "stream",
     "text": [
      "Results: mean: -211.8 +/- 136.6, min: -320.0 max: 66.0\n",
      "Total elapsed time: 15.50 minutes\n",
      "\n",
      "Epoch #6\n"
     ]
    },
    {
     "name": "stderr",
     "output_type": "stream",
     "text": [
      "                                                                                                                       \r"
     ]
    },
    {
     "name": "stdout",
     "output_type": "stream",
     "text": [
      "Results: mean: -194.8 +/- 155.2, min: -325.0, max: 70.0,\n",
      "\n",
      "Testing...\n"
     ]
    },
    {
     "name": "stderr",
     "output_type": "stream",
     "text": [
      "                                                                                                                       \r"
     ]
    },
    {
     "name": "stdout",
     "output_type": "stream",
     "text": [
      "Results: mean: -225.7 +/- 131.7, min: -320.0 max: 66.0\n",
      "Total elapsed time: 18.59 minutes\n",
      "\n",
      "Epoch #7\n"
     ]
    },
    {
     "name": "stderr",
     "output_type": "stream",
     "text": [
      "                                                                                                                       \r"
     ]
    },
    {
     "name": "stdout",
     "output_type": "stream",
     "text": [
      "Results: mean: -185.1 +/- 146.3, min: -320.0, max: 70.0,\n",
      "\n",
      "Testing...\n"
     ]
    },
    {
     "name": "stderr",
     "output_type": "stream",
     "text": [
      "                                                                                                                       \r"
     ]
    },
    {
     "name": "stdout",
     "output_type": "stream",
     "text": [
      "Results: mean: -242.3 +/- 117.7, min: -330.0 max: 66.0\n",
      "Total elapsed time: 21.72 minutes\n",
      "\n",
      "Epoch #8\n"
     ]
    },
    {
     "name": "stderr",
     "output_type": "stream",
     "text": [
      "                                                                                                                       \r"
     ]
    },
    {
     "name": "stdout",
     "output_type": "stream",
     "text": [
      "Results: mean: -223.7 +/- 128.6, min: -320.0, max: 70.0,\n",
      "\n",
      "Testing...\n"
     ]
    },
    {
     "name": "stderr",
     "output_type": "stream",
     "text": [
      "                                                                                                                       \r"
     ]
    },
    {
     "name": "stdout",
     "output_type": "stream",
     "text": [
      "Results: mean: -229.7 +/- 130.3, min: -325.0 max: 66.0\n",
      "Total elapsed time: 24.83 minutes\n",
      "\n",
      "Epoch #9\n"
     ]
    },
    {
     "name": "stderr",
     "output_type": "stream",
     "text": [
      "                                                                                                                       \r"
     ]
    },
    {
     "name": "stdout",
     "output_type": "stream",
     "text": [
      "Results: mean: -186.8 +/- 151.0, min: -320.0, max: 70.0,\n",
      "\n",
      "Testing...\n"
     ]
    },
    {
     "name": "stderr",
     "output_type": "stream",
     "text": [
      "                                                                                                                       \r"
     ]
    },
    {
     "name": "stdout",
     "output_type": "stream",
     "text": [
      "Results: mean: -232.3 +/- 119.4, min: -315.0 max: 66.0\n",
      "Total elapsed time: 27.95 minutes\n",
      "\n",
      "Epoch #10\n"
     ]
    },
    {
     "name": "stderr",
     "output_type": "stream",
     "text": [
      "                                                                                                                       \r"
     ]
    },
    {
     "name": "stdout",
     "output_type": "stream",
     "text": [
      "Results: mean: -201.7 +/- 136.0, min: -320.0, max: 70.0,\n",
      "\n",
      "Testing...\n"
     ]
    },
    {
     "name": "stderr",
     "output_type": "stream",
     "text": [
      "\u001b[32m[I 2023-05-04 04:50:20,242]\u001b[0m Trial 9 finished with value: -232.37 and parameters: {'learning_rate': 0.061927527390219735, 'batch_size': 32, 'replay_memory_size': 6000, 'discount_factor': 0.9368165976453899, 'frame_repeat': 8, 'optimizer': 'SGD', 'epsilon_decay': 0.9973691565528957}. Best is trial 8 with value: 6.7.\u001b[0m\n"
     ]
    },
    {
     "name": "stdout",
     "output_type": "stream",
     "text": [
      "Results: mean: -232.4 +/- 122.3, min: -320.0 max: 66.0\n",
      "Total elapsed time: 31.07 minutes\n",
      "\n",
      "Learning rate: 0.003979725180865389, Batch size: 32, Replay memory size: 1000,\n",
      "Discount factor: 0.7824107702842331, Frame repeat: 20, Optimizer: Adam, \n",
      "Epsilon decay: 0.9995787810932323\n",
      "\n",
      "Initializing doom...\n",
      "Doom initialized.\n",
      "Initializing New Model\n",
      "\n",
      "Epoch #1\n"
     ]
    },
    {
     "name": "stderr",
     "output_type": "stream",
     "text": [
      "                                                                                                                       \r"
     ]
    },
    {
     "name": "stdout",
     "output_type": "stream",
     "text": [
      "Results: mean: -197.6 +/- 146.0, min: -360.0, max: 58.0,\n",
      "\n",
      "Testing...\n"
     ]
    },
    {
     "name": "stderr",
     "output_type": "stream",
     "text": [
      "                                                                                                                       \r"
     ]
    },
    {
     "name": "stdout",
     "output_type": "stream",
     "text": [
      "Results: mean: -169.6 +/- 150.7, min: -340.0 max: 66.0\n",
      "Total elapsed time: 2.85 minutes\n",
      "\n",
      "Epoch #2\n"
     ]
    },
    {
     "name": "stderr",
     "output_type": "stream",
     "text": [
      "                                                                                                                       \r"
     ]
    },
    {
     "name": "stdout",
     "output_type": "stream",
     "text": [
      "Results: mean: -151.0 +/- 157.4, min: -360.0, max: 58.0,\n",
      "\n",
      "Testing...\n"
     ]
    },
    {
     "name": "stderr",
     "output_type": "stream",
     "text": [
      "                                                                                                                       \r"
     ]
    },
    {
     "name": "stdout",
     "output_type": "stream",
     "text": [
      "Results: mean: -87.2 +/- 123.8, min: -365.0 max: 66.0\n",
      "Total elapsed time: 5.58 minutes\n",
      "\n",
      "Epoch #3\n"
     ]
    },
    {
     "name": "stderr",
     "output_type": "stream",
     "text": [
      "                                                                                                                       \r"
     ]
    },
    {
     "name": "stdout",
     "output_type": "stream",
     "text": [
      "Results: mean: -83.5 +/- 143.1, min: -355.0, max: 58.0,\n",
      "\n",
      "Testing...\n"
     ]
    },
    {
     "name": "stderr",
     "output_type": "stream",
     "text": [
      "                                                                                                                       \r"
     ]
    },
    {
     "name": "stdout",
     "output_type": "stream",
     "text": [
      "Results: mean: -9.2 +/- 125.7, min: -365.0 max: 66.0\n",
      "Total elapsed time: 8.11 minutes\n",
      "\n",
      "Epoch #4\n"
     ]
    },
    {
     "name": "stderr",
     "output_type": "stream",
     "text": [
      "                                                                                                                       \r"
     ]
    },
    {
     "name": "stdout",
     "output_type": "stream",
     "text": [
      "Results: mean: -34.2 +/- 127.7, min: -360.0, max: 58.0,\n",
      "\n",
      "Testing...\n"
     ]
    },
    {
     "name": "stderr",
     "output_type": "stream",
     "text": [
      "                                                                                                                       \r"
     ]
    },
    {
     "name": "stdout",
     "output_type": "stream",
     "text": [
      "Results: mean: -147.9 +/- 176.4, min: -355.0 max: 66.0\n",
      "Total elapsed time: 10.97 minutes\n",
      "\n",
      "Epoch #5\n"
     ]
    },
    {
     "name": "stderr",
     "output_type": "stream",
     "text": [
      "                                                                                                                       \r"
     ]
    },
    {
     "name": "stdout",
     "output_type": "stream",
     "text": [
      "Results: mean: -19.3 +/- 111.2, min: -345.0, max: 58.0,\n",
      "\n",
      "Testing...\n"
     ]
    },
    {
     "name": "stderr",
     "output_type": "stream",
     "text": [
      "                                                                                                                       \r"
     ]
    },
    {
     "name": "stdout",
     "output_type": "stream",
     "text": [
      "Results: mean: -43.0 +/- 145.9, min: -360.0 max: 66.0\n",
      "Total elapsed time: 13.55 minutes\n",
      "\n",
      "Epoch #6\n"
     ]
    },
    {
     "name": "stderr",
     "output_type": "stream",
     "text": [
      "                                                                                                                       \r"
     ]
    },
    {
     "name": "stdout",
     "output_type": "stream",
     "text": [
      "Results: mean: -84.4 +/- 151.6, min: -355.0, max: 58.0,\n",
      "\n",
      "Testing...\n"
     ]
    },
    {
     "name": "stderr",
     "output_type": "stream",
     "text": [
      "                                                                                                                       \r"
     ]
    },
    {
     "name": "stdout",
     "output_type": "stream",
     "text": [
      "Results: mean: -105.3 +/- 135.9, min: -365.0 max: 66.0\n",
      "Total elapsed time: 16.42 minutes\n",
      "\n",
      "Epoch #7\n"
     ]
    },
    {
     "name": "stderr",
     "output_type": "stream",
     "text": [
      "                                                                                                                       \r"
     ]
    },
    {
     "name": "stdout",
     "output_type": "stream",
     "text": [
      "Results: mean: -36.5 +/- 133.5, min: -360.0, max: 58.0,\n",
      "\n",
      "Testing...\n"
     ]
    },
    {
     "name": "stderr",
     "output_type": "stream",
     "text": [
      "                                                                                                                       \r"
     ]
    },
    {
     "name": "stdout",
     "output_type": "stream",
     "text": [
      "Results: mean: -43.6 +/- 122.1, min: -370.0 max: 66.0\n",
      "Total elapsed time: 19.05 minutes\n",
      "\n",
      "Epoch #8\n"
     ]
    },
    {
     "name": "stderr",
     "output_type": "stream",
     "text": [
      "                                                                                                                       \r"
     ]
    },
    {
     "name": "stdout",
     "output_type": "stream",
     "text": [
      "Results: mean: -53.8 +/- 134.4, min: -365.0, max: 58.0,\n",
      "\n",
      "Testing...\n"
     ]
    },
    {
     "name": "stderr",
     "output_type": "stream",
     "text": [
      "                                                                                                                       \r"
     ]
    },
    {
     "name": "stdout",
     "output_type": "stream",
     "text": [
      "Results: mean: -21.2 +/- 62.6, min: -355.0 max: 66.0\n",
      "Total elapsed time: 21.62 minutes\n",
      "\n",
      "Epoch #9\n"
     ]
    },
    {
     "name": "stderr",
     "output_type": "stream",
     "text": [
      "                                                                                                                       \r"
     ]
    },
    {
     "name": "stdout",
     "output_type": "stream",
     "text": [
      "Results: mean: -19.6 +/- 109.5, min: -360.0, max: 58.0,\n",
      "\n",
      "Testing...\n"
     ]
    },
    {
     "name": "stderr",
     "output_type": "stream",
     "text": [
      "                                                                                                                       \r"
     ]
    },
    {
     "name": "stdout",
     "output_type": "stream",
     "text": [
      "Results: mean: -66.5 +/- 91.5, min: -350.0 max: 66.0\n",
      "Total elapsed time: 24.35 minutes\n",
      "\n",
      "Epoch #10\n"
     ]
    },
    {
     "name": "stderr",
     "output_type": "stream",
     "text": [
      "                                                                                                                       \r"
     ]
    },
    {
     "name": "stdout",
     "output_type": "stream",
     "text": [
      "Results: mean: -45.8 +/- 130.6, min: -365.0, max: 58.0,\n",
      "\n",
      "Testing...\n"
     ]
    },
    {
     "name": "stderr",
     "output_type": "stream",
     "text": [
      "\u001b[32m[I 2023-05-04 05:17:13,314]\u001b[0m Trial 10 finished with value: -8.64 and parameters: {'learning_rate': 0.003979725180865389, 'batch_size': 32, 'replay_memory_size': 1000, 'discount_factor': 0.7824107702842331, 'frame_repeat': 20, 'optimizer': 'Adam', 'epsilon_decay': 0.9995787810932323}. Best is trial 8 with value: 6.7.\u001b[0m\n"
     ]
    },
    {
     "name": "stdout",
     "output_type": "stream",
     "text": [
      "Results: mean: -8.6 +/- 101.6, min: -355.0 max: 66.0\n",
      "Total elapsed time: 26.87 minutes\n",
      "\n",
      "Learning rate: 0.004195797217778451, Batch size: 32, Replay memory size: 1000,\n",
      "Discount factor: 0.9625571589003092, Frame repeat: 20, Optimizer: Adam, \n",
      "Epsilon decay: 0.9994868200152273\n",
      "\n",
      "Initializing doom...\n",
      "Doom initialized.\n",
      "Initializing New Model\n",
      "\n",
      "Epoch #1\n"
     ]
    },
    {
     "name": "stderr",
     "output_type": "stream",
     "text": [
      "                                                                                                                       \r"
     ]
    },
    {
     "name": "stdout",
     "output_type": "stream",
     "text": [
      "Results: mean: -200.3 +/- 150.4, min: -355.0, max: 58.0,\n",
      "\n",
      "Testing...\n"
     ]
    },
    {
     "name": "stderr",
     "output_type": "stream",
     "text": [
      "                                                                                                                       \r"
     ]
    },
    {
     "name": "stdout",
     "output_type": "stream",
     "text": [
      "Results: mean: -203.0 +/- 158.4, min: -340.0 max: 66.0\n",
      "Total elapsed time: 2.95 minutes\n",
      "\n",
      "Epoch #2\n"
     ]
    },
    {
     "name": "stderr",
     "output_type": "stream",
     "text": [
      "                                                                                                                       \r"
     ]
    },
    {
     "name": "stdout",
     "output_type": "stream",
     "text": [
      "Results: mean: -198.8 +/- 148.7, min: -360.0, max: 58.0,\n",
      "\n",
      "Testing...\n"
     ]
    },
    {
     "name": "stderr",
     "output_type": "stream",
     "text": [
      "                                                                                                                       \r"
     ]
    },
    {
     "name": "stdout",
     "output_type": "stream",
     "text": [
      "Results: mean: -207.9 +/- 152.4, min: -345.0 max: 66.0\n",
      "Total elapsed time: 6.04 minutes\n",
      "\n",
      "Epoch #3\n"
     ]
    },
    {
     "name": "stderr",
     "output_type": "stream",
     "text": [
      "                                                                                                                       \r"
     ]
    },
    {
     "name": "stdout",
     "output_type": "stream",
     "text": [
      "Results: mean: -64.4 +/- 144.6, min: -370.0, max: 58.0,\n",
      "\n",
      "Testing...\n"
     ]
    },
    {
     "name": "stderr",
     "output_type": "stream",
     "text": [
      "                                                                                                                       \r"
     ]
    },
    {
     "name": "stdout",
     "output_type": "stream",
     "text": [
      "Results: mean: -52.5 +/- 137.3, min: -340.0 max: 66.0\n",
      "Total elapsed time: 8.72 minutes\n",
      "\n",
      "Epoch #4\n"
     ]
    },
    {
     "name": "stderr",
     "output_type": "stream",
     "text": [
      "                                                                                                                       \r"
     ]
    },
    {
     "name": "stdout",
     "output_type": "stream",
     "text": [
      "Results: mean: -90.0 +/- 143.3, min: -370.0, max: 58.0,\n",
      "\n",
      "Testing...\n"
     ]
    },
    {
     "name": "stderr",
     "output_type": "stream",
     "text": [
      "                                                                                                                       \r"
     ]
    },
    {
     "name": "stdout",
     "output_type": "stream",
     "text": [
      "Results: mean: -23.5 +/- 92.6, min: -365.0 max: 66.0\n",
      "Total elapsed time: 11.31 minutes\n",
      "\n",
      "Epoch #5\n"
     ]
    },
    {
     "name": "stderr",
     "output_type": "stream",
     "text": [
      "                                                                                                                       \r"
     ]
    },
    {
     "name": "stdout",
     "output_type": "stream",
     "text": [
      "Results: mean: -51.3 +/- 126.5, min: -360.0, max: 58.0,\n",
      "\n",
      "Testing...\n"
     ]
    },
    {
     "name": "stderr",
     "output_type": "stream",
     "text": [
      "                                                                                                                       \r"
     ]
    },
    {
     "name": "stdout",
     "output_type": "stream",
     "text": [
      "Results: mean: -1.7 +/- 91.4, min: -365.0 max: 66.0\n",
      "Total elapsed time: 13.82 minutes\n",
      "\n",
      "Epoch #6\n"
     ]
    },
    {
     "name": "stderr",
     "output_type": "stream",
     "text": [
      "                                                                                                                       \r"
     ]
    },
    {
     "name": "stdout",
     "output_type": "stream",
     "text": [
      "Results: mean: -43.5 +/- 116.1, min: -360.0, max: 58.0,\n",
      "\n",
      "Testing...\n"
     ]
    },
    {
     "name": "stderr",
     "output_type": "stream",
     "text": [
      "                                                                                                                       \r"
     ]
    },
    {
     "name": "stdout",
     "output_type": "stream",
     "text": [
      "Results: mean: -108.1 +/- 133.9, min: -360.0 max: 66.0\n",
      "Total elapsed time: 16.69 minutes\n",
      "\n",
      "Epoch #7\n"
     ]
    },
    {
     "name": "stderr",
     "output_type": "stream",
     "text": [
      "                                                                                                                       \r"
     ]
    },
    {
     "name": "stdout",
     "output_type": "stream",
     "text": [
      "Results: mean: -80.1 +/- 135.2, min: -360.0, max: 58.0,\n",
      "\n",
      "Testing...\n"
     ]
    },
    {
     "name": "stderr",
     "output_type": "stream",
     "text": [
      "                                                                                                                       \r"
     ]
    },
    {
     "name": "stdout",
     "output_type": "stream",
     "text": [
      "Results: mean: -44.9 +/- 120.7, min: -370.0 max: 66.0\n",
      "Total elapsed time: 19.36 minutes\n",
      "\n",
      "Epoch #8\n"
     ]
    },
    {
     "name": "stderr",
     "output_type": "stream",
     "text": [
      "                                                                                                                       \r"
     ]
    },
    {
     "name": "stdout",
     "output_type": "stream",
     "text": [
      "Results: mean: -86.8 +/- 145.4, min: -370.0, max: 58.0,\n",
      "\n",
      "Testing...\n"
     ]
    },
    {
     "name": "stderr",
     "output_type": "stream",
     "text": [
      "                                                                                                                       \r"
     ]
    },
    {
     "name": "stdout",
     "output_type": "stream",
     "text": [
      "Results: mean: -42.0 +/- 151.6, min: -360.0 max: 66.0\n",
      "Total elapsed time: 22.01 minutes\n",
      "\n",
      "Epoch #9\n"
     ]
    },
    {
     "name": "stderr",
     "output_type": "stream",
     "text": [
      "                                                                                                                       \r"
     ]
    },
    {
     "name": "stdout",
     "output_type": "stream",
     "text": [
      "Results: mean: -76.6 +/- 145.7, min: -355.0, max: 58.0,\n",
      "\n",
      "Testing...\n"
     ]
    },
    {
     "name": "stderr",
     "output_type": "stream",
     "text": [
      "                                                                                                                       \r"
     ]
    },
    {
     "name": "stdout",
     "output_type": "stream",
     "text": [
      "Results: mean: -210.2 +/- 156.0, min: -345.0 max: 66.0\n",
      "Total elapsed time: 25.12 minutes\n",
      "\n",
      "Epoch #10\n"
     ]
    },
    {
     "name": "stderr",
     "output_type": "stream",
     "text": [
      "                                                                                                                       \r"
     ]
    },
    {
     "name": "stdout",
     "output_type": "stream",
     "text": [
      "Results: mean: -82.2 +/- 143.5, min: -355.0, max: 58.0,\n",
      "\n",
      "Testing...\n"
     ]
    },
    {
     "name": "stderr",
     "output_type": "stream",
     "text": [
      "\u001b[32m[I 2023-05-04 05:45:02,102]\u001b[0m Trial 11 finished with value: -58.36 and parameters: {'learning_rate': 0.004195797217778451, 'batch_size': 32, 'replay_memory_size': 1000, 'discount_factor': 0.9625571589003092, 'frame_repeat': 20, 'optimizer': 'Adam', 'epsilon_decay': 0.9994868200152273}. Best is trial 8 with value: 6.7.\u001b[0m\n"
     ]
    },
    {
     "name": "stdout",
     "output_type": "stream",
     "text": [
      "Results: mean: -58.4 +/- 155.1, min: -345.0 max: 66.0\n",
      "Total elapsed time: 27.80 minutes\n",
      "\n",
      "Learning rate: 0.004211506757592783, Batch size: 32, Replay memory size: 2000,\n",
      "Discount factor: 0.7903131789832888, Frame repeat: 20, Optimizer: Adam, \n",
      "Epsilon decay: 0.999763368096553\n",
      "\n",
      "Initializing doom...\n",
      "Doom initialized.\n",
      "Initializing New Model\n",
      "\n",
      "Epoch #1\n"
     ]
    },
    {
     "name": "stderr",
     "output_type": "stream",
     "text": [
      "                                                                                                                       \r"
     ]
    },
    {
     "name": "stdout",
     "output_type": "stream",
     "text": [
      "Results: mean: -191.3 +/- 159.1, min: -350.0, max: 58.0,\n",
      "\n",
      "Testing...\n"
     ]
    },
    {
     "name": "stderr",
     "output_type": "stream",
     "text": [
      "                                                                                                                       \r"
     ]
    },
    {
     "name": "stdout",
     "output_type": "stream",
     "text": [
      "Results: mean: -231.9 +/- 146.0, min: -355.0 max: 66.0\n",
      "Total elapsed time: 2.91 minutes\n",
      "\n",
      "Epoch #2\n"
     ]
    },
    {
     "name": "stderr",
     "output_type": "stream",
     "text": [
      "                                                                                                                       \r"
     ]
    },
    {
     "name": "stdout",
     "output_type": "stream",
     "text": [
      "Results: mean: -203.8 +/- 147.9, min: -340.0, max: 58.0,\n",
      "\n",
      "Testing...\n"
     ]
    },
    {
     "name": "stderr",
     "output_type": "stream",
     "text": [
      "                                                                                                                       \r"
     ]
    },
    {
     "name": "stdout",
     "output_type": "stream",
     "text": [
      "Results: mean: -146.1 +/- 154.7, min: -340.0 max: 66.0\n",
      "Total elapsed time: 5.71 minutes\n",
      "\n",
      "Epoch #3\n"
     ]
    },
    {
     "name": "stderr",
     "output_type": "stream",
     "text": [
      "                                                                                                                       \r"
     ]
    },
    {
     "name": "stdout",
     "output_type": "stream",
     "text": [
      "Results: mean: -140.8 +/- 143.7, min: -345.0, max: 58.0,\n",
      "\n",
      "Testing...\n"
     ]
    },
    {
     "name": "stderr",
     "output_type": "stream",
     "text": [
      "                                                                                                                       \r"
     ]
    },
    {
     "name": "stdout",
     "output_type": "stream",
     "text": [
      "Results: mean: -72.5 +/- 138.3, min: -340.0 max: 66.0\n",
      "Total elapsed time: 8.40 minutes\n",
      "\n",
      "Epoch #4\n"
     ]
    },
    {
     "name": "stderr",
     "output_type": "stream",
     "text": [
      "                                                                                                                       \r"
     ]
    },
    {
     "name": "stdout",
     "output_type": "stream",
     "text": [
      "Results: mean: -113.4 +/- 142.0, min: -355.0, max: 58.0,\n",
      "\n",
      "Testing...\n"
     ]
    },
    {
     "name": "stderr",
     "output_type": "stream",
     "text": [
      "                                                                                                                       \r"
     ]
    },
    {
     "name": "stdout",
     "output_type": "stream",
     "text": [
      "Results: mean: -86.5 +/- 134.0, min: -330.0 max: 66.0\n",
      "Total elapsed time: 11.15 minutes\n",
      "\n",
      "Epoch #5\n"
     ]
    },
    {
     "name": "stderr",
     "output_type": "stream",
     "text": [
      "                                                                                                                       \r"
     ]
    },
    {
     "name": "stdout",
     "output_type": "stream",
     "text": [
      "Results: mean: -112.7 +/- 158.3, min: -340.0, max: 58.0,\n",
      "\n",
      "Testing...\n"
     ]
    },
    {
     "name": "stderr",
     "output_type": "stream",
     "text": [
      "                                                                                                                       \r"
     ]
    },
    {
     "name": "stdout",
     "output_type": "stream",
     "text": [
      "Results: mean: -203.2 +/- 146.2, min: -345.0 max: 66.0\n",
      "Total elapsed time: 14.26 minutes\n",
      "\n",
      "Epoch #6\n"
     ]
    },
    {
     "name": "stderr",
     "output_type": "stream",
     "text": [
      "                                                                                                                       \r"
     ]
    },
    {
     "name": "stdout",
     "output_type": "stream",
     "text": [
      "Results: mean: -111.8 +/- 160.9, min: -365.0, max: 58.0,\n",
      "\n",
      "Testing...\n"
     ]
    },
    {
     "name": "stderr",
     "output_type": "stream",
     "text": [
      "                                                                                                                       \r"
     ]
    },
    {
     "name": "stdout",
     "output_type": "stream",
     "text": [
      "Results: mean: -197.0 +/- 153.3, min: -355.0 max: 66.0\n",
      "Total elapsed time: 17.32 minutes\n",
      "\n",
      "Epoch #7\n"
     ]
    },
    {
     "name": "stderr",
     "output_type": "stream",
     "text": [
      "                                                                                                                       \r"
     ]
    },
    {
     "name": "stdout",
     "output_type": "stream",
     "text": [
      "Results: mean: -97.1 +/- 162.1, min: -355.0, max: 58.0,\n",
      "\n",
      "Testing...\n"
     ]
    },
    {
     "name": "stderr",
     "output_type": "stream",
     "text": [
      "                                                                                                                       \r"
     ]
    },
    {
     "name": "stdout",
     "output_type": "stream",
     "text": [
      "Results: mean: -70.2 +/- 174.0, min: -350.0 max: 66.0\n",
      "Total elapsed time: 20.00 minutes\n",
      "\n",
      "Epoch #8\n"
     ]
    },
    {
     "name": "stderr",
     "output_type": "stream",
     "text": [
      "                                                                                                                       \r"
     ]
    },
    {
     "name": "stdout",
     "output_type": "stream",
     "text": [
      "Results: mean: -111.3 +/- 151.1, min: -345.0, max: 58.0,\n",
      "\n",
      "Testing...\n"
     ]
    },
    {
     "name": "stderr",
     "output_type": "stream",
     "text": [
      "                                                                                                                       \r"
     ]
    },
    {
     "name": "stdout",
     "output_type": "stream",
     "text": [
      "Results: mean: -161.0 +/- 143.8, min: -340.0 max: 66.0\n",
      "Total elapsed time: 23.01 minutes\n",
      "\n",
      "Epoch #9\n"
     ]
    },
    {
     "name": "stderr",
     "output_type": "stream",
     "text": [
      "                                                                                                                       \r"
     ]
    },
    {
     "name": "stdout",
     "output_type": "stream",
     "text": [
      "Results: mean: -84.6 +/- 162.3, min: -370.0, max: 58.0,\n",
      "\n",
      "Testing...\n"
     ]
    },
    {
     "name": "stderr",
     "output_type": "stream",
     "text": [
      "                                                                                                                       \r"
     ]
    },
    {
     "name": "stdout",
     "output_type": "stream",
     "text": [
      "Results: mean: -42.5 +/- 145.3, min: -355.0 max: 66.0\n",
      "Total elapsed time: 25.59 minutes\n",
      "\n",
      "Epoch #10\n"
     ]
    },
    {
     "name": "stderr",
     "output_type": "stream",
     "text": [
      "                                                                                                                       \r"
     ]
    },
    {
     "name": "stdout",
     "output_type": "stream",
     "text": [
      "Results: mean: -100.5 +/- 157.2, min: -335.0, max: 58.0,\n",
      "\n",
      "Testing...\n"
     ]
    },
    {
     "name": "stderr",
     "output_type": "stream",
     "text": [
      "\u001b[32m[I 2023-05-04 06:13:09,808]\u001b[0m Trial 12 finished with value: -22.06 and parameters: {'learning_rate': 0.004211506757592783, 'batch_size': 32, 'replay_memory_size': 2000, 'discount_factor': 0.7903131789832888, 'frame_repeat': 20, 'optimizer': 'Adam', 'epsilon_decay': 0.999763368096553}. Best is trial 8 with value: 6.7.\u001b[0m\n"
     ]
    },
    {
     "name": "stdout",
     "output_type": "stream",
     "text": [
      "Results: mean: -22.1 +/- 133.8, min: -340.0 max: 66.0\n",
      "Total elapsed time: 28.12 minutes\n",
      "\n",
      "Learning rate: 0.002221472714728794, Batch size: 32, Replay memory size: 3000,\n",
      "Discount factor: 0.9887978009989546, Frame repeat: 20, Optimizer: Adam, \n",
      "Epsilon decay: 0.9941411344813454\n",
      "\n",
      "Initializing doom...\n",
      "Doom initialized.\n",
      "Initializing New Model\n",
      "\n",
      "Epoch #1\n"
     ]
    },
    {
     "name": "stderr",
     "output_type": "stream",
     "text": [
      "                                                                                                                       \r"
     ]
    },
    {
     "name": "stdout",
     "output_type": "stream",
     "text": [
      "Results: mean: -235.6 +/- 124.1, min: -360.0, max: 58.0,\n",
      "\n",
      "Testing...\n"
     ]
    },
    {
     "name": "stderr",
     "output_type": "stream",
     "text": [
      "                                                                                                                       \r"
     ]
    },
    {
     "name": "stdout",
     "output_type": "stream",
     "text": [
      "Results: mean: -187.9 +/- 145.1, min: -345.0 max: 66.0\n",
      "Total elapsed time: 3.09 minutes\n",
      "\n",
      "Epoch #2\n"
     ]
    },
    {
     "name": "stderr",
     "output_type": "stream",
     "text": [
      "                                                                                                                       \r"
     ]
    },
    {
     "name": "stdout",
     "output_type": "stream",
     "text": [
      "Results: mean: -225.6 +/- 125.2, min: -355.0, max: 58.0,\n",
      "\n",
      "Testing...\n"
     ]
    },
    {
     "name": "stderr",
     "output_type": "stream",
     "text": [
      "                                                                                                                       \r"
     ]
    },
    {
     "name": "stdout",
     "output_type": "stream",
     "text": [
      "Results: mean: -108.7 +/- 136.3, min: -355.0 max: 66.0\n",
      "Total elapsed time: 5.97 minutes\n",
      "\n",
      "Epoch #3\n"
     ]
    },
    {
     "name": "stderr",
     "output_type": "stream",
     "text": [
      "                                                                                                                       \r"
     ]
    },
    {
     "name": "stdout",
     "output_type": "stream",
     "text": [
      "Results: mean: -187.8 +/- 143.0, min: -360.0, max: 58.0,\n",
      "\n",
      "Testing...\n"
     ]
    },
    {
     "name": "stderr",
     "output_type": "stream",
     "text": [
      "                                                                                                                       \r"
     ]
    },
    {
     "name": "stdout",
     "output_type": "stream",
     "text": [
      "Results: mean: -166.7 +/- 139.6, min: -365.0 max: 66.0\n",
      "Total elapsed time: 8.99 minutes\n",
      "\n",
      "Epoch #4\n"
     ]
    },
    {
     "name": "stderr",
     "output_type": "stream",
     "text": [
      "                                                                                                                       \r"
     ]
    },
    {
     "name": "stdout",
     "output_type": "stream",
     "text": [
      "Results: mean: -160.6 +/- 144.7, min: -370.0, max: 58.0,\n",
      "\n",
      "Testing...\n"
     ]
    },
    {
     "name": "stderr",
     "output_type": "stream",
     "text": [
      "                                                                                                                       \r"
     ]
    },
    {
     "name": "stdout",
     "output_type": "stream",
     "text": [
      "Results: mean: -53.2 +/- 138.0, min: -355.0 max: 66.0\n",
      "Total elapsed time: 11.66 minutes\n",
      "\n",
      "Epoch #5\n"
     ]
    },
    {
     "name": "stderr",
     "output_type": "stream",
     "text": [
      "                                                                                                                       \r"
     ]
    },
    {
     "name": "stdout",
     "output_type": "stream",
     "text": [
      "Results: mean: -87.4 +/- 147.2, min: -360.0, max: 58.0,\n",
      "\n",
      "Testing...\n"
     ]
    },
    {
     "name": "stderr",
     "output_type": "stream",
     "text": [
      "                                                                                                                       \r"
     ]
    },
    {
     "name": "stdout",
     "output_type": "stream",
     "text": [
      "Results: mean: -73.3 +/- 123.0, min: -360.0 max: 66.0\n",
      "Total elapsed time: 14.40 minutes\n",
      "\n",
      "Epoch #6\n"
     ]
    },
    {
     "name": "stderr",
     "output_type": "stream",
     "text": [
      "                                                                                                                       \r"
     ]
    },
    {
     "name": "stdout",
     "output_type": "stream",
     "text": [
      "Results: mean: -20.1 +/- 110.7, min: -370.0, max: 58.0,\n",
      "\n",
      "Testing...\n"
     ]
    },
    {
     "name": "stderr",
     "output_type": "stream",
     "text": [
      "                                                                                                                       \r"
     ]
    },
    {
     "name": "stdout",
     "output_type": "stream",
     "text": [
      "Results: mean: 20.3 +/- 86.7, min: -370.0 max: 66.0\n",
      "Total elapsed time: 16.81 minutes\n",
      "\n",
      "Epoch #7\n"
     ]
    },
    {
     "name": "stderr",
     "output_type": "stream",
     "text": [
      "                                                                                                                       \r"
     ]
    },
    {
     "name": "stdout",
     "output_type": "stream",
     "text": [
      "Results: mean: -19.3 +/- 95.4, min: -360.0, max: 58.0,\n",
      "\n",
      "Testing...\n"
     ]
    },
    {
     "name": "stderr",
     "output_type": "stream",
     "text": [
      "                                                                                                                       \r"
     ]
    },
    {
     "name": "stdout",
     "output_type": "stream",
     "text": [
      "Results: mean: -45.1 +/- 90.2, min: -350.0 max: 66.0\n",
      "Total elapsed time: 19.48 minutes\n",
      "\n",
      "Epoch #8\n"
     ]
    },
    {
     "name": "stderr",
     "output_type": "stream",
     "text": [
      "                                                                                                                       \r"
     ]
    },
    {
     "name": "stdout",
     "output_type": "stream",
     "text": [
      "Results: mean: -25.5 +/- 98.1, min: -355.0, max: 58.0,\n",
      "\n",
      "Testing...\n"
     ]
    },
    {
     "name": "stderr",
     "output_type": "stream",
     "text": [
      "                                                                                                                       \r"
     ]
    },
    {
     "name": "stdout",
     "output_type": "stream",
     "text": [
      "Results: mean: 17.2 +/- 85.3, min: -365.0 max: 66.0\n",
      "Total elapsed time: 21.91 minutes\n",
      "\n",
      "Epoch #9\n"
     ]
    },
    {
     "name": "stderr",
     "output_type": "stream",
     "text": [
      "                                                                                                                       \r"
     ]
    },
    {
     "name": "stdout",
     "output_type": "stream",
     "text": [
      "Results: mean: 23.8 +/- 55.9, min: -355.0, max: 58.0,\n",
      "\n",
      "Testing...\n"
     ]
    },
    {
     "name": "stderr",
     "output_type": "stream",
     "text": [
      "                                                                                                                       \r"
     ]
    },
    {
     "name": "stdout",
     "output_type": "stream",
     "text": [
      "Results: mean: 33.1 +/- 50.6, min: -161.0 max: 66.0\n",
      "Total elapsed time: 24.27 minutes\n",
      "\n",
      "Epoch #10\n"
     ]
    },
    {
     "name": "stderr",
     "output_type": "stream",
     "text": [
      "                                                                                                                       \r"
     ]
    },
    {
     "name": "stdout",
     "output_type": "stream",
     "text": [
      "Results: mean: -8.7 +/- 79.3, min: -360.0, max: 58.0,\n",
      "\n",
      "Testing...\n"
     ]
    },
    {
     "name": "stderr",
     "output_type": "stream",
     "text": [
      "\u001b[32m[I 2023-05-04 06:39:56,341]\u001b[0m Trial 13 finished with value: 2.47 and parameters: {'learning_rate': 0.002221472714728794, 'batch_size': 32, 'replay_memory_size': 3000, 'discount_factor': 0.9887978009989546, 'frame_repeat': 20, 'optimizer': 'Adam', 'epsilon_decay': 0.9941411344813454}. Best is trial 8 with value: 6.7.\u001b[0m\n"
     ]
    },
    {
     "name": "stdout",
     "output_type": "stream",
     "text": [
      "Results: mean: 2.5 +/- 67.7, min: -355.0 max: 66.0\n",
      "Total elapsed time: 26.77 minutes\n",
      "\n",
      "Learning rate: 0.0019897545663688444, Batch size: 32, Replay memory size: 3000,\n",
      "Discount factor: 0.9330287907045337, Frame repeat: 16, Optimizer: Adam, \n",
      "Epsilon decay: 0.9941691688015359\n",
      "\n",
      "Initializing doom...\n",
      "Doom initialized.\n",
      "Initializing New Model\n",
      "\n",
      "Epoch #1\n"
     ]
    },
    {
     "name": "stderr",
     "output_type": "stream",
     "text": [
      "                                                                                                                       \r"
     ]
    },
    {
     "name": "stdout",
     "output_type": "stream",
     "text": [
      "Results: mean: -268.0 +/- 101.7, min: -350.0, max: 62.0,\n",
      "\n",
      "Testing...\n"
     ]
    },
    {
     "name": "stderr",
     "output_type": "stream",
     "text": [
      "                                                                                                                       \r"
     ]
    },
    {
     "name": "stdout",
     "output_type": "stream",
     "text": [
      "Results: mean: -255.9 +/- 108.6, min: -330.0 max: 66.0\n",
      "Total elapsed time: 3.29 minutes\n",
      "\n",
      "Epoch #2\n"
     ]
    },
    {
     "name": "stderr",
     "output_type": "stream",
     "text": [
      "                                                                                                                       \r"
     ]
    },
    {
     "name": "stdout",
     "output_type": "stream",
     "text": [
      "Results: mean: -242.0 +/- 142.0, min: -370.0, max: 62.0,\n",
      "\n",
      "Testing...\n"
     ]
    },
    {
     "name": "stderr",
     "output_type": "stream",
     "text": [
      "                                                                                                                       \r"
     ]
    },
    {
     "name": "stdout",
     "output_type": "stream",
     "text": [
      "Results: mean: -66.9 +/- 141.7, min: -370.0 max: 66.0\n",
      "Total elapsed time: 5.99 minutes\n",
      "\n",
      "Epoch #3\n"
     ]
    },
    {
     "name": "stderr",
     "output_type": "stream",
     "text": [
      "                                                                                                                       \r"
     ]
    },
    {
     "name": "stdout",
     "output_type": "stream",
     "text": [
      "Results: mean: -125.0 +/- 151.3, min: -360.0, max: 62.0,\n",
      "\n",
      "Testing...\n"
     ]
    },
    {
     "name": "stderr",
     "output_type": "stream",
     "text": [
      "                                                                                                                       \r"
     ]
    },
    {
     "name": "stdout",
     "output_type": "stream",
     "text": [
      "Results: mean: -67.1 +/- 122.4, min: -335.0 max: 66.0\n",
      "Total elapsed time: 8.76 minutes\n",
      "\n",
      "Epoch #4\n"
     ]
    },
    {
     "name": "stderr",
     "output_type": "stream",
     "text": [
      "                                                                                                                       \r"
     ]
    },
    {
     "name": "stdout",
     "output_type": "stream",
     "text": [
      "Results: mean: -44.7 +/- 123.3, min: -360.0, max: 62.0,\n",
      "\n",
      "Testing...\n"
     ]
    },
    {
     "name": "stderr",
     "output_type": "stream",
     "text": [
      "                                                                                                                       \r"
     ]
    },
    {
     "name": "stdout",
     "output_type": "stream",
     "text": [
      "Results: mean: -7.9 +/- 99.5, min: -365.0 max: 66.0\n",
      "Total elapsed time: 11.29 minutes\n",
      "\n",
      "Epoch #5\n"
     ]
    },
    {
     "name": "stderr",
     "output_type": "stream",
     "text": [
      "                                                                                                                       \r"
     ]
    },
    {
     "name": "stdout",
     "output_type": "stream",
     "text": [
      "Results: mean: -12.3 +/- 107.1, min: -365.0, max: 62.0,\n",
      "\n",
      "Testing...\n"
     ]
    },
    {
     "name": "stderr",
     "output_type": "stream",
     "text": [
      "                                                                                                                       \r"
     ]
    },
    {
     "name": "stdout",
     "output_type": "stream",
     "text": [
      "Results: mean: -19.4 +/- 76.9, min: -365.0 max: 66.0\n",
      "Total elapsed time: 13.88 minutes\n",
      "\n",
      "Epoch #6\n"
     ]
    },
    {
     "name": "stderr",
     "output_type": "stream",
     "text": [
      "                                                                                                                       \r"
     ]
    },
    {
     "name": "stdout",
     "output_type": "stream",
     "text": [
      "Results: mean: -52.2 +/- 133.3, min: -365.0, max: 62.0,\n",
      "\n",
      "Testing...\n"
     ]
    },
    {
     "name": "stderr",
     "output_type": "stream",
     "text": [
      "                                                                                                                       \r"
     ]
    },
    {
     "name": "stdout",
     "output_type": "stream",
     "text": [
      "Results: mean: -82.3 +/- 129.7, min: -370.0 max: 66.0\n",
      "Total elapsed time: 16.64 minutes\n",
      "\n",
      "Epoch #7\n"
     ]
    },
    {
     "name": "stderr",
     "output_type": "stream",
     "text": [
      "                                                                                                                       \r"
     ]
    },
    {
     "name": "stdout",
     "output_type": "stream",
     "text": [
      "Results: mean: -92.3 +/- 127.6, min: -350.0, max: 62.0,\n",
      "\n",
      "Testing...\n"
     ]
    },
    {
     "name": "stderr",
     "output_type": "stream",
     "text": [
      "                                                                                                                       \r"
     ]
    },
    {
     "name": "stdout",
     "output_type": "stream",
     "text": [
      "Results: mean: -74.2 +/- 130.1, min: -365.0 max: 66.0\n",
      "Total elapsed time: 19.36 minutes\n",
      "\n",
      "Epoch #8\n"
     ]
    },
    {
     "name": "stderr",
     "output_type": "stream",
     "text": [
      "                                                                                                                       \r"
     ]
    },
    {
     "name": "stdout",
     "output_type": "stream",
     "text": [
      "Results: mean: -52.8 +/- 113.9, min: -365.0, max: 62.0,\n",
      "\n",
      "Testing...\n"
     ]
    },
    {
     "name": "stderr",
     "output_type": "stream",
     "text": [
      "                                                                                                                       \r"
     ]
    },
    {
     "name": "stdout",
     "output_type": "stream",
     "text": [
      "Results: mean: -142.9 +/- 140.4, min: -360.0 max: 66.0\n",
      "Total elapsed time: 22.30 minutes\n",
      "\n",
      "Epoch #9\n"
     ]
    },
    {
     "name": "stderr",
     "output_type": "stream",
     "text": [
      "                                                                                                                       \r"
     ]
    },
    {
     "name": "stdout",
     "output_type": "stream",
     "text": [
      "Results: mean: -86.2 +/- 142.4, min: -360.0, max: 62.0,\n",
      "\n",
      "Testing...\n"
     ]
    },
    {
     "name": "stderr",
     "output_type": "stream",
     "text": [
      "                                                                                                                       \r"
     ]
    },
    {
     "name": "stdout",
     "output_type": "stream",
     "text": [
      "Results: mean: -122.5 +/- 126.1, min: -365.0 max: 66.0\n",
      "Total elapsed time: 25.18 minutes\n",
      "\n",
      "Epoch #10\n"
     ]
    },
    {
     "name": "stderr",
     "output_type": "stream",
     "text": [
      "                                                                                                                       \r"
     ]
    },
    {
     "name": "stdout",
     "output_type": "stream",
     "text": [
      "Results: mean: -106.5 +/- 139.7, min: -365.0, max: 62.0,\n",
      "\n",
      "Testing...\n"
     ]
    },
    {
     "name": "stderr",
     "output_type": "stream",
     "text": [
      "\u001b[32m[I 2023-05-04 07:07:54,878]\u001b[0m Trial 14 finished with value: -90.82 and parameters: {'learning_rate': 0.0019897545663688444, 'batch_size': 32, 'replay_memory_size': 3000, 'discount_factor': 0.9330287907045337, 'frame_repeat': 16, 'optimizer': 'Adam', 'epsilon_decay': 0.9941691688015359}. Best is trial 8 with value: 6.7.\u001b[0m\n"
     ]
    },
    {
     "name": "stdout",
     "output_type": "stream",
     "text": [
      "Results: mean: -90.8 +/- 117.1, min: -365.0 max: 66.0\n",
      "Total elapsed time: 27.96 minutes\n",
      "\n",
      "Learning rate: 0.0012133680805884812, Batch size: 32, Replay memory size: 3000,\n",
      "Discount factor: 0.6603482366937368, Frame repeat: 20, Optimizer: Adam, \n",
      "Epsilon decay: 0.9943118510151969\n",
      "\n",
      "Initializing doom...\n",
      "Doom initialized.\n",
      "Initializing New Model\n",
      "\n",
      "Epoch #1\n"
     ]
    },
    {
     "name": "stderr",
     "output_type": "stream",
     "text": [
      "                                                                                                                       \r"
     ]
    },
    {
     "name": "stdout",
     "output_type": "stream",
     "text": [
      "Results: mean: -211.6 +/- 144.4, min: -340.0, max: 58.0,\n",
      "\n",
      "Testing...\n"
     ]
    },
    {
     "name": "stderr",
     "output_type": "stream",
     "text": [
      "                                                                                                                       \r"
     ]
    },
    {
     "name": "stdout",
     "output_type": "stream",
     "text": [
      "Results: mean: -243.4 +/- 117.4, min: -325.0 max: 66.0\n",
      "Total elapsed time: 3.25 minutes\n",
      "\n",
      "Epoch #2\n"
     ]
    },
    {
     "name": "stderr",
     "output_type": "stream",
     "text": [
      "                                                                                                                       \r"
     ]
    },
    {
     "name": "stdout",
     "output_type": "stream",
     "text": [
      "Results: mean: -264.9 +/- 111.8, min: -360.0, max: 58.0,\n",
      "\n",
      "Testing...\n"
     ]
    },
    {
     "name": "stderr",
     "output_type": "stream",
     "text": [
      "                                                                                                                       \r"
     ]
    },
    {
     "name": "stdout",
     "output_type": "stream",
     "text": [
      "Results: mean: -242.4 +/- 132.5, min: -345.0 max: 66.0\n",
      "Total elapsed time: 6.45 minutes\n",
      "\n",
      "Epoch #3\n"
     ]
    },
    {
     "name": "stderr",
     "output_type": "stream",
     "text": [
      "                                                                                                                       \r"
     ]
    },
    {
     "name": "stdout",
     "output_type": "stream",
     "text": [
      "Results: mean: -101.2 +/- 165.8, min: -355.0, max: 58.0,\n",
      "\n",
      "Testing...\n"
     ]
    },
    {
     "name": "stderr",
     "output_type": "stream",
     "text": [
      "                                                                                                                       \r"
     ]
    },
    {
     "name": "stdout",
     "output_type": "stream",
     "text": [
      "Results: mean: -22.1 +/- 143.4, min: -360.0 max: 66.0\n",
      "Total elapsed time: 8.97 minutes\n",
      "\n",
      "Epoch #4\n"
     ]
    },
    {
     "name": "stderr",
     "output_type": "stream",
     "text": [
      "                                                                                                                       \r"
     ]
    },
    {
     "name": "stdout",
     "output_type": "stream",
     "text": [
      "Results: mean: -43.3 +/- 135.2, min: -360.0, max: 58.0,\n",
      "\n",
      "Testing...\n"
     ]
    },
    {
     "name": "stderr",
     "output_type": "stream",
     "text": [
      "                                                                                                                       \r"
     ]
    },
    {
     "name": "stdout",
     "output_type": "stream",
     "text": [
      "Results: mean: -21.2 +/- 82.7, min: -360.0 max: 66.0\n",
      "Total elapsed time: 11.53 minutes\n",
      "\n",
      "Epoch #5\n"
     ]
    },
    {
     "name": "stderr",
     "output_type": "stream",
     "text": [
      "                                                                                                                       \r"
     ]
    },
    {
     "name": "stdout",
     "output_type": "stream",
     "text": [
      "Results: mean: -25.3 +/- 114.6, min: -355.0, max: 58.0,\n",
      "\n",
      "Testing...\n"
     ]
    },
    {
     "name": "stderr",
     "output_type": "stream",
     "text": [
      "                                                                                                                       \r"
     ]
    },
    {
     "name": "stdout",
     "output_type": "stream",
     "text": [
      "Results: mean: 2.4 +/- 85.9, min: -325.0 max: 66.0\n",
      "Total elapsed time: 13.99 minutes\n",
      "\n",
      "Epoch #6\n"
     ]
    },
    {
     "name": "stderr",
     "output_type": "stream",
     "text": [
      "                                                                                                                       \r"
     ]
    },
    {
     "name": "stdout",
     "output_type": "stream",
     "text": [
      "Results: mean: -15.4 +/- 99.1, min: -365.0, max: 58.0,\n",
      "\n",
      "Testing...\n"
     ]
    },
    {
     "name": "stderr",
     "output_type": "stream",
     "text": [
      "                                                                                                                       \r"
     ]
    },
    {
     "name": "stdout",
     "output_type": "stream",
     "text": [
      "Results: mean: -50.6 +/- 84.7, min: -340.0 max: 66.0\n",
      "Total elapsed time: 16.67 minutes\n",
      "\n",
      "Epoch #7\n"
     ]
    },
    {
     "name": "stderr",
     "output_type": "stream",
     "text": [
      "                                                                                                                       \r"
     ]
    },
    {
     "name": "stdout",
     "output_type": "stream",
     "text": [
      "Results: mean: 8.0 +/- 73.9, min: -370.0, max: 58.0,\n",
      "\n",
      "Testing...\n"
     ]
    },
    {
     "name": "stderr",
     "output_type": "stream",
     "text": [
      "                                                                                                                       \r"
     ]
    },
    {
     "name": "stdout",
     "output_type": "stream",
     "text": [
      "Results: mean: -3.3 +/- 62.9, min: -345.0 max: 66.0\n",
      "Total elapsed time: 19.20 minutes\n",
      "\n",
      "Epoch #8\n"
     ]
    },
    {
     "name": "stderr",
     "output_type": "stream",
     "text": [
      "                                                                                                                       \r"
     ]
    },
    {
     "name": "stdout",
     "output_type": "stream",
     "text": [
      "Results: mean: 3.0 +/- 79.1, min: -360.0, max: 58.0,\n",
      "\n",
      "Testing...\n"
     ]
    },
    {
     "name": "stderr",
     "output_type": "stream",
     "text": [
      "                                                                                                                       \r"
     ]
    },
    {
     "name": "stdout",
     "output_type": "stream",
     "text": [
      "Results: mean: 32.2 +/- 56.1, min: -300.0 max: 66.0\n",
      "Total elapsed time: 21.54 minutes\n",
      "\n",
      "Epoch #9\n"
     ]
    },
    {
     "name": "stderr",
     "output_type": "stream",
     "text": [
      "                                                                                                                       \r"
     ]
    },
    {
     "name": "stdout",
     "output_type": "stream",
     "text": [
      "Results: mean: 7.5 +/- 83.2, min: -355.0, max: 58.0,\n",
      "\n",
      "Testing...\n"
     ]
    },
    {
     "name": "stderr",
     "output_type": "stream",
     "text": [
      "                                                                                                                       \r"
     ]
    },
    {
     "name": "stdout",
     "output_type": "stream",
     "text": [
      "Results: mean: -15.8 +/- 72.3, min: -365.0 max: 66.0\n",
      "Total elapsed time: 24.09 minutes\n",
      "\n",
      "Epoch #10\n"
     ]
    },
    {
     "name": "stderr",
     "output_type": "stream",
     "text": [
      "                                                                                                                       \r"
     ]
    },
    {
     "name": "stdout",
     "output_type": "stream",
     "text": [
      "Results: mean: -1.1 +/- 78.7, min: -345.0, max: 58.0,\n",
      "\n",
      "Testing...\n"
     ]
    },
    {
     "name": "stderr",
     "output_type": "stream",
     "text": [
      "\u001b[32m[I 2023-05-04 07:34:31,359]\u001b[0m Trial 15 finished with value: -7.88 and parameters: {'learning_rate': 0.0012133680805884812, 'batch_size': 32, 'replay_memory_size': 3000, 'discount_factor': 0.6603482366937368, 'frame_repeat': 20, 'optimizer': 'Adam', 'epsilon_decay': 0.9943118510151969}. Best is trial 8 with value: 6.7.\u001b[0m\n"
     ]
    },
    {
     "name": "stdout",
     "output_type": "stream",
     "text": [
      "Results: mean: -7.9 +/- 74.3, min: -355.0 max: 66.0\n",
      "Total elapsed time: 26.60 minutes\n",
      "\n",
      "Learning rate: 0.0023801345131905147, Batch size: 32, Replay memory size: 3000,\n",
      "Discount factor: 0.9879687021506138, Frame repeat: 12, Optimizer: Adam, \n",
      "Epsilon decay: 0.9934062202857115\n",
      "\n",
      "Initializing doom...\n",
      "Doom initialized.\n",
      "Initializing New Model\n",
      "\n",
      "Epoch #1\n"
     ]
    },
    {
     "name": "stderr",
     "output_type": "stream",
     "text": [
      "                                                                                                                       \r"
     ]
    },
    {
     "name": "stdout",
     "output_type": "stream",
     "text": [
      "Results: mean: -237.6 +/- 129.0, min: -355.0, max: 66.0,\n",
      "\n",
      "Testing...\n"
     ]
    },
    {
     "name": "stderr",
     "output_type": "stream",
     "text": [
      "                                                                                                                       \r"
     ]
    },
    {
     "name": "stdout",
     "output_type": "stream",
     "text": [
      "Results: mean: -236.3 +/- 123.2, min: -320.0 max: 66.0\n",
      "Total elapsed time: 3.28 minutes\n",
      "\n",
      "Epoch #2\n"
     ]
    },
    {
     "name": "stderr",
     "output_type": "stream",
     "text": [
      "                                                                                                                       \r"
     ]
    },
    {
     "name": "stdout",
     "output_type": "stream",
     "text": [
      "Results: mean: -208.2 +/- 161.6, min: -370.0, max: 66.0,\n",
      "\n",
      "Testing...\n"
     ]
    },
    {
     "name": "stderr",
     "output_type": "stream",
     "text": [
      "                                                                                                                       \r"
     ]
    },
    {
     "name": "stdout",
     "output_type": "stream",
     "text": [
      "Results: mean: -241.6 +/- 131.3, min: -350.0 max: 66.0\n",
      "Total elapsed time: 6.48 minutes\n",
      "\n",
      "Epoch #3\n"
     ]
    },
    {
     "name": "stderr",
     "output_type": "stream",
     "text": [
      "                                                                                                                       \r"
     ]
    },
    {
     "name": "stdout",
     "output_type": "stream",
     "text": [
      "Results: mean: -51.0 +/- 140.1, min: -355.0, max: 66.0,\n",
      "\n",
      "Testing...\n"
     ]
    },
    {
     "name": "stderr",
     "output_type": "stream",
     "text": [
      "                                                                                                                       \r"
     ]
    },
    {
     "name": "stdout",
     "output_type": "stream",
     "text": [
      "Results: mean: -85.9 +/- 135.9, min: -360.0 max: 66.0\n",
      "Total elapsed time: 9.27 minutes\n",
      "\n",
      "Epoch #4\n"
     ]
    },
    {
     "name": "stderr",
     "output_type": "stream",
     "text": [
      "                                                                                                                       \r"
     ]
    },
    {
     "name": "stdout",
     "output_type": "stream",
     "text": [
      "Results: mean: 13.1 +/- 95.6, min: -360.0, max: 66.0,\n",
      "\n",
      "Testing...\n"
     ]
    },
    {
     "name": "stderr",
     "output_type": "stream",
     "text": [
      "                                                                                                                       \r"
     ]
    },
    {
     "name": "stdout",
     "output_type": "stream",
     "text": [
      "Results: mean: 14.1 +/- 91.8, min: -345.0 max: 66.0\n",
      "Total elapsed time: 11.67 minutes\n",
      "\n",
      "Epoch #5\n"
     ]
    },
    {
     "name": "stderr",
     "output_type": "stream",
     "text": [
      "                                                                                                                       \r"
     ]
    },
    {
     "name": "stdout",
     "output_type": "stream",
     "text": [
      "Results: mean: -25.8 +/- 127.2, min: -370.0, max: 66.0,\n",
      "\n",
      "Testing...\n"
     ]
    },
    {
     "name": "stderr",
     "output_type": "stream",
     "text": [
      "                                                                                                                       \r"
     ]
    },
    {
     "name": "stdout",
     "output_type": "stream",
     "text": [
      "Results: mean: -19.2 +/- 113.6, min: -365.0 max: 66.0\n",
      "Total elapsed time: 14.20 minutes\n",
      "\n",
      "Epoch #6\n"
     ]
    },
    {
     "name": "stderr",
     "output_type": "stream",
     "text": [
      "                                                                                                                       \r"
     ]
    },
    {
     "name": "stdout",
     "output_type": "stream",
     "text": [
      "Results: mean: -50.5 +/- 133.5, min: -355.0, max: 66.0,\n",
      "\n",
      "Testing...\n"
     ]
    },
    {
     "name": "stderr",
     "output_type": "stream",
     "text": [
      "                                                                                                                       \r"
     ]
    },
    {
     "name": "stdout",
     "output_type": "stream",
     "text": [
      "Results: mean: -188.8 +/- 170.9, min: -365.0 max: 66.0\n",
      "Total elapsed time: 17.19 minutes\n",
      "\n",
      "Epoch #7\n"
     ]
    },
    {
     "name": "stderr",
     "output_type": "stream",
     "text": [
      "                                                                                                                       \r"
     ]
    },
    {
     "name": "stdout",
     "output_type": "stream",
     "text": [
      "Results: mean: -76.9 +/- 156.0, min: -370.0, max: 66.0,\n",
      "\n",
      "Testing...\n"
     ]
    },
    {
     "name": "stderr",
     "output_type": "stream",
     "text": [
      "                                                                                                                       \r"
     ]
    },
    {
     "name": "stdout",
     "output_type": "stream",
     "text": [
      "Results: mean: -15.1 +/- 140.3, min: -370.0 max: 66.0\n",
      "Total elapsed time: 19.70 minutes\n",
      "\n",
      "Epoch #8\n"
     ]
    },
    {
     "name": "stderr",
     "output_type": "stream",
     "text": [
      "                                                                                                                       \r"
     ]
    },
    {
     "name": "stdout",
     "output_type": "stream",
     "text": [
      "Results: mean: -57.2 +/- 146.1, min: -370.0, max: 66.0,\n",
      "\n",
      "Testing...\n"
     ]
    },
    {
     "name": "stderr",
     "output_type": "stream",
     "text": [
      "                                                                                                                       \r"
     ]
    },
    {
     "name": "stdout",
     "output_type": "stream",
     "text": [
      "Results: mean: -29.4 +/- 103.6, min: -370.0 max: 66.0\n",
      "Total elapsed time: 22.27 minutes\n",
      "\n",
      "Epoch #9\n"
     ]
    },
    {
     "name": "stderr",
     "output_type": "stream",
     "text": [
      "                                                                                                                       \r"
     ]
    },
    {
     "name": "stdout",
     "output_type": "stream",
     "text": [
      "Results: mean: -53.4 +/- 143.8, min: -370.0, max: 66.0,\n",
      "\n",
      "Testing...\n"
     ]
    },
    {
     "name": "stderr",
     "output_type": "stream",
     "text": [
      "                                                                                                                       \r"
     ]
    },
    {
     "name": "stdout",
     "output_type": "stream",
     "text": [
      "Results: mean: -195.1 +/- 183.8, min: -370.0 max: 66.0\n",
      "Total elapsed time: 25.27 minutes\n",
      "\n",
      "Epoch #10\n"
     ]
    },
    {
     "name": "stderr",
     "output_type": "stream",
     "text": [
      "                                                                                                                       \r"
     ]
    },
    {
     "name": "stdout",
     "output_type": "stream",
     "text": [
      "Results: mean: -144.0 +/- 170.8, min: -370.0, max: 66.0,\n",
      "\n",
      "Testing...\n"
     ]
    },
    {
     "name": "stderr",
     "output_type": "stream",
     "text": [
      "\u001b[32m[I 2023-05-04 08:02:23,780]\u001b[0m Trial 16 finished with value: -42.43 and parameters: {'learning_rate': 0.0023801345131905147, 'batch_size': 32, 'replay_memory_size': 3000, 'discount_factor': 0.9879687021506138, 'frame_repeat': 12, 'optimizer': 'Adam', 'epsilon_decay': 0.9934062202857115}. Best is trial 8 with value: 6.7.\u001b[0m\n"
     ]
    },
    {
     "name": "stdout",
     "output_type": "stream",
     "text": [
      "Results: mean: -42.4 +/- 146.9, min: -365.0 max: 66.0\n",
      "Total elapsed time: 27.86 minutes\n",
      "\n",
      "Learning rate: 0.006043902803553718, Batch size: 32, Replay memory size: 4000,\n",
      "Discount factor: 0.8479302114490334, Frame repeat: 12, Optimizer: Adam, \n",
      "Epsilon decay: 0.9949851960350113\n",
      "\n",
      "Initializing doom...\n",
      "Doom initialized.\n",
      "Initializing New Model\n",
      "\n",
      "Epoch #1\n"
     ]
    },
    {
     "name": "stderr",
     "output_type": "stream",
     "text": [
      "                                                                                                                       \r"
     ]
    },
    {
     "name": "stdout",
     "output_type": "stream",
     "text": [
      "Results: mean: -239.4 +/- 126.3, min: -350.0, max: 66.0,\n",
      "\n",
      "Testing...\n"
     ]
    },
    {
     "name": "stderr",
     "output_type": "stream",
     "text": [
      "                                                                                                                       \r"
     ]
    },
    {
     "name": "stdout",
     "output_type": "stream",
     "text": [
      "Results: mean: -287.6 +/- 76.9, min: -325.0 max: 66.0\n",
      "Total elapsed time: 3.36 minutes\n",
      "\n",
      "Epoch #2\n"
     ]
    },
    {
     "name": "stderr",
     "output_type": "stream",
     "text": [
      "                                                                                                                       \r"
     ]
    },
    {
     "name": "stdout",
     "output_type": "stream",
     "text": [
      "Results: mean: -168.2 +/- 176.5, min: -365.0, max: 66.0,\n",
      "\n",
      "Testing...\n"
     ]
    },
    {
     "name": "stderr",
     "output_type": "stream",
     "text": [
      "                                                                                                                       \r"
     ]
    },
    {
     "name": "stdout",
     "output_type": "stream",
     "text": [
      "Results: mean: -220.3 +/- 148.7, min: -325.0 max: 66.0\n",
      "Total elapsed time: 6.46 minutes\n",
      "\n",
      "Epoch #3\n"
     ]
    },
    {
     "name": "stderr",
     "output_type": "stream",
     "text": [
      "                                                                                                                       \r"
     ]
    },
    {
     "name": "stdout",
     "output_type": "stream",
     "text": [
      "Results: mean: -77.9 +/- 148.5, min: -325.0, max: 66.0,\n",
      "\n",
      "Testing...\n"
     ]
    },
    {
     "name": "stderr",
     "output_type": "stream",
     "text": [
      "                                                                                                                       \r"
     ]
    },
    {
     "name": "stdout",
     "output_type": "stream",
     "text": [
      "Results: mean: -74.8 +/- 145.5, min: -330.0 max: 66.0\n",
      "Total elapsed time: 9.16 minutes\n",
      "\n",
      "Epoch #4\n"
     ]
    },
    {
     "name": "stderr",
     "output_type": "stream",
     "text": [
      "                                                                                                                       \r"
     ]
    },
    {
     "name": "stdout",
     "output_type": "stream",
     "text": [
      "Results: mean: -102.5 +/- 155.5, min: -355.0, max: 66.0,\n",
      "\n",
      "Testing...\n"
     ]
    },
    {
     "name": "stderr",
     "output_type": "stream",
     "text": [
      "                                                                                                                       \r"
     ]
    },
    {
     "name": "stdout",
     "output_type": "stream",
     "text": [
      "Results: mean: -110.4 +/- 139.4, min: -350.0 max: 66.0\n",
      "Total elapsed time: 12.01 minutes\n",
      "\n",
      "Epoch #5\n"
     ]
    },
    {
     "name": "stderr",
     "output_type": "stream",
     "text": [
      "                                                                                                                       \r"
     ]
    },
    {
     "name": "stdout",
     "output_type": "stream",
     "text": [
      "Results: mean: -60.4 +/- 136.1, min: -350.0, max: 66.0,\n",
      "\n",
      "Testing...\n"
     ]
    },
    {
     "name": "stderr",
     "output_type": "stream",
     "text": [
      "                                                                                                                       \r"
     ]
    },
    {
     "name": "stdout",
     "output_type": "stream",
     "text": [
      "Results: mean: -131.0 +/- 184.3, min: -355.0 max: 66.0\n",
      "Total elapsed time: 14.83 minutes\n",
      "\n",
      "Epoch #6\n"
     ]
    },
    {
     "name": "stderr",
     "output_type": "stream",
     "text": [
      "                                                                                                                       \r"
     ]
    },
    {
     "name": "stdout",
     "output_type": "stream",
     "text": [
      "Results: mean: -171.0 +/- 169.9, min: -360.0, max: 66.0,\n",
      "\n",
      "Testing...\n"
     ]
    },
    {
     "name": "stderr",
     "output_type": "stream",
     "text": [
      "                                                                                                                       \r"
     ]
    },
    {
     "name": "stdout",
     "output_type": "stream",
     "text": [
      "Results: mean: -207.7 +/- 149.8, min: -330.0 max: 66.0\n",
      "Total elapsed time: 17.93 minutes\n",
      "\n",
      "Epoch #7\n"
     ]
    },
    {
     "name": "stderr",
     "output_type": "stream",
     "text": [
      "                                                                                                                       \r"
     ]
    },
    {
     "name": "stdout",
     "output_type": "stream",
     "text": [
      "Results: mean: -189.8 +/- 160.0, min: -340.0, max: 66.0,\n",
      "\n",
      "Testing...\n"
     ]
    },
    {
     "name": "stderr",
     "output_type": "stream",
     "text": [
      "                                                                                                                       \r"
     ]
    },
    {
     "name": "stdout",
     "output_type": "stream",
     "text": [
      "Results: mean: -251.5 +/- 128.7, min: -345.0 max: 66.0\n",
      "Total elapsed time: 21.14 minutes\n",
      "\n",
      "Epoch #8\n"
     ]
    },
    {
     "name": "stderr",
     "output_type": "stream",
     "text": [
      "                                                                                                                       \r"
     ]
    },
    {
     "name": "stdout",
     "output_type": "stream",
     "text": [
      "Results: mean: -167.2 +/- 171.3, min: -335.0, max: 66.0,\n",
      "\n",
      "Testing...\n"
     ]
    },
    {
     "name": "stderr",
     "output_type": "stream",
     "text": [
      "                                                                                                                       \r"
     ]
    },
    {
     "name": "stdout",
     "output_type": "stream",
     "text": [
      "Results: mean: -188.8 +/- 146.3, min: -355.0 max: 66.0\n",
      "Total elapsed time: 24.21 minutes\n",
      "\n",
      "Epoch #9\n"
     ]
    },
    {
     "name": "stderr",
     "output_type": "stream",
     "text": [
      "                                                                                                                       \r"
     ]
    },
    {
     "name": "stdout",
     "output_type": "stream",
     "text": [
      "Results: mean: -122.4 +/- 160.7, min: -335.0, max: 66.0,\n",
      "\n",
      "Testing...\n"
     ]
    },
    {
     "name": "stderr",
     "output_type": "stream",
     "text": [
      "                                                                                                                       \r"
     ]
    },
    {
     "name": "stdout",
     "output_type": "stream",
     "text": [
      "Results: mean: -41.2 +/- 125.0, min: -330.0 max: 66.0\n",
      "Total elapsed time: 26.82 minutes\n",
      "\n",
      "Epoch #10\n"
     ]
    },
    {
     "name": "stderr",
     "output_type": "stream",
     "text": [
      "                                                                                                                       \r"
     ]
    },
    {
     "name": "stdout",
     "output_type": "stream",
     "text": [
      "Results: mean: -44.4 +/- 132.4, min: -340.0, max: 66.0,\n",
      "\n",
      "Testing...\n"
     ]
    },
    {
     "name": "stderr",
     "output_type": "stream",
     "text": [
      "\u001b[32m[I 2023-05-04 08:31:58,294]\u001b[0m Trial 17 finished with value: -95.24 and parameters: {'learning_rate': 0.006043902803553718, 'batch_size': 32, 'replay_memory_size': 4000, 'discount_factor': 0.8479302114490334, 'frame_repeat': 12, 'optimizer': 'Adam', 'epsilon_decay': 0.9949851960350113}. Best is trial 8 with value: 6.7.\u001b[0m\n"
     ]
    },
    {
     "name": "stdout",
     "output_type": "stream",
     "text": [
      "Results: mean: -95.2 +/- 156.1, min: -330.0 max: 66.0\n",
      "Total elapsed time: 29.56 minutes\n",
      "\n",
      "Learning rate: 0.015739276996322896, Batch size: 32, Replay memory size: 7000,\n",
      "Discount factor: 0.6492492973409609, Frame repeat: 20, Optimizer: SGD, \n",
      "Epsilon decay: 0.9903458586455888\n",
      "\n",
      "Initializing doom...\n",
      "Doom initialized.\n",
      "Initializing New Model\n",
      "\n",
      "Epoch #1\n"
     ]
    },
    {
     "name": "stderr",
     "output_type": "stream",
     "text": [
      "                                                                                                                       \r"
     ]
    },
    {
     "name": "stdout",
     "output_type": "stream",
     "text": [
      "Results: mean: -242.8 +/- 115.7, min: -340.0, max: 58.0,\n",
      "\n",
      "Testing...\n"
     ]
    },
    {
     "name": "stderr",
     "output_type": "stream",
     "text": [
      "                                                                                                                       \r"
     ]
    },
    {
     "name": "stdout",
     "output_type": "stream",
     "text": [
      "Results: mean: -235.7 +/- 130.8, min: -315.0 max: 66.0\n",
      "Total elapsed time: 3.13 minutes\n",
      "\n",
      "Epoch #2\n"
     ]
    },
    {
     "name": "stderr",
     "output_type": "stream",
     "text": [
      "                                                                                                                       \r"
     ]
    },
    {
     "name": "stdout",
     "output_type": "stream",
     "text": [
      "Results: mean: -244.3 +/- 120.9, min: -370.0, max: 58.0,\n",
      "\n",
      "Testing...\n"
     ]
    },
    {
     "name": "stderr",
     "output_type": "stream",
     "text": [
      "                                                                                                                       \r"
     ]
    },
    {
     "name": "stdout",
     "output_type": "stream",
     "text": [
      "Results: mean: -235.5 +/- 123.0, min: -320.0 max: 66.0\n",
      "Total elapsed time: 6.20 minutes\n",
      "\n",
      "Epoch #3\n"
     ]
    },
    {
     "name": "stderr",
     "output_type": "stream",
     "text": [
      "                                                                                                                       \r"
     ]
    },
    {
     "name": "stdout",
     "output_type": "stream",
     "text": [
      "Results: mean: -251.5 +/- 112.8, min: -365.0, max: 58.0,\n",
      "\n",
      "Testing...\n"
     ]
    },
    {
     "name": "stderr",
     "output_type": "stream",
     "text": [
      "                                                                                                                       \r"
     ]
    },
    {
     "name": "stdout",
     "output_type": "stream",
     "text": [
      "Results: mean: -234.3 +/- 118.9, min: -325.0 max: 66.0\n",
      "Total elapsed time: 9.27 minutes\n",
      "\n",
      "Epoch #4\n"
     ]
    },
    {
     "name": "stderr",
     "output_type": "stream",
     "text": [
      "                                                                                                                       \r"
     ]
    },
    {
     "name": "stdout",
     "output_type": "stream",
     "text": [
      "Results: mean: -265.5 +/- 102.1, min: -365.0, max: 58.0,\n",
      "\n",
      "Testing...\n"
     ]
    },
    {
     "name": "stderr",
     "output_type": "stream",
     "text": [
      "                                                                                                                       \r"
     ]
    },
    {
     "name": "stdout",
     "output_type": "stream",
     "text": [
      "Results: mean: -243.9 +/- 117.5, min: -320.0 max: 66.0\n",
      "Total elapsed time: 12.36 minutes\n",
      "\n",
      "Epoch #5\n"
     ]
    },
    {
     "name": "stderr",
     "output_type": "stream",
     "text": [
      "                                                                                                                       \r"
     ]
    },
    {
     "name": "stdout",
     "output_type": "stream",
     "text": [
      "Results: mean: -269.7 +/- 100.6, min: -365.0, max: 38.0,\n",
      "\n",
      "Testing...\n"
     ]
    },
    {
     "name": "stderr",
     "output_type": "stream",
     "text": [
      "                                                                                                                       \r"
     ]
    },
    {
     "name": "stdout",
     "output_type": "stream",
     "text": [
      "Results: mean: -247.6 +/- 134.1, min: -370.0 max: 66.0\n",
      "Total elapsed time: 15.42 minutes\n",
      "\n",
      "Epoch #6\n"
     ]
    },
    {
     "name": "stderr",
     "output_type": "stream",
     "text": [
      "                                                                                                                       \r"
     ]
    },
    {
     "name": "stdout",
     "output_type": "stream",
     "text": [
      "Results: mean: -230.0 +/- 126.3, min: -370.0, max: 58.0,\n",
      "\n",
      "Testing...\n"
     ]
    },
    {
     "name": "stderr",
     "output_type": "stream",
     "text": [
      "                                                                                                                       \r"
     ]
    },
    {
     "name": "stdout",
     "output_type": "stream",
     "text": [
      "Results: mean: -239.8 +/- 122.2, min: -315.0 max: 66.0\n",
      "Total elapsed time: 18.50 minutes\n",
      "\n",
      "Epoch #7\n"
     ]
    },
    {
     "name": "stderr",
     "output_type": "stream",
     "text": [
      "                                                                                                                       \r"
     ]
    },
    {
     "name": "stdout",
     "output_type": "stream",
     "text": [
      "Results: mean: -225.5 +/- 132.8, min: -365.0, max: 58.0,\n",
      "\n",
      "Testing...\n"
     ]
    },
    {
     "name": "stderr",
     "output_type": "stream",
     "text": [
      "                                                                                                                       \r"
     ]
    },
    {
     "name": "stdout",
     "output_type": "stream",
     "text": [
      "Results: mean: -233.2 +/- 120.1, min: -320.0 max: 30.0\n",
      "Total elapsed time: 21.53 minutes\n",
      "\n",
      "Epoch #8\n"
     ]
    },
    {
     "name": "stderr",
     "output_type": "stream",
     "text": [
      "                                                                                                                       \r"
     ]
    },
    {
     "name": "stdout",
     "output_type": "stream",
     "text": [
      "Results: mean: -244.6 +/- 116.3, min: -370.0, max: 58.0,\n",
      "\n",
      "Testing...\n"
     ]
    },
    {
     "name": "stderr",
     "output_type": "stream",
     "text": [
      "                                                                                                                       \r"
     ]
    },
    {
     "name": "stdout",
     "output_type": "stream",
     "text": [
      "Results: mean: -242.1 +/- 136.5, min: -370.0 max: 66.0\n",
      "Total elapsed time: 24.58 minutes\n",
      "\n",
      "Epoch #9\n"
     ]
    },
    {
     "name": "stderr",
     "output_type": "stream",
     "text": [
      "                                                                                                                       \r"
     ]
    },
    {
     "name": "stdout",
     "output_type": "stream",
     "text": [
      "Results: mean: -239.6 +/- 125.0, min: -370.0, max: 58.0,\n",
      "\n",
      "Testing...\n"
     ]
    },
    {
     "name": "stderr",
     "output_type": "stream",
     "text": [
      "                                                                                                                       \r"
     ]
    },
    {
     "name": "stdout",
     "output_type": "stream",
     "text": [
      "Results: mean: -212.6 +/- 142.1, min: -365.0 max: 66.0\n",
      "Total elapsed time: 27.57 minutes\n",
      "\n",
      "Epoch #10\n"
     ]
    },
    {
     "name": "stderr",
     "output_type": "stream",
     "text": [
      "                                                                                                                       \r"
     ]
    },
    {
     "name": "stdout",
     "output_type": "stream",
     "text": [
      "Results: mean: -254.5 +/- 110.5, min: -370.0, max: 58.0,\n",
      "\n",
      "Testing...\n"
     ]
    },
    {
     "name": "stderr",
     "output_type": "stream",
     "text": [
      "\u001b[32m[I 2023-05-04 09:02:35,617]\u001b[0m Trial 18 finished with value: -238.42 and parameters: {'learning_rate': 0.015739276996322896, 'batch_size': 32, 'replay_memory_size': 7000, 'discount_factor': 0.6492492973409609, 'frame_repeat': 20, 'optimizer': 'SGD', 'epsilon_decay': 0.9903458586455888}. Best is trial 8 with value: 6.7.\u001b[0m\n"
     ]
    },
    {
     "name": "stdout",
     "output_type": "stream",
     "text": [
      "Results: mean: -238.4 +/- 133.1, min: -370.0 max: 66.0\n",
      "Total elapsed time: 30.61 minutes\n",
      "\n",
      "Learning rate: 0.002927220202424731, Batch size: 32, Replay memory size: 10000,\n",
      "Discount factor: 0.10297868068256338, Frame repeat: 4, Optimizer: Adam, \n",
      "Epsilon decay: 0.9938738769210028\n",
      "\n",
      "Initializing doom...\n",
      "Doom initialized.\n",
      "Initializing New Model\n",
      "\n",
      "Epoch #1\n"
     ]
    },
    {
     "name": "stderr",
     "output_type": "stream",
     "text": [
      "                                                                                                                       \r"
     ]
    },
    {
     "name": "stdout",
     "output_type": "stream",
     "text": [
      "Results: mean: -189.8 +/- 179.4, min: -370.0, max: 74.0,\n",
      "\n",
      "Testing...\n"
     ]
    },
    {
     "name": "stderr",
     "output_type": "stream",
     "text": [
      "                                                                                                                       \r"
     ]
    },
    {
     "name": "stdout",
     "output_type": "stream",
     "text": [
      "Results: mean: -268.8 +/- 120.4, min: -370.0 max: 66.0\n",
      "Total elapsed time: 3.27 minutes\n",
      "\n",
      "Epoch #2\n"
     ]
    },
    {
     "name": "stderr",
     "output_type": "stream",
     "text": [
      "                                                                                                                       \r"
     ]
    },
    {
     "name": "stdout",
     "output_type": "stream",
     "text": [
      "Results: mean: -140.8 +/- 172.9, min: -370.0, max: 74.0,\n",
      "\n",
      "Testing...\n"
     ]
    },
    {
     "name": "stderr",
     "output_type": "stream",
     "text": [
      "                                                                                                                       \r"
     ]
    },
    {
     "name": "stdout",
     "output_type": "stream",
     "text": [
      "Results: mean: -257.0 +/- 122.7, min: -360.0 max: 66.0\n",
      "Total elapsed time: 6.47 minutes\n",
      "\n",
      "Epoch #3\n"
     ]
    },
    {
     "name": "stderr",
     "output_type": "stream",
     "text": [
      "                                                                                                                       \r"
     ]
    },
    {
     "name": "stdout",
     "output_type": "stream",
     "text": [
      "Results: mean: -190.4 +/- 179.0, min: -365.0, max: 74.0,\n",
      "\n",
      "Testing...\n"
     ]
    },
    {
     "name": "stderr",
     "output_type": "stream",
     "text": [
      "                                                                                                                       \r"
     ]
    },
    {
     "name": "stdout",
     "output_type": "stream",
     "text": [
      "Results: mean: -229.8 +/- 160.2, min: -370.0 max: 66.0\n",
      "Total elapsed time: 9.56 minutes\n",
      "\n",
      "Epoch #4\n"
     ]
    },
    {
     "name": "stderr",
     "output_type": "stream",
     "text": [
      "                                                                                                                       \r"
     ]
    },
    {
     "name": "stdout",
     "output_type": "stream",
     "text": [
      "Results: mean: -224.1 +/- 168.4, min: -370.0, max: 70.0,\n",
      "\n",
      "Testing...\n"
     ]
    },
    {
     "name": "stderr",
     "output_type": "stream",
     "text": [
      "                                                                                                                       \r"
     ]
    },
    {
     "name": "stdout",
     "output_type": "stream",
     "text": [
      "Results: mean: -294.4 +/- 56.6, min: -320.0 max: 42.0\n",
      "Total elapsed time: 12.89 minutes\n",
      "\n",
      "Epoch #5\n"
     ]
    },
    {
     "name": "stderr",
     "output_type": "stream",
     "text": [
      "                                                                                                                       \r"
     ]
    },
    {
     "name": "stdout",
     "output_type": "stream",
     "text": [
      "Results: mean: -272.5 +/- 152.7, min: -370.0, max: 74.0,\n",
      "\n",
      "Testing...\n"
     ]
    },
    {
     "name": "stderr",
     "output_type": "stream",
     "text": [
      "                                                                                                                       \r"
     ]
    },
    {
     "name": "stdout",
     "output_type": "stream",
     "text": [
      "Results: mean: -310.8 +/- 108.1, min: -370.0 max: 66.0\n",
      "Total elapsed time: 16.17 minutes\n",
      "\n",
      "Epoch #6\n"
     ]
    },
    {
     "name": "stderr",
     "output_type": "stream",
     "text": [
      "                                                                                                                       \r"
     ]
    },
    {
     "name": "stdout",
     "output_type": "stream",
     "text": [
      "Results: mean: -194.6 +/- 181.9, min: -375.0, max: 74.0,\n",
      "\n",
      "Testing...\n"
     ]
    },
    {
     "name": "stderr",
     "output_type": "stream",
     "text": [
      "                                                                                                                       \r"
     ]
    },
    {
     "name": "stdout",
     "output_type": "stream",
     "text": [
      "Results: mean: -283.3 +/- 91.9, min: -335.0 max: 66.0\n",
      "Total elapsed time: 19.45 minutes\n",
      "\n",
      "Epoch #7\n"
     ]
    },
    {
     "name": "stderr",
     "output_type": "stream",
     "text": [
      "                                                                                                                       \r"
     ]
    },
    {
     "name": "stdout",
     "output_type": "stream",
     "text": [
      "Results: mean: -298.8 +/- 118.8, min: -370.0, max: 70.0,\n",
      "\n",
      "Testing...\n"
     ]
    },
    {
     "name": "stderr",
     "output_type": "stream",
     "text": [
      "                                                                                                                       \r"
     ]
    },
    {
     "name": "stdout",
     "output_type": "stream",
     "text": [
      "Results: mean: -290.7 +/- 100.9, min: -370.0 max: 66.0\n",
      "Total elapsed time: 22.71 minutes\n",
      "\n",
      "Epoch #8\n"
     ]
    },
    {
     "name": "stderr",
     "output_type": "stream",
     "text": [
      "                                                                                                                       \r"
     ]
    },
    {
     "name": "stdout",
     "output_type": "stream",
     "text": [
      "Results: mean: -210.8 +/- 169.2, min: -375.0, max: 62.0,\n",
      "\n",
      "Testing...\n"
     ]
    },
    {
     "name": "stderr",
     "output_type": "stream",
     "text": [
      "                                                                                                                       \r"
     ]
    },
    {
     "name": "stdout",
     "output_type": "stream",
     "text": [
      "Results: mean: -249.2 +/- 111.2, min: -320.0 max: 66.0\n",
      "Total elapsed time: 25.91 minutes\n",
      "\n",
      "Epoch #9\n"
     ]
    },
    {
     "name": "stderr",
     "output_type": "stream",
     "text": [
      "                                                                                                                       \r"
     ]
    },
    {
     "name": "stdout",
     "output_type": "stream",
     "text": [
      "Results: mean: -129.0 +/- 158.3, min: -370.0, max: 74.0,\n",
      "\n",
      "Testing...\n"
     ]
    },
    {
     "name": "stderr",
     "output_type": "stream",
     "text": [
      "                                                                                                                       \r"
     ]
    },
    {
     "name": "stdout",
     "output_type": "stream",
     "text": [
      "Results: mean: -258.3 +/- 124.6, min: -370.0 max: 66.0\n",
      "Total elapsed time: 29.10 minutes\n",
      "\n",
      "Epoch #10\n"
     ]
    },
    {
     "name": "stderr",
     "output_type": "stream",
     "text": [
      "                                                                                                                       \r"
     ]
    },
    {
     "name": "stdout",
     "output_type": "stream",
     "text": [
      "Results: mean: -211.1 +/- 176.4, min: -370.0, max: 74.0,\n",
      "\n",
      "Testing...\n"
     ]
    },
    {
     "name": "stderr",
     "output_type": "stream",
     "text": [
      "\u001b[32m[I 2023-05-04 09:34:49,229]\u001b[0m Trial 19 finished with value: -222.37 and parameters: {'learning_rate': 0.002927220202424731, 'batch_size': 32, 'replay_memory_size': 10000, 'discount_factor': 0.10297868068256338, 'frame_repeat': 4, 'optimizer': 'Adam', 'epsilon_decay': 0.9938738769210028}. Best is trial 8 with value: 6.7.\u001b[0m\n"
     ]
    },
    {
     "name": "stdout",
     "output_type": "stream",
     "text": [
      "Results: mean: -222.4 +/- 137.3, min: -370.0 max: 66.0\n",
      "Total elapsed time: 32.21 minutes\n",
      "\n",
      "Learning rate: 0.0015806162981906288, Batch size: 128, Replay memory size: 2000,\n",
      "Discount factor: 0.855179616392384, Frame repeat: 16, Optimizer: Adam, \n",
      "Epsilon decay: 0.9951978853291241\n",
      "\n",
      "Initializing doom...\n",
      "Doom initialized.\n",
      "Initializing New Model\n",
      "\n",
      "Epoch #1\n"
     ]
    },
    {
     "name": "stderr",
     "output_type": "stream",
     "text": [
      "                                                                                                                       \r"
     ]
    },
    {
     "name": "stdout",
     "output_type": "stream",
     "text": [
      "Results: mean: -229.3 +/- 132.8, min: -355.0, max: 62.0,\n",
      "\n",
      "Testing...\n"
     ]
    },
    {
     "name": "stderr",
     "output_type": "stream",
     "text": [
      "                                                                                                                       \r"
     ]
    },
    {
     "name": "stdout",
     "output_type": "stream",
     "text": [
      "Results: mean: -297.4 +/- 47.9, min: -330.0 max: 18.0\n",
      "Total elapsed time: 3.43 minutes\n",
      "\n",
      "Epoch #2\n"
     ]
    },
    {
     "name": "stderr",
     "output_type": "stream",
     "text": [
      "                                                                                                                       \r"
     ]
    },
    {
     "name": "stdout",
     "output_type": "stream",
     "text": [
      "Results: mean: -223.7 +/- 128.7, min: -350.0, max: 62.0,\n",
      "\n",
      "Testing...\n"
     ]
    },
    {
     "name": "stderr",
     "output_type": "stream",
     "text": [
      "                                                                                                                       \r"
     ]
    },
    {
     "name": "stdout",
     "output_type": "stream",
     "text": [
      "Results: mean: -209.6 +/- 140.5, min: -365.0 max: 66.0\n",
      "Total elapsed time: 6.55 minutes\n",
      "\n",
      "Epoch #3\n"
     ]
    },
    {
     "name": "stderr",
     "output_type": "stream",
     "text": [
      "                                                                                                                       \r"
     ]
    },
    {
     "name": "stdout",
     "output_type": "stream",
     "text": [
      "Results: mean: -159.8 +/- 145.7, min: -365.0, max: 62.0,\n",
      "\n",
      "Testing...\n"
     ]
    },
    {
     "name": "stderr",
     "output_type": "stream",
     "text": [
      "                                                                                                                       \r"
     ]
    },
    {
     "name": "stdout",
     "output_type": "stream",
     "text": [
      "Results: mean: -45.7 +/- 146.1, min: -340.0 max: 66.0\n",
      "Total elapsed time: 9.20 minutes\n",
      "\n",
      "Epoch #4\n"
     ]
    },
    {
     "name": "stderr",
     "output_type": "stream",
     "text": [
      "                                                                                                                       \r"
     ]
    },
    {
     "name": "stdout",
     "output_type": "stream",
     "text": [
      "Results: mean: -103.5 +/- 146.2, min: -345.0, max: 62.0,\n",
      "\n",
      "Testing...\n"
     ]
    },
    {
     "name": "stderr",
     "output_type": "stream",
     "text": [
      "                                                                                                                       \r"
     ]
    },
    {
     "name": "stdout",
     "output_type": "stream",
     "text": [
      "Results: mean: -129.9 +/- 152.6, min: -360.0 max: 66.0\n",
      "Total elapsed time: 12.10 minutes\n",
      "\n",
      "Epoch #5\n"
     ]
    },
    {
     "name": "stderr",
     "output_type": "stream",
     "text": [
      "                                                                                                                       \r"
     ]
    },
    {
     "name": "stdout",
     "output_type": "stream",
     "text": [
      "Results: mean: -149.5 +/- 145.2, min: -350.0, max: 62.0,\n",
      "\n",
      "Testing...\n"
     ]
    },
    {
     "name": "stderr",
     "output_type": "stream",
     "text": [
      "                                                                                                                       \r"
     ]
    },
    {
     "name": "stdout",
     "output_type": "stream",
     "text": [
      "Results: mean: -186.9 +/- 150.5, min: -360.0 max: 66.0\n",
      "Total elapsed time: 15.18 minutes\n",
      "\n",
      "Epoch #6\n"
     ]
    },
    {
     "name": "stderr",
     "output_type": "stream",
     "text": [
      "                                                                                                                       \r"
     ]
    },
    {
     "name": "stdout",
     "output_type": "stream",
     "text": [
      "Results: mean: -121.6 +/- 158.3, min: -355.0, max: 62.0,\n",
      "\n",
      "Testing...\n"
     ]
    },
    {
     "name": "stderr",
     "output_type": "stream",
     "text": [
      "                                                                                                                       \r"
     ]
    },
    {
     "name": "stdout",
     "output_type": "stream",
     "text": [
      "Results: mean: -55.3 +/- 162.5, min: -360.0 max: 66.0\n",
      "Total elapsed time: 17.84 minutes\n",
      "\n",
      "Epoch #7\n"
     ]
    },
    {
     "name": "stderr",
     "output_type": "stream",
     "text": [
      "                                                                                                                       \r"
     ]
    },
    {
     "name": "stdout",
     "output_type": "stream",
     "text": [
      "Results: mean: -129.0 +/- 156.3, min: -370.0, max: 62.0,\n",
      "\n",
      "Testing...\n"
     ]
    },
    {
     "name": "stderr",
     "output_type": "stream",
     "text": [
      "                                                                                                                       \r"
     ]
    },
    {
     "name": "stdout",
     "output_type": "stream",
     "text": [
      "Results: mean: -145.6 +/- 137.2, min: -370.0 max: 66.0\n",
      "Total elapsed time: 20.84 minutes\n",
      "\n",
      "Epoch #8\n"
     ]
    },
    {
     "name": "stderr",
     "output_type": "stream",
     "text": [
      "                                                                                                                       \r"
     ]
    },
    {
     "name": "stdout",
     "output_type": "stream",
     "text": [
      "Results: mean: -174.4 +/- 161.3, min: -370.0, max: 62.0,\n",
      "\n",
      "Testing...\n"
     ]
    },
    {
     "name": "stderr",
     "output_type": "stream",
     "text": [
      "                                                                                                                       \r"
     ]
    },
    {
     "name": "stdout",
     "output_type": "stream",
     "text": [
      "Results: mean: -171.6 +/- 161.9, min: -365.0 max: 66.0\n",
      "Total elapsed time: 23.85 minutes\n",
      "\n",
      "Epoch #9\n"
     ]
    },
    {
     "name": "stderr",
     "output_type": "stream",
     "text": [
      "                                                                                                                       \r"
     ]
    },
    {
     "name": "stdout",
     "output_type": "stream",
     "text": [
      "Results: mean: -141.0 +/- 147.2, min: -365.0, max: 62.0,\n",
      "\n",
      "Testing...\n"
     ]
    },
    {
     "name": "stderr",
     "output_type": "stream",
     "text": [
      "                                                                                                                       \r"
     ]
    },
    {
     "name": "stdout",
     "output_type": "stream",
     "text": [
      "Results: mean: -36.3 +/- 105.4, min: -365.0 max: 54.0\n",
      "Total elapsed time: 26.48 minutes\n",
      "\n",
      "Epoch #10\n"
     ]
    },
    {
     "name": "stderr",
     "output_type": "stream",
     "text": [
      "                                                                                                                       \r"
     ]
    },
    {
     "name": "stdout",
     "output_type": "stream",
     "text": [
      "Results: mean: -108.0 +/- 142.3, min: -360.0, max: 62.0,\n",
      "\n",
      "Testing...\n"
     ]
    },
    {
     "name": "stderr",
     "output_type": "stream",
     "text": [
      "\u001b[32m[I 2023-05-04 10:04:10,332]\u001b[0m Trial 20 finished with value: -102.08 and parameters: {'learning_rate': 0.0015806162981906288, 'batch_size': 128, 'replay_memory_size': 2000, 'discount_factor': 0.855179616392384, 'frame_repeat': 16, 'optimizer': 'Adam', 'epsilon_decay': 0.9951978853291241}. Best is trial 8 with value: 6.7.\u001b[0m\n"
     ]
    },
    {
     "name": "stdout",
     "output_type": "stream",
     "text": [
      "Results: mean: -102.1 +/- 133.8, min: -355.0 max: 66.0\n",
      "Total elapsed time: 29.34 minutes\n",
      "\n",
      "Learning rate: 0.0013463575797055044, Batch size: 32, Replay memory size: 3000,\n",
      "Discount factor: 0.6876369058599789, Frame repeat: 20, Optimizer: Adam, \n",
      "Epsilon decay: 0.9944000490870955\n",
      "\n",
      "Initializing doom...\n",
      "Doom initialized.\n",
      "Initializing New Model\n",
      "\n",
      "Epoch #1\n"
     ]
    },
    {
     "name": "stderr",
     "output_type": "stream",
     "text": [
      "                                                                                                                       \r"
     ]
    },
    {
     "name": "stdout",
     "output_type": "stream",
     "text": [
      "Results: mean: -263.4 +/- 99.8, min: -350.0, max: 38.0,\n",
      "\n",
      "Testing...\n"
     ]
    },
    {
     "name": "stderr",
     "output_type": "stream",
     "text": [
      "                                                                                                                       \r"
     ]
    },
    {
     "name": "stdout",
     "output_type": "stream",
     "text": [
      "Results: mean: -260.8 +/- 96.2, min: -325.0 max: 66.0\n",
      "Total elapsed time: 3.26 minutes\n",
      "\n",
      "Epoch #2\n"
     ]
    },
    {
     "name": "stderr",
     "output_type": "stream",
     "text": [
      "                                                                                                                       \r"
     ]
    },
    {
     "name": "stdout",
     "output_type": "stream",
     "text": [
      "Results: mean: -241.2 +/- 122.0, min: -350.0, max: 58.0,\n",
      "\n",
      "Testing...\n"
     ]
    },
    {
     "name": "stderr",
     "output_type": "stream",
     "text": [
      "                                                                                                                       \r"
     ]
    },
    {
     "name": "stdout",
     "output_type": "stream",
     "text": [
      "Results: mean: -138.7 +/- 163.1, min: -340.0 max: 66.0\n",
      "Total elapsed time: 6.09 minutes\n",
      "\n",
      "Epoch #3\n"
     ]
    },
    {
     "name": "stderr",
     "output_type": "stream",
     "text": [
      "                                                                                                                       \r"
     ]
    },
    {
     "name": "stdout",
     "output_type": "stream",
     "text": [
      "Results: mean: -65.4 +/- 145.2, min: -350.0, max: 58.0,\n",
      "\n",
      "Testing...\n"
     ]
    },
    {
     "name": "stderr",
     "output_type": "stream",
     "text": [
      "                                                                                                                       \r"
     ]
    },
    {
     "name": "stdout",
     "output_type": "stream",
     "text": [
      "Results: mean: -61.0 +/- 126.5, min: -335.0 max: 66.0\n",
      "Total elapsed time: 8.71 minutes\n",
      "\n",
      "Epoch #4\n"
     ]
    },
    {
     "name": "stderr",
     "output_type": "stream",
     "text": [
      "                                                                                                                       \r"
     ]
    },
    {
     "name": "stdout",
     "output_type": "stream",
     "text": [
      "Results: mean: -68.9 +/- 151.5, min: -360.0, max: 58.0,\n",
      "\n",
      "Testing...\n"
     ]
    },
    {
     "name": "stderr",
     "output_type": "stream",
     "text": [
      "                                                                                                                       \r"
     ]
    },
    {
     "name": "stdout",
     "output_type": "stream",
     "text": [
      "Results: mean: -59.8 +/- 147.7, min: -350.0 max: 66.0\n",
      "Total elapsed time: 11.31 minutes\n",
      "\n",
      "Epoch #5\n"
     ]
    },
    {
     "name": "stderr",
     "output_type": "stream",
     "text": [
      "                                                                                                                       \r"
     ]
    },
    {
     "name": "stdout",
     "output_type": "stream",
     "text": [
      "Results: mean: -145.9 +/- 161.6, min: -330.0, max: 58.0,\n",
      "\n",
      "Testing...\n"
     ]
    },
    {
     "name": "stderr",
     "output_type": "stream",
     "text": [
      "                                                                                                                       \r"
     ]
    },
    {
     "name": "stdout",
     "output_type": "stream",
     "text": [
      "Results: mean: -11.5 +/- 119.3, min: -330.0 max: 66.0\n",
      "Total elapsed time: 13.77 minutes\n",
      "\n",
      "Epoch #6\n"
     ]
    },
    {
     "name": "stderr",
     "output_type": "stream",
     "text": [
      "                                                                                                                       \r"
     ]
    },
    {
     "name": "stdout",
     "output_type": "stream",
     "text": [
      "Results: mean: -103.4 +/- 142.1, min: -335.0, max: 58.0,\n",
      "\n",
      "Testing...\n"
     ]
    },
    {
     "name": "stderr",
     "output_type": "stream",
     "text": [
      "                                                                                                                       \r"
     ]
    },
    {
     "name": "stdout",
     "output_type": "stream",
     "text": [
      "Results: mean: -11.0 +/- 98.7, min: -320.0 max: 66.0\n",
      "Total elapsed time: 16.25 minutes\n",
      "\n",
      "Epoch #7\n"
     ]
    },
    {
     "name": "stderr",
     "output_type": "stream",
     "text": [
      "                                                                                                                       \r"
     ]
    },
    {
     "name": "stdout",
     "output_type": "stream",
     "text": [
      "Results: mean: -76.1 +/- 138.2, min: -330.0, max: 58.0,\n",
      "\n",
      "Testing...\n"
     ]
    },
    {
     "name": "stderr",
     "output_type": "stream",
     "text": [
      "                                                                                                                       \r"
     ]
    },
    {
     "name": "stdout",
     "output_type": "stream",
     "text": [
      "Results: mean: -54.4 +/- 135.6, min: -340.0 max: 66.0\n",
      "Total elapsed time: 18.85 minutes\n",
      "\n",
      "Epoch #8\n"
     ]
    },
    {
     "name": "stderr",
     "output_type": "stream",
     "text": [
      "                                                                                                                       \r"
     ]
    },
    {
     "name": "stdout",
     "output_type": "stream",
     "text": [
      "Results: mean: -102.8 +/- 150.5, min: -365.0, max: 58.0,\n",
      "\n",
      "Testing...\n"
     ]
    },
    {
     "name": "stderr",
     "output_type": "stream",
     "text": [
      "                                                                                                                       \r"
     ]
    },
    {
     "name": "stdout",
     "output_type": "stream",
     "text": [
      "Results: mean: -36.0 +/- 127.5, min: -340.0 max: 66.0\n",
      "Total elapsed time: 21.38 minutes\n",
      "\n",
      "Epoch #9\n"
     ]
    },
    {
     "name": "stderr",
     "output_type": "stream",
     "text": [
      "                                                                                                                       \r"
     ]
    },
    {
     "name": "stdout",
     "output_type": "stream",
     "text": [
      "Results: mean: -126.8 +/- 151.9, min: -340.0, max: 58.0,\n",
      "\n",
      "Testing...\n"
     ]
    },
    {
     "name": "stderr",
     "output_type": "stream",
     "text": [
      "                                                                                                                       \r"
     ]
    },
    {
     "name": "stdout",
     "output_type": "stream",
     "text": [
      "Results: mean: -59.8 +/- 136.1, min: -345.0 max: 66.0\n",
      "Total elapsed time: 24.00 minutes\n",
      "\n",
      "Epoch #10\n"
     ]
    },
    {
     "name": "stderr",
     "output_type": "stream",
     "text": [
      "                                                                                                                       \r"
     ]
    },
    {
     "name": "stdout",
     "output_type": "stream",
     "text": [
      "Results: mean: -79.4 +/- 151.0, min: -365.0, max: 58.0,\n",
      "\n",
      "Testing...\n"
     ]
    },
    {
     "name": "stderr",
     "output_type": "stream",
     "text": [
      "\u001b[32m[I 2023-05-04 10:30:48,875]\u001b[0m Trial 21 finished with value: -72.67 and parameters: {'learning_rate': 0.0013463575797055044, 'batch_size': 32, 'replay_memory_size': 3000, 'discount_factor': 0.6876369058599789, 'frame_repeat': 20, 'optimizer': 'Adam', 'epsilon_decay': 0.9944000490870955}. Best is trial 8 with value: 6.7.\u001b[0m\n"
     ]
    },
    {
     "name": "stdout",
     "output_type": "stream",
     "text": [
      "Results: mean: -72.7 +/- 142.3, min: -355.0 max: 66.0\n",
      "Total elapsed time: 26.63 minutes\n",
      "\n",
      "Learning rate: 0.0010655762138074892, Batch size: 32, Replay memory size: 2000,\n",
      "Discount factor: 0.5952555811649213, Frame repeat: 20, Optimizer: Adam, \n",
      "Epsilon decay: 0.9932331275180272\n",
      "\n",
      "Initializing doom...\n",
      "Doom initialized.\n",
      "Initializing New Model\n",
      "\n",
      "Epoch #1\n"
     ]
    },
    {
     "name": "stderr",
     "output_type": "stream",
     "text": [
      "                                                                                                                       \r"
     ]
    },
    {
     "name": "stdout",
     "output_type": "stream",
     "text": [
      "Results: mean: -252.1 +/- 116.9, min: -350.0, max: 58.0,\n",
      "\n",
      "Testing...\n"
     ]
    },
    {
     "name": "stderr",
     "output_type": "stream",
     "text": [
      "                                                                                                                       \r"
     ]
    },
    {
     "name": "stdout",
     "output_type": "stream",
     "text": [
      "Results: mean: -285.2 +/- 78.0, min: -335.0 max: 66.0\n",
      "Total elapsed time: 3.32 minutes\n",
      "\n",
      "Epoch #2\n"
     ]
    },
    {
     "name": "stderr",
     "output_type": "stream",
     "text": [
      "                                                                                                                       \r"
     ]
    },
    {
     "name": "stdout",
     "output_type": "stream",
     "text": [
      "Results: mean: -193.0 +/- 147.3, min: -365.0, max: 58.0,\n",
      "\n",
      "Testing...\n"
     ]
    },
    {
     "name": "stderr",
     "output_type": "stream",
     "text": [
      "                                                                                                                       \r"
     ]
    },
    {
     "name": "stdout",
     "output_type": "stream",
     "text": [
      "Results: mean: -59.5 +/- 148.6, min: -355.0 max: 66.0\n",
      "Total elapsed time: 5.92 minutes\n",
      "\n",
      "Epoch #3\n"
     ]
    },
    {
     "name": "stderr",
     "output_type": "stream",
     "text": [
      "                                                                                                                       \r"
     ]
    },
    {
     "name": "stdout",
     "output_type": "stream",
     "text": [
      "Results: mean: -229.6 +/- 128.8, min: -360.0, max: 58.0,\n",
      "\n",
      "Testing...\n"
     ]
    },
    {
     "name": "stderr",
     "output_type": "stream",
     "text": [
      "                                                                                                                       \r"
     ]
    },
    {
     "name": "stdout",
     "output_type": "stream",
     "text": [
      "Results: mean: -250.1 +/- 113.0, min: -350.0 max: 42.0\n",
      "Total elapsed time: 9.11 minutes\n",
      "\n",
      "Epoch #4\n"
     ]
    },
    {
     "name": "stderr",
     "output_type": "stream",
     "text": [
      "                                                                                                                       \r"
     ]
    },
    {
     "name": "stdout",
     "output_type": "stream",
     "text": [
      "Results: mean: -48.0 +/- 110.8, min: -355.0, max: 58.0,\n",
      "\n",
      "Testing...\n"
     ]
    },
    {
     "name": "stderr",
     "output_type": "stream",
     "text": [
      "                                                                                                                       \r"
     ]
    },
    {
     "name": "stdout",
     "output_type": "stream",
     "text": [
      "Results: mean: -90.6 +/- 121.8, min: -345.0 max: 66.0\n",
      "Total elapsed time: 12.11 minutes\n",
      "\n",
      "Epoch #5\n"
     ]
    },
    {
     "name": "stderr",
     "output_type": "stream",
     "text": [
      "                                                                                                                       \r"
     ]
    },
    {
     "name": "stdout",
     "output_type": "stream",
     "text": [
      "Results: mean: -145.8 +/- 139.7, min: -340.0, max: 58.0,\n",
      "\n",
      "Testing...\n"
     ]
    },
    {
     "name": "stderr",
     "output_type": "stream",
     "text": [
      "                                                                                                                       \r"
     ]
    },
    {
     "name": "stdout",
     "output_type": "stream",
     "text": [
      "Results: mean: -62.3 +/- 144.2, min: -335.0 max: 66.0\n",
      "Total elapsed time: 15.12 minutes\n",
      "\n",
      "Epoch #6\n"
     ]
    },
    {
     "name": "stderr",
     "output_type": "stream",
     "text": [
      "                                                                                                                       \r"
     ]
    },
    {
     "name": "stdout",
     "output_type": "stream",
     "text": [
      "Results: mean: -48.3 +/- 107.3, min: -365.0, max: 58.0,\n",
      "\n",
      "Testing...\n"
     ]
    },
    {
     "name": "stderr",
     "output_type": "stream",
     "text": [
      "                                                                                                                       \r"
     ]
    },
    {
     "name": "stdout",
     "output_type": "stream",
     "text": [
      "Results: mean: -39.8 +/- 93.7, min: -350.0 max: 66.0\n",
      "Total elapsed time: 18.00 minutes\n",
      "\n",
      "Epoch #7\n"
     ]
    },
    {
     "name": "stderr",
     "output_type": "stream",
     "text": [
      "                                                                                                                       \r"
     ]
    },
    {
     "name": "stdout",
     "output_type": "stream",
     "text": [
      "Results: mean: -37.1 +/- 100.6, min: -335.0, max: 58.0,\n",
      "\n",
      "Testing...\n"
     ]
    },
    {
     "name": "stderr",
     "output_type": "stream",
     "text": [
      "                                                                                                                       \r"
     ]
    },
    {
     "name": "stdout",
     "output_type": "stream",
     "text": [
      "Results: mean: -104.9 +/- 133.5, min: -345.0 max: 66.0\n",
      "Total elapsed time: 21.09 minutes\n",
      "\n",
      "Epoch #8\n"
     ]
    },
    {
     "name": "stderr",
     "output_type": "stream",
     "text": [
      "                                                                                                                       \r"
     ]
    },
    {
     "name": "stdout",
     "output_type": "stream",
     "text": [
      "Results: mean: -79.9 +/- 138.9, min: -370.0, max: 58.0,\n",
      "\n",
      "Testing...\n"
     ]
    },
    {
     "name": "stderr",
     "output_type": "stream",
     "text": [
      "                                                                                                                       \r"
     ]
    },
    {
     "name": "stdout",
     "output_type": "stream",
     "text": [
      "Results: mean: -52.8 +/- 111.8, min: -355.0 max: 66.0\n",
      "Total elapsed time: 23.97 minutes\n",
      "\n",
      "Epoch #9\n"
     ]
    },
    {
     "name": "stderr",
     "output_type": "stream",
     "text": [
      "                                                                                                                       \r"
     ]
    },
    {
     "name": "stdout",
     "output_type": "stream",
     "text": [
      "Results: mean: -69.6 +/- 133.8, min: -345.0, max: 58.0,\n",
      "\n",
      "Testing...\n"
     ]
    },
    {
     "name": "stderr",
     "output_type": "stream",
     "text": [
      "                                                                                                                       \r"
     ]
    },
    {
     "name": "stdout",
     "output_type": "stream",
     "text": [
      "Results: mean: -124.8 +/- 139.4, min: -345.0 max: 66.0\n",
      "Total elapsed time: 27.09 minutes\n",
      "\n",
      "Epoch #10\n"
     ]
    },
    {
     "name": "stderr",
     "output_type": "stream",
     "text": [
      "                                                                                                                       \r"
     ]
    },
    {
     "name": "stdout",
     "output_type": "stream",
     "text": [
      "Results: mean: -134.6 +/- 149.4, min: -335.0, max: 58.0,\n",
      "\n",
      "Testing...\n"
     ]
    },
    {
     "name": "stderr",
     "output_type": "stream",
     "text": [
      "\u001b[32m[I 2023-05-04 11:01:00,310]\u001b[0m Trial 22 finished with value: -115.51 and parameters: {'learning_rate': 0.0010655762138074892, 'batch_size': 32, 'replay_memory_size': 2000, 'discount_factor': 0.5952555811649213, 'frame_repeat': 20, 'optimizer': 'Adam', 'epsilon_decay': 0.9932331275180272}. Best is trial 8 with value: 6.7.\u001b[0m\n"
     ]
    },
    {
     "name": "stdout",
     "output_type": "stream",
     "text": [
      "Results: mean: -115.5 +/- 144.5, min: -330.0 max: 66.0\n",
      "Total elapsed time: 30.18 minutes\n",
      "\n",
      "Learning rate: 0.0021136578872659293, Batch size: 32, Replay memory size: 5000,\n",
      "Discount factor: 0.7586001762224035, Frame repeat: 20, Optimizer: Adam, \n",
      "Epsilon decay: 0.9951110900751383\n",
      "\n",
      "Initializing doom...\n",
      "Doom initialized.\n",
      "Initializing New Model\n",
      "\n",
      "Epoch #1\n"
     ]
    },
    {
     "name": "stderr",
     "output_type": "stream",
     "text": [
      "                                                                                                                       \r"
     ]
    },
    {
     "name": "stdout",
     "output_type": "stream",
     "text": [
      "Results: mean: -250.9 +/- 111.0, min: -355.0, max: 58.0,\n",
      "\n",
      "Testing...\n"
     ]
    },
    {
     "name": "stderr",
     "output_type": "stream",
     "text": [
      "                                                                                                                       \r"
     ]
    },
    {
     "name": "stdout",
     "output_type": "stream",
     "text": [
      "Results: mean: -278.2 +/- 90.1, min: -345.0 max: 66.0\n",
      "Total elapsed time: 3.53 minutes\n",
      "\n",
      "Epoch #2\n"
     ]
    },
    {
     "name": "stderr",
     "output_type": "stream",
     "text": [
      "                                                                                                                       \r"
     ]
    },
    {
     "name": "stdout",
     "output_type": "stream",
     "text": [
      "Results: mean: -232.4 +/- 132.8, min: -360.0, max: 58.0,\n",
      "\n",
      "Testing...\n"
     ]
    },
    {
     "name": "stderr",
     "output_type": "stream",
     "text": [
      "                                                                                                                       \r"
     ]
    },
    {
     "name": "stdout",
     "output_type": "stream",
     "text": [
      "Results: mean: -235.5 +/- 126.9, min: -355.0 max: 66.0\n",
      "Total elapsed time: 6.94 minutes\n",
      "\n",
      "Epoch #3\n"
     ]
    },
    {
     "name": "stderr",
     "output_type": "stream",
     "text": [
      "                                                                                                                       \r"
     ]
    },
    {
     "name": "stdout",
     "output_type": "stream",
     "text": [
      "Results: mean: -97.8 +/- 143.1, min: -365.0, max: 58.0,\n",
      "\n",
      "Testing...\n"
     ]
    },
    {
     "name": "stderr",
     "output_type": "stream",
     "text": [
      "                                                                                                                       \r"
     ]
    },
    {
     "name": "stdout",
     "output_type": "stream",
     "text": [
      "Results: mean: -32.1 +/- 125.9, min: -370.0 max: 66.0\n",
      "Total elapsed time: 9.69 minutes\n",
      "\n",
      "Epoch #4\n"
     ]
    },
    {
     "name": "stderr",
     "output_type": "stream",
     "text": [
      "                                                                                                                       \r"
     ]
    },
    {
     "name": "stdout",
     "output_type": "stream",
     "text": [
      "Results: mean: -39.6 +/- 136.0, min: -360.0, max: 58.0,\n",
      "\n",
      "Testing...\n"
     ]
    },
    {
     "name": "stderr",
     "output_type": "stream",
     "text": [
      "                                                                                                                       \r"
     ]
    },
    {
     "name": "stdout",
     "output_type": "stream",
     "text": [
      "Results: mean: 10.5 +/- 96.4, min: -315.0 max: 66.0\n",
      "Total elapsed time: 12.30 minutes\n",
      "\n",
      "Epoch #5\n"
     ]
    },
    {
     "name": "stderr",
     "output_type": "stream",
     "text": [
      "                                                                                                                       \r"
     ]
    },
    {
     "name": "stdout",
     "output_type": "stream",
     "text": [
      "Results: mean: -27.0 +/- 122.7, min: -365.0, max: 58.0,\n",
      "\n",
      "Testing...\n"
     ]
    },
    {
     "name": "stderr",
     "output_type": "stream",
     "text": [
      "                                                                                                                       \r"
     ]
    },
    {
     "name": "stdout",
     "output_type": "stream",
     "text": [
      "Results: mean: -67.3 +/- 125.1, min: -370.0 max: 66.0\n",
      "Total elapsed time: 15.18 minutes\n",
      "\n",
      "Epoch #6\n"
     ]
    },
    {
     "name": "stderr",
     "output_type": "stream",
     "text": [
      "                                                                                                                       \r"
     ]
    },
    {
     "name": "stdout",
     "output_type": "stream",
     "text": [
      "Results: mean: -31.8 +/- 112.7, min: -360.0, max: 58.0,\n",
      "\n",
      "Testing...\n"
     ]
    },
    {
     "name": "stderr",
     "output_type": "stream",
     "text": [
      "                                                                                                                       \r"
     ]
    },
    {
     "name": "stdout",
     "output_type": "stream",
     "text": [
      "Results: mean: 0.7 +/- 66.3, min: -345.0 max: 66.0\n",
      "Total elapsed time: 17.88 minutes\n",
      "\n",
      "Epoch #7\n"
     ]
    },
    {
     "name": "stderr",
     "output_type": "stream",
     "text": [
      "                                                                                                                       \r"
     ]
    },
    {
     "name": "stdout",
     "output_type": "stream",
     "text": [
      "Results: mean: -10.8 +/- 84.8, min: -365.0, max: 58.0,\n",
      "\n",
      "Testing...\n"
     ]
    },
    {
     "name": "stderr",
     "output_type": "stream",
     "text": [
      "                                                                                                                       \r"
     ]
    },
    {
     "name": "stdout",
     "output_type": "stream",
     "text": [
      "Results: mean: -12.5 +/- 83.1, min: -365.0 max: 66.0\n",
      "Total elapsed time: 20.63 minutes\n",
      "\n",
      "Epoch #8\n"
     ]
    },
    {
     "name": "stderr",
     "output_type": "stream",
     "text": [
      "                                                                                                                       \r"
     ]
    },
    {
     "name": "stdout",
     "output_type": "stream",
     "text": [
      "Results: mean: 0.6 +/- 76.8, min: -360.0, max: 58.0,\n",
      "\n",
      "Testing...\n"
     ]
    },
    {
     "name": "stderr",
     "output_type": "stream",
     "text": [
      "                                                                                                                       \r"
     ]
    },
    {
     "name": "stdout",
     "output_type": "stream",
     "text": [
      "Results: mean: -19.6 +/- 99.0, min: -370.0 max: 66.0\n",
      "Total elapsed time: 23.37 minutes\n",
      "\n",
      "Epoch #9\n"
     ]
    },
    {
     "name": "stderr",
     "output_type": "stream",
     "text": [
      "                                                                                                                       \r"
     ]
    },
    {
     "name": "stdout",
     "output_type": "stream",
     "text": [
      "Results: mean: -21.9 +/- 96.2, min: -365.0, max: 58.0,\n",
      "\n",
      "Testing...\n"
     ]
    },
    {
     "name": "stderr",
     "output_type": "stream",
     "text": [
      "                                                                                                                       \r"
     ]
    },
    {
     "name": "stdout",
     "output_type": "stream",
     "text": [
      "Results: mean: -4.5 +/- 54.1, min: -340.0 max: 66.0\n",
      "Total elapsed time: 26.09 minutes\n",
      "\n",
      "Epoch #10\n"
     ]
    },
    {
     "name": "stderr",
     "output_type": "stream",
     "text": [
      "                                                                                                                       \r"
     ]
    },
    {
     "name": "stdout",
     "output_type": "stream",
     "text": [
      "Results: mean: -11.2 +/- 111.0, min: -365.0, max: 58.0,\n",
      "\n",
      "Testing...\n"
     ]
    },
    {
     "name": "stderr",
     "output_type": "stream",
     "text": [
      "\u001b[32m[I 2023-05-04 11:29:54,842]\u001b[0m Trial 23 finished with value: -28.24 and parameters: {'learning_rate': 0.0021136578872659293, 'batch_size': 32, 'replay_memory_size': 5000, 'discount_factor': 0.7586001762224035, 'frame_repeat': 20, 'optimizer': 'Adam', 'epsilon_decay': 0.9951110900751383}. Best is trial 8 with value: 6.7.\u001b[0m\n"
     ]
    },
    {
     "name": "stdout",
     "output_type": "stream",
     "text": [
      "Results: mean: -28.2 +/- 78.2, min: -350.0 max: 66.0\n",
      "Total elapsed time: 28.90 minutes\n",
      "\n",
      "Learning rate: 0.0010299488474128334, Batch size: 32, Replay memory size: 3000,\n",
      "Discount factor: 0.5108334825618408, Frame repeat: 20, Optimizer: Adam, \n",
      "Epsilon decay: 0.9930188091181306\n",
      "\n",
      "Initializing doom...\n",
      "Doom initialized.\n",
      "Initializing New Model\n",
      "\n",
      "Epoch #1\n"
     ]
    },
    {
     "name": "stderr",
     "output_type": "stream",
     "text": [
      "                                                                                                                       \r"
     ]
    },
    {
     "name": "stdout",
     "output_type": "stream",
     "text": [
      "Results: mean: -262.5 +/- 99.1, min: -355.0, max: 58.0,\n",
      "\n",
      "Testing...\n"
     ]
    },
    {
     "name": "stderr",
     "output_type": "stream",
     "text": [
      "                                                                                                                       \r"
     ]
    },
    {
     "name": "stdout",
     "output_type": "stream",
     "text": [
      "Results: mean: -290.5 +/- 63.6, min: -315.0 max: 54.0\n",
      "Total elapsed time: 3.60 minutes\n",
      "\n",
      "Epoch #2\n"
     ]
    },
    {
     "name": "stderr",
     "output_type": "stream",
     "text": [
      "                                                                                                                       \r"
     ]
    },
    {
     "name": "stdout",
     "output_type": "stream",
     "text": [
      "Results: mean: -187.4 +/- 151.4, min: -360.0, max: 58.0,\n",
      "\n",
      "Testing...\n"
     ]
    },
    {
     "name": "stderr",
     "output_type": "stream",
     "text": [
      "                                                                                                                       \r"
     ]
    },
    {
     "name": "stdout",
     "output_type": "stream",
     "text": [
      "Results: mean: -205.2 +/- 151.3, min: -340.0 max: 66.0\n",
      "Total elapsed time: 6.90 minutes\n",
      "\n",
      "Epoch #3\n"
     ]
    },
    {
     "name": "stderr",
     "output_type": "stream",
     "text": [
      "                                                                                                                       \r"
     ]
    },
    {
     "name": "stdout",
     "output_type": "stream",
     "text": [
      "Results: mean: -139.4 +/- 150.6, min: -340.0, max: 58.0,\n",
      "\n",
      "Testing...\n"
     ]
    },
    {
     "name": "stderr",
     "output_type": "stream",
     "text": [
      "                                                                                                                       \r"
     ]
    },
    {
     "name": "stdout",
     "output_type": "stream",
     "text": [
      "Results: mean: -122.1 +/- 142.4, min: -330.0 max: 66.0\n",
      "Total elapsed time: 10.01 minutes\n",
      "\n",
      "Epoch #4\n"
     ]
    },
    {
     "name": "stderr",
     "output_type": "stream",
     "text": [
      "                                                                                                                       \r"
     ]
    },
    {
     "name": "stdout",
     "output_type": "stream",
     "text": [
      "Results: mean: -159.8 +/- 157.4, min: -365.0, max: 58.0,\n",
      "\n",
      "Testing...\n"
     ]
    },
    {
     "name": "stderr",
     "output_type": "stream",
     "text": [
      "                                                                                                                       \r"
     ]
    },
    {
     "name": "stdout",
     "output_type": "stream",
     "text": [
      "Results: mean: -139.2 +/- 140.7, min: -350.0 max: 66.0\n",
      "Total elapsed time: 13.16 minutes\n",
      "\n",
      "Epoch #5\n"
     ]
    },
    {
     "name": "stderr",
     "output_type": "stream",
     "text": [
      "                                                                                                                       \r"
     ]
    },
    {
     "name": "stdout",
     "output_type": "stream",
     "text": [
      "Results: mean: -58.1 +/- 139.7, min: -355.0, max: 58.0,\n",
      "\n",
      "Testing...\n"
     ]
    },
    {
     "name": "stderr",
     "output_type": "stream",
     "text": [
      "                                                                                                                       \r"
     ]
    },
    {
     "name": "stdout",
     "output_type": "stream",
     "text": [
      "Results: mean: -128.3 +/- 149.4, min: -360.0 max: 66.0\n",
      "Total elapsed time: 16.24 minutes\n",
      "\n",
      "Epoch #6\n"
     ]
    },
    {
     "name": "stderr",
     "output_type": "stream",
     "text": [
      "                                                                                                                       \r"
     ]
    },
    {
     "name": "stdout",
     "output_type": "stream",
     "text": [
      "Results: mean: -30.4 +/- 120.1, min: -350.0, max: 58.0,\n",
      "\n",
      "Testing...\n"
     ]
    },
    {
     "name": "stderr",
     "output_type": "stream",
     "text": [
      "                                                                                                                       \r"
     ]
    },
    {
     "name": "stdout",
     "output_type": "stream",
     "text": [
      "Results: mean: -108.9 +/- 132.8, min: -350.0 max: 66.0\n",
      "Total elapsed time: 19.33 minutes\n",
      "\n",
      "Epoch #7\n"
     ]
    },
    {
     "name": "stderr",
     "output_type": "stream",
     "text": [
      "                                                                                                                       \r"
     ]
    },
    {
     "name": "stdout",
     "output_type": "stream",
     "text": [
      "Results: mean: -29.1 +/- 126.0, min: -340.0, max: 58.0,\n",
      "\n",
      "Testing...\n"
     ]
    },
    {
     "name": "stderr",
     "output_type": "stream",
     "text": [
      "                                                                                                                       \r"
     ]
    },
    {
     "name": "stdout",
     "output_type": "stream",
     "text": [
      "Results: mean: -51.5 +/- 100.6, min: -335.0 max: 66.0\n",
      "Total elapsed time: 22.22 minutes\n",
      "\n",
      "Epoch #8\n"
     ]
    },
    {
     "name": "stderr",
     "output_type": "stream",
     "text": [
      "                                                                                                                       \r"
     ]
    },
    {
     "name": "stdout",
     "output_type": "stream",
     "text": [
      "Results: mean: -12.2 +/- 104.6, min: -360.0, max: 58.0,\n",
      "\n",
      "Testing...\n"
     ]
    },
    {
     "name": "stderr",
     "output_type": "stream",
     "text": [
      "                                                                                                                       \r"
     ]
    },
    {
     "name": "stdout",
     "output_type": "stream",
     "text": [
      "Results: mean: -24.7 +/- 80.1, min: -335.0 max: 66.0\n",
      "Total elapsed time: 24.99 minutes\n",
      "\n",
      "Epoch #9\n"
     ]
    },
    {
     "name": "stderr",
     "output_type": "stream",
     "text": [
      "                                                                                                                       \r"
     ]
    },
    {
     "name": "stdout",
     "output_type": "stream",
     "text": [
      "Results: mean: 1.6 +/- 90.9, min: -350.0, max: 58.0,\n",
      "\n",
      "Testing...\n"
     ]
    },
    {
     "name": "stderr",
     "output_type": "stream",
     "text": [
      "                                                                                                                       \r"
     ]
    },
    {
     "name": "stdout",
     "output_type": "stream",
     "text": [
      "Results: mean: -31.4 +/- 119.0, min: -350.0 max: 66.0\n",
      "Total elapsed time: 27.78 minutes\n",
      "\n",
      "Epoch #10\n"
     ]
    },
    {
     "name": "stderr",
     "output_type": "stream",
     "text": [
      "                                                                                                                       \r"
     ]
    },
    {
     "name": "stdout",
     "output_type": "stream",
     "text": [
      "Results: mean: -27.1 +/- 110.0, min: -345.0, max: 58.0,\n",
      "\n",
      "Testing...\n"
     ]
    },
    {
     "name": "stderr",
     "output_type": "stream",
     "text": [
      "\u001b[32m[I 2023-05-04 12:00:33,970]\u001b[0m Trial 24 finished with value: -41.06 and parameters: {'learning_rate': 0.0010299488474128334, 'batch_size': 32, 'replay_memory_size': 3000, 'discount_factor': 0.5108334825618408, 'frame_repeat': 20, 'optimizer': 'Adam', 'epsilon_decay': 0.9930188091181306}. Best is trial 8 with value: 6.7.\u001b[0m\n"
     ]
    },
    {
     "name": "stdout",
     "output_type": "stream",
     "text": [
      "Results: mean: -41.1 +/- 107.3, min: -345.0 max: 66.0\n",
      "Total elapsed time: 30.64 minutes\n",
      "\n",
      "Learning rate: 0.0016301050996061603, Batch size: 32, Replay memory size: 4000,\n",
      "Discount factor: 0.8983048570337204, Frame repeat: 12, Optimizer: Adam, \n",
      "Epsilon decay: 0.9943548462495772\n",
      "\n",
      "Initializing doom...\n",
      "Doom initialized.\n",
      "Initializing New Model\n",
      "\n",
      "Epoch #1\n"
     ]
    },
    {
     "name": "stderr",
     "output_type": "stream",
     "text": [
      "                                                                                                                       \r"
     ]
    },
    {
     "name": "stdout",
     "output_type": "stream",
     "text": [
      "Results: mean: -261.7 +/- 106.0, min: -355.0, max: 66.0,\n",
      "\n",
      "Testing...\n"
     ]
    },
    {
     "name": "stderr",
     "output_type": "stream",
     "text": [
      "                                                                                                                       \r"
     ]
    },
    {
     "name": "stdout",
     "output_type": "stream",
     "text": [
      "Results: mean: -225.6 +/- 128.1, min: -325.0 max: 66.0\n",
      "Total elapsed time: 3.45 minutes\n",
      "\n",
      "Epoch #2\n"
     ]
    },
    {
     "name": "stderr",
     "output_type": "stream",
     "text": [
      "                                                                                                                       \r"
     ]
    },
    {
     "name": "stdout",
     "output_type": "stream",
     "text": [
      "Results: mean: -238.9 +/- 140.6, min: -370.0, max: 66.0,\n",
      "\n",
      "Testing...\n"
     ]
    },
    {
     "name": "stderr",
     "output_type": "stream",
     "text": [
      "                                                                                                                       \r"
     ]
    },
    {
     "name": "stdout",
     "output_type": "stream",
     "text": [
      "Results: mean: -234.7 +/- 131.5, min: -350.0 max: 66.0\n",
      "Total elapsed time: 6.89 minutes\n",
      "\n",
      "Epoch #3\n"
     ]
    },
    {
     "name": "stderr",
     "output_type": "stream",
     "text": [
      "                                                                                                                       \r"
     ]
    },
    {
     "name": "stdout",
     "output_type": "stream",
     "text": [
      "Results: mean: -96.6 +/- 164.6, min: -340.0, max: 66.0,\n",
      "\n",
      "Testing...\n"
     ]
    },
    {
     "name": "stderr",
     "output_type": "stream",
     "text": [
      "                                                                                                                       \r"
     ]
    },
    {
     "name": "stdout",
     "output_type": "stream",
     "text": [
      "Results: mean: -186.3 +/- 155.7, min: -350.0 max: 66.0\n",
      "Total elapsed time: 10.15 minutes\n",
      "\n",
      "Epoch #4\n"
     ]
    },
    {
     "name": "stderr",
     "output_type": "stream",
     "text": [
      "                                                                                                                       \r"
     ]
    },
    {
     "name": "stdout",
     "output_type": "stream",
     "text": [
      "Results: mean: -47.1 +/- 131.5, min: -360.0, max: 66.0,\n",
      "\n",
      "Testing...\n"
     ]
    },
    {
     "name": "stderr",
     "output_type": "stream",
     "text": [
      "                                                                                                                       \r"
     ]
    },
    {
     "name": "stdout",
     "output_type": "stream",
     "text": [
      "Results: mean: -139.9 +/- 166.9, min: -365.0 max: 66.0\n",
      "Total elapsed time: 13.24 minutes\n",
      "\n",
      "Epoch #5\n"
     ]
    },
    {
     "name": "stderr",
     "output_type": "stream",
     "text": [
      "                                                                                                                       \r"
     ]
    },
    {
     "name": "stdout",
     "output_type": "stream",
     "text": [
      "Results: mean: -8.1 +/- 109.2, min: -370.0, max: 66.0,\n",
      "\n",
      "Testing...\n"
     ]
    },
    {
     "name": "stderr",
     "output_type": "stream",
     "text": [
      "                                                                                                                       \r"
     ]
    },
    {
     "name": "stdout",
     "output_type": "stream",
     "text": [
      "Results: mean: -19.6 +/- 112.5, min: -360.0 max: 66.0\n",
      "Total elapsed time: 15.96 minutes\n",
      "\n",
      "Epoch #6\n"
     ]
    },
    {
     "name": "stderr",
     "output_type": "stream",
     "text": [
      "                                                                                                                       \r"
     ]
    },
    {
     "name": "stdout",
     "output_type": "stream",
     "text": [
      "Results: mean: -5.0 +/- 91.2, min: -365.0, max: 66.0,\n",
      "\n",
      "Testing...\n"
     ]
    },
    {
     "name": "stderr",
     "output_type": "stream",
     "text": [
      "                                                                                                                       \r"
     ]
    },
    {
     "name": "stdout",
     "output_type": "stream",
     "text": [
      "Results: mean: 0.6 +/- 97.7, min: -340.0 max: 66.0\n",
      "Total elapsed time: 18.66 minutes\n",
      "\n",
      "Epoch #7\n"
     ]
    },
    {
     "name": "stderr",
     "output_type": "stream",
     "text": [
      "                                                                                                                       \r"
     ]
    },
    {
     "name": "stdout",
     "output_type": "stream",
     "text": [
      "Results: mean: -23.2 +/- 88.3, min: -355.0, max: 66.0,\n",
      "\n",
      "Testing...\n"
     ]
    },
    {
     "name": "stderr",
     "output_type": "stream",
     "text": [
      "                                                                                                                       \r"
     ]
    },
    {
     "name": "stdout",
     "output_type": "stream",
     "text": [
      "Results: mean: -30.9 +/- 107.6, min: -340.0 max: 66.0\n",
      "Total elapsed time: 21.46 minutes\n",
      "\n",
      "Epoch #8\n"
     ]
    },
    {
     "name": "stderr",
     "output_type": "stream",
     "text": [
      "                                                                                                                       \r"
     ]
    },
    {
     "name": "stdout",
     "output_type": "stream",
     "text": [
      "Results: mean: 3.5 +/- 90.3, min: -345.0, max: 66.0,\n",
      "\n",
      "Testing...\n"
     ]
    },
    {
     "name": "stderr",
     "output_type": "stream",
     "text": [
      "                                                                                                                       \r"
     ]
    },
    {
     "name": "stdout",
     "output_type": "stream",
     "text": [
      "Results: mean: 7.8 +/- 95.0, min: -360.0 max: 66.0\n",
      "Total elapsed time: 24.09 minutes\n",
      "\n",
      "Epoch #9\n"
     ]
    },
    {
     "name": "stderr",
     "output_type": "stream",
     "text": [
      "                                                                                                                       \r"
     ]
    },
    {
     "name": "stdout",
     "output_type": "stream",
     "text": [
      "Results: mean: 14.1 +/- 79.5, min: -355.0, max: 66.0,\n",
      "\n",
      "Testing...\n"
     ]
    },
    {
     "name": "stderr",
     "output_type": "stream",
     "text": [
      "                                                                                                                       \r"
     ]
    },
    {
     "name": "stdout",
     "output_type": "stream",
     "text": [
      "Results: mean: -3.9 +/- 98.1, min: -345.0 max: 66.0\n",
      "Total elapsed time: 26.78 minutes\n",
      "\n",
      "Epoch #10\n"
     ]
    },
    {
     "name": "stderr",
     "output_type": "stream",
     "text": [
      "                                                                                                                       \r"
     ]
    },
    {
     "name": "stdout",
     "output_type": "stream",
     "text": [
      "Results: mean: -23.3 +/- 102.9, min: -350.0, max: 66.0,\n",
      "\n",
      "Testing...\n"
     ]
    },
    {
     "name": "stderr",
     "output_type": "stream",
     "text": [
      "\u001b[32m[I 2023-05-04 12:30:10,815]\u001b[0m Trial 25 finished with value: -38.4 and parameters: {'learning_rate': 0.0016301050996061603, 'batch_size': 32, 'replay_memory_size': 4000, 'discount_factor': 0.8983048570337204, 'frame_repeat': 12, 'optimizer': 'Adam', 'epsilon_decay': 0.9943548462495772}. Best is trial 8 with value: 6.7.\u001b[0m\n"
     ]
    },
    {
     "name": "stdout",
     "output_type": "stream",
     "text": [
      "Results: mean: -38.4 +/- 92.3, min: -330.0 max: 66.0\n",
      "Total elapsed time: 29.60 minutes\n",
      "\n",
      "Learning rate: 0.0029453851392184146, Batch size: 32, Replay memory size: 2000,\n",
      "Discount factor: 0.8239044329132881, Frame repeat: 20, Optimizer: Adam, \n",
      "Epsilon decay: 0.9956351591184386\n",
      "\n",
      "Initializing doom...\n",
      "Doom initialized.\n",
      "Initializing New Model\n",
      "\n",
      "Epoch #1\n"
     ]
    },
    {
     "name": "stderr",
     "output_type": "stream",
     "text": [
      "                                                                                                                       \r"
     ]
    },
    {
     "name": "stdout",
     "output_type": "stream",
     "text": [
      "Results: mean: -226.9 +/- 138.5, min: -360.0, max: 58.0,\n",
      "\n",
      "Testing...\n"
     ]
    },
    {
     "name": "stderr",
     "output_type": "stream",
     "text": [
      "                                                                                                                       \r"
     ]
    },
    {
     "name": "stdout",
     "output_type": "stream",
     "text": [
      "Results: mean: -236.6 +/- 123.5, min: -330.0 max: 66.0\n",
      "Total elapsed time: 3.50 minutes\n",
      "\n",
      "Epoch #2\n"
     ]
    },
    {
     "name": "stderr",
     "output_type": "stream",
     "text": [
      "                                                                                                                       \r"
     ]
    },
    {
     "name": "stdout",
     "output_type": "stream",
     "text": [
      "Results: mean: -246.7 +/- 111.2, min: -360.0, max: 58.0,\n",
      "\n",
      "Testing...\n"
     ]
    },
    {
     "name": "stderr",
     "output_type": "stream",
     "text": [
      "                                                                                                                       \r"
     ]
    },
    {
     "name": "stdout",
     "output_type": "stream",
     "text": [
      "Results: mean: -258.9 +/- 116.2, min: -320.0 max: 66.0\n",
      "Total elapsed time: 7.04 minutes\n",
      "\n",
      "Epoch #3\n"
     ]
    },
    {
     "name": "stderr",
     "output_type": "stream",
     "text": [
      "                                                                                                                       \r"
     ]
    },
    {
     "name": "stdout",
     "output_type": "stream",
     "text": [
      "Results: mean: -198.5 +/- 136.8, min: -345.0, max: 58.0,\n",
      "\n",
      "Testing...\n"
     ]
    },
    {
     "name": "stderr",
     "output_type": "stream",
     "text": [
      "                                                                                                                       \r"
     ]
    },
    {
     "name": "stdout",
     "output_type": "stream",
     "text": [
      "Results: mean: -46.0 +/- 133.7, min: -340.0 max: 66.0\n",
      "Total elapsed time: 9.87 minutes\n",
      "\n",
      "Epoch #4\n"
     ]
    },
    {
     "name": "stderr",
     "output_type": "stream",
     "text": [
      "                                                                                                                       \r"
     ]
    },
    {
     "name": "stdout",
     "output_type": "stream",
     "text": [
      "Results: mean: -119.9 +/- 146.8, min: -370.0, max: 58.0,\n",
      "\n",
      "Testing...\n"
     ]
    },
    {
     "name": "stderr",
     "output_type": "stream",
     "text": [
      "                                                                                                                       \r"
     ]
    },
    {
     "name": "stdout",
     "output_type": "stream",
     "text": [
      "Results: mean: -150.1 +/- 142.2, min: -360.0 max: 66.0\n",
      "Total elapsed time: 13.06 minutes\n",
      "\n",
      "Epoch #5\n"
     ]
    },
    {
     "name": "stderr",
     "output_type": "stream",
     "text": [
      "                                                                                                                       \r"
     ]
    },
    {
     "name": "stdout",
     "output_type": "stream",
     "text": [
      "Results: mean: -110.6 +/- 138.2, min: -360.0, max: 58.0,\n",
      "\n",
      "Testing...\n"
     ]
    },
    {
     "name": "stderr",
     "output_type": "stream",
     "text": [
      "                                                                                                                       \r"
     ]
    },
    {
     "name": "stdout",
     "output_type": "stream",
     "text": [
      "Results: mean: -99.1 +/- 127.0, min: -355.0 max: 66.0\n",
      "Total elapsed time: 16.13 minutes\n",
      "\n",
      "Epoch #6\n"
     ]
    },
    {
     "name": "stderr",
     "output_type": "stream",
     "text": [
      "                                                                                                                       \r"
     ]
    },
    {
     "name": "stdout",
     "output_type": "stream",
     "text": [
      "Results: mean: -102.4 +/- 150.9, min: -340.0, max: 58.0,\n",
      "\n",
      "Testing...\n"
     ]
    },
    {
     "name": "stderr",
     "output_type": "stream",
     "text": [
      "                                                                                                                       \r"
     ]
    },
    {
     "name": "stdout",
     "output_type": "stream",
     "text": [
      "Results: mean: -140.7 +/- 142.3, min: -350.0 max: 66.0\n",
      "Total elapsed time: 19.29 minutes\n",
      "\n",
      "Epoch #7\n"
     ]
    },
    {
     "name": "stderr",
     "output_type": "stream",
     "text": [
      "                                                                                                                       \r"
     ]
    },
    {
     "name": "stdout",
     "output_type": "stream",
     "text": [
      "Results: mean: -129.5 +/- 152.0, min: -340.0, max: 58.0,\n",
      "\n",
      "Testing...\n"
     ]
    },
    {
     "name": "stderr",
     "output_type": "stream",
     "text": [
      "                                                                                                                       \r"
     ]
    },
    {
     "name": "stdout",
     "output_type": "stream",
     "text": [
      "Results: mean: -45.5 +/- 123.7, min: -345.0 max: 66.0\n",
      "Total elapsed time: 22.17 minutes\n",
      "\n",
      "Epoch #8\n"
     ]
    },
    {
     "name": "stderr",
     "output_type": "stream",
     "text": [
      "                                                                                                                       \r"
     ]
    },
    {
     "name": "stdout",
     "output_type": "stream",
     "text": [
      "Results: mean: -152.3 +/- 151.7, min: -340.0, max: 58.0,\n",
      "\n",
      "Testing...\n"
     ]
    },
    {
     "name": "stderr",
     "output_type": "stream",
     "text": [
      "                                                                                                                       \r"
     ]
    },
    {
     "name": "stdout",
     "output_type": "stream",
     "text": [
      "Results: mean: -144.7 +/- 144.1, min: -350.0 max: 66.0\n",
      "Total elapsed time: 25.36 minutes\n",
      "\n",
      "Epoch #9\n"
     ]
    },
    {
     "name": "stderr",
     "output_type": "stream",
     "text": [
      "                                                                                                                       \r"
     ]
    },
    {
     "name": "stdout",
     "output_type": "stream",
     "text": [
      "Results: mean: -178.1 +/- 142.7, min: -345.0, max: 58.0,\n",
      "\n",
      "Testing...\n"
     ]
    },
    {
     "name": "stderr",
     "output_type": "stream",
     "text": [
      "                                                                                                                       \r"
     ]
    },
    {
     "name": "stdout",
     "output_type": "stream",
     "text": [
      "Results: mean: -169.3 +/- 145.8, min: -355.0 max: 66.0\n",
      "Total elapsed time: 28.66 minutes\n",
      "\n",
      "Epoch #10\n"
     ]
    },
    {
     "name": "stderr",
     "output_type": "stream",
     "text": [
      "                                                                                                                       \r"
     ]
    },
    {
     "name": "stdout",
     "output_type": "stream",
     "text": [
      "Results: mean: -142.9 +/- 152.6, min: -350.0, max: 58.0,\n",
      "\n",
      "Testing...\n"
     ]
    },
    {
     "name": "stderr",
     "output_type": "stream",
     "text": [
      "\u001b[32m[I 2023-05-04 13:02:00,705]\u001b[0m Trial 26 finished with value: -128.49 and parameters: {'learning_rate': 0.0029453851392184146, 'batch_size': 32, 'replay_memory_size': 2000, 'discount_factor': 0.8239044329132881, 'frame_repeat': 20, 'optimizer': 'Adam', 'epsilon_decay': 0.9956351591184386}. Best is trial 8 with value: 6.7.\u001b[0m\n"
     ]
    },
    {
     "name": "stdout",
     "output_type": "stream",
     "text": [
      "Results: mean: -128.5 +/- 164.0, min: -360.0 max: 66.0\n",
      "Total elapsed time: 31.82 minutes\n",
      "\n",
      "Learning rate: 0.0020014558874817136, Batch size: 32, Replay memory size: 5000,\n",
      "Discount factor: 0.9819096890856012, Frame repeat: 20, Optimizer: SGD, \n",
      "Epsilon decay: 0.994627150066392\n",
      "\n",
      "Initializing doom...\n",
      "Doom initialized.\n",
      "Initializing New Model\n",
      "\n",
      "Epoch #1\n"
     ]
    },
    {
     "name": "stderr",
     "output_type": "stream",
     "text": [
      "                                                                                                                       \r"
     ]
    },
    {
     "name": "stdout",
     "output_type": "stream",
     "text": [
      "Results: mean: -258.6 +/- 107.5, min: -355.0, max: 58.0,\n",
      "\n",
      "Testing...\n"
     ]
    },
    {
     "name": "stderr",
     "output_type": "stream",
     "text": [
      "                                                                                                                       \r"
     ]
    },
    {
     "name": "stdout",
     "output_type": "stream",
     "text": [
      "Results: mean: -212.1 +/- 139.3, min: -320.0 max: 66.0\n",
      "Total elapsed time: 3.32 minutes\n",
      "\n",
      "Epoch #2\n"
     ]
    },
    {
     "name": "stderr",
     "output_type": "stream",
     "text": [
      "                                                                                                                       \r"
     ]
    },
    {
     "name": "stdout",
     "output_type": "stream",
     "text": [
      "Results: mean: -200.9 +/- 148.8, min: -345.0, max: 58.0,\n",
      "\n",
      "Testing...\n"
     ]
    },
    {
     "name": "stderr",
     "output_type": "stream",
     "text": [
      "                                                                                                                       \r"
     ]
    },
    {
     "name": "stdout",
     "output_type": "stream",
     "text": [
      "Results: mean: -236.2 +/- 140.3, min: -325.0 max: 66.0\n",
      "Total elapsed time: 6.65 minutes\n",
      "\n",
      "Epoch #3\n"
     ]
    },
    {
     "name": "stderr",
     "output_type": "stream",
     "text": [
      "                                                                                                                       \r"
     ]
    },
    {
     "name": "stdout",
     "output_type": "stream",
     "text": [
      "Results: mean: -92.1 +/- 169.1, min: -360.0, max: 58.0,\n",
      "\n",
      "Testing...\n"
     ]
    },
    {
     "name": "stderr",
     "output_type": "stream",
     "text": [
      "                                                                                                                       \r"
     ]
    },
    {
     "name": "stdout",
     "output_type": "stream",
     "text": [
      "Results: mean: -51.1 +/- 158.3, min: -370.0 max: 66.0\n",
      "Total elapsed time: 9.42 minutes\n",
      "\n",
      "Epoch #4\n"
     ]
    },
    {
     "name": "stderr",
     "output_type": "stream",
     "text": [
      "                                                                                                                       \r"
     ]
    },
    {
     "name": "stdout",
     "output_type": "stream",
     "text": [
      "Results: mean: -28.4 +/- 131.3, min: -360.0, max: 58.0,\n",
      "\n",
      "Testing...\n"
     ]
    },
    {
     "name": "stderr",
     "output_type": "stream",
     "text": [
      "                                                                                                                       \r"
     ]
    },
    {
     "name": "stdout",
     "output_type": "stream",
     "text": [
      "Results: mean: 3.0 +/- 101.3, min: -345.0 max: 66.0\n",
      "Total elapsed time: 12.03 minutes\n",
      "\n",
      "Epoch #5\n"
     ]
    },
    {
     "name": "stderr",
     "output_type": "stream",
     "text": [
      "                                                                                                                       \r"
     ]
    },
    {
     "name": "stdout",
     "output_type": "stream",
     "text": [
      "Results: mean: -87.1 +/- 146.0, min: -360.0, max: 58.0,\n",
      "\n",
      "Testing...\n"
     ]
    },
    {
     "name": "stderr",
     "output_type": "stream",
     "text": [
      "                                                                                                                       \r"
     ]
    },
    {
     "name": "stdout",
     "output_type": "stream",
     "text": [
      "Results: mean: -116.3 +/- 153.6, min: -365.0 max: 66.0\n",
      "Total elapsed time: 15.00 minutes\n",
      "\n",
      "Epoch #6\n"
     ]
    },
    {
     "name": "stderr",
     "output_type": "stream",
     "text": [
      "                                                                                                                       \r"
     ]
    },
    {
     "name": "stdout",
     "output_type": "stream",
     "text": [
      "Results: mean: -44.5 +/- 122.6, min: -370.0, max: 58.0,\n",
      "\n",
      "Testing...\n"
     ]
    },
    {
     "name": "stderr",
     "output_type": "stream",
     "text": [
      "                                                                                                                       \r"
     ]
    },
    {
     "name": "stdout",
     "output_type": "stream",
     "text": [
      "Results: mean: -29.4 +/- 100.8, min: -365.0 max: 66.0\n",
      "Total elapsed time: 17.78 minutes\n",
      "\n",
      "Epoch #7\n"
     ]
    },
    {
     "name": "stderr",
     "output_type": "stream",
     "text": [
      "                                                                                                                       \r"
     ]
    },
    {
     "name": "stdout",
     "output_type": "stream",
     "text": [
      "Results: mean: -37.8 +/- 101.0, min: -365.0, max: 58.0,\n",
      "\n",
      "Testing...\n"
     ]
    },
    {
     "name": "stderr",
     "output_type": "stream",
     "text": [
      "                                                                                                                       \r"
     ]
    },
    {
     "name": "stdout",
     "output_type": "stream",
     "text": [
      "Results: mean: -24.6 +/- 83.1, min: -360.0 max: 66.0\n",
      "Total elapsed time: 20.53 minutes\n",
      "\n",
      "Epoch #8\n"
     ]
    },
    {
     "name": "stderr",
     "output_type": "stream",
     "text": [
      "                                                                                                                       \r"
     ]
    },
    {
     "name": "stdout",
     "output_type": "stream",
     "text": [
      "Results: mean: -43.9 +/- 112.2, min: -365.0, max: 58.0,\n",
      "\n",
      "Testing...\n"
     ]
    },
    {
     "name": "stderr",
     "output_type": "stream",
     "text": [
      "                                                                                                                       \r"
     ]
    },
    {
     "name": "stdout",
     "output_type": "stream",
     "text": [
      "Results: mean: -17.6 +/- 89.8, min: -370.0 max: 66.0\n",
      "Total elapsed time: 23.20 minutes\n",
      "\n",
      "Epoch #9\n"
     ]
    },
    {
     "name": "stderr",
     "output_type": "stream",
     "text": [
      "                                                                                                                       \r"
     ]
    },
    {
     "name": "stdout",
     "output_type": "stream",
     "text": [
      "Results: mean: -24.5 +/- 100.3, min: -365.0, max: 58.0,\n",
      "\n",
      "Testing...\n"
     ]
    },
    {
     "name": "stderr",
     "output_type": "stream",
     "text": [
      "                                                                                                                       \r"
     ]
    },
    {
     "name": "stdout",
     "output_type": "stream",
     "text": [
      "Results: mean: -8.7 +/- 64.1, min: -300.0 max: 66.0\n",
      "Total elapsed time: 25.87 minutes\n",
      "\n",
      "Epoch #10\n"
     ]
    },
    {
     "name": "stderr",
     "output_type": "stream",
     "text": [
      "                                                                                                                       \r"
     ]
    },
    {
     "name": "stdout",
     "output_type": "stream",
     "text": [
      "Results: mean: -28.2 +/- 100.9, min: -360.0, max: 58.0,\n",
      "\n",
      "Testing...\n"
     ]
    },
    {
     "name": "stderr",
     "output_type": "stream",
     "text": [
      "\u001b[32m[I 2023-05-04 13:30:21,053]\u001b[0m Trial 27 finished with value: 20.99 and parameters: {'learning_rate': 0.0020014558874817136, 'batch_size': 32, 'replay_memory_size': 5000, 'discount_factor': 0.9819096890856012, 'frame_repeat': 20, 'optimizer': 'SGD', 'epsilon_decay': 0.994627150066392}. Best is trial 27 with value: 20.99.\u001b[0m\n"
     ]
    },
    {
     "name": "stdout",
     "output_type": "stream",
     "text": [
      "Results: mean: 21.0 +/- 79.3, min: -355.0 max: 66.0\n",
      "Total elapsed time: 28.33 minutes\n",
      "\n",
      "Learning rate: 0.005466073191235375, Batch size: 128, Replay memory size: 5000,\n",
      "Discount factor: 0.9884621999498455, Frame repeat: 12, Optimizer: SGD, \n",
      "Epsilon decay: 0.9937756907499967\n",
      "\n",
      "Initializing doom...\n",
      "Doom initialized.\n",
      "Initializing New Model\n",
      "\n",
      "Epoch #1\n"
     ]
    },
    {
     "name": "stderr",
     "output_type": "stream",
     "text": [
      "                                                                                                                       \r"
     ]
    },
    {
     "name": "stdout",
     "output_type": "stream",
     "text": [
      "Results: mean: -208.7 +/- 138.9, min: -360.0, max: 66.0,\n",
      "\n",
      "Testing...\n"
     ]
    },
    {
     "name": "stderr",
     "output_type": "stream",
     "text": [
      "                                                                                                                       \r"
     ]
    },
    {
     "name": "stdout",
     "output_type": "stream",
     "text": [
      "Results: mean: -220.3 +/- 132.6, min: -345.0 max: 54.0\n",
      "Total elapsed time: 3.32 minutes\n",
      "\n",
      "Epoch #2\n"
     ]
    },
    {
     "name": "stderr",
     "output_type": "stream",
     "text": [
      "                                                                                                                       \r"
     ]
    },
    {
     "name": "stdout",
     "output_type": "stream",
     "text": [
      "Results: mean: -227.4 +/- 135.3, min: -355.0, max: 66.0,\n",
      "\n",
      "Testing...\n"
     ]
    },
    {
     "name": "stderr",
     "output_type": "stream",
     "text": [
      "                                                                                                                       \r"
     ]
    },
    {
     "name": "stdout",
     "output_type": "stream",
     "text": [
      "Results: mean: -251.9 +/- 119.2, min: -330.0 max: 66.0\n",
      "Total elapsed time: 6.71 minutes\n",
      "\n",
      "Epoch #3\n"
     ]
    },
    {
     "name": "stderr",
     "output_type": "stream",
     "text": [
      "                                                                                                                       \r"
     ]
    },
    {
     "name": "stdout",
     "output_type": "stream",
     "text": [
      "Results: mean: -172.8 +/- 153.5, min: -340.0, max: 66.0,\n",
      "\n",
      "Testing...\n"
     ]
    },
    {
     "name": "stderr",
     "output_type": "stream",
     "text": [
      "                                                                                                                       \r"
     ]
    },
    {
     "name": "stdout",
     "output_type": "stream",
     "text": [
      "Results: mean: -146.8 +/- 151.5, min: -335.0 max: 66.0\n",
      "Total elapsed time: 9.84 minutes\n",
      "\n",
      "Epoch #4\n"
     ]
    },
    {
     "name": "stderr",
     "output_type": "stream",
     "text": [
      "                                                                                                                       \r"
     ]
    },
    {
     "name": "stdout",
     "output_type": "stream",
     "text": [
      "Results: mean: -116.9 +/- 158.1, min: -360.0, max: 66.0,\n",
      "\n",
      "Testing...\n"
     ]
    },
    {
     "name": "stderr",
     "output_type": "stream",
     "text": [
      "                                                                                                                       \r"
     ]
    },
    {
     "name": "stdout",
     "output_type": "stream",
     "text": [
      "Results: mean: -82.5 +/- 174.4, min: -320.0 max: 66.0\n",
      "Total elapsed time: 12.70 minutes\n",
      "\n",
      "Epoch #5\n"
     ]
    },
    {
     "name": "stderr",
     "output_type": "stream",
     "text": [
      "                                                                                                                       \r"
     ]
    },
    {
     "name": "stdout",
     "output_type": "stream",
     "text": [
      "Results: mean: -115.9 +/- 175.8, min: -330.0, max: 66.0,\n",
      "\n",
      "Testing...\n"
     ]
    },
    {
     "name": "stderr",
     "output_type": "stream",
     "text": [
      "                                                                                                                       \r"
     ]
    },
    {
     "name": "stdout",
     "output_type": "stream",
     "text": [
      "Results: mean: -70.9 +/- 154.1, min: -345.0 max: 66.0\n",
      "Total elapsed time: 15.57 minutes\n",
      "\n",
      "Epoch #6\n"
     ]
    },
    {
     "name": "stderr",
     "output_type": "stream",
     "text": [
      "                                                                                                                       \r"
     ]
    },
    {
     "name": "stdout",
     "output_type": "stream",
     "text": [
      "Results: mean: -146.9 +/- 163.5, min: -335.0, max: 66.0,\n",
      "\n",
      "Testing...\n"
     ]
    },
    {
     "name": "stderr",
     "output_type": "stream",
     "text": [
      "                                                                                                                       \r"
     ]
    },
    {
     "name": "stdout",
     "output_type": "stream",
     "text": [
      "Results: mean: -208.9 +/- 143.6, min: -345.0 max: 66.0\n",
      "Total elapsed time: 18.85 minutes\n",
      "\n",
      "Epoch #7\n"
     ]
    },
    {
     "name": "stderr",
     "output_type": "stream",
     "text": [
      "                                                                                                                       \r"
     ]
    },
    {
     "name": "stdout",
     "output_type": "stream",
     "text": [
      "Results: mean: -97.8 +/- 175.8, min: -360.0, max: 66.0,\n",
      "\n",
      "Testing...\n"
     ]
    },
    {
     "name": "stderr",
     "output_type": "stream",
     "text": [
      "                                                                                                                       \r"
     ]
    },
    {
     "name": "stdout",
     "output_type": "stream",
     "text": [
      "Results: mean: -215.5 +/- 160.5, min: -355.0 max: 66.0\n",
      "Total elapsed time: 22.09 minutes\n",
      "\n",
      "Epoch #8\n"
     ]
    },
    {
     "name": "stderr",
     "output_type": "stream",
     "text": [
      "                                                                                                                       \r"
     ]
    },
    {
     "name": "stdout",
     "output_type": "stream",
     "text": [
      "Results: mean: -119.7 +/- 174.2, min: -355.0, max: 66.0,\n",
      "\n",
      "Testing...\n"
     ]
    },
    {
     "name": "stderr",
     "output_type": "stream",
     "text": [
      "                                                                                                                       \r"
     ]
    },
    {
     "name": "stdout",
     "output_type": "stream",
     "text": [
      "Results: mean: -61.4 +/- 147.2, min: -325.0 max: 66.0\n",
      "Total elapsed time: 24.95 minutes\n",
      "\n",
      "Epoch #9\n"
     ]
    },
    {
     "name": "stderr",
     "output_type": "stream",
     "text": [
      "                                                                                                                       \r"
     ]
    },
    {
     "name": "stdout",
     "output_type": "stream",
     "text": [
      "Results: mean: -136.6 +/- 172.3, min: -335.0, max: 66.0,\n",
      "\n",
      "Testing...\n"
     ]
    },
    {
     "name": "stderr",
     "output_type": "stream",
     "text": [
      "                                                                                                                       \r"
     ]
    },
    {
     "name": "stdout",
     "output_type": "stream",
     "text": [
      "Results: mean: -242.5 +/- 121.4, min: -325.0 max: 66.0\n",
      "Total elapsed time: 28.36 minutes\n",
      "\n",
      "Epoch #10\n"
     ]
    },
    {
     "name": "stderr",
     "output_type": "stream",
     "text": [
      "                                                                                                                       \r"
     ]
    },
    {
     "name": "stdout",
     "output_type": "stream",
     "text": [
      "Results: mean: -136.3 +/- 167.6, min: -355.0, max: 66.0,\n",
      "\n",
      "Testing...\n"
     ]
    },
    {
     "name": "stderr",
     "output_type": "stream",
     "text": [
      "\u001b[32m[I 2023-05-04 14:02:02,663]\u001b[0m Trial 28 finished with value: -229.5 and parameters: {'learning_rate': 0.005466073191235375, 'batch_size': 128, 'replay_memory_size': 5000, 'discount_factor': 0.9884621999498455, 'frame_repeat': 12, 'optimizer': 'SGD', 'epsilon_decay': 0.9937756907499967}. Best is trial 27 with value: 20.99.\u001b[0m\n"
     ]
    },
    {
     "name": "stdout",
     "output_type": "stream",
     "text": [
      "Results: mean: -229.5 +/- 129.7, min: -365.0 max: 54.0\n",
      "Total elapsed time: 31.68 minutes\n",
      "\n",
      "Learning rate: 0.0022151153282167694, Batch size: 32, Replay memory size: 7000,\n",
      "Discount factor: 0.9123363553485123, Frame repeat: 8, Optimizer: SGD, \n",
      "Epsilon decay: 0.9975360301785264\n",
      "\n",
      "Initializing doom...\n",
      "Doom initialized.\n",
      "Initializing New Model\n",
      "\n",
      "Epoch #1\n"
     ]
    },
    {
     "name": "stderr",
     "output_type": "stream",
     "text": [
      "                                                                                                                       \r"
     ]
    },
    {
     "name": "stdout",
     "output_type": "stream",
     "text": [
      "Results: mean: -192.5 +/- 185.3, min: -365.0, max: 70.0,\n",
      "\n",
      "Testing...\n"
     ]
    },
    {
     "name": "stderr",
     "output_type": "stream",
     "text": [
      "                                                                                                                       \r"
     ]
    },
    {
     "name": "stdout",
     "output_type": "stream",
     "text": [
      "Results: mean: -268.1 +/- 143.9, min: -370.0 max: 54.0\n",
      "Total elapsed time: 3.30 minutes\n",
      "\n",
      "Epoch #2\n"
     ]
    },
    {
     "name": "stderr",
     "output_type": "stream",
     "text": [
      "                                                                                                                       \r"
     ]
    },
    {
     "name": "stdout",
     "output_type": "stream",
     "text": [
      "Results: mean: -260.6 +/- 118.6, min: -365.0, max: 70.0,\n",
      "\n",
      "Testing...\n"
     ]
    },
    {
     "name": "stderr",
     "output_type": "stream",
     "text": [
      "                                                                                                                       \r"
     ]
    },
    {
     "name": "stdout",
     "output_type": "stream",
     "text": [
      "Results: mean: -252.6 +/- 105.0, min: -320.0 max: 66.0\n",
      "Total elapsed time: 6.68 minutes\n",
      "\n",
      "Epoch #3\n"
     ]
    },
    {
     "name": "stderr",
     "output_type": "stream",
     "text": [
      "                                                                                                                       \r"
     ]
    },
    {
     "name": "stdout",
     "output_type": "stream",
     "text": [
      "Results: mean: -56.3 +/- 138.2, min: -335.0, max: 70.0,\n",
      "\n",
      "Testing...\n"
     ]
    },
    {
     "name": "stderr",
     "output_type": "stream",
     "text": [
      "                                                                                                                       \r"
     ]
    },
    {
     "name": "stdout",
     "output_type": "stream",
     "text": [
      "Results: mean: -195.6 +/- 143.9, min: -345.0 max: 66.0\n",
      "Total elapsed time: 9.88 minutes\n",
      "\n",
      "Epoch #4\n"
     ]
    },
    {
     "name": "stderr",
     "output_type": "stream",
     "text": [
      "                                                                                                                       \r"
     ]
    },
    {
     "name": "stdout",
     "output_type": "stream",
     "text": [
      "Results: mean: 2.7 +/- 112.3, min: -360.0, max: 70.0,\n",
      "\n",
      "Testing...\n"
     ]
    },
    {
     "name": "stderr",
     "output_type": "stream",
     "text": [
      "                                                                                                                       \r"
     ]
    },
    {
     "name": "stdout",
     "output_type": "stream",
     "text": [
      "Results: mean: -12.6 +/- 124.6, min: -355.0 max: 66.0\n",
      "Total elapsed time: 12.47 minutes\n",
      "\n",
      "Epoch #5\n"
     ]
    },
    {
     "name": "stderr",
     "output_type": "stream",
     "text": [
      "                                                                                                                       \r"
     ]
    },
    {
     "name": "stdout",
     "output_type": "stream",
     "text": [
      "Results: mean: 25.2 +/- 86.2, min: -360.0, max: 70.0,\n",
      "\n",
      "Testing...\n"
     ]
    },
    {
     "name": "stderr",
     "output_type": "stream",
     "text": [
      "                                                                                                                       \r"
     ]
    },
    {
     "name": "stdout",
     "output_type": "stream",
     "text": [
      "Results: mean: -3.3 +/- 83.6, min: -360.0 max: 66.0\n",
      "Total elapsed time: 15.10 minutes\n",
      "\n",
      "Epoch #6\n"
     ]
    },
    {
     "name": "stderr",
     "output_type": "stream",
     "text": [
      "                                                                                                                       \r"
     ]
    },
    {
     "name": "stdout",
     "output_type": "stream",
     "text": [
      "Results: mean: 23.2 +/- 87.1, min: -360.0, max: 70.0,\n",
      "\n",
      "Testing...\n"
     ]
    },
    {
     "name": "stderr",
     "output_type": "stream",
     "text": [
      "                                                                                                                       \r"
     ]
    },
    {
     "name": "stdout",
     "output_type": "stream",
     "text": [
      "Results: mean: 13.4 +/- 107.6, min: -340.0 max: 66.0\n",
      "Total elapsed time: 17.67 minutes\n",
      "\n",
      "Epoch #7\n"
     ]
    },
    {
     "name": "stderr",
     "output_type": "stream",
     "text": [
      "                                                                                                                       \r"
     ]
    },
    {
     "name": "stdout",
     "output_type": "stream",
     "text": [
      "Results: mean: 1.4 +/- 117.4, min: -355.0, max: 70.0,\n",
      "\n",
      "Testing...\n"
     ]
    },
    {
     "name": "stderr",
     "output_type": "stream",
     "text": [
      "                                                                                                                       \r"
     ]
    },
    {
     "name": "stdout",
     "output_type": "stream",
     "text": [
      "Results: mean: 2.5 +/- 107.5, min: -340.0 max: 66.0\n",
      "Total elapsed time: 20.21 minutes\n",
      "\n",
      "Epoch #8\n"
     ]
    },
    {
     "name": "stderr",
     "output_type": "stream",
     "text": [
      "                                                                                                                       \r"
     ]
    },
    {
     "name": "stdout",
     "output_type": "stream",
     "text": [
      "Results: mean: 15.3 +/- 108.3, min: -350.0, max: 70.0,\n",
      "\n",
      "Testing...\n"
     ]
    },
    {
     "name": "stderr",
     "output_type": "stream",
     "text": [
      "                                                                                                                       \r"
     ]
    },
    {
     "name": "stdout",
     "output_type": "stream",
     "text": [
      "Results: mean: -45.6 +/- 150.2, min: -350.0 max: 66.0\n",
      "Total elapsed time: 22.91 minutes\n",
      "\n",
      "Epoch #9\n"
     ]
    },
    {
     "name": "stderr",
     "output_type": "stream",
     "text": [
      "                                                                                                                       \r"
     ]
    },
    {
     "name": "stdout",
     "output_type": "stream",
     "text": [
      "Results: mean: 2.5 +/- 84.3, min: -350.0, max: 70.0,\n",
      "\n",
      "Testing...\n"
     ]
    },
    {
     "name": "stderr",
     "output_type": "stream",
     "text": [
      "                                                                                                                       \r"
     ]
    },
    {
     "name": "stdout",
     "output_type": "stream",
     "text": [
      "Results: mean: -57.7 +/- 104.3, min: -365.0 max: 66.0\n",
      "Total elapsed time: 25.72 minutes\n",
      "\n",
      "Epoch #10\n"
     ]
    },
    {
     "name": "stderr",
     "output_type": "stream",
     "text": [
      "                                                                                                                       \r"
     ]
    },
    {
     "name": "stdout",
     "output_type": "stream",
     "text": [
      "Results: mean: -45.2 +/- 139.6, min: -360.0, max: 70.0,\n",
      "\n",
      "Testing...\n"
     ]
    },
    {
     "name": "stderr",
     "output_type": "stream",
     "text": [
      "\u001b[32m[I 2023-05-04 14:30:53,516]\u001b[0m Trial 29 finished with value: -157.38 and parameters: {'learning_rate': 0.0022151153282167694, 'batch_size': 32, 'replay_memory_size': 7000, 'discount_factor': 0.9123363553485123, 'frame_repeat': 8, 'optimizer': 'SGD', 'epsilon_decay': 0.9975360301785264}. Best is trial 27 with value: 20.99.\u001b[0m\n"
     ]
    },
    {
     "name": "stdout",
     "output_type": "stream",
     "text": [
      "Results: mean: -157.4 +/- 149.0, min: -340.0 max: 66.0\n",
      "Total elapsed time: 28.84 minutes\n",
      "\n",
      "Learning rate: 0.0031759217971780085, Batch size: 128, Replay memory size: 7000,\n",
      "Discount factor: 0.8958378882397978, Frame repeat: 16, Optimizer: SGD, \n",
      "Epsilon decay: 0.9958141775528396\n",
      "\n",
      "Initializing doom...\n",
      "Doom initialized.\n",
      "Initializing New Model\n",
      "\n",
      "Epoch #1\n"
     ]
    },
    {
     "name": "stderr",
     "output_type": "stream",
     "text": [
      "                                                                                                                       \r"
     ]
    },
    {
     "name": "stdout",
     "output_type": "stream",
     "text": [
      "Results: mean: -246.3 +/- 123.6, min: -355.0, max: 62.0,\n",
      "\n",
      "Testing...\n"
     ]
    },
    {
     "name": "stderr",
     "output_type": "stream",
     "text": [
      "                                                                                                                       \r"
     ]
    },
    {
     "name": "stdout",
     "output_type": "stream",
     "text": [
      "Results: mean: -284.2 +/- 73.6, min: -320.0 max: 66.0\n",
      "Total elapsed time: 3.52 minutes\n",
      "\n",
      "Epoch #2\n"
     ]
    },
    {
     "name": "stderr",
     "output_type": "stream",
     "text": [
      "                                                                                                                       \r"
     ]
    },
    {
     "name": "stdout",
     "output_type": "stream",
     "text": [
      "Results: mean: -207.7 +/- 138.8, min: -345.0, max: 62.0,\n",
      "\n",
      "Testing...\n"
     ]
    },
    {
     "name": "stderr",
     "output_type": "stream",
     "text": [
      "                                                                                                                       \r"
     ]
    },
    {
     "name": "stdout",
     "output_type": "stream",
     "text": [
      "Results: mean: -169.6 +/- 141.5, min: -340.0 max: 66.0\n",
      "Total elapsed time: 6.71 minutes\n",
      "\n",
      "Epoch #3\n"
     ]
    },
    {
     "name": "stderr",
     "output_type": "stream",
     "text": [
      "                                                                                                                       \r"
     ]
    },
    {
     "name": "stdout",
     "output_type": "stream",
     "text": [
      "Results: mean: -29.5 +/- 121.1, min: -355.0, max: 62.0,\n",
      "\n",
      "Testing...\n"
     ]
    },
    {
     "name": "stderr",
     "output_type": "stream",
     "text": [
      "                                                                                                                       \r"
     ]
    },
    {
     "name": "stdout",
     "output_type": "stream",
     "text": [
      "Results: mean: -105.0 +/- 153.6, min: -350.0 max: 66.0\n",
      "Total elapsed time: 9.67 minutes\n",
      "\n",
      "Epoch #4\n"
     ]
    },
    {
     "name": "stderr",
     "output_type": "stream",
     "text": [
      "                                                                                                                       \r"
     ]
    },
    {
     "name": "stdout",
     "output_type": "stream",
     "text": [
      "Results: mean: -10.6 +/- 86.9, min: -350.0, max: 62.0,\n",
      "\n",
      "Testing...\n"
     ]
    },
    {
     "name": "stderr",
     "output_type": "stream",
     "text": [
      "                                                                                                                       \r"
     ]
    },
    {
     "name": "stdout",
     "output_type": "stream",
     "text": [
      "Results: mean: -20.8 +/- 83.7, min: -365.0 max: 66.0\n",
      "Total elapsed time: 12.37 minutes\n",
      "\n",
      "Epoch #5\n"
     ]
    },
    {
     "name": "stderr",
     "output_type": "stream",
     "text": [
      "                                                                                                                       \r"
     ]
    },
    {
     "name": "stdout",
     "output_type": "stream",
     "text": [
      "Results: mean: 4.1 +/- 83.4, min: -360.0, max: 62.0,\n",
      "\n",
      "Testing...\n"
     ]
    },
    {
     "name": "stderr",
     "output_type": "stream",
     "text": [
      "                                                                                                                       \r"
     ]
    },
    {
     "name": "stdout",
     "output_type": "stream",
     "text": [
      "Results: mean: 37.4 +/- 53.8, min: -236.0 max: 66.0\n",
      "Total elapsed time: 14.91 minutes\n",
      "\n",
      "Epoch #6\n"
     ]
    },
    {
     "name": "stderr",
     "output_type": "stream",
     "text": [
      "                                                                                                                       \r"
     ]
    },
    {
     "name": "stdout",
     "output_type": "stream",
     "text": [
      "Results: mean: 14.8 +/- 73.2, min: -365.0, max: 62.0,\n",
      "\n",
      "Testing...\n"
     ]
    },
    {
     "name": "stderr",
     "output_type": "stream",
     "text": [
      "                                                                                                                       \r"
     ]
    },
    {
     "name": "stdout",
     "output_type": "stream",
     "text": [
      "Results: mean: -12.1 +/- 90.1, min: -355.0 max: 66.0\n",
      "Total elapsed time: 17.65 minutes\n",
      "\n",
      "Epoch #7\n"
     ]
    },
    {
     "name": "stderr",
     "output_type": "stream",
     "text": [
      "                                                                                                                       \r"
     ]
    },
    {
     "name": "stdout",
     "output_type": "stream",
     "text": [
      "Results: mean: 25.7 +/- 78.5, min: -355.0, max: 62.0,\n",
      "\n",
      "Testing...\n"
     ]
    },
    {
     "name": "stderr",
     "output_type": "stream",
     "text": [
      "                                                                                                                       \r"
     ]
    },
    {
     "name": "stdout",
     "output_type": "stream",
     "text": [
      "Results: mean: 8.4 +/- 50.9, min: -320.0 max: 66.0\n",
      "Total elapsed time: 20.30 minutes\n",
      "\n",
      "Epoch #8\n"
     ]
    },
    {
     "name": "stderr",
     "output_type": "stream",
     "text": [
      "                                                                                                                       \r"
     ]
    },
    {
     "name": "stdout",
     "output_type": "stream",
     "text": [
      "Results: mean: 18.5 +/- 67.7, min: -365.0, max: 62.0,\n",
      "\n",
      "Testing...\n"
     ]
    },
    {
     "name": "stderr",
     "output_type": "stream",
     "text": [
      "                                                                                                                       \r"
     ]
    },
    {
     "name": "stdout",
     "output_type": "stream",
     "text": [
      "Results: mean: 15.7 +/- 46.2, min: -300.0 max: 66.0\n",
      "Total elapsed time: 22.93 minutes\n",
      "\n",
      "Epoch #9\n"
     ]
    },
    {
     "name": "stderr",
     "output_type": "stream",
     "text": [
      "                                                                                                                       \r"
     ]
    },
    {
     "name": "stdout",
     "output_type": "stream",
     "text": [
      "Results: mean: 27.7 +/- 69.6, min: -355.0, max: 62.0,\n",
      "\n",
      "Testing...\n"
     ]
    },
    {
     "name": "stderr",
     "output_type": "stream",
     "text": [
      "                                                                                                                       \r"
     ]
    },
    {
     "name": "stdout",
     "output_type": "stream",
     "text": [
      "Results: mean: 37.3 +/- 56.3, min: -300.0 max: 66.0\n",
      "Total elapsed time: 25.46 minutes\n",
      "\n",
      "Epoch #10\n"
     ]
    },
    {
     "name": "stderr",
     "output_type": "stream",
     "text": [
      "                                                                                                                       \r"
     ]
    },
    {
     "name": "stdout",
     "output_type": "stream",
     "text": [
      "Results: mean: 28.7 +/- 66.4, min: -355.0, max: 62.0,\n",
      "\n",
      "Testing...\n"
     ]
    },
    {
     "name": "stderr",
     "output_type": "stream",
     "text": [
      "\u001b[32m[I 2023-05-04 14:58:53,713]\u001b[0m Trial 30 finished with value: 17.91 and parameters: {'learning_rate': 0.0031759217971780085, 'batch_size': 128, 'replay_memory_size': 7000, 'discount_factor': 0.8958378882397978, 'frame_repeat': 16, 'optimizer': 'SGD', 'epsilon_decay': 0.9958141775528396}. Best is trial 27 with value: 20.99.\u001b[0m\n"
     ]
    },
    {
     "name": "stdout",
     "output_type": "stream",
     "text": [
      "Results: mean: 17.9 +/- 74.9, min: -330.0 max: 66.0\n",
      "Total elapsed time: 27.99 minutes\n",
      "\n",
      "Learning rate: 0.0033564187032698234, Batch size: 128, Replay memory size: 8000,\n",
      "Discount factor: 0.9004403206918241, Frame repeat: 16, Optimizer: SGD, \n",
      "Epsilon decay: 0.9958718114931288\n",
      "\n",
      "Initializing doom...\n",
      "Doom initialized.\n",
      "Initializing New Model\n",
      "\n",
      "Epoch #1\n"
     ]
    },
    {
     "name": "stderr",
     "output_type": "stream",
     "text": [
      "                                                                                                                       \r"
     ]
    },
    {
     "name": "stdout",
     "output_type": "stream",
     "text": [
      "Results: mean: -242.1 +/- 124.4, min: -340.0, max: 62.0,\n",
      "\n",
      "Testing...\n"
     ]
    },
    {
     "name": "stderr",
     "output_type": "stream",
     "text": [
      "                                                                                                                       \r"
     ]
    },
    {
     "name": "stdout",
     "output_type": "stream",
     "text": [
      "Results: mean: -290.5 +/- 69.4, min: -320.0 max: 66.0\n",
      "Total elapsed time: 3.51 minutes\n",
      "\n",
      "Epoch #2\n"
     ]
    },
    {
     "name": "stderr",
     "output_type": "stream",
     "text": [
      "                                                                                                                       \r"
     ]
    },
    {
     "name": "stdout",
     "output_type": "stream",
     "text": [
      "Results: mean: -120.6 +/- 146.1, min: -365.0, max: 62.0,\n",
      "\n",
      "Testing...\n"
     ]
    },
    {
     "name": "stderr",
     "output_type": "stream",
     "text": [
      "                                                                                                                       \r"
     ]
    },
    {
     "name": "stdout",
     "output_type": "stream",
     "text": [
      "Results: mean: -83.9 +/- 140.1, min: -365.0 max: 66.0\n",
      "Total elapsed time: 6.44 minutes\n",
      "\n",
      "Epoch #3\n"
     ]
    },
    {
     "name": "stderr",
     "output_type": "stream",
     "text": [
      "                                                                                                                       \r"
     ]
    },
    {
     "name": "stdout",
     "output_type": "stream",
     "text": [
      "Results: mean: -28.5 +/- 109.0, min: -365.0, max: 62.0,\n",
      "\n",
      "Testing...\n"
     ]
    },
    {
     "name": "stderr",
     "output_type": "stream",
     "text": [
      "                                                                                                                       \r"
     ]
    },
    {
     "name": "stdout",
     "output_type": "stream",
     "text": [
      "Results: mean: -23.4 +/- 102.3, min: -350.0 max: 66.0\n",
      "Total elapsed time: 9.15 minutes\n",
      "\n",
      "Epoch #4\n"
     ]
    },
    {
     "name": "stderr",
     "output_type": "stream",
     "text": [
      "                                                                                                                       \r"
     ]
    },
    {
     "name": "stdout",
     "output_type": "stream",
     "text": [
      "Results: mean: -25.3 +/- 102.6, min: -365.0, max: 62.0,\n",
      "\n",
      "Testing...\n"
     ]
    },
    {
     "name": "stderr",
     "output_type": "stream",
     "text": [
      "                                                                                                                       \r"
     ]
    },
    {
     "name": "stdout",
     "output_type": "stream",
     "text": [
      "Results: mean: -18.9 +/- 97.8, min: -370.0 max: 66.0\n",
      "Total elapsed time: 11.85 minutes\n",
      "\n",
      "Epoch #5\n"
     ]
    },
    {
     "name": "stderr",
     "output_type": "stream",
     "text": [
      "                                                                                                                       \r"
     ]
    },
    {
     "name": "stdout",
     "output_type": "stream",
     "text": [
      "Results: mean: 1.6 +/- 77.1, min: -365.0, max: 62.0,\n",
      "\n",
      "Testing...\n"
     ]
    },
    {
     "name": "stderr",
     "output_type": "stream",
     "text": [
      "                                                                                                                       \r"
     ]
    },
    {
     "name": "stdout",
     "output_type": "stream",
     "text": [
      "Results: mean: 24.4 +/- 83.7, min: -340.0 max: 66.0\n",
      "Total elapsed time: 14.30 minutes\n",
      "\n",
      "Epoch #6\n"
     ]
    },
    {
     "name": "stderr",
     "output_type": "stream",
     "text": [
      "                                                                                                                       \r"
     ]
    },
    {
     "name": "stdout",
     "output_type": "stream",
     "text": [
      "Results: mean: 11.5 +/- 80.0, min: -350.0, max: 62.0,\n",
      "\n",
      "Testing...\n"
     ]
    },
    {
     "name": "stderr",
     "output_type": "stream",
     "text": [
      "                                                                                                                       \r"
     ]
    },
    {
     "name": "stdout",
     "output_type": "stream",
     "text": [
      "Results: mean: -26.4 +/- 93.3, min: -360.0 max: 66.0\n",
      "Total elapsed time: 16.99 minutes\n",
      "\n",
      "Epoch #7\n"
     ]
    },
    {
     "name": "stderr",
     "output_type": "stream",
     "text": [
      "                                                                                                                       \r"
     ]
    },
    {
     "name": "stdout",
     "output_type": "stream",
     "text": [
      "Results: mean: -0.8 +/- 94.4, min: -355.0, max: 62.0,\n",
      "\n",
      "Testing...\n"
     ]
    },
    {
     "name": "stderr",
     "output_type": "stream",
     "text": [
      "                                                                                                                       \r"
     ]
    },
    {
     "name": "stdout",
     "output_type": "stream",
     "text": [
      "Results: mean: 32.6 +/- 67.7, min: -345.0 max: 66.0\n",
      "Total elapsed time: 19.47 minutes\n",
      "\n",
      "Epoch #8\n"
     ]
    },
    {
     "name": "stderr",
     "output_type": "stream",
     "text": [
      "                                                                                                                       \r"
     ]
    },
    {
     "name": "stdout",
     "output_type": "stream",
     "text": [
      "Results: mean: -2.9 +/- 88.1, min: -350.0, max: 62.0,\n",
      "\n",
      "Testing...\n"
     ]
    },
    {
     "name": "stderr",
     "output_type": "stream",
     "text": [
      "                                                                                                                       \r"
     ]
    },
    {
     "name": "stdout",
     "output_type": "stream",
     "text": [
      "Results: mean: 18.2 +/- 77.3, min: -355.0 max: 66.0\n",
      "Total elapsed time: 21.96 minutes\n",
      "\n",
      "Epoch #9\n"
     ]
    },
    {
     "name": "stderr",
     "output_type": "stream",
     "text": [
      "                                                                                                                       \r"
     ]
    },
    {
     "name": "stdout",
     "output_type": "stream",
     "text": [
      "Results: mean: -3.6 +/- 88.9, min: -370.0, max: 62.0,\n",
      "\n",
      "Testing...\n"
     ]
    },
    {
     "name": "stderr",
     "output_type": "stream",
     "text": [
      "                                                                                                                       \r"
     ]
    },
    {
     "name": "stdout",
     "output_type": "stream",
     "text": [
      "Results: mean: -17.5 +/- 83.3, min: -360.0 max: 66.0\n",
      "Total elapsed time: 24.64 minutes\n",
      "\n",
      "Epoch #10\n"
     ]
    },
    {
     "name": "stderr",
     "output_type": "stream",
     "text": [
      "                                                                                                                       \r"
     ]
    },
    {
     "name": "stdout",
     "output_type": "stream",
     "text": [
      "Results: mean: -6.6 +/- 92.4, min: -365.0, max: 62.0,\n",
      "\n",
      "Testing...\n"
     ]
    },
    {
     "name": "stderr",
     "output_type": "stream",
     "text": [
      "\u001b[32m[I 2023-05-04 15:26:12,493]\u001b[0m Trial 31 finished with value: -24.73 and parameters: {'learning_rate': 0.0033564187032698234, 'batch_size': 128, 'replay_memory_size': 8000, 'discount_factor': 0.9004403206918241, 'frame_repeat': 16, 'optimizer': 'SGD', 'epsilon_decay': 0.9958718114931288}. Best is trial 27 with value: 20.99.\u001b[0m\n"
     ]
    },
    {
     "name": "stdout",
     "output_type": "stream",
     "text": [
      "Results: mean: -24.7 +/- 100.7, min: -360.0 max: 66.0\n",
      "Total elapsed time: 27.30 minutes\n",
      "\n",
      "Learning rate: 0.0025802237731230543, Batch size: 128, Replay memory size: 7000,\n",
      "Discount factor: 0.9832491128595743, Frame repeat: 16, Optimizer: SGD, \n",
      "Epsilon decay: 0.9966695806374575\n",
      "\n",
      "Initializing doom...\n",
      "Doom initialized.\n",
      "Initializing New Model\n",
      "\n",
      "Epoch #1\n"
     ]
    },
    {
     "name": "stderr",
     "output_type": "stream",
     "text": [
      "                                                                                                                       \r"
     ]
    },
    {
     "name": "stdout",
     "output_type": "stream",
     "text": [
      "Results: mean: -245.4 +/- 128.8, min: -345.0, max: 62.0,\n",
      "\n",
      "Testing...\n"
     ]
    },
    {
     "name": "stderr",
     "output_type": "stream",
     "text": [
      "                                                                                                                       \r"
     ]
    },
    {
     "name": "stdout",
     "output_type": "stream",
     "text": [
      "Results: mean: -251.0 +/- 110.9, min: -320.0 max: 66.0\n",
      "Total elapsed time: 3.38 minutes\n",
      "\n",
      "Epoch #2\n"
     ]
    },
    {
     "name": "stderr",
     "output_type": "stream",
     "text": [
      "                                                                                                                       \r"
     ]
    },
    {
     "name": "stdout",
     "output_type": "stream",
     "text": [
      "Results: mean: -225.7 +/- 134.6, min: -330.0, max: 62.0,\n",
      "\n",
      "Testing...\n"
     ]
    },
    {
     "name": "stderr",
     "output_type": "stream",
     "text": [
      "                                                                                                                       \r"
     ]
    },
    {
     "name": "stdout",
     "output_type": "stream",
     "text": [
      "Results: mean: -243.5 +/- 129.5, min: -370.0 max: 66.0\n",
      "Total elapsed time: 6.70 minutes\n",
      "\n",
      "Epoch #3\n"
     ]
    },
    {
     "name": "stderr",
     "output_type": "stream",
     "text": [
      "                                                                                                                       \r"
     ]
    },
    {
     "name": "stdout",
     "output_type": "stream",
     "text": [
      "Results: mean: -168.1 +/- 161.4, min: -345.0, max: 62.0,\n",
      "\n",
      "Testing...\n"
     ]
    },
    {
     "name": "stderr",
     "output_type": "stream",
     "text": [
      "                                                                                                                       \r"
     ]
    },
    {
     "name": "stdout",
     "output_type": "stream",
     "text": [
      "Results: mean: -214.7 +/- 141.5, min: -345.0 max: 54.0\n",
      "Total elapsed time: 9.96 minutes\n",
      "\n",
      "Epoch #4\n"
     ]
    },
    {
     "name": "stderr",
     "output_type": "stream",
     "text": [
      "                                                                                                                       \r"
     ]
    },
    {
     "name": "stdout",
     "output_type": "stream",
     "text": [
      "Results: mean: -95.0 +/- 161.3, min: -345.0, max: 62.0,\n",
      "\n",
      "Testing...\n"
     ]
    },
    {
     "name": "stderr",
     "output_type": "stream",
     "text": [
      "                                                                                                                       \r"
     ]
    },
    {
     "name": "stdout",
     "output_type": "stream",
     "text": [
      "Results: mean: -27.2 +/- 147.8, min: -335.0 max: 66.0\n",
      "Total elapsed time: 12.63 minutes\n",
      "\n",
      "Epoch #5\n"
     ]
    },
    {
     "name": "stderr",
     "output_type": "stream",
     "text": [
      "                                                                                                                       \r"
     ]
    },
    {
     "name": "stdout",
     "output_type": "stream",
     "text": [
      "Results: mean: -63.3 +/- 147.3, min: -360.0, max: 62.0,\n",
      "\n",
      "Testing...\n"
     ]
    },
    {
     "name": "stderr",
     "output_type": "stream",
     "text": [
      "                                                                                                                       \r"
     ]
    },
    {
     "name": "stdout",
     "output_type": "stream",
     "text": [
      "Results: mean: -79.9 +/- 136.5, min: -330.0 max: 66.0\n",
      "Total elapsed time: 15.49 minutes\n",
      "\n",
      "Epoch #6\n"
     ]
    },
    {
     "name": "stderr",
     "output_type": "stream",
     "text": [
      "                                                                                                                       \r"
     ]
    },
    {
     "name": "stdout",
     "output_type": "stream",
     "text": [
      "Results: mean: -105.8 +/- 154.6, min: -370.0, max: 62.0,\n",
      "\n",
      "Testing...\n"
     ]
    },
    {
     "name": "stderr",
     "output_type": "stream",
     "text": [
      "                                                                                                                       \r"
     ]
    },
    {
     "name": "stdout",
     "output_type": "stream",
     "text": [
      "Results: mean: -84.1 +/- 173.0, min: -350.0 max: 66.0\n",
      "Total elapsed time: 18.37 minutes\n",
      "\n",
      "Epoch #7\n"
     ]
    },
    {
     "name": "stderr",
     "output_type": "stream",
     "text": [
      "                                                                                                                       \r"
     ]
    },
    {
     "name": "stdout",
     "output_type": "stream",
     "text": [
      "Results: mean: -229.2 +/- 141.3, min: -345.0, max: 62.0,\n",
      "\n",
      "Testing...\n"
     ]
    },
    {
     "name": "stderr",
     "output_type": "stream",
     "text": [
      "                                                                                                                       \r"
     ]
    },
    {
     "name": "stdout",
     "output_type": "stream",
     "text": [
      "Results: mean: -279.2 +/- 114.3, min: -345.0 max: 66.0\n",
      "Total elapsed time: 21.77 minutes\n",
      "\n",
      "Epoch #8\n"
     ]
    },
    {
     "name": "stderr",
     "output_type": "stream",
     "text": [
      "                                                                                                                       \r"
     ]
    },
    {
     "name": "stdout",
     "output_type": "stream",
     "text": [
      "Results: mean: -234.2 +/- 137.2, min: -360.0, max: 62.0,\n",
      "\n",
      "Testing...\n"
     ]
    },
    {
     "name": "stderr",
     "output_type": "stream",
     "text": [
      "                                                                                                                       \r"
     ]
    },
    {
     "name": "stdout",
     "output_type": "stream",
     "text": [
      "Results: mean: -237.8 +/- 128.4, min: -350.0 max: 66.0\n",
      "Total elapsed time: 25.12 minutes\n",
      "\n",
      "Epoch #9\n"
     ]
    },
    {
     "name": "stderr",
     "output_type": "stream",
     "text": [
      "                                                                                                                       \r"
     ]
    },
    {
     "name": "stdout",
     "output_type": "stream",
     "text": [
      "Results: mean: -244.5 +/- 134.8, min: -360.0, max: 62.0,\n",
      "\n",
      "Testing...\n"
     ]
    },
    {
     "name": "stderr",
     "output_type": "stream",
     "text": [
      "                                                                                                                       \r"
     ]
    },
    {
     "name": "stdout",
     "output_type": "stream",
     "text": [
      "Results: mean: -257.8 +/- 121.7, min: -355.0 max: 66.0\n",
      "Total elapsed time: 28.54 minutes\n",
      "\n",
      "Epoch #10\n"
     ]
    },
    {
     "name": "stderr",
     "output_type": "stream",
     "text": [
      "                                                                                                                       \r"
     ]
    },
    {
     "name": "stdout",
     "output_type": "stream",
     "text": [
      "Results: mean: -234.0 +/- 126.4, min: -350.0, max: 62.0,\n",
      "\n",
      "Testing...\n"
     ]
    },
    {
     "name": "stderr",
     "output_type": "stream",
     "text": [
      "\u001b[32m[I 2023-05-04 15:57:57,458]\u001b[0m Trial 32 finished with value: -168.99 and parameters: {'learning_rate': 0.0025802237731230543, 'batch_size': 128, 'replay_memory_size': 7000, 'discount_factor': 0.9832491128595743, 'frame_repeat': 16, 'optimizer': 'SGD', 'epsilon_decay': 0.9966695806374575}. Best is trial 27 with value: 20.99.\u001b[0m\n"
     ]
    },
    {
     "name": "stdout",
     "output_type": "stream",
     "text": [
      "Results: mean: -169.0 +/- 158.3, min: -355.0 max: 54.0\n",
      "Total elapsed time: 31.74 minutes\n",
      "\n",
      "Learning rate: 0.0035916112968436445, Batch size: 128, Replay memory size: 8000,\n",
      "Discount factor: 0.8393009560818522, Frame repeat: 16, Optimizer: SGD, \n",
      "Epsilon decay: 0.9945536342671403\n",
      "\n",
      "Initializing doom...\n",
      "Doom initialized.\n",
      "Initializing New Model\n",
      "\n",
      "Epoch #1\n"
     ]
    },
    {
     "name": "stderr",
     "output_type": "stream",
     "text": [
      "                                                                                                                       \r"
     ]
    },
    {
     "name": "stdout",
     "output_type": "stream",
     "text": [
      "Results: mean: -263.3 +/- 105.1, min: -345.0, max: 62.0,\n",
      "\n",
      "Testing...\n"
     ]
    },
    {
     "name": "stderr",
     "output_type": "stream",
     "text": [
      "                                                                                                                       \r"
     ]
    },
    {
     "name": "stdout",
     "output_type": "stream",
     "text": [
      "Results: mean: -215.0 +/- 138.1, min: -325.0 max: 66.0\n",
      "Total elapsed time: 3.43 minutes\n",
      "\n",
      "Epoch #2\n"
     ]
    },
    {
     "name": "stderr",
     "output_type": "stream",
     "text": [
      "                                                                                                                       \r"
     ]
    },
    {
     "name": "stdout",
     "output_type": "stream",
     "text": [
      "Results: mean: -186.7 +/- 150.9, min: -365.0, max: 62.0,\n",
      "\n",
      "Testing...\n"
     ]
    },
    {
     "name": "stderr",
     "output_type": "stream",
     "text": [
      "                                                                                                                       \r"
     ]
    },
    {
     "name": "stdout",
     "output_type": "stream",
     "text": [
      "Results: mean: -119.8 +/- 159.5, min: -340.0 max: 66.0\n",
      "Total elapsed time: 6.42 minutes\n",
      "\n",
      "Epoch #3\n"
     ]
    },
    {
     "name": "stderr",
     "output_type": "stream",
     "text": [
      "                                                                                                                       \r"
     ]
    },
    {
     "name": "stdout",
     "output_type": "stream",
     "text": [
      "Results: mean: -60.0 +/- 155.0, min: -365.0, max: 62.0,\n",
      "\n",
      "Testing...\n"
     ]
    },
    {
     "name": "stderr",
     "output_type": "stream",
     "text": [
      "                                                                                                                       \r"
     ]
    },
    {
     "name": "stdout",
     "output_type": "stream",
     "text": [
      "Results: mean: -28.9 +/- 151.8, min: -370.0 max: 66.0\n",
      "Total elapsed time: 9.09 minutes\n",
      "\n",
      "Epoch #4\n"
     ]
    },
    {
     "name": "stderr",
     "output_type": "stream",
     "text": [
      "                                                                                                                       \r"
     ]
    },
    {
     "name": "stdout",
     "output_type": "stream",
     "text": [
      "Results: mean: -25.2 +/- 134.0, min: -365.0, max: 62.0,\n",
      "\n",
      "Testing...\n"
     ]
    },
    {
     "name": "stderr",
     "output_type": "stream",
     "text": [
      "                                                                                                                       \r"
     ]
    },
    {
     "name": "stdout",
     "output_type": "stream",
     "text": [
      "Results: mean: -95.5 +/- 146.9, min: -370.0 max: 66.0\n",
      "Total elapsed time: 12.03 minutes\n",
      "\n",
      "Epoch #5\n"
     ]
    },
    {
     "name": "stderr",
     "output_type": "stream",
     "text": [
      "                                                                                                                       \r"
     ]
    },
    {
     "name": "stdout",
     "output_type": "stream",
     "text": [
      "Results: mean: -24.4 +/- 110.9, min: -365.0, max: 62.0,\n",
      "\n",
      "Testing...\n"
     ]
    },
    {
     "name": "stderr",
     "output_type": "stream",
     "text": [
      "                                                                                                                       \r"
     ]
    },
    {
     "name": "stdout",
     "output_type": "stream",
     "text": [
      "Results: mean: -73.9 +/- 131.1, min: -355.0 max: 66.0\n",
      "Total elapsed time: 14.94 minutes\n",
      "\n",
      "Epoch #6\n"
     ]
    },
    {
     "name": "stderr",
     "output_type": "stream",
     "text": [
      "                                                                                                                       \r"
     ]
    },
    {
     "name": "stdout",
     "output_type": "stream",
     "text": [
      "Results: mean: -1.4 +/- 90.9, min: -350.0, max: 62.0,\n",
      "\n",
      "Testing...\n"
     ]
    },
    {
     "name": "stderr",
     "output_type": "stream",
     "text": [
      "                                                                                                                       \r"
     ]
    },
    {
     "name": "stdout",
     "output_type": "stream",
     "text": [
      "Results: mean: 9.2 +/- 59.9, min: -350.0 max: 66.0\n",
      "Total elapsed time: 17.53 minutes\n",
      "\n",
      "Epoch #7\n"
     ]
    },
    {
     "name": "stderr",
     "output_type": "stream",
     "text": [
      "                                                                                                                       \r"
     ]
    },
    {
     "name": "stdout",
     "output_type": "stream",
     "text": [
      "Results: mean: 19.4 +/- 65.8, min: -340.0, max: 62.0,\n",
      "\n",
      "Testing...\n"
     ]
    },
    {
     "name": "stderr",
     "output_type": "stream",
     "text": [
      "                                                                                                                       \r"
     ]
    },
    {
     "name": "stdout",
     "output_type": "stream",
     "text": [
      "Results: mean: 0.4 +/- 82.6, min: -335.0 max: 66.0\n",
      "Total elapsed time: 20.14 minutes\n",
      "\n",
      "Epoch #8\n"
     ]
    },
    {
     "name": "stderr",
     "output_type": "stream",
     "text": [
      "                                                                                                                       \r"
     ]
    },
    {
     "name": "stdout",
     "output_type": "stream",
     "text": [
      "Results: mean: 12.9 +/- 82.0, min: -360.0, max: 62.0,\n",
      "\n",
      "Testing...\n"
     ]
    },
    {
     "name": "stderr",
     "output_type": "stream",
     "text": [
      "                                                                                                                       \r"
     ]
    },
    {
     "name": "stdout",
     "output_type": "stream",
     "text": [
      "Results: mean: 15.8 +/- 93.9, min: -360.0 max: 66.0\n",
      "Total elapsed time: 22.69 minutes\n",
      "\n",
      "Epoch #9\n"
     ]
    },
    {
     "name": "stderr",
     "output_type": "stream",
     "text": [
      "                                                                                                                       \r"
     ]
    },
    {
     "name": "stdout",
     "output_type": "stream",
     "text": [
      "Results: mean: 12.9 +/- 81.6, min: -360.0, max: 62.0,\n",
      "\n",
      "Testing...\n"
     ]
    },
    {
     "name": "stderr",
     "output_type": "stream",
     "text": [
      "                                                                                                                       \r"
     ]
    },
    {
     "name": "stdout",
     "output_type": "stream",
     "text": [
      "Results: mean: 18.1 +/- 74.5, min: -340.0 max: 66.0\n",
      "Total elapsed time: 25.24 minutes\n",
      "\n",
      "Epoch #10\n"
     ]
    },
    {
     "name": "stderr",
     "output_type": "stream",
     "text": [
      "                                                                                                                       \r"
     ]
    },
    {
     "name": "stdout",
     "output_type": "stream",
     "text": [
      "Results: mean: 11.5 +/- 84.3, min: -365.0, max: 62.0,\n",
      "\n",
      "Testing...\n"
     ]
    },
    {
     "name": "stderr",
     "output_type": "stream",
     "text": [
      "\u001b[32m[I 2023-05-04 16:25:47,794]\u001b[0m Trial 33 finished with value: 10.41 and parameters: {'learning_rate': 0.0035916112968436445, 'batch_size': 128, 'replay_memory_size': 8000, 'discount_factor': 0.8393009560818522, 'frame_repeat': 16, 'optimizer': 'SGD', 'epsilon_decay': 0.9945536342671403}. Best is trial 27 with value: 20.99.\u001b[0m\n"
     ]
    },
    {
     "name": "stdout",
     "output_type": "stream",
     "text": [
      "Results: mean: 10.4 +/- 83.1, min: -350.0 max: 66.0\n",
      "Total elapsed time: 27.83 minutes\n",
      "\n",
      "Learning rate: 0.0035032390642167088, Batch size: 128, Replay memory size: 8000,\n",
      "Discount factor: 0.8303400284364694, Frame repeat: 16, Optimizer: SGD, \n",
      "Epsilon decay: 0.9950137729317948\n",
      "\n",
      "Initializing doom...\n",
      "Doom initialized.\n",
      "Initializing New Model\n",
      "\n",
      "Epoch #1\n"
     ]
    },
    {
     "name": "stderr",
     "output_type": "stream",
     "text": [
      "                                                                                                                       \r"
     ]
    },
    {
     "name": "stdout",
     "output_type": "stream",
     "text": [
      "Results: mean: -252.1 +/- 125.5, min: -355.0, max: 62.0,\n",
      "\n",
      "Testing...\n"
     ]
    },
    {
     "name": "stderr",
     "output_type": "stream",
     "text": [
      "                                                                                                                       \r"
     ]
    },
    {
     "name": "stdout",
     "output_type": "stream",
     "text": [
      "Results: mean: -274.5 +/- 89.7, min: -335.0 max: 18.0\n",
      "Total elapsed time: 3.48 minutes\n",
      "\n",
      "Epoch #2\n"
     ]
    },
    {
     "name": "stderr",
     "output_type": "stream",
     "text": [
      "                                                                                                                       \r"
     ]
    },
    {
     "name": "stdout",
     "output_type": "stream",
     "text": [
      "Results: mean: -157.8 +/- 165.5, min: -365.0, max: 62.0,\n",
      "\n",
      "Testing...\n"
     ]
    },
    {
     "name": "stderr",
     "output_type": "stream",
     "text": [
      "                                                                                                                       \r"
     ]
    },
    {
     "name": "stdout",
     "output_type": "stream",
     "text": [
      "Results: mean: -144.4 +/- 142.7, min: -355.0 max: 66.0\n",
      "Total elapsed time: 6.59 minutes\n",
      "\n",
      "Epoch #3\n"
     ]
    },
    {
     "name": "stderr",
     "output_type": "stream",
     "text": [
      "                                                                                                                       \r"
     ]
    },
    {
     "name": "stdout",
     "output_type": "stream",
     "text": [
      "Results: mean: -64.7 +/- 123.9, min: -360.0, max: 62.0,\n",
      "\n",
      "Testing...\n"
     ]
    },
    {
     "name": "stderr",
     "output_type": "stream",
     "text": [
      "                                                                                                                       \r"
     ]
    },
    {
     "name": "stdout",
     "output_type": "stream",
     "text": [
      "Results: mean: -1.7 +/- 114.7, min: -365.0 max: 66.0\n",
      "Total elapsed time: 9.24 minutes\n",
      "\n",
      "Epoch #4\n"
     ]
    },
    {
     "name": "stderr",
     "output_type": "stream",
     "text": [
      "                                                                                                                       \r"
     ]
    },
    {
     "name": "stdout",
     "output_type": "stream",
     "text": [
      "Results: mean: -13.6 +/- 91.7, min: -355.0, max: 62.0,\n",
      "\n",
      "Testing...\n"
     ]
    },
    {
     "name": "stderr",
     "output_type": "stream",
     "text": [
      "                                                                                                                       \r"
     ]
    },
    {
     "name": "stdout",
     "output_type": "stream",
     "text": [
      "Results: mean: -24.4 +/- 81.8, min: -340.0 max: 66.0\n",
      "Total elapsed time: 12.00 minutes\n",
      "\n",
      "Epoch #5\n"
     ]
    },
    {
     "name": "stderr",
     "output_type": "stream",
     "text": [
      "                                                                                                                       \r"
     ]
    },
    {
     "name": "stdout",
     "output_type": "stream",
     "text": [
      "Results: mean: -8.5 +/- 86.6, min: -365.0, max: 62.0,\n",
      "\n",
      "Testing...\n"
     ]
    },
    {
     "name": "stderr",
     "output_type": "stream",
     "text": [
      "                                                                                                                       \r"
     ]
    },
    {
     "name": "stdout",
     "output_type": "stream",
     "text": [
      "Results: mean: -12.8 +/- 74.9, min: -355.0 max: 66.0\n",
      "Total elapsed time: 14.91 minutes\n",
      "\n",
      "Epoch #6\n"
     ]
    },
    {
     "name": "stderr",
     "output_type": "stream",
     "text": [
      "                                                                                                                       \r"
     ]
    },
    {
     "name": "stdout",
     "output_type": "stream",
     "text": [
      "Results: mean: -2.1 +/- 107.6, min: -365.0, max: 62.0,\n",
      "\n",
      "Testing...\n"
     ]
    },
    {
     "name": "stderr",
     "output_type": "stream",
     "text": [
      "                                                                                                                       \r"
     ]
    },
    {
     "name": "stdout",
     "output_type": "stream",
     "text": [
      "Results: mean: -3.9 +/- 80.2, min: -350.0 max: 66.0\n",
      "Total elapsed time: 17.53 minutes\n",
      "\n",
      "Epoch #7\n"
     ]
    },
    {
     "name": "stderr",
     "output_type": "stream",
     "text": [
      "                                                                                                                       \r"
     ]
    },
    {
     "name": "stdout",
     "output_type": "stream",
     "text": [
      "Results: mean: -17.0 +/- 92.8, min: -355.0, max: 62.0,\n",
      "\n",
      "Testing...\n"
     ]
    },
    {
     "name": "stderr",
     "output_type": "stream",
     "text": [
      "                                                                                                                       \r"
     ]
    },
    {
     "name": "stdout",
     "output_type": "stream",
     "text": [
      "Results: mean: -2.5 +/- 94.7, min: -365.0 max: 66.0\n",
      "Total elapsed time: 20.16 minutes\n",
      "\n",
      "Epoch #8\n"
     ]
    },
    {
     "name": "stderr",
     "output_type": "stream",
     "text": [
      "                                                                                                                       \r"
     ]
    },
    {
     "name": "stdout",
     "output_type": "stream",
     "text": [
      "Results: mean: -28.5 +/- 94.4, min: -345.0, max: 62.0,\n",
      "\n",
      "Testing...\n"
     ]
    },
    {
     "name": "stderr",
     "output_type": "stream",
     "text": [
      "                                                                                                                       \r"
     ]
    },
    {
     "name": "stdout",
     "output_type": "stream",
     "text": [
      "Results: mean: -19.4 +/- 77.5, min: -325.0 max: 66.0\n",
      "Total elapsed time: 22.87 minutes\n",
      "\n",
      "Epoch #9\n"
     ]
    },
    {
     "name": "stderr",
     "output_type": "stream",
     "text": [
      "                                                                                                                       \r"
     ]
    },
    {
     "name": "stdout",
     "output_type": "stream",
     "text": [
      "Results: mean: -37.0 +/- 105.5, min: -365.0, max: 62.0,\n",
      "\n",
      "Testing...\n"
     ]
    },
    {
     "name": "stderr",
     "output_type": "stream",
     "text": [
      "                                                                                                                       \r"
     ]
    },
    {
     "name": "stdout",
     "output_type": "stream",
     "text": [
      "Results: mean: -116.2 +/- 151.5, min: -370.0 max: 66.0\n",
      "Total elapsed time: 25.88 minutes\n",
      "\n",
      "Epoch #10\n"
     ]
    },
    {
     "name": "stderr",
     "output_type": "stream",
     "text": [
      "                                                                                                                       \r"
     ]
    },
    {
     "name": "stdout",
     "output_type": "stream",
     "text": [
      "Results: mean: -32.9 +/- 114.5, min: -370.0, max: 62.0,\n",
      "\n",
      "Testing...\n"
     ]
    },
    {
     "name": "stderr",
     "output_type": "stream",
     "text": [
      "\u001b[32m[I 2023-05-04 16:54:20,461]\u001b[0m Trial 34 finished with value: -5.9 and parameters: {'learning_rate': 0.0035032390642167088, 'batch_size': 128, 'replay_memory_size': 8000, 'discount_factor': 0.8303400284364694, 'frame_repeat': 16, 'optimizer': 'SGD', 'epsilon_decay': 0.9950137729317948}. Best is trial 27 with value: 20.99.\u001b[0m\n"
     ]
    },
    {
     "name": "stdout",
     "output_type": "stream",
     "text": [
      "Results: mean: -5.9 +/- 103.7, min: -365.0 max: 66.0\n",
      "Total elapsed time: 28.53 minutes\n",
      "\n",
      "Learning rate: 0.005394261906536201, Batch size: 128, Replay memory size: 9000,\n",
      "Discount factor: 0.8758450057984496, Frame repeat: 16, Optimizer: SGD, \n",
      "Epsilon decay: 0.9964327445600056\n",
      "\n",
      "Initializing doom...\n",
      "Doom initialized.\n",
      "Initializing New Model\n",
      "\n",
      "Epoch #1\n"
     ]
    },
    {
     "name": "stderr",
     "output_type": "stream",
     "text": [
      "                                                                                                                       \r"
     ]
    },
    {
     "name": "stdout",
     "output_type": "stream",
     "text": [
      "Results: mean: -210.5 +/- 141.7, min: -355.0, max: 62.0,\n",
      "\n",
      "Testing...\n"
     ]
    },
    {
     "name": "stderr",
     "output_type": "stream",
     "text": [
      "                                                                                                                       \r"
     ]
    },
    {
     "name": "stdout",
     "output_type": "stream",
     "text": [
      "Results: mean: -251.1 +/- 102.9, min: -320.0 max: 42.0\n",
      "Total elapsed time: 3.42 minutes\n",
      "\n",
      "Epoch #2\n"
     ]
    },
    {
     "name": "stderr",
     "output_type": "stream",
     "text": [
      "                                                                                                                       \r"
     ]
    },
    {
     "name": "stdout",
     "output_type": "stream",
     "text": [
      "Results: mean: -164.2 +/- 148.7, min: -360.0, max: 62.0,\n",
      "\n",
      "Testing...\n"
     ]
    },
    {
     "name": "stderr",
     "output_type": "stream",
     "text": [
      "                                                                                                                       \r"
     ]
    },
    {
     "name": "stdout",
     "output_type": "stream",
     "text": [
      "Results: mean: -161.8 +/- 145.5, min: -345.0 max: 66.0\n",
      "Total elapsed time: 6.55 minutes\n",
      "\n",
      "Epoch #3\n"
     ]
    },
    {
     "name": "stderr",
     "output_type": "stream",
     "text": [
      "                                                                                                                       \r"
     ]
    },
    {
     "name": "stdout",
     "output_type": "stream",
     "text": [
      "Results: mean: -63.3 +/- 130.5, min: -360.0, max: 62.0,\n",
      "\n",
      "Testing...\n"
     ]
    },
    {
     "name": "stderr",
     "output_type": "stream",
     "text": [
      "                                                                                                                       \r"
     ]
    },
    {
     "name": "stdout",
     "output_type": "stream",
     "text": [
      "Results: mean: -49.7 +/- 110.0, min: -355.0 max: 66.0\n",
      "Total elapsed time: 9.37 minutes\n",
      "\n",
      "Epoch #4\n"
     ]
    },
    {
     "name": "stderr",
     "output_type": "stream",
     "text": [
      "                                                                                                                       \r"
     ]
    },
    {
     "name": "stdout",
     "output_type": "stream",
     "text": [
      "Results: mean: -28.0 +/- 129.4, min: -360.0, max: 62.0,\n",
      "\n",
      "Testing...\n"
     ]
    },
    {
     "name": "stderr",
     "output_type": "stream",
     "text": [
      "                                                                                                                       \r"
     ]
    },
    {
     "name": "stdout",
     "output_type": "stream",
     "text": [
      "Results: mean: 12.6 +/- 105.0, min: -365.0 max: 66.0\n",
      "Total elapsed time: 11.92 minutes\n",
      "\n",
      "Epoch #5\n"
     ]
    },
    {
     "name": "stderr",
     "output_type": "stream",
     "text": [
      "                                                                                                                       \r"
     ]
    },
    {
     "name": "stdout",
     "output_type": "stream",
     "text": [
      "Results: mean: -22.2 +/- 121.5, min: -365.0, max: 62.0,\n",
      "\n",
      "Testing...\n"
     ]
    },
    {
     "name": "stderr",
     "output_type": "stream",
     "text": [
      "                                                                                                                       \r"
     ]
    },
    {
     "name": "stdout",
     "output_type": "stream",
     "text": [
      "Results: mean: -29.9 +/- 146.9, min: -360.0 max: 66.0\n",
      "Total elapsed time: 14.59 minutes\n",
      "\n",
      "Epoch #6\n"
     ]
    },
    {
     "name": "stderr",
     "output_type": "stream",
     "text": [
      "                                                                                                                       \r"
     ]
    },
    {
     "name": "stdout",
     "output_type": "stream",
     "text": [
      "Results: mean: -33.3 +/- 130.8, min: -360.0, max: 62.0,\n",
      "\n",
      "Testing...\n"
     ]
    },
    {
     "name": "stderr",
     "output_type": "stream",
     "text": [
      "                                                                                                                       \r"
     ]
    },
    {
     "name": "stdout",
     "output_type": "stream",
     "text": [
      "Results: mean: -134.0 +/- 157.1, min: -360.0 max: 66.0\n",
      "Total elapsed time: 17.62 minutes\n",
      "\n",
      "Epoch #7\n"
     ]
    },
    {
     "name": "stderr",
     "output_type": "stream",
     "text": [
      "                                                                                                                       \r"
     ]
    },
    {
     "name": "stdout",
     "output_type": "stream",
     "text": [
      "Results: mean: -56.5 +/- 138.8, min: -360.0, max: 62.0,\n",
      "\n",
      "Testing...\n"
     ]
    },
    {
     "name": "stderr",
     "output_type": "stream",
     "text": [
      "                                                                                                                       \r"
     ]
    },
    {
     "name": "stdout",
     "output_type": "stream",
     "text": [
      "Results: mean: -31.2 +/- 149.0, min: -370.0 max: 66.0\n",
      "Total elapsed time: 20.36 minutes\n",
      "\n",
      "Epoch #8\n"
     ]
    },
    {
     "name": "stderr",
     "output_type": "stream",
     "text": [
      "                                                                                                                       \r"
     ]
    },
    {
     "name": "stdout",
     "output_type": "stream",
     "text": [
      "Results: mean: -83.3 +/- 149.5, min: -355.0, max: 62.0,\n",
      "\n",
      "Testing...\n"
     ]
    },
    {
     "name": "stderr",
     "output_type": "stream",
     "text": [
      "                                                                                                                       \r"
     ]
    },
    {
     "name": "stdout",
     "output_type": "stream",
     "text": [
      "Results: mean: -151.2 +/- 141.7, min: -365.0 max: 66.0\n",
      "Total elapsed time: 23.44 minutes\n",
      "\n",
      "Epoch #9\n"
     ]
    },
    {
     "name": "stderr",
     "output_type": "stream",
     "text": [
      "                                                                                                                       \r"
     ]
    },
    {
     "name": "stdout",
     "output_type": "stream",
     "text": [
      "Results: mean: -153.8 +/- 146.2, min: -360.0, max: 62.0,\n",
      "\n",
      "Testing...\n"
     ]
    },
    {
     "name": "stderr",
     "output_type": "stream",
     "text": [
      "                                                                                                                       \r"
     ]
    },
    {
     "name": "stdout",
     "output_type": "stream",
     "text": [
      "Results: mean: -169.6 +/- 151.4, min: -360.0 max: 66.0\n",
      "Total elapsed time: 26.60 minutes\n",
      "\n",
      "Epoch #10\n"
     ]
    },
    {
     "name": "stderr",
     "output_type": "stream",
     "text": [
      "                                                                                                                       \r"
     ]
    },
    {
     "name": "stdout",
     "output_type": "stream",
     "text": [
      "Results: mean: -169.1 +/- 141.6, min: -370.0, max: 62.0,\n",
      "\n",
      "Testing...\n"
     ]
    },
    {
     "name": "stderr",
     "output_type": "stream",
     "text": [
      "\u001b[32m[I 2023-05-04 17:23:42,347]\u001b[0m Trial 35 finished with value: -54.38 and parameters: {'learning_rate': 0.005394261906536201, 'batch_size': 128, 'replay_memory_size': 9000, 'discount_factor': 0.8758450057984496, 'frame_repeat': 16, 'optimizer': 'SGD', 'epsilon_decay': 0.9964327445600056}. Best is trial 27 with value: 20.99.\u001b[0m\n"
     ]
    },
    {
     "name": "stdout",
     "output_type": "stream",
     "text": [
      "Results: mean: -54.4 +/- 155.5, min: -360.0 max: 66.0\n",
      "Total elapsed time: 29.35 minutes\n",
      "\n",
      "Learning rate: 0.0030190943007152495, Batch size: 128, Replay memory size: 7000,\n",
      "Discount factor: 0.9217119517738281, Frame repeat: 16, Optimizer: SGD, \n",
      "Epsilon decay: 0.9960004271180548\n",
      "\n",
      "Initializing doom...\n",
      "Doom initialized.\n",
      "Initializing New Model\n",
      "\n",
      "Epoch #1\n"
     ]
    },
    {
     "name": "stderr",
     "output_type": "stream",
     "text": [
      "                                                                                                                       \r"
     ]
    },
    {
     "name": "stdout",
     "output_type": "stream",
     "text": [
      "Results: mean: -244.2 +/- 127.9, min: -350.0, max: 62.0,\n",
      "\n",
      "Testing...\n"
     ]
    },
    {
     "name": "stderr",
     "output_type": "stream",
     "text": [
      "                                                                                                                       \r"
     ]
    },
    {
     "name": "stdout",
     "output_type": "stream",
     "text": [
      "Results: mean: -299.8 +/- 56.7, min: -330.0 max: 66.0\n",
      "Total elapsed time: 3.49 minutes\n",
      "\n",
      "Epoch #2\n"
     ]
    },
    {
     "name": "stderr",
     "output_type": "stream",
     "text": [
      "                                                                                                                       \r"
     ]
    },
    {
     "name": "stdout",
     "output_type": "stream",
     "text": [
      "Results: mean: -238.1 +/- 127.5, min: -350.0, max: 62.0,\n",
      "\n",
      "Testing...\n"
     ]
    },
    {
     "name": "stderr",
     "output_type": "stream",
     "text": [
      "                                                                                                                       \r"
     ]
    },
    {
     "name": "stdout",
     "output_type": "stream",
     "text": [
      "Results: mean: -242.9 +/- 133.8, min: -335.0 max: 66.0\n",
      "Total elapsed time: 6.84 minutes\n",
      "\n",
      "Epoch #3\n"
     ]
    },
    {
     "name": "stderr",
     "output_type": "stream",
     "text": [
      "                                                                                                                       \r"
     ]
    },
    {
     "name": "stdout",
     "output_type": "stream",
     "text": [
      "Results: mean: -113.1 +/- 173.3, min: -365.0, max: 62.0,\n",
      "\n",
      "Testing...\n"
     ]
    },
    {
     "name": "stderr",
     "output_type": "stream",
     "text": [
      "                                                                                                                       \r"
     ]
    },
    {
     "name": "stdout",
     "output_type": "stream",
     "text": [
      "Results: mean: -62.4 +/- 175.7, min: -350.0 max: 66.0\n",
      "Total elapsed time: 9.61 minutes\n",
      "\n",
      "Epoch #4\n"
     ]
    },
    {
     "name": "stderr",
     "output_type": "stream",
     "text": [
      "                                                                                                                       \r"
     ]
    },
    {
     "name": "stdout",
     "output_type": "stream",
     "text": [
      "Results: mean: 0.3 +/- 103.7, min: -355.0, max: 62.0,\n",
      "\n",
      "Testing...\n"
     ]
    },
    {
     "name": "stderr",
     "output_type": "stream",
     "text": [
      "                                                                                                                       \r"
     ]
    },
    {
     "name": "stdout",
     "output_type": "stream",
     "text": [
      "Results: mean: -6.5 +/- 132.1, min: -365.0 max: 66.0\n",
      "Total elapsed time: 12.19 minutes\n",
      "\n",
      "Epoch #5\n"
     ]
    },
    {
     "name": "stderr",
     "output_type": "stream",
     "text": [
      "                                                                                                                       \r"
     ]
    },
    {
     "name": "stdout",
     "output_type": "stream",
     "text": [
      "Results: mean: -4.5 +/- 99.9, min: -355.0, max: 62.0,\n",
      "\n",
      "Testing...\n"
     ]
    },
    {
     "name": "stderr",
     "output_type": "stream",
     "text": [
      "                                                                                                                       \r"
     ]
    },
    {
     "name": "stdout",
     "output_type": "stream",
     "text": [
      "Results: mean: -56.6 +/- 93.6, min: -335.0 max: 66.0\n",
      "Total elapsed time: 15.00 minutes\n",
      "\n",
      "Epoch #6\n"
     ]
    },
    {
     "name": "stderr",
     "output_type": "stream",
     "text": [
      "                                                                                                                       \r"
     ]
    },
    {
     "name": "stdout",
     "output_type": "stream",
     "text": [
      "Results: mean: 5.7 +/- 73.1, min: -355.0, max: 62.0,\n",
      "\n",
      "Testing...\n"
     ]
    },
    {
     "name": "stderr",
     "output_type": "stream",
     "text": [
      "                                                                                                                       \r"
     ]
    },
    {
     "name": "stdout",
     "output_type": "stream",
     "text": [
      "Results: mean: 25.5 +/- 39.6, min: -127.0 max: 66.0\n",
      "Total elapsed time: 17.52 minutes\n",
      "\n",
      "Epoch #7\n"
     ]
    },
    {
     "name": "stderr",
     "output_type": "stream",
     "text": [
      "                                                                                                                       \r"
     ]
    },
    {
     "name": "stdout",
     "output_type": "stream",
     "text": [
      "Results: mean: -8.9 +/- 73.6, min: -365.0, max: 62.0,\n",
      "\n",
      "Testing...\n"
     ]
    },
    {
     "name": "stderr",
     "output_type": "stream",
     "text": [
      "                                                                                                                       \r"
     ]
    },
    {
     "name": "stdout",
     "output_type": "stream",
     "text": [
      "Results: mean: -39.5 +/- 92.4, min: -360.0 max: 66.0\n",
      "Total elapsed time: 20.27 minutes\n",
      "\n",
      "Epoch #8\n"
     ]
    },
    {
     "name": "stderr",
     "output_type": "stream",
     "text": [
      "                                                                                                                       \r"
     ]
    },
    {
     "name": "stdout",
     "output_type": "stream",
     "text": [
      "Results: mean: -5.4 +/- 76.5, min: -350.0, max: 62.0,\n",
      "\n",
      "Testing...\n"
     ]
    },
    {
     "name": "stderr",
     "output_type": "stream",
     "text": [
      "                                                                                                                       \r"
     ]
    },
    {
     "name": "stdout",
     "output_type": "stream",
     "text": [
      "Results: mean: 7.6 +/- 77.2, min: -350.0 max: 66.0\n",
      "Total elapsed time: 22.87 minutes\n",
      "\n",
      "Epoch #9\n"
     ]
    },
    {
     "name": "stderr",
     "output_type": "stream",
     "text": [
      "                                                                                                                       \r"
     ]
    },
    {
     "name": "stdout",
     "output_type": "stream",
     "text": [
      "Results: mean: -22.1 +/- 91.2, min: -365.0, max: 62.0,\n",
      "\n",
      "Testing...\n"
     ]
    },
    {
     "name": "stderr",
     "output_type": "stream",
     "text": [
      "                                                                                                                       \r"
     ]
    },
    {
     "name": "stdout",
     "output_type": "stream",
     "text": [
      "Results: mean: -11.3 +/- 74.1, min: -350.0 max: 66.0\n",
      "Total elapsed time: 25.56 minutes\n",
      "\n",
      "Epoch #10\n"
     ]
    },
    {
     "name": "stderr",
     "output_type": "stream",
     "text": [
      "                                                                                                                       \r"
     ]
    },
    {
     "name": "stdout",
     "output_type": "stream",
     "text": [
      "Results: mean: -37.4 +/- 88.9, min: -360.0, max: 62.0,\n",
      "\n",
      "Testing...\n"
     ]
    },
    {
     "name": "stderr",
     "output_type": "stream",
     "text": [
      "\u001b[32m[I 2023-05-04 17:52:03,463]\u001b[0m Trial 36 finished with value: -39.01 and parameters: {'learning_rate': 0.0030190943007152495, 'batch_size': 128, 'replay_memory_size': 7000, 'discount_factor': 0.9217119517738281, 'frame_repeat': 16, 'optimizer': 'SGD', 'epsilon_decay': 0.9960004271180548}. Best is trial 27 with value: 20.99.\u001b[0m\n"
     ]
    },
    {
     "name": "stdout",
     "output_type": "stream",
     "text": [
      "Results: mean: -39.0 +/- 89.6, min: -360.0 max: 66.0\n",
      "Total elapsed time: 28.34 minutes\n",
      "\n",
      "Learning rate: 0.007889917974215576, Batch size: 128, Replay memory size: 9000,\n",
      "Discount factor: 0.736852539721471, Frame repeat: 4, Optimizer: SGD, \n",
      "Epsilon decay: 0.9954981882914445\n",
      "\n",
      "Initializing doom...\n",
      "Doom initialized.\n",
      "Initializing New Model\n",
      "\n",
      "Epoch #1\n"
     ]
    },
    {
     "name": "stderr",
     "output_type": "stream",
     "text": [
      "                                                                                                                       \r"
     ]
    },
    {
     "name": "stdout",
     "output_type": "stream",
     "text": [
      "Results: mean: -102.8 +/- 181.0, min: -375.0, max: 74.0,\n",
      "\n",
      "Testing...\n"
     ]
    },
    {
     "name": "stderr",
     "output_type": "stream",
     "text": [
      "                                                                                                                       \r"
     ]
    },
    {
     "name": "stdout",
     "output_type": "stream",
     "text": [
      "Results: mean: -256.8 +/- 136.1, min: -365.0 max: 66.0\n",
      "Total elapsed time: 3.36 minutes\n",
      "\n",
      "Epoch #2\n"
     ]
    },
    {
     "name": "stderr",
     "output_type": "stream",
     "text": [
      "                                                                                                                       \r"
     ]
    },
    {
     "name": "stdout",
     "output_type": "stream",
     "text": [
      "Results: mean: -175.3 +/- 171.4, min: -365.0, max: 74.0,\n",
      "\n",
      "Testing...\n"
     ]
    },
    {
     "name": "stderr",
     "output_type": "stream",
     "text": [
      "                                                                                                                       \r"
     ]
    },
    {
     "name": "stdout",
     "output_type": "stream",
     "text": [
      "Results: mean: -181.1 +/- 145.3, min: -370.0 max: 54.0\n",
      "Total elapsed time: 6.57 minutes\n",
      "\n",
      "Epoch #3\n"
     ]
    },
    {
     "name": "stderr",
     "output_type": "stream",
     "text": [
      "                                                                                                                       \r"
     ]
    },
    {
     "name": "stdout",
     "output_type": "stream",
     "text": [
      "Results: mean: -221.5 +/- 158.7, min: -370.0, max: 74.0,\n",
      "\n",
      "Testing...\n"
     ]
    },
    {
     "name": "stderr",
     "output_type": "stream",
     "text": [
      "                                                                                                                       \r"
     ]
    },
    {
     "name": "stdout",
     "output_type": "stream",
     "text": [
      "Results: mean: -247.9 +/- 125.2, min: -330.0 max: 66.0\n",
      "Total elapsed time: 9.94 minutes\n",
      "\n",
      "Epoch #4\n"
     ]
    },
    {
     "name": "stderr",
     "output_type": "stream",
     "text": [
      "                                                                                                                       \r"
     ]
    },
    {
     "name": "stdout",
     "output_type": "stream",
     "text": [
      "Results: mean: -207.6 +/- 156.9, min: -340.0, max: 62.0,\n",
      "\n",
      "Testing...\n"
     ]
    },
    {
     "name": "stderr",
     "output_type": "stream",
     "text": [
      "                                                                                                                       \r"
     ]
    },
    {
     "name": "stdout",
     "output_type": "stream",
     "text": [
      "Results: mean: -229.6 +/- 129.5, min: -325.0 max: 66.0\n",
      "Total elapsed time: 13.30 minutes\n",
      "\n",
      "Epoch #5\n"
     ]
    },
    {
     "name": "stderr",
     "output_type": "stream",
     "text": [
      "                                                                                                                       \r"
     ]
    },
    {
     "name": "stdout",
     "output_type": "stream",
     "text": [
      "Results: mean: -274.3 +/- 116.9, min: -330.0, max: 70.0,\n",
      "\n",
      "Testing...\n"
     ]
    },
    {
     "name": "stderr",
     "output_type": "stream",
     "text": [
      "                                                                                                                       \r"
     ]
    },
    {
     "name": "stdout",
     "output_type": "stream",
     "text": [
      "Results: mean: -292.9 +/- 72.0, min: -325.0 max: 66.0\n",
      "Total elapsed time: 16.82 minutes\n",
      "\n",
      "Epoch #6\n"
     ]
    },
    {
     "name": "stderr",
     "output_type": "stream",
     "text": [
      "                                                                                                                       \r"
     ]
    },
    {
     "name": "stdout",
     "output_type": "stream",
     "text": [
      "Results: mean: -240.7 +/- 137.8, min: -330.0, max: 70.0,\n",
      "\n",
      "Testing...\n"
     ]
    },
    {
     "name": "stderr",
     "output_type": "stream",
     "text": [
      "                                                                                                                       \r"
     ]
    },
    {
     "name": "stdout",
     "output_type": "stream",
     "text": [
      "Results: mean: -234.8 +/- 139.5, min: -345.0 max: 66.0\n",
      "Total elapsed time: 20.17 minutes\n",
      "\n",
      "Epoch #7\n"
     ]
    },
    {
     "name": "stderr",
     "output_type": "stream",
     "text": [
      "                                                                                                                       \r"
     ]
    },
    {
     "name": "stdout",
     "output_type": "stream",
     "text": [
      "Results: mean: -236.3 +/- 151.4, min: -335.0, max: 62.0,\n",
      "\n",
      "Testing...\n"
     ]
    },
    {
     "name": "stderr",
     "output_type": "stream",
     "text": [
      "                                                                                                                       \r"
     ]
    },
    {
     "name": "stdout",
     "output_type": "stream",
     "text": [
      "Results: mean: -304.2 +/- 27.4, min: -335.0 max: -40.0\n",
      "Total elapsed time: 23.73 minutes\n",
      "\n",
      "Epoch #8\n"
     ]
    },
    {
     "name": "stderr",
     "output_type": "stream",
     "text": [
      "                                                                                                                       \r"
     ]
    },
    {
     "name": "stdout",
     "output_type": "stream",
     "text": [
      "Results: mean: -271.0 +/- 117.6, min: -330.0, max: 58.0,\n",
      "\n",
      "Testing...\n"
     ]
    },
    {
     "name": "stderr",
     "output_type": "stream",
     "text": [
      "                                                                                                                       \r"
     ]
    },
    {
     "name": "stdout",
     "output_type": "stream",
     "text": [
      "Results: mean: -302.4 +/- 39.1, min: -325.0 max: 66.0\n",
      "Total elapsed time: 27.22 minutes\n",
      "\n",
      "Epoch #9\n"
     ]
    },
    {
     "name": "stderr",
     "output_type": "stream",
     "text": [
      "                                                                                                                       \r"
     ]
    },
    {
     "name": "stdout",
     "output_type": "stream",
     "text": [
      "Results: mean: -260.7 +/- 125.6, min: -330.0, max: 54.0,\n",
      "\n",
      "Testing...\n"
     ]
    },
    {
     "name": "stderr",
     "output_type": "stream",
     "text": [
      "                                                                                                                       \r"
     ]
    },
    {
     "name": "stdout",
     "output_type": "stream",
     "text": [
      "Results: mean: -301.1 +/- 44.6, min: -330.0 max: 42.0\n",
      "Total elapsed time: 30.70 minutes\n",
      "\n",
      "Epoch #10\n"
     ]
    },
    {
     "name": "stderr",
     "output_type": "stream",
     "text": [
      "                                                                                                                       \r"
     ]
    },
    {
     "name": "stdout",
     "output_type": "stream",
     "text": [
      "Results: mean: -274.0 +/- 109.7, min: -330.0, max: 58.0,\n",
      "\n",
      "Testing...\n"
     ]
    },
    {
     "name": "stderr",
     "output_type": "stream",
     "text": [
      "\u001b[32m[I 2023-05-04 18:26:15,855]\u001b[0m Trial 37 finished with value: -293.54 and parameters: {'learning_rate': 0.007889917974215576, 'batch_size': 128, 'replay_memory_size': 9000, 'discount_factor': 0.736852539721471, 'frame_repeat': 4, 'optimizer': 'SGD', 'epsilon_decay': 0.9954981882914445}. Best is trial 27 with value: 20.99.\u001b[0m\n"
     ]
    },
    {
     "name": "stdout",
     "output_type": "stream",
     "text": [
      "Results: mean: -293.5 +/- 54.8, min: -320.0 max: 42.0\n",
      "Total elapsed time: 34.20 minutes\n",
      "\n",
      "Learning rate: 0.0018006014019369462, Batch size: 128, Replay memory size: 10000,\n",
      "Discount factor: 0.81597876223657, Frame repeat: 16, Optimizer: SGD, \n",
      "Epsilon decay: 0.9946787204271729\n",
      "\n",
      "Initializing doom...\n",
      "Doom initialized.\n",
      "Initializing New Model\n",
      "\n",
      "Epoch #1\n"
     ]
    },
    {
     "name": "stderr",
     "output_type": "stream",
     "text": [
      "                                                                                                                       \r"
     ]
    },
    {
     "name": "stdout",
     "output_type": "stream",
     "text": [
      "Results: mean: -283.8 +/- 83.3, min: -355.0, max: 62.0,\n",
      "\n",
      "Testing...\n"
     ]
    },
    {
     "name": "stderr",
     "output_type": "stream",
     "text": [
      "                                                                                                                       \r"
     ]
    },
    {
     "name": "stdout",
     "output_type": "stream",
     "text": [
      "Results: mean: -289.6 +/- 69.2, min: -325.0 max: 42.0\n",
      "Total elapsed time: 3.51 minutes\n",
      "\n",
      "Epoch #2\n"
     ]
    },
    {
     "name": "stderr",
     "output_type": "stream",
     "text": [
      "                                                                                                                       \r"
     ]
    },
    {
     "name": "stdout",
     "output_type": "stream",
     "text": [
      "Results: mean: -223.8 +/- 137.4, min: -345.0, max: 62.0,\n",
      "\n",
      "Testing...\n"
     ]
    },
    {
     "name": "stderr",
     "output_type": "stream",
     "text": [
      "                                                                                                                       \r"
     ]
    },
    {
     "name": "stdout",
     "output_type": "stream",
     "text": [
      "Results: mean: -219.0 +/- 122.2, min: -325.0 max: 54.0\n",
      "Total elapsed time: 6.85 minutes\n",
      "\n",
      "Epoch #3\n"
     ]
    },
    {
     "name": "stderr",
     "output_type": "stream",
     "text": [
      "                                                                                                                       \r"
     ]
    },
    {
     "name": "stdout",
     "output_type": "stream",
     "text": [
      "Results: mean: -144.9 +/- 164.4, min: -345.0, max: 62.0,\n",
      "\n",
      "Testing...\n"
     ]
    },
    {
     "name": "stderr",
     "output_type": "stream",
     "text": [
      "                                                                                                                       \r"
     ]
    },
    {
     "name": "stdout",
     "output_type": "stream",
     "text": [
      "Results: mean: -95.4 +/- 176.0, min: -325.0 max: 66.0\n",
      "Total elapsed time: 9.79 minutes\n",
      "\n",
      "Epoch #4\n"
     ]
    },
    {
     "name": "stderr",
     "output_type": "stream",
     "text": [
      "                                                                                                                       \r"
     ]
    },
    {
     "name": "stdout",
     "output_type": "stream",
     "text": [
      "Results: mean: -64.2 +/- 150.4, min: -350.0, max: 62.0,\n",
      "\n",
      "Testing...\n"
     ]
    },
    {
     "name": "stderr",
     "output_type": "stream",
     "text": [
      "                                                                                                                       \r"
     ]
    },
    {
     "name": "stdout",
     "output_type": "stream",
     "text": [
      "Results: mean: 9.0 +/- 93.8, min: -320.0 max: 66.0\n",
      "Total elapsed time: 12.39 minutes\n",
      "\n",
      "Epoch #5\n"
     ]
    },
    {
     "name": "stderr",
     "output_type": "stream",
     "text": [
      "                                                                                                                       \r"
     ]
    },
    {
     "name": "stdout",
     "output_type": "stream",
     "text": [
      "Results: mean: -49.3 +/- 143.0, min: -365.0, max: 62.0,\n",
      "\n",
      "Testing...\n"
     ]
    },
    {
     "name": "stderr",
     "output_type": "stream",
     "text": [
      "                                                                                                                       \r"
     ]
    },
    {
     "name": "stdout",
     "output_type": "stream",
     "text": [
      "Results: mean: -16.2 +/- 115.1, min: -335.0 max: 66.0\n",
      "Total elapsed time: 15.09 minutes\n",
      "\n",
      "Epoch #6\n"
     ]
    },
    {
     "name": "stderr",
     "output_type": "stream",
     "text": [
      "                                                                                                                       \r"
     ]
    },
    {
     "name": "stdout",
     "output_type": "stream",
     "text": [
      "Results: mean: -14.1 +/- 92.5, min: -370.0, max: 62.0,\n",
      "\n",
      "Testing...\n"
     ]
    },
    {
     "name": "stderr",
     "output_type": "stream",
     "text": [
      "                                                                                                                       \r"
     ]
    },
    {
     "name": "stdout",
     "output_type": "stream",
     "text": [
      "Results: mean: 0.5 +/- 91.1, min: -365.0 max: 66.0\n",
      "Total elapsed time: 17.73 minutes\n",
      "\n",
      "Epoch #7\n"
     ]
    },
    {
     "name": "stderr",
     "output_type": "stream",
     "text": [
      "                                                                                                                       \r"
     ]
    },
    {
     "name": "stdout",
     "output_type": "stream",
     "text": [
      "Results: mean: -7.0 +/- 70.6, min: -360.0, max: 62.0,\n",
      "\n",
      "Testing...\n"
     ]
    },
    {
     "name": "stderr",
     "output_type": "stream",
     "text": [
      "                                                                                                                       \r"
     ]
    },
    {
     "name": "stdout",
     "output_type": "stream",
     "text": [
      "Results: mean: -62.7 +/- 99.3, min: -340.0 max: 66.0\n",
      "Total elapsed time: 20.62 minutes\n",
      "\n",
      "Epoch #8\n"
     ]
    },
    {
     "name": "stderr",
     "output_type": "stream",
     "text": [
      "                                                                                                                       \r"
     ]
    },
    {
     "name": "stdout",
     "output_type": "stream",
     "text": [
      "Results: mean: -10.2 +/- 77.0, min: -360.0, max: 62.0,\n",
      "\n",
      "Testing...\n"
     ]
    },
    {
     "name": "stderr",
     "output_type": "stream",
     "text": [
      "                                                                                                                       \r"
     ]
    },
    {
     "name": "stdout",
     "output_type": "stream",
     "text": [
      "Results: mean: -2.2 +/- 50.2, min: -300.0 max: 66.0\n",
      "Total elapsed time: 23.29 minutes\n",
      "\n",
      "Epoch #9\n"
     ]
    },
    {
     "name": "stderr",
     "output_type": "stream",
     "text": [
      "                                                                                                                       \r"
     ]
    },
    {
     "name": "stdout",
     "output_type": "stream",
     "text": [
      "Results: mean: 10.6 +/- 63.5, min: -345.0, max: 62.0,\n",
      "\n",
      "Testing...\n"
     ]
    },
    {
     "name": "stderr",
     "output_type": "stream",
     "text": [
      "                                                                                                                       \r"
     ]
    },
    {
     "name": "stdout",
     "output_type": "stream",
     "text": [
      "Results: mean: -61.4 +/- 104.3, min: -365.0 max: 66.0\n",
      "Total elapsed time: 26.12 minutes\n",
      "\n",
      "Epoch #10\n"
     ]
    },
    {
     "name": "stderr",
     "output_type": "stream",
     "text": [
      "                                                                                                                       \r"
     ]
    },
    {
     "name": "stdout",
     "output_type": "stream",
     "text": [
      "Results: mean: 22.8 +/- 62.5, min: -345.0, max: 62.0,\n",
      "\n",
      "Testing...\n"
     ]
    },
    {
     "name": "stderr",
     "output_type": "stream",
     "text": [
      "\u001b[32m[I 2023-05-04 18:55:07,137]\u001b[0m Trial 38 finished with value: -27.35 and parameters: {'learning_rate': 0.0018006014019369462, 'batch_size': 128, 'replay_memory_size': 10000, 'discount_factor': 0.81597876223657, 'frame_repeat': 16, 'optimizer': 'SGD', 'epsilon_decay': 0.9946787204271729}. Best is trial 27 with value: 20.99.\u001b[0m\n"
     ]
    },
    {
     "name": "stdout",
     "output_type": "stream",
     "text": [
      "Results: mean: -27.4 +/- 83.3, min: -360.0 max: 66.0\n",
      "Total elapsed time: 28.84 minutes\n",
      "\n",
      "Learning rate: 0.0046738139361703415, Batch size: 64, Replay memory size: 6000,\n",
      "Discount factor: 0.8593545819347264, Frame repeat: 8, Optimizer: SGD, \n",
      "Epsilon decay: 0.9970370367739981\n",
      "\n",
      "Initializing doom...\n",
      "Doom initialized.\n",
      "Initializing New Model\n",
      "\n",
      "Epoch #1\n"
     ]
    },
    {
     "name": "stderr",
     "output_type": "stream",
     "text": [
      "                                                                                                                       \r"
     ]
    },
    {
     "name": "stdout",
     "output_type": "stream",
     "text": [
      "Results: mean: -139.6 +/- 181.3, min: -365.0, max: 70.0,\n",
      "\n",
      "Testing...\n"
     ]
    },
    {
     "name": "stderr",
     "output_type": "stream",
     "text": [
      "                                                                                                                       \r"
     ]
    },
    {
     "name": "stdout",
     "output_type": "stream",
     "text": [
      "Results: mean: -192.2 +/- 149.9, min: -360.0 max: 66.0\n",
      "Total elapsed time: 3.22 minutes\n",
      "\n",
      "Epoch #2\n"
     ]
    },
    {
     "name": "stderr",
     "output_type": "stream",
     "text": [
      "                                                                                                                       \r"
     ]
    },
    {
     "name": "stdout",
     "output_type": "stream",
     "text": [
      "Results: mean: -191.0 +/- 150.5, min: -345.0, max: 70.0,\n",
      "\n",
      "Testing...\n"
     ]
    },
    {
     "name": "stderr",
     "output_type": "stream",
     "text": [
      "                                                                                                                       \r"
     ]
    },
    {
     "name": "stdout",
     "output_type": "stream",
     "text": [
      "Results: mean: -253.2 +/- 127.8, min: -330.0 max: 66.0\n",
      "Total elapsed time: 6.61 minutes\n",
      "\n",
      "Epoch #3\n"
     ]
    },
    {
     "name": "stderr",
     "output_type": "stream",
     "text": [
      "                                                                                                                       \r"
     ]
    },
    {
     "name": "stdout",
     "output_type": "stream",
     "text": [
      "Results: mean: -222.8 +/- 145.2, min: -360.0, max: 70.0,\n",
      "\n",
      "Testing...\n"
     ]
    },
    {
     "name": "stderr",
     "output_type": "stream",
     "text": [
      "                                                                                                                       \r"
     ]
    },
    {
     "name": "stdout",
     "output_type": "stream",
     "text": [
      "Results: mean: -218.4 +/- 147.3, min: -340.0 max: 66.0\n",
      "Total elapsed time: 9.88 minutes\n",
      "\n",
      "Epoch #4\n"
     ]
    },
    {
     "name": "stderr",
     "output_type": "stream",
     "text": [
      "                                                                                                                       \r"
     ]
    },
    {
     "name": "stdout",
     "output_type": "stream",
     "text": [
      "Results: mean: -180.2 +/- 173.5, min: -350.0, max: 70.0,\n",
      "\n",
      "Testing...\n"
     ]
    },
    {
     "name": "stderr",
     "output_type": "stream",
     "text": [
      "                                                                                                                       \r"
     ]
    },
    {
     "name": "stdout",
     "output_type": "stream",
     "text": [
      "Results: mean: -223.3 +/- 150.0, min: -340.0 max: 66.0\n",
      "Total elapsed time: 13.18 minutes\n",
      "\n",
      "Epoch #5\n"
     ]
    },
    {
     "name": "stderr",
     "output_type": "stream",
     "text": [
      "                                                                                                                       \r"
     ]
    },
    {
     "name": "stdout",
     "output_type": "stream",
     "text": [
      "Results: mean: -83.2 +/- 181.1, min: -340.0, max: 70.0,\n",
      "\n",
      "Testing...\n"
     ]
    },
    {
     "name": "stderr",
     "output_type": "stream",
     "text": [
      "                                                                                                                       \r"
     ]
    },
    {
     "name": "stdout",
     "output_type": "stream",
     "text": [
      "Results: mean: -36.6 +/- 160.5, min: -315.0 max: 66.0\n",
      "Total elapsed time: 15.90 minutes\n",
      "\n",
      "Epoch #6\n"
     ]
    },
    {
     "name": "stderr",
     "output_type": "stream",
     "text": [
      "                                                                                                                       \r"
     ]
    },
    {
     "name": "stdout",
     "output_type": "stream",
     "text": [
      "Results: mean: -110.7 +/- 174.3, min: -355.0, max: 70.0,\n",
      "\n",
      "Testing...\n"
     ]
    },
    {
     "name": "stderr",
     "output_type": "stream",
     "text": [
      "                                                                                                                       \r"
     ]
    },
    {
     "name": "stdout",
     "output_type": "stream",
     "text": [
      "Results: mean: -46.0 +/- 164.1, min: -345.0 max: 66.0\n",
      "Total elapsed time: 18.66 minutes\n",
      "\n",
      "Epoch #7\n"
     ]
    },
    {
     "name": "stderr",
     "output_type": "stream",
     "text": [
      "                                                                                                                       \r"
     ]
    },
    {
     "name": "stdout",
     "output_type": "stream",
     "text": [
      "Results: mean: -28.6 +/- 153.3, min: -340.0, max: 70.0,\n",
      "\n",
      "Testing...\n"
     ]
    },
    {
     "name": "stderr",
     "output_type": "stream",
     "text": [
      "                                                                                                                       \r"
     ]
    },
    {
     "name": "stdout",
     "output_type": "stream",
     "text": [
      "Results: mean: -105.8 +/- 174.0, min: -365.0 max: 66.0\n",
      "Total elapsed time: 21.58 minutes\n",
      "\n",
      "Epoch #8\n"
     ]
    },
    {
     "name": "stderr",
     "output_type": "stream",
     "text": [
      "                                                                                                                       \r"
     ]
    },
    {
     "name": "stdout",
     "output_type": "stream",
     "text": [
      "Results: mean: -70.3 +/- 154.9, min: -365.0, max: 70.0,\n",
      "\n",
      "Testing...\n"
     ]
    },
    {
     "name": "stderr",
     "output_type": "stream",
     "text": [
      "                                                                                                                       \r"
     ]
    },
    {
     "name": "stdout",
     "output_type": "stream",
     "text": [
      "Results: mean: -23.3 +/- 131.4, min: -350.0 max: 66.0\n",
      "Total elapsed time: 24.27 minutes\n",
      "\n",
      "Epoch #9\n"
     ]
    },
    {
     "name": "stderr",
     "output_type": "stream",
     "text": [
      "                                                                                                                       \r"
     ]
    },
    {
     "name": "stdout",
     "output_type": "stream",
     "text": [
      "Results: mean: -69.3 +/- 161.4, min: -360.0, max: 70.0,\n",
      "\n",
      "Testing...\n"
     ]
    },
    {
     "name": "stderr",
     "output_type": "stream",
     "text": [
      "                                                                                                                       \r"
     ]
    },
    {
     "name": "stdout",
     "output_type": "stream",
     "text": [
      "Results: mean: -47.0 +/- 170.8, min: -345.0 max: 66.0\n",
      "Total elapsed time: 27.01 minutes\n",
      "\n",
      "Epoch #10\n"
     ]
    },
    {
     "name": "stderr",
     "output_type": "stream",
     "text": [
      "                                                                                                                       \r"
     ]
    },
    {
     "name": "stdout",
     "output_type": "stream",
     "text": [
      "Results: mean: -102.8 +/- 179.0, min: -345.0, max: 70.0,\n",
      "\n",
      "Testing...\n"
     ]
    },
    {
     "name": "stderr",
     "output_type": "stream",
     "text": [
      "\u001b[32m[I 2023-05-04 19:25:20,118]\u001b[0m Trial 39 finished with value: -188.95 and parameters: {'learning_rate': 0.0046738139361703415, 'batch_size': 64, 'replay_memory_size': 6000, 'discount_factor': 0.8593545819347264, 'frame_repeat': 8, 'optimizer': 'SGD', 'epsilon_decay': 0.9970370367739981}. Best is trial 27 with value: 20.99.\u001b[0m\n"
     ]
    },
    {
     "name": "stdout",
     "output_type": "stream",
     "text": [
      "Results: mean: -188.9 +/- 164.8, min: -330.0 max: 66.0\n",
      "Total elapsed time: 30.21 minutes\n",
      "\n",
      "Learning rate: 0.0038652059636612255, Batch size: 128, Replay memory size: 8000,\n",
      "Discount factor: 0.9468242262556419, Frame repeat: 16, Optimizer: SGD, \n",
      "Epsilon decay: 0.9957850351695132\n",
      "\n",
      "Initializing doom...\n",
      "Doom initialized.\n",
      "Initializing New Model\n",
      "\n",
      "Epoch #1\n"
     ]
    },
    {
     "name": "stderr",
     "output_type": "stream",
     "text": [
      "                                                                                                                       \r"
     ]
    },
    {
     "name": "stdout",
     "output_type": "stream",
     "text": [
      "Results: mean: -232.1 +/- 133.9, min: -345.0, max: 62.0,\n",
      "\n",
      "Testing...\n"
     ]
    },
    {
     "name": "stderr",
     "output_type": "stream",
     "text": [
      "                                                                                                                       \r"
     ]
    },
    {
     "name": "stdout",
     "output_type": "stream",
     "text": [
      "Results: mean: -231.6 +/- 129.7, min: -325.0 max: 54.0\n",
      "Total elapsed time: 3.37 minutes\n",
      "\n",
      "Epoch #2\n"
     ]
    },
    {
     "name": "stderr",
     "output_type": "stream",
     "text": [
      "                                                                                                                       \r"
     ]
    },
    {
     "name": "stdout",
     "output_type": "stream",
     "text": [
      "Results: mean: -196.8 +/- 149.9, min: -365.0, max: 62.0,\n",
      "\n",
      "Testing...\n"
     ]
    },
    {
     "name": "stderr",
     "output_type": "stream",
     "text": [
      "                                                                                                                       \r"
     ]
    },
    {
     "name": "stdout",
     "output_type": "stream",
     "text": [
      "Results: mean: -187.4 +/- 143.0, min: -370.0 max: 66.0\n",
      "Total elapsed time: 6.61 minutes\n",
      "\n",
      "Epoch #3\n"
     ]
    },
    {
     "name": "stderr",
     "output_type": "stream",
     "text": [
      "                                                                                                                       \r"
     ]
    },
    {
     "name": "stdout",
     "output_type": "stream",
     "text": [
      "Results: mean: -34.9 +/- 133.9, min: -360.0, max: 62.0,\n",
      "\n",
      "Testing...\n"
     ]
    },
    {
     "name": "stderr",
     "output_type": "stream",
     "text": [
      "                                                                                                                       \r"
     ]
    },
    {
     "name": "stdout",
     "output_type": "stream",
     "text": [
      "Results: mean: -32.5 +/- 119.4, min: -355.0 max: 66.0\n",
      "Total elapsed time: 9.35 minutes\n",
      "\n",
      "Epoch #4\n"
     ]
    },
    {
     "name": "stderr",
     "output_type": "stream",
     "text": [
      "                                                                                                                       \r"
     ]
    },
    {
     "name": "stdout",
     "output_type": "stream",
     "text": [
      "Results: mean: -13.6 +/- 106.1, min: -355.0, max: 62.0,\n",
      "\n",
      "Testing...\n"
     ]
    },
    {
     "name": "stderr",
     "output_type": "stream",
     "text": [
      "                                                                                                                       \r"
     ]
    },
    {
     "name": "stdout",
     "output_type": "stream",
     "text": [
      "Results: mean: 17.7 +/- 79.7, min: -365.0 max: 66.0\n",
      "Total elapsed time: 11.89 minutes\n",
      "\n",
      "Epoch #5\n"
     ]
    },
    {
     "name": "stderr",
     "output_type": "stream",
     "text": [
      "                                                                                                                       \r"
     ]
    },
    {
     "name": "stdout",
     "output_type": "stream",
     "text": [
      "Results: mean: 4.1 +/- 86.6, min: -360.0, max: 62.0,\n",
      "\n",
      "Testing...\n"
     ]
    },
    {
     "name": "stderr",
     "output_type": "stream",
     "text": [
      "                                                                                                                       \r"
     ]
    },
    {
     "name": "stdout",
     "output_type": "stream",
     "text": [
      "Results: mean: 38.5 +/- 60.7, min: -350.0 max: 66.0\n",
      "Total elapsed time: 14.37 minutes\n",
      "\n",
      "Epoch #6\n"
     ]
    },
    {
     "name": "stderr",
     "output_type": "stream",
     "text": [
      "                                                                                                                       \r"
     ]
    },
    {
     "name": "stdout",
     "output_type": "stream",
     "text": [
      "Results: mean: 20.2 +/- 74.6, min: -340.0, max: 62.0,\n",
      "\n",
      "Testing...\n"
     ]
    },
    {
     "name": "stderr",
     "output_type": "stream",
     "text": [
      "                                                                                                                       \r"
     ]
    },
    {
     "name": "stdout",
     "output_type": "stream",
     "text": [
      "Results: mean: 36.2 +/- 61.0, min: -315.0 max: 66.0\n",
      "Total elapsed time: 16.84 minutes\n",
      "\n",
      "Epoch #7\n"
     ]
    },
    {
     "name": "stderr",
     "output_type": "stream",
     "text": [
      "                                                                                                                       \r"
     ]
    },
    {
     "name": "stdout",
     "output_type": "stream",
     "text": [
      "Results: mean: 16.6 +/- 75.2, min: -355.0, max: 62.0,\n",
      "\n",
      "Testing...\n"
     ]
    },
    {
     "name": "stderr",
     "output_type": "stream",
     "text": [
      "                                                                                                                       \r"
     ]
    },
    {
     "name": "stdout",
     "output_type": "stream",
     "text": [
      "Results: mean: 6.5 +/- 54.0, min: -340.0 max: 66.0\n",
      "Total elapsed time: 19.46 minutes\n",
      "\n",
      "Epoch #8\n"
     ]
    },
    {
     "name": "stderr",
     "output_type": "stream",
     "text": [
      "                                                                                                                       \r"
     ]
    },
    {
     "name": "stdout",
     "output_type": "stream",
     "text": [
      "Results: mean: -4.9 +/- 93.8, min: -350.0, max: 62.0,\n",
      "\n",
      "Testing...\n"
     ]
    },
    {
     "name": "stderr",
     "output_type": "stream",
     "text": [
      "                                                                                                                       \r"
     ]
    },
    {
     "name": "stdout",
     "output_type": "stream",
     "text": [
      "Results: mean: -29.6 +/- 102.3, min: -355.0 max: 66.0\n",
      "Total elapsed time: 22.23 minutes\n",
      "\n",
      "Epoch #9\n"
     ]
    },
    {
     "name": "stderr",
     "output_type": "stream",
     "text": [
      "                                                                                                                       \r"
     ]
    },
    {
     "name": "stdout",
     "output_type": "stream",
     "text": [
      "Results: mean: -41.4 +/- 134.0, min: -365.0, max: 62.0,\n",
      "\n",
      "Testing...\n"
     ]
    },
    {
     "name": "stderr",
     "output_type": "stream",
     "text": [
      "                                                                                                                       \r"
     ]
    },
    {
     "name": "stdout",
     "output_type": "stream",
     "text": [
      "Results: mean: -157.2 +/- 164.1, min: -335.0 max: 66.0\n",
      "Total elapsed time: 25.33 minutes\n",
      "\n",
      "Epoch #10\n"
     ]
    },
    {
     "name": "stderr",
     "output_type": "stream",
     "text": [
      "                                                                                                                       \r"
     ]
    },
    {
     "name": "stdout",
     "output_type": "stream",
     "text": [
      "Results: mean: -39.8 +/- 125.2, min: -365.0, max: 62.0,\n",
      "\n",
      "Testing...\n"
     ]
    },
    {
     "name": "stderr",
     "output_type": "stream",
     "text": [
      "\u001b[32m[I 2023-05-04 19:53:25,080]\u001b[0m Trial 40 finished with value: -32.34 and parameters: {'learning_rate': 0.0038652059636612255, 'batch_size': 128, 'replay_memory_size': 8000, 'discount_factor': 0.9468242262556419, 'frame_repeat': 16, 'optimizer': 'SGD', 'epsilon_decay': 0.9957850351695132}. Best is trial 27 with value: 20.99.\u001b[0m\n"
     ]
    },
    {
     "name": "stdout",
     "output_type": "stream",
     "text": [
      "Results: mean: -32.3 +/- 138.4, min: -365.0 max: 66.0\n",
      "Total elapsed time: 28.07 minutes\n",
      "\n",
      "Learning rate: 0.002618436967950741, Batch size: 128, Replay memory size: 4000,\n",
      "Discount factor: 0.8893634571531205, Frame repeat: 4, Optimizer: SGD, \n",
      "Epsilon decay: 0.9949835304305705\n",
      "\n",
      "Initializing doom...\n",
      "Doom initialized.\n",
      "Initializing New Model\n",
      "\n",
      "Epoch #1\n"
     ]
    },
    {
     "name": "stderr",
     "output_type": "stream",
     "text": [
      "                                                                                                                       \r"
     ]
    },
    {
     "name": "stdout",
     "output_type": "stream",
     "text": [
      "Results: mean: -148.4 +/- 198.4, min: -365.0, max: 74.0,\n",
      "\n",
      "Testing...\n"
     ]
    },
    {
     "name": "stderr",
     "output_type": "stream",
     "text": [
      "                                                                                                                       \r"
     ]
    },
    {
     "name": "stdout",
     "output_type": "stream",
     "text": [
      "Results: mean: -222.3 +/- 142.2, min: -370.0 max: 66.0\n",
      "Total elapsed time: 3.29 minutes\n",
      "\n",
      "Epoch #2\n"
     ]
    },
    {
     "name": "stderr",
     "output_type": "stream",
     "text": [
      "                                                                                                                       \r"
     ]
    },
    {
     "name": "stdout",
     "output_type": "stream",
     "text": [
      "Results: mean: -162.6 +/- 187.1, min: -370.0, max: 74.0,\n",
      "\n",
      "Testing...\n"
     ]
    },
    {
     "name": "stderr",
     "output_type": "stream",
     "text": [
      "                                                                                                                       \r"
     ]
    },
    {
     "name": "stdout",
     "output_type": "stream",
     "text": [
      "Results: mean: -269.7 +/- 140.0, min: -370.0 max: 66.0\n",
      "Total elapsed time: 6.66 minutes\n",
      "\n",
      "Epoch #3\n"
     ]
    },
    {
     "name": "stderr",
     "output_type": "stream",
     "text": [
      "                                                                                                                       \r"
     ]
    },
    {
     "name": "stdout",
     "output_type": "stream",
     "text": [
      "Results: mean: -129.4 +/- 176.9, min: -370.0, max: 74.0,\n",
      "\n",
      "Testing...\n"
     ]
    },
    {
     "name": "stderr",
     "output_type": "stream",
     "text": [
      "                                                                                                                       \r"
     ]
    },
    {
     "name": "stdout",
     "output_type": "stream",
     "text": [
      "Results: mean: -205.4 +/- 141.8, min: -335.0 max: 66.0\n",
      "Total elapsed time: 9.89 minutes\n",
      "\n",
      "Epoch #4\n"
     ]
    },
    {
     "name": "stderr",
     "output_type": "stream",
     "text": [
      "                                                                                                                       \r"
     ]
    },
    {
     "name": "stdout",
     "output_type": "stream",
     "text": [
      "Results: mean: -112.2 +/- 155.0, min: -345.0, max: 74.0,\n",
      "\n",
      "Testing...\n"
     ]
    },
    {
     "name": "stderr",
     "output_type": "stream",
     "text": [
      "                                                                                                                       \r"
     ]
    },
    {
     "name": "stdout",
     "output_type": "stream",
     "text": [
      "Results: mean: -253.0 +/- 105.0, min: -320.0 max: 54.0\n",
      "Total elapsed time: 13.30 minutes\n",
      "\n",
      "Epoch #5\n"
     ]
    },
    {
     "name": "stderr",
     "output_type": "stream",
     "text": [
      "                                                                                                                       \r"
     ]
    },
    {
     "name": "stdout",
     "output_type": "stream",
     "text": [
      "Results: mean: -48.1 +/- 150.5, min: -330.0, max: 74.0,\n",
      "\n",
      "Testing...\n"
     ]
    },
    {
     "name": "stderr",
     "output_type": "stream",
     "text": [
      "                                                                                                                       \r"
     ]
    },
    {
     "name": "stdout",
     "output_type": "stream",
     "text": [
      "Results: mean: -199.4 +/- 132.9, min: -335.0 max: 66.0\n",
      "Total elapsed time: 16.57 minutes\n",
      "\n",
      "Epoch #6\n"
     ]
    },
    {
     "name": "stderr",
     "output_type": "stream",
     "text": [
      "                                                                                                                       \r"
     ]
    },
    {
     "name": "stdout",
     "output_type": "stream",
     "text": [
      "Results: mean: -92.5 +/- 154.7, min: -370.0, max: 70.0,\n",
      "\n",
      "Testing...\n"
     ]
    },
    {
     "name": "stderr",
     "output_type": "stream",
     "text": [
      "                                                                                                                       \r"
     ]
    },
    {
     "name": "stdout",
     "output_type": "stream",
     "text": [
      "Results: mean: -165.6 +/- 154.8, min: -370.0 max: 54.0\n",
      "Total elapsed time: 19.71 minutes\n",
      "\n",
      "Epoch #7\n"
     ]
    },
    {
     "name": "stderr",
     "output_type": "stream",
     "text": [
      "                                                                                                                       \r"
     ]
    },
    {
     "name": "stdout",
     "output_type": "stream",
     "text": [
      "Results: mean: -59.6 +/- 175.8, min: -365.0, max: 74.0,\n",
      "\n",
      "Testing...\n"
     ]
    },
    {
     "name": "stderr",
     "output_type": "stream",
     "text": [
      "                                                                                                                       \r"
     ]
    },
    {
     "name": "stdout",
     "output_type": "stream",
     "text": [
      "Results: mean: -131.7 +/- 194.8, min: -370.0 max: 66.0\n",
      "Total elapsed time: 22.66 minutes\n",
      "\n",
      "Epoch #8\n"
     ]
    },
    {
     "name": "stderr",
     "output_type": "stream",
     "text": [
      "                                                                                                                       \r"
     ]
    },
    {
     "name": "stdout",
     "output_type": "stream",
     "text": [
      "Results: mean: -42.1 +/- 149.4, min: -370.0, max: 74.0,\n",
      "\n",
      "Testing...\n"
     ]
    },
    {
     "name": "stderr",
     "output_type": "stream",
     "text": [
      "                                                                                                                       \r"
     ]
    },
    {
     "name": "stdout",
     "output_type": "stream",
     "text": [
      "Results: mean: -219.5 +/- 140.4, min: -370.0 max: 66.0\n",
      "Total elapsed time: 25.95 minutes\n",
      "\n",
      "Epoch #9\n"
     ]
    },
    {
     "name": "stderr",
     "output_type": "stream",
     "text": [
      "                                                                                                                       \r"
     ]
    },
    {
     "name": "stdout",
     "output_type": "stream",
     "text": [
      "Results: mean: -93.5 +/- 170.9, min: -370.0, max: 74.0,\n",
      "\n",
      "Testing...\n"
     ]
    },
    {
     "name": "stderr",
     "output_type": "stream",
     "text": [
      "                                                                                                                       \r"
     ]
    },
    {
     "name": "stdout",
     "output_type": "stream",
     "text": [
      "Results: mean: -193.2 +/- 148.8, min: -370.0 max: 66.0\n",
      "Total elapsed time: 29.18 minutes\n",
      "\n",
      "Epoch #10\n"
     ]
    },
    {
     "name": "stderr",
     "output_type": "stream",
     "text": [
      "                                                                                                                       \r"
     ]
    },
    {
     "name": "stdout",
     "output_type": "stream",
     "text": [
      "Results: mean: -226.1 +/- 190.1, min: -365.0, max: 74.0,\n",
      "\n",
      "Testing...\n"
     ]
    },
    {
     "name": "stderr",
     "output_type": "stream",
     "text": [
      "\u001b[32m[I 2023-05-04 20:25:58,832]\u001b[0m Trial 41 finished with value: -279.77 and parameters: {'learning_rate': 0.002618436967950741, 'batch_size': 128, 'replay_memory_size': 4000, 'discount_factor': 0.8893634571531205, 'frame_repeat': 4, 'optimizer': 'SGD', 'epsilon_decay': 0.9949835304305705}. Best is trial 27 with value: 20.99.\u001b[0m\n"
     ]
    },
    {
     "name": "stdout",
     "output_type": "stream",
     "text": [
      "Results: mean: -279.8 +/- 134.0, min: -370.0 max: 66.0\n",
      "Total elapsed time: 32.55 minutes\n",
      "\n",
      "Learning rate: 0.002006146947780303, Batch size: 64, Replay memory size: 9000,\n",
      "Discount factor: 0.9473127791728082, Frame repeat: 12, Optimizer: SGD, \n",
      "Epsilon decay: 0.9945696410447253\n",
      "\n",
      "Initializing doom...\n",
      "Doom initialized.\n",
      "Initializing New Model\n",
      "\n",
      "Epoch #1\n"
     ]
    },
    {
     "name": "stderr",
     "output_type": "stream",
     "text": [
      "                                                                                                                       \r"
     ]
    },
    {
     "name": "stdout",
     "output_type": "stream",
     "text": [
      "Results: mean: -237.8 +/- 126.7, min: -360.0, max: 66.0,\n",
      "\n",
      "Testing...\n"
     ]
    },
    {
     "name": "stderr",
     "output_type": "stream",
     "text": [
      "                                                                                                                       \r"
     ]
    },
    {
     "name": "stdout",
     "output_type": "stream",
     "text": [
      "Results: mean: -222.9 +/- 128.6, min: -320.0 max: 66.0\n",
      "Total elapsed time: 3.35 minutes\n",
      "\n",
      "Epoch #2\n"
     ]
    },
    {
     "name": "stderr",
     "output_type": "stream",
     "text": [
      "                                                                                                                       \r"
     ]
    },
    {
     "name": "stdout",
     "output_type": "stream",
     "text": [
      "Results: mean: -244.6 +/- 123.4, min: -325.0, max: 66.0,\n",
      "\n",
      "Testing...\n"
     ]
    },
    {
     "name": "stderr",
     "output_type": "stream",
     "text": [
      "                                                                                                                       \r"
     ]
    },
    {
     "name": "stdout",
     "output_type": "stream",
     "text": [
      "Results: mean: -276.6 +/- 83.2, min: -320.0 max: 66.0\n",
      "Total elapsed time: 6.81 minutes\n",
      "\n",
      "Epoch #3\n"
     ]
    },
    {
     "name": "stderr",
     "output_type": "stream",
     "text": [
      "                                                                                                                       \r"
     ]
    },
    {
     "name": "stdout",
     "output_type": "stream",
     "text": [
      "Results: mean: -160.5 +/- 152.4, min: -320.0, max: 66.0,\n",
      "\n",
      "Testing...\n"
     ]
    },
    {
     "name": "stderr",
     "output_type": "stream",
     "text": [
      "                                                                                                                       \r"
     ]
    },
    {
     "name": "stdout",
     "output_type": "stream",
     "text": [
      "Results: mean: -214.9 +/- 132.2, min: -320.0 max: 66.0\n",
      "Total elapsed time: 10.12 minutes\n",
      "\n",
      "Epoch #4\n"
     ]
    },
    {
     "name": "stderr",
     "output_type": "stream",
     "text": [
      "                                                                                                                       \r"
     ]
    },
    {
     "name": "stdout",
     "output_type": "stream",
     "text": [
      "Results: mean: -141.5 +/- 162.1, min: -340.0, max: 66.0,\n",
      "\n",
      "Testing...\n"
     ]
    },
    {
     "name": "stderr",
     "output_type": "stream",
     "text": [
      "                                                                                                                       \r"
     ]
    },
    {
     "name": "stdout",
     "output_type": "stream",
     "text": [
      "Results: mean: -206.3 +/- 138.3, min: -340.0 max: 66.0\n",
      "Total elapsed time: 13.37 minutes\n",
      "\n",
      "Epoch #5\n"
     ]
    },
    {
     "name": "stderr",
     "output_type": "stream",
     "text": [
      "                                                                                                                       \r"
     ]
    },
    {
     "name": "stdout",
     "output_type": "stream",
     "text": [
      "Results: mean: 11.9 +/- 87.2, min: -340.0, max: 66.0,\n",
      "\n",
      "Testing...\n"
     ]
    },
    {
     "name": "stderr",
     "output_type": "stream",
     "text": [
      "                                                                                                                       \r"
     ]
    },
    {
     "name": "stdout",
     "output_type": "stream",
     "text": [
      "Results: mean: 28.1 +/- 77.4, min: -325.0 max: 66.0\n",
      "Total elapsed time: 15.85 minutes\n",
      "\n",
      "Epoch #6\n"
     ]
    },
    {
     "name": "stderr",
     "output_type": "stream",
     "text": [
      "                                                                                                                       \r"
     ]
    },
    {
     "name": "stdout",
     "output_type": "stream",
     "text": [
      "Results: mean: 28.5 +/- 69.7, min: -335.0, max: 66.0,\n",
      "\n",
      "Testing...\n"
     ]
    },
    {
     "name": "stderr",
     "output_type": "stream",
     "text": [
      "                                                                                                                       \r"
     ]
    },
    {
     "name": "stdout",
     "output_type": "stream",
     "text": [
      "Results: mean: 20.8 +/- 102.6, min: -340.0 max: 66.0\n",
      "Total elapsed time: 18.33 minutes\n",
      "\n",
      "Epoch #7\n"
     ]
    },
    {
     "name": "stderr",
     "output_type": "stream",
     "text": [
      "                                                                                                                       \r"
     ]
    },
    {
     "name": "stdout",
     "output_type": "stream",
     "text": [
      "Results: mean: 12.9 +/- 84.0, min: -365.0, max: 66.0,\n",
      "\n",
      "Testing...\n"
     ]
    },
    {
     "name": "stderr",
     "output_type": "stream",
     "text": [
      "                                                                                                                       \r"
     ]
    },
    {
     "name": "stdout",
     "output_type": "stream",
     "text": [
      "Results: mean: 16.8 +/- 102.3, min: -365.0 max: 66.0\n",
      "Total elapsed time: 20.88 minutes\n",
      "\n",
      "Epoch #8\n"
     ]
    },
    {
     "name": "stderr",
     "output_type": "stream",
     "text": [
      "                                                                                                                       \r"
     ]
    },
    {
     "name": "stdout",
     "output_type": "stream",
     "text": [
      "Results: mean: 1.1 +/- 80.2, min: -350.0, max: 66.0,\n",
      "\n",
      "Testing...\n"
     ]
    },
    {
     "name": "stderr",
     "output_type": "stream",
     "text": [
      "                                                                                                                       \r"
     ]
    },
    {
     "name": "stdout",
     "output_type": "stream",
     "text": [
      "Results: mean: -8.5 +/- 115.0, min: -365.0 max: 66.0\n",
      "Total elapsed time: 23.53 minutes\n",
      "\n",
      "Epoch #9\n"
     ]
    },
    {
     "name": "stderr",
     "output_type": "stream",
     "text": [
      "                                                                                                                       \r"
     ]
    },
    {
     "name": "stdout",
     "output_type": "stream",
     "text": [
      "Results: mean: -103.3 +/- 154.1, min: -350.0, max: 66.0,\n",
      "\n",
      "Testing...\n"
     ]
    },
    {
     "name": "stderr",
     "output_type": "stream",
     "text": [
      "                                                                                                                       \r"
     ]
    },
    {
     "name": "stdout",
     "output_type": "stream",
     "text": [
      "Results: mean: -161.5 +/- 156.3, min: -360.0 max: 66.0\n",
      "Total elapsed time: 26.67 minutes\n",
      "\n",
      "Epoch #10\n"
     ]
    },
    {
     "name": "stderr",
     "output_type": "stream",
     "text": [
      "                                                                                                                       \r"
     ]
    },
    {
     "name": "stdout",
     "output_type": "stream",
     "text": [
      "Results: mean: -156.2 +/- 169.4, min: -350.0, max: 66.0,\n",
      "\n",
      "Testing...\n"
     ]
    },
    {
     "name": "stderr",
     "output_type": "stream",
     "text": [
      "\u001b[32m[I 2023-05-04 20:55:25,767]\u001b[0m Trial 42 finished with value: -47.35 and parameters: {'learning_rate': 0.002006146947780303, 'batch_size': 64, 'replay_memory_size': 9000, 'discount_factor': 0.9473127791728082, 'frame_repeat': 12, 'optimizer': 'SGD', 'epsilon_decay': 0.9945696410447253}. Best is trial 27 with value: 20.99.\u001b[0m\n"
     ]
    },
    {
     "name": "stdout",
     "output_type": "stream",
     "text": [
      "Results: mean: -47.4 +/- 162.3, min: -320.0 max: 66.0\n",
      "Total elapsed time: 29.44 minutes\n",
      "\n",
      "Learning rate: 0.0014774663313797303, Batch size: 128, Replay memory size: 6000,\n",
      "Discount factor: 0.9433121523736621, Frame repeat: 8, Optimizer: SGD, \n",
      "Epsilon decay: 0.9962439658874901\n",
      "\n",
      "Initializing doom...\n",
      "Doom initialized.\n",
      "Initializing New Model\n",
      "\n",
      "Epoch #1\n"
     ]
    },
    {
     "name": "stderr",
     "output_type": "stream",
     "text": [
      "                                                                                                                       \r"
     ]
    },
    {
     "name": "stdout",
     "output_type": "stream",
     "text": [
      "Results: mean: -229.4 +/- 180.4, min: -370.0, max: 70.0,\n",
      "\n",
      "Testing...\n"
     ]
    },
    {
     "name": "stderr",
     "output_type": "stream",
     "text": [
      "                                                                                                                       \r"
     ]
    },
    {
     "name": "stdout",
     "output_type": "stream",
     "text": [
      "Results: mean: -281.6 +/- 120.2, min: -365.0 max: 66.0\n",
      "Total elapsed time: 3.43 minutes\n",
      "\n",
      "Epoch #2\n"
     ]
    },
    {
     "name": "stderr",
     "output_type": "stream",
     "text": [
      "                                                                                                                       \r"
     ]
    },
    {
     "name": "stdout",
     "output_type": "stream",
     "text": [
      "Results: mean: -195.7 +/- 143.4, min: -350.0, max: 70.0,\n",
      "\n",
      "Testing...\n"
     ]
    },
    {
     "name": "stderr",
     "output_type": "stream",
     "text": [
      "                                                                                                                       \r"
     ]
    },
    {
     "name": "stdout",
     "output_type": "stream",
     "text": [
      "Results: mean: -291.4 +/- 69.0, min: -325.0 max: 54.0\n",
      "Total elapsed time: 6.96 minutes\n",
      "\n",
      "Epoch #3\n"
     ]
    },
    {
     "name": "stderr",
     "output_type": "stream",
     "text": [
      "                                                                                                                       \r"
     ]
    },
    {
     "name": "stdout",
     "output_type": "stream",
     "text": [
      "Results: mean: -106.5 +/- 165.9, min: -370.0, max: 70.0,\n",
      "\n",
      "Testing...\n"
     ]
    },
    {
     "name": "stderr",
     "output_type": "stream",
     "text": [
      "                                                                                                                       \r"
     ]
    },
    {
     "name": "stdout",
     "output_type": "stream",
     "text": [
      "Results: mean: -112.6 +/- 143.5, min: -365.0 max: 66.0\n",
      "Total elapsed time: 10.02 minutes\n",
      "\n",
      "Epoch #4\n"
     ]
    },
    {
     "name": "stderr",
     "output_type": "stream",
     "text": [
      "                                                                                                                       \r"
     ]
    },
    {
     "name": "stdout",
     "output_type": "stream",
     "text": [
      "Results: mean: -3.0 +/- 127.5, min: -365.0, max: 70.0,\n",
      "\n",
      "Testing...\n"
     ]
    },
    {
     "name": "stderr",
     "output_type": "stream",
     "text": [
      "                                                                                                                       \r"
     ]
    },
    {
     "name": "stdout",
     "output_type": "stream",
     "text": [
      "Results: mean: -23.5 +/- 153.3, min: -330.0 max: 66.0\n",
      "Total elapsed time: 12.71 minutes\n",
      "\n",
      "Epoch #5\n"
     ]
    },
    {
     "name": "stderr",
     "output_type": "stream",
     "text": [
      "                                                                                                                       \r"
     ]
    },
    {
     "name": "stdout",
     "output_type": "stream",
     "text": [
      "Results: mean: 9.3 +/- 109.7, min: -360.0, max: 70.0,\n",
      "\n",
      "Testing...\n"
     ]
    },
    {
     "name": "stderr",
     "output_type": "stream",
     "text": [
      "                                                                                                                       \r"
     ]
    },
    {
     "name": "stdout",
     "output_type": "stream",
     "text": [
      "Results: mean: -9.9 +/- 131.9, min: -350.0 max: 66.0\n",
      "Total elapsed time: 15.43 minutes\n",
      "\n",
      "Epoch #6\n"
     ]
    },
    {
     "name": "stderr",
     "output_type": "stream",
     "text": [
      "                                                                                                                       \r"
     ]
    },
    {
     "name": "stdout",
     "output_type": "stream",
     "text": [
      "Results: mean: 17.4 +/- 108.6, min: -365.0, max: 70.0,\n",
      "\n",
      "Testing...\n"
     ]
    },
    {
     "name": "stderr",
     "output_type": "stream",
     "text": [
      "                                                                                                                       \r"
     ]
    },
    {
     "name": "stdout",
     "output_type": "stream",
     "text": [
      "Results: mean: -7.1 +/- 123.0, min: -360.0 max: 66.0\n",
      "Total elapsed time: 18.10 minutes\n",
      "\n",
      "Epoch #7\n"
     ]
    },
    {
     "name": "stderr",
     "output_type": "stream",
     "text": [
      "                                                                                                                       \r"
     ]
    },
    {
     "name": "stdout",
     "output_type": "stream",
     "text": [
      "Results: mean: 22.6 +/- 97.2, min: -355.0, max: 70.0,\n",
      "\n",
      "Testing...\n"
     ]
    },
    {
     "name": "stderr",
     "output_type": "stream",
     "text": [
      "                                                                                                                       \r"
     ]
    },
    {
     "name": "stdout",
     "output_type": "stream",
     "text": [
      "Results: mean: -54.4 +/- 118.9, min: -350.0 max: 66.0\n",
      "Total elapsed time: 20.97 minutes\n",
      "\n",
      "Epoch #8\n"
     ]
    },
    {
     "name": "stderr",
     "output_type": "stream",
     "text": [
      "                                                                                                                       \r"
     ]
    },
    {
     "name": "stdout",
     "output_type": "stream",
     "text": [
      "Results: mean: 33.2 +/- 72.8, min: -360.0, max: 70.0,\n",
      "\n",
      "Testing...\n"
     ]
    },
    {
     "name": "stderr",
     "output_type": "stream",
     "text": [
      "                                                                                                                       \r"
     ]
    },
    {
     "name": "stdout",
     "output_type": "stream",
     "text": [
      "Results: mean: -80.9 +/- 138.1, min: -365.0 max: 66.0\n",
      "Total elapsed time: 23.90 minutes\n",
      "\n",
      "Epoch #9\n"
     ]
    },
    {
     "name": "stderr",
     "output_type": "stream",
     "text": [
      "                                                                                                                       \r"
     ]
    },
    {
     "name": "stdout",
     "output_type": "stream",
     "text": [
      "Results: mean: -10.6 +/- 92.1, min: -365.0, max: 70.0,\n",
      "\n",
      "Testing...\n"
     ]
    },
    {
     "name": "stderr",
     "output_type": "stream",
     "text": [
      "                                                                                                                       \r"
     ]
    },
    {
     "name": "stdout",
     "output_type": "stream",
     "text": [
      "Results: mean: -31.2 +/- 113.8, min: -350.0 max: 66.0\n",
      "Total elapsed time: 26.71 minutes\n",
      "\n",
      "Epoch #10\n"
     ]
    },
    {
     "name": "stderr",
     "output_type": "stream",
     "text": [
      "                                                                                                                       \r"
     ]
    },
    {
     "name": "stdout",
     "output_type": "stream",
     "text": [
      "Results: mean: 9.1 +/- 91.9, min: -360.0, max: 70.0,\n",
      "\n",
      "Testing...\n"
     ]
    },
    {
     "name": "stderr",
     "output_type": "stream",
     "text": [
      "\u001b[32m[I 2023-05-04 21:24:55,564]\u001b[0m Trial 43 finished with value: -36.56 and parameters: {'learning_rate': 0.0014774663313797303, 'batch_size': 128, 'replay_memory_size': 6000, 'discount_factor': 0.9433121523736621, 'frame_repeat': 8, 'optimizer': 'SGD', 'epsilon_decay': 0.9962439658874901}. Best is trial 27 with value: 20.99.\u001b[0m\n"
     ]
    },
    {
     "name": "stdout",
     "output_type": "stream",
     "text": [
      "Results: mean: -36.6 +/- 114.5, min: -355.0 max: 66.0\n",
      "Total elapsed time: 29.49 minutes\n",
      "\n",
      "Learning rate: 0.003456794118956937, Batch size: 64, Replay memory size: 5000,\n",
      "Discount factor: 0.8903937628039352, Frame repeat: 16, Optimizer: SGD, \n",
      "Epsilon decay: 0.9953662127790541\n",
      "\n",
      "Initializing doom...\n",
      "Doom initialized.\n",
      "Initializing New Model\n",
      "\n",
      "Epoch #1\n"
     ]
    },
    {
     "name": "stderr",
     "output_type": "stream",
     "text": [
      "                                                                                                                       \r"
     ]
    },
    {
     "name": "stdout",
     "output_type": "stream",
     "text": [
      "Results: mean: -266.9 +/- 103.1, min: -340.0, max: 62.0,\n",
      "\n",
      "Testing...\n"
     ]
    },
    {
     "name": "stderr",
     "output_type": "stream",
     "text": [
      "                                                                                                                       \r"
     ]
    },
    {
     "name": "stdout",
     "output_type": "stream",
     "text": [
      "Results: mean: -271.0 +/- 92.8, min: -320.0 max: 66.0\n",
      "Total elapsed time: 3.48 minutes\n",
      "\n",
      "Epoch #2\n"
     ]
    },
    {
     "name": "stderr",
     "output_type": "stream",
     "text": [
      "                                                                                                                       \r"
     ]
    },
    {
     "name": "stdout",
     "output_type": "stream",
     "text": [
      "Results: mean: -229.8 +/- 134.0, min: -355.0, max: 62.0,\n",
      "\n",
      "Testing...\n"
     ]
    },
    {
     "name": "stderr",
     "output_type": "stream",
     "text": [
      "                                                                                                                       \r"
     ]
    },
    {
     "name": "stdout",
     "output_type": "stream",
     "text": [
      "Results: mean: -233.2 +/- 124.1, min: -335.0 max: 54.0\n",
      "Total elapsed time: 6.88 minutes\n",
      "\n",
      "Epoch #3\n"
     ]
    },
    {
     "name": "stderr",
     "output_type": "stream",
     "text": [
      "                                                                                                                       \r"
     ]
    },
    {
     "name": "stdout",
     "output_type": "stream",
     "text": [
      "Results: mean: -192.7 +/- 144.8, min: -335.0, max: 62.0,\n",
      "\n",
      "Testing...\n"
     ]
    },
    {
     "name": "stderr",
     "output_type": "stream",
     "text": [
      "                                                                                                                       \r"
     ]
    },
    {
     "name": "stdout",
     "output_type": "stream",
     "text": [
      "Results: mean: -108.6 +/- 150.0, min: -360.0 max: 66.0\n",
      "Total elapsed time: 9.84 minutes\n",
      "\n",
      "Epoch #4\n"
     ]
    },
    {
     "name": "stderr",
     "output_type": "stream",
     "text": [
      "                                                                                                                       \r"
     ]
    },
    {
     "name": "stdout",
     "output_type": "stream",
     "text": [
      "Results: mean: -59.5 +/- 132.1, min: -355.0, max: 62.0,\n",
      "\n",
      "Testing...\n"
     ]
    },
    {
     "name": "stderr",
     "output_type": "stream",
     "text": [
      "                                                                                                                       \r"
     ]
    },
    {
     "name": "stdout",
     "output_type": "stream",
     "text": [
      "Results: mean: -39.7 +/- 105.7, min: -345.0 max: 66.0\n",
      "Total elapsed time: 12.65 minutes\n",
      "\n",
      "Epoch #5\n"
     ]
    },
    {
     "name": "stderr",
     "output_type": "stream",
     "text": [
      "                                                                                                                       \r"
     ]
    },
    {
     "name": "stdout",
     "output_type": "stream",
     "text": [
      "Results: mean: -45.2 +/- 114.4, min: -335.0, max: 62.0,\n",
      "\n",
      "Testing...\n"
     ]
    },
    {
     "name": "stderr",
     "output_type": "stream",
     "text": [
      "                                                                                                                       \r"
     ]
    },
    {
     "name": "stdout",
     "output_type": "stream",
     "text": [
      "Results: mean: 30.2 +/- 35.1, min: -163.0 max: 66.0\n",
      "Total elapsed time: 15.23 minutes\n",
      "\n",
      "Epoch #6\n"
     ]
    },
    {
     "name": "stderr",
     "output_type": "stream",
     "text": [
      "                                                                                                                       \r"
     ]
    },
    {
     "name": "stdout",
     "output_type": "stream",
     "text": [
      "Results: mean: -0.3 +/- 89.1, min: -355.0, max: 62.0,\n",
      "\n",
      "Testing...\n"
     ]
    },
    {
     "name": "stderr",
     "output_type": "stream",
     "text": [
      "                                                                                                                       \r"
     ]
    },
    {
     "name": "stdout",
     "output_type": "stream",
     "text": [
      "Results: mean: -33.7 +/- 127.3, min: -360.0 max: 66.0\n",
      "Total elapsed time: 17.95 minutes\n",
      "\n",
      "Epoch #7\n"
     ]
    },
    {
     "name": "stderr",
     "output_type": "stream",
     "text": [
      "                                                                                                                       \r"
     ]
    },
    {
     "name": "stdout",
     "output_type": "stream",
     "text": [
      "Results: mean: 11.1 +/- 73.5, min: -360.0, max: 62.0,\n",
      "\n",
      "Testing...\n"
     ]
    },
    {
     "name": "stderr",
     "output_type": "stream",
     "text": [
      "                                                                                                                       \r"
     ]
    },
    {
     "name": "stdout",
     "output_type": "stream",
     "text": [
      "Results: mean: -62.1 +/- 105.1, min: -355.0 max: 66.0\n",
      "Total elapsed time: 20.79 minutes\n",
      "\n",
      "Epoch #8\n"
     ]
    },
    {
     "name": "stderr",
     "output_type": "stream",
     "text": [
      "                                                                                                                       \r"
     ]
    },
    {
     "name": "stdout",
     "output_type": "stream",
     "text": [
      "Results: mean: -20.5 +/- 106.5, min: -355.0, max: 62.0,\n",
      "\n",
      "Testing...\n"
     ]
    },
    {
     "name": "stderr",
     "output_type": "stream",
     "text": [
      "                                                                                                                       \r"
     ]
    },
    {
     "name": "stdout",
     "output_type": "stream",
     "text": [
      "Results: mean: -39.9 +/- 83.0, min: -355.0 max: 66.0\n",
      "Total elapsed time: 23.56 minutes\n",
      "\n",
      "Epoch #9\n"
     ]
    },
    {
     "name": "stderr",
     "output_type": "stream",
     "text": [
      "                                                                                                                       \r"
     ]
    },
    {
     "name": "stdout",
     "output_type": "stream",
     "text": [
      "Results: mean: -19.7 +/- 104.1, min: -355.0, max: 62.0,\n",
      "\n",
      "Testing...\n"
     ]
    },
    {
     "name": "stderr",
     "output_type": "stream",
     "text": [
      "                                                                                                                       \r"
     ]
    },
    {
     "name": "stdout",
     "output_type": "stream",
     "text": [
      "Results: mean: 15.6 +/- 64.4, min: -355.0 max: 66.0\n",
      "Total elapsed time: 26.12 minutes\n",
      "\n",
      "Epoch #10\n"
     ]
    },
    {
     "name": "stderr",
     "output_type": "stream",
     "text": [
      "                                                                                                                       \r"
     ]
    },
    {
     "name": "stdout",
     "output_type": "stream",
     "text": [
      "Results: mean: -17.3 +/- 92.1, min: -355.0, max: 62.0,\n",
      "\n",
      "Testing...\n"
     ]
    },
    {
     "name": "stderr",
     "output_type": "stream",
     "text": [
      "\u001b[32m[I 2023-05-04 21:53:52,478]\u001b[0m Trial 44 finished with value: -47.95 and parameters: {'learning_rate': 0.003456794118956937, 'batch_size': 64, 'replay_memory_size': 5000, 'discount_factor': 0.8903937628039352, 'frame_repeat': 16, 'optimizer': 'SGD', 'epsilon_decay': 0.9953662127790541}. Best is trial 27 with value: 20.99.\u001b[0m\n"
     ]
    },
    {
     "name": "stdout",
     "output_type": "stream",
     "text": [
      "Results: mean: -48.0 +/- 99.9, min: -330.0 max: 66.0\n",
      "Total elapsed time: 28.94 minutes\n",
      "\n",
      "Learning rate: 0.0026345178684176753, Batch size: 32, Replay memory size: 7000,\n",
      "Discount factor: 0.7920694414907743, Frame repeat: 20, Optimizer: SGD, \n",
      "Epsilon decay: 0.9926699020173305\n",
      "\n",
      "Initializing doom...\n",
      "Doom initialized.\n",
      "Initializing New Model\n",
      "\n",
      "Epoch #1\n"
     ]
    },
    {
     "name": "stderr",
     "output_type": "stream",
     "text": [
      "                                                                                                                       \r"
     ]
    },
    {
     "name": "stdout",
     "output_type": "stream",
     "text": [
      "Results: mean: -254.6 +/- 114.3, min: -350.0, max: 58.0,\n",
      "\n",
      "Testing...\n"
     ]
    },
    {
     "name": "stderr",
     "output_type": "stream",
     "text": [
      "                                                                                                                       \r"
     ]
    },
    {
     "name": "stdout",
     "output_type": "stream",
     "text": [
      "Results: mean: -219.1 +/- 137.7, min: -325.0 max: 66.0\n",
      "Total elapsed time: 3.27 minutes\n",
      "\n",
      "Epoch #2\n"
     ]
    },
    {
     "name": "stderr",
     "output_type": "stream",
     "text": [
      "                                                                                                                       \r"
     ]
    },
    {
     "name": "stdout",
     "output_type": "stream",
     "text": [
      "Results: mean: -223.1 +/- 130.6, min: -360.0, max: 58.0,\n",
      "\n",
      "Testing...\n"
     ]
    },
    {
     "name": "stderr",
     "output_type": "stream",
     "text": [
      "                                                                                                                       \r"
     ]
    },
    {
     "name": "stdout",
     "output_type": "stream",
     "text": [
      "Results: mean: -114.0 +/- 157.7, min: -350.0 max: 66.0\n",
      "Total elapsed time: 6.19 minutes\n",
      "\n",
      "Epoch #3\n"
     ]
    },
    {
     "name": "stderr",
     "output_type": "stream",
     "text": [
      "                                                                                                                       \r"
     ]
    },
    {
     "name": "stdout",
     "output_type": "stream",
     "text": [
      "Results: mean: -94.7 +/- 156.7, min: -365.0, max: 58.0,\n",
      "\n",
      "Testing...\n"
     ]
    },
    {
     "name": "stderr",
     "output_type": "stream",
     "text": [
      "                                                                                                                       \r"
     ]
    },
    {
     "name": "stdout",
     "output_type": "stream",
     "text": [
      "Results: mean: -38.4 +/- 149.7, min: -360.0 max: 66.0\n",
      "Total elapsed time: 8.92 minutes\n",
      "\n",
      "Epoch #4\n"
     ]
    },
    {
     "name": "stderr",
     "output_type": "stream",
     "text": [
      "                                                                                                                       \r"
     ]
    },
    {
     "name": "stdout",
     "output_type": "stream",
     "text": [
      "Results: mean: -75.1 +/- 166.3, min: -370.0, max: 58.0,\n",
      "\n",
      "Testing...\n"
     ]
    },
    {
     "name": "stderr",
     "output_type": "stream",
     "text": [
      "                                                                                                                       \r"
     ]
    },
    {
     "name": "stdout",
     "output_type": "stream",
     "text": [
      "Results: mean: -5.1 +/- 90.4, min: -345.0 max: 66.0\n",
      "Total elapsed time: 11.56 minutes\n",
      "\n",
      "Epoch #5\n"
     ]
    },
    {
     "name": "stderr",
     "output_type": "stream",
     "text": [
      "                                                                                                                       \r"
     ]
    },
    {
     "name": "stdout",
     "output_type": "stream",
     "text": [
      "Results: mean: -17.4 +/- 123.9, min: -370.0, max: 58.0,\n",
      "\n",
      "Testing...\n"
     ]
    },
    {
     "name": "stderr",
     "output_type": "stream",
     "text": [
      "                                                                                                                       \r"
     ]
    },
    {
     "name": "stdout",
     "output_type": "stream",
     "text": [
      "Results: mean: 33.2 +/- 59.5, min: -345.0 max: 66.0\n",
      "Total elapsed time: 14.07 minutes\n",
      "\n",
      "Epoch #6\n"
     ]
    },
    {
     "name": "stderr",
     "output_type": "stream",
     "text": [
      "                                                                                                                       \r"
     ]
    },
    {
     "name": "stdout",
     "output_type": "stream",
     "text": [
      "Results: mean: -7.4 +/- 102.0, min: -365.0, max: 58.0,\n",
      "\n",
      "Testing...\n"
     ]
    },
    {
     "name": "stderr",
     "output_type": "stream",
     "text": [
      "                                                                                                                       \r"
     ]
    },
    {
     "name": "stdout",
     "output_type": "stream",
     "text": [
      "Results: mean: -3.1 +/- 73.4, min: -350.0 max: 66.0\n",
      "Total elapsed time: 16.71 minutes\n",
      "\n",
      "Epoch #7\n"
     ]
    },
    {
     "name": "stderr",
     "output_type": "stream",
     "text": [
      "                                                                                                                       \r"
     ]
    },
    {
     "name": "stdout",
     "output_type": "stream",
     "text": [
      "Results: mean: -18.7 +/- 116.2, min: -355.0, max: 58.0,\n",
      "\n",
      "Testing...\n"
     ]
    },
    {
     "name": "stderr",
     "output_type": "stream",
     "text": [
      "                                                                                                                       \r"
     ]
    },
    {
     "name": "stdout",
     "output_type": "stream",
     "text": [
      "Results: mean: 31.7 +/- 63.5, min: -345.0 max: 66.0\n",
      "Total elapsed time: 19.24 minutes\n",
      "\n",
      "Epoch #8\n"
     ]
    },
    {
     "name": "stderr",
     "output_type": "stream",
     "text": [
      "                                                                                                                       \r"
     ]
    },
    {
     "name": "stdout",
     "output_type": "stream",
     "text": [
      "Results: mean: -12.9 +/- 111.2, min: -360.0, max: 58.0,\n",
      "\n",
      "Testing...\n"
     ]
    },
    {
     "name": "stderr",
     "output_type": "stream",
     "text": [
      "                                                                                                                       \r"
     ]
    },
    {
     "name": "stdout",
     "output_type": "stream",
     "text": [
      "Results: mean: -2.7 +/- 70.3, min: -345.0 max: 66.0\n",
      "Total elapsed time: 21.87 minutes\n",
      "\n",
      "Epoch #9\n"
     ]
    },
    {
     "name": "stderr",
     "output_type": "stream",
     "text": [
      "                                                                                                                       \r"
     ]
    },
    {
     "name": "stdout",
     "output_type": "stream",
     "text": [
      "Results: mean: -14.2 +/- 102.4, min: -355.0, max: 58.0,\n",
      "\n",
      "Testing...\n"
     ]
    },
    {
     "name": "stderr",
     "output_type": "stream",
     "text": [
      "                                                                                                                       \r"
     ]
    },
    {
     "name": "stdout",
     "output_type": "stream",
     "text": [
      "Results: mean: -92.1 +/- 144.6, min: -350.0 max: 66.0\n",
      "Total elapsed time: 24.79 minutes\n",
      "\n",
      "Epoch #10\n"
     ]
    },
    {
     "name": "stderr",
     "output_type": "stream",
     "text": [
      "                                                                                                                       \r"
     ]
    },
    {
     "name": "stdout",
     "output_type": "stream",
     "text": [
      "Results: mean: -11.3 +/- 96.3, min: -355.0, max: 58.0,\n",
      "\n",
      "Testing...\n"
     ]
    },
    {
     "name": "stderr",
     "output_type": "stream",
     "text": [
      "\u001b[32m[I 2023-05-04 22:21:22,119]\u001b[0m Trial 45 finished with value: -28.25 and parameters: {'learning_rate': 0.0026345178684176753, 'batch_size': 32, 'replay_memory_size': 7000, 'discount_factor': 0.7920694414907743, 'frame_repeat': 20, 'optimizer': 'SGD', 'epsilon_decay': 0.9926699020173305}. Best is trial 27 with value: 20.99.\u001b[0m\n"
     ]
    },
    {
     "name": "stdout",
     "output_type": "stream",
     "text": [
      "Results: mean: -28.2 +/- 74.3, min: -350.0 max: 66.0\n",
      "Total elapsed time: 27.48 minutes\n",
      "\n",
      "Learning rate: 0.004741250236367224, Batch size: 32, Replay memory size: 8000,\n",
      "Discount factor: 0.9566025821462936, Frame repeat: 12, Optimizer: SGD, \n",
      "Epsilon decay: 0.993542075473474\n",
      "\n",
      "Initializing doom...\n",
      "Doom initialized.\n",
      "Initializing New Model\n",
      "\n",
      "Epoch #1\n"
     ]
    },
    {
     "name": "stderr",
     "output_type": "stream",
     "text": [
      "                                                                                                                       \r"
     ]
    },
    {
     "name": "stdout",
     "output_type": "stream",
     "text": [
      "Results: mean: -210.7 +/- 142.0, min: -350.0, max: 66.0,\n",
      "\n",
      "Testing...\n"
     ]
    },
    {
     "name": "stderr",
     "output_type": "stream",
     "text": [
      "                                                                                                                       \r"
     ]
    },
    {
     "name": "stdout",
     "output_type": "stream",
     "text": [
      "Results: mean: -261.8 +/- 110.6, min: -325.0 max: 66.0\n",
      "Total elapsed time: 3.43 minutes\n",
      "\n",
      "Epoch #2\n"
     ]
    },
    {
     "name": "stderr",
     "output_type": "stream",
     "text": [
      "                                                                                                                       \r"
     ]
    },
    {
     "name": "stdout",
     "output_type": "stream",
     "text": [
      "Results: mean: -147.5 +/- 149.3, min: -365.0, max: 66.0,\n",
      "\n",
      "Testing...\n"
     ]
    },
    {
     "name": "stderr",
     "output_type": "stream",
     "text": [
      "                                                                                                                       \r"
     ]
    },
    {
     "name": "stdout",
     "output_type": "stream",
     "text": [
      "Results: mean: -208.3 +/- 151.4, min: -365.0 max: 66.0\n",
      "Total elapsed time: 6.65 minutes\n",
      "\n",
      "Epoch #3\n"
     ]
    },
    {
     "name": "stderr",
     "output_type": "stream",
     "text": [
      "                                                                                                                       \r"
     ]
    },
    {
     "name": "stdout",
     "output_type": "stream",
     "text": [
      "Results: mean: -71.9 +/- 146.1, min: -340.0, max: 66.0,\n",
      "\n",
      "Testing...\n"
     ]
    },
    {
     "name": "stderr",
     "output_type": "stream",
     "text": [
      "                                                                                                                       \r"
     ]
    },
    {
     "name": "stdout",
     "output_type": "stream",
     "text": [
      "Results: mean: -85.6 +/- 175.6, min: -355.0 max: 66.0\n",
      "Total elapsed time: 9.49 minutes\n",
      "\n",
      "Epoch #4\n"
     ]
    },
    {
     "name": "stderr",
     "output_type": "stream",
     "text": [
      "                                                                                                                       \r"
     ]
    },
    {
     "name": "stdout",
     "output_type": "stream",
     "text": [
      "Results: mean: -44.0 +/- 156.0, min: -360.0, max: 66.0,\n",
      "\n",
      "Testing...\n"
     ]
    },
    {
     "name": "stderr",
     "output_type": "stream",
     "text": [
      "                                                                                                                       \r"
     ]
    },
    {
     "name": "stdout",
     "output_type": "stream",
     "text": [
      "Results: mean: -30.4 +/- 159.2, min: -345.0 max: 66.0\n",
      "Total elapsed time: 12.13 minutes\n",
      "\n",
      "Epoch #5\n"
     ]
    },
    {
     "name": "stderr",
     "output_type": "stream",
     "text": [
      "                                                                                                                       \r"
     ]
    },
    {
     "name": "stdout",
     "output_type": "stream",
     "text": [
      "Results: mean: -45.3 +/- 142.6, min: -370.0, max: 66.0,\n",
      "\n",
      "Testing...\n"
     ]
    },
    {
     "name": "stderr",
     "output_type": "stream",
     "text": [
      "                                                                                                                       \r"
     ]
    },
    {
     "name": "stdout",
     "output_type": "stream",
     "text": [
      "Results: mean: -54.2 +/- 169.9, min: -360.0 max: 66.0\n",
      "Total elapsed time: 14.90 minutes\n",
      "\n",
      "Epoch #6\n"
     ]
    },
    {
     "name": "stderr",
     "output_type": "stream",
     "text": [
      "                                                                                                                       \r"
     ]
    },
    {
     "name": "stdout",
     "output_type": "stream",
     "text": [
      "Results: mean: -207.6 +/- 164.8, min: -370.0, max: 66.0,\n",
      "\n",
      "Testing...\n"
     ]
    },
    {
     "name": "stderr",
     "output_type": "stream",
     "text": [
      "                                                                                                                       \r"
     ]
    },
    {
     "name": "stdout",
     "output_type": "stream",
     "text": [
      "Results: mean: -246.0 +/- 134.9, min: -370.0 max: 66.0\n",
      "Total elapsed time: 18.23 minutes\n",
      "\n",
      "Epoch #7\n"
     ]
    },
    {
     "name": "stderr",
     "output_type": "stream",
     "text": [
      "                                                                                                                       \r"
     ]
    },
    {
     "name": "stdout",
     "output_type": "stream",
     "text": [
      "Results: mean: -264.8 +/- 112.4, min: -365.0, max: 66.0,\n",
      "\n",
      "Testing...\n"
     ]
    },
    {
     "name": "stderr",
     "output_type": "stream",
     "text": [
      "                                                                                                                       \r"
     ]
    },
    {
     "name": "stdout",
     "output_type": "stream",
     "text": [
      "Results: mean: -221.0 +/- 132.3, min: -320.0 max: 66.0\n",
      "Total elapsed time: 21.54 minutes\n",
      "\n",
      "Epoch #8\n"
     ]
    },
    {
     "name": "stderr",
     "output_type": "stream",
     "text": [
      "                                                                                                                       \r"
     ]
    },
    {
     "name": "stdout",
     "output_type": "stream",
     "text": [
      "Results: mean: -245.3 +/- 126.2, min: -370.0, max: 66.0,\n",
      "\n",
      "Testing...\n"
     ]
    },
    {
     "name": "stderr",
     "output_type": "stream",
     "text": [
      "                                                                                                                       \r"
     ]
    },
    {
     "name": "stdout",
     "output_type": "stream",
     "text": [
      "Results: mean: -293.7 +/- 57.8, min: -325.0 max: 54.0\n",
      "Total elapsed time: 25.02 minutes\n",
      "\n",
      "Epoch #9\n"
     ]
    },
    {
     "name": "stderr",
     "output_type": "stream",
     "text": [
      "                                                                                                                       \r"
     ]
    },
    {
     "name": "stdout",
     "output_type": "stream",
     "text": [
      "Results: mean: -237.7 +/- 125.5, min: -345.0, max: 66.0,\n",
      "\n",
      "Testing...\n"
     ]
    },
    {
     "name": "stderr",
     "output_type": "stream",
     "text": [
      "                                                                                                                       \r"
     ]
    },
    {
     "name": "stdout",
     "output_type": "stream",
     "text": [
      "Results: mean: -235.1 +/- 132.2, min: -315.0 max: 66.0\n",
      "Total elapsed time: 28.33 minutes\n",
      "\n",
      "Epoch #10\n"
     ]
    },
    {
     "name": "stderr",
     "output_type": "stream",
     "text": [
      "                                                                                                                       \r"
     ]
    },
    {
     "name": "stdout",
     "output_type": "stream",
     "text": [
      "Results: mean: -219.9 +/- 130.5, min: -325.0, max: 66.0,\n",
      "\n",
      "Testing...\n"
     ]
    },
    {
     "name": "stderr",
     "output_type": "stream",
     "text": [
      "\u001b[32m[I 2023-05-04 22:53:00,213]\u001b[0m Trial 46 finished with value: -223.73 and parameters: {'learning_rate': 0.004741250236367224, 'batch_size': 32, 'replay_memory_size': 8000, 'discount_factor': 0.9566025821462936, 'frame_repeat': 12, 'optimizer': 'SGD', 'epsilon_decay': 0.993542075473474}. Best is trial 27 with value: 20.99.\u001b[0m\n"
     ]
    },
    {
     "name": "stdout",
     "output_type": "stream",
     "text": [
      "Results: mean: -223.7 +/- 129.1, min: -320.0 max: 66.0\n",
      "Total elapsed time: 31.62 minutes\n",
      "\n",
      "Learning rate: 0.0017550514183191871, Batch size: 128, Replay memory size: 5000,\n",
      "Discount factor: 0.98164972364929, Frame repeat: 20, Optimizer: SGD, \n",
      "Epsilon decay: 0.9940641709621294\n",
      "\n",
      "Initializing doom...\n",
      "Doom initialized.\n",
      "Initializing New Model\n",
      "\n",
      "Epoch #1\n"
     ]
    },
    {
     "name": "stderr",
     "output_type": "stream",
     "text": [
      "                                                                                                                       \r"
     ]
    },
    {
     "name": "stdout",
     "output_type": "stream",
     "text": [
      "Results: mean: -266.2 +/- 99.0, min: -345.0, max: 58.0,\n",
      "\n",
      "Testing...\n"
     ]
    },
    {
     "name": "stderr",
     "output_type": "stream",
     "text": [
      "                                                                                                                       \r"
     ]
    },
    {
     "name": "stdout",
     "output_type": "stream",
     "text": [
      "Results: mean: -223.2 +/- 134.3, min: -320.0 max: 66.0\n",
      "Total elapsed time: 3.33 minutes\n",
      "\n",
      "Epoch #2\n"
     ]
    },
    {
     "name": "stderr",
     "output_type": "stream",
     "text": [
      "                                                                                                                       \r"
     ]
    },
    {
     "name": "stdout",
     "output_type": "stream",
     "text": [
      "Results: mean: -238.4 +/- 135.5, min: -355.0, max: 58.0,\n",
      "\n",
      "Testing...\n"
     ]
    },
    {
     "name": "stderr",
     "output_type": "stream",
     "text": [
      "                                                                                                                       \r"
     ]
    },
    {
     "name": "stdout",
     "output_type": "stream",
     "text": [
      "Results: mean: -243.5 +/- 140.1, min: -340.0 max: 66.0\n",
      "Total elapsed time: 6.69 minutes\n",
      "\n",
      "Epoch #3\n"
     ]
    },
    {
     "name": "stderr",
     "output_type": "stream",
     "text": [
      "                                                                                                                       \r"
     ]
    },
    {
     "name": "stdout",
     "output_type": "stream",
     "text": [
      "Results: mean: -212.7 +/- 135.3, min: -350.0, max: 58.0,\n",
      "\n",
      "Testing...\n"
     ]
    },
    {
     "name": "stderr",
     "output_type": "stream",
     "text": [
      "                                                                                                                       \r"
     ]
    },
    {
     "name": "stdout",
     "output_type": "stream",
     "text": [
      "Results: mean: -209.6 +/- 146.6, min: -360.0 max: 66.0\n",
      "Total elapsed time: 9.96 minutes\n",
      "\n",
      "Epoch #4\n"
     ]
    },
    {
     "name": "stderr",
     "output_type": "stream",
     "text": [
      "                                                                                                                       \r"
     ]
    },
    {
     "name": "stdout",
     "output_type": "stream",
     "text": [
      "Results: mean: -101.4 +/- 143.2, min: -365.0, max: 58.0,\n",
      "\n",
      "Testing...\n"
     ]
    },
    {
     "name": "stderr",
     "output_type": "stream",
     "text": [
      "                                                                                                                       \r"
     ]
    },
    {
     "name": "stdout",
     "output_type": "stream",
     "text": [
      "Results: mean: -54.0 +/- 133.1, min: -365.0 max: 66.0\n",
      "Total elapsed time: 12.79 minutes\n",
      "\n",
      "Epoch #5\n"
     ]
    },
    {
     "name": "stderr",
     "output_type": "stream",
     "text": [
      "                                                                                                                       \r"
     ]
    },
    {
     "name": "stdout",
     "output_type": "stream",
     "text": [
      "Results: mean: -50.1 +/- 134.2, min: -365.0, max: 58.0,\n",
      "\n",
      "Testing...\n"
     ]
    },
    {
     "name": "stderr",
     "output_type": "stream",
     "text": [
      "                                                                                                                       \r"
     ]
    },
    {
     "name": "stdout",
     "output_type": "stream",
     "text": [
      "Results: mean: -158.0 +/- 162.1, min: -355.0 max: 66.0\n",
      "Total elapsed time: 15.86 minutes\n",
      "\n",
      "Epoch #6\n"
     ]
    },
    {
     "name": "stderr",
     "output_type": "stream",
     "text": [
      "                                                                                                                       \r"
     ]
    },
    {
     "name": "stdout",
     "output_type": "stream",
     "text": [
      "Results: mean: -17.3 +/- 87.7, min: -355.0, max: 58.0,\n",
      "\n",
      "Testing...\n"
     ]
    },
    {
     "name": "stderr",
     "output_type": "stream",
     "text": [
      "                                                                                                                       \r"
     ]
    },
    {
     "name": "stdout",
     "output_type": "stream",
     "text": [
      "Results: mean: -22.4 +/- 97.1, min: -345.0 max: 66.0\n",
      "Total elapsed time: 18.55 minutes\n",
      "\n",
      "Epoch #7\n"
     ]
    },
    {
     "name": "stderr",
     "output_type": "stream",
     "text": [
      "                                                                                                                       \r"
     ]
    },
    {
     "name": "stdout",
     "output_type": "stream",
     "text": [
      "Results: mean: -209.3 +/- 133.6, min: -345.0, max: 58.0,\n",
      "\n",
      "Testing...\n"
     ]
    },
    {
     "name": "stderr",
     "output_type": "stream",
     "text": [
      "                                                                                                                       \r"
     ]
    },
    {
     "name": "stdout",
     "output_type": "stream",
     "text": [
      "Results: mean: -251.1 +/- 115.9, min: -320.0 max: 54.0\n",
      "Total elapsed time: 21.93 minutes\n",
      "\n",
      "Epoch #8\n"
     ]
    },
    {
     "name": "stderr",
     "output_type": "stream",
     "text": [
      "                                                                                                                       \r"
     ]
    },
    {
     "name": "stdout",
     "output_type": "stream",
     "text": [
      "Results: mean: -244.4 +/- 114.3, min: -320.0, max: 58.0,\n",
      "\n",
      "Testing...\n"
     ]
    },
    {
     "name": "stderr",
     "output_type": "stream",
     "text": [
      "                                                                                                                       \r"
     ]
    },
    {
     "name": "stdout",
     "output_type": "stream",
     "text": [
      "Results: mean: -240.9 +/- 121.8, min: -320.0 max: 66.0\n",
      "Total elapsed time: 25.26 minutes\n",
      "\n",
      "Epoch #9\n"
     ]
    },
    {
     "name": "stderr",
     "output_type": "stream",
     "text": [
      "                                                                                                                       \r"
     ]
    },
    {
     "name": "stdout",
     "output_type": "stream",
     "text": [
      "Results: mean: -245.7 +/- 110.4, min: -310.0, max: 58.0,\n",
      "\n",
      "Testing...\n"
     ]
    },
    {
     "name": "stderr",
     "output_type": "stream",
     "text": [
      "                                                                                                                       \r"
     ]
    },
    {
     "name": "stdout",
     "output_type": "stream",
     "text": [
      "Results: mean: -207.5 +/- 133.3, min: -315.0 max: 66.0\n",
      "Total elapsed time: 28.52 minutes\n",
      "\n",
      "Epoch #10\n"
     ]
    },
    {
     "name": "stderr",
     "output_type": "stream",
     "text": [
      "                                                                                                                       \r"
     ]
    },
    {
     "name": "stdout",
     "output_type": "stream",
     "text": [
      "Results: mean: -237.3 +/- 118.5, min: -315.0, max: 58.0,\n",
      "\n",
      "Testing...\n"
     ]
    },
    {
     "name": "stderr",
     "output_type": "stream",
     "text": [
      "\u001b[32m[I 2023-05-04 23:24:54,305]\u001b[0m Trial 47 finished with value: -221.46 and parameters: {'learning_rate': 0.0017550514183191871, 'batch_size': 128, 'replay_memory_size': 5000, 'discount_factor': 0.98164972364929, 'frame_repeat': 20, 'optimizer': 'SGD', 'epsilon_decay': 0.9940641709621294}. Best is trial 27 with value: 20.99.\u001b[0m\n"
     ]
    },
    {
     "name": "stdout",
     "output_type": "stream",
     "text": [
      "Results: mean: -221.5 +/- 136.1, min: -325.0 max: 66.0\n",
      "Total elapsed time: 31.89 minutes\n",
      "\n",
      "Learning rate: 0.0021736400029288543, Batch size: 32, Replay memory size: 4000,\n",
      "Discount factor: 0.9107590426615555, Frame repeat: 16, Optimizer: Adam, \n",
      "Epsilon decay: 0.9945794627225366\n",
      "\n",
      "Initializing doom...\n",
      "Doom initialized.\n",
      "Initializing New Model\n",
      "\n",
      "Epoch #1\n"
     ]
    },
    {
     "name": "stderr",
     "output_type": "stream",
     "text": [
      "                                                                                                                       \r"
     ]
    },
    {
     "name": "stdout",
     "output_type": "stream",
     "text": [
      "Results: mean: -227.6 +/- 127.8, min: -360.0, max: 62.0,\n",
      "\n",
      "Testing...\n"
     ]
    },
    {
     "name": "stderr",
     "output_type": "stream",
     "text": [
      "                                                                                                                       \r"
     ]
    },
    {
     "name": "stdout",
     "output_type": "stream",
     "text": [
      "Results: mean: -222.9 +/- 129.4, min: -340.0 max: 66.0\n",
      "Total elapsed time: 3.41 minutes\n",
      "\n",
      "Epoch #2\n"
     ]
    },
    {
     "name": "stderr",
     "output_type": "stream",
     "text": [
      "                                                                                                                       \r"
     ]
    },
    {
     "name": "stdout",
     "output_type": "stream",
     "text": [
      "Results: mean: -237.8 +/- 127.8, min: -370.0, max: 62.0,\n",
      "\n",
      "Testing...\n"
     ]
    },
    {
     "name": "stderr",
     "output_type": "stream",
     "text": [
      "                                                                                                                       \r"
     ]
    },
    {
     "name": "stdout",
     "output_type": "stream",
     "text": [
      "Results: mean: -218.0 +/- 143.5, min: -340.0 max: 66.0\n",
      "Total elapsed time: 6.74 minutes\n",
      "\n",
      "Epoch #3\n"
     ]
    },
    {
     "name": "stderr",
     "output_type": "stream",
     "text": [
      "                                                                                                                       \r"
     ]
    },
    {
     "name": "stdout",
     "output_type": "stream",
     "text": [
      "Results: mean: -131.0 +/- 156.9, min: -340.0, max: 62.0,\n",
      "\n",
      "Testing...\n"
     ]
    },
    {
     "name": "stderr",
     "output_type": "stream",
     "text": [
      "                                                                                                                       \r"
     ]
    },
    {
     "name": "stdout",
     "output_type": "stream",
     "text": [
      "Results: mean: -48.7 +/- 158.0, min: -330.0 max: 66.0\n",
      "Total elapsed time: 9.58 minutes\n",
      "\n",
      "Epoch #4\n"
     ]
    },
    {
     "name": "stderr",
     "output_type": "stream",
     "text": [
      "                                                                                                                       \r"
     ]
    },
    {
     "name": "stdout",
     "output_type": "stream",
     "text": [
      "Results: mean: -86.3 +/- 145.3, min: -340.0, max: 62.0,\n",
      "\n",
      "Testing...\n"
     ]
    },
    {
     "name": "stderr",
     "output_type": "stream",
     "text": [
      "                                                                                                                       \r"
     ]
    },
    {
     "name": "stdout",
     "output_type": "stream",
     "text": [
      "Results: mean: -4.2 +/- 126.7, min: -330.0 max: 66.0\n",
      "Total elapsed time: 12.26 minutes\n",
      "\n",
      "Epoch #5\n"
     ]
    },
    {
     "name": "stderr",
     "output_type": "stream",
     "text": [
      "                                                                                                                       \r"
     ]
    },
    {
     "name": "stdout",
     "output_type": "stream",
     "text": [
      "Results: mean: -55.4 +/- 143.4, min: -345.0, max: 62.0,\n",
      "\n",
      "Testing...\n"
     ]
    },
    {
     "name": "stderr",
     "output_type": "stream",
     "text": [
      "                                                                                                                       \r"
     ]
    },
    {
     "name": "stdout",
     "output_type": "stream",
     "text": [
      "Results: mean: -34.3 +/- 144.8, min: -330.0 max: 66.0\n",
      "Total elapsed time: 15.05 minutes\n",
      "\n",
      "Epoch #6\n"
     ]
    },
    {
     "name": "stderr",
     "output_type": "stream",
     "text": [
      "                                                                                                                       \r"
     ]
    },
    {
     "name": "stdout",
     "output_type": "stream",
     "text": [
      "Results: mean: -27.7 +/- 105.2, min: -360.0, max: 62.0,\n",
      "\n",
      "Testing...\n"
     ]
    },
    {
     "name": "stderr",
     "output_type": "stream",
     "text": [
      "                                                                                                                       \r"
     ]
    },
    {
     "name": "stdout",
     "output_type": "stream",
     "text": [
      "Results: mean: -7.9 +/- 74.2, min: -350.0 max: 66.0\n",
      "Total elapsed time: 17.86 minutes\n",
      "\n",
      "Epoch #7\n"
     ]
    },
    {
     "name": "stderr",
     "output_type": "stream",
     "text": [
      "                                                                                                                       \r"
     ]
    },
    {
     "name": "stdout",
     "output_type": "stream",
     "text": [
      "Results: mean: -1.0 +/- 67.3, min: -355.0, max: 62.0,\n",
      "\n",
      "Testing...\n"
     ]
    },
    {
     "name": "stderr",
     "output_type": "stream",
     "text": [
      "                                                                                                                       \r"
     ]
    },
    {
     "name": "stdout",
     "output_type": "stream",
     "text": [
      "Results: mean: -9.1 +/- 69.8, min: -340.0 max: 66.0\n",
      "Total elapsed time: 21.33 minutes\n",
      "\n",
      "Epoch #8\n"
     ]
    },
    {
     "name": "stderr",
     "output_type": "stream",
     "text": [
      "                                                                                                                       \r"
     ]
    },
    {
     "name": "stdout",
     "output_type": "stream",
     "text": [
      "Results: mean: -19.6 +/- 84.7, min: -350.0, max: 62.0,\n",
      "\n",
      "Testing...\n"
     ]
    },
    {
     "name": "stderr",
     "output_type": "stream",
     "text": [
      "                                                                                                                       \r"
     ]
    },
    {
     "name": "stdout",
     "output_type": "stream",
     "text": [
      "Results: mean: -3.2 +/- 67.2, min: -360.0 max: 66.0\n",
      "Total elapsed time: 24.92 minutes\n",
      "\n",
      "Epoch #9\n"
     ]
    },
    {
     "name": "stderr",
     "output_type": "stream",
     "text": [
      "                                                                                                                       \r"
     ]
    },
    {
     "name": "stdout",
     "output_type": "stream",
     "text": [
      "Results: mean: -18.1 +/- 89.3, min: -355.0, max: 62.0,\n",
      "\n",
      "Testing...\n"
     ]
    },
    {
     "name": "stderr",
     "output_type": "stream",
     "text": [
      "                                                                                                                       \r"
     ]
    },
    {
     "name": "stdout",
     "output_type": "stream",
     "text": [
      "Results: mean: -21.3 +/- 79.2, min: -360.0 max: 66.0\n",
      "Total elapsed time: 28.33 minutes\n",
      "\n",
      "Epoch #10\n"
     ]
    },
    {
     "name": "stderr",
     "output_type": "stream",
     "text": [
      "                                                                                                                       \r"
     ]
    },
    {
     "name": "stdout",
     "output_type": "stream",
     "text": [
      "Results: mean: -13.6 +/- 94.5, min: -350.0, max: 62.0,\n",
      "\n",
      "Testing...\n"
     ]
    },
    {
     "name": "stderr",
     "output_type": "stream",
     "text": [
      "\u001b[32m[I 2023-05-04 23:56:01,294]\u001b[0m Trial 48 finished with value: 27.29 and parameters: {'learning_rate': 0.0021736400029288543, 'batch_size': 32, 'replay_memory_size': 4000, 'discount_factor': 0.9107590426615555, 'frame_repeat': 16, 'optimizer': 'Adam', 'epsilon_decay': 0.9945794627225366}. Best is trial 48 with value: 27.29.\u001b[0m\n"
     ]
    },
    {
     "name": "stdout",
     "output_type": "stream",
     "text": [
      "Results: mean: 27.3 +/- 77.2, min: -360.0 max: 66.0\n",
      "Total elapsed time: 31.11 minutes\n",
      "\n",
      "Learning rate: 0.003839001502711589, Batch size: 32, Replay memory size: 4000,\n",
      "Discount factor: 0.8612803211758275, Frame repeat: 16, Optimizer: Adam, \n",
      "Epsilon decay: 0.9946681345781171\n",
      "\n",
      "Initializing doom...\n",
      "Doom initialized.\n",
      "Initializing New Model\n",
      "\n",
      "Epoch #1\n"
     ]
    },
    {
     "name": "stderr",
     "output_type": "stream",
     "text": [
      "                                                                                                                       \r"
     ]
    },
    {
     "name": "stdout",
     "output_type": "stream",
     "text": [
      "Results: mean: -217.7 +/- 136.4, min: -350.0, max: 62.0,\n",
      "\n",
      "Testing...\n"
     ]
    },
    {
     "name": "stderr",
     "output_type": "stream",
     "text": [
      "                                                                                                                       \r"
     ]
    },
    {
     "name": "stdout",
     "output_type": "stream",
     "text": [
      "Results: mean: -232.3 +/- 121.4, min: -320.0 max: 66.0\n",
      "Total elapsed time: 3.58 minutes\n",
      "\n",
      "Epoch #2\n"
     ]
    },
    {
     "name": "stderr",
     "output_type": "stream",
     "text": [
      "                                                                                                                       \r"
     ]
    },
    {
     "name": "stdout",
     "output_type": "stream",
     "text": [
      "Results: mean: -208.2 +/- 150.0, min: -360.0, max: 62.0,\n",
      "\n",
      "Testing...\n"
     ]
    },
    {
     "name": "stderr",
     "output_type": "stream",
     "text": [
      "                                                                                                                       \r"
     ]
    },
    {
     "name": "stdout",
     "output_type": "stream",
     "text": [
      "Results: mean: -240.1 +/- 128.8, min: -360.0 max: 37.0\n",
      "Total elapsed time: 6.87 minutes\n",
      "\n",
      "Epoch #3\n"
     ]
    },
    {
     "name": "stderr",
     "output_type": "stream",
     "text": [
      "                                                                                                                       \r"
     ]
    },
    {
     "name": "stdout",
     "output_type": "stream",
     "text": [
      "Results: mean: -75.0 +/- 143.8, min: -365.0, max: 62.0,\n",
      "\n",
      "Testing...\n"
     ]
    },
    {
     "name": "stderr",
     "output_type": "stream",
     "text": [
      "                                                                                                                       \r"
     ]
    },
    {
     "name": "stdout",
     "output_type": "stream",
     "text": [
      "Results: mean: -74.9 +/- 142.0, min: -350.0 max: 66.0\n",
      "Total elapsed time: 9.57 minutes\n",
      "\n",
      "Epoch #4\n"
     ]
    },
    {
     "name": "stderr",
     "output_type": "stream",
     "text": [
      "                                                                                                                       \r"
     ]
    },
    {
     "name": "stdout",
     "output_type": "stream",
     "text": [
      "Results: mean: -83.0 +/- 143.9, min: -335.0, max: 62.0,\n",
      "\n",
      "Testing...\n"
     ]
    },
    {
     "name": "stderr",
     "output_type": "stream",
     "text": [
      "                                                                                                                       \r"
     ]
    },
    {
     "name": "stdout",
     "output_type": "stream",
     "text": [
      "Results: mean: -110.6 +/- 117.3, min: -350.0 max: 66.0\n",
      "Total elapsed time: 12.39 minutes\n",
      "\n",
      "Epoch #5\n"
     ]
    },
    {
     "name": "stderr",
     "output_type": "stream",
     "text": [
      "                                                                                                                       \r"
     ]
    },
    {
     "name": "stdout",
     "output_type": "stream",
     "text": [
      "Results: mean: -184.5 +/- 148.0, min: -340.0, max: 62.0,\n",
      "\n",
      "Testing...\n"
     ]
    },
    {
     "name": "stderr",
     "output_type": "stream",
     "text": [
      "                                                                                                                       \r"
     ]
    },
    {
     "name": "stdout",
     "output_type": "stream",
     "text": [
      "Results: mean: -193.3 +/- 142.6, min: -335.0 max: 66.0\n",
      "Total elapsed time: 15.44 minutes\n",
      "\n",
      "Epoch #6\n"
     ]
    },
    {
     "name": "stderr",
     "output_type": "stream",
     "text": [
      "                                                                                                                       \r"
     ]
    },
    {
     "name": "stdout",
     "output_type": "stream",
     "text": [
      "Results: mean: -182.3 +/- 148.2, min: -350.0, max: 62.0,\n",
      "\n",
      "Testing...\n"
     ]
    },
    {
     "name": "stderr",
     "output_type": "stream",
     "text": [
      "                                                                                                                       \r"
     ]
    },
    {
     "name": "stdout",
     "output_type": "stream",
     "text": [
      "Results: mean: -138.7 +/- 135.3, min: -350.0 max: 66.0\n",
      "Total elapsed time: 18.35 minutes\n",
      "\n",
      "Epoch #7\n"
     ]
    },
    {
     "name": "stderr",
     "output_type": "stream",
     "text": [
      "                                                                                                                       \r"
     ]
    },
    {
     "name": "stdout",
     "output_type": "stream",
     "text": [
      "Results: mean: -148.9 +/- 153.3, min: -360.0, max: 62.0,\n",
      "\n",
      "Testing...\n"
     ]
    },
    {
     "name": "stderr",
     "output_type": "stream",
     "text": [
      "                                                                                                                       \r"
     ]
    },
    {
     "name": "stdout",
     "output_type": "stream",
     "text": [
      "Results: mean: -222.4 +/- 141.9, min: -370.0 max: 66.0\n",
      "Total elapsed time: 21.44 minutes\n",
      "\n",
      "Epoch #8\n"
     ]
    },
    {
     "name": "stderr",
     "output_type": "stream",
     "text": [
      "                                                                                                                       \r"
     ]
    },
    {
     "name": "stdout",
     "output_type": "stream",
     "text": [
      "Results: mean: -141.8 +/- 157.9, min: -370.0, max: 62.0,\n",
      "\n",
      "Testing...\n"
     ]
    },
    {
     "name": "stderr",
     "output_type": "stream",
     "text": [
      "                                                                                                                       \r"
     ]
    },
    {
     "name": "stdout",
     "output_type": "stream",
     "text": [
      "Results: mean: -118.2 +/- 137.2, min: -370.0 max: 66.0\n",
      "Total elapsed time: 24.29 minutes\n",
      "\n",
      "Epoch #9\n"
     ]
    },
    {
     "name": "stderr",
     "output_type": "stream",
     "text": [
      "                                                                                                                       \r"
     ]
    },
    {
     "name": "stdout",
     "output_type": "stream",
     "text": [
      "Results: mean: -190.9 +/- 147.0, min: -370.0, max: 62.0,\n",
      "\n",
      "Testing...\n"
     ]
    },
    {
     "name": "stderr",
     "output_type": "stream",
     "text": [
      "                                                                                                                       \r"
     ]
    },
    {
     "name": "stdout",
     "output_type": "stream",
     "text": [
      "Results: mean: -203.6 +/- 143.3, min: -355.0 max: 54.0\n",
      "Total elapsed time: 27.34 minutes\n",
      "\n",
      "Epoch #10\n"
     ]
    },
    {
     "name": "stderr",
     "output_type": "stream",
     "text": [
      "                                                                                                                       \r"
     ]
    },
    {
     "name": "stdout",
     "output_type": "stream",
     "text": [
      "Results: mean: -142.9 +/- 156.0, min: -360.0, max: 62.0,\n",
      "\n",
      "Testing...\n"
     ]
    },
    {
     "name": "stderr",
     "output_type": "stream",
     "text": [
      "\u001b[32m[I 2023-05-05 00:26:12,417]\u001b[0m Trial 49 finished with value: -128.13 and parameters: {'learning_rate': 0.003839001502711589, 'batch_size': 32, 'replay_memory_size': 4000, 'discount_factor': 0.8612803211758275, 'frame_repeat': 16, 'optimizer': 'Adam', 'epsilon_decay': 0.9946681345781171}. Best is trial 48 with value: 27.29.\u001b[0m\n"
     ]
    },
    {
     "name": "stdout",
     "output_type": "stream",
     "text": [
      "Results: mean: -128.1 +/- 150.9, min: -360.0 max: 66.0\n",
      "Total elapsed time: 30.17 minutes\n",
      "\n",
      "Learning rate: 0.0013905664694421136, Batch size: 64, Replay memory size: 6000,\n",
      "Discount factor: 0.9163539504004503, Frame repeat: 16, Optimizer: SGD, \n",
      "Epsilon decay: 0.9955719896124012\n",
      "\n",
      "Initializing doom...\n",
      "Doom initialized.\n",
      "Initializing New Model\n",
      "\n",
      "Epoch #1\n"
     ]
    },
    {
     "name": "stderr",
     "output_type": "stream",
     "text": [
      "                                                                                                                       \r"
     ]
    },
    {
     "name": "stdout",
     "output_type": "stream",
     "text": [
      "Results: mean: -264.6 +/- 108.9, min: -345.0, max: 62.0,\n",
      "\n",
      "Testing...\n"
     ]
    },
    {
     "name": "stderr",
     "output_type": "stream",
     "text": [
      "                                                                                                                       \r"
     ]
    },
    {
     "name": "stdout",
     "output_type": "stream",
     "text": [
      "Results: mean: -236.3 +/- 121.0, min: -325.0 max: 66.0\n",
      "Total elapsed time: 3.15 minutes\n",
      "\n",
      "Epoch #2\n"
     ]
    },
    {
     "name": "stderr",
     "output_type": "stream",
     "text": [
      "                                                                                                                       \r"
     ]
    },
    {
     "name": "stdout",
     "output_type": "stream",
     "text": [
      "Results: mean: -242.7 +/- 122.2, min: -340.0, max: 62.0,\n",
      "\n",
      "Testing...\n"
     ]
    },
    {
     "name": "stderr",
     "output_type": "stream",
     "text": [
      "                                                                                                                       \r"
     ]
    },
    {
     "name": "stdout",
     "output_type": "stream",
     "text": [
      "Results: mean: -89.1 +/- 172.5, min: -370.0 max: 66.0\n",
      "Total elapsed time: 5.80 minutes\n",
      "\n",
      "Epoch #3\n"
     ]
    },
    {
     "name": "stderr",
     "output_type": "stream",
     "text": [
      "                                                                                                                       \r"
     ]
    },
    {
     "name": "stdout",
     "output_type": "stream",
     "text": [
      "Results: mean: -178.5 +/- 154.0, min: -340.0, max: 62.0,\n",
      "\n",
      "Testing...\n"
     ]
    },
    {
     "name": "stderr",
     "output_type": "stream",
     "text": [
      "                                                                                                                       \r"
     ]
    },
    {
     "name": "stdout",
     "output_type": "stream",
     "text": [
      "Results: mean: -84.5 +/- 175.7, min: -325.0 max: 66.0\n",
      "Total elapsed time: 8.46 minutes\n",
      "\n",
      "Epoch #4\n"
     ]
    },
    {
     "name": "stderr",
     "output_type": "stream",
     "text": [
      "                                                                                                                       \r"
     ]
    },
    {
     "name": "stdout",
     "output_type": "stream",
     "text": [
      "Results: mean: -86.9 +/- 136.8, min: -345.0, max: 62.0,\n",
      "\n",
      "Testing...\n"
     ]
    },
    {
     "name": "stderr",
     "output_type": "stream",
     "text": [
      "                                                                                                                       \r"
     ]
    },
    {
     "name": "stdout",
     "output_type": "stream",
     "text": [
      "Results: mean: -70.2 +/- 131.5, min: -330.0 max: 66.0\n",
      "Total elapsed time: 11.09 minutes\n",
      "\n",
      "Epoch #5\n"
     ]
    },
    {
     "name": "stderr",
     "output_type": "stream",
     "text": [
      "                                                                                                                       \r"
     ]
    },
    {
     "name": "stdout",
     "output_type": "stream",
     "text": [
      "Results: mean: -38.3 +/- 130.4, min: -360.0, max: 62.0,\n",
      "\n",
      "Testing...\n"
     ]
    },
    {
     "name": "stderr",
     "output_type": "stream",
     "text": [
      "                                                                                                                       \r"
     ]
    },
    {
     "name": "stdout",
     "output_type": "stream",
     "text": [
      "Results: mean: -3.0 +/- 117.3, min: -335.0 max: 66.0\n",
      "Total elapsed time: 13.47 minutes\n",
      "\n",
      "Epoch #6\n"
     ]
    },
    {
     "name": "stderr",
     "output_type": "stream",
     "text": [
      "                                                                                                                       \r"
     ]
    },
    {
     "name": "stdout",
     "output_type": "stream",
     "text": [
      "Results: mean: -54.0 +/- 133.8, min: -360.0, max: 62.0,\n",
      "\n",
      "Testing...\n"
     ]
    },
    {
     "name": "stderr",
     "output_type": "stream",
     "text": [
      "                                                                                                                       \r"
     ]
    },
    {
     "name": "stdout",
     "output_type": "stream",
     "text": [
      "Results: mean: -6.5 +/- 120.2, min: -360.0 max: 66.0\n",
      "Total elapsed time: 15.88 minutes\n",
      "\n",
      "Epoch #7\n"
     ]
    },
    {
     "name": "stderr",
     "output_type": "stream",
     "text": [
      "                                                                                                                       \r"
     ]
    },
    {
     "name": "stdout",
     "output_type": "stream",
     "text": [
      "Results: mean: -35.5 +/- 106.3, min: -370.0, max: 62.0,\n",
      "\n",
      "Testing...\n"
     ]
    },
    {
     "name": "stderr",
     "output_type": "stream",
     "text": [
      "                                                                                                                       \r"
     ]
    },
    {
     "name": "stdout",
     "output_type": "stream",
     "text": [
      "Results: mean: -33.6 +/- 101.7, min: -355.0 max: 66.0\n",
      "Total elapsed time: 18.37 minutes\n",
      "\n",
      "Epoch #8\n"
     ]
    },
    {
     "name": "stderr",
     "output_type": "stream",
     "text": [
      "                                                                                                                       \r"
     ]
    },
    {
     "name": "stdout",
     "output_type": "stream",
     "text": [
      "Results: mean: -35.3 +/- 108.7, min: -365.0, max: 62.0,\n",
      "\n",
      "Testing...\n"
     ]
    },
    {
     "name": "stderr",
     "output_type": "stream",
     "text": [
      "                                                                                                                       \r"
     ]
    },
    {
     "name": "stdout",
     "output_type": "stream",
     "text": [
      "Results: mean: -29.2 +/- 98.7, min: -370.0 max: 66.0\n",
      "Total elapsed time: 20.87 minutes\n",
      "\n",
      "Epoch #9\n"
     ]
    },
    {
     "name": "stderr",
     "output_type": "stream",
     "text": [
      "                                                                                                                       \r"
     ]
    },
    {
     "name": "stdout",
     "output_type": "stream",
     "text": [
      "Results: mean: -41.6 +/- 132.5, min: -370.0, max: 62.0,\n",
      "\n",
      "Testing...\n"
     ]
    },
    {
     "name": "stderr",
     "output_type": "stream",
     "text": [
      "                                                                                                                       \r"
     ]
    },
    {
     "name": "stdout",
     "output_type": "stream",
     "text": [
      "Results: mean: -27.2 +/- 93.3, min: -350.0 max: 66.0\n",
      "Total elapsed time: 23.37 minutes\n",
      "\n",
      "Epoch #10\n"
     ]
    },
    {
     "name": "stderr",
     "output_type": "stream",
     "text": [
      "                                                                                                                       \r"
     ]
    },
    {
     "name": "stdout",
     "output_type": "stream",
     "text": [
      "Results: mean: -31.4 +/- 106.5, min: -365.0, max: 62.0,\n",
      "\n",
      "Testing...\n"
     ]
    },
    {
     "name": "stderr",
     "output_type": "stream",
     "text": [
      "\u001b[32m[I 2023-05-05 00:52:05,214]\u001b[0m Trial 50 finished with value: -36.78 and parameters: {'learning_rate': 0.0013905664694421136, 'batch_size': 64, 'replay_memory_size': 6000, 'discount_factor': 0.9163539504004503, 'frame_repeat': 16, 'optimizer': 'SGD', 'epsilon_decay': 0.9955719896124012}. Best is trial 48 with value: 27.29.\u001b[0m\n"
     ]
    },
    {
     "name": "stdout",
     "output_type": "stream",
     "text": [
      "Results: mean: -36.8 +/- 116.2, min: -360.0 max: 66.0\n",
      "Total elapsed time: 25.87 minutes\n",
      "\n",
      "Learning rate: 0.0023489260757033914, Batch size: 32, Replay memory size: 4000,\n",
      "Discount factor: 0.9430760358473791, Frame repeat: 16, Optimizer: Adam, \n",
      "Epsilon decay: 0.993869092762565\n",
      "\n",
      "Initializing doom...\n",
      "Doom initialized.\n",
      "Initializing New Model\n",
      "\n",
      "Epoch #1\n"
     ]
    },
    {
     "name": "stderr",
     "output_type": "stream",
     "text": [
      "                                                                                                                       \r"
     ]
    },
    {
     "name": "stdout",
     "output_type": "stream",
     "text": [
      "Results: mean: -256.4 +/- 114.5, min: -355.0, max: 62.0,\n",
      "\n",
      "Testing...\n"
     ]
    },
    {
     "name": "stderr",
     "output_type": "stream",
     "text": [
      "                                                                                                                       \r"
     ]
    },
    {
     "name": "stdout",
     "output_type": "stream",
     "text": [
      "Results: mean: -224.1 +/- 123.1, min: -320.0 max: 66.0\n",
      "Total elapsed time: 3.18 minutes\n",
      "\n",
      "Epoch #2\n"
     ]
    },
    {
     "name": "stderr",
     "output_type": "stream",
     "text": [
      "                                                                                                                       \r"
     ]
    },
    {
     "name": "stdout",
     "output_type": "stream",
     "text": [
      "Results: mean: -218.6 +/- 144.8, min: -370.0, max: 62.0,\n",
      "\n",
      "Testing...\n"
     ]
    },
    {
     "name": "stderr",
     "output_type": "stream",
     "text": [
      "                                                                                                                       \r"
     ]
    },
    {
     "name": "stdout",
     "output_type": "stream",
     "text": [
      "Results: mean: -239.5 +/- 135.8, min: -345.0 max: 66.0\n",
      "Total elapsed time: 6.33 minutes\n",
      "\n",
      "Epoch #3\n"
     ]
    },
    {
     "name": "stderr",
     "output_type": "stream",
     "text": [
      "                                                                                                                       \r"
     ]
    },
    {
     "name": "stdout",
     "output_type": "stream",
     "text": [
      "Results: mean: -166.0 +/- 149.6, min: -370.0, max: 62.0,\n",
      "\n",
      "Testing...\n"
     ]
    },
    {
     "name": "stderr",
     "output_type": "stream",
     "text": [
      "                                                                                                                       \r"
     ]
    },
    {
     "name": "stdout",
     "output_type": "stream",
     "text": [
      "Results: mean: -49.0 +/- 116.1, min: -365.0 max: 66.0\n",
      "Total elapsed time: 8.95 minutes\n",
      "\n",
      "Epoch #4\n"
     ]
    },
    {
     "name": "stderr",
     "output_type": "stream",
     "text": [
      "                                                                                                                       \r"
     ]
    },
    {
     "name": "stdout",
     "output_type": "stream",
     "text": [
      "Results: mean: -29.6 +/- 112.4, min: -355.0, max: 62.0,\n",
      "\n",
      "Testing...\n"
     ]
    },
    {
     "name": "stderr",
     "output_type": "stream",
     "text": [
      "                                                                                                                       \r"
     ]
    },
    {
     "name": "stdout",
     "output_type": "stream",
     "text": [
      "Results: mean: 14.7 +/- 94.7, min: -370.0 max: 66.0\n",
      "Total elapsed time: 11.33 minutes\n",
      "\n",
      "Epoch #5\n"
     ]
    },
    {
     "name": "stderr",
     "output_type": "stream",
     "text": [
      "                                                                                                                       \r"
     ]
    },
    {
     "name": "stdout",
     "output_type": "stream",
     "text": [
      "Results: mean: 1.3 +/- 99.2, min: -370.0, max: 62.0,\n",
      "\n",
      "Testing...\n"
     ]
    },
    {
     "name": "stderr",
     "output_type": "stream",
     "text": [
      "                                                                                                                       \r"
     ]
    },
    {
     "name": "stdout",
     "output_type": "stream",
     "text": [
      "Results: mean: -41.1 +/- 68.2, min: -345.0 max: 66.0\n",
      "Total elapsed time: 13.91 minutes\n",
      "\n",
      "Epoch #6\n"
     ]
    },
    {
     "name": "stderr",
     "output_type": "stream",
     "text": [
      "                                                                                                                       \r"
     ]
    },
    {
     "name": "stdout",
     "output_type": "stream",
     "text": [
      "Results: mean: -0.2 +/- 96.1, min: -370.0, max: 62.0,\n",
      "\n",
      "Testing...\n"
     ]
    },
    {
     "name": "stderr",
     "output_type": "stream",
     "text": [
      "                                                                                                                       \r"
     ]
    },
    {
     "name": "stdout",
     "output_type": "stream",
     "text": [
      "Results: mean: 21.1 +/- 82.4, min: -370.0 max: 66.0\n",
      "Total elapsed time: 16.25 minutes\n",
      "\n",
      "Epoch #7\n"
     ]
    },
    {
     "name": "stderr",
     "output_type": "stream",
     "text": [
      "                                                                                                                       \r"
     ]
    },
    {
     "name": "stdout",
     "output_type": "stream",
     "text": [
      "Results: mean: 7.3 +/- 97.3, min: -370.0, max: 62.0,\n",
      "\n",
      "Testing...\n"
     ]
    },
    {
     "name": "stderr",
     "output_type": "stream",
     "text": [
      "                                                                                                                       \r"
     ]
    },
    {
     "name": "stdout",
     "output_type": "stream",
     "text": [
      "Results: mean: 12.6 +/- 85.0, min: -365.0 max: 66.0\n",
      "Total elapsed time: 18.61 minutes\n",
      "\n",
      "Epoch #8\n"
     ]
    },
    {
     "name": "stderr",
     "output_type": "stream",
     "text": [
      "                                                                                                                       \r"
     ]
    },
    {
     "name": "stdout",
     "output_type": "stream",
     "text": [
      "Results: mean: 20.2 +/- 66.6, min: -365.0, max: 62.0,\n",
      "\n",
      "Testing...\n"
     ]
    },
    {
     "name": "stderr",
     "output_type": "stream",
     "text": [
      "                                                                                                                       \r"
     ]
    },
    {
     "name": "stdout",
     "output_type": "stream",
     "text": [
      "Results: mean: 34.1 +/- 45.2, min: -151.0 max: 66.0\n",
      "Total elapsed time: 20.89 minutes\n",
      "\n",
      "Epoch #9\n"
     ]
    },
    {
     "name": "stderr",
     "output_type": "stream",
     "text": [
      "                                                                                                                       \r"
     ]
    },
    {
     "name": "stdout",
     "output_type": "stream",
     "text": [
      "Results: mean: 9.2 +/- 74.6, min: -350.0, max: 62.0,\n",
      "\n",
      "Testing...\n"
     ]
    },
    {
     "name": "stderr",
     "output_type": "stream",
     "text": [
      "                                                                                                                       \r"
     ]
    },
    {
     "name": "stdout",
     "output_type": "stream",
     "text": [
      "Results: mean: 22.1 +/- 68.2, min: -365.0 max: 66.0\n",
      "Total elapsed time: 23.22 minutes\n",
      "\n",
      "Epoch #10\n"
     ]
    },
    {
     "name": "stderr",
     "output_type": "stream",
     "text": [
      "                                                                                                                       \r"
     ]
    },
    {
     "name": "stdout",
     "output_type": "stream",
     "text": [
      "Results: mean: -36.4 +/- 110.9, min: -315.0, max: 62.0,\n",
      "\n",
      "Testing...\n"
     ]
    },
    {
     "name": "stderr",
     "output_type": "stream",
     "text": [
      "\u001b[32m[I 2023-05-05 01:17:43,547]\u001b[0m Trial 51 finished with value: 4.71 and parameters: {'learning_rate': 0.0023489260757033914, 'batch_size': 32, 'replay_memory_size': 4000, 'discount_factor': 0.9430760358473791, 'frame_repeat': 16, 'optimizer': 'Adam', 'epsilon_decay': 0.993869092762565}. Best is trial 48 with value: 27.29.\u001b[0m\n"
     ]
    },
    {
     "name": "stdout",
     "output_type": "stream",
     "text": [
      "Results: mean: 4.7 +/- 98.7, min: -345.0 max: 66.0\n",
      "Total elapsed time: 25.63 minutes\n",
      "\n",
      "Learning rate: 0.0023604610887083266, Batch size: 32, Replay memory size: 4000,\n",
      "Discount factor: 0.9284373064457541, Frame repeat: 16, Optimizer: Adam, \n",
      "Epsilon decay: 0.9938176034794695\n",
      "\n",
      "Initializing doom...\n",
      "Doom initialized.\n",
      "Initializing New Model\n",
      "\n",
      "Epoch #1\n"
     ]
    },
    {
     "name": "stderr",
     "output_type": "stream",
     "text": [
      "                                                                                                                       \r"
     ]
    },
    {
     "name": "stdout",
     "output_type": "stream",
     "text": [
      "Results: mean: -197.8 +/- 153.5, min: -355.0, max: 62.0,\n",
      "\n",
      "Testing...\n"
     ]
    },
    {
     "name": "stderr",
     "output_type": "stream",
     "text": [
      "                                                                                                                       \r"
     ]
    },
    {
     "name": "stdout",
     "output_type": "stream",
     "text": [
      "Results: mean: -237.4 +/- 125.9, min: -320.0 max: 54.0\n",
      "Total elapsed time: 3.19 minutes\n",
      "\n",
      "Epoch #2\n"
     ]
    },
    {
     "name": "stderr",
     "output_type": "stream",
     "text": [
      "                                                                                                                       \r"
     ]
    },
    {
     "name": "stdout",
     "output_type": "stream",
     "text": [
      "Results: mean: -140.9 +/- 161.2, min: -370.0, max: 62.0,\n",
      "\n",
      "Testing...\n"
     ]
    },
    {
     "name": "stderr",
     "output_type": "stream",
     "text": [
      "                                                                                                                       \r"
     ]
    },
    {
     "name": "stdout",
     "output_type": "stream",
     "text": [
      "Results: mean: -75.1 +/- 155.5, min: -345.0 max: 66.0\n",
      "Total elapsed time: 5.84 minutes\n",
      "\n",
      "Epoch #3\n"
     ]
    },
    {
     "name": "stderr",
     "output_type": "stream",
     "text": [
      "                                                                                                                       \r"
     ]
    },
    {
     "name": "stdout",
     "output_type": "stream",
     "text": [
      "Results: mean: -8.1 +/- 120.1, min: -365.0, max: 62.0,\n",
      "\n",
      "Testing...\n"
     ]
    },
    {
     "name": "stderr",
     "output_type": "stream",
     "text": [
      "                                                                                                                       \r"
     ]
    },
    {
     "name": "stdout",
     "output_type": "stream",
     "text": [
      "Results: mean: 2.2 +/- 108.6, min: -370.0 max: 66.0\n",
      "Total elapsed time: 8.24 minutes\n",
      "\n",
      "Epoch #4\n"
     ]
    },
    {
     "name": "stderr",
     "output_type": "stream",
     "text": [
      "                                                                                                                       \r"
     ]
    },
    {
     "name": "stdout",
     "output_type": "stream",
     "text": [
      "Results: mean: -31.6 +/- 128.9, min: -365.0, max: 62.0,\n",
      "\n",
      "Testing...\n"
     ]
    },
    {
     "name": "stderr",
     "output_type": "stream",
     "text": [
      "                                                                                                                       \r"
     ]
    },
    {
     "name": "stdout",
     "output_type": "stream",
     "text": [
      "Results: mean: 12.1 +/- 82.7, min: -350.0 max: 66.0\n",
      "Total elapsed time: 10.63 minutes\n",
      "\n",
      "Epoch #5\n"
     ]
    },
    {
     "name": "stderr",
     "output_type": "stream",
     "text": [
      "                                                                                                                       \r"
     ]
    },
    {
     "name": "stdout",
     "output_type": "stream",
     "text": [
      "Results: mean: -9.4 +/- 92.6, min: -370.0, max: 62.0,\n",
      "\n",
      "Testing...\n"
     ]
    },
    {
     "name": "stderr",
     "output_type": "stream",
     "text": [
      "                                                                                                                       \r"
     ]
    },
    {
     "name": "stdout",
     "output_type": "stream",
     "text": [
      "Results: mean: -4.9 +/- 62.4, min: -365.0 max: 66.0\n",
      "Total elapsed time: 13.09 minutes\n",
      "\n",
      "Epoch #6\n"
     ]
    },
    {
     "name": "stderr",
     "output_type": "stream",
     "text": [
      "                                                                                                                       \r"
     ]
    },
    {
     "name": "stdout",
     "output_type": "stream",
     "text": [
      "Results: mean: 11.8 +/- 68.6, min: -365.0, max: 62.0,\n",
      "\n",
      "Testing...\n"
     ]
    },
    {
     "name": "stderr",
     "output_type": "stream",
     "text": [
      "                                                                                                                       \r"
     ]
    },
    {
     "name": "stdout",
     "output_type": "stream",
     "text": [
      "Results: mean: 18.7 +/- 48.4, min: -330.0 max: 66.0\n",
      "Total elapsed time: 15.46 minutes\n",
      "\n",
      "Epoch #7\n"
     ]
    },
    {
     "name": "stderr",
     "output_type": "stream",
     "text": [
      "                                                                                                                       \r"
     ]
    },
    {
     "name": "stdout",
     "output_type": "stream",
     "text": [
      "Results: mean: 21.8 +/- 69.5, min: -370.0, max: 62.0,\n",
      "\n",
      "Testing...\n"
     ]
    },
    {
     "name": "stderr",
     "output_type": "stream",
     "text": [
      "                                                                                                                       \r"
     ]
    },
    {
     "name": "stdout",
     "output_type": "stream",
     "text": [
      "Results: mean: 34.8 +/- 45.2, min: -209.0 max: 66.0\n",
      "Total elapsed time: 17.74 minutes\n",
      "\n",
      "Epoch #8\n"
     ]
    },
    {
     "name": "stderr",
     "output_type": "stream",
     "text": [
      "                                                                                                                       \r"
     ]
    },
    {
     "name": "stdout",
     "output_type": "stream",
     "text": [
      "Results: mean: 30.2 +/- 67.7, min: -320.0, max: 62.0,\n",
      "\n",
      "Testing...\n"
     ]
    },
    {
     "name": "stderr",
     "output_type": "stream",
     "text": [
      "                                                                                                                       \r"
     ]
    },
    {
     "name": "stdout",
     "output_type": "stream",
     "text": [
      "Results: mean: 36.5 +/- 54.8, min: -300.0 max: 66.0\n",
      "Total elapsed time: 20.00 minutes\n",
      "\n",
      "Epoch #9\n"
     ]
    },
    {
     "name": "stderr",
     "output_type": "stream",
     "text": [
      "                                                                                                                       \r"
     ]
    },
    {
     "name": "stdout",
     "output_type": "stream",
     "text": [
      "Results: mean: 12.0 +/- 99.4, min: -370.0, max: 62.0,\n",
      "\n",
      "Testing...\n"
     ]
    },
    {
     "name": "stderr",
     "output_type": "stream",
     "text": [
      "                                                                                                                       \r"
     ]
    },
    {
     "name": "stdout",
     "output_type": "stream",
     "text": [
      "Results: mean: 13.1 +/- 94.1, min: -365.0 max: 66.0\n",
      "Total elapsed time: 22.34 minutes\n",
      "\n",
      "Epoch #10\n"
     ]
    },
    {
     "name": "stderr",
     "output_type": "stream",
     "text": [
      "                                                                                                                       \r"
     ]
    },
    {
     "name": "stdout",
     "output_type": "stream",
     "text": [
      "Results: mean: 6.9 +/- 102.5, min: -370.0, max: 62.0,\n",
      "\n",
      "Testing...\n"
     ]
    },
    {
     "name": "stderr",
     "output_type": "stream",
     "text": [
      "\u001b[32m[I 2023-05-05 01:42:25,826]\u001b[0m Trial 52 finished with value: 14.79 and parameters: {'learning_rate': 0.0023604610887083266, 'batch_size': 32, 'replay_memory_size': 4000, 'discount_factor': 0.9284373064457541, 'frame_repeat': 16, 'optimizer': 'Adam', 'epsilon_decay': 0.9938176034794695}. Best is trial 48 with value: 27.29.\u001b[0m\n"
     ]
    },
    {
     "name": "stdout",
     "output_type": "stream",
     "text": [
      "Results: mean: 14.8 +/- 91.8, min: -355.0 max: 66.0\n",
      "Total elapsed time: 24.69 minutes\n",
      "\n",
      "Learning rate: 0.003013530851811065, Batch size: 32, Replay memory size: 5000,\n",
      "Discount factor: 0.8138447710548362, Frame repeat: 16, Optimizer: Adam, \n",
      "Epsilon decay: 0.994860320168976\n",
      "\n",
      "Initializing doom...\n",
      "Doom initialized.\n",
      "Initializing New Model\n",
      "\n",
      "Epoch #1\n"
     ]
    },
    {
     "name": "stderr",
     "output_type": "stream",
     "text": [
      "                                                                                                                       \r"
     ]
    },
    {
     "name": "stdout",
     "output_type": "stream",
     "text": [
      "Results: mean: -260.6 +/- 110.0, min: -355.0, max: 62.0,\n",
      "\n",
      "Testing...\n"
     ]
    },
    {
     "name": "stderr",
     "output_type": "stream",
     "text": [
      "                                                                                                                       \r"
     ]
    },
    {
     "name": "stdout",
     "output_type": "stream",
     "text": [
      "Results: mean: -208.5 +/- 139.1, min: -325.0 max: 66.0\n",
      "Total elapsed time: 3.12 minutes\n",
      "\n",
      "Epoch #2\n"
     ]
    },
    {
     "name": "stderr",
     "output_type": "stream",
     "text": [
      "                                                                                                                       \r"
     ]
    },
    {
     "name": "stdout",
     "output_type": "stream",
     "text": [
      "Results: mean: -255.4 +/- 115.9, min: -350.0, max: 62.0,\n",
      "\n",
      "Testing...\n"
     ]
    },
    {
     "name": "stderr",
     "output_type": "stream",
     "text": [
      "                                                                                                                       \r"
     ]
    },
    {
     "name": "stdout",
     "output_type": "stream",
     "text": [
      "Results: mean: -286.3 +/- 85.6, min: -355.0 max: 66.0\n",
      "Total elapsed time: 6.40 minutes\n",
      "\n",
      "Epoch #3\n"
     ]
    },
    {
     "name": "stderr",
     "output_type": "stream",
     "text": [
      "                                                                                                                       \r"
     ]
    },
    {
     "name": "stdout",
     "output_type": "stream",
     "text": [
      "Results: mean: -138.5 +/- 144.1, min: -355.0, max: 62.0,\n",
      "\n",
      "Testing...\n"
     ]
    },
    {
     "name": "stderr",
     "output_type": "stream",
     "text": [
      "                                                                                                                       \r"
     ]
    },
    {
     "name": "stdout",
     "output_type": "stream",
     "text": [
      "Results: mean: -102.6 +/- 138.3, min: -365.0 max: 66.0\n",
      "Total elapsed time: 9.22 minutes\n",
      "\n",
      "Epoch #4\n"
     ]
    },
    {
     "name": "stderr",
     "output_type": "stream",
     "text": [
      "                                                                                                                       \r"
     ]
    },
    {
     "name": "stdout",
     "output_type": "stream",
     "text": [
      "Results: mean: -46.2 +/- 109.8, min: -345.0, max: 62.0,\n",
      "\n",
      "Testing...\n"
     ]
    },
    {
     "name": "stderr",
     "output_type": "stream",
     "text": [
      "                                                                                                                       \r"
     ]
    },
    {
     "name": "stdout",
     "output_type": "stream",
     "text": [
      "Results: mean: -19.8 +/- 66.0, min: -305.0 max: 66.0\n",
      "Total elapsed time: 11.78 minutes\n",
      "\n",
      "Epoch #5\n"
     ]
    },
    {
     "name": "stderr",
     "output_type": "stream",
     "text": [
      "                                                                                                                       \r"
     ]
    },
    {
     "name": "stdout",
     "output_type": "stream",
     "text": [
      "Results: mean: 15.3 +/- 81.7, min: -365.0, max: 62.0,\n",
      "\n",
      "Testing...\n"
     ]
    },
    {
     "name": "stderr",
     "output_type": "stream",
     "text": [
      "                                                                                                                       \r"
     ]
    },
    {
     "name": "stdout",
     "output_type": "stream",
     "text": [
      "Results: mean: 18.8 +/- 66.2, min: -365.0 max: 66.0\n",
      "Total elapsed time: 14.13 minutes\n",
      "\n",
      "Epoch #6\n"
     ]
    },
    {
     "name": "stderr",
     "output_type": "stream",
     "text": [
      "                                                                                                                       \r"
     ]
    },
    {
     "name": "stdout",
     "output_type": "stream",
     "text": [
      "Results: mean: -17.5 +/- 100.0, min: -370.0, max: 62.0,\n",
      "\n",
      "Testing...\n"
     ]
    },
    {
     "name": "stderr",
     "output_type": "stream",
     "text": [
      "                                                                                                                       \r"
     ]
    },
    {
     "name": "stdout",
     "output_type": "stream",
     "text": [
      "Results: mean: 19.4 +/- 51.6, min: -210.0 max: 66.0\n",
      "Total elapsed time: 16.52 minutes\n",
      "\n",
      "Epoch #7\n"
     ]
    },
    {
     "name": "stderr",
     "output_type": "stream",
     "text": [
      "                                                                                                                       \r"
     ]
    },
    {
     "name": "stdout",
     "output_type": "stream",
     "text": [
      "Results: mean: 7.1 +/- 99.5, min: -360.0, max: 62.0,\n",
      "\n",
      "Testing...\n"
     ]
    },
    {
     "name": "stderr",
     "output_type": "stream",
     "text": [
      "                                                                                                                       \r"
     ]
    },
    {
     "name": "stdout",
     "output_type": "stream",
     "text": [
      "Results: mean: 3.4 +/- 87.1, min: -330.0 max: 66.0\n",
      "Total elapsed time: 18.95 minutes\n",
      "\n",
      "Epoch #8\n"
     ]
    },
    {
     "name": "stderr",
     "output_type": "stream",
     "text": [
      "                                                                                                                       \r"
     ]
    },
    {
     "name": "stdout",
     "output_type": "stream",
     "text": [
      "Results: mean: -24.7 +/- 109.9, min: -355.0, max: 62.0,\n",
      "\n",
      "Testing...\n"
     ]
    },
    {
     "name": "stderr",
     "output_type": "stream",
     "text": [
      "                                                                                                                       \r"
     ]
    },
    {
     "name": "stdout",
     "output_type": "stream",
     "text": [
      "Results: mean: -87.8 +/- 146.0, min: -355.0 max: 66.0\n",
      "Total elapsed time: 21.66 minutes\n",
      "\n",
      "Epoch #9\n"
     ]
    },
    {
     "name": "stderr",
     "output_type": "stream",
     "text": [
      "                                                                                                                       \r"
     ]
    },
    {
     "name": "stdout",
     "output_type": "stream",
     "text": [
      "Results: mean: -41.6 +/- 119.9, min: -350.0, max: 62.0,\n",
      "\n",
      "Testing...\n"
     ]
    },
    {
     "name": "stderr",
     "output_type": "stream",
     "text": [
      "                                                                                                                       \r"
     ]
    },
    {
     "name": "stdout",
     "output_type": "stream",
     "text": [
      "Results: mean: -4.4 +/- 95.4, min: -355.0 max: 66.0\n",
      "Total elapsed time: 24.12 minutes\n",
      "\n",
      "Epoch #10\n"
     ]
    },
    {
     "name": "stderr",
     "output_type": "stream",
     "text": [
      "                                                                                                                       \r"
     ]
    },
    {
     "name": "stdout",
     "output_type": "stream",
     "text": [
      "Results: mean: 4.2 +/- 75.5, min: -365.0, max: 62.0,\n",
      "\n",
      "Testing...\n"
     ]
    },
    {
     "name": "stderr",
     "output_type": "stream",
     "text": [
      "\u001b[32m[I 2023-05-05 02:09:04,404]\u001b[0m Trial 53 finished with value: -20.41 and parameters: {'learning_rate': 0.003013530851811065, 'batch_size': 32, 'replay_memory_size': 5000, 'discount_factor': 0.8138447710548362, 'frame_repeat': 16, 'optimizer': 'Adam', 'epsilon_decay': 0.994860320168976}. Best is trial 48 with value: 27.29.\u001b[0m\n"
     ]
    },
    {
     "name": "stdout",
     "output_type": "stream",
     "text": [
      "Results: mean: -20.4 +/- 101.1, min: -335.0 max: 66.0\n",
      "Total elapsed time: 26.63 minutes\n",
      "\n",
      "Learning rate: 0.0018671062586490506, Batch size: 32, Replay memory size: 4000,\n",
      "Discount factor: 0.8746892573681395, Frame repeat: 16, Optimizer: Adam, \n",
      "Epsilon decay: 0.995316613389843\n",
      "\n",
      "Initializing doom...\n",
      "Doom initialized.\n",
      "Initializing New Model\n",
      "\n",
      "Epoch #1\n"
     ]
    },
    {
     "name": "stderr",
     "output_type": "stream",
     "text": [
      "                                                                                                                       \r"
     ]
    },
    {
     "name": "stdout",
     "output_type": "stream",
     "text": [
      "Results: mean: -242.6 +/- 121.3, min: -355.0, max: 62.0,\n",
      "\n",
      "Testing...\n"
     ]
    },
    {
     "name": "stderr",
     "output_type": "stream",
     "text": [
      "                                                                                                                       \r"
     ]
    },
    {
     "name": "stdout",
     "output_type": "stream",
     "text": [
      "Results: mean: -207.1 +/- 130.9, min: -340.0 max: 54.0\n",
      "Total elapsed time: 3.16 minutes\n",
      "\n",
      "Epoch #2\n"
     ]
    },
    {
     "name": "stderr",
     "output_type": "stream",
     "text": [
      "                                                                                                                       \r"
     ]
    },
    {
     "name": "stdout",
     "output_type": "stream",
     "text": [
      "Results: mean: -156.9 +/- 142.0, min: -365.0, max: 62.0,\n",
      "\n",
      "Testing...\n"
     ]
    },
    {
     "name": "stderr",
     "output_type": "stream",
     "text": [
      "                                                                                                                       \r"
     ]
    },
    {
     "name": "stdout",
     "output_type": "stream",
     "text": [
      "Results: mean: -215.9 +/- 143.7, min: -350.0 max: 66.0\n",
      "Total elapsed time: 6.28 minutes\n",
      "\n",
      "Epoch #3\n"
     ]
    },
    {
     "name": "stderr",
     "output_type": "stream",
     "text": [
      "                                                                                                                       \r"
     ]
    },
    {
     "name": "stdout",
     "output_type": "stream",
     "text": [
      "Results: mean: -102.3 +/- 134.2, min: -355.0, max: 62.0,\n",
      "\n",
      "Testing...\n"
     ]
    },
    {
     "name": "stderr",
     "output_type": "stream",
     "text": [
      "                                                                                                                       \r"
     ]
    },
    {
     "name": "stdout",
     "output_type": "stream",
     "text": [
      "Results: mean: -68.2 +/- 106.7, min: -365.0 max: 66.0\n",
      "Total elapsed time: 9.01 minutes\n",
      "\n",
      "Epoch #4\n"
     ]
    },
    {
     "name": "stderr",
     "output_type": "stream",
     "text": [
      "                                                                                                                       \r"
     ]
    },
    {
     "name": "stdout",
     "output_type": "stream",
     "text": [
      "Results: mean: -97.9 +/- 124.3, min: -360.0, max: 62.0,\n",
      "\n",
      "Testing...\n"
     ]
    },
    {
     "name": "stderr",
     "output_type": "stream",
     "text": [
      "                                                                                                                       \r"
     ]
    },
    {
     "name": "stdout",
     "output_type": "stream",
     "text": [
      "Results: mean: -127.8 +/- 139.1, min: -335.0 max: 66.0\n",
      "Total elapsed time: 11.91 minutes\n",
      "\n",
      "Epoch #5\n"
     ]
    },
    {
     "name": "stderr",
     "output_type": "stream",
     "text": [
      "                                                                                                                       \r"
     ]
    },
    {
     "name": "stdout",
     "output_type": "stream",
     "text": [
      "Results: mean: -88.6 +/- 151.9, min: -370.0, max: 62.0,\n",
      "\n",
      "Testing...\n"
     ]
    },
    {
     "name": "stderr",
     "output_type": "stream",
     "text": [
      "                                                                                                                       \r"
     ]
    },
    {
     "name": "stdout",
     "output_type": "stream",
     "text": [
      "Results: mean: -177.8 +/- 188.6, min: -370.0 max: 66.0\n",
      "Total elapsed time: 14.82 minutes\n",
      "\n",
      "Epoch #6\n"
     ]
    },
    {
     "name": "stderr",
     "output_type": "stream",
     "text": [
      "                                                                                                                       \r"
     ]
    },
    {
     "name": "stdout",
     "output_type": "stream",
     "text": [
      "Results: mean: -124.8 +/- 160.5, min: -370.0, max: 62.0,\n",
      "\n",
      "Testing...\n"
     ]
    },
    {
     "name": "stderr",
     "output_type": "stream",
     "text": [
      "                                                                                                                       \r"
     ]
    },
    {
     "name": "stdout",
     "output_type": "stream",
     "text": [
      "Results: mean: -34.2 +/- 164.3, min: -360.0 max: 66.0\n",
      "Total elapsed time: 17.34 minutes\n",
      "\n",
      "Epoch #7\n"
     ]
    },
    {
     "name": "stderr",
     "output_type": "stream",
     "text": [
      "                                                                                                                       \r"
     ]
    },
    {
     "name": "stdout",
     "output_type": "stream",
     "text": [
      "Results: mean: -83.1 +/- 142.4, min: -355.0, max: 62.0,\n",
      "\n",
      "Testing...\n"
     ]
    },
    {
     "name": "stderr",
     "output_type": "stream",
     "text": [
      "                                                                                                                       \r"
     ]
    },
    {
     "name": "stdout",
     "output_type": "stream",
     "text": [
      "Results: mean: -174.8 +/- 144.0, min: -350.0 max: 54.0\n",
      "Total elapsed time: 20.35 minutes\n",
      "\n",
      "Epoch #8\n"
     ]
    },
    {
     "name": "stderr",
     "output_type": "stream",
     "text": [
      "                                                                                                                       \r"
     ]
    },
    {
     "name": "stdout",
     "output_type": "stream",
     "text": [
      "Results: mean: -123.0 +/- 130.4, min: -350.0, max: 62.0,\n",
      "\n",
      "Testing...\n"
     ]
    },
    {
     "name": "stderr",
     "output_type": "stream",
     "text": [
      "                                                                                                                       \r"
     ]
    },
    {
     "name": "stdout",
     "output_type": "stream",
     "text": [
      "Results: mean: -77.0 +/- 119.6, min: -355.0 max: 66.0\n",
      "Total elapsed time: 23.09 minutes\n",
      "\n",
      "Epoch #9\n"
     ]
    },
    {
     "name": "stderr",
     "output_type": "stream",
     "text": [
      "                                                                                                                       \r"
     ]
    },
    {
     "name": "stdout",
     "output_type": "stream",
     "text": [
      "Results: mean: -78.8 +/- 113.4, min: -345.0, max: 62.0,\n",
      "\n",
      "Testing...\n"
     ]
    },
    {
     "name": "stderr",
     "output_type": "stream",
     "text": [
      "                                                                                                                       \r"
     ]
    },
    {
     "name": "stdout",
     "output_type": "stream",
     "text": [
      "Results: mean: -27.0 +/- 114.1, min: -365.0 max: 66.0\n",
      "Total elapsed time: 25.66 minutes\n",
      "\n",
      "Epoch #10\n"
     ]
    },
    {
     "name": "stderr",
     "output_type": "stream",
     "text": [
      "                                                                                                                       \r"
     ]
    },
    {
     "name": "stdout",
     "output_type": "stream",
     "text": [
      "Results: mean: -67.8 +/- 125.3, min: -360.0, max: 62.0,\n",
      "\n",
      "Testing...\n"
     ]
    },
    {
     "name": "stderr",
     "output_type": "stream",
     "text": [
      "\u001b[32m[I 2023-05-05 02:37:16,132]\u001b[0m Trial 54 finished with value: -16.8 and parameters: {'learning_rate': 0.0018671062586490506, 'batch_size': 32, 'replay_memory_size': 4000, 'discount_factor': 0.8746892573681395, 'frame_repeat': 16, 'optimizer': 'Adam', 'epsilon_decay': 0.995316613389843}. Best is trial 48 with value: 27.29.\u001b[0m\n"
     ]
    },
    {
     "name": "stdout",
     "output_type": "stream",
     "text": [
      "Results: mean: -16.8 +/- 100.5, min: -360.0 max: 66.0\n",
      "Total elapsed time: 28.19 minutes\n",
      "\n",
      "Learning rate: 0.0012211039151962505, Batch size: 32, Replay memory size: 3000,\n",
      "Discount factor: 0.9276654807765985, Frame repeat: 16, Optimizer: Adam, \n",
      "Epsilon decay: 0.9943631283199671\n",
      "\n",
      "Initializing doom...\n",
      "Doom initialized.\n",
      "Initializing New Model\n",
      "\n",
      "Epoch #1\n"
     ]
    },
    {
     "name": "stderr",
     "output_type": "stream",
     "text": [
      "                                                                                                                       \r"
     ]
    },
    {
     "name": "stdout",
     "output_type": "stream",
     "text": [
      "Results: mean: -255.7 +/- 110.2, min: -360.0, max: 62.0,\n",
      "\n",
      "Testing...\n"
     ]
    },
    {
     "name": "stderr",
     "output_type": "stream",
     "text": [
      "                                                                                                                       \r"
     ]
    },
    {
     "name": "stdout",
     "output_type": "stream",
     "text": [
      "Results: mean: -257.2 +/- 107.1, min: -330.0 max: 66.0\n",
      "Total elapsed time: 3.24 minutes\n",
      "\n",
      "Epoch #2\n"
     ]
    },
    {
     "name": "stderr",
     "output_type": "stream",
     "text": [
      "                                                                                                                       \r"
     ]
    },
    {
     "name": "stdout",
     "output_type": "stream",
     "text": [
      "Results: mean: -215.6 +/- 146.5, min: -365.0, max: 62.0,\n",
      "\n",
      "Testing...\n"
     ]
    },
    {
     "name": "stderr",
     "output_type": "stream",
     "text": [
      "                                                                                                                       \r"
     ]
    },
    {
     "name": "stdout",
     "output_type": "stream",
     "text": [
      "Results: mean: -70.2 +/- 139.0, min: -355.0 max: 66.0\n",
      "Total elapsed time: 5.92 minutes\n",
      "\n",
      "Epoch #3\n"
     ]
    },
    {
     "name": "stderr",
     "output_type": "stream",
     "text": [
      "                                                                                                                       \r"
     ]
    },
    {
     "name": "stdout",
     "output_type": "stream",
     "text": [
      "Results: mean: -45.2 +/- 139.7, min: -355.0, max: 62.0,\n",
      "\n",
      "Testing...\n"
     ]
    },
    {
     "name": "stderr",
     "output_type": "stream",
     "text": [
      "                                                                                                                       \r"
     ]
    },
    {
     "name": "stdout",
     "output_type": "stream",
     "text": [
      "Results: mean: 17.1 +/- 99.9, min: -325.0 max: 66.0\n",
      "Total elapsed time: 8.30 minutes\n",
      "\n",
      "Epoch #4\n"
     ]
    },
    {
     "name": "stderr",
     "output_type": "stream",
     "text": [
      "                                                                                                                       \r"
     ]
    },
    {
     "name": "stdout",
     "output_type": "stream",
     "text": [
      "Results: mean: 3.4 +/- 76.3, min: -340.0, max: 62.0,\n",
      "\n",
      "Testing...\n"
     ]
    },
    {
     "name": "stderr",
     "output_type": "stream",
     "text": [
      "                                                                                                                       \r"
     ]
    },
    {
     "name": "stdout",
     "output_type": "stream",
     "text": [
      "Results: mean: -22.5 +/- 71.9, min: -345.0 max: 66.0\n",
      "Total elapsed time: 10.85 minutes\n",
      "\n",
      "Epoch #5\n"
     ]
    },
    {
     "name": "stderr",
     "output_type": "stream",
     "text": [
      "                                                                                                                       \r"
     ]
    },
    {
     "name": "stdout",
     "output_type": "stream",
     "text": [
      "Results: mean: -6.1 +/- 57.4, min: -345.0, max: 62.0,\n",
      "\n",
      "Testing...\n"
     ]
    },
    {
     "name": "stderr",
     "output_type": "stream",
     "text": [
      "                                                                                                                       \r"
     ]
    },
    {
     "name": "stdout",
     "output_type": "stream",
     "text": [
      "Results: mean: 10.6 +/- 35.8, min: -128.0 max: 66.0\n",
      "Total elapsed time: 13.28 minutes\n",
      "\n",
      "Epoch #6\n"
     ]
    },
    {
     "name": "stderr",
     "output_type": "stream",
     "text": [
      "                                                                                                                       \r"
     ]
    },
    {
     "name": "stdout",
     "output_type": "stream",
     "text": [
      "Results: mean: -12.7 +/- 89.2, min: -365.0, max: 62.0,\n",
      "\n",
      "Testing...\n"
     ]
    },
    {
     "name": "stderr",
     "output_type": "stream",
     "text": [
      "                                                                                                                       \r"
     ]
    },
    {
     "name": "stdout",
     "output_type": "stream",
     "text": [
      "Results: mean: -3.0 +/- 57.9, min: -360.0 max: 66.0\n",
      "Total elapsed time: 15.76 minutes\n",
      "\n",
      "Epoch #7\n"
     ]
    },
    {
     "name": "stderr",
     "output_type": "stream",
     "text": [
      "                                                                                                                       \r"
     ]
    },
    {
     "name": "stdout",
     "output_type": "stream",
     "text": [
      "Results: mean: 0.2 +/- 74.5, min: -365.0, max: 62.0,\n",
      "\n",
      "Testing...\n"
     ]
    },
    {
     "name": "stderr",
     "output_type": "stream",
     "text": [
      "                                                                                                                       \r"
     ]
    },
    {
     "name": "stdout",
     "output_type": "stream",
     "text": [
      "Results: mean: 10.5 +/- 104.2, min: -365.0 max: 66.0\n",
      "Total elapsed time: 18.13 minutes\n",
      "\n",
      "Epoch #8\n"
     ]
    },
    {
     "name": "stderr",
     "output_type": "stream",
     "text": [
      "                                                                                                                       \r"
     ]
    },
    {
     "name": "stdout",
     "output_type": "stream",
     "text": [
      "Results: mean: -25.2 +/- 93.0, min: -365.0, max: 62.0,\n",
      "\n",
      "Testing...\n"
     ]
    },
    {
     "name": "stderr",
     "output_type": "stream",
     "text": [
      "                                                                                                                       \r"
     ]
    },
    {
     "name": "stdout",
     "output_type": "stream",
     "text": [
      "Results: mean: -35.8 +/- 62.0, min: -300.0 max: 66.0\n",
      "Total elapsed time: 20.75 minutes\n",
      "\n",
      "Epoch #9\n"
     ]
    },
    {
     "name": "stderr",
     "output_type": "stream",
     "text": [
      "                                                                                                                       \r"
     ]
    },
    {
     "name": "stdout",
     "output_type": "stream",
     "text": [
      "Results: mean: -35.6 +/- 92.2, min: -370.0, max: 62.0,\n",
      "\n",
      "Testing...\n"
     ]
    },
    {
     "name": "stderr",
     "output_type": "stream",
     "text": [
      "                                                                                                                       \r"
     ]
    },
    {
     "name": "stdout",
     "output_type": "stream",
     "text": [
      "Results: mean: -12.5 +/- 65.4, min: -335.0 max: 66.0\n",
      "Total elapsed time: 23.27 minutes\n",
      "\n",
      "Epoch #10\n"
     ]
    },
    {
     "name": "stderr",
     "output_type": "stream",
     "text": [
      "                                                                                                                       \r"
     ]
    },
    {
     "name": "stdout",
     "output_type": "stream",
     "text": [
      "Results: mean: -22.9 +/- 97.4, min: -360.0, max: 62.0,\n",
      "\n",
      "Testing...\n"
     ]
    },
    {
     "name": "stderr",
     "output_type": "stream",
     "text": [
      "\u001b[32m[I 2023-05-05 03:03:06,213]\u001b[0m Trial 55 finished with value: -20.23 and parameters: {'learning_rate': 0.0012211039151962505, 'batch_size': 32, 'replay_memory_size': 3000, 'discount_factor': 0.9276654807765985, 'frame_repeat': 16, 'optimizer': 'Adam', 'epsilon_decay': 0.9943631283199671}. Best is trial 48 with value: 27.29.\u001b[0m\n"
     ]
    },
    {
     "name": "stdout",
     "output_type": "stream",
     "text": [
      "Results: mean: -20.2 +/- 67.3, min: -350.0 max: 66.0\n",
      "Total elapsed time: 25.82 minutes\n",
      "\n",
      "Learning rate: 0.00247556148735099, Batch size: 32, Replay memory size: 6000,\n",
      "Discount factor: 0.8544550497247444, Frame repeat: 16, Optimizer: Adam, \n",
      "Epsilon decay: 0.9960882094716611\n",
      "\n",
      "Initializing doom...\n",
      "Doom initialized.\n",
      "Initializing New Model\n",
      "\n",
      "Epoch #1\n"
     ]
    },
    {
     "name": "stderr",
     "output_type": "stream",
     "text": [
      "                                                                                                                       \r"
     ]
    },
    {
     "name": "stdout",
     "output_type": "stream",
     "text": [
      "Results: mean: -253.6 +/- 114.8, min: -360.0, max: 62.0,\n",
      "\n",
      "Testing...\n"
     ]
    },
    {
     "name": "stderr",
     "output_type": "stream",
     "text": [
      "                                                                                                                       \r"
     ]
    },
    {
     "name": "stdout",
     "output_type": "stream",
     "text": [
      "Results: mean: -224.0 +/- 128.5, min: -320.0 max: 54.0\n",
      "Total elapsed time: 3.18 minutes\n",
      "\n",
      "Epoch #2\n"
     ]
    },
    {
     "name": "stderr",
     "output_type": "stream",
     "text": [
      "                                                                                                                       \r"
     ]
    },
    {
     "name": "stdout",
     "output_type": "stream",
     "text": [
      "Results: mean: -240.0 +/- 127.0, min: -365.0, max: 62.0,\n",
      "\n",
      "Testing...\n"
     ]
    },
    {
     "name": "stderr",
     "output_type": "stream",
     "text": [
      "                                                                                                                       \r"
     ]
    },
    {
     "name": "stdout",
     "output_type": "stream",
     "text": [
      "Results: mean: -193.8 +/- 164.0, min: -370.0 max: 66.0\n",
      "Total elapsed time: 6.20 minutes\n",
      "\n",
      "Epoch #3\n"
     ]
    },
    {
     "name": "stderr",
     "output_type": "stream",
     "text": [
      "                                                                                                                       \r"
     ]
    },
    {
     "name": "stdout",
     "output_type": "stream",
     "text": [
      "Results: mean: -32.1 +/- 140.7, min: -360.0, max: 62.0,\n",
      "\n",
      "Testing...\n"
     ]
    },
    {
     "name": "stderr",
     "output_type": "stream",
     "text": [
      "                                                                                                                       \r"
     ]
    },
    {
     "name": "stdout",
     "output_type": "stream",
     "text": [
      "Results: mean: -10.2 +/- 138.9, min: -370.0 max: 66.0\n",
      "Total elapsed time: 8.63 minutes\n",
      "\n",
      "Epoch #4\n"
     ]
    },
    {
     "name": "stderr",
     "output_type": "stream",
     "text": [
      "                                                                                                                       \r"
     ]
    },
    {
     "name": "stdout",
     "output_type": "stream",
     "text": [
      "Results: mean: -8.1 +/- 123.3, min: -365.0, max: 62.0,\n",
      "\n",
      "Testing...\n"
     ]
    },
    {
     "name": "stderr",
     "output_type": "stream",
     "text": [
      "                                                                                                                       \r"
     ]
    },
    {
     "name": "stdout",
     "output_type": "stream",
     "text": [
      "Results: mean: 3.0 +/- 107.5, min: -335.0 max: 66.0\n",
      "Total elapsed time: 11.05 minutes\n",
      "\n",
      "Epoch #5\n"
     ]
    },
    {
     "name": "stderr",
     "output_type": "stream",
     "text": [
      "                                                                                                                       \r"
     ]
    },
    {
     "name": "stdout",
     "output_type": "stream",
     "text": [
      "Results: mean: 15.2 +/- 88.6, min: -365.0, max: 62.0,\n",
      "\n",
      "Testing...\n"
     ]
    },
    {
     "name": "stderr",
     "output_type": "stream",
     "text": [
      "                                                                                                                       \r"
     ]
    },
    {
     "name": "stdout",
     "output_type": "stream",
     "text": [
      "Results: mean: 17.4 +/- 82.6, min: -345.0 max: 66.0\n",
      "Total elapsed time: 13.41 minutes\n",
      "\n",
      "Epoch #6\n"
     ]
    },
    {
     "name": "stderr",
     "output_type": "stream",
     "text": [
      "                                                                                                                       \r"
     ]
    },
    {
     "name": "stdout",
     "output_type": "stream",
     "text": [
      "Results: mean: 15.9 +/- 78.5, min: -370.0, max: 62.0,\n",
      "\n",
      "Testing...\n"
     ]
    },
    {
     "name": "stderr",
     "output_type": "stream",
     "text": [
      "                                                                                                                       \r"
     ]
    },
    {
     "name": "stdout",
     "output_type": "stream",
     "text": [
      "Results: mean: 24.0 +/- 90.3, min: -370.0 max: 66.0\n",
      "Total elapsed time: 15.76 minutes\n",
      "\n",
      "Epoch #7\n"
     ]
    },
    {
     "name": "stderr",
     "output_type": "stream",
     "text": [
      "                                                                                                                       \r"
     ]
    },
    {
     "name": "stdout",
     "output_type": "stream",
     "text": [
      "Results: mean: 26.7 +/- 75.1, min: -370.0, max: 62.0,\n",
      "\n",
      "Testing...\n"
     ]
    },
    {
     "name": "stderr",
     "output_type": "stream",
     "text": [
      "                                                                                                                       \r"
     ]
    },
    {
     "name": "stdout",
     "output_type": "stream",
     "text": [
      "Results: mean: 33.8 +/- 75.2, min: -365.0 max: 66.0\n",
      "Total elapsed time: 18.04 minutes\n",
      "\n",
      "Epoch #8\n"
     ]
    },
    {
     "name": "stderr",
     "output_type": "stream",
     "text": [
      "                                                                                                                       \r"
     ]
    },
    {
     "name": "stdout",
     "output_type": "stream",
     "text": [
      "Results: mean: 12.7 +/- 71.6, min: -365.0, max: 62.0,\n",
      "\n",
      "Testing...\n"
     ]
    },
    {
     "name": "stderr",
     "output_type": "stream",
     "text": [
      "                                                                                                                       \r"
     ]
    },
    {
     "name": "stdout",
     "output_type": "stream",
     "text": [
      "Results: mean: 12.5 +/- 111.7, min: -370.0 max: 66.0\n",
      "Total elapsed time: 20.40 minutes\n",
      "\n",
      "Epoch #9\n"
     ]
    },
    {
     "name": "stderr",
     "output_type": "stream",
     "text": [
      "                                                                                                                       \r"
     ]
    },
    {
     "name": "stdout",
     "output_type": "stream",
     "text": [
      "Results: mean: 26.5 +/- 75.7, min: -370.0, max: 62.0,\n",
      "\n",
      "Testing...\n"
     ]
    },
    {
     "name": "stderr",
     "output_type": "stream",
     "text": [
      "                                                                                                                       \r"
     ]
    },
    {
     "name": "stdout",
     "output_type": "stream",
     "text": [
      "Results: mean: 7.5 +/- 60.8, min: -360.0 max: 66.0\n",
      "Total elapsed time: 22.81 minutes\n",
      "\n",
      "Epoch #10\n"
     ]
    },
    {
     "name": "stderr",
     "output_type": "stream",
     "text": [
      "                                                                                                                       \r"
     ]
    },
    {
     "name": "stdout",
     "output_type": "stream",
     "text": [
      "Results: mean: 8.6 +/- 73.7, min: -370.0, max: 62.0,\n",
      "\n",
      "Testing...\n"
     ]
    },
    {
     "name": "stderr",
     "output_type": "stream",
     "text": [
      "\u001b[32m[I 2023-05-05 03:28:21,464]\u001b[0m Trial 56 finished with value: 4.46 and parameters: {'learning_rate': 0.00247556148735099, 'batch_size': 32, 'replay_memory_size': 6000, 'discount_factor': 0.8544550497247444, 'frame_repeat': 16, 'optimizer': 'Adam', 'epsilon_decay': 0.9960882094716611}. Best is trial 48 with value: 27.29.\u001b[0m\n"
     ]
    },
    {
     "name": "stdout",
     "output_type": "stream",
     "text": [
      "Results: mean: 4.5 +/- 59.8, min: -370.0 max: 66.0\n",
      "Total elapsed time: 25.24 minutes\n",
      "\n",
      "Learning rate: 0.0020380514748829107, Batch size: 32, Replay memory size: 5000,\n",
      "Discount factor: 0.7792170231703062, Frame repeat: 12, Optimizer: Adam, \n",
      "Epsilon decay: 0.9937099327399621\n",
      "\n",
      "Initializing doom...\n",
      "Doom initialized.\n",
      "Initializing New Model\n",
      "\n",
      "Epoch #1\n"
     ]
    },
    {
     "name": "stderr",
     "output_type": "stream",
     "text": [
      "                                                                                                                       \r"
     ]
    },
    {
     "name": "stdout",
     "output_type": "stream",
     "text": [
      "Results: mean: -256.2 +/- 115.1, min: -350.0, max: 66.0,\n",
      "\n",
      "Testing...\n"
     ]
    },
    {
     "name": "stderr",
     "output_type": "stream",
     "text": [
      "                                                                                                                       \r"
     ]
    },
    {
     "name": "stdout",
     "output_type": "stream",
     "text": [
      "Results: mean: -247.4 +/- 109.5, min: -325.0 max: 66.0\n",
      "Total elapsed time: 3.26 minutes\n",
      "\n",
      "Epoch #2\n"
     ]
    },
    {
     "name": "stderr",
     "output_type": "stream",
     "text": [
      "                                                                                                                       \r"
     ]
    },
    {
     "name": "stdout",
     "output_type": "stream",
     "text": [
      "Results: mean: -218.3 +/- 146.2, min: -355.0, max: 66.0,\n",
      "\n",
      "Testing...\n"
     ]
    },
    {
     "name": "stderr",
     "output_type": "stream",
     "text": [
      "                                                                                                                       \r"
     ]
    },
    {
     "name": "stdout",
     "output_type": "stream",
     "text": [
      "Results: mean: -218.4 +/- 140.8, min: -345.0 max: 66.0\n",
      "Total elapsed time: 6.39 minutes\n",
      "\n",
      "Epoch #3\n"
     ]
    },
    {
     "name": "stderr",
     "output_type": "stream",
     "text": [
      "                                                                                                                       \r"
     ]
    },
    {
     "name": "stdout",
     "output_type": "stream",
     "text": [
      "Results: mean: -162.8 +/- 164.2, min: -365.0, max: 66.0,\n",
      "\n",
      "Testing...\n"
     ]
    },
    {
     "name": "stderr",
     "output_type": "stream",
     "text": [
      "                                                                                                                       \r"
     ]
    },
    {
     "name": "stdout",
     "output_type": "stream",
     "text": [
      "Results: mean: -239.9 +/- 119.7, min: -355.0 max: 66.0\n",
      "Total elapsed time: 9.61 minutes\n",
      "\n",
      "Epoch #4\n"
     ]
    },
    {
     "name": "stderr",
     "output_type": "stream",
     "text": [
      "                                                                                                                       \r"
     ]
    },
    {
     "name": "stdout",
     "output_type": "stream",
     "text": [
      "Results: mean: -45.3 +/- 139.3, min: -360.0, max: 66.0,\n",
      "\n",
      "Testing...\n"
     ]
    },
    {
     "name": "stderr",
     "output_type": "stream",
     "text": [
      "                                                                                                                       \r"
     ]
    },
    {
     "name": "stdout",
     "output_type": "stream",
     "text": [
      "Results: mean: -102.3 +/- 143.1, min: -360.0 max: 66.0\n",
      "Total elapsed time: 12.39 minutes\n",
      "\n",
      "Epoch #5\n"
     ]
    },
    {
     "name": "stderr",
     "output_type": "stream",
     "text": [
      "                                                                                                                       \r"
     ]
    },
    {
     "name": "stdout",
     "output_type": "stream",
     "text": [
      "Results: mean: -18.3 +/- 107.0, min: -370.0, max: 66.0,\n",
      "\n",
      "Testing...\n"
     ]
    },
    {
     "name": "stderr",
     "output_type": "stream",
     "text": [
      "                                                                                                                       \r"
     ]
    },
    {
     "name": "stdout",
     "output_type": "stream",
     "text": [
      "Results: mean: -26.9 +/- 119.0, min: -370.0 max: 66.0\n",
      "Total elapsed time: 14.92 minutes\n",
      "\n",
      "Epoch #6\n"
     ]
    },
    {
     "name": "stderr",
     "output_type": "stream",
     "text": [
      "                                                                                                                       \r"
     ]
    },
    {
     "name": "stdout",
     "output_type": "stream",
     "text": [
      "Results: mean: -20.9 +/- 125.0, min: -365.0, max: 66.0,\n",
      "\n",
      "Testing...\n"
     ]
    },
    {
     "name": "stderr",
     "output_type": "stream",
     "text": [
      "                                                                                                                       \r"
     ]
    },
    {
     "name": "stdout",
     "output_type": "stream",
     "text": [
      "Results: mean: -14.6 +/- 99.7, min: -360.0 max: 66.0\n",
      "Total elapsed time: 17.42 minutes\n",
      "\n",
      "Epoch #7\n"
     ]
    },
    {
     "name": "stderr",
     "output_type": "stream",
     "text": [
      "                                                                                                                       \r"
     ]
    },
    {
     "name": "stdout",
     "output_type": "stream",
     "text": [
      "Results: mean: 2.2 +/- 91.8, min: -370.0, max: 66.0,\n",
      "\n",
      "Testing...\n"
     ]
    },
    {
     "name": "stderr",
     "output_type": "stream",
     "text": [
      "                                                                                                                       \r"
     ]
    },
    {
     "name": "stdout",
     "output_type": "stream",
     "text": [
      "Results: mean: 27.1 +/- 68.9, min: -340.0 max: 66.0\n",
      "Total elapsed time: 19.76 minutes\n",
      "\n",
      "Epoch #8\n"
     ]
    },
    {
     "name": "stderr",
     "output_type": "stream",
     "text": [
      "                                                                                                                       \r"
     ]
    },
    {
     "name": "stdout",
     "output_type": "stream",
     "text": [
      "Results: mean: 0.3 +/- 92.9, min: -355.0, max: 66.0,\n",
      "\n",
      "Testing...\n"
     ]
    },
    {
     "name": "stderr",
     "output_type": "stream",
     "text": [
      "                                                                                                                       \r"
     ]
    },
    {
     "name": "stdout",
     "output_type": "stream",
     "text": [
      "Results: mean: -10.0 +/- 97.9, min: -350.0 max: 66.0\n",
      "Total elapsed time: 22.24 minutes\n",
      "\n",
      "Epoch #9\n"
     ]
    },
    {
     "name": "stderr",
     "output_type": "stream",
     "text": [
      "                                                                                                                       \r"
     ]
    },
    {
     "name": "stdout",
     "output_type": "stream",
     "text": [
      "Results: mean: -30.1 +/- 123.3, min: -370.0, max: 66.0,\n",
      "\n",
      "Testing...\n"
     ]
    },
    {
     "name": "stderr",
     "output_type": "stream",
     "text": [
      "                                                                                                                       \r"
     ]
    },
    {
     "name": "stdout",
     "output_type": "stream",
     "text": [
      "Results: mean: -74.4 +/- 151.7, min: -365.0 max: 66.0\n",
      "Total elapsed time: 24.92 minutes\n",
      "\n",
      "Epoch #10\n"
     ]
    },
    {
     "name": "stderr",
     "output_type": "stream",
     "text": [
      "                                                                                                                       \r"
     ]
    },
    {
     "name": "stdout",
     "output_type": "stream",
     "text": [
      "Results: mean: -6.9 +/- 100.3, min: -360.0, max: 66.0,\n",
      "\n",
      "Testing...\n"
     ]
    },
    {
     "name": "stderr",
     "output_type": "stream",
     "text": [
      "\u001b[32m[I 2023-05-05 03:55:46,413]\u001b[0m Trial 57 finished with value: -14.56 and parameters: {'learning_rate': 0.0020380514748829107, 'batch_size': 32, 'replay_memory_size': 5000, 'discount_factor': 0.7792170231703062, 'frame_repeat': 12, 'optimizer': 'Adam', 'epsilon_decay': 0.9937099327399621}. Best is trial 48 with value: 27.29.\u001b[0m\n"
     ]
    },
    {
     "name": "stdout",
     "output_type": "stream",
     "text": [
      "Results: mean: -14.6 +/- 118.7, min: -365.0 max: 66.0\n",
      "Total elapsed time: 27.40 minutes\n",
      "\n",
      "Learning rate: 0.003306970774263629, Batch size: 32, Replay memory size: 4000,\n",
      "Discount factor: 0.9625653040805359, Frame repeat: 4, Optimizer: Adam, \n",
      "Epsilon decay: 0.9931851457139889\n",
      "\n",
      "Initializing doom...\n",
      "Doom initialized.\n",
      "Initializing New Model\n",
      "\n",
      "Epoch #1\n"
     ]
    },
    {
     "name": "stderr",
     "output_type": "stream",
     "text": [
      "                                                                                                                       \r"
     ]
    },
    {
     "name": "stdout",
     "output_type": "stream",
     "text": [
      "Results: mean: -137.5 +/- 179.0, min: -370.0, max: 74.0,\n",
      "\n",
      "Testing...\n"
     ]
    },
    {
     "name": "stderr",
     "output_type": "stream",
     "text": [
      "                                                                                                                       \r"
     ]
    },
    {
     "name": "stdout",
     "output_type": "stream",
     "text": [
      "Results: mean: -186.1 +/- 133.3, min: -365.0 max: 66.0\n",
      "Total elapsed time: 3.08 minutes\n",
      "\n",
      "Epoch #2\n"
     ]
    },
    {
     "name": "stderr",
     "output_type": "stream",
     "text": [
      "                                                                                                                       \r"
     ]
    },
    {
     "name": "stdout",
     "output_type": "stream",
     "text": [
      "Results: mean: -294.1 +/- 126.7, min: -370.0, max: 74.0,\n",
      "\n",
      "Testing...\n"
     ]
    },
    {
     "name": "stderr",
     "output_type": "stream",
     "text": [
      "                                                                                                                       \r"
     ]
    },
    {
     "name": "stdout",
     "output_type": "stream",
     "text": [
      "Results: mean: -296.4 +/- 83.0, min: -355.0 max: 42.0\n",
      "Total elapsed time: 6.41 minutes\n",
      "\n",
      "Epoch #3\n"
     ]
    },
    {
     "name": "stderr",
     "output_type": "stream",
     "text": [
      "                                                                                                                       \r"
     ]
    },
    {
     "name": "stdout",
     "output_type": "stream",
     "text": [
      "Results: mean: -193.3 +/- 172.2, min: -360.0, max: 74.0,\n",
      "\n",
      "Testing...\n"
     ]
    },
    {
     "name": "stderr",
     "output_type": "stream",
     "text": [
      "                                                                                                                       \r"
     ]
    },
    {
     "name": "stdout",
     "output_type": "stream",
     "text": [
      "Results: mean: -226.8 +/- 126.9, min: -320.0 max: 66.0\n",
      "Total elapsed time: 9.59 minutes\n",
      "\n",
      "Epoch #4\n"
     ]
    },
    {
     "name": "stderr",
     "output_type": "stream",
     "text": [
      "                                                                                                                       \r"
     ]
    },
    {
     "name": "stdout",
     "output_type": "stream",
     "text": [
      "Results: mean: -124.7 +/- 148.0, min: -325.0, max: 74.0,\n",
      "\n",
      "Testing...\n"
     ]
    },
    {
     "name": "stderr",
     "output_type": "stream",
     "text": [
      "                                                                                                                       \r"
     ]
    },
    {
     "name": "stdout",
     "output_type": "stream",
     "text": [
      "Results: mean: -191.2 +/- 140.5, min: -315.0 max: 66.0\n",
      "Total elapsed time: 12.68 minutes\n",
      "\n",
      "Epoch #5\n"
     ]
    },
    {
     "name": "stderr",
     "output_type": "stream",
     "text": [
      "                                                                                                                       \r"
     ]
    },
    {
     "name": "stdout",
     "output_type": "stream",
     "text": [
      "Results: mean: -203.9 +/- 168.1, min: -350.0, max: 74.0,\n",
      "\n",
      "Testing...\n"
     ]
    },
    {
     "name": "stderr",
     "output_type": "stream",
     "text": [
      "                                                                                                                       \r"
     ]
    },
    {
     "name": "stdout",
     "output_type": "stream",
     "text": [
      "Results: mean: -90.4 +/- 173.1, min: -350.0 max: 66.0\n",
      "Total elapsed time: 15.41 minutes\n",
      "\n",
      "Epoch #6\n"
     ]
    },
    {
     "name": "stderr",
     "output_type": "stream",
     "text": [
      "                                                                                                                       \r"
     ]
    },
    {
     "name": "stdout",
     "output_type": "stream",
     "text": [
      "Results: mean: -101.5 +/- 168.1, min: -335.0, max: 74.0,\n",
      "\n",
      "Testing...\n"
     ]
    },
    {
     "name": "stderr",
     "output_type": "stream",
     "text": [
      "                                                                                                                       \r"
     ]
    },
    {
     "name": "stdout",
     "output_type": "stream",
     "text": [
      "Results: mean: -152.4 +/- 153.6, min: -345.0 max: 66.0\n",
      "Total elapsed time: 18.37 minutes\n",
      "\n",
      "Epoch #7\n"
     ]
    },
    {
     "name": "stderr",
     "output_type": "stream",
     "text": [
      "                                                                                                                       \r"
     ]
    },
    {
     "name": "stdout",
     "output_type": "stream",
     "text": [
      "Results: mean: -184.3 +/- 155.1, min: -330.0, max: 74.0,\n",
      "\n",
      "Testing...\n"
     ]
    },
    {
     "name": "stderr",
     "output_type": "stream",
     "text": [
      "                                                                                                                       \r"
     ]
    },
    {
     "name": "stdout",
     "output_type": "stream",
     "text": [
      "Results: mean: -239.9 +/- 120.5, min: -335.0 max: 66.0\n",
      "Total elapsed time: 21.59 minutes\n",
      "\n",
      "Epoch #8\n"
     ]
    },
    {
     "name": "stderr",
     "output_type": "stream",
     "text": [
      "                                                                                                                       \r"
     ]
    },
    {
     "name": "stdout",
     "output_type": "stream",
     "text": [
      "Results: mean: -169.1 +/- 162.5, min: -335.0, max: 74.0,\n",
      "\n",
      "Testing...\n"
     ]
    },
    {
     "name": "stderr",
     "output_type": "stream",
     "text": [
      "                                                                                                                       \r"
     ]
    },
    {
     "name": "stdout",
     "output_type": "stream",
     "text": [
      "Results: mean: -99.5 +/- 179.1, min: -320.0 max: 66.0\n",
      "Total elapsed time: 24.35 minutes\n",
      "\n",
      "Epoch #9\n"
     ]
    },
    {
     "name": "stderr",
     "output_type": "stream",
     "text": [
      "                                                                                                                       \r"
     ]
    },
    {
     "name": "stdout",
     "output_type": "stream",
     "text": [
      "Results: mean: -96.4 +/- 170.0, min: -350.0, max: 74.0,\n",
      "\n",
      "Testing...\n"
     ]
    },
    {
     "name": "stderr",
     "output_type": "stream",
     "text": [
      "                                                                                                                       \r"
     ]
    },
    {
     "name": "stdout",
     "output_type": "stream",
     "text": [
      "Results: mean: -221.4 +/- 139.3, min: -350.0 max: 66.0\n",
      "Total elapsed time: 27.51 minutes\n",
      "\n",
      "Epoch #10\n"
     ]
    },
    {
     "name": "stderr",
     "output_type": "stream",
     "text": [
      "                                                                                                                       \r"
     ]
    },
    {
     "name": "stdout",
     "output_type": "stream",
     "text": [
      "Results: mean: -81.1 +/- 158.7, min: -330.0, max: 74.0,\n",
      "\n",
      "Testing...\n"
     ]
    },
    {
     "name": "stderr",
     "output_type": "stream",
     "text": [
      "\u001b[32m[I 2023-05-05 04:26:22,566]\u001b[0m Trial 58 finished with value: -190.08 and parameters: {'learning_rate': 0.003306970774263629, 'batch_size': 32, 'replay_memory_size': 4000, 'discount_factor': 0.9625653040805359, 'frame_repeat': 4, 'optimizer': 'Adam', 'epsilon_decay': 0.9931851457139889}. Best is trial 48 with value: 27.29.\u001b[0m\n"
     ]
    },
    {
     "name": "stdout",
     "output_type": "stream",
     "text": [
      "Results: mean: -190.1 +/- 139.7, min: -340.0 max: 66.0\n",
      "Total elapsed time: 30.59 minutes\n",
      "\n",
      "Learning rate: 0.0043333339833597165, Batch size: 128, Replay memory size: 3000,\n",
      "Discount factor: 0.9185420568707255, Frame repeat: 16, Optimizer: Adam, \n",
      "Epsilon decay: 0.9946778954076781\n",
      "\n",
      "Initializing doom...\n",
      "Doom initialized.\n",
      "Initializing New Model\n",
      "\n",
      "Epoch #1\n"
     ]
    },
    {
     "name": "stderr",
     "output_type": "stream",
     "text": [
      "                                                                                                                       \r"
     ]
    },
    {
     "name": "stdout",
     "output_type": "stream",
     "text": [
      "Results: mean: -260.7 +/- 108.7, min: -355.0, max: 62.0,\n",
      "\n",
      "Testing...\n"
     ]
    },
    {
     "name": "stderr",
     "output_type": "stream",
     "text": [
      "                                                                                                                       \r"
     ]
    },
    {
     "name": "stdout",
     "output_type": "stream",
     "text": [
      "Results: mean: -283.4 +/- 77.8, min: -330.0 max: 66.0\n",
      "Total elapsed time: 3.35 minutes\n",
      "\n",
      "Epoch #2\n"
     ]
    },
    {
     "name": "stderr",
     "output_type": "stream",
     "text": [
      "                                                                                                                       \r"
     ]
    },
    {
     "name": "stdout",
     "output_type": "stream",
     "text": [
      "Results: mean: -244.8 +/- 129.0, min: -350.0, max: 62.0,\n",
      "\n",
      "Testing...\n"
     ]
    },
    {
     "name": "stderr",
     "output_type": "stream",
     "text": [
      "                                                                                                                       \r"
     ]
    },
    {
     "name": "stdout",
     "output_type": "stream",
     "text": [
      "Results: mean: -259.6 +/- 98.4, min: -340.0 max: 66.0\n",
      "Total elapsed time: 6.64 minutes\n",
      "\n",
      "Epoch #3\n"
     ]
    },
    {
     "name": "stderr",
     "output_type": "stream",
     "text": [
      "                                                                                                                       \r"
     ]
    },
    {
     "name": "stdout",
     "output_type": "stream",
     "text": [
      "Results: mean: -141.0 +/- 158.0, min: -360.0, max: 62.0,\n",
      "\n",
      "Testing...\n"
     ]
    },
    {
     "name": "stderr",
     "output_type": "stream",
     "text": [
      "                                                                                                                       \r"
     ]
    },
    {
     "name": "stdout",
     "output_type": "stream",
     "text": [
      "Results: mean: -206.9 +/- 138.6, min: -335.0 max: 66.0\n",
      "Total elapsed time: 9.78 minutes\n",
      "\n",
      "Epoch #4\n"
     ]
    },
    {
     "name": "stderr",
     "output_type": "stream",
     "text": [
      "                                                                                                                       \r"
     ]
    },
    {
     "name": "stdout",
     "output_type": "stream",
     "text": [
      "Results: mean: -107.0 +/- 147.5, min: -350.0, max: 62.0,\n",
      "\n",
      "Testing...\n"
     ]
    },
    {
     "name": "stderr",
     "output_type": "stream",
     "text": [
      "                                                                                                                       \r"
     ]
    },
    {
     "name": "stdout",
     "output_type": "stream",
     "text": [
      "Results: mean: -164.6 +/- 162.9, min: -340.0 max: 66.0\n",
      "Total elapsed time: 12.77 minutes\n",
      "\n",
      "Epoch #5\n"
     ]
    },
    {
     "name": "stderr",
     "output_type": "stream",
     "text": [
      "                                                                                                                       \r"
     ]
    },
    {
     "name": "stdout",
     "output_type": "stream",
     "text": [
      "Results: mean: -58.4 +/- 132.2, min: -355.0, max: 62.0,\n",
      "\n",
      "Testing...\n"
     ]
    },
    {
     "name": "stderr",
     "output_type": "stream",
     "text": [
      "                                                                                                                       \r"
     ]
    },
    {
     "name": "stdout",
     "output_type": "stream",
     "text": [
      "Results: mean: -17.8 +/- 99.1, min: -365.0 max: 66.0\n",
      "Total elapsed time: 15.32 minutes\n",
      "\n",
      "Epoch #6\n"
     ]
    },
    {
     "name": "stderr",
     "output_type": "stream",
     "text": [
      "                                                                                                                       \r"
     ]
    },
    {
     "name": "stdout",
     "output_type": "stream",
     "text": [
      "Results: mean: -32.6 +/- 100.4, min: -350.0, max: 62.0,\n",
      "\n",
      "Testing...\n"
     ]
    },
    {
     "name": "stderr",
     "output_type": "stream",
     "text": [
      "                                                                                                                       \r"
     ]
    },
    {
     "name": "stdout",
     "output_type": "stream",
     "text": [
      "Results: mean: -24.2 +/- 107.4, min: -355.0 max: 66.0\n",
      "Total elapsed time: 17.88 minutes\n",
      "\n",
      "Epoch #7\n"
     ]
    },
    {
     "name": "stderr",
     "output_type": "stream",
     "text": [
      "                                                                                                                       \r"
     ]
    },
    {
     "name": "stdout",
     "output_type": "stream",
     "text": [
      "Results: mean: -2.8 +/- 84.9, min: -355.0, max: 62.0,\n",
      "\n",
      "Testing...\n"
     ]
    },
    {
     "name": "stderr",
     "output_type": "stream",
     "text": [
      "                                                                                                                       \r"
     ]
    },
    {
     "name": "stdout",
     "output_type": "stream",
     "text": [
      "Results: mean: 11.2 +/- 72.4, min: -360.0 max: 66.0\n",
      "Total elapsed time: 20.32 minutes\n",
      "\n",
      "Epoch #8\n"
     ]
    },
    {
     "name": "stderr",
     "output_type": "stream",
     "text": [
      "                                                                                                                       \r"
     ]
    },
    {
     "name": "stdout",
     "output_type": "stream",
     "text": [
      "Results: mean: -3.7 +/- 82.6, min: -370.0, max: 62.0,\n",
      "\n",
      "Testing...\n"
     ]
    },
    {
     "name": "stderr",
     "output_type": "stream",
     "text": [
      "                                                                                                                       \r"
     ]
    },
    {
     "name": "stdout",
     "output_type": "stream",
     "text": [
      "Results: mean: -18.3 +/- 79.7, min: -360.0 max: 66.0\n",
      "Total elapsed time: 22.87 minutes\n",
      "\n",
      "Epoch #9\n"
     ]
    },
    {
     "name": "stderr",
     "output_type": "stream",
     "text": [
      "                                                                                                                       \r"
     ]
    },
    {
     "name": "stdout",
     "output_type": "stream",
     "text": [
      "Results: mean: -14.4 +/- 90.9, min: -370.0, max: 62.0,\n",
      "\n",
      "Testing...\n"
     ]
    },
    {
     "name": "stderr",
     "output_type": "stream",
     "text": [
      "                                                                                                                       \r"
     ]
    },
    {
     "name": "stdout",
     "output_type": "stream",
     "text": [
      "Results: mean: -12.5 +/- 75.9, min: -365.0 max: 66.0\n",
      "Total elapsed time: 25.40 minutes\n",
      "\n",
      "Epoch #10\n"
     ]
    },
    {
     "name": "stderr",
     "output_type": "stream",
     "text": [
      "                                                                                                                       \r"
     ]
    },
    {
     "name": "stdout",
     "output_type": "stream",
     "text": [
      "Results: mean: 8.6 +/- 68.8, min: -365.0, max: 62.0,\n",
      "\n",
      "Testing...\n"
     ]
    },
    {
     "name": "stderr",
     "output_type": "stream",
     "text": [
      "\u001b[32m[I 2023-05-05 04:54:12,787]\u001b[0m Trial 59 finished with value: 16.12 and parameters: {'learning_rate': 0.0043333339833597165, 'batch_size': 128, 'replay_memory_size': 3000, 'discount_factor': 0.9185420568707255, 'frame_repeat': 16, 'optimizer': 'Adam', 'epsilon_decay': 0.9946778954076781}. Best is trial 48 with value: 27.29.\u001b[0m\n"
     ]
    },
    {
     "name": "stdout",
     "output_type": "stream",
     "text": [
      "Results: mean: 16.1 +/- 55.8, min: -360.0 max: 66.0\n",
      "Total elapsed time: 27.83 minutes\n",
      "\n",
      "Learning rate: 0.0015470566566689286, Batch size: 128, Replay memory size: 2000,\n",
      "Discount factor: 0.9043681821536811, Frame repeat: 16, Optimizer: Adam, \n",
      "Epsilon decay: 0.9940717788694768\n",
      "\n",
      "Initializing doom...\n",
      "Doom initialized.\n",
      "Initializing New Model\n",
      "\n",
      "Epoch #1\n"
     ]
    },
    {
     "name": "stderr",
     "output_type": "stream",
     "text": [
      "                                                                                                                       \r"
     ]
    },
    {
     "name": "stdout",
     "output_type": "stream",
     "text": [
      "Results: mean: -220.3 +/- 127.2, min: -360.0, max: 62.0,\n",
      "\n",
      "Testing...\n"
     ]
    },
    {
     "name": "stderr",
     "output_type": "stream",
     "text": [
      "                                                                                                                       \r"
     ]
    },
    {
     "name": "stdout",
     "output_type": "stream",
     "text": [
      "Results: mean: -213.4 +/- 137.8, min: -315.0 max: 66.0\n",
      "Total elapsed time: 3.15 minutes\n",
      "\n",
      "Epoch #2\n"
     ]
    },
    {
     "name": "stderr",
     "output_type": "stream",
     "text": [
      "                                                                                                                       \r"
     ]
    },
    {
     "name": "stdout",
     "output_type": "stream",
     "text": [
      "Results: mean: -175.5 +/- 151.3, min: -370.0, max: 62.0,\n",
      "\n",
      "Testing...\n"
     ]
    },
    {
     "name": "stderr",
     "output_type": "stream",
     "text": [
      "                                                                                                                       \r"
     ]
    },
    {
     "name": "stdout",
     "output_type": "stream",
     "text": [
      "Results: mean: -80.0 +/- 171.0, min: -355.0 max: 66.0\n",
      "Total elapsed time: 5.85 minutes\n",
      "\n",
      "Epoch #3\n"
     ]
    },
    {
     "name": "stderr",
     "output_type": "stream",
     "text": [
      "                                                                                                                       \r"
     ]
    },
    {
     "name": "stdout",
     "output_type": "stream",
     "text": [
      "Results: mean: -115.8 +/- 151.2, min: -355.0, max: 62.0,\n",
      "\n",
      "Testing...\n"
     ]
    },
    {
     "name": "stderr",
     "output_type": "stream",
     "text": [
      "                                                                                                                       \r"
     ]
    },
    {
     "name": "stdout",
     "output_type": "stream",
     "text": [
      "Results: mean: -9.6 +/- 106.6, min: -355.0 max: 66.0\n",
      "Total elapsed time: 8.37 minutes\n",
      "\n",
      "Epoch #4\n"
     ]
    },
    {
     "name": "stderr",
     "output_type": "stream",
     "text": [
      "                                                                                                                       \r"
     ]
    },
    {
     "name": "stdout",
     "output_type": "stream",
     "text": [
      "Results: mean: -10.4 +/- 113.2, min: -365.0, max: 62.0,\n",
      "\n",
      "Testing...\n"
     ]
    },
    {
     "name": "stderr",
     "output_type": "stream",
     "text": [
      "                                                                                                                       \r"
     ]
    },
    {
     "name": "stdout",
     "output_type": "stream",
     "text": [
      "Results: mean: 27.8 +/- 87.1, min: -350.0 max: 66.0\n",
      "Total elapsed time: 10.73 minutes\n",
      "\n",
      "Epoch #5\n"
     ]
    },
    {
     "name": "stderr",
     "output_type": "stream",
     "text": [
      "                                                                                                                       \r"
     ]
    },
    {
     "name": "stdout",
     "output_type": "stream",
     "text": [
      "Results: mean: -68.3 +/- 142.1, min: -370.0, max: 62.0,\n",
      "\n",
      "Testing...\n"
     ]
    },
    {
     "name": "stderr",
     "output_type": "stream",
     "text": [
      "                                                                                                                       \r"
     ]
    },
    {
     "name": "stdout",
     "output_type": "stream",
     "text": [
      "Results: mean: -50.4 +/- 103.5, min: -365.0 max: 66.0\n",
      "Total elapsed time: 13.41 minutes\n",
      "\n",
      "Epoch #6\n"
     ]
    },
    {
     "name": "stderr",
     "output_type": "stream",
     "text": [
      "                                                                                                                       \r"
     ]
    },
    {
     "name": "stdout",
     "output_type": "stream",
     "text": [
      "Results: mean: -53.8 +/- 128.0, min: -360.0, max: 62.0,\n",
      "\n",
      "Testing...\n"
     ]
    },
    {
     "name": "stderr",
     "output_type": "stream",
     "text": [
      "                                                                                                                       \r"
     ]
    },
    {
     "name": "stdout",
     "output_type": "stream",
     "text": [
      "Results: mean: -2.5 +/- 113.4, min: -370.0 max: 66.0\n",
      "Total elapsed time: 15.88 minutes\n",
      "\n",
      "Epoch #7\n"
     ]
    },
    {
     "name": "stderr",
     "output_type": "stream",
     "text": [
      "                                                                                                                       \r"
     ]
    },
    {
     "name": "stdout",
     "output_type": "stream",
     "text": [
      "Results: mean: -53.0 +/- 114.5, min: -355.0, max: 62.0,\n",
      "\n",
      "Testing...\n"
     ]
    },
    {
     "name": "stderr",
     "output_type": "stream",
     "text": [
      "                                                                                                                       \r"
     ]
    },
    {
     "name": "stdout",
     "output_type": "stream",
     "text": [
      "Results: mean: -88.3 +/- 146.5, min: -360.0 max: 66.0\n",
      "Total elapsed time: 18.62 minutes\n",
      "\n",
      "Epoch #8\n"
     ]
    },
    {
     "name": "stderr",
     "output_type": "stream",
     "text": [
      "                                                                                                                       \r"
     ]
    },
    {
     "name": "stdout",
     "output_type": "stream",
     "text": [
      "Results: mean: -100.5 +/- 137.0, min: -365.0, max: 62.0,\n",
      "\n",
      "Testing...\n"
     ]
    },
    {
     "name": "stderr",
     "output_type": "stream",
     "text": [
      "                                                                                                                       \r"
     ]
    },
    {
     "name": "stdout",
     "output_type": "stream",
     "text": [
      "Results: mean: -76.4 +/- 136.0, min: -360.0 max: 66.0\n",
      "Total elapsed time: 21.34 minutes\n",
      "\n",
      "Epoch #9\n"
     ]
    },
    {
     "name": "stderr",
     "output_type": "stream",
     "text": [
      "                                                                                                                       \r"
     ]
    },
    {
     "name": "stdout",
     "output_type": "stream",
     "text": [
      "Results: mean: -117.6 +/- 138.2, min: -365.0, max: 62.0,\n",
      "\n",
      "Testing...\n"
     ]
    },
    {
     "name": "stderr",
     "output_type": "stream",
     "text": [
      "                                                                                                                       \r"
     ]
    },
    {
     "name": "stdout",
     "output_type": "stream",
     "text": [
      "Results: mean: -80.3 +/- 124.0, min: -370.0 max: 66.0\n",
      "Total elapsed time: 24.10 minutes\n",
      "\n",
      "Epoch #10\n"
     ]
    },
    {
     "name": "stderr",
     "output_type": "stream",
     "text": [
      "                                                                                                                       \r"
     ]
    },
    {
     "name": "stdout",
     "output_type": "stream",
     "text": [
      "Results: mean: -58.8 +/- 113.8, min: -365.0, max: 62.0,\n",
      "\n",
      "Testing...\n"
     ]
    },
    {
     "name": "stderr",
     "output_type": "stream",
     "text": [
      "\u001b[32m[I 2023-05-05 05:21:11,602]\u001b[0m Trial 60 finished with value: -117.51 and parameters: {'learning_rate': 0.0015470566566689286, 'batch_size': 128, 'replay_memory_size': 2000, 'discount_factor': 0.9043681821536811, 'frame_repeat': 16, 'optimizer': 'Adam', 'epsilon_decay': 0.9940717788694768}. Best is trial 48 with value: 27.29.\u001b[0m\n"
     ]
    },
    {
     "name": "stdout",
     "output_type": "stream",
     "text": [
      "Results: mean: -117.5 +/- 142.4, min: -360.0 max: 66.0\n",
      "Total elapsed time: 26.97 minutes\n",
      "\n",
      "Learning rate: 0.0064441550210173485, Batch size: 128, Replay memory size: 3000,\n",
      "Discount factor: 0.9230074731056552, Frame repeat: 16, Optimizer: Adam, \n",
      "Epsilon decay: 0.9947318006470905\n",
      "\n",
      "Initializing doom...\n",
      "Doom initialized.\n",
      "Initializing New Model\n",
      "\n",
      "Epoch #1\n"
     ]
    },
    {
     "name": "stderr",
     "output_type": "stream",
     "text": [
      "                                                                                                                       \r"
     ]
    },
    {
     "name": "stdout",
     "output_type": "stream",
     "text": [
      "Results: mean: -216.9 +/- 133.5, min: -360.0, max: 62.0,\n",
      "\n",
      "Testing...\n"
     ]
    },
    {
     "name": "stderr",
     "output_type": "stream",
     "text": [
      "                                                                                                                       \r"
     ]
    },
    {
     "name": "stdout",
     "output_type": "stream",
     "text": [
      "Results: mean: -235.3 +/- 123.0, min: -315.0 max: 66.0\n",
      "Total elapsed time: 3.21 minutes\n",
      "\n",
      "Epoch #2\n"
     ]
    },
    {
     "name": "stderr",
     "output_type": "stream",
     "text": [
      "                                                                                                                       \r"
     ]
    },
    {
     "name": "stdout",
     "output_type": "stream",
     "text": [
      "Results: mean: -201.1 +/- 142.6, min: -345.0, max: 62.0,\n",
      "\n",
      "Testing...\n"
     ]
    },
    {
     "name": "stderr",
     "output_type": "stream",
     "text": [
      "                                                                                                                       \r"
     ]
    },
    {
     "name": "stdout",
     "output_type": "stream",
     "text": [
      "Results: mean: -144.2 +/- 144.1, min: -325.0 max: 66.0\n",
      "Total elapsed time: 6.18 minutes\n",
      "\n",
      "Epoch #3\n"
     ]
    },
    {
     "name": "stderr",
     "output_type": "stream",
     "text": [
      "                                                                                                                       \r"
     ]
    },
    {
     "name": "stdout",
     "output_type": "stream",
     "text": [
      "Results: mean: -91.4 +/- 148.3, min: -340.0, max: 62.0,\n",
      "\n",
      "Testing...\n"
     ]
    },
    {
     "name": "stderr",
     "output_type": "stream",
     "text": [
      "                                                                                                                       \r"
     ]
    },
    {
     "name": "stdout",
     "output_type": "stream",
     "text": [
      "Results: mean: -60.8 +/- 135.6, min: -335.0 max: 66.0\n",
      "Total elapsed time: 8.86 minutes\n",
      "\n",
      "Epoch #4\n"
     ]
    },
    {
     "name": "stderr",
     "output_type": "stream",
     "text": [
      "                                                                                                                       \r"
     ]
    },
    {
     "name": "stdout",
     "output_type": "stream",
     "text": [
      "Results: mean: -39.1 +/- 127.8, min: -360.0, max: 62.0,\n",
      "\n",
      "Testing...\n"
     ]
    },
    {
     "name": "stderr",
     "output_type": "stream",
     "text": [
      "                                                                                                                       \r"
     ]
    },
    {
     "name": "stdout",
     "output_type": "stream",
     "text": [
      "Results: mean: -32.0 +/- 117.7, min: -350.0 max: 66.0\n",
      "Total elapsed time: 11.45 minutes\n",
      "\n",
      "Epoch #5\n"
     ]
    },
    {
     "name": "stderr",
     "output_type": "stream",
     "text": [
      "                                                                                                                       \r"
     ]
    },
    {
     "name": "stdout",
     "output_type": "stream",
     "text": [
      "Results: mean: -31.2 +/- 123.9, min: -370.0, max: 62.0,\n",
      "\n",
      "Testing...\n"
     ]
    },
    {
     "name": "stderr",
     "output_type": "stream",
     "text": [
      "                                                                                                                       \r"
     ]
    },
    {
     "name": "stdout",
     "output_type": "stream",
     "text": [
      "Results: mean: 8.8 +/- 107.8, min: -370.0 max: 66.0\n",
      "Total elapsed time: 13.89 minutes\n",
      "\n",
      "Epoch #6\n"
     ]
    },
    {
     "name": "stderr",
     "output_type": "stream",
     "text": [
      "                                                                                                                       \r"
     ]
    },
    {
     "name": "stdout",
     "output_type": "stream",
     "text": [
      "Results: mean: -11.1 +/- 101.3, min: -365.0, max: 62.0,\n",
      "\n",
      "Testing...\n"
     ]
    },
    {
     "name": "stderr",
     "output_type": "stream",
     "text": [
      "                                                                                                                       \r"
     ]
    },
    {
     "name": "stdout",
     "output_type": "stream",
     "text": [
      "Results: mean: -17.7 +/- 91.0, min: -355.0 max: 66.0\n",
      "Total elapsed time: 16.43 minutes\n",
      "\n",
      "Epoch #7\n"
     ]
    },
    {
     "name": "stderr",
     "output_type": "stream",
     "text": [
      "                                                                                                                       \r"
     ]
    },
    {
     "name": "stdout",
     "output_type": "stream",
     "text": [
      "Results: mean: -26.4 +/- 133.1, min: -365.0, max: 62.0,\n",
      "\n",
      "Testing...\n"
     ]
    },
    {
     "name": "stderr",
     "output_type": "stream",
     "text": [
      "                                                                                                                       \r"
     ]
    },
    {
     "name": "stdout",
     "output_type": "stream",
     "text": [
      "Results: mean: -23.1 +/- 130.5, min: -365.0 max: 66.0\n",
      "Total elapsed time: 18.96 minutes\n",
      "\n",
      "Epoch #8\n"
     ]
    },
    {
     "name": "stderr",
     "output_type": "stream",
     "text": [
      "                                                                                                                       \r"
     ]
    },
    {
     "name": "stdout",
     "output_type": "stream",
     "text": [
      "Results: mean: -6.6 +/- 100.0, min: -360.0, max: 62.0,\n",
      "\n",
      "Testing...\n"
     ]
    },
    {
     "name": "stderr",
     "output_type": "stream",
     "text": [
      "                                                                                                                       \r"
     ]
    },
    {
     "name": "stdout",
     "output_type": "stream",
     "text": [
      "Results: mean: 6.8 +/- 100.4, min: -360.0 max: 66.0\n",
      "Total elapsed time: 21.40 minutes\n",
      "\n",
      "Epoch #9\n"
     ]
    },
    {
     "name": "stderr",
     "output_type": "stream",
     "text": [
      "                                                                                                                       \r"
     ]
    },
    {
     "name": "stdout",
     "output_type": "stream",
     "text": [
      "Results: mean: -11.1 +/- 109.8, min: -365.0, max: 62.0,\n",
      "\n",
      "Testing...\n"
     ]
    },
    {
     "name": "stderr",
     "output_type": "stream",
     "text": [
      "                                                                                                                       \r"
     ]
    },
    {
     "name": "stdout",
     "output_type": "stream",
     "text": [
      "Results: mean: -30.7 +/- 100.2, min: -365.0 max: 66.0\n",
      "Total elapsed time: 23.98 minutes\n",
      "\n",
      "Epoch #10\n"
     ]
    },
    {
     "name": "stderr",
     "output_type": "stream",
     "text": [
      "                                                                                                                       \r"
     ]
    },
    {
     "name": "stdout",
     "output_type": "stream",
     "text": [
      "Results: mean: -28.9 +/- 104.6, min: -370.0, max: 62.0,\n",
      "\n",
      "Testing...\n"
     ]
    },
    {
     "name": "stderr",
     "output_type": "stream",
     "text": [
      "\u001b[32m[I 2023-05-05 05:47:49,057]\u001b[0m Trial 61 finished with value: -52.39 and parameters: {'learning_rate': 0.0064441550210173485, 'batch_size': 128, 'replay_memory_size': 3000, 'discount_factor': 0.9230074731056552, 'frame_repeat': 16, 'optimizer': 'Adam', 'epsilon_decay': 0.9947318006470905}. Best is trial 48 with value: 27.29.\u001b[0m\n"
     ]
    },
    {
     "name": "stdout",
     "output_type": "stream",
     "text": [
      "Results: mean: -52.4 +/- 127.7, min: -370.0 max: 66.0\n",
      "Total elapsed time: 26.61 minutes\n",
      "\n",
      "Learning rate: 0.004196103469797798, Batch size: 128, Replay memory size: 3000,\n",
      "Discount factor: 0.8820135792299771, Frame repeat: 16, Optimizer: Adam, \n",
      "Epsilon decay: 0.9952462317433804\n",
      "\n",
      "Initializing doom...\n",
      "Doom initialized.\n",
      "Initializing New Model\n",
      "\n",
      "Epoch #1\n"
     ]
    },
    {
     "name": "stderr",
     "output_type": "stream",
     "text": [
      "                                                                                                                       \r"
     ]
    },
    {
     "name": "stdout",
     "output_type": "stream",
     "text": [
      "Results: mean: -254.1 +/- 102.3, min: -350.0, max: 62.0,\n",
      "\n",
      "Testing...\n"
     ]
    },
    {
     "name": "stderr",
     "output_type": "stream",
     "text": [
      "                                                                                                                       \r"
     ]
    },
    {
     "name": "stdout",
     "output_type": "stream",
     "text": [
      "Results: mean: -284.8 +/- 73.5, min: -330.0 max: 66.0\n",
      "Total elapsed time: 3.33 minutes\n",
      "\n",
      "Epoch #2\n"
     ]
    },
    {
     "name": "stderr",
     "output_type": "stream",
     "text": [
      "                                                                                                                       \r"
     ]
    },
    {
     "name": "stdout",
     "output_type": "stream",
     "text": [
      "Results: mean: -149.0 +/- 153.5, min: -350.0, max: 62.0,\n",
      "\n",
      "Testing...\n"
     ]
    },
    {
     "name": "stderr",
     "output_type": "stream",
     "text": [
      "                                                                                                                       \r"
     ]
    },
    {
     "name": "stdout",
     "output_type": "stream",
     "text": [
      "Results: mean: -129.7 +/- 151.2, min: -355.0 max: 66.0\n",
      "Total elapsed time: 6.22 minutes\n",
      "\n",
      "Epoch #3\n"
     ]
    },
    {
     "name": "stderr",
     "output_type": "stream",
     "text": [
      "                                                                                                                       \r"
     ]
    },
    {
     "name": "stdout",
     "output_type": "stream",
     "text": [
      "Results: mean: -93.1 +/- 142.2, min: -365.0, max: 62.0,\n",
      "\n",
      "Testing...\n"
     ]
    },
    {
     "name": "stderr",
     "output_type": "stream",
     "text": [
      "                                                                                                                       \r"
     ]
    },
    {
     "name": "stdout",
     "output_type": "stream",
     "text": [
      "Results: mean: -67.4 +/- 133.4, min: -360.0 max: 66.0\n",
      "Total elapsed time: 8.92 minutes\n",
      "\n",
      "Epoch #4\n"
     ]
    },
    {
     "name": "stderr",
     "output_type": "stream",
     "text": [
      "                                                                                                                       \r"
     ]
    },
    {
     "name": "stdout",
     "output_type": "stream",
     "text": [
      "Results: mean: -79.5 +/- 128.5, min: -365.0, max: 62.0,\n",
      "\n",
      "Testing...\n"
     ]
    },
    {
     "name": "stderr",
     "output_type": "stream",
     "text": [
      "                                                                                                                       \r"
     ]
    },
    {
     "name": "stdout",
     "output_type": "stream",
     "text": [
      "Results: mean: -89.8 +/- 135.8, min: -355.0 max: 66.0\n",
      "Total elapsed time: 11.71 minutes\n",
      "\n",
      "Epoch #5\n"
     ]
    },
    {
     "name": "stderr",
     "output_type": "stream",
     "text": [
      "                                                                                                                       \r"
     ]
    },
    {
     "name": "stdout",
     "output_type": "stream",
     "text": [
      "Results: mean: -25.3 +/- 117.9, min: -365.0, max: 62.0,\n",
      "\n",
      "Testing...\n"
     ]
    },
    {
     "name": "stderr",
     "output_type": "stream",
     "text": [
      "                                                                                                                       \r"
     ]
    },
    {
     "name": "stdout",
     "output_type": "stream",
     "text": [
      "Results: mean: -25.5 +/- 128.3, min: -365.0 max: 66.0\n",
      "Total elapsed time: 14.26 minutes\n",
      "\n",
      "Epoch #6\n"
     ]
    },
    {
     "name": "stderr",
     "output_type": "stream",
     "text": [
      "                                                                                                                       \r"
     ]
    },
    {
     "name": "stdout",
     "output_type": "stream",
     "text": [
      "Results: mean: -39.8 +/- 121.5, min: -360.0, max: 62.0,\n",
      "\n",
      "Testing...\n"
     ]
    },
    {
     "name": "stderr",
     "output_type": "stream",
     "text": [
      "                                                                                                                       \r"
     ]
    },
    {
     "name": "stdout",
     "output_type": "stream",
     "text": [
      "Results: mean: -55.1 +/- 104.1, min: -365.0 max: 66.0\n",
      "Total elapsed time: 16.94 minutes\n",
      "\n",
      "Epoch #7\n"
     ]
    },
    {
     "name": "stderr",
     "output_type": "stream",
     "text": [
      "                                                                                                                       \r"
     ]
    },
    {
     "name": "stdout",
     "output_type": "stream",
     "text": [
      "Results: mean: -59.0 +/- 135.8, min: -355.0, max: 62.0,\n",
      "\n",
      "Testing...\n"
     ]
    },
    {
     "name": "stderr",
     "output_type": "stream",
     "text": [
      "                                                                                                                       \r"
     ]
    },
    {
     "name": "stdout",
     "output_type": "stream",
     "text": [
      "Results: mean: -51.4 +/- 129.2, min: -335.0 max: 66.0\n",
      "Total elapsed time: 19.58 minutes\n",
      "\n",
      "Epoch #8\n"
     ]
    },
    {
     "name": "stderr",
     "output_type": "stream",
     "text": [
      "                                                                                                                       \r"
     ]
    },
    {
     "name": "stdout",
     "output_type": "stream",
     "text": [
      "Results: mean: -53.9 +/- 123.1, min: -350.0, max: 62.0,\n",
      "\n",
      "Testing...\n"
     ]
    },
    {
     "name": "stderr",
     "output_type": "stream",
     "text": [
      "                                                                                                                       \r"
     ]
    },
    {
     "name": "stdout",
     "output_type": "stream",
     "text": [
      "Results: mean: -42.0 +/- 133.6, min: -360.0 max: 66.0\n",
      "Total elapsed time: 22.18 minutes\n",
      "\n",
      "Epoch #9\n"
     ]
    },
    {
     "name": "stderr",
     "output_type": "stream",
     "text": [
      "                                                                                                                       \r"
     ]
    },
    {
     "name": "stdout",
     "output_type": "stream",
     "text": [
      "Results: mean: -49.5 +/- 133.7, min: -340.0, max: 62.0,\n",
      "\n",
      "Testing...\n"
     ]
    },
    {
     "name": "stderr",
     "output_type": "stream",
     "text": [
      "                                                                                                                       \r"
     ]
    },
    {
     "name": "stdout",
     "output_type": "stream",
     "text": [
      "Results: mean: -76.4 +/- 131.9, min: -350.0 max: 66.0\n",
      "Total elapsed time: 24.91 minutes\n",
      "\n",
      "Epoch #10\n"
     ]
    },
    {
     "name": "stderr",
     "output_type": "stream",
     "text": [
      "                                                                                                                       \r"
     ]
    },
    {
     "name": "stdout",
     "output_type": "stream",
     "text": [
      "Results: mean: -30.0 +/- 128.0, min: -350.0, max: 62.0,\n",
      "\n",
      "Testing...\n"
     ]
    },
    {
     "name": "stderr",
     "output_type": "stream",
     "text": [
      "\u001b[32m[I 2023-05-05 06:15:10,394]\u001b[0m Trial 62 finished with value: 11.4 and parameters: {'learning_rate': 0.004196103469797798, 'batch_size': 128, 'replay_memory_size': 3000, 'discount_factor': 0.8820135792299771, 'frame_repeat': 16, 'optimizer': 'Adam', 'epsilon_decay': 0.9952462317433804}. Best is trial 48 with value: 27.29.\u001b[0m\n"
     ]
    },
    {
     "name": "stdout",
     "output_type": "stream",
     "text": [
      "Results: mean: 11.4 +/- 93.7, min: -335.0 max: 66.0\n",
      "Total elapsed time: 27.34 minutes\n",
      "\n",
      "Learning rate: 0.004033898119250941, Batch size: 128, Replay memory size: 4000,\n",
      "Discount factor: 0.837265428804376, Frame repeat: 16, Optimizer: Adam, \n",
      "Epsilon decay: 0.9951998889163152\n",
      "\n",
      "Initializing doom...\n",
      "Doom initialized.\n",
      "Initializing New Model\n",
      "\n",
      "Epoch #1\n"
     ]
    },
    {
     "name": "stderr",
     "output_type": "stream",
     "text": [
      "                                                                                                                       \r"
     ]
    },
    {
     "name": "stdout",
     "output_type": "stream",
     "text": [
      "Results: mean: -246.2 +/- 118.9, min: -355.0, max: 46.0,\n",
      "\n",
      "Testing...\n"
     ]
    },
    {
     "name": "stderr",
     "output_type": "stream",
     "text": [
      "                                                                                                                       \r"
     ]
    },
    {
     "name": "stdout",
     "output_type": "stream",
     "text": [
      "Results: mean: -251.4 +/- 107.4, min: -340.0 max: 54.0\n",
      "Total elapsed time: 3.26 minutes\n",
      "\n",
      "Epoch #2\n"
     ]
    },
    {
     "name": "stderr",
     "output_type": "stream",
     "text": [
      "                                                                                                                       \r"
     ]
    },
    {
     "name": "stdout",
     "output_type": "stream",
     "text": [
      "Results: mean: -235.5 +/- 131.0, min: -365.0, max: 62.0,\n",
      "\n",
      "Testing...\n"
     ]
    },
    {
     "name": "stderr",
     "output_type": "stream",
     "text": [
      "                                                                                                                       \r"
     ]
    },
    {
     "name": "stdout",
     "output_type": "stream",
     "text": [
      "Results: mean: -257.0 +/- 108.9, min: -335.0 max: 54.0\n",
      "Total elapsed time: 6.51 minutes\n",
      "\n",
      "Epoch #3\n"
     ]
    },
    {
     "name": "stderr",
     "output_type": "stream",
     "text": [
      "                                                                                                                       \r"
     ]
    },
    {
     "name": "stdout",
     "output_type": "stream",
     "text": [
      "Results: mean: -113.5 +/- 144.1, min: -355.0, max: 62.0,\n",
      "\n",
      "Testing...\n"
     ]
    },
    {
     "name": "stderr",
     "output_type": "stream",
     "text": [
      "                                                                                                                       \r"
     ]
    },
    {
     "name": "stdout",
     "output_type": "stream",
     "text": [
      "Results: mean: -88.4 +/- 133.8, min: -350.0 max: 66.0\n",
      "Total elapsed time: 9.31 minutes\n",
      "\n",
      "Epoch #4\n"
     ]
    },
    {
     "name": "stderr",
     "output_type": "stream",
     "text": [
      "                                                                                                                       \r"
     ]
    },
    {
     "name": "stdout",
     "output_type": "stream",
     "text": [
      "Results: mean: -127.5 +/- 154.8, min: -365.0, max: 62.0,\n",
      "\n",
      "Testing...\n"
     ]
    },
    {
     "name": "stderr",
     "output_type": "stream",
     "text": [
      "                                                                                                                       \r"
     ]
    },
    {
     "name": "stdout",
     "output_type": "stream",
     "text": [
      "Results: mean: -60.0 +/- 128.2, min: -360.0 max: 54.0\n",
      "Total elapsed time: 11.98 minutes\n",
      "\n",
      "Epoch #5\n"
     ]
    },
    {
     "name": "stderr",
     "output_type": "stream",
     "text": [
      "                                                                                                                       \r"
     ]
    },
    {
     "name": "stdout",
     "output_type": "stream",
     "text": [
      "Results: mean: -109.3 +/- 140.1, min: -370.0, max: 62.0,\n",
      "\n",
      "Testing...\n"
     ]
    },
    {
     "name": "stderr",
     "output_type": "stream",
     "text": [
      "                                                                                                                       \r"
     ]
    },
    {
     "name": "stdout",
     "output_type": "stream",
     "text": [
      "Results: mean: -107.4 +/- 133.7, min: -360.0 max: 66.0\n",
      "Total elapsed time: 14.83 minutes\n",
      "\n",
      "Epoch #6\n"
     ]
    },
    {
     "name": "stderr",
     "output_type": "stream",
     "text": [
      "                                                                                                                       \r"
     ]
    },
    {
     "name": "stdout",
     "output_type": "stream",
     "text": [
      "Results: mean: -94.9 +/- 148.8, min: -360.0, max: 62.0,\n",
      "\n",
      "Testing...\n"
     ]
    },
    {
     "name": "stderr",
     "output_type": "stream",
     "text": [
      "                                                                                                                       \r"
     ]
    },
    {
     "name": "stdout",
     "output_type": "stream",
     "text": [
      "Results: mean: -52.6 +/- 159.8, min: -355.0 max: 66.0\n",
      "Total elapsed time: 17.44 minutes\n",
      "\n",
      "Epoch #7\n"
     ]
    },
    {
     "name": "stderr",
     "output_type": "stream",
     "text": [
      "                                                                                                                       \r"
     ]
    },
    {
     "name": "stdout",
     "output_type": "stream",
     "text": [
      "Results: mean: -65.9 +/- 158.4, min: -365.0, max: 62.0,\n",
      "\n",
      "Testing...\n"
     ]
    },
    {
     "name": "stderr",
     "output_type": "stream",
     "text": [
      "                                                                                                                       \r"
     ]
    },
    {
     "name": "stdout",
     "output_type": "stream",
     "text": [
      "Results: mean: -103.2 +/- 140.5, min: -365.0 max: 66.0\n",
      "Total elapsed time: 20.26 minutes\n",
      "\n",
      "Epoch #8\n"
     ]
    },
    {
     "name": "stderr",
     "output_type": "stream",
     "text": [
      "                                                                                                                       \r"
     ]
    },
    {
     "name": "stdout",
     "output_type": "stream",
     "text": [
      "Results: mean: -90.1 +/- 152.9, min: -350.0, max: 62.0,\n",
      "\n",
      "Testing...\n"
     ]
    },
    {
     "name": "stderr",
     "output_type": "stream",
     "text": [
      "                                                                                                                       \r"
     ]
    },
    {
     "name": "stdout",
     "output_type": "stream",
     "text": [
      "Results: mean: -86.2 +/- 145.9, min: -355.0 max: 66.0\n",
      "Total elapsed time: 23.01 minutes\n",
      "\n",
      "Epoch #9\n"
     ]
    },
    {
     "name": "stderr",
     "output_type": "stream",
     "text": [
      "                                                                                                                       \r"
     ]
    },
    {
     "name": "stdout",
     "output_type": "stream",
     "text": [
      "Results: mean: -129.9 +/- 150.0, min: -345.0, max: 62.0,\n",
      "\n",
      "Testing...\n"
     ]
    },
    {
     "name": "stderr",
     "output_type": "stream",
     "text": [
      "                                                                                                                       \r"
     ]
    },
    {
     "name": "stdout",
     "output_type": "stream",
     "text": [
      "Results: mean: -44.8 +/- 147.3, min: -345.0 max: 66.0\n",
      "Total elapsed time: 25.63 minutes\n",
      "\n",
      "Epoch #10\n"
     ]
    },
    {
     "name": "stderr",
     "output_type": "stream",
     "text": [
      "                                                                                                                       \r"
     ]
    },
    {
     "name": "stdout",
     "output_type": "stream",
     "text": [
      "Results: mean: -91.1 +/- 137.3, min: -355.0, max: 62.0,\n",
      "\n",
      "Testing...\n"
     ]
    },
    {
     "name": "stderr",
     "output_type": "stream",
     "text": [
      "\u001b[32m[I 2023-05-05 06:43:45,611]\u001b[0m Trial 63 finished with value: -142.68 and parameters: {'learning_rate': 0.004033898119250941, 'batch_size': 128, 'replay_memory_size': 4000, 'discount_factor': 0.837265428804376, 'frame_repeat': 16, 'optimizer': 'Adam', 'epsilon_decay': 0.9951998889163152}. Best is trial 48 with value: 27.29.\u001b[0m\n"
     ]
    },
    {
     "name": "stdout",
     "output_type": "stream",
     "text": [
      "Results: mean: -142.7 +/- 139.4, min: -355.0 max: 54.0\n",
      "Total elapsed time: 28.58 minutes\n",
      "\n",
      "Learning rate: 0.0028389251488512555, Batch size: 128, Replay memory size: 3000,\n",
      "Discount factor: 0.9007016751767021, Frame repeat: 16, Optimizer: Adam, \n",
      "Epsilon decay: 0.9945235426513801\n",
      "\n",
      "Initializing doom...\n",
      "Doom initialized.\n",
      "Initializing New Model\n",
      "\n",
      "Epoch #1\n"
     ]
    },
    {
     "name": "stderr",
     "output_type": "stream",
     "text": [
      "                                                                                                                       \r"
     ]
    },
    {
     "name": "stdout",
     "output_type": "stream",
     "text": [
      "Results: mean: -243.2 +/- 111.3, min: -350.0, max: 62.0,\n",
      "\n",
      "Testing...\n"
     ]
    },
    {
     "name": "stderr",
     "output_type": "stream",
     "text": [
      "                                                                                                                       \r"
     ]
    },
    {
     "name": "stdout",
     "output_type": "stream",
     "text": [
      "Results: mean: -259.7 +/- 113.0, min: -330.0 max: 66.0\n",
      "Total elapsed time: 3.26 minutes\n",
      "\n",
      "Epoch #2\n"
     ]
    },
    {
     "name": "stderr",
     "output_type": "stream",
     "text": [
      "                                                                                                                       \r"
     ]
    },
    {
     "name": "stdout",
     "output_type": "stream",
     "text": [
      "Results: mean: -182.7 +/- 145.8, min: -360.0, max: 62.0,\n",
      "\n",
      "Testing...\n"
     ]
    },
    {
     "name": "stderr",
     "output_type": "stream",
     "text": [
      "                                                                                                                       \r"
     ]
    },
    {
     "name": "stdout",
     "output_type": "stream",
     "text": [
      "Results: mean: -215.6 +/- 132.4, min: -360.0 max: 66.0\n",
      "Total elapsed time: 6.42 minutes\n",
      "\n",
      "Epoch #3\n"
     ]
    },
    {
     "name": "stderr",
     "output_type": "stream",
     "text": [
      "                                                                                                                       \r"
     ]
    },
    {
     "name": "stdout",
     "output_type": "stream",
     "text": [
      "Results: mean: -53.8 +/- 133.1, min: -345.0, max: 62.0,\n",
      "\n",
      "Testing...\n"
     ]
    },
    {
     "name": "stderr",
     "output_type": "stream",
     "text": [
      "                                                                                                                       \r"
     ]
    },
    {
     "name": "stdout",
     "output_type": "stream",
     "text": [
      "Results: mean: -73.8 +/- 140.4, min: -340.0 max: 66.0\n",
      "Total elapsed time: 9.14 minutes\n",
      "\n",
      "Epoch #4\n"
     ]
    },
    {
     "name": "stderr",
     "output_type": "stream",
     "text": [
      "                                                                                                                       \r"
     ]
    },
    {
     "name": "stdout",
     "output_type": "stream",
     "text": [
      "Results: mean: -49.0 +/- 113.9, min: -360.0, max: 62.0,\n",
      "\n",
      "Testing...\n"
     ]
    },
    {
     "name": "stderr",
     "output_type": "stream",
     "text": [
      "                                                                                                                       \r"
     ]
    },
    {
     "name": "stdout",
     "output_type": "stream",
     "text": [
      "Results: mean: -101.9 +/- 128.7, min: -360.0 max: 66.0\n",
      "Total elapsed time: 11.98 minutes\n",
      "\n",
      "Epoch #5\n"
     ]
    },
    {
     "name": "stderr",
     "output_type": "stream",
     "text": [
      "                                                                                                                       \r"
     ]
    },
    {
     "name": "stdout",
     "output_type": "stream",
     "text": [
      "Results: mean: -69.6 +/- 135.2, min: -340.0, max: 62.0,\n",
      "\n",
      "Testing...\n"
     ]
    },
    {
     "name": "stderr",
     "output_type": "stream",
     "text": [
      "                                                                                                                       \r"
     ]
    },
    {
     "name": "stdout",
     "output_type": "stream",
     "text": [
      "Results: mean: -90.7 +/- 136.7, min: -370.0 max: 66.0\n",
      "Total elapsed time: 14.77 minutes\n",
      "\n",
      "Epoch #6\n"
     ]
    },
    {
     "name": "stderr",
     "output_type": "stream",
     "text": [
      "                                                                                                                       \r"
     ]
    },
    {
     "name": "stdout",
     "output_type": "stream",
     "text": [
      "Results: mean: -22.6 +/- 106.5, min: -355.0, max: 62.0,\n",
      "\n",
      "Testing...\n"
     ]
    },
    {
     "name": "stderr",
     "output_type": "stream",
     "text": [
      "                                                                                                                       \r"
     ]
    },
    {
     "name": "stdout",
     "output_type": "stream",
     "text": [
      "Results: mean: -75.8 +/- 118.4, min: -360.0 max: 66.0\n",
      "Total elapsed time: 17.54 minutes\n",
      "\n",
      "Epoch #7\n"
     ]
    },
    {
     "name": "stderr",
     "output_type": "stream",
     "text": [
      "                                                                                                                       \r"
     ]
    },
    {
     "name": "stdout",
     "output_type": "stream",
     "text": [
      "Results: mean: -13.3 +/- 93.7, min: -350.0, max: 62.0,\n",
      "\n",
      "Testing...\n"
     ]
    },
    {
     "name": "stderr",
     "output_type": "stream",
     "text": [
      "                                                                                                                       \r"
     ]
    },
    {
     "name": "stdout",
     "output_type": "stream",
     "text": [
      "Results: mean: -13.0 +/- 97.0, min: -355.0 max: 66.0\n",
      "Total elapsed time: 20.07 minutes\n",
      "\n",
      "Epoch #8\n"
     ]
    },
    {
     "name": "stderr",
     "output_type": "stream",
     "text": [
      "                                                                                                                       \r"
     ]
    },
    {
     "name": "stdout",
     "output_type": "stream",
     "text": [
      "Results: mean: -3.7 +/- 95.8, min: -350.0, max: 62.0,\n",
      "\n",
      "Testing...\n"
     ]
    },
    {
     "name": "stderr",
     "output_type": "stream",
     "text": [
      "                                                                                                                       \r"
     ]
    },
    {
     "name": "stdout",
     "output_type": "stream",
     "text": [
      "Results: mean: -8.9 +/- 77.6, min: -345.0 max: 66.0\n",
      "Total elapsed time: 22.59 minutes\n",
      "\n",
      "Epoch #9\n"
     ]
    },
    {
     "name": "stderr",
     "output_type": "stream",
     "text": [
      "                                                                                                                       \r"
     ]
    },
    {
     "name": "stdout",
     "output_type": "stream",
     "text": [
      "Results: mean: 6.9 +/- 85.4, min: -360.0, max: 62.0,\n",
      "\n",
      "Testing...\n"
     ]
    },
    {
     "name": "stderr",
     "output_type": "stream",
     "text": [
      "                                                                                                                       \r"
     ]
    },
    {
     "name": "stdout",
     "output_type": "stream",
     "text": [
      "Results: mean: 9.9 +/- 100.8, min: -350.0 max: 66.0\n",
      "Total elapsed time: 25.03 minutes\n",
      "\n",
      "Epoch #10\n"
     ]
    },
    {
     "name": "stderr",
     "output_type": "stream",
     "text": [
      "                                                                                                                       \r"
     ]
    },
    {
     "name": "stdout",
     "output_type": "stream",
     "text": [
      "Results: mean: 2.0 +/- 94.6, min: -365.0, max: 62.0,\n",
      "\n",
      "Testing...\n"
     ]
    },
    {
     "name": "stderr",
     "output_type": "stream",
     "text": [
      "\u001b[32m[I 2023-05-05 07:11:14,097]\u001b[0m Trial 64 finished with value: 8.81 and parameters: {'learning_rate': 0.0028389251488512555, 'batch_size': 128, 'replay_memory_size': 3000, 'discount_factor': 0.9007016751767021, 'frame_repeat': 16, 'optimizer': 'Adam', 'epsilon_decay': 0.9945235426513801}. Best is trial 48 with value: 27.29.\u001b[0m\n"
     ]
    },
    {
     "name": "stdout",
     "output_type": "stream",
     "text": [
      "Results: mean: 8.8 +/- 98.5, min: -345.0 max: 66.0\n",
      "Total elapsed time: 27.46 minutes\n",
      "\n",
      "Learning rate: 0.004652095931907307, Batch size: 128, Replay memory size: 2000,\n",
      "Discount factor: 0.8732280440518653, Frame repeat: 16, Optimizer: Adam, \n",
      "Epsilon decay: 0.9940433931135848\n",
      "\n",
      "Initializing doom...\n",
      "Doom initialized.\n",
      "Initializing New Model\n",
      "\n",
      "Epoch #1\n"
     ]
    },
    {
     "name": "stderr",
     "output_type": "stream",
     "text": [
      "                                                                                                                       \r"
     ]
    },
    {
     "name": "stdout",
     "output_type": "stream",
     "text": [
      "Results: mean: -237.9 +/- 116.5, min: -340.0, max: 62.0,\n",
      "\n",
      "Testing...\n"
     ]
    },
    {
     "name": "stderr",
     "output_type": "stream",
     "text": [
      "                                                                                                                       \r"
     ]
    },
    {
     "name": "stdout",
     "output_type": "stream",
     "text": [
      "Results: mean: -232.4 +/- 128.1, min: -325.0 max: 54.0\n",
      "Total elapsed time: 3.21 minutes\n",
      "\n",
      "Epoch #2\n"
     ]
    },
    {
     "name": "stderr",
     "output_type": "stream",
     "text": [
      "                                                                                                                       \r"
     ]
    },
    {
     "name": "stdout",
     "output_type": "stream",
     "text": [
      "Results: mean: -241.4 +/- 137.4, min: -365.0, max: 62.0,\n",
      "\n",
      "Testing...\n"
     ]
    },
    {
     "name": "stderr",
     "output_type": "stream",
     "text": [
      "                                                                                                                       \r"
     ]
    },
    {
     "name": "stdout",
     "output_type": "stream",
     "text": [
      "Results: mean: -236.0 +/- 129.9, min: -370.0 max: 66.0\n",
      "Total elapsed time: 6.39 minutes\n",
      "\n",
      "Epoch #3\n"
     ]
    },
    {
     "name": "stderr",
     "output_type": "stream",
     "text": [
      "                                                                                                                       \r"
     ]
    },
    {
     "name": "stdout",
     "output_type": "stream",
     "text": [
      "Results: mean: -117.3 +/- 166.7, min: -365.0, max: 62.0,\n",
      "\n",
      "Testing...\n"
     ]
    },
    {
     "name": "stderr",
     "output_type": "stream",
     "text": [
      "                                                                                                                       \r"
     ]
    },
    {
     "name": "stdout",
     "output_type": "stream",
     "text": [
      "Results: mean: -15.1 +/- 136.2, min: -360.0 max: 66.0\n",
      "Total elapsed time: 8.90 minutes\n",
      "\n",
      "Epoch #4\n"
     ]
    },
    {
     "name": "stderr",
     "output_type": "stream",
     "text": [
      "                                                                                                                       \r"
     ]
    },
    {
     "name": "stdout",
     "output_type": "stream",
     "text": [
      "Results: mean: -30.3 +/- 134.1, min: -355.0, max: 62.0,\n",
      "\n",
      "Testing...\n"
     ]
    },
    {
     "name": "stderr",
     "output_type": "stream",
     "text": [
      "                                                                                                                       \r"
     ]
    },
    {
     "name": "stdout",
     "output_type": "stream",
     "text": [
      "Results: mean: -7.1 +/- 126.9, min: -365.0 max: 66.0\n",
      "Total elapsed time: 11.37 minutes\n",
      "\n",
      "Epoch #5\n"
     ]
    },
    {
     "name": "stderr",
     "output_type": "stream",
     "text": [
      "                                                                                                                       \r"
     ]
    },
    {
     "name": "stdout",
     "output_type": "stream",
     "text": [
      "Results: mean: -1.9 +/- 119.9, min: -365.0, max: 62.0,\n",
      "\n",
      "Testing...\n"
     ]
    },
    {
     "name": "stderr",
     "output_type": "stream",
     "text": [
      "                                                                                                                       \r"
     ]
    },
    {
     "name": "stdout",
     "output_type": "stream",
     "text": [
      "Results: mean: -41.8 +/- 140.0, min: -345.0 max: 66.0\n",
      "Total elapsed time: 13.95 minutes\n",
      "\n",
      "Epoch #6\n"
     ]
    },
    {
     "name": "stderr",
     "output_type": "stream",
     "text": [
      "                                                                                                                       \r"
     ]
    },
    {
     "name": "stdout",
     "output_type": "stream",
     "text": [
      "Results: mean: -128.3 +/- 150.9, min: -365.0, max: 62.0,\n",
      "\n",
      "Testing...\n"
     ]
    },
    {
     "name": "stderr",
     "output_type": "stream",
     "text": [
      "                                                                                                                       \r"
     ]
    },
    {
     "name": "stdout",
     "output_type": "stream",
     "text": [
      "Results: mean: -186.9 +/- 164.7, min: -355.0 max: 66.0\n",
      "Total elapsed time: 16.94 minutes\n",
      "\n",
      "Epoch #7\n"
     ]
    },
    {
     "name": "stderr",
     "output_type": "stream",
     "text": [
      "                                                                                                                       \r"
     ]
    },
    {
     "name": "stdout",
     "output_type": "stream",
     "text": [
      "Results: mean: -141.8 +/- 172.1, min: -350.0, max: 62.0,\n",
      "\n",
      "Testing...\n"
     ]
    },
    {
     "name": "stderr",
     "output_type": "stream",
     "text": [
      "                                                                                                                       \r"
     ]
    },
    {
     "name": "stdout",
     "output_type": "stream",
     "text": [
      "Results: mean: -77.2 +/- 174.2, min: -355.0 max: 66.0\n",
      "Total elapsed time: 19.62 minutes\n",
      "\n",
      "Epoch #8\n"
     ]
    },
    {
     "name": "stderr",
     "output_type": "stream",
     "text": [
      "                                                                                                                       \r"
     ]
    },
    {
     "name": "stdout",
     "output_type": "stream",
     "text": [
      "Results: mean: -262.0 +/- 122.4, min: -355.0, max: 62.0,\n",
      "\n",
      "Testing...\n"
     ]
    },
    {
     "name": "stderr",
     "output_type": "stream",
     "text": [
      "                                                                                                                       \r"
     ]
    },
    {
     "name": "stdout",
     "output_type": "stream",
     "text": [
      "Results: mean: -273.0 +/- 94.7, min: -350.0 max: 42.0\n",
      "Total elapsed time: 22.91 minutes\n",
      "\n",
      "Epoch #9\n"
     ]
    },
    {
     "name": "stderr",
     "output_type": "stream",
     "text": [
      "                                                                                                                       \r"
     ]
    },
    {
     "name": "stdout",
     "output_type": "stream",
     "text": [
      "Results: mean: -285.3 +/- 86.5, min: -350.0, max: 62.0,\n",
      "\n",
      "Testing...\n"
     ]
    },
    {
     "name": "stderr",
     "output_type": "stream",
     "text": [
      "                                                                                                                       \r"
     ]
    },
    {
     "name": "stdout",
     "output_type": "stream",
     "text": [
      "Results: mean: -265.5 +/- 120.8, min: -335.0 max: 66.0\n",
      "Total elapsed time: 26.14 minutes\n",
      "\n",
      "Epoch #10\n"
     ]
    },
    {
     "name": "stderr",
     "output_type": "stream",
     "text": [
      "                                                                                                                       \r"
     ]
    },
    {
     "name": "stdout",
     "output_type": "stream",
     "text": [
      "Results: mean: -300.0 +/- 39.7, min: -335.0, max: -55.0,\n",
      "\n",
      "Testing...\n"
     ]
    },
    {
     "name": "stderr",
     "output_type": "stream",
     "text": [
      "\u001b[32m[I 2023-05-05 07:40:39,962]\u001b[0m Trial 65 finished with value: -280.08 and parameters: {'learning_rate': 0.004652095931907307, 'batch_size': 128, 'replay_memory_size': 2000, 'discount_factor': 0.8732280440518653, 'frame_repeat': 16, 'optimizer': 'Adam', 'epsilon_decay': 0.9940433931135848}. Best is trial 48 with value: 27.29.\u001b[0m\n"
     ]
    },
    {
     "name": "stdout",
     "output_type": "stream",
     "text": [
      "Results: mean: -280.1 +/- 101.1, min: -330.0 max: 66.0\n",
      "Total elapsed time: 29.42 minutes\n",
      "\n",
      "Learning rate: 0.002251641128210083, Batch size: 128, Replay memory size: 1000,\n",
      "Discount factor: 0.799043690182628, Frame repeat: 16, Optimizer: Adam, \n",
      "Epsilon decay: 0.9935638424397019\n",
      "\n",
      "Initializing doom...\n",
      "Doom initialized.\n",
      "Initializing New Model\n",
      "\n",
      "Epoch #1\n"
     ]
    },
    {
     "name": "stderr",
     "output_type": "stream",
     "text": [
      "                                                                                                                       \r"
     ]
    },
    {
     "name": "stdout",
     "output_type": "stream",
     "text": [
      "Results: mean: -225.1 +/- 138.7, min: -350.0, max: 62.0,\n",
      "\n",
      "Testing...\n"
     ]
    },
    {
     "name": "stderr",
     "output_type": "stream",
     "text": [
      "                                                                                                                       \r"
     ]
    },
    {
     "name": "stdout",
     "output_type": "stream",
     "text": [
      "Results: mean: -189.4 +/- 146.8, min: -320.0 max: 66.0\n",
      "Total elapsed time: 3.09 minutes\n",
      "\n",
      "Epoch #2\n"
     ]
    },
    {
     "name": "stderr",
     "output_type": "stream",
     "text": [
      "                                                                                                                       \r"
     ]
    },
    {
     "name": "stdout",
     "output_type": "stream",
     "text": [
      "Results: mean: -216.0 +/- 144.2, min: -365.0, max: 62.0,\n",
      "\n",
      "Testing...\n"
     ]
    },
    {
     "name": "stderr",
     "output_type": "stream",
     "text": [
      "                                                                                                                       \r"
     ]
    },
    {
     "name": "stdout",
     "output_type": "stream",
     "text": [
      "Results: mean: -238.4 +/- 145.6, min: -365.0 max: 66.0\n",
      "Total elapsed time: 6.23 minutes\n",
      "\n",
      "Epoch #3\n"
     ]
    },
    {
     "name": "stderr",
     "output_type": "stream",
     "text": [
      "                                                                                                                       \r"
     ]
    },
    {
     "name": "stdout",
     "output_type": "stream",
     "text": [
      "Results: mean: -197.1 +/- 141.4, min: -365.0, max: 62.0,\n",
      "\n",
      "Testing...\n"
     ]
    },
    {
     "name": "stderr",
     "output_type": "stream",
     "text": [
      "                                                                                                                       \r"
     ]
    },
    {
     "name": "stdout",
     "output_type": "stream",
     "text": [
      "Results: mean: -215.5 +/- 144.4, min: -370.0 max: 54.0\n",
      "Total elapsed time: 9.33 minutes\n",
      "\n",
      "Epoch #4\n"
     ]
    },
    {
     "name": "stderr",
     "output_type": "stream",
     "text": [
      "                                                                                                                       \r"
     ]
    },
    {
     "name": "stdout",
     "output_type": "stream",
     "text": [
      "Results: mean: -112.4 +/- 155.3, min: -355.0, max: 62.0,\n",
      "\n",
      "Testing...\n"
     ]
    },
    {
     "name": "stderr",
     "output_type": "stream",
     "text": [
      "                                                                                                                       \r"
     ]
    },
    {
     "name": "stdout",
     "output_type": "stream",
     "text": [
      "Results: mean: -32.8 +/- 147.2, min: -355.0 max: 66.0\n",
      "Total elapsed time: 11.89 minutes\n",
      "\n",
      "Epoch #5\n"
     ]
    },
    {
     "name": "stderr",
     "output_type": "stream",
     "text": [
      "                                                                                                                       \r"
     ]
    },
    {
     "name": "stdout",
     "output_type": "stream",
     "text": [
      "Results: mean: -118.4 +/- 160.5, min: -350.0, max: 62.0,\n",
      "\n",
      "Testing...\n"
     ]
    },
    {
     "name": "stderr",
     "output_type": "stream",
     "text": [
      "                                                                                                                       \r"
     ]
    },
    {
     "name": "stdout",
     "output_type": "stream",
     "text": [
      "Results: mean: -124.8 +/- 140.9, min: -350.0 max: 66.0\n",
      "Total elapsed time: 14.78 minutes\n",
      "\n",
      "Epoch #6\n"
     ]
    },
    {
     "name": "stderr",
     "output_type": "stream",
     "text": [
      "                                                                                                                       \r"
     ]
    },
    {
     "name": "stdout",
     "output_type": "stream",
     "text": [
      "Results: mean: -151.2 +/- 146.9, min: -345.0, max: 62.0,\n",
      "\n",
      "Testing...\n"
     ]
    },
    {
     "name": "stderr",
     "output_type": "stream",
     "text": [
      "                                                                                                                       \r"
     ]
    },
    {
     "name": "stdout",
     "output_type": "stream",
     "text": [
      "Results: mean: -232.7 +/- 123.2, min: -345.0 max: 66.0\n",
      "Total elapsed time: 17.96 minutes\n",
      "\n",
      "Epoch #7\n"
     ]
    },
    {
     "name": "stderr",
     "output_type": "stream",
     "text": [
      "                                                                                                                       \r"
     ]
    },
    {
     "name": "stdout",
     "output_type": "stream",
     "text": [
      "Results: mean: -135.0 +/- 163.6, min: -335.0, max: 62.0,\n",
      "\n",
      "Testing...\n"
     ]
    },
    {
     "name": "stderr",
     "output_type": "stream",
     "text": [
      "                                                                                                                       \r"
     ]
    },
    {
     "name": "stdout",
     "output_type": "stream",
     "text": [
      "Results: mean: -123.2 +/- 158.8, min: -340.0 max: 66.0\n",
      "Total elapsed time: 20.80 minutes\n",
      "\n",
      "Epoch #8\n"
     ]
    },
    {
     "name": "stderr",
     "output_type": "stream",
     "text": [
      "                                                                                                                       \r"
     ]
    },
    {
     "name": "stdout",
     "output_type": "stream",
     "text": [
      "Results: mean: -173.1 +/- 153.4, min: -340.0, max: 62.0,\n",
      "\n",
      "Testing...\n"
     ]
    },
    {
     "name": "stderr",
     "output_type": "stream",
     "text": [
      "                                                                                                                       \r"
     ]
    },
    {
     "name": "stdout",
     "output_type": "stream",
     "text": [
      "Results: mean: -131.5 +/- 168.8, min: -360.0 max: 66.0\n",
      "Total elapsed time: 23.65 minutes\n",
      "\n",
      "Epoch #9\n"
     ]
    },
    {
     "name": "stderr",
     "output_type": "stream",
     "text": [
      "                                                                                                                       \r"
     ]
    },
    {
     "name": "stdout",
     "output_type": "stream",
     "text": [
      "Results: mean: -106.0 +/- 171.9, min: -350.0, max: 62.0,\n",
      "\n",
      "Testing...\n"
     ]
    },
    {
     "name": "stderr",
     "output_type": "stream",
     "text": [
      "                                                                                                                       \r"
     ]
    },
    {
     "name": "stdout",
     "output_type": "stream",
     "text": [
      "Results: mean: -169.0 +/- 137.8, min: -335.0 max: 66.0\n",
      "Total elapsed time: 26.68 minutes\n",
      "\n",
      "Epoch #10\n"
     ]
    },
    {
     "name": "stderr",
     "output_type": "stream",
     "text": [
      "                                                                                                                       \r"
     ]
    },
    {
     "name": "stdout",
     "output_type": "stream",
     "text": [
      "Results: mean: -189.2 +/- 147.1, min: -350.0, max: 62.0,\n",
      "\n",
      "Testing...\n"
     ]
    },
    {
     "name": "stderr",
     "output_type": "stream",
     "text": [
      "\u001b[32m[I 2023-05-05 08:10:02,426]\u001b[0m Trial 66 finished with value: -68.15 and parameters: {'learning_rate': 0.002251641128210083, 'batch_size': 128, 'replay_memory_size': 1000, 'discount_factor': 0.799043690182628, 'frame_repeat': 16, 'optimizer': 'Adam', 'epsilon_decay': 0.9935638424397019}. Best is trial 48 with value: 27.29.\u001b[0m\n"
     ]
    },
    {
     "name": "stdout",
     "output_type": "stream",
     "text": [
      "Results: mean: -68.2 +/- 141.9, min: -350.0 max: 66.0\n",
      "Total elapsed time: 29.36 minutes\n",
      "\n",
      "Learning rate: 0.0033337026220953236, Batch size: 128, Replay memory size: 3000,\n",
      "Discount factor: 0.8389824558323145, Frame repeat: 16, Optimizer: Adam, \n",
      "Epsilon decay: 0.9949856503041038\n",
      "\n",
      "Initializing doom...\n",
      "Doom initialized.\n",
      "Initializing New Model\n",
      "\n",
      "Epoch #1\n"
     ]
    },
    {
     "name": "stderr",
     "output_type": "stream",
     "text": [
      "                                                                                                                       \r"
     ]
    },
    {
     "name": "stdout",
     "output_type": "stream",
     "text": [
      "Results: mean: -243.0 +/- 121.0, min: -350.0, max: 62.0,\n",
      "\n",
      "Testing...\n"
     ]
    },
    {
     "name": "stderr",
     "output_type": "stream",
     "text": [
      "                                                                                                                       \r"
     ]
    },
    {
     "name": "stdout",
     "output_type": "stream",
     "text": [
      "Results: mean: -225.0 +/- 129.4, min: -315.0 max: 66.0\n",
      "Total elapsed time: 3.19 minutes\n",
      "\n",
      "Epoch #2\n"
     ]
    },
    {
     "name": "stderr",
     "output_type": "stream",
     "text": [
      "                                                                                                                       \r"
     ]
    },
    {
     "name": "stdout",
     "output_type": "stream",
     "text": [
      "Results: mean: -233.1 +/- 131.1, min: -355.0, max: 62.0,\n",
      "\n",
      "Testing...\n"
     ]
    },
    {
     "name": "stderr",
     "output_type": "stream",
     "text": [
      "                                                                                                                       \r"
     ]
    },
    {
     "name": "stdout",
     "output_type": "stream",
     "text": [
      "Results: mean: -196.5 +/- 144.1, min: -360.0 max: 66.0\n",
      "Total elapsed time: 6.25 minutes\n",
      "\n",
      "Epoch #3\n"
     ]
    },
    {
     "name": "stderr",
     "output_type": "stream",
     "text": [
      "                                                                                                                       \r"
     ]
    },
    {
     "name": "stdout",
     "output_type": "stream",
     "text": [
      "Results: mean: -133.3 +/- 158.2, min: -355.0, max: 62.0,\n",
      "\n",
      "Testing...\n"
     ]
    },
    {
     "name": "stderr",
     "output_type": "stream",
     "text": [
      "                                                                                                                       \r"
     ]
    },
    {
     "name": "stdout",
     "output_type": "stream",
     "text": [
      "Results: mean: -95.4 +/- 147.4, min: -340.0 max: 66.0\n",
      "Total elapsed time: 9.03 minutes\n",
      "\n",
      "Epoch #4\n"
     ]
    },
    {
     "name": "stderr",
     "output_type": "stream",
     "text": [
      "                                                                                                                       \r"
     ]
    },
    {
     "name": "stdout",
     "output_type": "stream",
     "text": [
      "Results: mean: -55.1 +/- 120.0, min: -350.0, max: 62.0,\n",
      "\n",
      "Testing...\n"
     ]
    },
    {
     "name": "stderr",
     "output_type": "stream",
     "text": [
      "                                                                                                                       \r"
     ]
    },
    {
     "name": "stdout",
     "output_type": "stream",
     "text": [
      "Results: mean: -78.1 +/- 135.3, min: -345.0 max: 66.0\n",
      "Total elapsed time: 11.76 minutes\n",
      "\n",
      "Epoch #5\n"
     ]
    },
    {
     "name": "stderr",
     "output_type": "stream",
     "text": [
      "                                                                                                                       \r"
     ]
    },
    {
     "name": "stdout",
     "output_type": "stream",
     "text": [
      "Results: mean: -29.2 +/- 101.2, min: -355.0, max: 62.0,\n",
      "\n",
      "Testing...\n"
     ]
    },
    {
     "name": "stderr",
     "output_type": "stream",
     "text": [
      "                                                                                                                       \r"
     ]
    },
    {
     "name": "stdout",
     "output_type": "stream",
     "text": [
      "Results: mean: -50.1 +/- 108.3, min: -360.0 max: 66.0\n",
      "Total elapsed time: 14.43 minutes\n",
      "\n",
      "Epoch #6\n"
     ]
    },
    {
     "name": "stderr",
     "output_type": "stream",
     "text": [
      "                                                                                                                       \r"
     ]
    },
    {
     "name": "stdout",
     "output_type": "stream",
     "text": [
      "Results: mean: -16.8 +/- 91.0, min: -350.0, max: 62.0,\n",
      "\n",
      "Testing...\n"
     ]
    },
    {
     "name": "stderr",
     "output_type": "stream",
     "text": [
      "                                                                                                                       \r"
     ]
    },
    {
     "name": "stdout",
     "output_type": "stream",
     "text": [
      "Results: mean: -6.5 +/- 68.3, min: -320.0 max: 66.0\n",
      "Total elapsed time: 16.95 minutes\n",
      "\n",
      "Epoch #7\n"
     ]
    },
    {
     "name": "stderr",
     "output_type": "stream",
     "text": [
      "                                                                                                                       \r"
     ]
    },
    {
     "name": "stdout",
     "output_type": "stream",
     "text": [
      "Results: mean: -13.0 +/- 98.0, min: -365.0, max: 62.0,\n",
      "\n",
      "Testing...\n"
     ]
    },
    {
     "name": "stderr",
     "output_type": "stream",
     "text": [
      "                                                                                                                       \r"
     ]
    },
    {
     "name": "stdout",
     "output_type": "stream",
     "text": [
      "Results: mean: -13.5 +/- 97.5, min: -360.0 max: 66.0\n",
      "Total elapsed time: 19.47 minutes\n",
      "\n",
      "Epoch #8\n"
     ]
    },
    {
     "name": "stderr",
     "output_type": "stream",
     "text": [
      "                                                                                                                       \r"
     ]
    },
    {
     "name": "stdout",
     "output_type": "stream",
     "text": [
      "Results: mean: -37.3 +/- 94.9, min: -355.0, max: 62.0,\n",
      "\n",
      "Testing...\n"
     ]
    },
    {
     "name": "stderr",
     "output_type": "stream",
     "text": [
      "                                                                                                                       \r"
     ]
    },
    {
     "name": "stdout",
     "output_type": "stream",
     "text": [
      "Results: mean: -20.3 +/- 88.2, min: -365.0 max: 66.0\n",
      "Total elapsed time: 22.03 minutes\n",
      "\n",
      "Epoch #9\n"
     ]
    },
    {
     "name": "stderr",
     "output_type": "stream",
     "text": [
      "                                                                                                                       \r"
     ]
    },
    {
     "name": "stdout",
     "output_type": "stream",
     "text": [
      "Results: mean: -25.2 +/- 99.5, min: -355.0, max: 62.0,\n",
      "\n",
      "Testing...\n"
     ]
    },
    {
     "name": "stderr",
     "output_type": "stream",
     "text": [
      "                                                                                                                       \r"
     ]
    },
    {
     "name": "stdout",
     "output_type": "stream",
     "text": [
      "Results: mean: -11.7 +/- 82.0, min: -360.0 max: 66.0\n",
      "Total elapsed time: 24.57 minutes\n",
      "\n",
      "Epoch #10\n"
     ]
    },
    {
     "name": "stderr",
     "output_type": "stream",
     "text": [
      "                                                                                                                       \r"
     ]
    },
    {
     "name": "stdout",
     "output_type": "stream",
     "text": [
      "Results: mean: -15.9 +/- 95.4, min: -360.0, max: 62.0,\n",
      "\n",
      "Testing...\n"
     ]
    },
    {
     "name": "stderr",
     "output_type": "stream",
     "text": [
      "\u001b[32m[I 2023-05-05 08:37:05,442]\u001b[0m Trial 67 finished with value: -0.71 and parameters: {'learning_rate': 0.0033337026220953236, 'batch_size': 128, 'replay_memory_size': 3000, 'discount_factor': 0.8389824558323145, 'frame_repeat': 16, 'optimizer': 'Adam', 'epsilon_decay': 0.9949856503041038}. Best is trial 48 with value: 27.29.\u001b[0m\n"
     ]
    },
    {
     "name": "stdout",
     "output_type": "stream",
     "text": [
      "Results: mean: -0.7 +/- 78.3, min: -360.0 max: 66.0\n",
      "Total elapsed time: 27.04 minutes\n",
      "\n",
      "Learning rate: 0.004254861629949604, Batch size: 128, Replay memory size: 4000,\n",
      "Discount factor: 0.9762394298660567, Frame repeat: 16, Optimizer: SGD, \n",
      "Epsilon decay: 0.9943079714104097\n",
      "\n",
      "Initializing doom...\n",
      "Doom initialized.\n",
      "Initializing New Model\n",
      "\n",
      "Epoch #1\n"
     ]
    },
    {
     "name": "stderr",
     "output_type": "stream",
     "text": [
      "                                                                                                                       \r"
     ]
    },
    {
     "name": "stdout",
     "output_type": "stream",
     "text": [
      "Results: mean: -280.1 +/- 83.3, min: -355.0, max: 30.0,\n",
      "\n",
      "Testing...\n"
     ]
    },
    {
     "name": "stderr",
     "output_type": "stream",
     "text": [
      "                                                                                                                       \r"
     ]
    },
    {
     "name": "stdout",
     "output_type": "stream",
     "text": [
      "Results: mean: -301.9 +/- 37.3, min: -320.0 max: 66.0\n",
      "Total elapsed time: 3.32 minutes\n",
      "\n",
      "Epoch #2\n"
     ]
    },
    {
     "name": "stderr",
     "output_type": "stream",
     "text": [
      "                                                                                                                       \r"
     ]
    },
    {
     "name": "stdout",
     "output_type": "stream",
     "text": [
      "Results: mean: -211.4 +/- 153.0, min: -355.0, max: 62.0,\n",
      "\n",
      "Testing...\n"
     ]
    },
    {
     "name": "stderr",
     "output_type": "stream",
     "text": [
      "                                                                                                                       \r"
     ]
    },
    {
     "name": "stdout",
     "output_type": "stream",
     "text": [
      "Results: mean: -256.8 +/- 113.1, min: -325.0 max: 66.0\n",
      "Total elapsed time: 6.51 minutes\n",
      "\n",
      "Epoch #3\n"
     ]
    },
    {
     "name": "stderr",
     "output_type": "stream",
     "text": [
      "                                                                                                                       \r"
     ]
    },
    {
     "name": "stdout",
     "output_type": "stream",
     "text": [
      "Results: mean: -204.5 +/- 145.8, min: -365.0, max: 62.0,\n",
      "\n",
      "Testing...\n"
     ]
    },
    {
     "name": "stderr",
     "output_type": "stream",
     "text": [
      "                                                                                                                       \r"
     ]
    },
    {
     "name": "stdout",
     "output_type": "stream",
     "text": [
      "Results: mean: -215.3 +/- 131.4, min: -345.0 max: 54.0\n",
      "Total elapsed time: 9.57 minutes\n",
      "\n",
      "Epoch #4\n"
     ]
    },
    {
     "name": "stderr",
     "output_type": "stream",
     "text": [
      "                                                                                                                       \r"
     ]
    },
    {
     "name": "stdout",
     "output_type": "stream",
     "text": [
      "Results: mean: -74.7 +/- 133.6, min: -365.0, max: 62.0,\n",
      "\n",
      "Testing...\n"
     ]
    },
    {
     "name": "stderr",
     "output_type": "stream",
     "text": [
      "                                                                                                                       \r"
     ]
    },
    {
     "name": "stdout",
     "output_type": "stream",
     "text": [
      "Results: mean: -76.2 +/- 134.1, min: -365.0 max: 66.0\n",
      "Total elapsed time: 12.22 minutes\n",
      "\n",
      "Epoch #5\n"
     ]
    },
    {
     "name": "stderr",
     "output_type": "stream",
     "text": [
      "                                                                                                                       \r"
     ]
    },
    {
     "name": "stdout",
     "output_type": "stream",
     "text": [
      "Results: mean: -54.9 +/- 117.0, min: -365.0, max: 62.0,\n",
      "\n",
      "Testing...\n"
     ]
    },
    {
     "name": "stderr",
     "output_type": "stream",
     "text": [
      "                                                                                                                       \r"
     ]
    },
    {
     "name": "stdout",
     "output_type": "stream",
     "text": [
      "Results: mean: -111.0 +/- 152.8, min: -365.0 max: 66.0\n",
      "Total elapsed time: 14.96 minutes\n",
      "\n",
      "Epoch #6\n"
     ]
    },
    {
     "name": "stderr",
     "output_type": "stream",
     "text": [
      "                                                                                                                       \r"
     ]
    },
    {
     "name": "stdout",
     "output_type": "stream",
     "text": [
      "Results: mean: -72.7 +/- 151.2, min: -370.0, max: 62.0,\n",
      "\n",
      "Testing...\n"
     ]
    },
    {
     "name": "stderr",
     "output_type": "stream",
     "text": [
      "                                                                                                                       \r"
     ]
    },
    {
     "name": "stdout",
     "output_type": "stream",
     "text": [
      "Results: mean: -22.8 +/- 108.8, min: -355.0 max: 54.0\n",
      "Total elapsed time: 17.44 minutes\n",
      "\n",
      "Epoch #7\n"
     ]
    },
    {
     "name": "stderr",
     "output_type": "stream",
     "text": [
      "                                                                                                                       \r"
     ]
    },
    {
     "name": "stdout",
     "output_type": "stream",
     "text": [
      "Results: mean: -162.3 +/- 154.9, min: -365.0, max: 62.0,\n",
      "\n",
      "Testing...\n"
     ]
    },
    {
     "name": "stderr",
     "output_type": "stream",
     "text": [
      "                                                                                                                       \r"
     ]
    },
    {
     "name": "stdout",
     "output_type": "stream",
     "text": [
      "Results: mean: -259.5 +/- 118.1, min: -370.0 max: 66.0\n",
      "Total elapsed time: 20.60 minutes\n",
      "\n",
      "Epoch #8\n"
     ]
    },
    {
     "name": "stderr",
     "output_type": "stream",
     "text": [
      "                                                                                                                       \r"
     ]
    },
    {
     "name": "stdout",
     "output_type": "stream",
     "text": [
      "Results: mean: -262.0 +/- 123.9, min: -370.0, max: 46.0,\n",
      "\n",
      "Testing...\n"
     ]
    },
    {
     "name": "stderr",
     "output_type": "stream",
     "text": [
      "                                                                                                                       \r"
     ]
    },
    {
     "name": "stdout",
     "output_type": "stream",
     "text": [
      "Results: mean: -323.8 +/- 57.1, min: -370.0 max: 42.0\n",
      "Total elapsed time: 23.90 minutes\n",
      "\n",
      "Epoch #9\n"
     ]
    },
    {
     "name": "stderr",
     "output_type": "stream",
     "text": [
      "                                                                                                                       \r"
     ]
    },
    {
     "name": "stdout",
     "output_type": "stream",
     "text": [
      "Results: mean: -246.6 +/- 136.6, min: -370.0, max: 62.0,\n",
      "\n",
      "Testing...\n"
     ]
    },
    {
     "name": "stderr",
     "output_type": "stream",
     "text": [
      "                                                                                                                       \r"
     ]
    },
    {
     "name": "stdout",
     "output_type": "stream",
     "text": [
      "Results: mean: -251.8 +/- 129.2, min: -370.0 max: 66.0\n",
      "Total elapsed time: 27.04 minutes\n",
      "\n",
      "Epoch #10\n"
     ]
    },
    {
     "name": "stderr",
     "output_type": "stream",
     "text": [
      "                                                                                                                       \r"
     ]
    },
    {
     "name": "stdout",
     "output_type": "stream",
     "text": [
      "Results: mean: -215.3 +/- 153.9, min: -370.0, max: 62.0,\n",
      "\n",
      "Testing...\n"
     ]
    },
    {
     "name": "stderr",
     "output_type": "stream",
     "text": [
      "\u001b[32m[I 2023-05-05 09:07:15,072]\u001b[0m Trial 68 finished with value: -227.62 and parameters: {'learning_rate': 0.004254861629949604, 'batch_size': 128, 'replay_memory_size': 4000, 'discount_factor': 0.9762394298660567, 'frame_repeat': 16, 'optimizer': 'SGD', 'epsilon_decay': 0.9943079714104097}. Best is trial 48 with value: 27.29.\u001b[0m\n"
     ]
    },
    {
     "name": "stdout",
     "output_type": "stream",
     "text": [
      "Results: mean: -227.6 +/- 123.5, min: -320.0 max: 54.0\n",
      "Total elapsed time: 30.15 minutes\n",
      "\n",
      "Learning rate: 0.0017176944441324351, Batch size: 128, Replay memory size: 5000,\n",
      "Discount factor: 0.8824461088400544, Frame repeat: 8, Optimizer: Adam, \n",
      "Epsilon decay: 0.9957255229527066\n",
      "\n",
      "Initializing doom...\n",
      "Doom initialized.\n",
      "Initializing New Model\n",
      "\n",
      "Epoch #1\n"
     ]
    },
    {
     "name": "stderr",
     "output_type": "stream",
     "text": [
      "                                                                                                                       \r"
     ]
    },
    {
     "name": "stdout",
     "output_type": "stream",
     "text": [
      "Results: mean: -213.2 +/- 159.4, min: -370.0, max: 70.0,\n",
      "\n",
      "Testing...\n"
     ]
    },
    {
     "name": "stderr",
     "output_type": "stream",
     "text": [
      "                                                                                                                       \r"
     ]
    },
    {
     "name": "stdout",
     "output_type": "stream",
     "text": [
      "Results: mean: -284.6 +/- 74.6, min: -360.0 max: 42.0\n",
      "Total elapsed time: 3.34 minutes\n",
      "\n",
      "Epoch #2\n"
     ]
    },
    {
     "name": "stderr",
     "output_type": "stream",
     "text": [
      "                                                                                                                       \r"
     ]
    },
    {
     "name": "stdout",
     "output_type": "stream",
     "text": [
      "Results: mean: -212.1 +/- 141.0, min: -355.0, max: 70.0,\n",
      "\n",
      "Testing...\n"
     ]
    },
    {
     "name": "stderr",
     "output_type": "stream",
     "text": [
      "                                                                                                                       \r"
     ]
    },
    {
     "name": "stdout",
     "output_type": "stream",
     "text": [
      "Results: mean: -219.8 +/- 138.3, min: -325.0 max: 66.0\n",
      "Total elapsed time: 6.47 minutes\n",
      "\n",
      "Epoch #3\n"
     ]
    },
    {
     "name": "stderr",
     "output_type": "stream",
     "text": [
      "                                                                                                                       \r"
     ]
    },
    {
     "name": "stdout",
     "output_type": "stream",
     "text": [
      "Results: mean: -60.9 +/- 142.9, min: -355.0, max: 70.0,\n",
      "\n",
      "Testing...\n"
     ]
    },
    {
     "name": "stderr",
     "output_type": "stream",
     "text": [
      "                                                                                                                       \r"
     ]
    },
    {
     "name": "stdout",
     "output_type": "stream",
     "text": [
      "Results: mean: -134.2 +/- 151.4, min: -345.0 max: 66.0\n",
      "Total elapsed time: 9.36 minutes\n",
      "\n",
      "Epoch #4\n"
     ]
    },
    {
     "name": "stderr",
     "output_type": "stream",
     "text": [
      "                                                                                                                       \r"
     ]
    },
    {
     "name": "stdout",
     "output_type": "stream",
     "text": [
      "Results: mean: -53.5 +/- 146.4, min: -355.0, max: 70.0,\n",
      "\n",
      "Testing...\n"
     ]
    },
    {
     "name": "stderr",
     "output_type": "stream",
     "text": [
      "                                                                                                                       \r"
     ]
    },
    {
     "name": "stdout",
     "output_type": "stream",
     "text": [
      "Results: mean: -65.5 +/- 163.2, min: -340.0 max: 66.0\n",
      "Total elapsed time: 12.02 minutes\n",
      "\n",
      "Epoch #5\n"
     ]
    },
    {
     "name": "stderr",
     "output_type": "stream",
     "text": [
      "                                                                                                                       \r"
     ]
    },
    {
     "name": "stdout",
     "output_type": "stream",
     "text": [
      "Results: mean: 12.6 +/- 95.7, min: -360.0, max: 70.0,\n",
      "\n",
      "Testing...\n"
     ]
    },
    {
     "name": "stderr",
     "output_type": "stream",
     "text": [
      "                                                                                                                       \r"
     ]
    },
    {
     "name": "stdout",
     "output_type": "stream",
     "text": [
      "Results: mean: -28.1 +/- 102.1, min: -335.0 max: 66.0\n",
      "Total elapsed time: 14.60 minutes\n",
      "\n",
      "Epoch #6\n"
     ]
    },
    {
     "name": "stderr",
     "output_type": "stream",
     "text": [
      "                                                                                                                       \r"
     ]
    },
    {
     "name": "stdout",
     "output_type": "stream",
     "text": [
      "Results: mean: 23.6 +/- 66.3, min: -335.0, max: 70.0,\n",
      "\n",
      "Testing...\n"
     ]
    },
    {
     "name": "stderr",
     "output_type": "stream",
     "text": [
      "                                                                                                                       \r"
     ]
    },
    {
     "name": "stdout",
     "output_type": "stream",
     "text": [
      "Results: mean: 15.9 +/- 82.3, min: -340.0 max: 66.0\n",
      "Total elapsed time: 17.02 minutes\n",
      "\n",
      "Epoch #7\n"
     ]
    },
    {
     "name": "stderr",
     "output_type": "stream",
     "text": [
      "                                                                                                                       \r"
     ]
    },
    {
     "name": "stdout",
     "output_type": "stream",
     "text": [
      "Results: mean: 37.7 +/- 54.1, min: -355.0, max: 70.0,\n",
      "\n",
      "Testing...\n"
     ]
    },
    {
     "name": "stderr",
     "output_type": "stream",
     "text": [
      "                                                                                                                       \r"
     ]
    },
    {
     "name": "stdout",
     "output_type": "stream",
     "text": [
      "Results: mean: -13.8 +/- 96.7, min: -360.0 max: 66.0\n",
      "Total elapsed time: 19.53 minutes\n",
      "\n",
      "Epoch #8\n"
     ]
    },
    {
     "name": "stderr",
     "output_type": "stream",
     "text": [
      "                                                                                                                       \r"
     ]
    },
    {
     "name": "stdout",
     "output_type": "stream",
     "text": [
      "Results: mean: 43.4 +/- 59.7, min: -370.0, max: 70.0,\n",
      "\n",
      "Testing...\n"
     ]
    },
    {
     "name": "stderr",
     "output_type": "stream",
     "text": [
      "                                                                                                                       \r"
     ]
    },
    {
     "name": "stdout",
     "output_type": "stream",
     "text": [
      "Results: mean: -81.4 +/- 111.5, min: -340.0 max: 66.0\n",
      "Total elapsed time: 22.30 minutes\n",
      "\n",
      "Epoch #9\n"
     ]
    },
    {
     "name": "stderr",
     "output_type": "stream",
     "text": [
      "                                                                                                                       \r"
     ]
    },
    {
     "name": "stdout",
     "output_type": "stream",
     "text": [
      "Results: mean: 49.6 +/- 32.7, min: -185.0, max: 70.0,\n",
      "\n",
      "Testing...\n"
     ]
    },
    {
     "name": "stderr",
     "output_type": "stream",
     "text": [
      "                                                                                                                       \r"
     ]
    },
    {
     "name": "stdout",
     "output_type": "stream",
     "text": [
      "Results: mean: 3.6 +/- 54.0, min: -340.0 max: 66.0\n",
      "Total elapsed time: 24.77 minutes\n",
      "\n",
      "Epoch #10\n"
     ]
    },
    {
     "name": "stderr",
     "output_type": "stream",
     "text": [
      "                                                                                                                       \r"
     ]
    },
    {
     "name": "stdout",
     "output_type": "stream",
     "text": [
      "Results: mean: 42.1 +/- 47.4, min: -370.0, max: 70.0,\n",
      "\n",
      "Testing...\n"
     ]
    },
    {
     "name": "stderr",
     "output_type": "stream",
     "text": [
      "\u001b[32m[I 2023-05-05 09:34:30,790]\u001b[0m Trial 69 finished with value: 3.56 and parameters: {'learning_rate': 0.0017176944441324351, 'batch_size': 128, 'replay_memory_size': 5000, 'discount_factor': 0.8824461088400544, 'frame_repeat': 8, 'optimizer': 'Adam', 'epsilon_decay': 0.9957255229527066}. Best is trial 48 with value: 27.29.\u001b[0m\n"
     ]
    },
    {
     "name": "stdout",
     "output_type": "stream",
     "text": [
      "Results: mean: 3.6 +/- 62.2, min: -300.0 max: 66.0\n",
      "Total elapsed time: 27.25 minutes\n",
      "\n",
      "Learning rate: 0.0024638232831030336, Batch size: 128, Replay memory size: 3000,\n",
      "Discount factor: 0.7553638203674963, Frame repeat: 16, Optimizer: SGD, \n",
      "Epsilon decay: 0.9953639768883635\n",
      "\n",
      "Initializing doom...\n",
      "Doom initialized.\n",
      "Initializing New Model\n",
      "\n",
      "Epoch #1\n"
     ]
    },
    {
     "name": "stderr",
     "output_type": "stream",
     "text": [
      "                                                                                                                       \r"
     ]
    },
    {
     "name": "stdout",
     "output_type": "stream",
     "text": [
      "Results: mean: -280.4 +/- 83.3, min: -345.0, max: 46.0,\n",
      "\n",
      "Testing...\n"
     ]
    },
    {
     "name": "stderr",
     "output_type": "stream",
     "text": [
      "                                                                                                                       \r"
     ]
    },
    {
     "name": "stdout",
     "output_type": "stream",
     "text": [
      "Results: mean: -300.3 +/- 37.0, min: -325.0 max: 6.0\n",
      "Total elapsed time: 3.33 minutes\n",
      "\n",
      "Epoch #2\n"
     ]
    },
    {
     "name": "stderr",
     "output_type": "stream",
     "text": [
      "                                                                                                                       \r"
     ]
    },
    {
     "name": "stdout",
     "output_type": "stream",
     "text": [
      "Results: mean: -199.3 +/- 146.5, min: -360.0, max: 62.0,\n",
      "\n",
      "Testing...\n"
     ]
    },
    {
     "name": "stderr",
     "output_type": "stream",
     "text": [
      "                                                                                                                       \r"
     ]
    },
    {
     "name": "stdout",
     "output_type": "stream",
     "text": [
      "Results: mean: -249.8 +/- 123.1, min: -340.0 max: 54.0\n",
      "Total elapsed time: 6.48 minutes\n",
      "\n",
      "Epoch #3\n"
     ]
    },
    {
     "name": "stderr",
     "output_type": "stream",
     "text": [
      "                                                                                                                       \r"
     ]
    },
    {
     "name": "stdout",
     "output_type": "stream",
     "text": [
      "Results: mean: -146.1 +/- 148.5, min: -360.0, max: 62.0,\n",
      "\n",
      "Testing...\n"
     ]
    },
    {
     "name": "stderr",
     "output_type": "stream",
     "text": [
      "                                                                                                                       \r"
     ]
    },
    {
     "name": "stdout",
     "output_type": "stream",
     "text": [
      "Results: mean: -76.8 +/- 147.6, min: -370.0 max: 66.0\n",
      "Total elapsed time: 9.12 minutes\n",
      "\n",
      "Epoch #4\n"
     ]
    },
    {
     "name": "stderr",
     "output_type": "stream",
     "text": [
      "                                                                                                                       \r"
     ]
    },
    {
     "name": "stdout",
     "output_type": "stream",
     "text": [
      "Results: mean: -7.3 +/- 98.2, min: -365.0, max: 62.0,\n",
      "\n",
      "Testing...\n"
     ]
    },
    {
     "name": "stderr",
     "output_type": "stream",
     "text": [
      "                                                                                                                       \r"
     ]
    },
    {
     "name": "stdout",
     "output_type": "stream",
     "text": [
      "Results: mean: 1.0 +/- 68.1, min: -360.0 max: 66.0\n",
      "Total elapsed time: 11.53 minutes\n",
      "\n",
      "Epoch #5\n"
     ]
    },
    {
     "name": "stderr",
     "output_type": "stream",
     "text": [
      "                                                                                                                       \r"
     ]
    },
    {
     "name": "stdout",
     "output_type": "stream",
     "text": [
      "Results: mean: -15.1 +/- 96.5, min: -360.0, max: 62.0,\n",
      "\n",
      "Testing...\n"
     ]
    },
    {
     "name": "stderr",
     "output_type": "stream",
     "text": [
      "                                                                                                                       \r"
     ]
    },
    {
     "name": "stdout",
     "output_type": "stream",
     "text": [
      "Results: mean: -10.5 +/- 81.1, min: -365.0 max: 66.0\n",
      "Total elapsed time: 13.96 minutes\n",
      "\n",
      "Epoch #6\n"
     ]
    },
    {
     "name": "stderr",
     "output_type": "stream",
     "text": [
      "                                                                                                                       \r"
     ]
    },
    {
     "name": "stdout",
     "output_type": "stream",
     "text": [
      "Results: mean: 5.9 +/- 81.9, min: -365.0, max: 62.0,\n",
      "\n",
      "Testing...\n"
     ]
    },
    {
     "name": "stderr",
     "output_type": "stream",
     "text": [
      "                                                                                                                       \r"
     ]
    },
    {
     "name": "stdout",
     "output_type": "stream",
     "text": [
      "Results: mean: -63.3 +/- 106.7, min: -355.0 max: 66.0\n",
      "Total elapsed time: 16.54 minutes\n",
      "\n",
      "Epoch #7\n"
     ]
    },
    {
     "name": "stderr",
     "output_type": "stream",
     "text": [
      "                                                                                                                       \r"
     ]
    },
    {
     "name": "stdout",
     "output_type": "stream",
     "text": [
      "Results: mean: 2.6 +/- 90.9, min: -350.0, max: 62.0,\n",
      "\n",
      "Testing...\n"
     ]
    },
    {
     "name": "stderr",
     "output_type": "stream",
     "text": [
      "                                                                                                                       \r"
     ]
    },
    {
     "name": "stdout",
     "output_type": "stream",
     "text": [
      "Results: mean: -27.9 +/- 88.9, min: -325.0 max: 66.0\n",
      "Total elapsed time: 19.30 minutes\n",
      "\n",
      "Epoch #8\n"
     ]
    },
    {
     "name": "stderr",
     "output_type": "stream",
     "text": [
      "                                                                                                                       \r"
     ]
    },
    {
     "name": "stdout",
     "output_type": "stream",
     "text": [
      "Results: mean: 12.6 +/- 83.5, min: -365.0, max: 62.0,\n",
      "\n",
      "Testing...\n"
     ]
    },
    {
     "name": "stderr",
     "output_type": "stream",
     "text": [
      "                                                                                                                       \r"
     ]
    },
    {
     "name": "stdout",
     "output_type": "stream",
     "text": [
      "Results: mean: -34.9 +/- 93.9, min: -340.0 max: 66.0\n",
      "Total elapsed time: 22.36 minutes\n",
      "\n",
      "Epoch #9\n"
     ]
    },
    {
     "name": "stderr",
     "output_type": "stream",
     "text": [
      "                                                                                                                       \r"
     ]
    },
    {
     "name": "stdout",
     "output_type": "stream",
     "text": [
      "Results: mean: 9.6 +/- 71.5, min: -365.0, max: 62.0,\n",
      "\n",
      "Testing...\n"
     ]
    },
    {
     "name": "stderr",
     "output_type": "stream",
     "text": [
      "                                                                                                                       \r"
     ]
    },
    {
     "name": "stdout",
     "output_type": "stream",
     "text": [
      "Results: mean: -23.2 +/- 100.2, min: -365.0 max: 66.0\n",
      "Total elapsed time: 25.61 minutes\n",
      "\n",
      "Epoch #10\n"
     ]
    },
    {
     "name": "stderr",
     "output_type": "stream",
     "text": [
      "                                                                                                                       \r"
     ]
    },
    {
     "name": "stdout",
     "output_type": "stream",
     "text": [
      "Results: mean: -9.8 +/- 94.7, min: -370.0, max: 62.0,\n",
      "\n",
      "Testing...\n"
     ]
    },
    {
     "name": "stderr",
     "output_type": "stream",
     "text": [
      "\u001b[32m[I 2023-05-05 10:02:52,863]\u001b[0m Trial 70 finished with value: -30.7 and parameters: {'learning_rate': 0.0024638232831030336, 'batch_size': 128, 'replay_memory_size': 3000, 'discount_factor': 0.7553638203674963, 'frame_repeat': 16, 'optimizer': 'SGD', 'epsilon_decay': 0.9953639768883635}. Best is trial 48 with value: 27.29.\u001b[0m\n"
     ]
    },
    {
     "name": "stdout",
     "output_type": "stream",
     "text": [
      "Results: mean: -30.7 +/- 104.5, min: -370.0 max: 66.0\n",
      "Total elapsed time: 28.36 minutes\n",
      "\n",
      "Learning rate: 0.0028325273841125456, Batch size: 128, Replay memory size: 2000,\n",
      "Discount factor: 0.9077431678312142, Frame repeat: 16, Optimizer: Adam, \n",
      "Epsilon decay: 0.9945931133216699\n",
      "\n",
      "Initializing doom...\n",
      "Doom initialized.\n",
      "Initializing New Model\n",
      "\n",
      "Epoch #1\n"
     ]
    },
    {
     "name": "stderr",
     "output_type": "stream",
     "text": [
      "                                                                                                                       \r"
     ]
    },
    {
     "name": "stdout",
     "output_type": "stream",
     "text": [
      "Results: mean: -241.0 +/- 127.3, min: -360.0, max: 62.0,\n",
      "\n",
      "Testing...\n"
     ]
    },
    {
     "name": "stderr",
     "output_type": "stream",
     "text": [
      "                                                                                                                       \r"
     ]
    },
    {
     "name": "stdout",
     "output_type": "stream",
     "text": [
      "Results: mean: -265.3 +/- 100.7, min: -325.0 max: 54.0\n",
      "Total elapsed time: 3.31 minutes\n",
      "\n",
      "Epoch #2\n"
     ]
    },
    {
     "name": "stderr",
     "output_type": "stream",
     "text": [
      "                                                                                                                       \r"
     ]
    },
    {
     "name": "stdout",
     "output_type": "stream",
     "text": [
      "Results: mean: -215.7 +/- 137.5, min: -365.0, max: 62.0,\n",
      "\n",
      "Testing...\n"
     ]
    },
    {
     "name": "stderr",
     "output_type": "stream",
     "text": [
      "                                                                                                                       \r"
     ]
    },
    {
     "name": "stdout",
     "output_type": "stream",
     "text": [
      "Results: mean: -231.6 +/- 129.1, min: -350.0 max: 66.0\n",
      "Total elapsed time: 6.52 minutes\n",
      "\n",
      "Epoch #3\n"
     ]
    },
    {
     "name": "stderr",
     "output_type": "stream",
     "text": [
      "                                                                                                                       \r"
     ]
    },
    {
     "name": "stdout",
     "output_type": "stream",
     "text": [
      "Results: mean: -131.5 +/- 147.4, min: -340.0, max: 62.0,\n",
      "\n",
      "Testing...\n"
     ]
    },
    {
     "name": "stderr",
     "output_type": "stream",
     "text": [
      "                                                                                                                       \r"
     ]
    },
    {
     "name": "stdout",
     "output_type": "stream",
     "text": [
      "Results: mean: -202.1 +/- 133.8, min: -335.0 max: 66.0\n",
      "Total elapsed time: 9.68 minutes\n",
      "\n",
      "Epoch #4\n"
     ]
    },
    {
     "name": "stderr",
     "output_type": "stream",
     "text": [
      "                                                                                                                       \r"
     ]
    },
    {
     "name": "stdout",
     "output_type": "stream",
     "text": [
      "Results: mean: -108.0 +/- 135.5, min: -365.0, max: 62.0,\n",
      "\n",
      "Testing...\n"
     ]
    },
    {
     "name": "stderr",
     "output_type": "stream",
     "text": [
      "                                                                                                                       \r"
     ]
    },
    {
     "name": "stdout",
     "output_type": "stream",
     "text": [
      "Results: mean: -70.9 +/- 123.8, min: -360.0 max: 66.0\n",
      "Total elapsed time: 12.39 minutes\n",
      "\n",
      "Epoch #5\n"
     ]
    },
    {
     "name": "stderr",
     "output_type": "stream",
     "text": [
      "                                                                                                                       \r"
     ]
    },
    {
     "name": "stdout",
     "output_type": "stream",
     "text": [
      "Results: mean: -78.5 +/- 137.2, min: -365.0, max: 62.0,\n",
      "\n",
      "Testing...\n"
     ]
    },
    {
     "name": "stderr",
     "output_type": "stream",
     "text": [
      "                                                                                                                       \r"
     ]
    },
    {
     "name": "stdout",
     "output_type": "stream",
     "text": [
      "Results: mean: -50.7 +/- 118.1, min: -360.0 max: 66.0\n",
      "Total elapsed time: 15.04 minutes\n",
      "\n",
      "Epoch #6\n"
     ]
    },
    {
     "name": "stderr",
     "output_type": "stream",
     "text": [
      "                                                                                                                       \r"
     ]
    },
    {
     "name": "stdout",
     "output_type": "stream",
     "text": [
      "Results: mean: -74.9 +/- 139.1, min: -370.0, max: 62.0,\n",
      "\n",
      "Testing...\n"
     ]
    },
    {
     "name": "stderr",
     "output_type": "stream",
     "text": [
      "                                                                                                                       \r"
     ]
    },
    {
     "name": "stdout",
     "output_type": "stream",
     "text": [
      "Results: mean: -86.8 +/- 130.5, min: -365.0 max: 66.0\n",
      "Total elapsed time: 17.83 minutes\n",
      "\n",
      "Epoch #7\n"
     ]
    },
    {
     "name": "stderr",
     "output_type": "stream",
     "text": [
      "                                                                                                                       \r"
     ]
    },
    {
     "name": "stdout",
     "output_type": "stream",
     "text": [
      "Results: mean: -36.3 +/- 119.6, min: -370.0, max: 62.0,\n",
      "\n",
      "Testing...\n"
     ]
    },
    {
     "name": "stderr",
     "output_type": "stream",
     "text": [
      "                                                                                                                       \r"
     ]
    },
    {
     "name": "stdout",
     "output_type": "stream",
     "text": [
      "Results: mean: -16.5 +/- 103.1, min: -365.0 max: 66.0\n",
      "Total elapsed time: 21.09 minutes\n",
      "\n",
      "Epoch #8\n"
     ]
    },
    {
     "name": "stderr",
     "output_type": "stream",
     "text": [
      "                                                                                                                       \r"
     ]
    },
    {
     "name": "stdout",
     "output_type": "stream",
     "text": [
      "Results: mean: -25.0 +/- 96.3, min: -360.0, max: 62.0,\n",
      "\n",
      "Testing...\n"
     ]
    },
    {
     "name": "stderr",
     "output_type": "stream",
     "text": [
      "                                                                                                                       \r"
     ]
    },
    {
     "name": "stdout",
     "output_type": "stream",
     "text": [
      "Results: mean: -42.1 +/- 101.3, min: -370.0 max: 66.0\n",
      "Total elapsed time: 24.20 minutes\n",
      "\n",
      "Epoch #9\n"
     ]
    },
    {
     "name": "stderr",
     "output_type": "stream",
     "text": [
      "                                                                                                                       \r"
     ]
    },
    {
     "name": "stdout",
     "output_type": "stream",
     "text": [
      "Results: mean: -11.8 +/- 86.0, min: -365.0, max: 62.0,\n",
      "\n",
      "Testing...\n"
     ]
    },
    {
     "name": "stderr",
     "output_type": "stream",
     "text": [
      "                                                                                                                       \r"
     ]
    },
    {
     "name": "stdout",
     "output_type": "stream",
     "text": [
      "Results: mean: 23.8 +/- 68.5, min: -360.0 max: 66.0\n",
      "Total elapsed time: 26.88 minutes\n",
      "\n",
      "Epoch #10\n"
     ]
    },
    {
     "name": "stderr",
     "output_type": "stream",
     "text": [
      "                                                                                                                       \r"
     ]
    },
    {
     "name": "stdout",
     "output_type": "stream",
     "text": [
      "Results: mean: -33.5 +/- 105.1, min: -360.0, max: 62.0,\n",
      "\n",
      "Testing...\n"
     ]
    },
    {
     "name": "stderr",
     "output_type": "stream",
     "text": [
      "\u001b[32m[I 2023-05-05 10:32:49,734]\u001b[0m Trial 71 finished with value: -56.05 and parameters: {'learning_rate': 0.0028325273841125456, 'batch_size': 128, 'replay_memory_size': 2000, 'discount_factor': 0.9077431678312142, 'frame_repeat': 16, 'optimizer': 'Adam', 'epsilon_decay': 0.9945931133216699}. Best is trial 48 with value: 27.29.\u001b[0m\n"
     ]
    },
    {
     "name": "stdout",
     "output_type": "stream",
     "text": [
      "Results: mean: -56.0 +/- 115.6, min: -370.0 max: 66.0\n",
      "Total elapsed time: 29.94 minutes\n",
      "\n",
      "Learning rate: 0.0021657540993081756, Batch size: 128, Replay memory size: 3000,\n",
      "Discount factor: 0.9569918934224875, Frame repeat: 16, Optimizer: Adam, \n",
      "Epsilon decay: 0.9944151299498628\n",
      "\n",
      "Initializing doom...\n",
      "Doom initialized.\n",
      "Initializing New Model\n",
      "\n",
      "Epoch #1\n"
     ]
    },
    {
     "name": "stderr",
     "output_type": "stream",
     "text": [
      "                                                                                                                       \r"
     ]
    },
    {
     "name": "stdout",
     "output_type": "stream",
     "text": [
      "Results: mean: -246.2 +/- 122.9, min: -360.0, max: 62.0,\n",
      "\n",
      "Testing...\n"
     ]
    },
    {
     "name": "stderr",
     "output_type": "stream",
     "text": [
      "                                                                                                                       \r"
     ]
    },
    {
     "name": "stdout",
     "output_type": "stream",
     "text": [
      "Results: mean: -224.5 +/- 133.4, min: -330.0 max: 66.0\n",
      "Total elapsed time: 3.55 minutes\n",
      "\n",
      "Epoch #2\n"
     ]
    },
    {
     "name": "stderr",
     "output_type": "stream",
     "text": [
      "                                                                                                                       \r"
     ]
    },
    {
     "name": "stdout",
     "output_type": "stream",
     "text": [
      "Results: mean: -209.3 +/- 134.7, min: -360.0, max: 46.0,\n",
      "\n",
      "Testing...\n"
     ]
    },
    {
     "name": "stderr",
     "output_type": "stream",
     "text": [
      "                                                                                                                       \r"
     ]
    },
    {
     "name": "stdout",
     "output_type": "stream",
     "text": [
      "Results: mean: -164.6 +/- 129.9, min: -345.0 max: 66.0\n",
      "Total elapsed time: 7.02 minutes\n",
      "\n",
      "Epoch #3\n"
     ]
    },
    {
     "name": "stderr",
     "output_type": "stream",
     "text": [
      "                                                                                                                       \r"
     ]
    },
    {
     "name": "stdout",
     "output_type": "stream",
     "text": [
      "Results: mean: -108.3 +/- 146.8, min: -360.0, max: 62.0,\n",
      "\n",
      "Testing...\n"
     ]
    },
    {
     "name": "stderr",
     "output_type": "stream",
     "text": [
      "                                                                                                                       \r"
     ]
    },
    {
     "name": "stdout",
     "output_type": "stream",
     "text": [
      "Results: mean: -64.5 +/- 106.6, min: -365.0 max: 66.0\n",
      "Total elapsed time: 10.10 minutes\n",
      "\n",
      "Epoch #4\n"
     ]
    },
    {
     "name": "stderr",
     "output_type": "stream",
     "text": [
      "                                                                                                                       \r"
     ]
    },
    {
     "name": "stdout",
     "output_type": "stream",
     "text": [
      "Results: mean: -18.1 +/- 121.2, min: -360.0, max: 62.0,\n",
      "\n",
      "Testing...\n"
     ]
    },
    {
     "name": "stderr",
     "output_type": "stream",
     "text": [
      "                                                                                                                       \r"
     ]
    },
    {
     "name": "stdout",
     "output_type": "stream",
     "text": [
      "Results: mean: 6.2 +/- 104.5, min: -360.0 max: 66.0\n",
      "Total elapsed time: 12.80 minutes\n",
      "\n",
      "Epoch #5\n"
     ]
    },
    {
     "name": "stderr",
     "output_type": "stream",
     "text": [
      "                                                                                                                       \r"
     ]
    },
    {
     "name": "stdout",
     "output_type": "stream",
     "text": [
      "Results: mean: -9.0 +/- 122.1, min: -355.0, max: 62.0,\n",
      "\n",
      "Testing...\n"
     ]
    },
    {
     "name": "stderr",
     "output_type": "stream",
     "text": [
      "                                                                                                                       \r"
     ]
    },
    {
     "name": "stdout",
     "output_type": "stream",
     "text": [
      "Results: mean: -2.5 +/- 121.5, min: -350.0 max: 66.0\n",
      "Total elapsed time: 15.59 minutes\n",
      "\n",
      "Epoch #6\n"
     ]
    },
    {
     "name": "stderr",
     "output_type": "stream",
     "text": [
      "                                                                                                                       \r"
     ]
    },
    {
     "name": "stdout",
     "output_type": "stream",
     "text": [
      "Results: mean: 1.3 +/- 107.6, min: -360.0, max: 62.0,\n",
      "\n",
      "Testing...\n"
     ]
    },
    {
     "name": "stderr",
     "output_type": "stream",
     "text": [
      "                                                                                                                       \r"
     ]
    },
    {
     "name": "stdout",
     "output_type": "stream",
     "text": [
      "Results: mean: 32.7 +/- 63.2, min: -335.0 max: 66.0\n",
      "Total elapsed time: 18.41 minutes\n",
      "\n",
      "Epoch #7\n"
     ]
    },
    {
     "name": "stderr",
     "output_type": "stream",
     "text": [
      "                                                                                                                       \r"
     ]
    },
    {
     "name": "stdout",
     "output_type": "stream",
     "text": [
      "Results: mean: 10.9 +/- 84.8, min: -355.0, max: 62.0,\n",
      "\n",
      "Testing...\n"
     ]
    },
    {
     "name": "stderr",
     "output_type": "stream",
     "text": [
      "                                                                                                                       \r"
     ]
    },
    {
     "name": "stdout",
     "output_type": "stream",
     "text": [
      "Results: mean: -35.4 +/- 99.7, min: -365.0 max: 66.0\n",
      "Total elapsed time: 21.04 minutes\n",
      "\n",
      "Epoch #8\n"
     ]
    },
    {
     "name": "stderr",
     "output_type": "stream",
     "text": [
      "                                                                                                                       \r"
     ]
    },
    {
     "name": "stdout",
     "output_type": "stream",
     "text": [
      "Results: mean: 12.2 +/- 80.7, min: -360.0, max: 62.0,\n",
      "\n",
      "Testing...\n"
     ]
    },
    {
     "name": "stderr",
     "output_type": "stream",
     "text": [
      "                                                                                                                       \r"
     ]
    },
    {
     "name": "stdout",
     "output_type": "stream",
     "text": [
      "Results: mean: 37.9 +/- 59.7, min: -350.0 max: 66.0\n",
      "Total elapsed time: 23.41 minutes\n",
      "\n",
      "Epoch #9\n"
     ]
    },
    {
     "name": "stderr",
     "output_type": "stream",
     "text": [
      "                                                                                                                       \r"
     ]
    },
    {
     "name": "stdout",
     "output_type": "stream",
     "text": [
      "Results: mean: 15.5 +/- 87.8, min: -370.0, max: 62.0,\n",
      "\n",
      "Testing...\n"
     ]
    },
    {
     "name": "stderr",
     "output_type": "stream",
     "text": [
      "                                                                                                                       \r"
     ]
    },
    {
     "name": "stdout",
     "output_type": "stream",
     "text": [
      "Results: mean: -7.2 +/- 109.8, min: -365.0 max: 66.0\n",
      "Total elapsed time: 25.90 minutes\n",
      "\n",
      "Epoch #10\n"
     ]
    },
    {
     "name": "stderr",
     "output_type": "stream",
     "text": [
      "                                                                                                                       \r"
     ]
    },
    {
     "name": "stdout",
     "output_type": "stream",
     "text": [
      "Results: mean: 7.1 +/- 88.7, min: -360.0, max: 62.0,\n",
      "\n",
      "Testing...\n"
     ]
    },
    {
     "name": "stderr",
     "output_type": "stream",
     "text": [
      "\u001b[32m[I 2023-05-05 11:01:11,988]\u001b[0m Trial 72 finished with value: 0.5 and parameters: {'learning_rate': 0.0021657540993081756, 'batch_size': 128, 'replay_memory_size': 3000, 'discount_factor': 0.9569918934224875, 'frame_repeat': 16, 'optimizer': 'Adam', 'epsilon_decay': 0.9944151299498628}. Best is trial 48 with value: 27.29.\u001b[0m\n"
     ]
    },
    {
     "name": "stdout",
     "output_type": "stream",
     "text": [
      "Results: mean: 0.5 +/- 105.9, min: -370.0 max: 66.0\n",
      "Total elapsed time: 28.36 minutes\n",
      "\n",
      "Learning rate: 0.002961547747742662, Batch size: 128, Replay memory size: 4000,\n",
      "Discount factor: 0.9267320282357431, Frame repeat: 16, Optimizer: Adam, \n",
      "Epsilon decay: 0.9948461757507072\n",
      "\n",
      "Initializing doom...\n",
      "Doom initialized.\n",
      "Initializing New Model\n",
      "\n",
      "Epoch #1\n"
     ]
    },
    {
     "name": "stderr",
     "output_type": "stream",
     "text": [
      "                                                                                                                       \r"
     ]
    },
    {
     "name": "stdout",
     "output_type": "stream",
     "text": [
      "Results: mean: -259.3 +/- 103.2, min: -345.0, max: 62.0,\n",
      "\n",
      "Testing...\n"
     ]
    },
    {
     "name": "stderr",
     "output_type": "stream",
     "text": [
      "                                                                                                                       \r"
     ]
    },
    {
     "name": "stdout",
     "output_type": "stream",
     "text": [
      "Results: mean: -280.7 +/- 82.6, min: -325.0 max: 54.0\n",
      "Total elapsed time: 3.32 minutes\n",
      "\n",
      "Epoch #2\n"
     ]
    },
    {
     "name": "stderr",
     "output_type": "stream",
     "text": [
      "                                                                                                                       \r"
     ]
    },
    {
     "name": "stdout",
     "output_type": "stream",
     "text": [
      "Results: mean: -244.7 +/- 118.1, min: -320.0, max: 62.0,\n",
      "\n",
      "Testing...\n"
     ]
    },
    {
     "name": "stderr",
     "output_type": "stream",
     "text": [
      "                                                                                                                       \r"
     ]
    },
    {
     "name": "stdout",
     "output_type": "stream",
     "text": [
      "Results: mean: -250.7 +/- 111.8, min: -355.0 max: 66.0\n",
      "Total elapsed time: 6.56 minutes\n",
      "\n",
      "Epoch #3\n"
     ]
    },
    {
     "name": "stderr",
     "output_type": "stream",
     "text": [
      "                                                                                                                       \r"
     ]
    },
    {
     "name": "stdout",
     "output_type": "stream",
     "text": [
      "Results: mean: -171.9 +/- 161.5, min: -335.0, max: 62.0,\n",
      "\n",
      "Testing...\n"
     ]
    },
    {
     "name": "stderr",
     "output_type": "stream",
     "text": [
      "                                                                                                                       \r"
     ]
    },
    {
     "name": "stdout",
     "output_type": "stream",
     "text": [
      "Results: mean: -223.4 +/- 127.3, min: -320.0 max: 66.0\n",
      "Total elapsed time: 9.72 minutes\n",
      "\n",
      "Epoch #4\n"
     ]
    },
    {
     "name": "stderr",
     "output_type": "stream",
     "text": [
      "                                                                                                                       \r"
     ]
    },
    {
     "name": "stdout",
     "output_type": "stream",
     "text": [
      "Results: mean: -176.1 +/- 167.4, min: -350.0, max: 62.0,\n",
      "\n",
      "Testing...\n"
     ]
    },
    {
     "name": "stderr",
     "output_type": "stream",
     "text": [
      "                                                                                                                       \r"
     ]
    },
    {
     "name": "stdout",
     "output_type": "stream",
     "text": [
      "Results: mean: -270.0 +/- 125.5, min: -355.0 max: 66.0\n",
      "Total elapsed time: 12.96 minutes\n",
      "\n",
      "Epoch #5\n"
     ]
    },
    {
     "name": "stderr",
     "output_type": "stream",
     "text": [
      "                                                                                                                       \r"
     ]
    },
    {
     "name": "stdout",
     "output_type": "stream",
     "text": [
      "Results: mean: -162.3 +/- 166.0, min: -355.0, max: 62.0,\n",
      "\n",
      "Testing...\n"
     ]
    },
    {
     "name": "stderr",
     "output_type": "stream",
     "text": [
      "                                                                                                                       \r"
     ]
    },
    {
     "name": "stdout",
     "output_type": "stream",
     "text": [
      "Results: mean: -102.2 +/- 158.5, min: -360.0 max: 66.0\n",
      "Total elapsed time: 15.76 minutes\n",
      "\n",
      "Epoch #6\n"
     ]
    },
    {
     "name": "stderr",
     "output_type": "stream",
     "text": [
      "                                                                                                                       \r"
     ]
    },
    {
     "name": "stdout",
     "output_type": "stream",
     "text": [
      "Results: mean: -130.4 +/- 164.6, min: -345.0, max: 62.0,\n",
      "\n",
      "Testing...\n"
     ]
    },
    {
     "name": "stderr",
     "output_type": "stream",
     "text": [
      "                                                                                                                       \r"
     ]
    },
    {
     "name": "stdout",
     "output_type": "stream",
     "text": [
      "Results: mean: -129.5 +/- 129.8, min: -330.0 max: 66.0\n",
      "Total elapsed time: 18.68 minutes\n",
      "\n",
      "Epoch #7\n"
     ]
    },
    {
     "name": "stderr",
     "output_type": "stream",
     "text": [
      "                                                                                                                       \r"
     ]
    },
    {
     "name": "stdout",
     "output_type": "stream",
     "text": [
      "Results: mean: -129.7 +/- 159.8, min: -350.0, max: 62.0,\n",
      "\n",
      "Testing...\n"
     ]
    },
    {
     "name": "stderr",
     "output_type": "stream",
     "text": [
      "                                                                                                                       \r"
     ]
    },
    {
     "name": "stdout",
     "output_type": "stream",
     "text": [
      "Results: mean: -112.4 +/- 131.0, min: -345.0 max: 66.0\n",
      "Total elapsed time: 21.54 minutes\n",
      "\n",
      "Epoch #8\n"
     ]
    },
    {
     "name": "stderr",
     "output_type": "stream",
     "text": [
      "                                                                                                                       \r"
     ]
    },
    {
     "name": "stdout",
     "output_type": "stream",
     "text": [
      "Results: mean: -225.9 +/- 136.3, min: -335.0, max: 62.0,\n",
      "\n",
      "Testing...\n"
     ]
    },
    {
     "name": "stderr",
     "output_type": "stream",
     "text": [
      "                                                                                                                       \r"
     ]
    },
    {
     "name": "stdout",
     "output_type": "stream",
     "text": [
      "Results: mean: -224.2 +/- 134.7, min: -350.0 max: 66.0\n",
      "Total elapsed time: 24.69 minutes\n",
      "\n",
      "Epoch #9\n"
     ]
    },
    {
     "name": "stderr",
     "output_type": "stream",
     "text": [
      "                                                                                                                       \r"
     ]
    },
    {
     "name": "stdout",
     "output_type": "stream",
     "text": [
      "Results: mean: -255.1 +/- 118.3, min: -350.0, max: 62.0,\n",
      "\n",
      "Testing...\n"
     ]
    },
    {
     "name": "stderr",
     "output_type": "stream",
     "text": [
      "                                                                                                                       \r"
     ]
    },
    {
     "name": "stdout",
     "output_type": "stream",
     "text": [
      "Results: mean: -250.3 +/- 129.1, min: -355.0 max: 66.0\n",
      "Total elapsed time: 27.89 minutes\n",
      "\n",
      "Epoch #10\n"
     ]
    },
    {
     "name": "stderr",
     "output_type": "stream",
     "text": [
      "                                                                                                                       \r"
     ]
    },
    {
     "name": "stdout",
     "output_type": "stream",
     "text": [
      "Results: mean: -239.3 +/- 135.1, min: -330.0, max: 62.0,\n",
      "\n",
      "Testing...\n"
     ]
    },
    {
     "name": "stderr",
     "output_type": "stream",
     "text": [
      "\u001b[32m[I 2023-05-05 11:32:18,231]\u001b[0m Trial 73 finished with value: -254.16 and parameters: {'learning_rate': 0.002961547747742662, 'batch_size': 128, 'replay_memory_size': 4000, 'discount_factor': 0.9267320282357431, 'frame_repeat': 16, 'optimizer': 'Adam', 'epsilon_decay': 0.9948461757507072}. Best is trial 48 with value: 27.29.\u001b[0m\n"
     ]
    },
    {
     "name": "stdout",
     "output_type": "stream",
     "text": [
      "Results: mean: -254.2 +/- 128.0, min: -335.0 max: 66.0\n",
      "Total elapsed time: 31.09 minutes\n",
      "\n",
      "Learning rate: 0.003840063978948537, Batch size: 128, Replay memory size: 3000,\n",
      "Discount factor: 0.8479456230475513, Frame repeat: 16, Optimizer: Adam, \n",
      "Epsilon decay: 0.9952029213185338\n",
      "\n",
      "Initializing doom...\n",
      "Doom initialized.\n",
      "Initializing New Model\n",
      "\n",
      "Epoch #1\n"
     ]
    },
    {
     "name": "stderr",
     "output_type": "stream",
     "text": [
      "                                                                                                                       \r"
     ]
    },
    {
     "name": "stdout",
     "output_type": "stream",
     "text": [
      "Results: mean: -227.2 +/- 137.5, min: -350.0, max: 62.0,\n",
      "\n",
      "Testing...\n"
     ]
    },
    {
     "name": "stderr",
     "output_type": "stream",
     "text": [
      "                                                                                                                       \r"
     ]
    },
    {
     "name": "stdout",
     "output_type": "stream",
     "text": [
      "Results: mean: -265.2 +/- 101.6, min: -325.0 max: 54.0\n",
      "Total elapsed time: 3.34 minutes\n",
      "\n",
      "Epoch #2\n"
     ]
    },
    {
     "name": "stderr",
     "output_type": "stream",
     "text": [
      "                                                                                                                       \r"
     ]
    },
    {
     "name": "stdout",
     "output_type": "stream",
     "text": [
      "Results: mean: -219.9 +/- 133.6, min: -370.0, max: 62.0,\n",
      "\n",
      "Testing...\n"
     ]
    },
    {
     "name": "stderr",
     "output_type": "stream",
     "text": [
      "                                                                                                                       \r"
     ]
    },
    {
     "name": "stdout",
     "output_type": "stream",
     "text": [
      "Results: mean: -293.9 +/- 58.9, min: -330.0 max: 54.0\n",
      "Total elapsed time: 8.83 minutes\n",
      "\n",
      "Epoch #3\n"
     ]
    },
    {
     "name": "stderr",
     "output_type": "stream",
     "text": [
      "                                                                                                                       \r"
     ]
    },
    {
     "name": "stdout",
     "output_type": "stream",
     "text": [
      "Results: mean: -154.2 +/- 163.1, min: -330.0, max: 62.0,\n",
      "\n",
      "Testing...\n"
     ]
    },
    {
     "name": "stderr",
     "output_type": "stream",
     "text": [
      "                                                                                                                       \r"
     ]
    },
    {
     "name": "stdout",
     "output_type": "stream",
     "text": [
      "Results: mean: -86.3 +/- 173.6, min: -355.0 max: 66.0\n",
      "Total elapsed time: 13.02 minutes\n",
      "\n",
      "Epoch #4\n"
     ]
    },
    {
     "name": "stderr",
     "output_type": "stream",
     "text": [
      "                                                                                                                       \r"
     ]
    },
    {
     "name": "stdout",
     "output_type": "stream",
     "text": [
      "Results: mean: -122.8 +/- 148.8, min: -365.0, max: 62.0,\n",
      "\n",
      "Testing...\n"
     ]
    },
    {
     "name": "stderr",
     "output_type": "stream",
     "text": [
      "                                                                                                                       \r"
     ]
    },
    {
     "name": "stdout",
     "output_type": "stream",
     "text": [
      "Results: mean: -67.4 +/- 105.1, min: -355.0 max: 66.0\n",
      "Total elapsed time: 16.67 minutes\n",
      "\n",
      "Epoch #5\n"
     ]
    },
    {
     "name": "stderr",
     "output_type": "stream",
     "text": [
      "                                                                                                                       \r"
     ]
    },
    {
     "name": "stdout",
     "output_type": "stream",
     "text": [
      "Results: mean: -86.0 +/- 137.4, min: -345.0, max: 62.0,\n",
      "\n",
      "Testing...\n"
     ]
    },
    {
     "name": "stderr",
     "output_type": "stream",
     "text": [
      "                                                                                                                       \r"
     ]
    },
    {
     "name": "stdout",
     "output_type": "stream",
     "text": [
      "Results: mean: 3.5 +/- 109.4, min: -350.0 max: 66.0\n",
      "Total elapsed time: 19.82 minutes\n",
      "\n",
      "Epoch #6\n"
     ]
    },
    {
     "name": "stderr",
     "output_type": "stream",
     "text": [
      "                                                                                                                       \r"
     ]
    },
    {
     "name": "stdout",
     "output_type": "stream",
     "text": [
      "Results: mean: -51.6 +/- 140.6, min: -345.0, max: 62.0,\n",
      "\n",
      "Testing...\n"
     ]
    },
    {
     "name": "stderr",
     "output_type": "stream",
     "text": [
      "                                                                                                                       \r"
     ]
    },
    {
     "name": "stdout",
     "output_type": "stream",
     "text": [
      "Results: mean: -197.0 +/- 132.0, min: -350.0 max: 66.0\n",
      "Total elapsed time: 24.15 minutes\n",
      "\n",
      "Epoch #7\n"
     ]
    },
    {
     "name": "stderr",
     "output_type": "stream",
     "text": [
      "                                                                                                                       \r"
     ]
    },
    {
     "name": "stdout",
     "output_type": "stream",
     "text": [
      "Results: mean: -141.2 +/- 135.6, min: -355.0, max: 62.0,\n",
      "\n",
      "Testing...\n"
     ]
    },
    {
     "name": "stderr",
     "output_type": "stream",
     "text": [
      "                                                                                                                       \r"
     ]
    },
    {
     "name": "stdout",
     "output_type": "stream",
     "text": [
      "Results: mean: -48.1 +/- 115.4, min: -355.0 max: 66.0\n",
      "Total elapsed time: 27.92 minutes\n",
      "\n",
      "Epoch #8\n"
     ]
    },
    {
     "name": "stderr",
     "output_type": "stream",
     "text": [
      "                                                                                                                       \r"
     ]
    },
    {
     "name": "stdout",
     "output_type": "stream",
     "text": [
      "Results: mean: -141.7 +/- 144.1, min: -360.0, max: 62.0,\n",
      "\n",
      "Testing...\n"
     ]
    },
    {
     "name": "stderr",
     "output_type": "stream",
     "text": [
      "                                                                                                                       \r"
     ]
    },
    {
     "name": "stdout",
     "output_type": "stream",
     "text": [
      "Results: mean: -209.2 +/- 144.3, min: -360.0 max: 66.0\n",
      "Total elapsed time: 32.34 minutes\n",
      "\n",
      "Epoch #9\n"
     ]
    },
    {
     "name": "stderr",
     "output_type": "stream",
     "text": [
      "                                                                                                                       \r"
     ]
    },
    {
     "name": "stdout",
     "output_type": "stream",
     "text": [
      "Results: mean: -70.0 +/- 148.8, min: -350.0, max: 62.0,\n",
      "\n",
      "Testing...\n"
     ]
    },
    {
     "name": "stderr",
     "output_type": "stream",
     "text": [
      "                                                                                                                       \r"
     ]
    },
    {
     "name": "stdout",
     "output_type": "stream",
     "text": [
      "Results: mean: -171.5 +/- 157.0, min: -345.0 max: 66.0\n",
      "Total elapsed time: 38.52 minutes\n",
      "\n",
      "Epoch #10\n"
     ]
    },
    {
     "name": "stderr",
     "output_type": "stream",
     "text": [
      "                                                                                                                       \r"
     ]
    },
    {
     "name": "stdout",
     "output_type": "stream",
     "text": [
      "Results: mean: -73.6 +/- 150.9, min: -335.0, max: 62.0,\n",
      "\n",
      "Testing...\n"
     ]
    },
    {
     "name": "stderr",
     "output_type": "stream",
     "text": [
      "\u001b[32m[I 2023-05-05 12:14:47,187]\u001b[0m Trial 74 finished with value: -117.04 and parameters: {'learning_rate': 0.003840063978948537, 'batch_size': 128, 'replay_memory_size': 3000, 'discount_factor': 0.8479456230475513, 'frame_repeat': 16, 'optimizer': 'Adam', 'epsilon_decay': 0.9952029213185338}. Best is trial 48 with value: 27.29.\u001b[0m\n"
     ]
    },
    {
     "name": "stdout",
     "output_type": "stream",
     "text": [
      "Results: mean: -117.0 +/- 130.0, min: -340.0 max: 66.0\n",
      "Total elapsed time: 42.47 minutes\n",
      "\n",
      "Learning rate: 0.0019006003609588432, Batch size: 128, Replay memory size: 4000,\n",
      "Discount factor: 0.8939429363308676, Frame repeat: 16, Optimizer: Adam, \n",
      "Epsilon decay: 0.9939540112709232\n",
      "\n",
      "Initializing doom...\n",
      "Doom initialized.\n",
      "Initializing New Model\n",
      "\n",
      "Epoch #1\n"
     ]
    },
    {
     "name": "stderr",
     "output_type": "stream",
     "text": [
      "                                                                                                                       \r"
     ]
    },
    {
     "name": "stdout",
     "output_type": "stream",
     "text": [
      "Results: mean: -248.7 +/- 115.0, min: -350.0, max: 62.0,\n",
      "\n",
      "Testing...\n"
     ]
    },
    {
     "name": "stderr",
     "output_type": "stream",
     "text": [
      "                                                                                                                       \r"
     ]
    },
    {
     "name": "stdout",
     "output_type": "stream",
     "text": [
      "Results: mean: -233.2 +/- 130.0, min: -325.0 max: 66.0\n",
      "Total elapsed time: 3.24 minutes\n",
      "\n",
      "Epoch #2\n"
     ]
    },
    {
     "name": "stderr",
     "output_type": "stream",
     "text": [
      "                                                                                                                       \r"
     ]
    },
    {
     "name": "stdout",
     "output_type": "stream",
     "text": [
      "Results: mean: -129.4 +/- 165.4, min: -365.0, max: 62.0,\n",
      "\n",
      "Testing...\n"
     ]
    },
    {
     "name": "stderr",
     "output_type": "stream",
     "text": [
      "                                                                                                                       \r"
     ]
    },
    {
     "name": "stdout",
     "output_type": "stream",
     "text": [
      "Results: mean: -132.2 +/- 146.4, min: -355.0 max: 66.0\n",
      "Total elapsed time: 6.86 minutes\n",
      "\n",
      "Epoch #3\n"
     ]
    },
    {
     "name": "stderr",
     "output_type": "stream",
     "text": [
      "                                                                                                                       \r"
     ]
    },
    {
     "name": "stdout",
     "output_type": "stream",
     "text": [
      "Results: mean: -29.0 +/- 127.1, min: -355.0, max: 62.0,\n",
      "\n",
      "Testing...\n"
     ]
    },
    {
     "name": "stderr",
     "output_type": "stream",
     "text": [
      "                                                                                                                       \r"
     ]
    },
    {
     "name": "stdout",
     "output_type": "stream",
     "text": [
      "Results: mean: -28.5 +/- 118.1, min: -345.0 max: 66.0\n",
      "Total elapsed time: 9.88 minutes\n",
      "\n",
      "Epoch #4\n"
     ]
    },
    {
     "name": "stderr",
     "output_type": "stream",
     "text": [
      "                                                                                                                       \r"
     ]
    },
    {
     "name": "stdout",
     "output_type": "stream",
     "text": [
      "Results: mean: -5.4 +/- 71.5, min: -340.0, max: 62.0,\n",
      "\n",
      "Testing...\n"
     ]
    },
    {
     "name": "stderr",
     "output_type": "stream",
     "text": [
      "                                                                                                                       \r"
     ]
    },
    {
     "name": "stdout",
     "output_type": "stream",
     "text": [
      "Results: mean: 14.4 +/- 92.1, min: -370.0 max: 66.0\n",
      "Total elapsed time: 12.70 minutes\n",
      "\n",
      "Epoch #5\n"
     ]
    },
    {
     "name": "stderr",
     "output_type": "stream",
     "text": [
      "                                                                                                                       \r"
     ]
    },
    {
     "name": "stdout",
     "output_type": "stream",
     "text": [
      "Results: mean: -18.4 +/- 101.0, min: -365.0, max: 62.0,\n",
      "\n",
      "Testing...\n"
     ]
    },
    {
     "name": "stderr",
     "output_type": "stream",
     "text": [
      "                                                                                                                       \r"
     ]
    },
    {
     "name": "stdout",
     "output_type": "stream",
     "text": [
      "Results: mean: -24.5 +/- 101.0, min: -355.0 max: 66.0\n",
      "Total elapsed time: 15.69 minutes\n",
      "\n",
      "Epoch #6\n"
     ]
    },
    {
     "name": "stderr",
     "output_type": "stream",
     "text": [
      "                                                                                                                       \r"
     ]
    },
    {
     "name": "stdout",
     "output_type": "stream",
     "text": [
      "Results: mean: -22.6 +/- 99.7, min: -370.0, max: 62.0,\n",
      "\n",
      "Testing...\n"
     ]
    },
    {
     "name": "stderr",
     "output_type": "stream",
     "text": [
      "                                                                                                                       \r"
     ]
    },
    {
     "name": "stdout",
     "output_type": "stream",
     "text": [
      "Results: mean: -11.6 +/- 75.7, min: -360.0 max: 66.0\n",
      "Total elapsed time: 18.65 minutes\n",
      "\n",
      "Epoch #7\n"
     ]
    },
    {
     "name": "stderr",
     "output_type": "stream",
     "text": [
      "                                                                                                                       \r"
     ]
    },
    {
     "name": "stdout",
     "output_type": "stream",
     "text": [
      "Results: mean: -52.6 +/- 101.0, min: -355.0, max: 62.0,\n",
      "\n",
      "Testing...\n"
     ]
    },
    {
     "name": "stderr",
     "output_type": "stream",
     "text": [
      "                                                                                                                       \r"
     ]
    },
    {
     "name": "stdout",
     "output_type": "stream",
     "text": [
      "Results: mean: -4.8 +/- 77.4, min: -345.0 max: 66.0\n",
      "Total elapsed time: 21.56 minutes\n",
      "\n",
      "Epoch #8\n"
     ]
    },
    {
     "name": "stderr",
     "output_type": "stream",
     "text": [
      "                                                                                                                       \r"
     ]
    },
    {
     "name": "stdout",
     "output_type": "stream",
     "text": [
      "Results: mean: -45.7 +/- 104.1, min: -360.0, max: 62.0,\n",
      "\n",
      "Testing...\n"
     ]
    },
    {
     "name": "stderr",
     "output_type": "stream",
     "text": [
      "                                                                                                                       \r"
     ]
    },
    {
     "name": "stdout",
     "output_type": "stream",
     "text": [
      "Results: mean: -28.0 +/- 80.1, min: -360.0 max: 66.0\n",
      "Total elapsed time: 24.58 minutes\n",
      "\n",
      "Epoch #9\n"
     ]
    },
    {
     "name": "stderr",
     "output_type": "stream",
     "text": [
      "                                                                                                                       \r"
     ]
    },
    {
     "name": "stdout",
     "output_type": "stream",
     "text": [
      "Results: mean: -15.4 +/- 98.7, min: -365.0, max: 62.0,\n",
      "\n",
      "Testing...\n"
     ]
    },
    {
     "name": "stderr",
     "output_type": "stream",
     "text": [
      "                                                                                                                       \r"
     ]
    },
    {
     "name": "stdout",
     "output_type": "stream",
     "text": [
      "Results: mean: 1.2 +/- 89.2, min: -360.0 max: 66.0\n",
      "Total elapsed time: 27.50 minutes\n",
      "\n",
      "Epoch #10\n"
     ]
    },
    {
     "name": "stderr",
     "output_type": "stream",
     "text": [
      "                                                                                                                       \r"
     ]
    },
    {
     "name": "stdout",
     "output_type": "stream",
     "text": [
      "Results: mean: -31.4 +/- 99.2, min: -365.0, max: 62.0,\n",
      "\n",
      "Testing...\n"
     ]
    },
    {
     "name": "stderr",
     "output_type": "stream",
     "text": [
      "\u001b[32m[I 2023-05-05 12:45:06,254]\u001b[0m Trial 75 finished with value: -0.02 and parameters: {'learning_rate': 0.0019006003609588432, 'batch_size': 128, 'replay_memory_size': 4000, 'discount_factor': 0.8939429363308676, 'frame_repeat': 16, 'optimizer': 'Adam', 'epsilon_decay': 0.9939540112709232}. Best is trial 48 with value: 27.29.\u001b[0m\n"
     ]
    },
    {
     "name": "stdout",
     "output_type": "stream",
     "text": [
      "Results: mean: -0.0 +/- 88.1, min: -355.0 max: 66.0\n",
      "Total elapsed time: 30.31 minutes\n",
      "\n",
      "Learning rate: 0.002791860300561803, Batch size: 128, Replay memory size: 2000,\n",
      "Discount factor: 0.9587241010249448, Frame repeat: 16, Optimizer: Adam, \n",
      "Epsilon decay: 0.9945357696309635\n",
      "\n",
      "Initializing doom...\n",
      "Doom initialized.\n",
      "Initializing New Model\n",
      "\n",
      "Epoch #1\n"
     ]
    },
    {
     "name": "stderr",
     "output_type": "stream",
     "text": [
      "                                                                                                                       \r"
     ]
    },
    {
     "name": "stdout",
     "output_type": "stream",
     "text": [
      "Results: mean: -281.2 +/- 86.2, min: -345.0, max: 46.0,\n",
      "\n",
      "Testing...\n"
     ]
    },
    {
     "name": "stderr",
     "output_type": "stream",
     "text": [
      "                                                                                                                       \r"
     ]
    },
    {
     "name": "stdout",
     "output_type": "stream",
     "text": [
      "Results: mean: -242.0 +/- 114.9, min: -320.0 max: 66.0\n",
      "Total elapsed time: 3.61 minutes\n",
      "\n",
      "Epoch #2\n"
     ]
    },
    {
     "name": "stderr",
     "output_type": "stream",
     "text": [
      "                                                                                                                       \r"
     ]
    },
    {
     "name": "stdout",
     "output_type": "stream",
     "text": [
      "Results: mean: -247.4 +/- 111.9, min: -365.0, max: 37.0,\n",
      "\n",
      "Testing...\n"
     ]
    },
    {
     "name": "stderr",
     "output_type": "stream",
     "text": [
      "                                                                                                                       \r"
     ]
    },
    {
     "name": "stdout",
     "output_type": "stream",
     "text": [
      "Results: mean: -216.3 +/- 132.2, min: -355.0 max: 66.0\n",
      "Total elapsed time: 7.19 minutes\n",
      "\n",
      "Epoch #3\n"
     ]
    },
    {
     "name": "stderr",
     "output_type": "stream",
     "text": [
      "                                                                                                                       \r"
     ]
    },
    {
     "name": "stdout",
     "output_type": "stream",
     "text": [
      "Results: mean: -153.4 +/- 150.1, min: -360.0, max: 62.0,\n",
      "\n",
      "Testing...\n"
     ]
    },
    {
     "name": "stderr",
     "output_type": "stream",
     "text": [
      "                                                                                                                       \r"
     ]
    },
    {
     "name": "stdout",
     "output_type": "stream",
     "text": [
      "Results: mean: -115.8 +/- 150.9, min: -355.0 max: 66.0\n",
      "Total elapsed time: 10.55 minutes\n",
      "\n",
      "Epoch #4\n"
     ]
    },
    {
     "name": "stderr",
     "output_type": "stream",
     "text": [
      "                                                                                                                       \r"
     ]
    },
    {
     "name": "stdout",
     "output_type": "stream",
     "text": [
      "Results: mean: -22.6 +/- 104.4, min: -365.0, max: 62.0,\n",
      "\n",
      "Testing...\n"
     ]
    },
    {
     "name": "stderr",
     "output_type": "stream",
     "text": [
      "                                                                                                                       \r"
     ]
    },
    {
     "name": "stdout",
     "output_type": "stream",
     "text": [
      "Results: mean: -42.8 +/- 92.8, min: -350.0 max: 66.0\n",
      "Total elapsed time: 13.39 minutes\n",
      "\n",
      "Epoch #5\n"
     ]
    },
    {
     "name": "stderr",
     "output_type": "stream",
     "text": [
      "                                                                                                                       \r"
     ]
    },
    {
     "name": "stdout",
     "output_type": "stream",
     "text": [
      "Results: mean: -3.9 +/- 96.6, min: -360.0, max: 62.0,\n",
      "\n",
      "Testing...\n"
     ]
    },
    {
     "name": "stderr",
     "output_type": "stream",
     "text": [
      "                                                                                                                       \r"
     ]
    },
    {
     "name": "stdout",
     "output_type": "stream",
     "text": [
      "Results: mean: -21.2 +/- 97.7, min: -335.0 max: 66.0\n",
      "Total elapsed time: 16.87 minutes\n",
      "\n",
      "Epoch #6\n"
     ]
    },
    {
     "name": "stderr",
     "output_type": "stream",
     "text": [
      "                                                                                                                       \r"
     ]
    },
    {
     "name": "stdout",
     "output_type": "stream",
     "text": [
      "Results: mean: 7.1 +/- 70.3, min: -365.0, max: 62.0,\n",
      "\n",
      "Testing...\n"
     ]
    },
    {
     "name": "stderr",
     "output_type": "stream",
     "text": [
      "                                                                                                                       \r"
     ]
    },
    {
     "name": "stdout",
     "output_type": "stream",
     "text": [
      "Results: mean: 28.8 +/- 79.2, min: -360.0 max: 66.0\n",
      "Total elapsed time: 20.53 minutes\n",
      "\n",
      "Epoch #7\n"
     ]
    },
    {
     "name": "stderr",
     "output_type": "stream",
     "text": [
      "                                                                                                                       \r"
     ]
    },
    {
     "name": "stdout",
     "output_type": "stream",
     "text": [
      "Results: mean: 12.6 +/- 64.4, min: -360.0, max: 62.0,\n",
      "\n",
      "Testing...\n"
     ]
    },
    {
     "name": "stderr",
     "output_type": "stream",
     "text": [
      "                                                                                                                       \r"
     ]
    },
    {
     "name": "stdout",
     "output_type": "stream",
     "text": [
      "Results: mean: 30.6 +/- 52.1, min: -165.0 max: 66.0\n",
      "Total elapsed time: 23.64 minutes\n",
      "\n",
      "Epoch #8\n"
     ]
    },
    {
     "name": "stderr",
     "output_type": "stream",
     "text": [
      "                                                                                                                       \r"
     ]
    },
    {
     "name": "stdout",
     "output_type": "stream",
     "text": [
      "Results: mean: -0.1 +/- 84.8, min: -360.0, max: 62.0,\n",
      "\n",
      "Testing...\n"
     ]
    },
    {
     "name": "stderr",
     "output_type": "stream",
     "text": [
      "                                                                                                                       \r"
     ]
    },
    {
     "name": "stdout",
     "output_type": "stream",
     "text": [
      "Results: mean: 5.4 +/- 101.0, min: -370.0 max: 66.0\n",
      "Total elapsed time: 26.13 minutes\n",
      "\n",
      "Epoch #9\n"
     ]
    },
    {
     "name": "stderr",
     "output_type": "stream",
     "text": [
      "                                                                                                                       \r"
     ]
    },
    {
     "name": "stdout",
     "output_type": "stream",
     "text": [
      "Results: mean: -22.3 +/- 90.9, min: -355.0, max: 62.0,\n",
      "\n",
      "Testing...\n"
     ]
    },
    {
     "name": "stderr",
     "output_type": "stream",
     "text": [
      "                                                                                                                       \r"
     ]
    },
    {
     "name": "stdout",
     "output_type": "stream",
     "text": [
      "Results: mean: -80.2 +/- 121.4, min: -355.0 max: 66.0\n",
      "Total elapsed time: 29.11 minutes\n",
      "\n",
      "Epoch #10\n"
     ]
    },
    {
     "name": "stderr",
     "output_type": "stream",
     "text": [
      "                                                                                                                       \r"
     ]
    },
    {
     "name": "stdout",
     "output_type": "stream",
     "text": [
      "Results: mean: -16.3 +/- 101.6, min: -365.0, max: 62.0,\n",
      "\n",
      "Testing...\n"
     ]
    },
    {
     "name": "stderr",
     "output_type": "stream",
     "text": [
      "\u001b[32m[I 2023-05-05 13:18:00,300]\u001b[0m Trial 76 finished with value: -3.4 and parameters: {'learning_rate': 0.002791860300561803, 'batch_size': 128, 'replay_memory_size': 2000, 'discount_factor': 0.9587241010249448, 'frame_repeat': 16, 'optimizer': 'Adam', 'epsilon_decay': 0.9945357696309635}. Best is trial 48 with value: 27.29.\u001b[0m\n"
     ]
    },
    {
     "name": "stdout",
     "output_type": "stream",
     "text": [
      "Results: mean: -3.4 +/- 88.8, min: -360.0 max: 66.0\n",
      "Total elapsed time: 32.89 minutes\n",
      "\n",
      "Learning rate: 0.0034359747964169225, Batch size: 64, Replay memory size: 3000,\n",
      "Discount factor: 0.8246844772835653, Frame repeat: 20, Optimizer: SGD, \n",
      "Epsilon decay: 0.9958660943863621\n",
      "\n",
      "Initializing doom...\n",
      "Doom initialized.\n",
      "Initializing New Model\n",
      "\n",
      "Epoch #1\n"
     ]
    },
    {
     "name": "stderr",
     "output_type": "stream",
     "text": [
      "                                                                                                                       \r"
     ]
    },
    {
     "name": "stdout",
     "output_type": "stream",
     "text": [
      "Results: mean: -271.2 +/- 96.0, min: -345.0, max: 58.0,\n",
      "\n",
      "Testing...\n"
     ]
    },
    {
     "name": "stderr",
     "output_type": "stream",
     "text": [
      "                                                                                                                       \r"
     ]
    },
    {
     "name": "stdout",
     "output_type": "stream",
     "text": [
      "Results: mean: -266.3 +/- 100.5, min: -340.0 max: 54.0\n",
      "Total elapsed time: 3.76 minutes\n",
      "\n",
      "Epoch #2\n"
     ]
    },
    {
     "name": "stderr",
     "output_type": "stream",
     "text": [
      "                                                                                                                       \r"
     ]
    },
    {
     "name": "stdout",
     "output_type": "stream",
     "text": [
      "Results: mean: -237.1 +/- 126.4, min: -370.0, max: 58.0,\n",
      "\n",
      "Testing...\n"
     ]
    },
    {
     "name": "stderr",
     "output_type": "stream",
     "text": [
      "                                                                                                                       \r"
     ]
    },
    {
     "name": "stdout",
     "output_type": "stream",
     "text": [
      "Results: mean: -174.1 +/- 147.1, min: -330.0 max: 66.0\n",
      "Total elapsed time: 6.71 minutes\n",
      "\n",
      "Epoch #3\n"
     ]
    },
    {
     "name": "stderr",
     "output_type": "stream",
     "text": [
      "                                                                                                                       \r"
     ]
    },
    {
     "name": "stdout",
     "output_type": "stream",
     "text": [
      "Results: mean: -135.9 +/- 164.8, min: -365.0, max: 58.0,\n",
      "\n",
      "Testing...\n"
     ]
    },
    {
     "name": "stderr",
     "output_type": "stream",
     "text": [
      "                                                                                                                       \r"
     ]
    },
    {
     "name": "stdout",
     "output_type": "stream",
     "text": [
      "Results: mean: -36.5 +/- 139.3, min: -365.0 max: 66.0\n",
      "Total elapsed time: 9.24 minutes\n",
      "\n",
      "Epoch #4\n"
     ]
    },
    {
     "name": "stderr",
     "output_type": "stream",
     "text": [
      "                                                                                                                       \r"
     ]
    },
    {
     "name": "stdout",
     "output_type": "stream",
     "text": [
      "Results: mean: -25.3 +/- 120.9, min: -345.0, max: 58.0,\n",
      "\n",
      "Testing...\n"
     ]
    },
    {
     "name": "stderr",
     "output_type": "stream",
     "text": [
      "                                                                                                                       \r"
     ]
    },
    {
     "name": "stdout",
     "output_type": "stream",
     "text": [
      "Results: mean: -55.0 +/- 108.0, min: -340.0 max: 54.0\n",
      "Total elapsed time: 11.80 minutes\n",
      "\n",
      "Epoch #5\n"
     ]
    },
    {
     "name": "stderr",
     "output_type": "stream",
     "text": [
      "                                                                                                                       \r"
     ]
    },
    {
     "name": "stdout",
     "output_type": "stream",
     "text": [
      "Results: mean: -120.9 +/- 167.2, min: -370.0, max: 58.0,\n",
      "\n",
      "Testing...\n"
     ]
    },
    {
     "name": "stderr",
     "output_type": "stream",
     "text": [
      "                                                                                                                       \r"
     ]
    },
    {
     "name": "stdout",
     "output_type": "stream",
     "text": [
      "Results: mean: -192.9 +/- 140.5, min: -360.0 max: 66.0\n",
      "Total elapsed time: 14.80 minutes\n",
      "\n",
      "Epoch #6\n"
     ]
    },
    {
     "name": "stderr",
     "output_type": "stream",
     "text": [
      "                                                                                                                       \r"
     ]
    },
    {
     "name": "stdout",
     "output_type": "stream",
     "text": [
      "Results: mean: -264.6 +/- 112.3, min: -365.0, max: 58.0,\n",
      "\n",
      "Testing...\n"
     ]
    },
    {
     "name": "stderr",
     "output_type": "stream",
     "text": [
      "                                                                                                                       \r"
     ]
    },
    {
     "name": "stdout",
     "output_type": "stream",
     "text": [
      "Results: mean: -277.5 +/- 87.9, min: -325.0 max: 66.0\n",
      "Total elapsed time: 18.05 minutes\n",
      "\n",
      "Epoch #7\n"
     ]
    },
    {
     "name": "stderr",
     "output_type": "stream",
     "text": [
      "                                                                                                                       \r"
     ]
    },
    {
     "name": "stdout",
     "output_type": "stream",
     "text": [
      "Results: mean: -266.4 +/- 105.2, min: -315.0, max: 58.0,\n",
      "\n",
      "Testing...\n"
     ]
    },
    {
     "name": "stderr",
     "output_type": "stream",
     "text": [
      "                                                                                                                       \r"
     ]
    },
    {
     "name": "stdout",
     "output_type": "stream",
     "text": [
      "Results: mean: -265.6 +/- 113.7, min: -325.0 max: 66.0\n",
      "Total elapsed time: 21.24 minutes\n",
      "\n",
      "Epoch #8\n"
     ]
    },
    {
     "name": "stderr",
     "output_type": "stream",
     "text": [
      "                                                                                                                       \r"
     ]
    },
    {
     "name": "stdout",
     "output_type": "stream",
     "text": [
      "Results: mean: -287.2 +/- 82.0, min: -365.0, max: 58.0,\n",
      "\n",
      "Testing...\n"
     ]
    },
    {
     "name": "stderr",
     "output_type": "stream",
     "text": [
      "                                                                                                                       \r"
     ]
    },
    {
     "name": "stdout",
     "output_type": "stream",
     "text": [
      "Results: mean: -277.4 +/- 93.9, min: -325.0 max: 66.0\n",
      "Total elapsed time: 24.46 minutes\n",
      "\n",
      "Epoch #9\n"
     ]
    },
    {
     "name": "stderr",
     "output_type": "stream",
     "text": [
      "                                                                                                                       \r"
     ]
    },
    {
     "name": "stdout",
     "output_type": "stream",
     "text": [
      "Results: mean: -242.0 +/- 128.7, min: -325.0, max: 58.0,\n",
      "\n",
      "Testing...\n"
     ]
    },
    {
     "name": "stderr",
     "output_type": "stream",
     "text": [
      "                                                                                                                       \r"
     ]
    },
    {
     "name": "stdout",
     "output_type": "stream",
     "text": [
      "Results: mean: -262.6 +/- 118.0, min: -335.0 max: 66.0\n",
      "Total elapsed time: 27.64 minutes\n",
      "\n",
      "Epoch #10\n"
     ]
    },
    {
     "name": "stderr",
     "output_type": "stream",
     "text": [
      "                                                                                                                       \r"
     ]
    },
    {
     "name": "stdout",
     "output_type": "stream",
     "text": [
      "Results: mean: -262.5 +/- 107.3, min: -325.0, max: 58.0,\n",
      "\n",
      "Testing...\n"
     ]
    },
    {
     "name": "stderr",
     "output_type": "stream",
     "text": [
      "\u001b[32m[I 2023-05-05 13:48:49,305]\u001b[0m Trial 77 finished with value: -257.22 and parameters: {'learning_rate': 0.0034359747964169225, 'batch_size': 64, 'replay_memory_size': 3000, 'discount_factor': 0.8246844772835653, 'frame_repeat': 20, 'optimizer': 'SGD', 'epsilon_decay': 0.9958660943863621}. Best is trial 48 with value: 27.29.\u001b[0m\n"
     ]
    },
    {
     "name": "stdout",
     "output_type": "stream",
     "text": [
      "Results: mean: -257.2 +/- 122.5, min: -335.0 max: 66.0\n",
      "Total elapsed time: 30.81 minutes\n",
      "\n",
      "Learning rate: 0.002368768769418012, Batch size: 128, Replay memory size: 8000,\n",
      "Discount factor: 0.8677425781762652, Frame repeat: 4, Optimizer: Adam, \n",
      "Epsilon decay: 0.9942312229356914\n",
      "\n",
      "Initializing doom...\n",
      "Doom initialized.\n",
      "Initializing New Model\n",
      "\n",
      "Epoch #1\n"
     ]
    },
    {
     "name": "stderr",
     "output_type": "stream",
     "text": [
      "                                                                                                                       \r"
     ]
    },
    {
     "name": "stdout",
     "output_type": "stream",
     "text": [
      "Results: mean: -111.3 +/- 185.7, min: -370.0, max: 74.0,\n",
      "\n",
      "Testing...\n"
     ]
    },
    {
     "name": "stderr",
     "output_type": "stream",
     "text": [
      "                                                                                                                       \r"
     ]
    },
    {
     "name": "stdout",
     "output_type": "stream",
     "text": [
      "Results: mean: -150.5 +/- 156.5, min: -370.0 max: 66.0\n",
      "Total elapsed time: 2.96 minutes\n",
      "\n",
      "Epoch #2\n"
     ]
    },
    {
     "name": "stderr",
     "output_type": "stream",
     "text": [
      "                                                                                                                       \r"
     ]
    },
    {
     "name": "stdout",
     "output_type": "stream",
     "text": [
      "Results: mean: -91.3 +/- 159.8, min: -365.0, max: 74.0,\n",
      "\n",
      "Testing...\n"
     ]
    },
    {
     "name": "stderr",
     "output_type": "stream",
     "text": [
      "                                                                                                                       \r"
     ]
    },
    {
     "name": "stdout",
     "output_type": "stream",
     "text": [
      "Results: mean: -251.5 +/- 125.9, min: -355.0 max: 66.0\n",
      "Total elapsed time: 6.19 minutes\n",
      "\n",
      "Epoch #3\n"
     ]
    },
    {
     "name": "stderr",
     "output_type": "stream",
     "text": [
      "                                                                                                                       \r"
     ]
    },
    {
     "name": "stdout",
     "output_type": "stream",
     "text": [
      "Results: mean: -188.9 +/- 148.3, min: -345.0, max: 74.0,\n",
      "\n",
      "Testing...\n"
     ]
    },
    {
     "name": "stderr",
     "output_type": "stream",
     "text": [
      "                                                                                                                       \r"
     ]
    },
    {
     "name": "stdout",
     "output_type": "stream",
     "text": [
      "Results: mean: -270.2 +/- 102.5, min: -330.0 max: 54.0\n",
      "Total elapsed time: 9.48 minutes\n",
      "\n",
      "Epoch #4\n"
     ]
    },
    {
     "name": "stderr",
     "output_type": "stream",
     "text": [
      "                                                                                                                       \r"
     ]
    },
    {
     "name": "stdout",
     "output_type": "stream",
     "text": [
      "Results: mean: -230.3 +/- 152.9, min: -330.0, max: 74.0,\n",
      "\n",
      "Testing...\n"
     ]
    },
    {
     "name": "stderr",
     "output_type": "stream",
     "text": [
      "                                                                                                                       \r"
     ]
    },
    {
     "name": "stdout",
     "output_type": "stream",
     "text": [
      "Results: mean: -269.9 +/- 100.4, min: -325.0 max: 66.0\n",
      "Total elapsed time: 12.76 minutes\n",
      "\n",
      "Epoch #5\n"
     ]
    },
    {
     "name": "stderr",
     "output_type": "stream",
     "text": [
      "                                                                                                                       \r"
     ]
    },
    {
     "name": "stdout",
     "output_type": "stream",
     "text": [
      "Results: mean: -274.1 +/- 116.1, min: -325.0, max: 74.0,\n",
      "\n",
      "Testing...\n"
     ]
    },
    {
     "name": "stderr",
     "output_type": "stream",
     "text": [
      "                                                                                                                       \r"
     ]
    },
    {
     "name": "stdout",
     "output_type": "stream",
     "text": [
      "Results: mean: -285.6 +/- 79.7, min: -320.0 max: 66.0\n",
      "Total elapsed time: 16.08 minutes\n",
      "\n",
      "Epoch #6\n"
     ]
    },
    {
     "name": "stderr",
     "output_type": "stream",
     "text": [
      "                                                                                                                       \r"
     ]
    },
    {
     "name": "stdout",
     "output_type": "stream",
     "text": [
      "Results: mean: -139.8 +/- 174.6, min: -325.0, max: 74.0,\n",
      "\n",
      "Testing...\n"
     ]
    },
    {
     "name": "stderr",
     "output_type": "stream",
     "text": [
      "                                                                                                                       \r"
     ]
    },
    {
     "name": "stdout",
     "output_type": "stream",
     "text": [
      "Results: mean: -239.2 +/- 121.9, min: -320.0 max: 66.0\n",
      "Total elapsed time: 19.30 minutes\n",
      "\n",
      "Epoch #7\n"
     ]
    },
    {
     "name": "stderr",
     "output_type": "stream",
     "text": [
      "                                                                                                                       \r"
     ]
    },
    {
     "name": "stdout",
     "output_type": "stream",
     "text": [
      "Results: mean: -227.6 +/- 144.0, min: -330.0, max: 70.0,\n",
      "\n",
      "Testing...\n"
     ]
    },
    {
     "name": "stderr",
     "output_type": "stream",
     "text": [
      "                                                                                                                       \r"
     ]
    },
    {
     "name": "stdout",
     "output_type": "stream",
     "text": [
      "Results: mean: -137.7 +/- 177.4, min: -350.0 max: 66.0\n",
      "Total elapsed time: 22.18 minutes\n",
      "\n",
      "Epoch #8\n"
     ]
    },
    {
     "name": "stderr",
     "output_type": "stream",
     "text": [
      "                                                                                                                       \r"
     ]
    },
    {
     "name": "stdout",
     "output_type": "stream",
     "text": [
      "Results: mean: -126.7 +/- 171.0, min: -325.0, max: 74.0,\n",
      "\n",
      "Testing...\n"
     ]
    },
    {
     "name": "stderr",
     "output_type": "stream",
     "text": [
      "                                                                                                                       \r"
     ]
    },
    {
     "name": "stdout",
     "output_type": "stream",
     "text": [
      "Results: mean: -221.7 +/- 128.6, min: -340.0 max: 66.0\n",
      "Total elapsed time: 25.34 minutes\n",
      "\n",
      "Epoch #9\n"
     ]
    },
    {
     "name": "stderr",
     "output_type": "stream",
     "text": [
      "                                                                                                                       \r"
     ]
    },
    {
     "name": "stdout",
     "output_type": "stream",
     "text": [
      "Results: mean: -107.6 +/- 179.9, min: -345.0, max: 74.0,\n",
      "\n",
      "Testing...\n"
     ]
    },
    {
     "name": "stderr",
     "output_type": "stream",
     "text": [
      "                                                                                                                       \r"
     ]
    },
    {
     "name": "stdout",
     "output_type": "stream",
     "text": [
      "Results: mean: -250.1 +/- 127.9, min: -355.0 max: 66.0\n",
      "Total elapsed time: 28.56 minutes\n",
      "\n",
      "Epoch #10\n"
     ]
    },
    {
     "name": "stderr",
     "output_type": "stream",
     "text": [
      "                                                                                                                       \r"
     ]
    },
    {
     "name": "stdout",
     "output_type": "stream",
     "text": [
      "Results: mean: -108.9 +/- 178.3, min: -330.0, max: 74.0,\n",
      "\n",
      "Testing...\n"
     ]
    },
    {
     "name": "stderr",
     "output_type": "stream",
     "text": [
      "\u001b[32m[I 2023-05-05 14:20:42,256]\u001b[0m Trial 78 finished with value: -285.17 and parameters: {'learning_rate': 0.002368768769418012, 'batch_size': 128, 'replay_memory_size': 8000, 'discount_factor': 0.8677425781762652, 'frame_repeat': 4, 'optimizer': 'Adam', 'epsilon_decay': 0.9942312229356914}. Best is trial 48 with value: 27.29.\u001b[0m\n"
     ]
    },
    {
     "name": "stdout",
     "output_type": "stream",
     "text": [
      "Results: mean: -285.2 +/- 83.0, min: -365.0 max: 66.0\n",
      "Total elapsed time: 31.87 minutes\n",
      "\n",
      "Learning rate: 0.0016135589183640779, Batch size: 128, Replay memory size: 7000,\n",
      "Discount factor: 0.9301942810811618, Frame repeat: 16, Optimizer: SGD, \n",
      "Epsilon decay: 0.9955869010984694\n",
      "\n",
      "Initializing doom...\n",
      "Doom initialized.\n",
      "Initializing New Model\n",
      "\n",
      "Epoch #1\n"
     ]
    },
    {
     "name": "stderr",
     "output_type": "stream",
     "text": [
      "                                                                                                                       \r"
     ]
    },
    {
     "name": "stdout",
     "output_type": "stream",
     "text": [
      "Results: mean: -256.2 +/- 112.7, min: -345.0, max: 62.0,\n",
      "\n",
      "Testing...\n"
     ]
    },
    {
     "name": "stderr",
     "output_type": "stream",
     "text": [
      "                                                                                                                       \r"
     ]
    },
    {
     "name": "stdout",
     "output_type": "stream",
     "text": [
      "Results: mean: -241.8 +/- 116.5, min: -320.0 max: 66.0\n",
      "Total elapsed time: 3.18 minutes\n",
      "\n",
      "Epoch #2\n"
     ]
    },
    {
     "name": "stderr",
     "output_type": "stream",
     "text": [
      "                                                                                                                       \r"
     ]
    },
    {
     "name": "stdout",
     "output_type": "stream",
     "text": [
      "Results: mean: -217.7 +/- 135.8, min: -360.0, max: 62.0,\n",
      "\n",
      "Testing...\n"
     ]
    },
    {
     "name": "stderr",
     "output_type": "stream",
     "text": [
      "                                                                                                                       \r"
     ]
    },
    {
     "name": "stdout",
     "output_type": "stream",
     "text": [
      "Results: mean: -81.7 +/- 173.4, min: -335.0 max: 66.0\n",
      "Total elapsed time: 5.83 minutes\n",
      "\n",
      "Epoch #3\n"
     ]
    },
    {
     "name": "stderr",
     "output_type": "stream",
     "text": [
      "                                                                                                                       \r"
     ]
    },
    {
     "name": "stdout",
     "output_type": "stream",
     "text": [
      "Results: mean: -123.6 +/- 141.9, min: -355.0, max: 62.0,\n",
      "\n",
      "Testing...\n"
     ]
    },
    {
     "name": "stderr",
     "output_type": "stream",
     "text": [
      "                                                                                                                       \r"
     ]
    },
    {
     "name": "stdout",
     "output_type": "stream",
     "text": [
      "Results: mean: -76.1 +/- 130.8, min: -365.0 max: 66.0\n",
      "Total elapsed time: 8.65 minutes\n",
      "\n",
      "Epoch #4\n"
     ]
    },
    {
     "name": "stderr",
     "output_type": "stream",
     "text": [
      "                                                                                                                       \r"
     ]
    },
    {
     "name": "stdout",
     "output_type": "stream",
     "text": [
      "Results: mean: -33.2 +/- 112.6, min: -350.0, max: 62.0,\n",
      "\n",
      "Testing...\n"
     ]
    },
    {
     "name": "stderr",
     "output_type": "stream",
     "text": [
      "                                                                                                                       \r"
     ]
    },
    {
     "name": "stdout",
     "output_type": "stream",
     "text": [
      "Results: mean: -126.7 +/- 166.9, min: -355.0 max: 66.0\n",
      "Total elapsed time: 12.08 minutes\n",
      "\n",
      "Epoch #5\n"
     ]
    },
    {
     "name": "stderr",
     "output_type": "stream",
     "text": [
      "                                                                                                                       \r"
     ]
    },
    {
     "name": "stdout",
     "output_type": "stream",
     "text": [
      "Results: mean: -15.0 +/- 92.5, min: -360.0, max: 62.0,\n",
      "\n",
      "Testing...\n"
     ]
    },
    {
     "name": "stderr",
     "output_type": "stream",
     "text": [
      "                                                                                                                       \r"
     ]
    },
    {
     "name": "stdout",
     "output_type": "stream",
     "text": [
      "Results: mean: -19.6 +/- 112.0, min: -355.0 max: 66.0\n",
      "Total elapsed time: 15.02 minutes\n",
      "\n",
      "Epoch #6\n"
     ]
    },
    {
     "name": "stderr",
     "output_type": "stream",
     "text": [
      "                                                                                                                       \r"
     ]
    },
    {
     "name": "stdout",
     "output_type": "stream",
     "text": [
      "Results: mean: -20.0 +/- 110.4, min: -370.0, max: 62.0,\n",
      "\n",
      "Testing...\n"
     ]
    },
    {
     "name": "stderr",
     "output_type": "stream",
     "text": [
      "                                                                                                                       \r"
     ]
    },
    {
     "name": "stdout",
     "output_type": "stream",
     "text": [
      "Results: mean: -23.2 +/- 108.7, min: -370.0 max: 66.0\n",
      "Total elapsed time: 18.21 minutes\n",
      "\n",
      "Epoch #7\n"
     ]
    },
    {
     "name": "stderr",
     "output_type": "stream",
     "text": [
      "                                                                                                                       \r"
     ]
    },
    {
     "name": "stdout",
     "output_type": "stream",
     "text": [
      "Results: mean: -22.2 +/- 100.4, min: -370.0, max: 62.0,\n",
      "\n",
      "Testing...\n"
     ]
    },
    {
     "name": "stderr",
     "output_type": "stream",
     "text": [
      "                                                                                                                       \r"
     ]
    },
    {
     "name": "stdout",
     "output_type": "stream",
     "text": [
      "Results: mean: 23.5 +/- 88.9, min: -365.0 max: 66.0\n",
      "Total elapsed time: 21.15 minutes\n",
      "\n",
      "Epoch #8\n"
     ]
    },
    {
     "name": "stderr",
     "output_type": "stream",
     "text": [
      "                                                                                                                       \r"
     ]
    },
    {
     "name": "stdout",
     "output_type": "stream",
     "text": [
      "Results: mean: -15.0 +/- 103.7, min: -365.0, max: 62.0,\n",
      "\n",
      "Testing...\n"
     ]
    },
    {
     "name": "stderr",
     "output_type": "stream",
     "text": [
      "                                                                                                                       \r"
     ]
    },
    {
     "name": "stdout",
     "output_type": "stream",
     "text": [
      "Results: mean: -24.3 +/- 101.9, min: -365.0 max: 66.0\n",
      "Total elapsed time: 24.24 minutes\n",
      "\n",
      "Epoch #9\n"
     ]
    },
    {
     "name": "stderr",
     "output_type": "stream",
     "text": [
      "                                                                                                                       \r"
     ]
    },
    {
     "name": "stdout",
     "output_type": "stream",
     "text": [
      "Results: mean: -20.2 +/- 101.5, min: -360.0, max: 62.0,\n",
      "\n",
      "Testing...\n"
     ]
    },
    {
     "name": "stderr",
     "output_type": "stream",
     "text": [
      "                                                                                                                       \r"
     ]
    },
    {
     "name": "stdout",
     "output_type": "stream",
     "text": [
      "Results: mean: -80.9 +/- 132.0, min: -360.0 max: 66.0\n",
      "Total elapsed time: 27.93 minutes\n",
      "\n",
      "Epoch #10\n"
     ]
    },
    {
     "name": "stderr",
     "output_type": "stream",
     "text": [
      "                                                                                                                       \r"
     ]
    },
    {
     "name": "stdout",
     "output_type": "stream",
     "text": [
      "Results: mean: -71.6 +/- 128.4, min: -345.0, max: 62.0,\n",
      "\n",
      "Testing...\n"
     ]
    },
    {
     "name": "stderr",
     "output_type": "stream",
     "text": [
      "\u001b[32m[I 2023-05-05 14:51:54,886]\u001b[0m Trial 79 finished with value: -60.01 and parameters: {'learning_rate': 0.0016135589183640779, 'batch_size': 128, 'replay_memory_size': 7000, 'discount_factor': 0.9301942810811618, 'frame_repeat': 16, 'optimizer': 'SGD', 'epsilon_decay': 0.9955869010984694}. Best is trial 48 with value: 27.29.\u001b[0m\n"
     ]
    },
    {
     "name": "stdout",
     "output_type": "stream",
     "text": [
      "Results: mean: -60.0 +/- 106.9, min: -355.0 max: 66.0\n",
      "Total elapsed time: 31.20 minutes\n",
      "\n",
      "Learning rate: 0.0026713728281919395, Batch size: 32, Replay memory size: 9000,\n",
      "Discount factor: 0.9070092333917089, Frame repeat: 16, Optimizer: SGD, \n",
      "Epsilon decay: 0.9949502864210434\n",
      "\n",
      "Initializing doom...\n",
      "Doom initialized.\n",
      "Initializing New Model\n",
      "\n",
      "Epoch #1\n"
     ]
    },
    {
     "name": "stderr",
     "output_type": "stream",
     "text": [
      "                                                                                                                       \r"
     ]
    },
    {
     "name": "stdout",
     "output_type": "stream",
     "text": [
      "Results: mean: -234.1 +/- 126.1, min: -345.0, max: 62.0,\n",
      "\n",
      "Testing...\n"
     ]
    },
    {
     "name": "stderr",
     "output_type": "stream",
     "text": [
      "                                                                                                                       \r"
     ]
    },
    {
     "name": "stdout",
     "output_type": "stream",
     "text": [
      "Results: mean: -227.3 +/- 133.3, min: -315.0 max: 54.0\n",
      "Total elapsed time: 3.08 minutes\n",
      "\n",
      "Epoch #2\n"
     ]
    },
    {
     "name": "stderr",
     "output_type": "stream",
     "text": [
      "                                                                                                                       \r"
     ]
    },
    {
     "name": "stdout",
     "output_type": "stream",
     "text": [
      "Results: mean: -207.7 +/- 136.6, min: -335.0, max: 62.0,\n",
      "\n",
      "Testing...\n"
     ]
    },
    {
     "name": "stderr",
     "output_type": "stream",
     "text": [
      "                                                                                                                       \r"
     ]
    },
    {
     "name": "stdout",
     "output_type": "stream",
     "text": [
      "Results: mean: -175.6 +/- 137.1, min: -315.0 max: 66.0\n",
      "Total elapsed time: 6.11 minutes\n",
      "\n",
      "Epoch #3\n"
     ]
    },
    {
     "name": "stderr",
     "output_type": "stream",
     "text": [
      "                                                                                                                       \r"
     ]
    },
    {
     "name": "stdout",
     "output_type": "stream",
     "text": [
      "Results: mean: -197.8 +/- 144.7, min: -355.0, max: 62.0,\n",
      "\n",
      "Testing...\n"
     ]
    },
    {
     "name": "stderr",
     "output_type": "stream",
     "text": [
      "                                                                                                                       \r"
     ]
    },
    {
     "name": "stdout",
     "output_type": "stream",
     "text": [
      "Results: mean: -218.5 +/- 128.6, min: -315.0 max: 66.0\n",
      "Total elapsed time: 10.03 minutes\n",
      "\n",
      "Epoch #4\n"
     ]
    },
    {
     "name": "stderr",
     "output_type": "stream",
     "text": [
      "                                                                                                                       \r"
     ]
    },
    {
     "name": "stdout",
     "output_type": "stream",
     "text": [
      "Results: mean: -237.2 +/- 123.7, min: -350.0, max: 62.0,\n",
      "\n",
      "Testing...\n"
     ]
    },
    {
     "name": "stderr",
     "output_type": "stream",
     "text": [
      "                                                                                                                       \r"
     ]
    },
    {
     "name": "stdout",
     "output_type": "stream",
     "text": [
      "Results: mean: -263.7 +/- 108.7, min: -365.0 max: 54.0\n",
      "Total elapsed time: 14.46 minutes\n",
      "\n",
      "Epoch #5\n"
     ]
    },
    {
     "name": "stderr",
     "output_type": "stream",
     "text": [
      "                                                                                                                       \r"
     ]
    },
    {
     "name": "stdout",
     "output_type": "stream",
     "text": [
      "Results: mean: -208.9 +/- 140.7, min: -365.0, max: 62.0,\n",
      "\n",
      "Testing...\n"
     ]
    },
    {
     "name": "stderr",
     "output_type": "stream",
     "text": [
      "                                                                                                                       \r"
     ]
    },
    {
     "name": "stdout",
     "output_type": "stream",
     "text": [
      "Results: mean: -167.5 +/- 154.3, min: -370.0 max: 54.0\n",
      "Total elapsed time: 18.06 minutes\n",
      "\n",
      "Epoch #6\n"
     ]
    },
    {
     "name": "stderr",
     "output_type": "stream",
     "text": [
      "                                                                                                                       \r"
     ]
    },
    {
     "name": "stdout",
     "output_type": "stream",
     "text": [
      "Results: mean: -210.3 +/- 159.4, min: -370.0, max: 62.0,\n",
      "\n",
      "Testing...\n"
     ]
    },
    {
     "name": "stderr",
     "output_type": "stream",
     "text": [
      "                                                                                                                       \r"
     ]
    },
    {
     "name": "stdout",
     "output_type": "stream",
     "text": [
      "Results: mean: -304.6 +/- 87.0, min: -370.0 max: 54.0\n",
      "Total elapsed time: 21.27 minutes\n",
      "\n",
      "Epoch #7\n"
     ]
    },
    {
     "name": "stderr",
     "output_type": "stream",
     "text": [
      "                                                                                                                       \r"
     ]
    },
    {
     "name": "stdout",
     "output_type": "stream",
     "text": [
      "Results: mean: -190.9 +/- 158.8, min: -370.0, max: 62.0,\n",
      "\n",
      "Testing...\n"
     ]
    },
    {
     "name": "stderr",
     "output_type": "stream",
     "text": [
      "                                                                                                                       \r"
     ]
    },
    {
     "name": "stdout",
     "output_type": "stream",
     "text": [
      "Results: mean: -246.8 +/- 124.5, min: -370.0 max: 54.0\n",
      "Total elapsed time: 25.09 minutes\n",
      "\n",
      "Epoch #8\n"
     ]
    },
    {
     "name": "stderr",
     "output_type": "stream",
     "text": [
      "                                                                                                                       \r"
     ]
    },
    {
     "name": "stdout",
     "output_type": "stream",
     "text": [
      "Results: mean: -184.4 +/- 153.7, min: -370.0, max: 62.0,\n",
      "\n",
      "Testing...\n"
     ]
    },
    {
     "name": "stderr",
     "output_type": "stream",
     "text": [
      "                                                                                                                       \r"
     ]
    },
    {
     "name": "stdout",
     "output_type": "stream",
     "text": [
      "Results: mean: -207.8 +/- 154.9, min: -370.0 max: 66.0\n",
      "Total elapsed time: 29.04 minutes\n",
      "\n",
      "Epoch #9\n"
     ]
    },
    {
     "name": "stderr",
     "output_type": "stream",
     "text": [
      "                                                                                                                       \r"
     ]
    },
    {
     "name": "stdout",
     "output_type": "stream",
     "text": [
      "Results: mean: -185.1 +/- 166.4, min: -370.0, max: 62.0,\n",
      "\n",
      "Testing...\n"
     ]
    },
    {
     "name": "stderr",
     "output_type": "stream",
     "text": [
      "                                                                                                                       \r"
     ]
    },
    {
     "name": "stdout",
     "output_type": "stream",
     "text": [
      "Results: mean: -218.5 +/- 135.2, min: -370.0 max: 66.0\n",
      "Total elapsed time: 32.98 minutes\n",
      "\n",
      "Epoch #10\n"
     ]
    },
    {
     "name": "stderr",
     "output_type": "stream",
     "text": [
      "                                                                                                                       \r"
     ]
    },
    {
     "name": "stdout",
     "output_type": "stream",
     "text": [
      "Results: mean: -256.5 +/- 130.8, min: -365.0, max: 62.0,\n",
      "\n",
      "Testing...\n"
     ]
    },
    {
     "name": "stderr",
     "output_type": "stream",
     "text": [
      "\u001b[32m[I 2023-05-05 15:28:41,835]\u001b[0m Trial 80 finished with value: -217.36 and parameters: {'learning_rate': 0.0026713728281919395, 'batch_size': 32, 'replay_memory_size': 9000, 'discount_factor': 0.9070092333917089, 'frame_repeat': 16, 'optimizer': 'SGD', 'epsilon_decay': 0.9949502864210434}. Best is trial 48 with value: 27.29.\u001b[0m\n"
     ]
    },
    {
     "name": "stdout",
     "output_type": "stream",
     "text": [
      "Results: mean: -217.4 +/- 136.6, min: -315.0 max: 66.0\n",
      "Total elapsed time: 36.77 minutes\n",
      "\n",
      "Learning rate: 0.005028970104988228, Batch size: 32, Replay memory size: 3000,\n",
      "Discount factor: 0.9848490026153479, Frame repeat: 12, Optimizer: Adam, \n",
      "Epsilon decay: 0.9954047536471831\n",
      "\n",
      "Initializing doom...\n",
      "Doom initialized.\n",
      "Initializing New Model\n",
      "\n",
      "Epoch #1\n"
     ]
    },
    {
     "name": "stderr",
     "output_type": "stream",
     "text": [
      "                                                                                                                       \r"
     ]
    },
    {
     "name": "stdout",
     "output_type": "stream",
     "text": [
      "Results: mean: -261.6 +/- 106.3, min: -350.0, max: 66.0,\n",
      "\n",
      "Testing...\n"
     ]
    },
    {
     "name": "stderr",
     "output_type": "stream",
     "text": [
      "                                                                                                                       \r"
     ]
    },
    {
     "name": "stdout",
     "output_type": "stream",
     "text": [
      "Results: mean: -288.2 +/- 85.6, min: -340.0 max: 66.0\n",
      "Total elapsed time: 4.09 minutes\n",
      "\n",
      "Epoch #2\n"
     ]
    },
    {
     "name": "stderr",
     "output_type": "stream",
     "text": [
      "                                                                                                                       \r"
     ]
    },
    {
     "name": "stdout",
     "output_type": "stream",
     "text": [
      "Results: mean: -183.0 +/- 164.4, min: -365.0, max: 66.0,\n",
      "\n",
      "Testing...\n"
     ]
    },
    {
     "name": "stderr",
     "output_type": "stream",
     "text": [
      "                                                                                                                       \r"
     ]
    },
    {
     "name": "stdout",
     "output_type": "stream",
     "text": [
      "Results: mean: -121.0 +/- 151.6, min: -350.0 max: 66.0\n",
      "Total elapsed time: 7.59 minutes\n",
      "\n",
      "Epoch #3\n"
     ]
    },
    {
     "name": "stderr",
     "output_type": "stream",
     "text": [
      "                                                                                                                       \r"
     ]
    },
    {
     "name": "stdout",
     "output_type": "stream",
     "text": [
      "Results: mean: -113.0 +/- 156.2, min: -360.0, max: 66.0,\n",
      "\n",
      "Testing...\n"
     ]
    },
    {
     "name": "stderr",
     "output_type": "stream",
     "text": [
      "                                                                                                                       \r"
     ]
    },
    {
     "name": "stdout",
     "output_type": "stream",
     "text": [
      "Results: mean: -243.3 +/- 126.8, min: -370.0 max: 66.0\n",
      "Total elapsed time: 11.52 minutes\n",
      "\n",
      "Epoch #4\n"
     ]
    },
    {
     "name": "stderr",
     "output_type": "stream",
     "text": [
      "                                                                                                                       \r"
     ]
    },
    {
     "name": "stdout",
     "output_type": "stream",
     "text": [
      "Results: mean: -47.9 +/- 134.2, min: -325.0, max: 66.0,\n",
      "\n",
      "Testing...\n"
     ]
    },
    {
     "name": "stderr",
     "output_type": "stream",
     "text": [
      "                                                                                                                       \r"
     ]
    },
    {
     "name": "stdout",
     "output_type": "stream",
     "text": [
      "Results: mean: -21.2 +/- 127.2, min: -355.0 max: 66.0\n",
      "Total elapsed time: 14.63 minutes\n",
      "\n",
      "Epoch #5\n"
     ]
    },
    {
     "name": "stderr",
     "output_type": "stream",
     "text": [
      "                                                                                                                       \r"
     ]
    },
    {
     "name": "stdout",
     "output_type": "stream",
     "text": [
      "Results: mean: -3.8 +/- 100.0, min: -370.0, max: 66.0,\n",
      "\n",
      "Testing...\n"
     ]
    },
    {
     "name": "stderr",
     "output_type": "stream",
     "text": [
      "                                                                                                                       \r"
     ]
    },
    {
     "name": "stdout",
     "output_type": "stream",
     "text": [
      "Results: mean: -29.2 +/- 105.2, min: -365.0 max: 66.0\n",
      "Total elapsed time: 17.78 minutes\n",
      "\n",
      "Epoch #6\n"
     ]
    },
    {
     "name": "stderr",
     "output_type": "stream",
     "text": [
      "                                                                                                                       \r"
     ]
    },
    {
     "name": "stdout",
     "output_type": "stream",
     "text": [
      "Results: mean: -32.2 +/- 133.1, min: -370.0, max: 66.0,\n",
      "\n",
      "Testing...\n"
     ]
    },
    {
     "name": "stderr",
     "output_type": "stream",
     "text": [
      "                                                                                                                       \r"
     ]
    },
    {
     "name": "stdout",
     "output_type": "stream",
     "text": [
      "Results: mean: -170.0 +/- 182.1, min: -370.0 max: 66.0\n",
      "Total elapsed time: 21.41 minutes\n",
      "\n",
      "Epoch #7\n"
     ]
    },
    {
     "name": "stderr",
     "output_type": "stream",
     "text": [
      "                                                                                                                       \r"
     ]
    },
    {
     "name": "stdout",
     "output_type": "stream",
     "text": [
      "Results: mean: -71.5 +/- 150.1, min: -370.0, max: 66.0,\n",
      "\n",
      "Testing...\n"
     ]
    },
    {
     "name": "stderr",
     "output_type": "stream",
     "text": [
      "                                                                                                                       \r"
     ]
    },
    {
     "name": "stdout",
     "output_type": "stream",
     "text": [
      "Results: mean: -44.7 +/- 129.5, min: -330.0 max: 66.0\n",
      "Total elapsed time: 24.96 minutes\n",
      "\n",
      "Epoch #8\n"
     ]
    },
    {
     "name": "stderr",
     "output_type": "stream",
     "text": [
      "                                                                                                                       \r"
     ]
    },
    {
     "name": "stdout",
     "output_type": "stream",
     "text": [
      "Results: mean: -69.0 +/- 150.0, min: -355.0, max: 66.0,\n",
      "\n",
      "Testing...\n"
     ]
    },
    {
     "name": "stderr",
     "output_type": "stream",
     "text": [
      "                                                                                                                       \r"
     ]
    },
    {
     "name": "stdout",
     "output_type": "stream",
     "text": [
      "Results: mean: 10.5 +/- 90.1, min: -365.0 max: 66.0\n",
      "Total elapsed time: 27.99 minutes\n",
      "\n",
      "Epoch #9\n"
     ]
    },
    {
     "name": "stderr",
     "output_type": "stream",
     "text": [
      "                                                                                                                       \r"
     ]
    },
    {
     "name": "stdout",
     "output_type": "stream",
     "text": [
      "Results: mean: -7.8 +/- 99.4, min: -330.0, max: 66.0,\n",
      "\n",
      "Testing...\n"
     ]
    },
    {
     "name": "stderr",
     "output_type": "stream",
     "text": [
      "                                                                                                                       \r"
     ]
    },
    {
     "name": "stdout",
     "output_type": "stream",
     "text": [
      "Results: mean: -49.6 +/- 101.3, min: -330.0 max: 66.0\n",
      "Total elapsed time: 31.22 minutes\n",
      "\n",
      "Epoch #10\n"
     ]
    },
    {
     "name": "stderr",
     "output_type": "stream",
     "text": [
      "                                                                                                                       \r"
     ]
    },
    {
     "name": "stdout",
     "output_type": "stream",
     "text": [
      "Results: mean: -31.8 +/- 124.0, min: -360.0, max: 66.0,\n",
      "\n",
      "Testing...\n"
     ]
    },
    {
     "name": "stderr",
     "output_type": "stream",
     "text": [
      "\u001b[32m[I 2023-05-05 16:03:04,101]\u001b[0m Trial 81 finished with value: -35.36 and parameters: {'learning_rate': 0.005028970104988228, 'batch_size': 32, 'replay_memory_size': 3000, 'discount_factor': 0.9848490026153479, 'frame_repeat': 12, 'optimizer': 'Adam', 'epsilon_decay': 0.9954047536471831}. Best is trial 48 with value: 27.29.\u001b[0m\n"
     ]
    },
    {
     "name": "stdout",
     "output_type": "stream",
     "text": [
      "Results: mean: -35.4 +/- 147.6, min: -340.0 max: 66.0\n",
      "Total elapsed time: 34.36 minutes\n",
      "\n",
      "Learning rate: 0.004353520399726973, Batch size: 32, Replay memory size: 3000,\n",
      "Discount factor: 0.9651127153440456, Frame repeat: 12, Optimizer: Adam, \n",
      "Epsilon decay: 0.9961031761906658\n",
      "\n",
      "Initializing doom...\n",
      "Doom initialized.\n",
      "Initializing New Model\n",
      "\n",
      "Epoch #1\n"
     ]
    },
    {
     "name": "stderr",
     "output_type": "stream",
     "text": [
      "                                                                                                                       \r"
     ]
    },
    {
     "name": "stdout",
     "output_type": "stream",
     "text": [
      "Results: mean: -215.1 +/- 144.1, min: -355.0, max: 66.0,\n",
      "\n",
      "Testing...\n"
     ]
    },
    {
     "name": "stderr",
     "output_type": "stream",
     "text": [
      "                                                                                                                       \r"
     ]
    },
    {
     "name": "stdout",
     "output_type": "stream",
     "text": [
      "Results: mean: -224.2 +/- 132.9, min: -320.0 max: 66.0\n",
      "Total elapsed time: 3.95 minutes\n",
      "\n",
      "Epoch #2\n"
     ]
    },
    {
     "name": "stderr",
     "output_type": "stream",
     "text": [
      "                                                                                                                       \r"
     ]
    },
    {
     "name": "stdout",
     "output_type": "stream",
     "text": [
      "Results: mean: -183.1 +/- 155.7, min: -365.0, max: 66.0,\n",
      "\n",
      "Testing...\n"
     ]
    },
    {
     "name": "stderr",
     "output_type": "stream",
     "text": [
      "                                                                                                                       \r"
     ]
    },
    {
     "name": "stdout",
     "output_type": "stream",
     "text": [
      "Results: mean: -141.5 +/- 164.4, min: -325.0 max: 66.0\n",
      "Total elapsed time: 7.49 minutes\n",
      "\n",
      "Epoch #3\n"
     ]
    },
    {
     "name": "stderr",
     "output_type": "stream",
     "text": [
      "                                                                                                                       \r"
     ]
    },
    {
     "name": "stdout",
     "output_type": "stream",
     "text": [
      "Results: mean: -82.8 +/- 153.6, min: -360.0, max: 66.0,\n",
      "\n",
      "Testing...\n"
     ]
    },
    {
     "name": "stderr",
     "output_type": "stream",
     "text": [
      "                                                                                                                       \r"
     ]
    },
    {
     "name": "stdout",
     "output_type": "stream",
     "text": [
      "Results: mean: -207.7 +/- 153.2, min: -350.0 max: 66.0\n",
      "Total elapsed time: 11.25 minutes\n",
      "\n",
      "Epoch #4\n"
     ]
    },
    {
     "name": "stderr",
     "output_type": "stream",
     "text": [
      "                                                                                                                       \r"
     ]
    },
    {
     "name": "stdout",
     "output_type": "stream",
     "text": [
      "Results: mean: -19.0 +/- 114.2, min: -340.0, max: 66.0,\n",
      "\n",
      "Testing...\n"
     ]
    },
    {
     "name": "stderr",
     "output_type": "stream",
     "text": [
      "                                                                                                                       \r"
     ]
    },
    {
     "name": "stdout",
     "output_type": "stream",
     "text": [
      "Results: mean: -20.4 +/- 110.1, min: -345.0 max: 66.0\n",
      "Total elapsed time: 14.37 minutes\n",
      "\n",
      "Epoch #5\n"
     ]
    },
    {
     "name": "stderr",
     "output_type": "stream",
     "text": [
      "                                                                                                                       \r"
     ]
    },
    {
     "name": "stdout",
     "output_type": "stream",
     "text": [
      "Results: mean: -5.3 +/- 87.4, min: -345.0, max: 66.0,\n",
      "\n",
      "Testing...\n"
     ]
    },
    {
     "name": "stderr",
     "output_type": "stream",
     "text": [
      "                                                                                                                       \r"
     ]
    },
    {
     "name": "stdout",
     "output_type": "stream",
     "text": [
      "Results: mean: -34.8 +/- 101.8, min: -340.0 max: 66.0\n",
      "Total elapsed time: 17.57 minutes\n",
      "\n",
      "Epoch #6\n"
     ]
    },
    {
     "name": "stderr",
     "output_type": "stream",
     "text": [
      "                                                                                                                       \r"
     ]
    },
    {
     "name": "stdout",
     "output_type": "stream",
     "text": [
      "Results: mean: 6.4 +/- 87.4, min: -340.0, max: 66.0,\n",
      "\n",
      "Testing...\n"
     ]
    },
    {
     "name": "stderr",
     "output_type": "stream",
     "text": [
      "                                                                                                                       \r"
     ]
    },
    {
     "name": "stdout",
     "output_type": "stream",
     "text": [
      "Results: mean: -21.7 +/- 115.7, min: -345.0 max: 66.0\n",
      "Total elapsed time: 20.64 minutes\n",
      "\n",
      "Epoch #7\n"
     ]
    },
    {
     "name": "stderr",
     "output_type": "stream",
     "text": [
      "                                                                                                                       \r"
     ]
    },
    {
     "name": "stdout",
     "output_type": "stream",
     "text": [
      "Results: mean: -20.0 +/- 111.2, min: -350.0, max: 66.0,\n",
      "\n",
      "Testing...\n"
     ]
    },
    {
     "name": "stderr",
     "output_type": "stream",
     "text": [
      "                                                                                                                       \r"
     ]
    },
    {
     "name": "stdout",
     "output_type": "stream",
     "text": [
      "Results: mean: -28.4 +/- 114.2, min: -330.0 max: 66.0\n",
      "Total elapsed time: 23.98 minutes\n",
      "\n",
      "Epoch #8\n"
     ]
    },
    {
     "name": "stderr",
     "output_type": "stream",
     "text": [
      "                                                                                                                       \r"
     ]
    },
    {
     "name": "stdout",
     "output_type": "stream",
     "text": [
      "Results: mean: -79.0 +/- 148.7, min: -320.0, max: 66.0,\n",
      "\n",
      "Testing...\n"
     ]
    },
    {
     "name": "stderr",
     "output_type": "stream",
     "text": [
      "                                                                                                                       \r"
     ]
    },
    {
     "name": "stdout",
     "output_type": "stream",
     "text": [
      "Results: mean: -93.1 +/- 157.9, min: -345.0 max: 66.0\n",
      "Total elapsed time: 27.75 minutes\n",
      "\n",
      "Epoch #9\n"
     ]
    },
    {
     "name": "stderr",
     "output_type": "stream",
     "text": [
      "                                                                                                                       \r"
     ]
    },
    {
     "name": "stdout",
     "output_type": "stream",
     "text": [
      "Results: mean: -44.6 +/- 151.5, min: -325.0, max: 66.0,\n",
      "\n",
      "Testing...\n"
     ]
    },
    {
     "name": "stderr",
     "output_type": "stream",
     "text": [
      "                                                                                                                       \r"
     ]
    },
    {
     "name": "stdout",
     "output_type": "stream",
     "text": [
      "Results: mean: -16.3 +/- 125.8, min: -315.0 max: 66.0\n",
      "Total elapsed time: 30.85 minutes\n",
      "\n",
      "Epoch #10\n"
     ]
    },
    {
     "name": "stderr",
     "output_type": "stream",
     "text": [
      "                                                                                                                       \r"
     ]
    },
    {
     "name": "stdout",
     "output_type": "stream",
     "text": [
      "Results: mean: -73.4 +/- 154.5, min: -330.0, max: 66.0,\n",
      "\n",
      "Testing...\n"
     ]
    },
    {
     "name": "stderr",
     "output_type": "stream",
     "text": [
      "\u001b[32m[I 2023-05-05 16:36:51,631]\u001b[0m Trial 82 finished with value: -70.6 and parameters: {'learning_rate': 0.004353520399726973, 'batch_size': 32, 'replay_memory_size': 3000, 'discount_factor': 0.9651127153440456, 'frame_repeat': 12, 'optimizer': 'Adam', 'epsilon_decay': 0.9961031761906658}. Best is trial 48 with value: 27.29.\u001b[0m\n"
     ]
    },
    {
     "name": "stdout",
     "output_type": "stream",
     "text": [
      "Results: mean: -70.6 +/- 161.7, min: -335.0 max: 66.0\n",
      "Total elapsed time: 33.78 minutes\n",
      "\n",
      "Learning rate: 0.005598724134864692, Batch size: 32, Replay memory size: 4000,\n",
      "Discount factor: 0.9381598037714467, Frame repeat: 20, Optimizer: Adam, \n",
      "Epsilon decay: 0.9964787837726087\n",
      "\n",
      "Initializing doom...\n",
      "Doom initialized.\n",
      "Initializing New Model\n",
      "\n",
      "Epoch #1\n"
     ]
    },
    {
     "name": "stderr",
     "output_type": "stream",
     "text": [
      "                                                                                                                       \r"
     ]
    },
    {
     "name": "stdout",
     "output_type": "stream",
     "text": [
      "Results: mean: -283.6 +/- 79.6, min: -340.0, max: 58.0,\n",
      "\n",
      "Testing...\n"
     ]
    },
    {
     "name": "stderr",
     "output_type": "stream",
     "text": [
      "                                                                                                                       \r"
     ]
    },
    {
     "name": "stdout",
     "output_type": "stream",
     "text": [
      "Results: mean: -265.2 +/- 103.4, min: -330.0 max: 66.0\n",
      "Total elapsed time: 3.57 minutes\n",
      "\n",
      "Epoch #2\n"
     ]
    },
    {
     "name": "stderr",
     "output_type": "stream",
     "text": [
      "                                                                                                                       \r"
     ]
    },
    {
     "name": "stdout",
     "output_type": "stream",
     "text": [
      "Results: mean: -197.2 +/- 156.8, min: -355.0, max: 58.0,\n",
      "\n",
      "Testing...\n"
     ]
    },
    {
     "name": "stderr",
     "output_type": "stream",
     "text": [
      "                                                                                                                       \r"
     ]
    },
    {
     "name": "stdout",
     "output_type": "stream",
     "text": [
      "Results: mean: -255.6 +/- 115.7, min: -340.0 max: 66.0\n",
      "Total elapsed time: 7.11 minutes\n",
      "\n",
      "Epoch #3\n"
     ]
    },
    {
     "name": "stderr",
     "output_type": "stream",
     "text": [
      "                                                                                                                       \r"
     ]
    },
    {
     "name": "stdout",
     "output_type": "stream",
     "text": [
      "Results: mean: -107.4 +/- 174.9, min: -355.0, max: 58.0,\n",
      "\n",
      "Testing...\n"
     ]
    },
    {
     "name": "stderr",
     "output_type": "stream",
     "text": [
      "                                                                                                                       \r"
     ]
    },
    {
     "name": "stdout",
     "output_type": "stream",
     "text": [
      "Results: mean: -87.2 +/- 183.5, min: -370.0 max: 66.0\n",
      "Total elapsed time: 10.04 minutes\n",
      "\n",
      "Epoch #4\n"
     ]
    },
    {
     "name": "stderr",
     "output_type": "stream",
     "text": [
      "                                                                                                                       \r"
     ]
    },
    {
     "name": "stdout",
     "output_type": "stream",
     "text": [
      "Results: mean: -67.4 +/- 157.1, min: -370.0, max: 58.0,\n",
      "\n",
      "Testing...\n"
     ]
    },
    {
     "name": "stderr",
     "output_type": "stream",
     "text": [
      "                                                                                                                       \r"
     ]
    },
    {
     "name": "stdout",
     "output_type": "stream",
     "text": [
      "Results: mean: -23.2 +/- 115.3, min: -345.0 max: 66.0\n",
      "Total elapsed time: 12.83 minutes\n",
      "\n",
      "Epoch #5\n"
     ]
    },
    {
     "name": "stderr",
     "output_type": "stream",
     "text": [
      "                                                                                                                       \r"
     ]
    },
    {
     "name": "stdout",
     "output_type": "stream",
     "text": [
      "Results: mean: -35.0 +/- 127.8, min: -370.0, max: 58.0,\n",
      "\n",
      "Testing...\n"
     ]
    },
    {
     "name": "stderr",
     "output_type": "stream",
     "text": [
      "                                                                                                                       \r"
     ]
    },
    {
     "name": "stdout",
     "output_type": "stream",
     "text": [
      "Results: mean: -189.0 +/- 160.5, min: -330.0 max: 66.0\n",
      "Total elapsed time: 16.12 minutes\n",
      "\n",
      "Epoch #6\n"
     ]
    },
    {
     "name": "stderr",
     "output_type": "stream",
     "text": [
      "                                                                                                                       \r"
     ]
    },
    {
     "name": "stdout",
     "output_type": "stream",
     "text": [
      "Results: mean: -51.4 +/- 137.7, min: -370.0, max: 58.0,\n",
      "\n",
      "Testing...\n"
     ]
    },
    {
     "name": "stderr",
     "output_type": "stream",
     "text": [
      "                                                                                                                       \r"
     ]
    },
    {
     "name": "stdout",
     "output_type": "stream",
     "text": [
      "Results: mean: -97.2 +/- 163.7, min: -370.0 max: 66.0\n",
      "Total elapsed time: 19.13 minutes\n",
      "\n",
      "Epoch #7\n"
     ]
    },
    {
     "name": "stderr",
     "output_type": "stream",
     "text": [
      "                                                                                                                       \r"
     ]
    },
    {
     "name": "stdout",
     "output_type": "stream",
     "text": [
      "Results: mean: -28.5 +/- 120.2, min: -360.0, max: 58.0,\n",
      "\n",
      "Testing...\n"
     ]
    },
    {
     "name": "stderr",
     "output_type": "stream",
     "text": [
      "                                                                                                                       \r"
     ]
    },
    {
     "name": "stdout",
     "output_type": "stream",
     "text": [
      "Results: mean: -24.9 +/- 104.8, min: -335.0 max: 66.0\n",
      "Total elapsed time: 21.95 minutes\n",
      "\n",
      "Epoch #8\n"
     ]
    },
    {
     "name": "stderr",
     "output_type": "stream",
     "text": [
      "                                                                                                                       \r"
     ]
    },
    {
     "name": "stdout",
     "output_type": "stream",
     "text": [
      "Results: mean: -25.5 +/- 104.3, min: -340.0, max: 58.0,\n",
      "\n",
      "Testing...\n"
     ]
    },
    {
     "name": "stderr",
     "output_type": "stream",
     "text": [
      "                                                                                                                       \r"
     ]
    },
    {
     "name": "stdout",
     "output_type": "stream",
     "text": [
      "Results: mean: -35.6 +/- 108.7, min: -350.0 max: 66.0\n",
      "Total elapsed time: 24.79 minutes\n",
      "\n",
      "Epoch #9\n"
     ]
    },
    {
     "name": "stderr",
     "output_type": "stream",
     "text": [
      "                                                                                                                       \r"
     ]
    },
    {
     "name": "stdout",
     "output_type": "stream",
     "text": [
      "Results: mean: -37.5 +/- 115.8, min: -345.0, max: 58.0,\n",
      "\n",
      "Testing...\n"
     ]
    },
    {
     "name": "stderr",
     "output_type": "stream",
     "text": [
      "                                                                                                                       \r"
     ]
    },
    {
     "name": "stdout",
     "output_type": "stream",
     "text": [
      "Results: mean: -97.6 +/- 148.1, min: -360.0 max: 66.0\n",
      "Total elapsed time: 27.81 minutes\n",
      "\n",
      "Epoch #10\n"
     ]
    },
    {
     "name": "stderr",
     "output_type": "stream",
     "text": [
      "                                                                                                                       \r"
     ]
    },
    {
     "name": "stdout",
     "output_type": "stream",
     "text": [
      "Results: mean: -25.8 +/- 115.6, min: -345.0, max: 58.0,\n",
      "\n",
      "Testing...\n"
     ]
    },
    {
     "name": "stderr",
     "output_type": "stream",
     "text": [
      "\u001b[32m[I 2023-05-05 17:07:38,229]\u001b[0m Trial 83 finished with value: -64.41 and parameters: {'learning_rate': 0.005598724134864692, 'batch_size': 32, 'replay_memory_size': 4000, 'discount_factor': 0.9381598037714467, 'frame_repeat': 20, 'optimizer': 'Adam', 'epsilon_decay': 0.9964787837726087}. Best is trial 48 with value: 27.29.\u001b[0m\n"
     ]
    },
    {
     "name": "stdout",
     "output_type": "stream",
     "text": [
      "Results: mean: -64.4 +/- 123.9, min: -355.0 max: 66.0\n",
      "Total elapsed time: 30.76 minutes\n",
      "\n",
      "Learning rate: 0.0037454288576451926, Batch size: 32, Replay memory size: 2000,\n",
      "Discount factor: 0.989630021181358, Frame repeat: 12, Optimizer: Adam, \n",
      "Epsilon decay: 0.9947594374548043\n",
      "\n",
      "Initializing doom...\n",
      "Doom initialized.\n",
      "Initializing New Model\n",
      "\n",
      "Epoch #1\n"
     ]
    },
    {
     "name": "stderr",
     "output_type": "stream",
     "text": [
      "                                                                                                                       \r"
     ]
    },
    {
     "name": "stdout",
     "output_type": "stream",
     "text": [
      "Results: mean: -254.6 +/- 121.8, min: -350.0, max: 66.0,\n",
      "\n",
      "Testing...\n"
     ]
    },
    {
     "name": "stderr",
     "output_type": "stream",
     "text": [
      "                                                                                                                       \r"
     ]
    },
    {
     "name": "stdout",
     "output_type": "stream",
     "text": [
      "Results: mean: -229.8 +/- 113.9, min: -330.0 max: 66.0\n",
      "Total elapsed time: 3.49 minutes\n",
      "\n",
      "Epoch #2\n"
     ]
    },
    {
     "name": "stderr",
     "output_type": "stream",
     "text": [
      "                                                                                                                       \r"
     ]
    },
    {
     "name": "stdout",
     "output_type": "stream",
     "text": [
      "Results: mean: -212.5 +/- 142.1, min: -370.0, max: 66.0,\n",
      "\n",
      "Testing...\n"
     ]
    },
    {
     "name": "stderr",
     "output_type": "stream",
     "text": [
      "                                                                                                                       \r"
     ]
    },
    {
     "name": "stdout",
     "output_type": "stream",
     "text": [
      "Results: mean: -273.1 +/- 116.0, min: -360.0 max: 66.0\n",
      "Total elapsed time: 7.02 minutes\n",
      "\n",
      "Epoch #3\n"
     ]
    },
    {
     "name": "stderr",
     "output_type": "stream",
     "text": [
      "                                                                                                                       \r"
     ]
    },
    {
     "name": "stdout",
     "output_type": "stream",
     "text": [
      "Results: mean: -33.7 +/- 130.5, min: -340.0, max: 66.0,\n",
      "\n",
      "Testing...\n"
     ]
    },
    {
     "name": "stderr",
     "output_type": "stream",
     "text": [
      "                                                                                                                       \r"
     ]
    },
    {
     "name": "stdout",
     "output_type": "stream",
     "text": [
      "Results: mean: -34.4 +/- 148.1, min: -330.0 max: 66.0\n",
      "Total elapsed time: 9.87 minutes\n",
      "\n",
      "Epoch #4\n"
     ]
    },
    {
     "name": "stderr",
     "output_type": "stream",
     "text": [
      "                                                                                                                       \r"
     ]
    },
    {
     "name": "stdout",
     "output_type": "stream",
     "text": [
      "Results: mean: -7.4 +/- 123.8, min: -355.0, max: 66.0,\n",
      "\n",
      "Testing...\n"
     ]
    },
    {
     "name": "stderr",
     "output_type": "stream",
     "text": [
      "                                                                                                                       \r"
     ]
    },
    {
     "name": "stdout",
     "output_type": "stream",
     "text": [
      "Results: mean: -35.0 +/- 154.7, min: -345.0 max: 66.0\n",
      "Total elapsed time: 12.67 minutes\n",
      "\n",
      "Epoch #5\n"
     ]
    },
    {
     "name": "stderr",
     "output_type": "stream",
     "text": [
      "                                                                                                                       \r"
     ]
    },
    {
     "name": "stdout",
     "output_type": "stream",
     "text": [
      "Results: mean: 2.2 +/- 110.7, min: -365.0, max: 66.0,\n",
      "\n",
      "Testing...\n"
     ]
    },
    {
     "name": "stderr",
     "output_type": "stream",
     "text": [
      "                                                                                                                       \r"
     ]
    },
    {
     "name": "stdout",
     "output_type": "stream",
     "text": [
      "Results: mean: 11.4 +/- 117.7, min: -350.0 max: 66.0\n",
      "Total elapsed time: 15.58 minutes\n",
      "\n",
      "Epoch #6\n"
     ]
    },
    {
     "name": "stderr",
     "output_type": "stream",
     "text": [
      "                                                                                                                       \r"
     ]
    },
    {
     "name": "stdout",
     "output_type": "stream",
     "text": [
      "Results: mean: 15.1 +/- 114.6, min: -360.0, max: 66.0,\n",
      "\n",
      "Testing...\n"
     ]
    },
    {
     "name": "stderr",
     "output_type": "stream",
     "text": [
      "                                                                                                                       \r"
     ]
    },
    {
     "name": "stdout",
     "output_type": "stream",
     "text": [
      "Results: mean: 7.5 +/- 121.2, min: -360.0 max: 66.0\n",
      "Total elapsed time: 18.89 minutes\n",
      "\n",
      "Epoch #7\n"
     ]
    },
    {
     "name": "stderr",
     "output_type": "stream",
     "text": [
      "                                                                                                                       \r"
     ]
    },
    {
     "name": "stdout",
     "output_type": "stream",
     "text": [
      "Results: mean: 7.2 +/- 107.8, min: -355.0, max: 66.0,\n",
      "\n",
      "Testing...\n"
     ]
    },
    {
     "name": "stderr",
     "output_type": "stream",
     "text": [
      "                                                                                                                       \r"
     ]
    },
    {
     "name": "stdout",
     "output_type": "stream",
     "text": [
      "Results: mean: 8.6 +/- 107.7, min: -330.0 max: 66.0\n",
      "Total elapsed time: 21.35 minutes\n",
      "\n",
      "Epoch #8\n"
     ]
    },
    {
     "name": "stderr",
     "output_type": "stream",
     "text": [
      "                                                                                                                       \r"
     ]
    },
    {
     "name": "stdout",
     "output_type": "stream",
     "text": [
      "Results: mean: -11.3 +/- 121.9, min: -355.0, max: 66.0,\n",
      "\n",
      "Testing...\n"
     ]
    },
    {
     "name": "stderr",
     "output_type": "stream",
     "text": [
      "                                                                                                                       \r"
     ]
    },
    {
     "name": "stdout",
     "output_type": "stream",
     "text": [
      "Results: mean: -4.2 +/- 125.9, min: -355.0 max: 66.0\n",
      "Total elapsed time: 24.23 minutes\n",
      "\n",
      "Epoch #9\n"
     ]
    },
    {
     "name": "stderr",
     "output_type": "stream",
     "text": [
      "                                                                                                                       \r"
     ]
    },
    {
     "name": "stdout",
     "output_type": "stream",
     "text": [
      "Results: mean: -25.3 +/- 138.9, min: -365.0, max: 66.0,\n",
      "\n",
      "Testing...\n"
     ]
    },
    {
     "name": "stderr",
     "output_type": "stream",
     "text": [
      "                                                                                                                       \r"
     ]
    },
    {
     "name": "stdout",
     "output_type": "stream",
     "text": [
      "Results: mean: -17.4 +/- 126.4, min: -350.0 max: 66.0\n",
      "Total elapsed time: 27.59 minutes\n",
      "\n",
      "Epoch #10\n"
     ]
    },
    {
     "name": "stderr",
     "output_type": "stream",
     "text": [
      "                                                                                                                       \r"
     ]
    },
    {
     "name": "stdout",
     "output_type": "stream",
     "text": [
      "Results: mean: -74.1 +/- 137.2, min: -365.0, max: 66.0,\n",
      "\n",
      "Testing...\n"
     ]
    },
    {
     "name": "stderr",
     "output_type": "stream",
     "text": [
      "\u001b[32m[I 2023-05-05 17:38:45,711]\u001b[0m Trial 84 finished with value: -156.56 and parameters: {'learning_rate': 0.0037454288576451926, 'batch_size': 32, 'replay_memory_size': 2000, 'discount_factor': 0.989630021181358, 'frame_repeat': 12, 'optimizer': 'Adam', 'epsilon_decay': 0.9947594374548043}. Best is trial 48 with value: 27.29.\u001b[0m\n"
     ]
    },
    {
     "name": "stdout",
     "output_type": "stream",
     "text": [
      "Results: mean: -156.6 +/- 157.0, min: -360.0 max: 66.0\n",
      "Total elapsed time: 31.11 minutes\n",
      "\n",
      "Learning rate: 0.003205780148147574, Batch size: 32, Replay memory size: 3000,\n",
      "Discount factor: 0.8907754250171918, Frame repeat: 8, Optimizer: Adam, \n",
      "Epsilon decay: 0.9951602562305673\n",
      "\n",
      "Initializing doom...\n",
      "Doom initialized.\n",
      "Initializing New Model\n",
      "\n",
      "Epoch #1\n"
     ]
    },
    {
     "name": "stderr",
     "output_type": "stream",
     "text": [
      "                                                                                                                       \r"
     ]
    },
    {
     "name": "stdout",
     "output_type": "stream",
     "text": [
      "Results: mean: -200.6 +/- 164.1, min: -365.0, max: 70.0,\n",
      "\n",
      "Testing...\n"
     ]
    },
    {
     "name": "stderr",
     "output_type": "stream",
     "text": [
      "                                                                                                                       \r"
     ]
    },
    {
     "name": "stdout",
     "output_type": "stream",
     "text": [
      "Results: mean: -77.9 +/- 183.9, min: -370.0 max: 66.0\n",
      "Total elapsed time: 2.70 minutes\n",
      "\n",
      "Epoch #2\n"
     ]
    },
    {
     "name": "stderr",
     "output_type": "stream",
     "text": [
      "                                                                                                                       \r"
     ]
    },
    {
     "name": "stdout",
     "output_type": "stream",
     "text": [
      "Results: mean: -229.1 +/- 139.5, min: -355.0, max: 62.0,\n",
      "\n",
      "Testing...\n"
     ]
    },
    {
     "name": "stderr",
     "output_type": "stream",
     "text": [
      "                                                                                                                       \r"
     ]
    },
    {
     "name": "stdout",
     "output_type": "stream",
     "text": [
      "Results: mean: -262.4 +/- 90.3, min: -325.0 max: 18.0\n",
      "Total elapsed time: 6.03 minutes\n",
      "\n",
      "Epoch #3\n"
     ]
    },
    {
     "name": "stderr",
     "output_type": "stream",
     "text": [
      "                                                                                                                       \r"
     ]
    },
    {
     "name": "stdout",
     "output_type": "stream",
     "text": [
      "Results: mean: -150.2 +/- 168.3, min: -355.0, max: 70.0,\n",
      "\n",
      "Testing...\n"
     ]
    },
    {
     "name": "stderr",
     "output_type": "stream",
     "text": [
      "                                                                                                                       \r"
     ]
    },
    {
     "name": "stdout",
     "output_type": "stream",
     "text": [
      "Results: mean: -206.1 +/- 138.2, min: -320.0 max: 66.0\n",
      "Total elapsed time: 9.18 minutes\n",
      "\n",
      "Epoch #4\n"
     ]
    },
    {
     "name": "stderr",
     "output_type": "stream",
     "text": [
      "                                                                                                                       \r"
     ]
    },
    {
     "name": "stdout",
     "output_type": "stream",
     "text": [
      "Results: mean: -163.9 +/- 161.3, min: -325.0, max: 70.0,\n",
      "\n",
      "Testing...\n"
     ]
    },
    {
     "name": "stderr",
     "output_type": "stream",
     "text": [
      "                                                                                                                       \r"
     ]
    },
    {
     "name": "stdout",
     "output_type": "stream",
     "text": [
      "Results: mean: -227.9 +/- 143.3, min: -320.0 max: 66.0\n",
      "Total elapsed time: 12.37 minutes\n",
      "\n",
      "Epoch #5\n"
     ]
    },
    {
     "name": "stderr",
     "output_type": "stream",
     "text": [
      "                                                                                                                       \r"
     ]
    },
    {
     "name": "stdout",
     "output_type": "stream",
     "text": [
      "Results: mean: -58.5 +/- 126.3, min: -360.0, max: 70.0,\n",
      "\n",
      "Testing...\n"
     ]
    },
    {
     "name": "stderr",
     "output_type": "stream",
     "text": [
      "                                                                                                                       \r"
     ]
    },
    {
     "name": "stdout",
     "output_type": "stream",
     "text": [
      "Results: mean: -169.2 +/- 138.5, min: -360.0 max: 66.0\n",
      "Total elapsed time: 15.42 minutes\n",
      "\n",
      "Epoch #6\n"
     ]
    },
    {
     "name": "stderr",
     "output_type": "stream",
     "text": [
      "                                                                                                                       \r"
     ]
    },
    {
     "name": "stdout",
     "output_type": "stream",
     "text": [
      "Results: mean: -30.7 +/- 137.4, min: -370.0, max: 70.0,\n",
      "\n",
      "Testing...\n"
     ]
    },
    {
     "name": "stderr",
     "output_type": "stream",
     "text": [
      "                                                                                                                       \r"
     ]
    },
    {
     "name": "stdout",
     "output_type": "stream",
     "text": [
      "Results: mean: -192.7 +/- 171.8, min: -365.0 max: 66.0\n",
      "Total elapsed time: 18.52 minutes\n",
      "\n",
      "Epoch #7\n"
     ]
    },
    {
     "name": "stderr",
     "output_type": "stream",
     "text": [
      "                                                                                                                       \r"
     ]
    },
    {
     "name": "stdout",
     "output_type": "stream",
     "text": [
      "Results: mean: -70.2 +/- 163.1, min: -365.0, max: 70.0,\n",
      "\n",
      "Testing...\n"
     ]
    },
    {
     "name": "stderr",
     "output_type": "stream",
     "text": [
      "                                                                                                                       \r"
     ]
    },
    {
     "name": "stdout",
     "output_type": "stream",
     "text": [
      "Results: mean: -126.7 +/- 153.6, min: -360.0 max: 66.0\n",
      "Total elapsed time: 21.83 minutes\n",
      "\n",
      "Epoch #8\n"
     ]
    },
    {
     "name": "stderr",
     "output_type": "stream",
     "text": [
      "                                                                                                                       \r"
     ]
    },
    {
     "name": "stdout",
     "output_type": "stream",
     "text": [
      "Results: mean: -98.3 +/- 164.9, min: -365.0, max: 70.0,\n",
      "\n",
      "Testing...\n"
     ]
    },
    {
     "name": "stderr",
     "output_type": "stream",
     "text": [
      "                                                                                                                       \r"
     ]
    },
    {
     "name": "stdout",
     "output_type": "stream",
     "text": [
      "Results: mean: -168.4 +/- 158.9, min: -370.0 max: 66.0\n",
      "Total elapsed time: 25.36 minutes\n",
      "\n",
      "Epoch #9\n"
     ]
    },
    {
     "name": "stderr",
     "output_type": "stream",
     "text": [
      "                                                                                                                       \r"
     ]
    },
    {
     "name": "stdout",
     "output_type": "stream",
     "text": [
      "Results: mean: -232.5 +/- 167.5, min: -370.0, max: 70.0,\n",
      "\n",
      "Testing...\n"
     ]
    },
    {
     "name": "stderr",
     "output_type": "stream",
     "text": [
      "                                                                                                                       \r"
     ]
    },
    {
     "name": "stdout",
     "output_type": "stream",
     "text": [
      "Results: mean: -208.1 +/- 150.2, min: -370.0 max: 66.0\n",
      "Total elapsed time: 29.22 minutes\n",
      "\n",
      "Epoch #10\n"
     ]
    },
    {
     "name": "stderr",
     "output_type": "stream",
     "text": [
      "                                                                                                                       \r"
     ]
    },
    {
     "name": "stdout",
     "output_type": "stream",
     "text": [
      "Results: mean: -172.1 +/- 161.7, min: -370.0, max: 70.0,\n",
      "\n",
      "Testing...\n"
     ]
    },
    {
     "name": "stderr",
     "output_type": "stream",
     "text": [
      "\u001b[32m[I 2023-05-05 18:11:35,701]\u001b[0m Trial 85 finished with value: -237.49 and parameters: {'learning_rate': 0.003205780148147574, 'batch_size': 32, 'replay_memory_size': 3000, 'discount_factor': 0.8907754250171918, 'frame_repeat': 8, 'optimizer': 'Adam', 'epsilon_decay': 0.9951602562305673}. Best is trial 48 with value: 27.29.\u001b[0m\n"
     ]
    },
    {
     "name": "stdout",
     "output_type": "stream",
     "text": [
      "Results: mean: -237.5 +/- 142.8, min: -320.0 max: 66.0\n",
      "Total elapsed time: 32.82 minutes\n",
      "\n",
      "Learning rate: 0.003588357224707354, Batch size: 128, Replay memory size: 5000,\n",
      "Discount factor: 0.9151522431335183, Frame repeat: 16, Optimizer: SGD, \n",
      "Epsilon decay: 0.9942772702031571\n",
      "\n",
      "Initializing doom...\n",
      "Doom initialized.\n",
      "Initializing New Model\n",
      "\n",
      "Epoch #1\n"
     ]
    },
    {
     "name": "stderr",
     "output_type": "stream",
     "text": [
      "                                                                                                                       \r"
     ]
    },
    {
     "name": "stdout",
     "output_type": "stream",
     "text": [
      "Results: mean: -272.0 +/- 95.1, min: -355.0, max: 46.0,\n",
      "\n",
      "Testing...\n"
     ]
    },
    {
     "name": "stderr",
     "output_type": "stream",
     "text": [
      "                                                                                                                       \r"
     ]
    },
    {
     "name": "stdout",
     "output_type": "stream",
     "text": [
      "Results: mean: -267.9 +/- 104.4, min: -335.0 max: 66.0\n",
      "Total elapsed time: 3.58 minutes\n",
      "\n",
      "Epoch #2\n"
     ]
    },
    {
     "name": "stderr",
     "output_type": "stream",
     "text": [
      "                                                                                                                       \r"
     ]
    },
    {
     "name": "stdout",
     "output_type": "stream",
     "text": [
      "Results: mean: -146.3 +/- 153.3, min: -370.0, max: 62.0,\n",
      "\n",
      "Testing...\n"
     ]
    },
    {
     "name": "stderr",
     "output_type": "stream",
     "text": [
      "                                                                                                                       \r"
     ]
    },
    {
     "name": "stdout",
     "output_type": "stream",
     "text": [
      "Results: mean: -170.7 +/- 150.1, min: -335.0 max: 66.0\n",
      "Total elapsed time: 6.87 minutes\n",
      "\n",
      "Epoch #3\n"
     ]
    },
    {
     "name": "stderr",
     "output_type": "stream",
     "text": [
      "                                                                                                                       \r"
     ]
    },
    {
     "name": "stdout",
     "output_type": "stream",
     "text": [
      "Results: mean: -102.8 +/- 149.3, min: -355.0, max: 62.0,\n",
      "\n",
      "Testing...\n"
     ]
    },
    {
     "name": "stderr",
     "output_type": "stream",
     "text": [
      "                                                                                                                       \r"
     ]
    },
    {
     "name": "stdout",
     "output_type": "stream",
     "text": [
      "Results: mean: -21.7 +/- 129.2, min: -360.0 max: 66.0\n",
      "Total elapsed time: 10.07 minutes\n",
      "\n",
      "Epoch #4\n"
     ]
    },
    {
     "name": "stderr",
     "output_type": "stream",
     "text": [
      "                                                                                                                       \r"
     ]
    },
    {
     "name": "stdout",
     "output_type": "stream",
     "text": [
      "Results: mean: -45.1 +/- 132.3, min: -355.0, max: 62.0,\n",
      "\n",
      "Testing...\n"
     ]
    },
    {
     "name": "stderr",
     "output_type": "stream",
     "text": [
      "                                                                                                                       \r"
     ]
    },
    {
     "name": "stdout",
     "output_type": "stream",
     "text": [
      "Results: mean: -93.4 +/- 135.0, min: -365.0 max: 66.0\n",
      "Total elapsed time: 13.05 minutes\n",
      "\n",
      "Epoch #5\n"
     ]
    },
    {
     "name": "stderr",
     "output_type": "stream",
     "text": [
      "                                                                                                                       \r"
     ]
    },
    {
     "name": "stdout",
     "output_type": "stream",
     "text": [
      "Results: mean: -30.9 +/- 118.4, min: -365.0, max: 62.0,\n",
      "\n",
      "Testing...\n"
     ]
    },
    {
     "name": "stderr",
     "output_type": "stream",
     "text": [
      "                                                                                                                       \r"
     ]
    },
    {
     "name": "stdout",
     "output_type": "stream",
     "text": [
      "Results: mean: -88.3 +/- 127.2, min: -370.0 max: 66.0\n",
      "Total elapsed time: 16.06 minutes\n",
      "\n",
      "Epoch #6\n"
     ]
    },
    {
     "name": "stderr",
     "output_type": "stream",
     "text": [
      "                                                                                                                       \r"
     ]
    },
    {
     "name": "stdout",
     "output_type": "stream",
     "text": [
      "Results: mean: -60.8 +/- 132.8, min: -355.0, max: 62.0,\n",
      "\n",
      "Testing...\n"
     ]
    },
    {
     "name": "stderr",
     "output_type": "stream",
     "text": [
      "                                                                                                                       \r"
     ]
    },
    {
     "name": "stdout",
     "output_type": "stream",
     "text": [
      "Results: mean: -121.6 +/- 146.1, min: -340.0 max: 66.0\n",
      "Total elapsed time: 19.10 minutes\n",
      "\n",
      "Epoch #7\n"
     ]
    },
    {
     "name": "stderr",
     "output_type": "stream",
     "text": [
      "                                                                                                                       \r"
     ]
    },
    {
     "name": "stdout",
     "output_type": "stream",
     "text": [
      "Results: mean: -67.1 +/- 136.4, min: -350.0, max: 62.0,\n",
      "\n",
      "Testing...\n"
     ]
    },
    {
     "name": "stderr",
     "output_type": "stream",
     "text": [
      "                                                                                                                       \r"
     ]
    },
    {
     "name": "stdout",
     "output_type": "stream",
     "text": [
      "Results: mean: -69.1 +/- 135.3, min: -345.0 max: 66.0\n",
      "Total elapsed time: 22.47 minutes\n",
      "\n",
      "Epoch #8\n"
     ]
    },
    {
     "name": "stderr",
     "output_type": "stream",
     "text": [
      "                                                                                                                       \r"
     ]
    },
    {
     "name": "stdout",
     "output_type": "stream",
     "text": [
      "Results: mean: -29.6 +/- 122.1, min: -350.0, max: 62.0,\n",
      "\n",
      "Testing...\n"
     ]
    },
    {
     "name": "stderr",
     "output_type": "stream",
     "text": [
      "                                                                                                                       \r"
     ]
    },
    {
     "name": "stdout",
     "output_type": "stream",
     "text": [
      "Results: mean: -16.3 +/- 141.6, min: -350.0 max: 66.0\n",
      "Total elapsed time: 26.95 minutes\n",
      "\n",
      "Epoch #9\n"
     ]
    },
    {
     "name": "stderr",
     "output_type": "stream",
     "text": [
      "                                                                                                                       \r"
     ]
    },
    {
     "name": "stdout",
     "output_type": "stream",
     "text": [
      "Results: mean: -61.8 +/- 149.4, min: -355.0, max: 62.0,\n",
      "\n",
      "Testing...\n"
     ]
    },
    {
     "name": "stderr",
     "output_type": "stream",
     "text": [
      "                                                                                                                       \r"
     ]
    },
    {
     "name": "stdout",
     "output_type": "stream",
     "text": [
      "Results: mean: -119.6 +/- 150.2, min: -350.0 max: 66.0\n",
      "Total elapsed time: 33.69 minutes\n",
      "\n",
      "Epoch #10\n"
     ]
    },
    {
     "name": "stderr",
     "output_type": "stream",
     "text": [
      "                                                                                                                       \r"
     ]
    },
    {
     "name": "stdout",
     "output_type": "stream",
     "text": [
      "Results: mean: -65.1 +/- 133.6, min: -365.0, max: 62.0,\n",
      "\n",
      "Testing...\n"
     ]
    },
    {
     "name": "stderr",
     "output_type": "stream",
     "text": [
      "\u001b[32m[I 2023-05-05 18:50:51,467]\u001b[0m Trial 86 finished with value: -29.96 and parameters: {'learning_rate': 0.003588357224707354, 'batch_size': 128, 'replay_memory_size': 5000, 'discount_factor': 0.9151522431335183, 'frame_repeat': 16, 'optimizer': 'SGD', 'epsilon_decay': 0.9942772702031571}. Best is trial 48 with value: 27.29.\u001b[0m\n"
     ]
    },
    {
     "name": "stdout",
     "output_type": "stream",
     "text": [
      "Results: mean: -30.0 +/- 131.9, min: -340.0 max: 66.0\n",
      "Total elapsed time: 39.25 minutes\n",
      "\n",
      "Learning rate: 0.002042362180324382, Batch size: 32, Replay memory size: 4000,\n",
      "Discount factor: 0.9437662765959589, Frame repeat: 16, Optimizer: Adam, \n",
      "Epsilon decay: 0.9937964145750722\n",
      "\n",
      "Initializing doom...\n",
      "Doom initialized.\n",
      "Initializing New Model\n",
      "\n",
      "Epoch #1\n"
     ]
    },
    {
     "name": "stderr",
     "output_type": "stream",
     "text": [
      "                                                                                                                       \r"
     ]
    },
    {
     "name": "stdout",
     "output_type": "stream",
     "text": [
      "Results: mean: -257.9 +/- 106.7, min: -350.0, max: 62.0,\n",
      "\n",
      "Testing...\n"
     ]
    },
    {
     "name": "stderr",
     "output_type": "stream",
     "text": [
      "                                                                                                                       \r"
     ]
    },
    {
     "name": "stdout",
     "output_type": "stream",
     "text": [
      "Results: mean: -283.2 +/- 76.1, min: -325.0 max: 18.0\n",
      "Total elapsed time: 8.14 minutes\n",
      "\n",
      "Epoch #2\n"
     ]
    },
    {
     "name": "stderr",
     "output_type": "stream",
     "text": [
      "                                                                                                                       \r"
     ]
    },
    {
     "name": "stdout",
     "output_type": "stream",
     "text": [
      "Results: mean: -197.4 +/- 149.7, min: -365.0, max: 62.0,\n",
      "\n",
      "Testing...\n"
     ]
    },
    {
     "name": "stderr",
     "output_type": "stream",
     "text": [
      "                                                                                                                       \r"
     ]
    },
    {
     "name": "stdout",
     "output_type": "stream",
     "text": [
      "Results: mean: -68.0 +/- 137.8, min: -360.0 max: 54.0\n",
      "Total elapsed time: 14.16 minutes\n",
      "\n",
      "Epoch #3\n"
     ]
    },
    {
     "name": "stderr",
     "output_type": "stream",
     "text": [
      "                                                                                                                       \r"
     ]
    },
    {
     "name": "stdout",
     "output_type": "stream",
     "text": [
      "Results: mean: -104.7 +/- 135.2, min: -355.0, max: 62.0,\n",
      "\n",
      "Testing...\n"
     ]
    },
    {
     "name": "stderr",
     "output_type": "stream",
     "text": [
      "                                                                                                                       \r"
     ]
    },
    {
     "name": "stdout",
     "output_type": "stream",
     "text": [
      "Results: mean: -51.1 +/- 106.5, min: -360.0 max: 66.0\n",
      "Total elapsed time: 20.27 minutes\n",
      "\n",
      "Epoch #4\n"
     ]
    },
    {
     "name": "stderr",
     "output_type": "stream",
     "text": [
      "                                                                                                                       \r"
     ]
    },
    {
     "name": "stdout",
     "output_type": "stream",
     "text": [
      "Results: mean: -24.6 +/- 91.6, min: -365.0, max: 62.0,\n",
      "\n",
      "Testing...\n"
     ]
    },
    {
     "name": "stderr",
     "output_type": "stream",
     "text": [
      "                                                                                                                       \r"
     ]
    },
    {
     "name": "stdout",
     "output_type": "stream",
     "text": [
      "Results: mean: -36.0 +/- 119.8, min: -365.0 max: 54.0\n",
      "Total elapsed time: 25.93 minutes\n",
      "\n",
      "Epoch #5\n"
     ]
    },
    {
     "name": "stderr",
     "output_type": "stream",
     "text": [
      "                                                                                                                       \r"
     ]
    },
    {
     "name": "stdout",
     "output_type": "stream",
     "text": [
      "Results: mean: 16.1 +/- 72.8, min: -365.0, max: 62.0,\n",
      "\n",
      "Testing...\n"
     ]
    },
    {
     "name": "stderr",
     "output_type": "stream",
     "text": [
      "                                                                                                                       \r"
     ]
    },
    {
     "name": "stdout",
     "output_type": "stream",
     "text": [
      "Results: mean: 36.8 +/- 49.8, min: -325.0 max: 66.0\n",
      "Total elapsed time: 31.11 minutes\n",
      "\n",
      "Epoch #6\n"
     ]
    },
    {
     "name": "stderr",
     "output_type": "stream",
     "text": [
      "                                                                                                                       \r"
     ]
    },
    {
     "name": "stdout",
     "output_type": "stream",
     "text": [
      "Results: mean: -7.1 +/- 94.3, min: -350.0, max: 62.0,\n",
      "\n",
      "Testing...\n"
     ]
    },
    {
     "name": "stderr",
     "output_type": "stream",
     "text": [
      "                                                                                                                       \r"
     ]
    },
    {
     "name": "stdout",
     "output_type": "stream",
     "text": [
      "Results: mean: -2.4 +/- 119.7, min: -345.0 max: 66.0\n",
      "Total elapsed time: 36.57 minutes\n",
      "\n",
      "Epoch #7\n"
     ]
    },
    {
     "name": "stderr",
     "output_type": "stream",
     "text": [
      "                                                                                                                       \r"
     ]
    },
    {
     "name": "stdout",
     "output_type": "stream",
     "text": [
      "Results: mean: -4.9 +/- 73.5, min: -335.0, max: 62.0,\n",
      "\n",
      "Testing...\n"
     ]
    },
    {
     "name": "stderr",
     "output_type": "stream",
     "text": [
      "                                                                                                                       \r"
     ]
    },
    {
     "name": "stdout",
     "output_type": "stream",
     "text": [
      "Results: mean: 7.8 +/- 54.9, min: -335.0 max: 66.0\n",
      "Total elapsed time: 41.95 minutes\n",
      "\n",
      "Epoch #8\n"
     ]
    },
    {
     "name": "stderr",
     "output_type": "stream",
     "text": [
      "                                                                                                                       \r"
     ]
    },
    {
     "name": "stdout",
     "output_type": "stream",
     "text": [
      "Results: mean: -0.1 +/- 80.7, min: -355.0, max: 62.0,\n",
      "\n",
      "Testing...\n"
     ]
    },
    {
     "name": "stderr",
     "output_type": "stream",
     "text": [
      "                                                                                                                       \r"
     ]
    },
    {
     "name": "stdout",
     "output_type": "stream",
     "text": [
      "Results: mean: 34.2 +/- 71.2, min: -320.0 max: 66.0\n",
      "Total elapsed time: 46.88 minutes\n",
      "\n",
      "Epoch #9\n"
     ]
    },
    {
     "name": "stderr",
     "output_type": "stream",
     "text": [
      "                                                                                                                       \r"
     ]
    },
    {
     "name": "stdout",
     "output_type": "stream",
     "text": [
      "Results: mean: 11.1 +/- 86.7, min: -360.0, max: 62.0,\n",
      "\n",
      "Testing...\n"
     ]
    },
    {
     "name": "stderr",
     "output_type": "stream",
     "text": [
      "                                                                                                                       \r"
     ]
    },
    {
     "name": "stdout",
     "output_type": "stream",
     "text": [
      "Results: mean: 0.4 +/- 102.6, min: -370.0 max: 66.0\n",
      "Total elapsed time: 52.27 minutes\n",
      "\n",
      "Epoch #10\n"
     ]
    },
    {
     "name": "stderr",
     "output_type": "stream",
     "text": [
      "                                                                                                                       \r"
     ]
    },
    {
     "name": "stdout",
     "output_type": "stream",
     "text": [
      "Results: mean: -6.6 +/- 97.2, min: -360.0, max: 62.0,\n",
      "\n",
      "Testing...\n"
     ]
    },
    {
     "name": "stderr",
     "output_type": "stream",
     "text": [
      "\u001b[32m[I 2023-05-05 19:48:23,803]\u001b[0m Trial 87 finished with value: 6.12 and parameters: {'learning_rate': 0.002042362180324382, 'batch_size': 32, 'replay_memory_size': 4000, 'discount_factor': 0.9437662765959589, 'frame_repeat': 16, 'optimizer': 'Adam', 'epsilon_decay': 0.9937964145750722}. Best is trial 48 with value: 27.29.\u001b[0m\n"
     ]
    },
    {
     "name": "stdout",
     "output_type": "stream",
     "text": [
      "Results: mean: 6.1 +/- 57.9, min: -365.0 max: 66.0\n",
      "Total elapsed time: 57.53 minutes\n",
      "\n",
      "Learning rate: 0.0031674690378109215, Batch size: 64, Replay memory size: 6000,\n",
      "Discount factor: 0.8661482542571117, Frame repeat: 16, Optimizer: SGD, \n",
      "Epsilon decay: 0.9958353821520894\n",
      "\n",
      "Initializing doom...\n",
      "Doom initialized.\n",
      "Initializing New Model\n",
      "\n",
      "Epoch #1\n"
     ]
    },
    {
     "name": "stderr",
     "output_type": "stream",
     "text": [
      "                                                                                                                       \r"
     ]
    },
    {
     "name": "stdout",
     "output_type": "stream",
     "text": [
      "Results: mean: -248.2 +/- 117.7, min: -345.0, max: 62.0,\n",
      "\n",
      "Testing...\n"
     ]
    },
    {
     "name": "stderr",
     "output_type": "stream",
     "text": [
      "                                                                                                                       \r"
     ]
    },
    {
     "name": "stdout",
     "output_type": "stream",
     "text": [
      "Results: mean: -228.6 +/- 122.4, min: -315.0 max: 66.0\n",
      "Total elapsed time: 7.39 minutes\n",
      "\n",
      "Epoch #2\n"
     ]
    },
    {
     "name": "stderr",
     "output_type": "stream",
     "text": [
      "                                                                                                                       \r"
     ]
    },
    {
     "name": "stdout",
     "output_type": "stream",
     "text": [
      "Results: mean: -224.7 +/- 142.8, min: -360.0, max: 62.0,\n",
      "\n",
      "Testing...\n"
     ]
    },
    {
     "name": "stderr",
     "output_type": "stream",
     "text": [
      "                                                                                                                       \r"
     ]
    },
    {
     "name": "stdout",
     "output_type": "stream",
     "text": [
      "Results: mean: -203.2 +/- 124.9, min: -340.0 max: 66.0\n",
      "Total elapsed time: 14.70 minutes\n",
      "\n",
      "Epoch #3\n"
     ]
    },
    {
     "name": "stderr",
     "output_type": "stream",
     "text": [
      "                                                                                                                       \r"
     ]
    },
    {
     "name": "stdout",
     "output_type": "stream",
     "text": [
      "Results: mean: -87.5 +/- 141.1, min: -365.0, max: 62.0,\n",
      "\n",
      "Testing...\n"
     ]
    },
    {
     "name": "stderr",
     "output_type": "stream",
     "text": [
      "                                                                                                                       \r"
     ]
    },
    {
     "name": "stdout",
     "output_type": "stream",
     "text": [
      "Results: mean: -76.2 +/- 125.3, min: -350.0 max: 66.0\n",
      "Total elapsed time: 21.00 minutes\n",
      "\n",
      "Epoch #4\n"
     ]
    },
    {
     "name": "stderr",
     "output_type": "stream",
     "text": [
      "                                                                                                                       \r"
     ]
    },
    {
     "name": "stdout",
     "output_type": "stream",
     "text": [
      "Results: mean: -90.2 +/- 131.7, min: -355.0, max: 62.0,\n",
      "\n",
      "Testing...\n"
     ]
    },
    {
     "name": "stderr",
     "output_type": "stream",
     "text": [
      "                                                                                                                       \r"
     ]
    },
    {
     "name": "stdout",
     "output_type": "stream",
     "text": [
      "Results: mean: -100.4 +/- 122.9, min: -355.0 max: 66.0\n",
      "Total elapsed time: 27.69 minutes\n",
      "\n",
      "Epoch #5\n"
     ]
    },
    {
     "name": "stderr",
     "output_type": "stream",
     "text": [
      "                                                                                                                       \r"
     ]
    },
    {
     "name": "stdout",
     "output_type": "stream",
     "text": [
      "Results: mean: -15.3 +/- 83.7, min: -350.0, max: 62.0,\n",
      "\n",
      "Testing...\n"
     ]
    },
    {
     "name": "stderr",
     "output_type": "stream",
     "text": [
      "                                                                                                                       \r"
     ]
    },
    {
     "name": "stdout",
     "output_type": "stream",
     "text": [
      "Results: mean: -3.5 +/- 63.9, min: -330.0 max: 66.0\n",
      "Total elapsed time: 33.09 minutes\n",
      "\n",
      "Epoch #6\n"
     ]
    },
    {
     "name": "stderr",
     "output_type": "stream",
     "text": [
      "                                                                                                                       \r"
     ]
    },
    {
     "name": "stdout",
     "output_type": "stream",
     "text": [
      "Results: mean: -4.1 +/- 72.0, min: -360.0, max: 62.0,\n",
      "\n",
      "Testing...\n"
     ]
    },
    {
     "name": "stderr",
     "output_type": "stream",
     "text": [
      "                                                                                                                       \r"
     ]
    },
    {
     "name": "stdout",
     "output_type": "stream",
     "text": [
      "Results: mean: 15.1 +/- 52.5, min: -229.0 max: 66.0\n",
      "Total elapsed time: 38.35 minutes\n",
      "\n",
      "Epoch #7\n"
     ]
    },
    {
     "name": "stderr",
     "output_type": "stream",
     "text": [
      "                                                                                                                       \r"
     ]
    },
    {
     "name": "stdout",
     "output_type": "stream",
     "text": [
      "Results: mean: -41.5 +/- 100.1, min: -365.0, max: 62.0,\n",
      "\n",
      "Testing...\n"
     ]
    },
    {
     "name": "stderr",
     "output_type": "stream",
     "text": [
      "                                                                                                                       \r"
     ]
    },
    {
     "name": "stdout",
     "output_type": "stream",
     "text": [
      "Results: mean: -10.4 +/- 73.4, min: -340.0 max: 66.0\n",
      "Total elapsed time: 44.11 minutes\n",
      "\n",
      "Epoch #8\n"
     ]
    },
    {
     "name": "stderr",
     "output_type": "stream",
     "text": [
      "                                                                                                                       \r"
     ]
    },
    {
     "name": "stdout",
     "output_type": "stream",
     "text": [
      "Results: mean: -61.7 +/- 119.4, min: -365.0, max: 62.0,\n",
      "\n",
      "Testing...\n"
     ]
    },
    {
     "name": "stderr",
     "output_type": "stream",
     "text": [
      "                                                                                                                       \r"
     ]
    },
    {
     "name": "stdout",
     "output_type": "stream",
     "text": [
      "Results: mean: 7.8 +/- 53.5, min: -300.0 max: 66.0\n",
      "Total elapsed time: 49.40 minutes\n",
      "\n",
      "Epoch #9\n"
     ]
    },
    {
     "name": "stderr",
     "output_type": "stream",
     "text": [
      "                                                                                                                       \r"
     ]
    },
    {
     "name": "stdout",
     "output_type": "stream",
     "text": [
      "Results: mean: -57.6 +/- 118.8, min: -360.0, max: 62.0,\n",
      "\n",
      "Testing...\n"
     ]
    },
    {
     "name": "stderr",
     "output_type": "stream",
     "text": [
      "                                                                                                                       \r"
     ]
    },
    {
     "name": "stdout",
     "output_type": "stream",
     "text": [
      "Results: mean: -84.8 +/- 120.7, min: -365.0 max: 66.0\n",
      "Total elapsed time: 53.67 minutes\n",
      "\n",
      "Epoch #10\n"
     ]
    },
    {
     "name": "stderr",
     "output_type": "stream",
     "text": [
      "                                                                                                                       \r"
     ]
    },
    {
     "name": "stdout",
     "output_type": "stream",
     "text": [
      "Results: mean: -89.8 +/- 135.2, min: -370.0, max: 62.0,\n",
      "\n",
      "Testing...\n"
     ]
    },
    {
     "name": "stderr",
     "output_type": "stream",
     "text": [
      "\u001b[32m[I 2023-05-05 20:47:09,991]\u001b[0m Trial 88 finished with value: -38.79 and parameters: {'learning_rate': 0.0031674690378109215, 'batch_size': 64, 'replay_memory_size': 6000, 'discount_factor': 0.8661482542571117, 'frame_repeat': 16, 'optimizer': 'SGD', 'epsilon_decay': 0.9958353821520894}. Best is trial 48 with value: 27.29.\u001b[0m\n"
     ]
    },
    {
     "name": "stdout",
     "output_type": "stream",
     "text": [
      "Results: mean: -38.8 +/- 81.3, min: -340.0 max: 66.0\n",
      "Total elapsed time: 58.76 minutes\n",
      "\n",
      "Learning rate: 0.004259507687278604, Batch size: 32, Replay memory size: 2000,\n",
      "Discount factor: 0.9636494563003192, Frame repeat: 20, Optimizer: Adam, \n",
      "Epsilon decay: 0.9947251617845412\n",
      "\n",
      "Initializing doom...\n",
      "Doom initialized.\n",
      "Initializing New Model\n",
      "\n",
      "Epoch #1\n"
     ]
    },
    {
     "name": "stderr",
     "output_type": "stream",
     "text": [
      "                                                                                                                       \r"
     ]
    },
    {
     "name": "stdout",
     "output_type": "stream",
     "text": [
      "Results: mean: -271.6 +/- 93.0, min: -350.0, max: 58.0,\n",
      "\n",
      "Testing...\n"
     ]
    },
    {
     "name": "stderr",
     "output_type": "stream",
     "text": [
      "                                                                                                                       \r"
     ]
    },
    {
     "name": "stdout",
     "output_type": "stream",
     "text": [
      "Results: mean: -252.6 +/- 122.7, min: -340.0 max: 54.0\n",
      "Total elapsed time: 4.04 minutes\n",
      "\n",
      "Epoch #2\n"
     ]
    },
    {
     "name": "stderr",
     "output_type": "stream",
     "text": [
      "                                                                                                                       \r"
     ]
    },
    {
     "name": "stdout",
     "output_type": "stream",
     "text": [
      "Results: mean: -213.3 +/- 138.9, min: -355.0, max: 58.0,\n",
      "\n",
      "Testing...\n"
     ]
    },
    {
     "name": "stderr",
     "output_type": "stream",
     "text": [
      "                                                                                                                       \r"
     ]
    },
    {
     "name": "stdout",
     "output_type": "stream",
     "text": [
      "Results: mean: -185.7 +/- 141.8, min: -340.0 max: 66.0\n",
      "Total elapsed time: 7.91 minutes\n",
      "\n",
      "Epoch #3\n"
     ]
    },
    {
     "name": "stderr",
     "output_type": "stream",
     "text": [
      "                                                                                                                       \r"
     ]
    },
    {
     "name": "stdout",
     "output_type": "stream",
     "text": [
      "Results: mean: -157.1 +/- 159.2, min: -370.0, max: 58.0,\n",
      "\n",
      "Testing...\n"
     ]
    },
    {
     "name": "stderr",
     "output_type": "stream",
     "text": [
      "                                                                                                                       \r"
     ]
    },
    {
     "name": "stdout",
     "output_type": "stream",
     "text": [
      "Results: mean: -159.9 +/- 149.6, min: -360.0 max: 66.0\n",
      "Total elapsed time: 11.79 minutes\n",
      "\n",
      "Epoch #4\n"
     ]
    },
    {
     "name": "stderr",
     "output_type": "stream",
     "text": [
      "                                                                                                                       \r"
     ]
    },
    {
     "name": "stdout",
     "output_type": "stream",
     "text": [
      "Results: mean: -36.9 +/- 125.7, min: -370.0, max: 58.0,\n",
      "\n",
      "Testing...\n"
     ]
    },
    {
     "name": "stderr",
     "output_type": "stream",
     "text": [
      "                                                                                                                       \r"
     ]
    },
    {
     "name": "stdout",
     "output_type": "stream",
     "text": [
      "Results: mean: -39.0 +/- 88.9, min: -355.0 max: 66.0\n",
      "Total elapsed time: 14.89 minutes\n",
      "\n",
      "Epoch #5\n"
     ]
    },
    {
     "name": "stderr",
     "output_type": "stream",
     "text": [
      "                                                                                                                       \r"
     ]
    },
    {
     "name": "stdout",
     "output_type": "stream",
     "text": [
      "Results: mean: -20.9 +/- 95.1, min: -365.0, max: 58.0,\n",
      "\n",
      "Testing...\n"
     ]
    },
    {
     "name": "stderr",
     "output_type": "stream",
     "text": [
      "                                                                                                                       \r"
     ]
    },
    {
     "name": "stdout",
     "output_type": "stream",
     "text": [
      "Results: mean: -49.8 +/- 81.7, min: -325.0 max: 66.0\n",
      "Total elapsed time: 17.85 minutes\n",
      "\n",
      "Epoch #6\n"
     ]
    },
    {
     "name": "stderr",
     "output_type": "stream",
     "text": [
      "                                                                                                                       \r"
     ]
    },
    {
     "name": "stdout",
     "output_type": "stream",
     "text": [
      "Results: mean: -23.3 +/- 100.3, min: -365.0, max: 58.0,\n",
      "\n",
      "Testing...\n"
     ]
    },
    {
     "name": "stderr",
     "output_type": "stream",
     "text": [
      "                                                                                                                       \r"
     ]
    },
    {
     "name": "stdout",
     "output_type": "stream",
     "text": [
      "Results: mean: -64.1 +/- 110.2, min: -360.0 max: 66.0\n",
      "Total elapsed time: 20.66 minutes\n",
      "\n",
      "Epoch #7\n"
     ]
    },
    {
     "name": "stderr",
     "output_type": "stream",
     "text": [
      "                                                                                                                       \r"
     ]
    },
    {
     "name": "stdout",
     "output_type": "stream",
     "text": [
      "Results: mean: -22.2 +/- 102.5, min: -370.0, max: 58.0,\n",
      "\n",
      "Testing...\n"
     ]
    },
    {
     "name": "stderr",
     "output_type": "stream",
     "text": [
      "                                                                                                                       \r"
     ]
    },
    {
     "name": "stdout",
     "output_type": "stream",
     "text": [
      "Results: mean: 14.6 +/- 41.4, min: -144.0 max: 66.0\n",
      "Total elapsed time: 23.43 minutes\n",
      "\n",
      "Epoch #8\n"
     ]
    },
    {
     "name": "stderr",
     "output_type": "stream",
     "text": [
      "                                                                                                                       \r"
     ]
    },
    {
     "name": "stdout",
     "output_type": "stream",
     "text": [
      "Results: mean: 2.8 +/- 88.1, min: -360.0, max: 58.0,\n",
      "\n",
      "Testing...\n"
     ]
    },
    {
     "name": "stderr",
     "output_type": "stream",
     "text": [
      "                                                                                                                       \r"
     ]
    },
    {
     "name": "stdout",
     "output_type": "stream",
     "text": [
      "Results: mean: -10.4 +/- 69.9, min: -345.0 max: 66.0\n",
      "Total elapsed time: 28.76 minutes\n",
      "\n",
      "Epoch #9\n"
     ]
    },
    {
     "name": "stderr",
     "output_type": "stream",
     "text": [
      "                                                                                                                       \r"
     ]
    },
    {
     "name": "stdout",
     "output_type": "stream",
     "text": [
      "Results: mean: 1.6 +/- 87.9, min: -360.0, max: 58.0,\n",
      "\n",
      "Testing...\n"
     ]
    },
    {
     "name": "stderr",
     "output_type": "stream",
     "text": [
      "                                                                                                                       \r"
     ]
    },
    {
     "name": "stdout",
     "output_type": "stream",
     "text": [
      "Results: mean: -66.7 +/- 111.5, min: -355.0 max: 66.0\n",
      "Total elapsed time: 33.67 minutes\n",
      "\n",
      "Epoch #10\n"
     ]
    },
    {
     "name": "stderr",
     "output_type": "stream",
     "text": [
      "                                                                                                                       \r"
     ]
    },
    {
     "name": "stdout",
     "output_type": "stream",
     "text": [
      "Results: mean: -14.1 +/- 84.3, min: -365.0, max: 58.0,\n",
      "\n",
      "Testing...\n"
     ]
    },
    {
     "name": "stderr",
     "output_type": "stream",
     "text": [
      "\u001b[32m[I 2023-05-05 21:23:37,719]\u001b[0m Trial 89 finished with value: -28.58 and parameters: {'learning_rate': 0.004259507687278604, 'batch_size': 32, 'replay_memory_size': 2000, 'discount_factor': 0.9636494563003192, 'frame_repeat': 20, 'optimizer': 'Adam', 'epsilon_decay': 0.9947251617845412}. Best is trial 48 with value: 27.29.\u001b[0m\n"
     ]
    },
    {
     "name": "stdout",
     "output_type": "stream",
     "text": [
      "Results: mean: -28.6 +/- 62.9, min: -202.0 max: 66.0\n",
      "Total elapsed time: 36.45 minutes\n",
      "\n",
      "Learning rate: 0.006491568748327548, Batch size: 128, Replay memory size: 5000,\n",
      "Discount factor: 0.8876233928106229, Frame repeat: 12, Optimizer: Adam, \n",
      "Epsilon decay: 0.995655176912701\n",
      "\n",
      "Initializing doom...\n",
      "Doom initialized.\n",
      "Initializing New Model\n",
      "\n",
      "Epoch #1\n"
     ]
    },
    {
     "name": "stderr",
     "output_type": "stream",
     "text": [
      "                                                                                                                       \r"
     ]
    },
    {
     "name": "stdout",
     "output_type": "stream",
     "text": [
      "Results: mean: -253.3 +/- 124.7, min: -355.0, max: 66.0,\n",
      "\n",
      "Testing...\n"
     ]
    },
    {
     "name": "stderr",
     "output_type": "stream",
     "text": [
      "                                                                                                                       \r"
     ]
    },
    {
     "name": "stdout",
     "output_type": "stream",
     "text": [
      "Results: mean: -274.4 +/- 95.6, min: -325.0 max: 54.0\n",
      "Total elapsed time: 3.57 minutes\n",
      "\n",
      "Epoch #2\n"
     ]
    },
    {
     "name": "stderr",
     "output_type": "stream",
     "text": [
      "                                                                                                                       \r"
     ]
    },
    {
     "name": "stdout",
     "output_type": "stream",
     "text": [
      "Results: mean: -203.2 +/- 143.9, min: -345.0, max: 66.0,\n",
      "\n",
      "Testing...\n"
     ]
    },
    {
     "name": "stderr",
     "output_type": "stream",
     "text": [
      "                                                                                                                       \r"
     ]
    },
    {
     "name": "stdout",
     "output_type": "stream",
     "text": [
      "Results: mean: -134.3 +/- 148.0, min: -355.0 max: 54.0\n",
      "Total elapsed time: 6.64 minutes\n",
      "\n",
      "Epoch #3\n"
     ]
    },
    {
     "name": "stderr",
     "output_type": "stream",
     "text": [
      "                                                                                                                       \r"
     ]
    },
    {
     "name": "stdout",
     "output_type": "stream",
     "text": [
      "Results: mean: -25.6 +/- 129.0, min: -330.0, max: 66.0,\n",
      "\n",
      "Testing...\n"
     ]
    },
    {
     "name": "stderr",
     "output_type": "stream",
     "text": [
      "                                                                                                                       \r"
     ]
    },
    {
     "name": "stdout",
     "output_type": "stream",
     "text": [
      "Results: mean: -19.9 +/- 100.4, min: -320.0 max: 66.0\n",
      "Total elapsed time: 9.39 minutes\n",
      "\n",
      "Epoch #4\n"
     ]
    },
    {
     "name": "stderr",
     "output_type": "stream",
     "text": [
      "                                                                                                                       \r"
     ]
    },
    {
     "name": "stdout",
     "output_type": "stream",
     "text": [
      "Results: mean: 6.6 +/- 99.9, min: -345.0, max: 66.0,\n",
      "\n",
      "Testing...\n"
     ]
    },
    {
     "name": "stderr",
     "output_type": "stream",
     "text": [
      "                                                                                                                       \r"
     ]
    },
    {
     "name": "stdout",
     "output_type": "stream",
     "text": [
      "Results: mean: 37.5 +/- 59.2, min: -335.0 max: 66.0\n",
      "Total elapsed time: 11.85 minutes\n",
      "\n",
      "Epoch #5\n"
     ]
    },
    {
     "name": "stderr",
     "output_type": "stream",
     "text": [
      "                                                                                                                       \r"
     ]
    },
    {
     "name": "stdout",
     "output_type": "stream",
     "text": [
      "Results: mean: 20.8 +/- 57.3, min: -330.0, max: 66.0,\n",
      "\n",
      "Testing...\n"
     ]
    },
    {
     "name": "stderr",
     "output_type": "stream",
     "text": [
      "                                                                                                                       \r"
     ]
    },
    {
     "name": "stdout",
     "output_type": "stream",
     "text": [
      "Results: mean: 9.5 +/- 58.7, min: -315.0 max: 66.0\n",
      "Total elapsed time: 14.66 minutes\n",
      "\n",
      "Epoch #6\n"
     ]
    },
    {
     "name": "stderr",
     "output_type": "stream",
     "text": [
      "                                                                                                                       \r"
     ]
    },
    {
     "name": "stdout",
     "output_type": "stream",
     "text": [
      "Results: mean: 16.7 +/- 45.0, min: -325.0, max: 66.0,\n",
      "\n",
      "Testing...\n"
     ]
    },
    {
     "name": "stderr",
     "output_type": "stream",
     "text": [
      "                                                                                                                       \r"
     ]
    },
    {
     "name": "stdout",
     "output_type": "stream",
     "text": [
      "Results: mean: -7.2 +/- 72.9, min: -330.0 max: 66.0\n",
      "Total elapsed time: 17.53 minutes\n",
      "\n",
      "Epoch #7\n"
     ]
    },
    {
     "name": "stderr",
     "output_type": "stream",
     "text": [
      "                                                                                                                       \r"
     ]
    },
    {
     "name": "stdout",
     "output_type": "stream",
     "text": [
      "Results: mean: 16.1 +/- 56.5, min: -350.0, max: 66.0,\n",
      "\n",
      "Testing...\n"
     ]
    },
    {
     "name": "stderr",
     "output_type": "stream",
     "text": [
      "                                                                                                                       \r"
     ]
    },
    {
     "name": "stdout",
     "output_type": "stream",
     "text": [
      "Results: mean: 8.8 +/- 46.8, min: -213.0 max: 66.0\n",
      "Total elapsed time: 20.21 minutes\n",
      "\n",
      "Epoch #8\n"
     ]
    },
    {
     "name": "stderr",
     "output_type": "stream",
     "text": [
      "                                                                                                                       \r"
     ]
    },
    {
     "name": "stdout",
     "output_type": "stream",
     "text": [
      "Results: mean: 20.2 +/- 53.3, min: -340.0, max: 66.0,\n",
      "\n",
      "Testing...\n"
     ]
    },
    {
     "name": "stderr",
     "output_type": "stream",
     "text": [
      "                                                                                                                       \r"
     ]
    },
    {
     "name": "stdout",
     "output_type": "stream",
     "text": [
      "Results: mean: 15.6 +/- 38.8, min: -195.0 max: 66.0\n",
      "Total elapsed time: 22.77 minutes\n",
      "\n",
      "Epoch #9\n"
     ]
    },
    {
     "name": "stderr",
     "output_type": "stream",
     "text": [
      "                                                                                                                       \r"
     ]
    },
    {
     "name": "stdout",
     "output_type": "stream",
     "text": [
      "Results: mean: 14.6 +/- 50.1, min: -345.0, max: 66.0,\n",
      "\n",
      "Testing...\n"
     ]
    },
    {
     "name": "stderr",
     "output_type": "stream",
     "text": [
      "                                                                                                                       \r"
     ]
    },
    {
     "name": "stdout",
     "output_type": "stream",
     "text": [
      "Results: mean: 31.8 +/- 70.1, min: -365.0 max: 66.0\n",
      "Total elapsed time: 25.39 minutes\n",
      "\n",
      "Epoch #10\n"
     ]
    },
    {
     "name": "stderr",
     "output_type": "stream",
     "text": [
      "                                                                                                                       \r"
     ]
    },
    {
     "name": "stdout",
     "output_type": "stream",
     "text": [
      "Results: mean: 20.7 +/- 55.2, min: -350.0, max: 66.0,\n",
      "\n",
      "Testing...\n"
     ]
    },
    {
     "name": "stderr",
     "output_type": "stream",
     "text": [
      "\u001b[32m[I 2023-05-05 21:52:38,058]\u001b[0m Trial 90 finished with value: 34.23 and parameters: {'learning_rate': 0.006491568748327548, 'batch_size': 128, 'replay_memory_size': 5000, 'discount_factor': 0.8876233928106229, 'frame_repeat': 12, 'optimizer': 'Adam', 'epsilon_decay': 0.995655176912701}. Best is trial 90 with value: 34.23.\u001b[0m\n"
     ]
    },
    {
     "name": "stdout",
     "output_type": "stream",
     "text": [
      "Results: mean: 34.2 +/- 41.9, min: -325.0 max: 66.0\n",
      "Total elapsed time: 28.99 minutes\n",
      "\n",
      "Learning rate: 0.007124271448356194, Batch size: 128, Replay memory size: 5000,\n",
      "Discount factor: 0.8828099164309334, Frame repeat: 12, Optimizer: Adam, \n",
      "Epsilon decay: 0.9956338864091042\n",
      "\n",
      "Initializing doom...\n",
      "Doom initialized.\n",
      "Initializing New Model\n",
      "\n",
      "Epoch #1\n"
     ]
    },
    {
     "name": "stderr",
     "output_type": "stream",
     "text": [
      "                                                                                                                       \r"
     ]
    },
    {
     "name": "stdout",
     "output_type": "stream",
     "text": [
      "Results: mean: -259.4 +/- 111.5, min: -355.0, max: 42.0,\n",
      "\n",
      "Testing...\n"
     ]
    },
    {
     "name": "stderr",
     "output_type": "stream",
     "text": [
      "                                                                                                                       \r"
     ]
    },
    {
     "name": "stdout",
     "output_type": "stream",
     "text": [
      "Results: mean: -284.6 +/- 76.7, min: -325.0 max: 42.0\n",
      "Total elapsed time: 3.39 minutes\n",
      "\n",
      "Epoch #2\n"
     ]
    },
    {
     "name": "stderr",
     "output_type": "stream",
     "text": [
      "                                                                                                                       \r"
     ]
    },
    {
     "name": "stdout",
     "output_type": "stream",
     "text": [
      "Results: mean: -236.6 +/- 134.8, min: -340.0, max: 66.0,\n",
      "\n",
      "Testing...\n"
     ]
    },
    {
     "name": "stderr",
     "output_type": "stream",
     "text": [
      "                                                                                                                       \r"
     ]
    },
    {
     "name": "stdout",
     "output_type": "stream",
     "text": [
      "Results: mean: -221.4 +/- 145.9, min: -320.0 max: 66.0\n",
      "Total elapsed time: 6.53 minutes\n",
      "\n",
      "Epoch #3\n"
     ]
    },
    {
     "name": "stderr",
     "output_type": "stream",
     "text": [
      "                                                                                                                       \r"
     ]
    },
    {
     "name": "stdout",
     "output_type": "stream",
     "text": [
      "Results: mean: -164.8 +/- 159.8, min: -340.0, max: 66.0,\n",
      "\n",
      "Testing...\n"
     ]
    },
    {
     "name": "stderr",
     "output_type": "stream",
     "text": [
      "                                                                                                                       \r"
     ]
    },
    {
     "name": "stdout",
     "output_type": "stream",
     "text": [
      "Results: mean: -79.7 +/- 152.3, min: -345.0 max: 66.0\n",
      "Total elapsed time: 9.26 minutes\n",
      "\n",
      "Epoch #4\n"
     ]
    },
    {
     "name": "stderr",
     "output_type": "stream",
     "text": [
      "                                                                                                                       \r"
     ]
    },
    {
     "name": "stdout",
     "output_type": "stream",
     "text": [
      "Results: mean: -17.2 +/- 129.0, min: -335.0, max: 66.0,\n",
      "\n",
      "Testing...\n"
     ]
    },
    {
     "name": "stderr",
     "output_type": "stream",
     "text": [
      "                                                                                                                       \r"
     ]
    },
    {
     "name": "stdout",
     "output_type": "stream",
     "text": [
      "Results: mean: 11.6 +/- 86.7, min: -350.0 max: 66.0\n",
      "Total elapsed time: 11.71 minutes\n",
      "\n",
      "Epoch #5\n"
     ]
    },
    {
     "name": "stderr",
     "output_type": "stream",
     "text": [
      "                                                                                                                       \r"
     ]
    },
    {
     "name": "stdout",
     "output_type": "stream",
     "text": [
      "Results: mean: -17.1 +/- 130.7, min: -330.0, max: 66.0,\n",
      "\n",
      "Testing...\n"
     ]
    },
    {
     "name": "stderr",
     "output_type": "stream",
     "text": [
      "                                                                                                                       \r"
     ]
    },
    {
     "name": "stdout",
     "output_type": "stream",
     "text": [
      "Results: mean: -143.4 +/- 170.1, min: -330.0 max: 66.0\n",
      "Total elapsed time: 14.97 minutes\n",
      "\n",
      "Epoch #6\n"
     ]
    },
    {
     "name": "stderr",
     "output_type": "stream",
     "text": [
      "                                                                                                                       \r"
     ]
    },
    {
     "name": "stdout",
     "output_type": "stream",
     "text": [
      "Results: mean: -29.4 +/- 131.2, min: -350.0, max: 66.0,\n",
      "\n",
      "Testing...\n"
     ]
    },
    {
     "name": "stderr",
     "output_type": "stream",
     "text": [
      "                                                                                                                       \r"
     ]
    },
    {
     "name": "stdout",
     "output_type": "stream",
     "text": [
      "Results: mean: -33.5 +/- 132.9, min: -355.0 max: 66.0\n",
      "Total elapsed time: 20.55 minutes\n",
      "\n",
      "Epoch #7\n"
     ]
    },
    {
     "name": "stderr",
     "output_type": "stream",
     "text": [
      "                                                                                                                       \r"
     ]
    },
    {
     "name": "stdout",
     "output_type": "stream",
     "text": [
      "Results: mean: -42.7 +/- 145.9, min: -365.0, max: 66.0,\n",
      "\n",
      "Testing...\n"
     ]
    },
    {
     "name": "stderr",
     "output_type": "stream",
     "text": [
      "                                                                                                                       \r"
     ]
    },
    {
     "name": "stdout",
     "output_type": "stream",
     "text": [
      "Results: mean: -154.8 +/- 149.7, min: -355.0 max: 66.0\n",
      "Total elapsed time: 25.18 minutes\n",
      "\n",
      "Epoch #8\n"
     ]
    },
    {
     "name": "stderr",
     "output_type": "stream",
     "text": [
      "                                                                                                                       \r"
     ]
    },
    {
     "name": "stdout",
     "output_type": "stream",
     "text": [
      "Results: mean: -73.5 +/- 152.5, min: -345.0, max: 66.0,\n",
      "\n",
      "Testing...\n"
     ]
    },
    {
     "name": "stderr",
     "output_type": "stream",
     "text": [
      "                                                                                                                       \r"
     ]
    },
    {
     "name": "stdout",
     "output_type": "stream",
     "text": [
      "Results: mean: -42.6 +/- 154.1, min: -345.0 max: 66.0\n",
      "Total elapsed time: 28.28 minutes\n",
      "\n",
      "Epoch #9\n"
     ]
    },
    {
     "name": "stderr",
     "output_type": "stream",
     "text": [
      "                                                                                                                       \r"
     ]
    },
    {
     "name": "stdout",
     "output_type": "stream",
     "text": [
      "Results: mean: -84.9 +/- 164.7, min: -340.0, max: 66.0,\n",
      "\n",
      "Testing...\n"
     ]
    },
    {
     "name": "stderr",
     "output_type": "stream",
     "text": [
      "                                                                                                                       \r"
     ]
    },
    {
     "name": "stdout",
     "output_type": "stream",
     "text": [
      "Results: mean: -77.5 +/- 175.3, min: -335.0 max: 66.0\n",
      "Total elapsed time: 31.49 minutes\n",
      "\n",
      "Epoch #10\n"
     ]
    },
    {
     "name": "stderr",
     "output_type": "stream",
     "text": [
      "                                                                                                                       \r"
     ]
    },
    {
     "name": "stdout",
     "output_type": "stream",
     "text": [
      "Results: mean: -80.4 +/- 162.3, min: -335.0, max: 66.0,\n",
      "\n",
      "Testing...\n"
     ]
    },
    {
     "name": "stderr",
     "output_type": "stream",
     "text": [
      "\u001b[32m[I 2023-05-05 22:27:45,366]\u001b[0m Trial 91 finished with value: -71.56 and parameters: {'learning_rate': 0.007124271448356194, 'batch_size': 128, 'replay_memory_size': 5000, 'discount_factor': 0.8828099164309334, 'frame_repeat': 12, 'optimizer': 'Adam', 'epsilon_decay': 0.9956338864091042}. Best is trial 90 with value: 34.23.\u001b[0m\n"
     ]
    },
    {
     "name": "stdout",
     "output_type": "stream",
     "text": [
      "Results: mean: -71.6 +/- 169.9, min: -360.0 max: 66.0\n",
      "Total elapsed time: 35.11 minutes\n",
      "\n",
      "Learning rate: 0.005532909694026487, Batch size: 128, Replay memory size: 5000,\n",
      "Discount factor: 0.8484648085679887, Frame repeat: 12, Optimizer: Adam, \n",
      "Epsilon decay: 0.9950791290512413\n",
      "\n",
      "Initializing doom...\n",
      "Doom initialized.\n",
      "Initializing New Model\n",
      "\n",
      "Epoch #1\n"
     ]
    },
    {
     "name": "stderr",
     "output_type": "stream",
     "text": [
      "                                                                                                                       \r"
     ]
    },
    {
     "name": "stdout",
     "output_type": "stream",
     "text": [
      "Results: mean: -243.4 +/- 127.8, min: -355.0, max: 66.0,\n",
      "\n",
      "Testing...\n"
     ]
    },
    {
     "name": "stderr",
     "output_type": "stream",
     "text": [
      "                                                                                                                       \r"
     ]
    },
    {
     "name": "stdout",
     "output_type": "stream",
     "text": [
      "Results: mean: -288.3 +/- 64.7, min: -330.0 max: 42.0\n",
      "Total elapsed time: 4.53 minutes\n",
      "\n",
      "Epoch #2\n"
     ]
    },
    {
     "name": "stderr",
     "output_type": "stream",
     "text": [
      "                                                                                                                       \r"
     ]
    },
    {
     "name": "stdout",
     "output_type": "stream",
     "text": [
      "Results: mean: -122.9 +/- 168.4, min: -350.0, max: 66.0,\n",
      "\n",
      "Testing...\n"
     ]
    },
    {
     "name": "stderr",
     "output_type": "stream",
     "text": [
      "                                                                                                                       \r"
     ]
    },
    {
     "name": "stdout",
     "output_type": "stream",
     "text": [
      "Results: mean: -207.9 +/- 140.8, min: -365.0 max: 66.0\n",
      "Total elapsed time: 11.52 minutes\n",
      "\n",
      "Epoch #3\n"
     ]
    },
    {
     "name": "stderr",
     "output_type": "stream",
     "text": [
      "                                                                                                                       \r"
     ]
    },
    {
     "name": "stdout",
     "output_type": "stream",
     "text": [
      "Results: mean: -51.0 +/- 149.0, min: -340.0, max: 66.0,\n",
      "\n",
      "Testing...\n"
     ]
    },
    {
     "name": "stderr",
     "output_type": "stream",
     "text": [
      "                                                                                                                       \r"
     ]
    },
    {
     "name": "stdout",
     "output_type": "stream",
     "text": [
      "Results: mean: -46.3 +/- 143.1, min: -330.0 max: 66.0\n",
      "Total elapsed time: 17.68 minutes\n",
      "\n",
      "Epoch #4\n"
     ]
    },
    {
     "name": "stderr",
     "output_type": "stream",
     "text": [
      "                                                                                                                       \r"
     ]
    },
    {
     "name": "stdout",
     "output_type": "stream",
     "text": [
      "Results: mean: -49.3 +/- 132.8, min: -350.0, max: 66.0,\n",
      "\n",
      "Testing...\n"
     ]
    },
    {
     "name": "stderr",
     "output_type": "stream",
     "text": [
      "                                                                                                                       \r"
     ]
    },
    {
     "name": "stdout",
     "output_type": "stream",
     "text": [
      "Results: mean: -58.7 +/- 139.2, min: -345.0 max: 66.0\n",
      "Total elapsed time: 23.88 minutes\n",
      "\n",
      "Epoch #5\n"
     ]
    },
    {
     "name": "stderr",
     "output_type": "stream",
     "text": [
      "                                                                                                                       \r"
     ]
    },
    {
     "name": "stdout",
     "output_type": "stream",
     "text": [
      "Results: mean: -10.5 +/- 104.8, min: -345.0, max: 66.0,\n",
      "\n",
      "Testing...\n"
     ]
    },
    {
     "name": "stderr",
     "output_type": "stream",
     "text": [
      "                                                                                                                       \r"
     ]
    },
    {
     "name": "stdout",
     "output_type": "stream",
     "text": [
      "Results: mean: -20.4 +/- 111.7, min: -325.0 max: 66.0\n",
      "Total elapsed time: 30.25 minutes\n",
      "\n",
      "Epoch #6\n"
     ]
    },
    {
     "name": "stderr",
     "output_type": "stream",
     "text": [
      "                                                                                                                       \r"
     ]
    },
    {
     "name": "stdout",
     "output_type": "stream",
     "text": [
      "Results: mean: 2.6 +/- 105.2, min: -365.0, max: 66.0,\n",
      "\n",
      "Testing...\n"
     ]
    },
    {
     "name": "stderr",
     "output_type": "stream",
     "text": [
      "                                                                                                                       \r"
     ]
    },
    {
     "name": "stdout",
     "output_type": "stream",
     "text": [
      "Results: mean: 13.6 +/- 76.4, min: -360.0 max: 66.0\n",
      "Total elapsed time: 36.68 minutes\n",
      "\n",
      "Epoch #7\n"
     ]
    },
    {
     "name": "stderr",
     "output_type": "stream",
     "text": [
      "                                                                                                                       \r"
     ]
    },
    {
     "name": "stdout",
     "output_type": "stream",
     "text": [
      "Results: mean: 29.0 +/- 62.9, min: -355.0, max: 66.0,\n",
      "\n",
      "Testing...\n"
     ]
    },
    {
     "name": "stderr",
     "output_type": "stream",
     "text": [
      "                                                                                                                       \r"
     ]
    },
    {
     "name": "stdout",
     "output_type": "stream",
     "text": [
      "Results: mean: 31.4 +/- 72.5, min: -360.0 max: 66.0\n",
      "Total elapsed time: 42.86 minutes\n",
      "\n",
      "Epoch #8\n"
     ]
    },
    {
     "name": "stderr",
     "output_type": "stream",
     "text": [
      "                                                                                                                       \r"
     ]
    },
    {
     "name": "stdout",
     "output_type": "stream",
     "text": [
      "Results: mean: 37.8 +/- 59.3, min: -340.0, max: 66.0,\n",
      "\n",
      "Testing...\n"
     ]
    },
    {
     "name": "stderr",
     "output_type": "stream",
     "text": [
      "                                                                                                                       \r"
     ]
    },
    {
     "name": "stdout",
     "output_type": "stream",
     "text": [
      "Results: mean: 8.6 +/- 100.1, min: -370.0 max: 66.0\n",
      "Total elapsed time: 49.16 minutes\n",
      "\n",
      "Epoch #9\n"
     ]
    },
    {
     "name": "stderr",
     "output_type": "stream",
     "text": [
      "                                                                                                                       \r"
     ]
    },
    {
     "name": "stdout",
     "output_type": "stream",
     "text": [
      "Results: mean: 16.1 +/- 81.8, min: -355.0, max: 66.0,\n",
      "\n",
      "Testing...\n"
     ]
    },
    {
     "name": "stderr",
     "output_type": "stream",
     "text": [
      "                                                                                                                       \r"
     ]
    },
    {
     "name": "stdout",
     "output_type": "stream",
     "text": [
      "Results: mean: 31.0 +/- 73.3, min: -340.0 max: 66.0\n",
      "Total elapsed time: 54.79 minutes\n",
      "\n",
      "Epoch #10\n"
     ]
    },
    {
     "name": "stderr",
     "output_type": "stream",
     "text": [
      "                                                                                                                       \r"
     ]
    },
    {
     "name": "stdout",
     "output_type": "stream",
     "text": [
      "Results: mean: 2.0 +/- 73.4, min: -365.0, max: 66.0,\n",
      "\n",
      "Testing...\n"
     ]
    },
    {
     "name": "stderr",
     "output_type": "stream",
     "text": [
      "\u001b[32m[I 2023-05-05 23:29:16,114]\u001b[0m Trial 92 finished with value: 5.72 and parameters: {'learning_rate': 0.005532909694026487, 'batch_size': 128, 'replay_memory_size': 5000, 'discount_factor': 0.8484648085679887, 'frame_repeat': 12, 'optimizer': 'Adam', 'epsilon_decay': 0.9950791290512413}. Best is trial 90 with value: 34.23.\u001b[0m\n"
     ]
    },
    {
     "name": "stdout",
     "output_type": "stream",
     "text": [
      "Results: mean: 5.7 +/- 62.5, min: -340.0 max: 66.0\n",
      "Total elapsed time: 61.50 minutes\n",
      "\n",
      "Learning rate: 0.004953741211638763, Batch size: 128, Replay memory size: 7000,\n",
      "Discount factor: 0.9108311415439808, Frame repeat: 12, Optimizer: Adam, \n",
      "Epsilon decay: 0.9962674610953403\n",
      "\n",
      "Initializing doom...\n",
      "Doom initialized.\n",
      "Initializing New Model\n",
      "\n",
      "Epoch #1\n"
     ]
    },
    {
     "name": "stderr",
     "output_type": "stream",
     "text": [
      "                                                                                                                       \r"
     ]
    },
    {
     "name": "stdout",
     "output_type": "stream",
     "text": [
      "Results: mean: -229.1 +/- 134.2, min: -355.0, max: 66.0,\n",
      "\n",
      "Testing...\n"
     ]
    },
    {
     "name": "stderr",
     "output_type": "stream",
     "text": [
      "                                                                                                                       \r"
     ]
    },
    {
     "name": "stdout",
     "output_type": "stream",
     "text": [
      "Results: mean: -281.2 +/- 90.7, min: -365.0 max: 66.0\n",
      "Total elapsed time: 9.22 minutes\n",
      "\n",
      "Epoch #2\n"
     ]
    },
    {
     "name": "stderr",
     "output_type": "stream",
     "text": [
      "                                                                                                                       \r"
     ]
    },
    {
     "name": "stdout",
     "output_type": "stream",
     "text": [
      "Results: mean: -159.9 +/- 172.5, min: -360.0, max: 66.0,\n",
      "\n",
      "Testing...\n"
     ]
    },
    {
     "name": "stderr",
     "output_type": "stream",
     "text": [
      "                                                                                                                       \r"
     ]
    },
    {
     "name": "stdout",
     "output_type": "stream",
     "text": [
      "Results: mean: -155.3 +/- 144.7, min: -345.0 max: 66.0\n",
      "Total elapsed time: 17.58 minutes\n",
      "\n",
      "Epoch #3\n"
     ]
    },
    {
     "name": "stderr",
     "output_type": "stream",
     "text": [
      "                                                                                                                       \r"
     ]
    },
    {
     "name": "stdout",
     "output_type": "stream",
     "text": [
      "Results: mean: -57.4 +/- 155.3, min: -360.0, max: 66.0,\n",
      "\n",
      "Testing...\n"
     ]
    },
    {
     "name": "stderr",
     "output_type": "stream",
     "text": [
      "                                                                                                                       \r"
     ]
    },
    {
     "name": "stdout",
     "output_type": "stream",
     "text": [
      "Results: mean: -66.0 +/- 140.9, min: -350.0 max: 66.0\n",
      "Total elapsed time: 24.63 minutes\n",
      "\n",
      "Epoch #4\n"
     ]
    },
    {
     "name": "stderr",
     "output_type": "stream",
     "text": [
      "                                                                                                                       \r"
     ]
    },
    {
     "name": "stdout",
     "output_type": "stream",
     "text": [
      "Results: mean: 10.0 +/- 92.5, min: -360.0, max: 66.0,\n",
      "\n",
      "Testing...\n"
     ]
    },
    {
     "name": "stderr",
     "output_type": "stream",
     "text": [
      "                                                                                                                       \r"
     ]
    },
    {
     "name": "stdout",
     "output_type": "stream",
     "text": [
      "Results: mean: -15.2 +/- 86.8, min: -345.0 max: 66.0\n",
      "Total elapsed time: 31.43 minutes\n",
      "\n",
      "Epoch #5\n"
     ]
    },
    {
     "name": "stderr",
     "output_type": "stream",
     "text": [
      "                                                                                                                       \r"
     ]
    },
    {
     "name": "stdout",
     "output_type": "stream",
     "text": [
      "Results: mean: 8.1 +/- 76.8, min: -350.0, max: 66.0,\n",
      "\n",
      "Testing...\n"
     ]
    },
    {
     "name": "stderr",
     "output_type": "stream",
     "text": [
      "                                                                                                                       \r"
     ]
    },
    {
     "name": "stdout",
     "output_type": "stream",
     "text": [
      "Results: mean: 9.8 +/- 72.9, min: -350.0 max: 66.0\n",
      "Total elapsed time: 37.96 minutes\n",
      "\n",
      "Epoch #6\n"
     ]
    },
    {
     "name": "stderr",
     "output_type": "stream",
     "text": [
      "                                                                                                                       \r"
     ]
    },
    {
     "name": "stdout",
     "output_type": "stream",
     "text": [
      "Results: mean: 12.8 +/- 66.4, min: -365.0, max: 66.0,\n",
      "\n",
      "Testing...\n"
     ]
    },
    {
     "name": "stderr",
     "output_type": "stream",
     "text": [
      "                                                                                                                       \r"
     ]
    },
    {
     "name": "stdout",
     "output_type": "stream",
     "text": [
      "Results: mean: 16.8 +/- 40.6, min: -176.0 max: 66.0\n",
      "Total elapsed time: 44.15 minutes\n",
      "\n",
      "Epoch #7\n"
     ]
    },
    {
     "name": "stderr",
     "output_type": "stream",
     "text": [
      "                                                                                                                       \r"
     ]
    },
    {
     "name": "stdout",
     "output_type": "stream",
     "text": [
      "Results: mean: 24.7 +/- 67.6, min: -365.0, max: 66.0,\n",
      "\n",
      "Testing...\n"
     ]
    },
    {
     "name": "stderr",
     "output_type": "stream",
     "text": [
      "                                                                                                                       \r"
     ]
    },
    {
     "name": "stdout",
     "output_type": "stream",
     "text": [
      "Results: mean: 16.3 +/- 78.7, min: -365.0 max: 66.0\n",
      "Total elapsed time: 47.24 minutes\n",
      "\n",
      "Epoch #8\n"
     ]
    },
    {
     "name": "stderr",
     "output_type": "stream",
     "text": [
      "                                                                                                                       \r"
     ]
    },
    {
     "name": "stdout",
     "output_type": "stream",
     "text": [
      "Results: mean: 15.0 +/- 69.6, min: -370.0, max: 66.0,\n",
      "\n",
      "Testing...\n"
     ]
    },
    {
     "name": "stderr",
     "output_type": "stream",
     "text": [
      "                                                                                                                       \r"
     ]
    },
    {
     "name": "stdout",
     "output_type": "stream",
     "text": [
      "Results: mean: 16.9 +/- 76.6, min: -350.0 max: 66.0\n",
      "Total elapsed time: 49.68 minutes\n",
      "\n",
      "Epoch #9\n"
     ]
    },
    {
     "name": "stderr",
     "output_type": "stream",
     "text": [
      "                                                                                                                       \r"
     ]
    },
    {
     "name": "stdout",
     "output_type": "stream",
     "text": [
      "Results: mean: 13.6 +/- 82.1, min: -360.0, max: 66.0,\n",
      "\n",
      "Testing...\n"
     ]
    },
    {
     "name": "stderr",
     "output_type": "stream",
     "text": [
      "                                                                                                                       \r"
     ]
    },
    {
     "name": "stdout",
     "output_type": "stream",
     "text": [
      "Results: mean: 28.0 +/- 51.1, min: -345.0 max: 66.0\n",
      "Total elapsed time: 52.09 minutes\n",
      "\n",
      "Epoch #10\n"
     ]
    },
    {
     "name": "stderr",
     "output_type": "stream",
     "text": [
      "                                                                                                                       \r"
     ]
    },
    {
     "name": "stdout",
     "output_type": "stream",
     "text": [
      "Results: mean: 2.8 +/- 79.2, min: -360.0, max: 66.0,\n",
      "\n",
      "Testing...\n"
     ]
    },
    {
     "name": "stderr",
     "output_type": "stream",
     "text": [
      "\u001b[32m[I 2023-05-06 00:24:02,719]\u001b[0m Trial 93 finished with value: 17.9 and parameters: {'learning_rate': 0.004953741211638763, 'batch_size': 128, 'replay_memory_size': 7000, 'discount_factor': 0.9108311415439808, 'frame_repeat': 12, 'optimizer': 'Adam', 'epsilon_decay': 0.9962674610953403}. Best is trial 90 with value: 34.23.\u001b[0m\n"
     ]
    },
    {
     "name": "stdout",
     "output_type": "stream",
     "text": [
      "Results: mean: 17.9 +/- 51.9, min: -300.0 max: 66.0\n",
      "Total elapsed time: 54.76 minutes\n",
      "\n",
      "Learning rate: 0.004751343150788321, Batch size: 128, Replay memory size: 6000,\n",
      "Discount factor: 0.9024701982854604, Frame repeat: 12, Optimizer: Adam, \n",
      "Epsilon decay: 0.9962996347351964\n",
      "\n",
      "Initializing doom...\n",
      "Doom initialized.\n",
      "Initializing New Model\n",
      "\n",
      "Epoch #1\n"
     ]
    },
    {
     "name": "stderr",
     "output_type": "stream",
     "text": [
      "                                                                                                                       \r"
     ]
    },
    {
     "name": "stdout",
     "output_type": "stream",
     "text": [
      "Results: mean: -202.6 +/- 147.2, min: -360.0, max: 66.0,\n",
      "\n",
      "Testing...\n"
     ]
    },
    {
     "name": "stderr",
     "output_type": "stream",
     "text": [
      "                                                                                                                       \r"
     ]
    },
    {
     "name": "stdout",
     "output_type": "stream",
     "text": [
      "Results: mean: -264.8 +/- 96.1, min: -345.0 max: 42.0\n",
      "Total elapsed time: 5.84 minutes\n",
      "\n",
      "Epoch #2\n"
     ]
    },
    {
     "name": "stderr",
     "output_type": "stream",
     "text": [
      "                                                                                                                       \r"
     ]
    },
    {
     "name": "stdout",
     "output_type": "stream",
     "text": [
      "Results: mean: -214.1 +/- 136.0, min: -370.0, max: 66.0,\n",
      "\n",
      "Testing...\n"
     ]
    },
    {
     "name": "stderr",
     "output_type": "stream",
     "text": [
      "                                                                                                                       \r"
     ]
    },
    {
     "name": "stdout",
     "output_type": "stream",
     "text": [
      "Results: mean: -240.1 +/- 125.8, min: -360.0 max: 66.0\n",
      "Total elapsed time: 13.50 minutes\n",
      "\n",
      "Epoch #3\n"
     ]
    },
    {
     "name": "stderr",
     "output_type": "stream",
     "text": [
      "                                                                                                                       \r"
     ]
    },
    {
     "name": "stdout",
     "output_type": "stream",
     "text": [
      "Results: mean: -32.3 +/- 136.3, min: -345.0, max: 66.0,\n",
      "\n",
      "Testing...\n"
     ]
    },
    {
     "name": "stderr",
     "output_type": "stream",
     "text": [
      "                                                                                                                       \r"
     ]
    },
    {
     "name": "stdout",
     "output_type": "stream",
     "text": [
      "Results: mean: 4.1 +/- 117.4, min: -350.0 max: 66.0\n",
      "Total elapsed time: 16.39 minutes\n",
      "\n",
      "Epoch #4\n"
     ]
    },
    {
     "name": "stderr",
     "output_type": "stream",
     "text": [
      "                                                                                                                       \r"
     ]
    },
    {
     "name": "stdout",
     "output_type": "stream",
     "text": [
      "Results: mean: 15.3 +/- 88.3, min: -340.0, max: 66.0,\n",
      "\n",
      "Testing...\n"
     ]
    },
    {
     "name": "stderr",
     "output_type": "stream",
     "text": [
      "                                                                                                                       \r"
     ]
    },
    {
     "name": "stdout",
     "output_type": "stream",
     "text": [
      "Results: mean: -7.7 +/- 127.4, min: -355.0 max: 66.0\n",
      "Total elapsed time: 20.18 minutes\n",
      "\n",
      "Epoch #5\n"
     ]
    },
    {
     "name": "stderr",
     "output_type": "stream",
     "text": [
      "                                                                                                                       \r"
     ]
    },
    {
     "name": "stdout",
     "output_type": "stream",
     "text": [
      "Results: mean: 18.9 +/- 68.2, min: -330.0, max: 66.0,\n",
      "\n",
      "Testing...\n"
     ]
    },
    {
     "name": "stderr",
     "output_type": "stream",
     "text": [
      "                                                                                                                       \r"
     ]
    },
    {
     "name": "stdout",
     "output_type": "stream",
     "text": [
      "Results: mean: 9.7 +/- 59.2, min: -340.0 max: 66.0\n",
      "Total elapsed time: 24.40 minutes\n",
      "\n",
      "Epoch #6\n"
     ]
    },
    {
     "name": "stderr",
     "output_type": "stream",
     "text": [
      "                                                                                                                       \r"
     ]
    },
    {
     "name": "stdout",
     "output_type": "stream",
     "text": [
      "Results: mean: 26.1 +/- 70.4, min: -350.0, max: 66.0,\n",
      "\n",
      "Testing...\n"
     ]
    },
    {
     "name": "stderr",
     "output_type": "stream",
     "text": [
      "                                                                                                                       \r"
     ]
    },
    {
     "name": "stdout",
     "output_type": "stream",
     "text": [
      "Results: mean: 25.0 +/- 82.0, min: -350.0 max: 66.0\n",
      "Total elapsed time: 28.44 minutes\n",
      "\n",
      "Epoch #7\n"
     ]
    },
    {
     "name": "stderr",
     "output_type": "stream",
     "text": [
      "                                                                                                                       \r"
     ]
    },
    {
     "name": "stdout",
     "output_type": "stream",
     "text": [
      "Results: mean: 21.3 +/- 76.9, min: -365.0, max: 66.0,\n",
      "\n",
      "Testing...\n"
     ]
    },
    {
     "name": "stderr",
     "output_type": "stream",
     "text": [
      "                                                                                                                       \r"
     ]
    },
    {
     "name": "stdout",
     "output_type": "stream",
     "text": [
      "Results: mean: 36.1 +/- 62.9, min: -325.0 max: 66.0\n",
      "Total elapsed time: 31.82 minutes\n",
      "\n",
      "Epoch #8\n"
     ]
    },
    {
     "name": "stderr",
     "output_type": "stream",
     "text": [
      "                                                                                                                       \r"
     ]
    },
    {
     "name": "stdout",
     "output_type": "stream",
     "text": [
      "Results: mean: 29.7 +/- 66.0, min: -335.0, max: 66.0,\n",
      "\n",
      "Testing...\n"
     ]
    },
    {
     "name": "stderr",
     "output_type": "stream",
     "text": [
      "                                                                                                                       \r"
     ]
    },
    {
     "name": "stdout",
     "output_type": "stream",
     "text": [
      "Results: mean: 23.0 +/- 90.7, min: -350.0 max: 66.0\n",
      "Total elapsed time: 34.54 minutes\n",
      "\n",
      "Epoch #9\n"
     ]
    },
    {
     "name": "stderr",
     "output_type": "stream",
     "text": [
      "                                                                                                                       \r"
     ]
    },
    {
     "name": "stdout",
     "output_type": "stream",
     "text": [
      "Results: mean: -11.5 +/- 95.0, min: -355.0, max: 66.0,\n",
      "\n",
      "Testing...\n"
     ]
    },
    {
     "name": "stderr",
     "output_type": "stream",
     "text": [
      "                                                                                                                       \r"
     ]
    },
    {
     "name": "stdout",
     "output_type": "stream",
     "text": [
      "Results: mean: -41.9 +/- 120.3, min: -360.0 max: 66.0\n",
      "Total elapsed time: 40.85 minutes\n",
      "\n",
      "Epoch #10\n"
     ]
    },
    {
     "name": "stderr",
     "output_type": "stream",
     "text": [
      " 59%|██████████████████████████████████████████████▎                               | 1187/2000 [02:28<01:33,  8.69it/s]"
     ]
    }
   ],
   "source": [
    "import optuna\n",
    "from optuna import Trial\n",
    "from optuna.samplers import TPESampler\n",
    "from models import *\n",
    "from main import train_agent\n",
    "\n",
    "\n",
    "def objective(trial: Trial) -> float:\n",
    "    # Define the hyperparameters to tune\n",
    "    learning_rate = trial.suggest_float(\"learning_rate\", 0.001, 0.1, log=True)\n",
    "    batch_size = trial.suggest_categorical(\"batch_size\", [32, 64, 128])\n",
    "    replay_memory_size = trial.suggest_int(\"replay_memory_size\", 1000, 10000, step=1000)\n",
    "    discount_factor = trial.suggest_float(\"discount_factor\", 0.1, 0.99)\n",
    "    frame_repeat = trial.suggest_categorical(\"frame_repeat\", [4, 8, 12, 16, 20])\n",
    "    optim_ = trial.suggest_categorical(\"optimizer\", [\"SGD\", \"Adam\"])\n",
    "    epsilon_decay = trial.suggest_float(\"epsilon_decay\",0.9900,0.9999)\n",
    "    \n",
    "     # Print the hyperparameters being currently tested\n",
    "    print(f\"\\nLearning rate: {learning_rate}, Batch size: {batch_size}, Replay memory size: {replay_memory_size},\\n\"\n",
    "          f\"Discount factor: {discount_factor}, Frame repeat: {frame_repeat}, Optimizer: {optim_}, \\n\"\n",
    "          f\"Epsilon decay: {epsilon_decay}\\n\")\n",
    "\n",
    "\n",
    "    # Initialize game and actions\n",
    "    game = create_simple_game()\n",
    "    n = game.get_available_buttons_size()\n",
    "    actions = [list(a) for a in it.product([0, 1], repeat=n)]\n",
    "\n",
    "    # Initialize our agent with the set hyperparameters\n",
    "    agent = DDQNAgent(\n",
    "        len(actions),\n",
    "        lr=learning_rate,\n",
    "        batch_size=batch_size,\n",
    "        memory_size=replay_memory_size,\n",
    "        discount_factor=discount_factor,\n",
    "        epsilon_decay = epsilon_decay,\n",
    "        optimizer=optim_,\n",
    "        load_model = load_model\n",
    "    )\n",
    "\n",
    "    # Run the training for the set number of epochs\n",
    "    agent, game,test_scores = train_agent(\n",
    "        game,\n",
    "        agent,\n",
    "        actions,\n",
    "        num_epochs=10,\n",
    "        frame_repeat=frame_repeat,\n",
    "        steps_per_epoch=2000,\n",
    "    )\n",
    "\n",
    "    return test_scores.mean()\n",
    "\n",
    "# Set up the Optuna study\n",
    "study = optuna.create_study(direction=\"maximize\", sampler=TPESampler())\n",
    "\n",
    "# Run the optimization\n",
    "study.optimize(objective, n_trials=100)\n",
    "\n",
    "# Print the best hyperparameters and the corresponding score\n",
    "print(\"Best hyperparameters: \", study.best_params)\n",
    "print(\"Best score: \", study.best_value)\n",
    "    \n",
    "    \n",
    "\n",
    "\n"
   ]
  }
 ],
 "metadata": {
  "kernelspec": {
   "display_name": "Python 3 (ipykernel)",
   "language": "python",
   "name": "python3"
  },
  "language_info": {
   "codemirror_mode": {
    "name": "ipython",
    "version": 3
   },
   "file_extension": ".py",
   "mimetype": "text/x-python",
   "name": "python",
   "nbconvert_exporter": "python",
   "pygments_lexer": "ipython3",
   "version": "3.9.16"
  }
 },
 "nbformat": 4,
 "nbformat_minor": 5
}
